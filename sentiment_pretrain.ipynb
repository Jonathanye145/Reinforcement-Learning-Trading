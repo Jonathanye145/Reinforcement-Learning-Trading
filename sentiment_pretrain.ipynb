{
 "cells": [
  {
   "cell_type": "code",
   "execution_count": null,
   "id": "accd5023",
   "metadata": {},
   "outputs": [
    {
     "name": "stderr",
     "output_type": "stream",
     "text": [
      "/home/jonye/anaconda3/envs/llm/lib/python3.12/site-packages/tqdm/auto.py:21: TqdmWarning: IProgress not found. Please update jupyter and ipywidgets. See https://ipywidgets.readthedocs.io/en/stable/user_install.html\n",
      "  from .autonotebook import tqdm as notebook_tqdm\n"
     ]
    },
    {
     "name": "stdout",
     "output_type": "stream",
     "text": [
      "Using device: cuda\n"
     ]
    },
    {
     "name": "stderr",
     "output_type": "stream",
     "text": [
      "/tmp/ipykernel_167796/1774218465.py:26: DtypeWarning: Columns (2,4,5,6) have mixed types. Specify dtype option on import or set low_memory=False.\n",
      "  df = pd.read_csv(finance_news)\n"
     ]
    },
    {
     "name": "stdout",
     "output_type": "stream",
     "text": [
      "Initial row count: 13057514\n"
     ]
    },
    {
     "data": {
      "text/plain": [
       "160"
      ]
     },
     "execution_count": 1,
     "metadata": {},
     "output_type": "execute_result"
    }
   ],
   "source": [
    "import pandas as pd\n",
    "import os\n",
    "from tqdm import tqdm\n",
    "import gc\n",
    "from transformers import AutoTokenizer, AutoModelForSequenceClassification\n",
    "import torch\n",
    "import numpy as np\n",
    "from torch.utils.data import DataLoader, Dataset\n",
    "from torch.cuda.amp import autocast\n",
    "import kagglehub\n",
    "from kagglehub import KaggleDatasetAdapter\n",
    "\n",
    "# Check for GPU availability\n",
    "device = torch.device(\"cuda\" if torch.cuda.is_available() else \"cpu\")\n",
    "print(f\"Using device: {device}\")\n",
    "\n",
    "# Construct relative path\n",
    "finance_news = os.path.join(\".\", \"FINANCIAL NEWS\", \"finance_data.csv\")\n",
    "\n",
    "# Minimal file path check\n",
    "if not os.path.exists(finance_news):\n",
    "    print(f\"File not found at: {os.path.abspath(finance_news)}\")\n",
    "    print(\"Current working directory:\", os.getcwd())\n",
    "    print(\"Directory contents:\", os.listdir(os.getcwd()))\n",
    "    exit()\n",
    "\n",
    "# Read the CSV file\n",
    "df = pd.read_csv(finance_news)\n",
    "\n",
    "# Verify row count\n",
    "initial_rows = len(df)\n",
    "print(f\"Initial row count: {initial_rows}\")\n",
    "\n",
    "# Verify and process columns\n",
    "required_columns = ['Date', 'Article_title', 'Stock_symbol', 'Article']\n",
    "if not all(col in df.columns for col in required_columns):\n",
    "    print(\"Error: Missing required columns. Available columns:\", list(df.columns))\n",
    "    exit()\n",
    "\n",
    "# Keep only required columns\n",
    "df = df[['Date', 'Article_title', 'Stock_symbol', 'Article']]\n",
    "\n",
    "df['text'] = df['Article_title'].astype(str) + ' ' + df['Article'].fillna('').astype(str)\n",
    "# Create df1 and drop original columns\n",
    "df1 = df[['Date', 'Stock_symbol', 'text']].copy()\n",
    "\n",
    "# Clear df to free memory\n",
    "del df\n",
    "gc.collect()"
   ]
  },
  {
   "cell_type": "code",
   "execution_count": null,
   "id": "659cb418",
   "metadata": {},
   "outputs": [
    {
     "name": "stderr",
     "output_type": "stream",
     "text": [
      "Processing chunks:   0%|          | 0/131 [00:00<?, ?it/s]"
     ]
    },
    {
     "name": "stdout",
     "output_type": "stream",
     "text": [
      "output of the model SequenceClassifierOutput(loss=None, logits=tensor([[-0.0068, -0.9526,  1.2002],\n",
      "        [ 0.1642, -1.1592,  1.1045],\n",
      "        [-0.5542, -0.4067,  1.5811],\n",
      "        ...,\n",
      "        [ 1.8311, -2.1484, -0.8320],\n",
      "        [ 1.9365, -2.2324, -1.1055],\n",
      "        [-0.8936, -1.0674,  2.5117]], device='cuda:0', dtype=torch.float16), hidden_states=None, attentions=None)\n"
     ]
    },
    {
     "name": "stderr",
     "output_type": "stream",
     "text": []
    },
    {
     "name": "stdout",
     "output_type": "stream",
     "text": [
      "output of the model SequenceClassifierOutput(loss=None, logits=tensor([[-0.4700, -1.2344,  1.8809],\n",
      "        [ 2.0137, -2.2109, -1.0596],\n",
      "        [-1.2939, -0.2571,  2.3633],\n",
      "        ...,\n",
      "        [-1.5635,  1.8340,  0.6035],\n",
      "        [-0.5322, -1.7080,  2.4824],\n",
      "        [ 1.4062, -1.4688, -0.0137]], device='cuda:0', dtype=torch.float16), hidden_states=None, attentions=None)\n"
     ]
    },
    {
     "name": "stderr",
     "output_type": "stream",
     "text": []
    },
    {
     "name": "stdout",
     "output_type": "stream",
     "text": [
      "output of the model SequenceClassifierOutput(loss=None, logits=tensor([[-0.8091, -0.0350,  1.2676],\n",
      "        [-1.4023,  2.1719,  0.0705],\n",
      "        [-1.0625,  0.0509,  1.9209],\n",
      "        ...,\n",
      "        [-0.3035, -1.9092,  2.4355],\n",
      "        [-1.0732,  2.1719, -1.0615],\n",
      "        [-1.3369,  2.3750, -0.8403]], device='cuda:0', dtype=torch.float16), hidden_states=None, attentions=None)\n"
     ]
    },
    {
     "name": "stderr",
     "output_type": "stream",
     "text": []
    },
    {
     "name": "stdout",
     "output_type": "stream",
     "text": [
      "output of the model SequenceClassifierOutput(loss=None, logits=tensor([[-1.3701,  2.5977, -1.0840],\n",
      "        [ 1.9854, -2.2676, -1.0547],\n",
      "        [-0.6753, -1.0645,  2.4434],\n",
      "        ...,\n",
      "        [-1.3018, -0.3940,  2.4648],\n",
      "        [-1.3320,  0.2744,  1.8682],\n",
      "        [ 0.5366, -1.6924,  1.0430]], device='cuda:0', dtype=torch.float16), hidden_states=None, attentions=None)\n"
     ]
    },
    {
     "name": "stderr",
     "output_type": "stream",
     "text": []
    },
    {
     "name": "stdout",
     "output_type": "stream",
     "text": [
      "output of the model SequenceClassifierOutput(loss=None, logits=tensor([[-1.2119,  0.9834,  0.8086],\n",
      "        [-1.5254,  0.2649,  2.1777],\n",
      "        [-0.7681,  1.9238, -1.1191],\n",
      "        ...,\n",
      "        [ 1.0586, -0.8877, -0.2913],\n",
      "        [ 0.3440, -1.5947,  1.7109],\n",
      "        [ 1.5459, -2.3848, -0.0776]], device='cuda:0', dtype=torch.float16), hidden_states=None, attentions=None)\n"
     ]
    },
    {
     "name": "stderr",
     "output_type": "stream",
     "text": []
    },
    {
     "name": "stdout",
     "output_type": "stream",
     "text": [
      "output of the model SequenceClassifierOutput(loss=None, logits=tensor([[-0.4663, -1.5928,  2.5547],\n",
      "        [ 1.0586, -0.8877, -0.2913],\n",
      "        [-1.5811,  2.9160, -1.1611],\n",
      "        ...,\n",
      "        [-1.3047,  2.6406, -1.2412],\n",
      "        [-0.8506,  2.6035, -1.9141],\n",
      "        [-0.4746, -0.5537,  1.4111]], device='cuda:0', dtype=torch.float16), hidden_states=None, attentions=None)\n"
     ]
    },
    {
     "name": "stderr",
     "output_type": "stream",
     "text": []
    },
    {
     "name": "stdout",
     "output_type": "stream",
     "text": [
      "output of the model SequenceClassifierOutput(loss=None, logits=tensor([[ 0.4722, -1.5596,  1.0830],\n",
      "        [-0.0955, -0.2195, -0.1835],\n",
      "        [-1.1260, -0.5381,  2.2266],\n",
      "        ...,\n",
      "        [ 0.6230,  0.3916, -1.7520],\n",
      "        [-0.5576, -1.5547,  2.3906],\n",
      "        [-0.9443,  2.6250, -1.7617]], device='cuda:0', dtype=torch.float16), hidden_states=None, attentions=None)\n"
     ]
    },
    {
     "name": "stderr",
     "output_type": "stream",
     "text": []
    },
    {
     "name": "stdout",
     "output_type": "stream",
     "text": [
      "output of the model SequenceClassifierOutput(loss=None, logits=tensor([[-1.6348,  2.8477, -0.8267],\n",
      "        [-0.5229, -1.3408,  2.4102],\n",
      "        [ 1.8213, -1.1719, -1.7832],\n",
      "        ...,\n",
      "        [-0.7832,  0.4404,  0.6055],\n",
      "        [ 1.9541, -1.8516, -1.4512],\n",
      "        [-1.4971,  0.2815,  2.0938]], device='cuda:0', dtype=torch.float16), hidden_states=None, attentions=None)\n"
     ]
    },
    {
     "name": "stderr",
     "output_type": "stream",
     "text": []
    },
    {
     "name": "stdout",
     "output_type": "stream",
     "text": [
      "output of the model SequenceClassifierOutput(loss=None, logits=tensor([[-1.4873,  0.3076,  2.0410],\n",
      "        [-1.2070,  1.3223,  0.6470],\n",
      "        [ 0.2308, -2.1875,  2.2305],\n",
      "        ...,\n",
      "        [-1.4707,  0.3196,  2.0312],\n",
      "        [-1.5977,  1.4521,  1.0137],\n",
      "        [ 1.4512, -1.1797, -1.1162]], device='cuda:0', dtype=torch.float16), hidden_states=None, attentions=None)\n"
     ]
    },
    {
     "name": "stderr",
     "output_type": "stream",
     "text": []
    },
    {
     "name": "stdout",
     "output_type": "stream",
     "text": [
      "output of the model SequenceClassifierOutput(loss=None, logits=tensor([[-0.9663,  0.9258,  0.8174],\n",
      "        [-0.8579, -1.0557,  2.4727],\n",
      "        [ 2.0684, -2.0391, -1.2754],\n",
      "        ...,\n",
      "        [ 0.6558, -1.8291,  1.2959],\n",
      "        [-1.3008,  1.7275, -0.0027],\n",
      "        [ 1.6963, -2.5918,  0.3489]], device='cuda:0', dtype=torch.float16), hidden_states=None, attentions=None)\n"
     ]
    },
    {
     "name": "stderr",
     "output_type": "stream",
     "text": []
    },
    {
     "name": "stdout",
     "output_type": "stream",
     "text": [
      "output of the model SequenceClassifierOutput(loss=None, logits=tensor([[-0.7783, -1.3135,  2.4316],\n",
      "        [ 0.7856, -2.3613,  1.5703],\n",
      "        [-0.5850, -1.3320,  2.5156],\n",
      "        ...,\n",
      "        [-0.5391,  1.2891, -0.4326],\n",
      "        [-1.4072,  2.1680, -0.5308],\n",
      "        [-1.1514, -0.1825,  2.1309]], device='cuda:0', dtype=torch.float16), hidden_states=None, attentions=None)\n"
     ]
    },
    {
     "name": "stderr",
     "output_type": "stream",
     "text": []
    },
    {
     "name": "stdout",
     "output_type": "stream",
     "text": [
      "output of the model SequenceClassifierOutput(loss=None, logits=tensor([[-1.0146, -0.2035,  1.9805],\n",
      "        [-0.7764,  0.9536, -0.0361],\n",
      "        [-1.3887,  2.4551, -0.8740],\n",
      "        ...,\n",
      "        [ 1.4043, -1.0537, -1.2783],\n",
      "        [-0.6191,  0.0084,  0.9414],\n",
      "        [-1.1680,  0.8750,  0.8818]], device='cuda:0', dtype=torch.float16), hidden_states=None, attentions=None)\n"
     ]
    },
    {
     "name": "stderr",
     "output_type": "stream",
     "text": []
    },
    {
     "name": "stdout",
     "output_type": "stream",
     "text": [
      "output of the model SequenceClassifierOutput(loss=None, logits=tensor([[ 1.6865, -1.2832, -1.5518],\n",
      "        [ 0.2659,  0.1342, -1.4297],\n",
      "        [-0.7314, -0.3276,  1.7607],\n",
      "        ...,\n",
      "        [-0.4504, -1.9424,  2.4219],\n",
      "        [ 1.8721, -2.8027,  0.2401],\n",
      "        [-0.5957, -0.6431,  1.8379]], device='cuda:0', dtype=torch.float16), hidden_states=None, attentions=None)\n"
     ]
    },
    {
     "name": "stderr",
     "output_type": "stream",
     "text": []
    },
    {
     "name": "stdout",
     "output_type": "stream",
     "text": [
      "output of the model SequenceClassifierOutput(loss=None, logits=tensor([[-0.1134, -0.9717,  1.6152],\n",
      "        [-0.3398, -0.2190,  0.7056],\n",
      "        [-1.6279,  2.4277, -0.4031],\n",
      "        ...,\n",
      "        [-1.7822,  2.6738, -0.1471],\n",
      "        [-1.7568,  2.6875, -0.2444],\n",
      "        [-1.7822,  2.6738, -0.1471]], device='cuda:0', dtype=torch.float16), hidden_states=None, attentions=None)\n"
     ]
    },
    {
     "name": "stderr",
     "output_type": "stream",
     "text": []
    },
    {
     "name": "stdout",
     "output_type": "stream",
     "text": [
      "output of the model SequenceClassifierOutput(loss=None, logits=tensor([[-1.8047,  2.6875, -0.1555],\n",
      "        [-1.8154,  3.0273, -0.8926],\n",
      "        [-1.7471,  2.6113, -0.1159],\n",
      "        ...,\n",
      "        [ 1.0566, -0.5703, -1.4990],\n",
      "        [ 1.4648, -2.6367,  0.4373],\n",
      "        [ 0.9946, -1.3242,  0.3513]], device='cuda:0', dtype=torch.float16), hidden_states=None, attentions=None)\n"
     ]
    },
    {
     "name": "stderr",
     "output_type": "stream",
     "text": []
    },
    {
     "name": "stdout",
     "output_type": "stream",
     "text": [
      "output of the model SequenceClassifierOutput(loss=None, logits=tensor([[ 0.9946, -1.3242,  0.3513],\n",
      "        [ 2.0430, -2.1328, -1.2734],\n",
      "        [-1.1357,  1.0664,  0.6948],\n",
      "        ...,\n",
      "        [ 1.8945, -2.6309,  0.0465],\n",
      "        [ 1.2578, -0.7661, -1.6367],\n",
      "        [ 1.9326, -2.1953, -1.1055]], device='cuda:0', dtype=torch.float16), hidden_states=None, attentions=None)\n"
     ]
    },
    {
     "name": "stderr",
     "output_type": "stream",
     "text": []
    },
    {
     "name": "stdout",
     "output_type": "stream",
     "text": [
      "output of the model SequenceClassifierOutput(loss=None, logits=tensor([[-0.6753, -1.0645,  2.4434],\n",
      "        [ 1.9150, -1.8525, -1.3555],\n",
      "        [-0.6753, -1.0645,  2.4434],\n",
      "        ...,\n",
      "        [ 1.8994, -1.2295, -1.7734],\n",
      "        [ 0.3921, -1.1533,  0.3025],\n",
      "        [ 0.7056, -0.3511, -1.3389]], device='cuda:0', dtype=torch.float16), hidden_states=None, attentions=None)\n"
     ]
    },
    {
     "name": "stderr",
     "output_type": "stream",
     "text": []
    },
    {
     "name": "stdout",
     "output_type": "stream",
     "text": [
      "output of the model SequenceClassifierOutput(loss=None, logits=tensor([[ 0.3394, -1.1865,  1.0762],\n",
      "        [-1.4580,  0.1829,  2.1484],\n",
      "        [-1.1787, -0.5913,  2.3535],\n",
      "        ...,\n",
      "        [-0.2123, -1.8926,  2.2852],\n",
      "        [ 0.1375, -0.1869, -0.4695],\n",
      "        [-1.0020,  2.0723, -0.7866]], device='cuda:0', dtype=torch.float16), hidden_states=None, attentions=None)\n"
     ]
    },
    {
     "name": "stderr",
     "output_type": "stream",
     "text": []
    },
    {
     "name": "stdout",
     "output_type": "stream",
     "text": [
      "output of the model SequenceClassifierOutput(loss=None, logits=tensor([[-0.0506, -2.0000,  2.2305],\n",
      "        [ 0.5591, -2.2676,  1.5469],\n",
      "        [ 1.7998, -2.5137, -0.4744],\n",
      "        ...,\n",
      "        [-0.7222,  1.9570, -1.2598],\n",
      "        [-1.1426, -0.5508,  2.2188],\n",
      "        [ 0.2654, -2.3789,  2.0859]], device='cuda:0', dtype=torch.float16), hidden_states=None, attentions=None)\n"
     ]
    },
    {
     "name": "stderr",
     "output_type": "stream",
     "text": []
    },
    {
     "name": "stdout",
     "output_type": "stream",
     "text": [
      "output of the model SequenceClassifierOutput(loss=None, logits=tensor([[ 1.8945, -2.0742, -1.1455],\n",
      "        [-0.9199, -0.9951,  2.4805],\n",
      "        [-0.5938,  0.4436,  0.5410],\n",
      "        ...,\n",
      "        [ 0.5293, -1.9902,  1.7227],\n",
      "        [-1.0596, -0.9253,  2.5996],\n",
      "        [-0.9302, -1.0322,  2.6289]], device='cuda:0', dtype=torch.float16), hidden_states=None, attentions=None)\n"
     ]
    },
    {
     "name": "stderr",
     "output_type": "stream",
     "text": []
    },
    {
     "name": "stdout",
     "output_type": "stream",
     "text": [
      "output of the model SequenceClassifierOutput(loss=None, logits=tensor([[ 0.1635,  0.1597, -1.1338],\n",
      "        [-1.9473,  2.0566,  0.9004],\n",
      "        [ 0.3843, -2.4355,  2.1953],\n",
      "        ...,\n",
      "        [ 2.0273, -1.4629, -1.7822],\n",
      "        [ 2.0098, -1.7686, -1.5117],\n",
      "        [ 0.9307, -2.6016,  1.5957]], device='cuda:0', dtype=torch.float16), hidden_states=None, attentions=None)\n"
     ]
    },
    {
     "name": "stderr",
     "output_type": "stream",
     "text": []
    },
    {
     "name": "stdout",
     "output_type": "stream",
     "text": [
      "output of the model SequenceClassifierOutput(loss=None, logits=tensor([[-1.7080,  0.9258,  1.8311],\n",
      "        [ 1.9795, -1.4092, -1.7188],\n",
      "        [-1.6055,  3.0039, -1.0801],\n",
      "        ...,\n",
      "        [ 0.2126, -2.2461,  2.1094],\n",
      "        [-1.5732,  2.7266, -0.9219],\n",
      "        [-1.4668, -0.1558,  2.2969]], device='cuda:0', dtype=torch.float16), hidden_states=None, attentions=None)\n"
     ]
    },
    {
     "name": "stderr",
     "output_type": "stream",
     "text": []
    },
    {
     "name": "stdout",
     "output_type": "stream",
     "text": [
      "output of the model SequenceClassifierOutput(loss=None, logits=tensor([[-0.1466, -1.6582,  2.2070],\n",
      "        [-0.2810, -1.8877,  2.4043],\n",
      "        [ 1.0947, -2.5703,  1.4082],\n",
      "        ...,\n",
      "        [-0.1974, -1.8984,  2.3906],\n",
      "        [-0.6826, -1.4238,  2.6035],\n",
      "        [ 1.2822, -1.1816, -1.2510]], device='cuda:0', dtype=torch.float16), hidden_states=None, attentions=None)\n"
     ]
    },
    {
     "name": "stderr",
     "output_type": "stream",
     "text": []
    },
    {
     "name": "stdout",
     "output_type": "stream",
     "text": [
      "output of the model SequenceClassifierOutput(loss=None, logits=tensor([[ 1.3984, -1.9727, -0.4846],\n",
      "        [-0.8184, -0.6138,  1.8887],\n",
      "        [ 1.8379, -2.7734,  0.1760],\n",
      "        ...,\n",
      "        [-0.8823, -0.6777,  2.3359],\n",
      "        [-1.0947,  2.0273, -0.5684],\n",
      "        [ 0.1552, -2.1914,  1.9639]], device='cuda:0', dtype=torch.float16), hidden_states=None, attentions=None)\n"
     ]
    },
    {
     "name": "stderr",
     "output_type": "stream",
     "text": []
    },
    {
     "name": "stdout",
     "output_type": "stream",
     "text": [
      "output of the model SequenceClassifierOutput(loss=None, logits=tensor([[-1.4248,  0.9502,  1.3174],\n",
      "        [-1.1865,  0.3137,  1.8818],\n",
      "        [ 1.7764, -2.0469, -0.9434],\n",
      "        ...,\n",
      "        [ 1.7812, -1.8896, -1.0889],\n",
      "        [-1.4277,  0.0887,  2.1953],\n",
      "        [ 1.3623, -1.2266, -1.3750]], device='cuda:0', dtype=torch.float16), hidden_states=None, attentions=None)\n"
     ]
    },
    {
     "name": "stderr",
     "output_type": "stream",
     "text": []
    },
    {
     "name": "stdout",
     "output_type": "stream",
     "text": [
      "output of the model SequenceClassifierOutput(loss=None, logits=tensor([[-0.0481,  0.2595, -0.7852],\n",
      "        [-1.2979, -0.3440,  2.1543],\n",
      "        [-1.4775,  0.2896,  2.0488],\n",
      "        ...,\n",
      "        [ 1.0430, -2.4961,  1.4023],\n",
      "        [ 1.7510, -2.5430, -0.0548],\n",
      "        [ 0.3867, -2.0410,  1.7363]], device='cuda:0', dtype=torch.float16), hidden_states=None, attentions=None)\n"
     ]
    },
    {
     "name": "stderr",
     "output_type": "stream",
     "text": []
    },
    {
     "name": "stdout",
     "output_type": "stream",
     "text": [
      "output of the model SequenceClassifierOutput(loss=None, logits=tensor([[-1.2119,  1.0674,  0.5918],\n",
      "        [-1.2500,  2.1914, -0.5972],\n",
      "        [-1.5176,  1.8916,  0.5347],\n",
      "        ...,\n",
      "        [ 1.3525, -2.6406,  1.0977],\n",
      "        [ 1.8271, -2.2285, -0.7603],\n",
      "        [ 1.1240, -2.4883,  1.3564]], device='cuda:0', dtype=torch.float16), hidden_states=None, attentions=None)\n"
     ]
    },
    {
     "name": "stderr",
     "output_type": "stream",
     "text": []
    },
    {
     "name": "stdout",
     "output_type": "stream",
     "text": [
      "output of the model SequenceClassifierOutput(loss=None, logits=tensor([[-2.4014e-03, -1.1406e+00,  1.4863e+00],\n",
      "        [-9.8730e-01, -1.6296e-01,  1.7432e+00],\n",
      "        [ 2.6221e-01, -1.5332e-01, -9.7900e-01],\n",
      "        ...,\n",
      "        [-1.4189e+00, -1.8762e-01,  2.4531e+00],\n",
      "        [-1.4189e+00, -1.8762e-01,  2.4531e+00],\n",
      "        [-6.3867e-01, -1.0820e+00,  2.2988e+00]], device='cuda:0',\n",
      "       dtype=torch.float16), hidden_states=None, attentions=None)\n"
     ]
    },
    {
     "name": "stderr",
     "output_type": "stream",
     "text": []
    },
    {
     "name": "stdout",
     "output_type": "stream",
     "text": [
      "output of the model SequenceClassifierOutput(loss=None, logits=tensor([[-0.6387, -1.0820,  2.2988],\n",
      "        [ 1.1426, -2.0645,  0.4299],\n",
      "        [-0.5747,  1.2715, -1.0635],\n",
      "        ...,\n",
      "        [ 1.6455, -2.2148, -0.4124],\n",
      "        [ 0.7476, -2.0195,  1.5732],\n",
      "        [-0.2505, -1.8721,  2.5312]], device='cuda:0', dtype=torch.float16), hidden_states=None, attentions=None)\n"
     ]
    },
    {
     "name": "stderr",
     "output_type": "stream",
     "text": []
    },
    {
     "name": "stdout",
     "output_type": "stream",
     "text": [
      "output of the model SequenceClassifierOutput(loss=None, logits=tensor([[ 1.6650, -2.0723, -0.7485],\n",
      "        [ 1.8379, -2.2324, -0.8862],\n",
      "        [ 0.0977,  0.3743, -1.1738],\n",
      "        ...,\n",
      "        [ 0.2620, -0.1240, -0.6812],\n",
      "        [ 0.0630, -1.6660,  1.7158],\n",
      "        [-0.6938,  1.8857, -1.4697]], device='cuda:0', dtype=torch.float16), hidden_states=None, attentions=None)\n"
     ]
    },
    {
     "name": "stderr",
     "output_type": "stream",
     "text": []
    },
    {
     "name": "stdout",
     "output_type": "stream",
     "text": [
      "output of the model SequenceClassifierOutput(loss=None, logits=tensor([[-1.0518,  0.3579,  1.3545],\n",
      "        [ 1.4727, -0.9375, -1.5547],\n",
      "        [-1.3447,  2.6699, -1.1797],\n",
      "        ...,\n",
      "        [-1.1055,  0.6328,  0.9927],\n",
      "        [-1.6865,  2.9434, -0.9678],\n",
      "        [-1.7266,  3.0625, -1.0762]], device='cuda:0', dtype=torch.float16), hidden_states=None, attentions=None)\n"
     ]
    },
    {
     "name": "stderr",
     "output_type": "stream",
     "text": []
    },
    {
     "name": "stdout",
     "output_type": "stream",
     "text": [
      "output of the model SequenceClassifierOutput(loss=None, logits=tensor([[-1.4990,  0.6182,  1.8066],\n",
      "        [-1.5576,  1.6162,  0.9316],\n",
      "        [-1.6807,  2.2461,  0.4468],\n",
      "        ...,\n",
      "        [-1.6064,  2.6895, -0.6680],\n",
      "        [-1.5967,  2.6777, -0.6680],\n",
      "        [-1.6123,  2.7012, -0.6641]], device='cuda:0', dtype=torch.float16), hidden_states=None, attentions=None)\n"
     ]
    },
    {
     "name": "stderr",
     "output_type": "stream",
     "text": []
    },
    {
     "name": "stdout",
     "output_type": "stream",
     "text": [
      "output of the model SequenceClassifierOutput(loss=None, logits=tensor([[ 0.6167, -1.0518,  0.0922],\n",
      "        [ 1.0312, -0.7563, -1.1797],\n",
      "        [-0.2625, -1.5068,  2.2148],\n",
      "        ...,\n",
      "        [-0.7231, -0.3198,  1.5312],\n",
      "        [-0.3167,  1.7510, -1.5752],\n",
      "        [-1.6025,  1.4941,  0.9614]], device='cuda:0', dtype=torch.float16), hidden_states=None, attentions=None)\n"
     ]
    },
    {
     "name": "stderr",
     "output_type": "stream",
     "text": []
    },
    {
     "name": "stdout",
     "output_type": "stream",
     "text": [
      "output of the model SequenceClassifierOutput(loss=None, logits=tensor([[ 0.2198, -2.0352,  2.2148],\n",
      "        [-0.6167, -1.2930,  2.5039],\n",
      "        [-0.7920, -0.9424,  2.3516],\n",
      "        ...,\n",
      "        [-0.6587, -0.7202,  1.6699],\n",
      "        [-0.4072, -1.7246,  2.3594],\n",
      "        [-1.0068, -0.6929,  2.3438]], device='cuda:0', dtype=torch.float16), hidden_states=None, attentions=None)\n"
     ]
    },
    {
     "name": "stderr",
     "output_type": "stream",
     "text": []
    },
    {
     "name": "stdout",
     "output_type": "stream",
     "text": [
      "output of the model SequenceClassifierOutput(loss=None, logits=tensor([[-1.1709, -0.6626,  2.5117],\n",
      "        [-1.1963,  0.0040,  1.9961],\n",
      "        [-0.3679, -1.7803,  2.3867],\n",
      "        ...,\n",
      "        [ 1.7207, -1.4551, -1.3887],\n",
      "        [-1.0264, -0.6172,  2.2109],\n",
      "        [-0.5669, -1.5654,  2.5254]], device='cuda:0', dtype=torch.float16), hidden_states=None, attentions=None)\n"
     ]
    },
    {
     "name": "stderr",
     "output_type": "stream",
     "text": []
    },
    {
     "name": "stdout",
     "output_type": "stream",
     "text": [
      "output of the model SequenceClassifierOutput(loss=None, logits=tensor([[-0.0179, -1.1816,  1.2002],\n",
      "        [-0.9526, -0.9180,  2.3242],\n",
      "        [ 1.3145, -2.6602,  0.9307],\n",
      "        ...,\n",
      "        [ 1.3262, -1.0723, -1.1680],\n",
      "        [ 0.0429,  0.0622, -0.4470],\n",
      "        [-1.8330,  2.4102, -0.0225]], device='cuda:0', dtype=torch.float16), hidden_states=None, attentions=None)\n"
     ]
    },
    {
     "name": "stderr",
     "output_type": "stream",
     "text": []
    },
    {
     "name": "stdout",
     "output_type": "stream",
     "text": [
      "output of the model SequenceClassifierOutput(loss=None, logits=tensor([[-0.5913, -1.3779,  2.4766],\n",
      "        [ 1.8506, -2.0488, -1.0596],\n",
      "        [-1.1953,  1.2451,  0.3274],\n",
      "        ...,\n",
      "        [-1.4854,  0.3982,  2.1289],\n",
      "        [-1.0166, -0.9302,  2.6250],\n",
      "        [-0.6040, -0.9072,  2.1855]], device='cuda:0', dtype=torch.float16), hidden_states=None, attentions=None)\n"
     ]
    },
    {
     "name": "stderr",
     "output_type": "stream",
     "text": []
    },
    {
     "name": "stdout",
     "output_type": "stream",
     "text": [
      "output of the model SequenceClassifierOutput(loss=None, logits=tensor([[ 1.1133, -1.2607, -0.0983],\n",
      "        [ 0.9946, -1.3242,  0.3513],\n",
      "        [-0.2617, -1.8936,  2.3164],\n",
      "        ...,\n",
      "        [ 1.7969, -1.0576, -1.8018],\n",
      "        [ 0.2891, -0.2881, -0.5229],\n",
      "        [-1.5156,  0.1470,  2.2734]], device='cuda:0', dtype=torch.float16), hidden_states=None, attentions=None)\n"
     ]
    },
    {
     "name": "stderr",
     "output_type": "stream",
     "text": []
    },
    {
     "name": "stdout",
     "output_type": "stream",
     "text": [
      "output of the model SequenceClassifierOutput(loss=None, logits=tensor([[-0.8047, -0.0285,  1.3867],\n",
      "        [-1.1299,  0.5059,  1.0068],\n",
      "        [ 0.4983, -1.8457,  1.2324],\n",
      "        ...,\n",
      "        [ 0.1356,  0.5000, -1.7168],\n",
      "        [-0.1763, -1.8643,  2.2480],\n",
      "        [ 1.5928, -2.4668,  0.0060]], device='cuda:0', dtype=torch.float16), hidden_states=None, attentions=None)\n"
     ]
    },
    {
     "name": "stderr",
     "output_type": "stream",
     "text": []
    },
    {
     "name": "stdout",
     "output_type": "stream",
     "text": [
      "output of the model SequenceClassifierOutput(loss=None, logits=tensor([[ 0.2051, -1.8789,  2.1211],\n",
      "        [ 0.6724, -1.6807,  0.4885],\n",
      "        [ 0.6235, -0.0715, -1.4473],\n",
      "        ...,\n",
      "        [ 0.3440, -1.5947,  1.7109],\n",
      "        [ 1.5615, -1.6133, -0.9199],\n",
      "        [ 0.5234, -0.6147, -0.1819]], device='cuda:0', dtype=torch.float16), hidden_states=None, attentions=None)\n"
     ]
    },
    {
     "name": "stderr",
     "output_type": "stream",
     "text": []
    },
    {
     "name": "stdout",
     "output_type": "stream",
     "text": [
      "output of the model SequenceClassifierOutput(loss=None, logits=tensor([[ 1.6807, -2.2266, -0.6167],\n",
      "        [ 1.3037, -2.1582,  0.3943],\n",
      "        [-0.8574,  1.8457, -1.0879],\n",
      "        ...,\n",
      "        [-0.1465, -1.7588,  2.1523],\n",
      "        [ 0.0226,  0.3911, -1.3242],\n",
      "        [ 1.6680, -2.7168,  0.5425]], device='cuda:0', dtype=torch.float16), hidden_states=None, attentions=None)\n"
     ]
    },
    {
     "name": "stderr",
     "output_type": "stream",
     "text": []
    },
    {
     "name": "stdout",
     "output_type": "stream",
     "text": [
      "output of the model SequenceClassifierOutput(loss=None, logits=tensor([[-0.0306, -0.0233,  0.2668],\n",
      "        [-0.6040, -0.9072,  2.1855],\n",
      "        [-0.8076, -1.2168,  2.5176],\n",
      "        ...,\n",
      "        [ 2.0410, -2.0977, -1.1338],\n",
      "        [ 0.9536, -2.4453,  1.1992],\n",
      "        [-0.2451, -1.1680,  1.6885]], device='cuda:0', dtype=torch.float16), hidden_states=None, attentions=None)\n"
     ]
    },
    {
     "name": "stderr",
     "output_type": "stream",
     "text": []
    },
    {
     "name": "stdout",
     "output_type": "stream",
     "text": [
      "output of the model SequenceClassifierOutput(loss=None, logits=tensor([[-0.5488, -1.7480,  2.5469],\n",
      "        [ 1.8340, -2.6973,  0.1957],\n",
      "        [-0.8662, -1.1074,  2.4668],\n",
      "        ...,\n",
      "        [ 1.8623, -2.2148, -0.5933],\n",
      "        [-0.3689, -1.5078,  2.3672],\n",
      "        [-0.1704, -1.8926,  2.3281]], device='cuda:0', dtype=torch.float16), hidden_states=None, attentions=None)\n"
     ]
    },
    {
     "name": "stderr",
     "output_type": "stream",
     "text": []
    },
    {
     "name": "stdout",
     "output_type": "stream",
     "text": [
      "output of the model SequenceClassifierOutput(loss=None, logits=tensor([[-0.2150, -1.8779,  2.2188],\n",
      "        [ 0.7607, -2.1621,  1.3291],\n",
      "        [-0.8853,  0.5400,  1.2803],\n",
      "        ...,\n",
      "        [-0.6475, -1.1357,  2.3145],\n",
      "        [-0.5913, -1.5615,  2.5312],\n",
      "        [-0.1946,  0.5078, -0.8555]], device='cuda:0', dtype=torch.float16), hidden_states=None, attentions=None)\n"
     ]
    },
    {
     "name": "stderr",
     "output_type": "stream",
     "text": []
    },
    {
     "name": "stdout",
     "output_type": "stream",
     "text": [
      "output of the model SequenceClassifierOutput(loss=None, logits=tensor([[ 0.7002, -1.8750,  1.4824],\n",
      "        [ 1.2354, -2.8496,  1.4561],\n",
      "        [ 0.2411, -2.3281,  2.2637],\n",
      "        ...,\n",
      "        [ 0.0773, -1.1895,  1.1982],\n",
      "        [-1.4316,  0.0715,  2.2500],\n",
      "        [ 1.0586, -2.3535,  1.0527]], device='cuda:0', dtype=torch.float16), hidden_states=None, attentions=None)\n"
     ]
    },
    {
     "name": "stderr",
     "output_type": "stream",
     "text": []
    },
    {
     "name": "stdout",
     "output_type": "stream",
     "text": [
      "output of the model SequenceClassifierOutput(loss=None, logits=tensor([[ 0.4512, -1.6143,  1.2656],\n",
      "        [-0.6831, -0.2852,  1.7666],\n",
      "        [ 1.2803, -2.4414,  0.6787],\n",
      "        ...,\n",
      "        [ 0.6079, -2.6543,  1.9424],\n",
      "        [ 1.2227, -2.3184,  0.6416],\n",
      "        [ 0.4009, -1.6660,  0.8281]], device='cuda:0', dtype=torch.float16), hidden_states=None, attentions=None)\n"
     ]
    },
    {
     "name": "stderr",
     "output_type": "stream",
     "text": []
    },
    {
     "name": "stdout",
     "output_type": "stream",
     "text": [
      "output of the model SequenceClassifierOutput(loss=None, logits=tensor([[ 0.4949, -2.5859,  2.0684],\n",
      "        [ 0.3850, -2.1484,  1.8818],\n",
      "        [ 1.8447, -2.7441,  0.2440],\n",
      "        ...,\n",
      "        [-1.0195,  0.5215,  0.9224],\n",
      "        [-0.8164,  2.6016, -1.9004],\n",
      "        [-0.4663,  0.3003,  0.2307]], device='cuda:0', dtype=torch.float16), hidden_states=None, attentions=None)\n"
     ]
    },
    {
     "name": "stderr",
     "output_type": "stream",
     "text": []
    },
    {
     "name": "stdout",
     "output_type": "stream",
     "text": [
      "output of the model SequenceClassifierOutput(loss=None, logits=tensor([[-0.6323,  0.1440,  0.7896],\n",
      "        [-0.2380, -1.2988,  1.7080],\n",
      "        [-1.1055,  0.3523,  1.3760],\n",
      "        ...,\n",
      "        [ 0.6318, -0.9941, -0.2192],\n",
      "        [ 1.9736, -2.3145, -0.7832],\n",
      "        [-1.5938,  0.3750,  1.9902]], device='cuda:0', dtype=torch.float16), hidden_states=None, attentions=None)\n"
     ]
    },
    {
     "name": "stderr",
     "output_type": "stream",
     "text": []
    },
    {
     "name": "stdout",
     "output_type": "stream",
     "text": [
      "output of the model SequenceClassifierOutput(loss=None, logits=tensor([[-0.8379, -1.0361,  2.1406],\n",
      "        [-1.1777, -0.5249,  2.2227],\n",
      "        [-0.5859, -1.3066,  2.5020],\n",
      "        ...,\n",
      "        [-0.6753, -1.2900,  2.5410],\n",
      "        [-1.2178, -0.0856,  2.2480],\n",
      "        [-0.7876, -1.5244,  2.6094]], device='cuda:0', dtype=torch.float16), hidden_states=None, attentions=None)\n"
     ]
    },
    {
     "name": "stderr",
     "output_type": "stream",
     "text": []
    },
    {
     "name": "stdout",
     "output_type": "stream",
     "text": [
      "output of the model SequenceClassifierOutput(loss=None, logits=tensor([[-1.3779,  0.3716,  1.9707],\n",
      "        [ 0.6587, -2.1523,  1.6025],\n",
      "        [-0.3411, -1.5879,  2.3652],\n",
      "        ...,\n",
      "        [ 1.6572, -0.9092, -1.7480],\n",
      "        [ 1.7305, -2.3594, -0.4739],\n",
      "        [ 1.3545, -2.1406, -0.1459]], device='cuda:0', dtype=torch.float16), hidden_states=None, attentions=None)\n"
     ]
    },
    {
     "name": "stderr",
     "output_type": "stream",
     "text": []
    },
    {
     "name": "stdout",
     "output_type": "stream",
     "text": [
      "output of the model SequenceClassifierOutput(loss=None, logits=tensor([[ 1.4277, -2.0801, -0.1667],\n",
      "        [ 0.0401, -0.3660,  0.2910],\n",
      "        [ 2.1113, -1.5518, -1.7754],\n",
      "        ...,\n",
      "        [ 0.6196, -2.0781,  1.5527],\n",
      "        [-0.8813, -1.1279,  2.6133],\n",
      "        [-0.0822, -2.0391,  2.3691]], device='cuda:0', dtype=torch.float16), hidden_states=None, attentions=None)\n"
     ]
    },
    {
     "name": "stderr",
     "output_type": "stream",
     "text": []
    },
    {
     "name": "stdout",
     "output_type": "stream",
     "text": [
      "output of the model SequenceClassifierOutput(loss=None, logits=tensor([[ 1.5273, -2.3340,  0.0793],\n",
      "        [ 1.7705, -2.1289, -0.8389],\n",
      "        [ 1.3232, -2.2500,  0.2612],\n",
      "        ...,\n",
      "        [-0.5449, -1.2256,  2.2129],\n",
      "        [-0.5249, -1.5674,  2.4180],\n",
      "        [-0.9209, -0.9634,  2.4512]], device='cuda:0', dtype=torch.float16), hidden_states=None, attentions=None)\n"
     ]
    },
    {
     "name": "stderr",
     "output_type": "stream",
     "text": []
    },
    {
     "name": "stdout",
     "output_type": "stream",
     "text": [
      "output of the model SequenceClassifierOutput(loss=None, logits=tensor([[-0.6704, -1.3232,  2.4258],\n",
      "        [ 0.8462, -2.5059,  1.4707],\n",
      "        [-0.9600, -0.7549,  1.9746],\n",
      "        ...,\n",
      "        [-0.6987,  0.3965,  0.5615],\n",
      "        [-1.8477,  1.7812,  1.0957],\n",
      "        [ 0.9297, -2.0859,  0.8418]], device='cuda:0', dtype=torch.float16), hidden_states=None, attentions=None)\n"
     ]
    },
    {
     "name": "stderr",
     "output_type": "stream",
     "text": []
    },
    {
     "name": "stdout",
     "output_type": "stream",
     "text": [
      "output of the model SequenceClassifierOutput(loss=None, logits=tensor([[-1.6260,  2.9355, -0.9673],\n",
      "        [-0.9595, -0.0301,  1.6328],\n",
      "        [-0.9595, -0.0301,  1.6328],\n",
      "        ...,\n",
      "        [-0.8687, -0.3689,  1.8174],\n",
      "        [-0.5645,  0.3035, -0.2393],\n",
      "        [ 1.5127, -0.7417, -1.7715]], device='cuda:0', dtype=torch.float16), hidden_states=None, attentions=None)\n"
     ]
    },
    {
     "name": "stderr",
     "output_type": "stream",
     "text": []
    },
    {
     "name": "stdout",
     "output_type": "stream",
     "text": [
      "output of the model SequenceClassifierOutput(loss=None, logits=tensor([[ 0.2395,  0.3242, -1.4150],\n",
      "        [-1.7012,  2.9609, -0.9980],\n",
      "        [ 2.0605, -1.7412, -1.5732],\n",
      "        ...,\n",
      "        [ 0.3958, -0.9883,  0.4124],\n",
      "        [ 0.3958, -0.9883,  0.4124],\n",
      "        [ 0.3958, -0.9883,  0.4124]], device='cuda:0', dtype=torch.float16), hidden_states=None, attentions=None)\n"
     ]
    },
    {
     "name": "stderr",
     "output_type": "stream",
     "text": []
    },
    {
     "name": "stdout",
     "output_type": "stream",
     "text": [
      "output of the model SequenceClassifierOutput(loss=None, logits=tensor([[-1.8662,  2.7930, -0.5713],\n",
      "        [-0.2238, -1.3438,  1.9902],\n",
      "        [-1.0303,  1.4141, -0.2710],\n",
      "        ...,\n",
      "        [-1.3789,  0.9478,  1.3633],\n",
      "        [ 1.6348, -2.2656, -0.4331],\n",
      "        [ 1.8213, -2.4082, -0.3647]], device='cuda:0', dtype=torch.float16), hidden_states=None, attentions=None)\n"
     ]
    },
    {
     "name": "stderr",
     "output_type": "stream",
     "text": []
    },
    {
     "name": "stdout",
     "output_type": "stream",
     "text": [
      "output of the model SequenceClassifierOutput(loss=None, logits=tensor([[ 1.0840, -2.6660,  1.3213],\n",
      "        [ 0.0359, -0.9692,  0.7607],\n",
      "        [ 1.3584, -0.6660, -1.5869],\n",
      "        ...,\n",
      "        [-1.8047,  3.0234, -0.8735],\n",
      "        [-0.1401, -0.4785,  0.4026],\n",
      "        [ 1.8838, -2.9746,  0.4207]], device='cuda:0', dtype=torch.float16), hidden_states=None, attentions=None)\n"
     ]
    },
    {
     "name": "stderr",
     "output_type": "stream",
     "text": []
    },
    {
     "name": "stdout",
     "output_type": "stream",
     "text": [
      "output of the model SequenceClassifierOutput(loss=None, logits=tensor([[ 0.8979, -2.6895,  1.8262],\n",
      "        [-0.9346, -0.8906,  2.4922],\n",
      "        [-1.6426,  2.9551, -1.0312],\n",
      "        ...,\n",
      "        [ 1.9990, -1.2969, -1.7900],\n",
      "        [-1.1035, -0.3030,  2.3008],\n",
      "        [ 0.4763,  0.7886, -2.0215]], device='cuda:0', dtype=torch.float16), hidden_states=None, attentions=None)\n"
     ]
    },
    {
     "name": "stderr",
     "output_type": "stream",
     "text": []
    },
    {
     "name": "stdout",
     "output_type": "stream",
     "text": [
      "output of the model SequenceClassifierOutput(loss=None, logits=tensor([[ 0.0989,  0.4980, -1.3535],\n",
      "        [-1.5898,  1.4795,  0.6152],\n",
      "        [-1.7568,  2.2695,  0.4287],\n",
      "        ...,\n",
      "        [-0.1034,  0.2988, -0.8735],\n",
      "        [-1.4629,  0.2566,  2.0684],\n",
      "        [-1.3682, -0.5117,  2.4609]], device='cuda:0', dtype=torch.float16), hidden_states=None, attentions=None)\n"
     ]
    },
    {
     "name": "stderr",
     "output_type": "stream",
     "text": []
    },
    {
     "name": "stdout",
     "output_type": "stream",
     "text": [
      "output of the model SequenceClassifierOutput(loss=None, logits=tensor([[-1.6953,  2.9668, -1.0439],\n",
      "        [-1.8428,  2.9766, -0.7661],\n",
      "        [ 0.1160,  0.4807, -0.5186],\n",
      "        ...,\n",
      "        [ 1.1855, -2.5469,  1.1523],\n",
      "        [-0.2915, -1.1982,  1.8389],\n",
      "        [ 0.6289, -0.5444, -0.9263]], device='cuda:0', dtype=torch.float16), hidden_states=None, attentions=None)\n"
     ]
    },
    {
     "name": "stderr",
     "output_type": "stream",
     "text": []
    },
    {
     "name": "stdout",
     "output_type": "stream",
     "text": [
      "output of the model SequenceClassifierOutput(loss=None, logits=tensor([[-0.5674, -1.4707,  2.3594],\n",
      "        [ 1.4678, -2.6660,  0.6357],\n",
      "        [ 1.1436, -2.5938,  1.3545],\n",
      "        ...,\n",
      "        [ 1.0615, -2.4844,  0.8184],\n",
      "        [-1.5938,  1.2354,  1.2705],\n",
      "        [ 0.1915, -2.4160,  2.2773]], device='cuda:0', dtype=torch.float16), hidden_states=None, attentions=None)\n"
     ]
    },
    {
     "name": "stderr",
     "output_type": "stream",
     "text": []
    },
    {
     "name": "stdout",
     "output_type": "stream",
     "text": [
      "output of the model SequenceClassifierOutput(loss=None, logits=tensor([[-1.6123,  1.4014,  1.1084],\n",
      "        [ 0.6782, -0.5581, -1.0078],\n",
      "        [-0.0126, -1.0283,  0.7202],\n",
      "        ...,\n",
      "        [-1.2178,  0.4053,  1.7256],\n",
      "        [ 1.9092, -2.2246, -1.1387],\n",
      "        [-1.5928,  0.3723,  2.1016]], device='cuda:0', dtype=torch.float16), hidden_states=None, attentions=None)\n"
     ]
    },
    {
     "name": "stderr",
     "output_type": "stream",
     "text": []
    },
    {
     "name": "stdout",
     "output_type": "stream",
     "text": [
      "output of the model SequenceClassifierOutput(loss=None, logits=tensor([[ 0.0224,  0.1661, -1.0371],\n",
      "        [-0.1901, -1.9727,  2.4141],\n",
      "        [-1.7588,  2.4531, -0.1058],\n",
      "        ...,\n",
      "        [ 0.7622,  0.8354, -2.0469],\n",
      "        [ 0.4126, -2.3672,  1.8281],\n",
      "        [-1.0801, -0.7212,  2.5332]], device='cuda:0', dtype=torch.float16), hidden_states=None, attentions=None)\n"
     ]
    },
    {
     "name": "stderr",
     "output_type": "stream",
     "text": []
    },
    {
     "name": "stdout",
     "output_type": "stream",
     "text": [
      "output of the model SequenceClassifierOutput(loss=None, logits=tensor([[-0.9106, -1.2412,  2.5840],\n",
      "        [-0.7061, -0.1847,  1.3350],\n",
      "        [-1.2295, -0.4221,  2.1816],\n",
      "        ...,\n",
      "        [-1.4697,  0.2157,  2.0879],\n",
      "        [-1.2227,  2.3613, -0.8931],\n",
      "        [-0.9155,  2.2324, -1.2842]], device='cuda:0', dtype=torch.float16), hidden_states=None, attentions=None)\n"
     ]
    },
    {
     "name": "stderr",
     "output_type": "stream",
     "text": []
    },
    {
     "name": "stdout",
     "output_type": "stream",
     "text": [
      "output of the model SequenceClassifierOutput(loss=None, logits=tensor([[ 0.2844, -2.1738,  2.1582],\n",
      "        [ 1.9287, -2.6367, -0.4170],\n",
      "        [-0.5146, -1.5557,  2.5156],\n",
      "        ...,\n",
      "        [-0.9053, -0.9043,  2.5352],\n",
      "        [-0.6831, -0.2852,  1.7666],\n",
      "        [ 2.0332, -1.8467, -1.4551]], device='cuda:0', dtype=torch.float16), hidden_states=None, attentions=None)\n"
     ]
    },
    {
     "name": "stderr",
     "output_type": "stream",
     "text": []
    },
    {
     "name": "stdout",
     "output_type": "stream",
     "text": [
      "output of the model SequenceClassifierOutput(loss=None, logits=tensor([[-1.4395,  0.1782,  2.2402],\n",
      "        [-0.2217, -1.9385,  2.3203],\n",
      "        [-0.7290, -0.9604,  2.2129],\n",
      "        ...,\n",
      "        [-1.7686,  2.9414, -0.7476],\n",
      "        [-0.7749,  0.9028, -0.3538],\n",
      "        [-0.6040, -0.9072,  2.1855]], device='cuda:0', dtype=torch.float16), hidden_states=None, attentions=None)\n"
     ]
    },
    {
     "name": "stderr",
     "output_type": "stream",
     "text": []
    },
    {
     "name": "stdout",
     "output_type": "stream",
     "text": [
      "output of the model SequenceClassifierOutput(loss=None, logits=tensor([[ 0.1792, -1.9238,  1.9619],\n",
      "        [ 0.1573, -1.7959,  2.1191],\n",
      "        [-0.7983,  0.0756,  1.5713],\n",
      "        ...,\n",
      "        [-0.1262, -0.4722,  0.3601],\n",
      "        [-0.5308,  0.3457,  0.1175],\n",
      "        [-0.3113, -0.2183,  0.8608]], device='cuda:0', dtype=torch.float16), hidden_states=None, attentions=None)\n"
     ]
    },
    {
     "name": "stderr",
     "output_type": "stream",
     "text": []
    },
    {
     "name": "stdout",
     "output_type": "stream",
     "text": [
      "output of the model SequenceClassifierOutput(loss=None, logits=tensor([[-1.5264,  0.4736,  1.9824],\n",
      "        [-0.8022, -0.1879,  1.8369],\n",
      "        [-0.8979, -0.0728,  1.8281],\n",
      "        ...,\n",
      "        [-1.7471,  2.6113, -0.1159],\n",
      "        [-1.7822,  2.6738, -0.1471],\n",
      "        [-1.7822,  2.6738, -0.1471]], device='cuda:0', dtype=torch.float16), hidden_states=None, attentions=None)\n"
     ]
    },
    {
     "name": "stderr",
     "output_type": "stream",
     "text": []
    },
    {
     "name": "stdout",
     "output_type": "stream",
     "text": [
      "output of the model SequenceClassifierOutput(loss=None, logits=tensor([[ 0.3857, -0.7642, -0.1370],\n",
      "        [-1.8047,  2.6875, -0.1555],\n",
      "        [ 0.9766, -0.5732, -1.3545],\n",
      "        ...,\n",
      "        [-0.5693,  1.7861, -1.3047],\n",
      "        [ 0.2812, -1.1543,  1.4971],\n",
      "        [ 0.2812, -1.1543,  1.4971]], device='cuda:0', dtype=torch.float16), hidden_states=None, attentions=None)\n"
     ]
    },
    {
     "name": "stderr",
     "output_type": "stream",
     "text": []
    },
    {
     "name": "stdout",
     "output_type": "stream",
     "text": [
      "output of the model SequenceClassifierOutput(loss=None, logits=tensor([[-0.5879, -1.3652,  2.4570],\n",
      "        [-0.9399, -0.6836,  2.3125],\n",
      "        [-0.4026, -1.5322,  2.3086],\n",
      "        ...,\n",
      "        [-0.2166, -1.8242,  2.3242],\n",
      "        [-0.7310, -1.1787,  2.3418],\n",
      "        [-0.8711, -0.9146,  2.4902]], device='cuda:0', dtype=torch.float16), hidden_states=None, attentions=None)\n"
     ]
    },
    {
     "name": "stderr",
     "output_type": "stream",
     "text": []
    },
    {
     "name": "stdout",
     "output_type": "stream",
     "text": [
      "output of the model SequenceClassifierOutput(loss=None, logits=tensor([[-0.0961, -2.0098,  2.3047],\n",
      "        [-0.5864, -1.3730,  2.3301],\n",
      "        [-0.2158, -1.4854,  1.6963],\n",
      "        ...,\n",
      "        [-0.3269,  1.1084, -1.2852],\n",
      "        [-0.2334,  0.9746, -1.3379],\n",
      "        [ 0.0648, -0.5479,  0.5737]], device='cuda:0', dtype=torch.float16), hidden_states=None, attentions=None)\n"
     ]
    },
    {
     "name": "stderr",
     "output_type": "stream",
     "text": []
    },
    {
     "name": "stdout",
     "output_type": "stream",
     "text": [
      "output of the model SequenceClassifierOutput(loss=None, logits=tensor([[ 0.9458, -2.4414,  1.4512],\n",
      "        [-0.0889,  0.9023, -1.5391],\n",
      "        [ 1.7119, -2.3008, -0.4834],\n",
      "        ...,\n",
      "        [ 0.0064, -1.9863,  2.2422],\n",
      "        [-0.0054, -2.1270,  2.3750],\n",
      "        [ 2.0547, -2.5117, -0.3669]], device='cuda:0', dtype=torch.float16), hidden_states=None, attentions=None)\n"
     ]
    },
    {
     "name": "stderr",
     "output_type": "stream",
     "text": []
    },
    {
     "name": "stdout",
     "output_type": "stream",
     "text": [
      "output of the model SequenceClassifierOutput(loss=None, logits=tensor([[-0.7612, -1.3105,  2.6582],\n",
      "        [-0.5356, -0.9478,  1.6006],\n",
      "        [-0.1335, -0.7031,  0.9946],\n",
      "        ...,\n",
      "        [ 0.2959, -2.2109,  1.9639],\n",
      "        [-0.7725, -1.3457,  2.5781],\n",
      "        [-0.5859, -1.3066,  2.5020]], device='cuda:0', dtype=torch.float16), hidden_states=None, attentions=None)\n"
     ]
    },
    {
     "name": "stderr",
     "output_type": "stream",
     "text": []
    },
    {
     "name": "stdout",
     "output_type": "stream",
     "text": [
      "output of the model SequenceClassifierOutput(loss=None, logits=tensor([[-0.7319, -0.7012,  2.1191],\n",
      "        [-0.7295,  0.7988, -0.4087],\n",
      "        [-0.6851, -1.2754,  2.5410],\n",
      "        ...,\n",
      "        [ 2.0059, -1.4893, -1.6689],\n",
      "        [-1.7822,  2.6738, -0.1471],\n",
      "        [-1.7441,  3.0117, -0.9907]], device='cuda:0', dtype=torch.float16), hidden_states=None, attentions=None)\n"
     ]
    },
    {
     "name": "stderr",
     "output_type": "stream",
     "text": []
    },
    {
     "name": "stdout",
     "output_type": "stream",
     "text": [
      "output of the model SequenceClassifierOutput(loss=None, logits=tensor([[-1.7764,  3.0234, -0.9102],\n",
      "        [-0.9580,  2.3223, -1.3145],\n",
      "        [-1.7822,  2.6738, -0.1471],\n",
      "        ...,\n",
      "        [ 2.0684, -1.6504, -1.6768],\n",
      "        [ 0.9419, -1.9219,  0.9082],\n",
      "        [ 1.2314, -1.9619, -0.5928]], device='cuda:0', dtype=torch.float16), hidden_states=None, attentions=None)\n"
     ]
    },
    {
     "name": "stderr",
     "output_type": "stream",
     "text": []
    },
    {
     "name": "stdout",
     "output_type": "stream",
     "text": [
      "output of the model SequenceClassifierOutput(loss=None, logits=tensor([[-1.7246,  2.7031, -0.5850],\n",
      "        [-1.1738, -0.7334,  2.6992],\n",
      "        [-0.4937, -1.4102,  2.1621],\n",
      "        ...,\n",
      "        [-0.9092, -0.1116,  1.9277],\n",
      "        [-1.5059,  0.3418,  2.0312],\n",
      "        [-0.6899, -1.4717,  2.5957]], device='cuda:0', dtype=torch.float16), hidden_states=None, attentions=None)\n"
     ]
    },
    {
     "name": "stderr",
     "output_type": "stream",
     "text": []
    },
    {
     "name": "stdout",
     "output_type": "stream",
     "text": [
      "output of the model SequenceClassifierOutput(loss=None, logits=tensor([[-0.1270, -1.9658,  2.2012],\n",
      "        [-0.4324, -1.6289,  2.4316],\n",
      "        [-1.6562,  1.5635,  1.0488],\n",
      "        ...,\n",
      "        [-0.2415, -1.1553,  2.0020],\n",
      "        [-1.1436,  2.1328, -0.8081],\n",
      "        [-0.1235,  0.1476, -0.2549]], device='cuda:0', dtype=torch.float16), hidden_states=None, attentions=None)\n"
     ]
    },
    {
     "name": "stderr",
     "output_type": "stream",
     "text": []
    },
    {
     "name": "stdout",
     "output_type": "stream",
     "text": [
      "output of the model SequenceClassifierOutput(loss=None, logits=tensor([[ 0.2445, -1.3945,  1.5215],\n",
      "        [ 0.6826, -0.7280,  0.2839],\n",
      "        [-0.2415, -1.1553,  2.0020],\n",
      "        ...,\n",
      "        [-1.0332,  1.0146,  0.3115],\n",
      "        [-0.6094,  0.7129, -0.3145],\n",
      "        [-0.5034,  1.5869, -1.5547]], device='cuda:0', dtype=torch.float16), hidden_states=None, attentions=None)\n"
     ]
    },
    {
     "name": "stderr",
     "output_type": "stream",
     "text": []
    },
    {
     "name": "stdout",
     "output_type": "stream",
     "text": [
      "output of the model SequenceClassifierOutput(loss=None, logits=tensor([[-1.0576, -0.3320,  2.2266],\n",
      "        [-0.5615,  1.6416, -1.4570],\n",
      "        [-0.7388,  0.6592,  0.0151],\n",
      "        ...,\n",
      "        [ 0.0379,  0.0154,  0.2081],\n",
      "        [ 1.8760, -1.5107, -1.2656],\n",
      "        [ 0.4580, -0.2190, -1.3926]], device='cuda:0', dtype=torch.float16), hidden_states=None, attentions=None)\n"
     ]
    },
    {
     "name": "stderr",
     "output_type": "stream",
     "text": []
    },
    {
     "name": "stdout",
     "output_type": "stream",
     "text": [
      "output of the model SequenceClassifierOutput(loss=None, logits=tensor([[-0.2144, -0.5239,  0.9595],\n",
      "        [-1.4609,  0.1975,  2.1523],\n",
      "        [ 1.2217, -2.0645, -0.1089],\n",
      "        ...,\n",
      "        [-1.1211, -0.0729,  1.9512],\n",
      "        [ 1.9932, -2.7930, -0.3762],\n",
      "        [ 0.4224, -0.5156, -0.5317]], device='cuda:0', dtype=torch.float16), hidden_states=None, attentions=None)\n"
     ]
    },
    {
     "name": "stderr",
     "output_type": "stream",
     "text": []
    },
    {
     "name": "stdout",
     "output_type": "stream",
     "text": [
      "output of the model SequenceClassifierOutput(loss=None, logits=tensor([[-1.4414,  0.1504,  2.1484],\n",
      "        [-1.1270, -0.6919,  2.3691],\n",
      "        [-1.2129,  0.3359,  1.7910],\n",
      "        ...,\n",
      "        [ 1.3066, -2.6250,  1.1807],\n",
      "        [-0.3501, -1.6250,  2.4316],\n",
      "        [-1.7383,  2.6582, -0.2280]], device='cuda:0', dtype=torch.float16), hidden_states=None, attentions=None)\n"
     ]
    },
    {
     "name": "stderr",
     "output_type": "stream",
     "text": []
    },
    {
     "name": "stdout",
     "output_type": "stream",
     "text": [
      "output of the model SequenceClassifierOutput(loss=None, logits=tensor([[-0.8311, -0.9141,  2.4219],\n",
      "        [-1.4268, -0.1118,  2.4297],\n",
      "        [ 1.7959, -2.0488, -0.2332],\n",
      "        ...,\n",
      "        [ 0.0354, -2.1230,  2.2148],\n",
      "        [ 2.0332, -2.2812, -0.8340],\n",
      "        [-0.4431, -1.5918,  2.4160]], device='cuda:0', dtype=torch.float16), hidden_states=None, attentions=None)\n"
     ]
    },
    {
     "name": "stderr",
     "output_type": "stream",
     "text": []
    },
    {
     "name": "stdout",
     "output_type": "stream",
     "text": [
      "output of the model SequenceClassifierOutput(loss=None, logits=tensor([[-1.3877,  0.0644,  2.2227],\n",
      "        [ 0.0609, -1.5371,  2.1895],\n",
      "        [ 1.0586, -0.8877, -0.2913],\n",
      "        ...,\n",
      "        [-0.0379, -2.0039,  2.1445],\n",
      "        [-1.2979,  0.8467,  1.0928],\n",
      "        [-0.4636, -1.1982,  2.1113]], device='cuda:0', dtype=torch.float16), hidden_states=None, attentions=None)\n"
     ]
    },
    {
     "name": "stderr",
     "output_type": "stream",
     "text": []
    },
    {
     "name": "stdout",
     "output_type": "stream",
     "text": [
      "output of the model SequenceClassifierOutput(loss=None, logits=tensor([[-1.8311,  2.9766, -0.7295],\n",
      "        [-1.8311,  2.9766, -0.7295],\n",
      "        [-0.8027, -1.1045,  2.3965],\n",
      "        ...,\n",
      "        [-0.2477, -1.8525,  2.3105],\n",
      "        [-0.5474, -1.6445,  2.5469],\n",
      "        [ 1.8545, -1.8457, -1.0625]], device='cuda:0', dtype=torch.float16), hidden_states=None, attentions=None)\n"
     ]
    },
    {
     "name": "stderr",
     "output_type": "stream",
     "text": []
    },
    {
     "name": "stdout",
     "output_type": "stream",
     "text": [
      "output of the model SequenceClassifierOutput(loss=None, logits=tensor([[-0.7598, -1.4473,  2.5254],\n",
      "        [ 1.3574, -2.2168,  0.0067],\n",
      "        [ 1.6953, -1.5254, -1.3828],\n",
      "        ...,\n",
      "        [-1.2969, -0.4851,  2.5469],\n",
      "        [-1.7100,  2.9258, -0.9849],\n",
      "        [ 0.9077,  0.0977, -1.6641]], device='cuda:0', dtype=torch.float16), hidden_states=None, attentions=None)\n"
     ]
    },
    {
     "name": "stderr",
     "output_type": "stream",
     "text": []
    },
    {
     "name": "stdout",
     "output_type": "stream",
     "text": [
      "output of the model SequenceClassifierOutput(loss=None, logits=tensor([[-1.4580,  2.7578, -1.1387],\n",
      "        [ 1.8516, -1.8496, -1.1875],\n",
      "        [-0.5176,  0.0717,  0.7842],\n",
      "        ...,\n",
      "        [-0.6831, -0.2852,  1.7666],\n",
      "        [ 0.6304, -2.4727,  1.8477],\n",
      "        [ 0.6353, -2.6445,  1.9893]], device='cuda:0', dtype=torch.float16), hidden_states=None, attentions=None)\n"
     ]
    },
    {
     "name": "stderr",
     "output_type": "stream",
     "text": []
    },
    {
     "name": "stdout",
     "output_type": "stream",
     "text": [
      "output of the model SequenceClassifierOutput(loss=None, logits=tensor([[-1.6260,  2.9355, -0.9673],\n",
      "        [ 0.8911, -2.6484,  1.6660],\n",
      "        [-0.6982, -0.9966,  2.1641],\n",
      "        ...,\n",
      "        [ 1.9473, -1.7461, -1.4961],\n",
      "        [-0.6489,  0.0343,  0.9150],\n",
      "        [ 1.6963, -2.2910, -0.6621]], device='cuda:0', dtype=torch.float16), hidden_states=None, attentions=None)\n"
     ]
    },
    {
     "name": "stderr",
     "output_type": "stream",
     "text": []
    },
    {
     "name": "stdout",
     "output_type": "stream",
     "text": [
      "output of the model SequenceClassifierOutput(loss=None, logits=tensor([[-1.6289,  2.9883, -1.1211],\n",
      "        [ 1.9775, -1.8623, -1.4512],\n",
      "        [-0.0457, -1.4209,  1.4736],\n",
      "        ...,\n",
      "        [ 0.1997, -2.1289,  1.9453],\n",
      "        [-0.1434, -1.9678,  2.3438],\n",
      "        [ 1.5498, -2.3379, -0.2000]], device='cuda:0', dtype=torch.float16), hidden_states=None, attentions=None)\n"
     ]
    },
    {
     "name": "stderr",
     "output_type": "stream",
     "text": []
    },
    {
     "name": "stdout",
     "output_type": "stream",
     "text": [
      "output of the model SequenceClassifierOutput(loss=None, logits=tensor([[-0.6338, -1.0391,  2.0430],\n",
      "        [-0.7666, -1.1924,  2.4336],\n",
      "        [-0.0693, -2.0566,  2.3066],\n",
      "        ...,\n",
      "        [ 0.3657, -2.2969,  2.0059],\n",
      "        [-0.8325, -0.9473,  2.5332],\n",
      "        [ 0.0242, -2.1641,  2.3477]], device='cuda:0', dtype=torch.float16), hidden_states=None, attentions=None)\n"
     ]
    },
    {
     "name": "stderr",
     "output_type": "stream",
     "text": []
    },
    {
     "name": "stdout",
     "output_type": "stream",
     "text": [
      "output of the model SequenceClassifierOutput(loss=None, logits=tensor([[ 1.4170, -2.2656,  0.0414],\n",
      "        [ 1.0518, -2.3828,  1.1016],\n",
      "        [ 1.6338, -2.6621,  0.5308],\n",
      "        ...,\n",
      "        [-0.8101,  0.9043, -0.1161],\n",
      "        [-1.4805,  0.2979,  2.0430],\n",
      "        [-0.7368, -0.9951,  2.1445]], device='cuda:0', dtype=torch.float16), hidden_states=None, attentions=None)\n"
     ]
    },
    {
     "name": "stderr",
     "output_type": "stream",
     "text": []
    },
    {
     "name": "stdout",
     "output_type": "stream",
     "text": [
      "output of the model SequenceClassifierOutput(loss=None, logits=tensor([[-1.5547,  2.7148, -0.8809],\n",
      "        [-1.5176,  2.6816, -0.9268],\n",
      "        [-1.0244, -0.9717,  2.5898],\n",
      "        ...,\n",
      "        [-1.6875,  1.5352,  1.0938],\n",
      "        [-0.0296, -0.4001, -0.1147],\n",
      "        [-1.5146,  2.1445,  0.1901]], device='cuda:0', dtype=torch.float16), hidden_states=None, attentions=None)\n"
     ]
    },
    {
     "name": "stderr",
     "output_type": "stream",
     "text": []
    },
    {
     "name": "stdout",
     "output_type": "stream",
     "text": [
      "output of the model SequenceClassifierOutput(loss=None, logits=tensor([[-0.6177,  0.3062,  0.2932],\n",
      "        [ 0.8735, -0.7559, -1.0693],\n",
      "        [-1.4014, -0.0145,  2.3047],\n",
      "        ...,\n",
      "        [ 1.5127, -1.5830, -0.9165],\n",
      "        [ 0.6655, -1.2510, -0.4058],\n",
      "        [-0.7002, -1.4707,  2.5742]], device='cuda:0', dtype=torch.float16), hidden_states=None, attentions=None)\n"
     ]
    },
    {
     "name": "stderr",
     "output_type": "stream",
     "text": []
    },
    {
     "name": "stdout",
     "output_type": "stream",
     "text": [
      "output of the model SequenceClassifierOutput(loss=None, logits=tensor([[ 1.2402, -0.4143, -1.8047],\n",
      "        [-0.9634, -1.1533,  2.4902],\n",
      "        [-1.0820, -0.8706,  2.6172],\n",
      "        ...,\n",
      "        [-0.3203,  1.5674, -1.7998],\n",
      "        [-0.3796,  1.5723, -1.7090],\n",
      "        [-0.8794, -0.0156,  1.5850]], device='cuda:0', dtype=torch.float16), hidden_states=None, attentions=None)\n"
     ]
    },
    {
     "name": "stderr",
     "output_type": "stream",
     "text": []
    },
    {
     "name": "stdout",
     "output_type": "stream",
     "text": [
      "output of the model SequenceClassifierOutput(loss=None, logits=tensor([[-0.0752, -1.9297,  2.3652],\n",
      "        [ 0.7632, -0.9014, -0.9888],\n",
      "        [-0.5132,  1.7656, -1.6338],\n",
      "        ...,\n",
      "        [-0.4583, -1.0947,  2.0645],\n",
      "        [-0.0195, -2.1113,  2.2305],\n",
      "        [ 0.3867, -2.0410,  1.7363]], device='cuda:0', dtype=torch.float16), hidden_states=None, attentions=None)\n"
     ]
    },
    {
     "name": "stderr",
     "output_type": "stream",
     "text": []
    },
    {
     "name": "stdout",
     "output_type": "stream",
     "text": [
      "output of the model SequenceClassifierOutput(loss=None, logits=tensor([[ 2.0859, -1.6133, -1.6895],\n",
      "        [ 1.3115, -0.7808, -1.5957],\n",
      "        [ 0.5869, -2.1445,  1.5596],\n",
      "        ...,\n",
      "        [-1.8154,  2.9199, -0.7642],\n",
      "        [ 1.2363, -2.2207,  0.6353],\n",
      "        [-1.4121,  1.3125,  1.0303]], device='cuda:0', dtype=torch.float16), hidden_states=None, attentions=None)\n"
     ]
    },
    {
     "name": "stderr",
     "output_type": "stream",
     "text": []
    },
    {
     "name": "stdout",
     "output_type": "stream",
     "text": [
      "output of the model SequenceClassifierOutput(loss=None, logits=tensor([[ 1.1318, -2.3398,  0.7471],\n",
      "        [ 0.2178, -1.9502,  1.5225],\n",
      "        [-0.0077, -0.4893,  0.3728],\n",
      "        ...,\n",
      "        [-0.0260,  1.1631, -1.8516],\n",
      "        [-0.7646, -1.2588,  2.5371],\n",
      "        [ 0.2484, -2.1914,  2.1289]], device='cuda:0', dtype=torch.float16), hidden_states=None, attentions=None)\n"
     ]
    },
    {
     "name": "stderr",
     "output_type": "stream",
     "text": []
    },
    {
     "name": "stdout",
     "output_type": "stream",
     "text": [
      "output of the model SequenceClassifierOutput(loss=None, logits=tensor([[ 0.0379, -2.2285,  2.3320],\n",
      "        [ 0.7886, -0.0289, -1.8096],\n",
      "        [-0.1935, -1.8857,  2.2656],\n",
      "        ...,\n",
      "        [-0.9639, -0.8433,  2.4121],\n",
      "        [ 1.1738, -0.6758, -1.5928],\n",
      "        [ 2.0449, -1.5459, -1.7061]], device='cuda:0', dtype=torch.float16), hidden_states=None, attentions=None)\n"
     ]
    },
    {
     "name": "stderr",
     "output_type": "stream",
     "text": [
      "Processing batches (chunk 1): 100%|██████████| 98/98 [00:35<00:00,  2.78it/s]\n",
      "Processing chunks:   1%|          | 1/131 [00:35<1:16:26, 35.28s/it]"
     ]
    },
    {
     "name": "stdout",
     "output_type": "stream",
     "text": [
      "output of the model SequenceClassifierOutput(loss=None, logits=tensor([[-0.6948, -0.1285,  1.5898],\n",
      "        [-1.0986,  0.7515,  0.7690],\n",
      "        [-0.2549, -1.3691,  1.8848],\n",
      "        ...,\n",
      "        [-1.1963,  0.7275,  1.2051],\n",
      "        [ 1.3525, -2.7012,  1.1299],\n",
      "        [-0.8477, -0.5781,  1.9199]], device='cuda:0', dtype=torch.float16), hidden_states=None, attentions=None)\n"
     ]
    },
    {
     "name": "stderr",
     "output_type": "stream",
     "text": []
    },
    {
     "name": "stdout",
     "output_type": "stream",
     "text": [
      "output of the model SequenceClassifierOutput(loss=None, logits=tensor([[ 1.9355, -1.7783, -1.2500],\n",
      "        [ 1.9102, -1.8145, -1.3545],\n",
      "        [ 1.8193, -1.8291, -1.1963],\n",
      "        ...,\n",
      "        [ 0.5156, -0.2114, -0.6895],\n",
      "        [-1.6162,  1.4395,  1.0654],\n",
      "        [-1.5557,  2.4023, -0.3533]], device='cuda:0', dtype=torch.float16), hidden_states=None, attentions=None)\n"
     ]
    },
    {
     "name": "stderr",
     "output_type": "stream",
     "text": []
    },
    {
     "name": "stdout",
     "output_type": "stream",
     "text": [
      "output of the model SequenceClassifierOutput(loss=None, logits=tensor([[ 1.2822, -1.9609,  0.1646],\n",
      "        [ 2.0488, -1.5850, -1.6914],\n",
      "        [ 0.0957, -2.0781,  2.1738],\n",
      "        ...,\n",
      "        [-1.4521,  0.1965,  2.1289],\n",
      "        [-0.7012, -1.3828,  2.5547],\n",
      "        [ 1.3262, -2.4961,  0.7246]], device='cuda:0', dtype=torch.float16), hidden_states=None, attentions=None)\n"
     ]
    },
    {
     "name": "stderr",
     "output_type": "stream",
     "text": []
    },
    {
     "name": "stdout",
     "output_type": "stream",
     "text": [
      "output of the model SequenceClassifierOutput(loss=None, logits=tensor([[-0.7256, -0.5850,  1.9004],\n",
      "        [ 1.0488, -1.8125,  0.5156],\n",
      "        [ 1.0586, -0.8877, -0.2913],\n",
      "        ...,\n",
      "        [-0.9131,  0.7793,  0.4434],\n",
      "        [-1.1865,  0.2571,  1.9473],\n",
      "        [ 1.4258, -2.2520, -0.1246]], device='cuda:0', dtype=torch.float16), hidden_states=None, attentions=None)\n"
     ]
    },
    {
     "name": "stderr",
     "output_type": "stream",
     "text": []
    },
    {
     "name": "stdout",
     "output_type": "stream",
     "text": [
      "output of the model SequenceClassifierOutput(loss=None, logits=tensor([[-1.9023,  3.0977, -0.8716],\n",
      "        [ 0.5410, -1.6426,  1.0049],\n",
      "        [-1.1084,  0.7729,  0.6978],\n",
      "        ...,\n",
      "        [ 1.9268, -1.8096, -1.4785],\n",
      "        [-0.3667, -1.7236,  2.2891],\n",
      "        [-0.4907, -1.5889,  2.4805]], device='cuda:0', dtype=torch.float16), hidden_states=None, attentions=None)\n"
     ]
    },
    {
     "name": "stderr",
     "output_type": "stream",
     "text": []
    },
    {
     "name": "stdout",
     "output_type": "stream",
     "text": [
      "output of the model SequenceClassifierOutput(loss=None, logits=tensor([[ 0.8301,  0.0497, -1.5430],\n",
      "        [-1.3711,  2.1094,  0.1595],\n",
      "        [ 0.4688,  1.2422, -2.0781],\n",
      "        ...,\n",
      "        [-1.8213,  2.9570, -0.6880],\n",
      "        [-1.0889,  2.6699, -1.5137],\n",
      "        [-1.2461, -0.5762,  2.5820]], device='cuda:0', dtype=torch.float16), hidden_states=None, attentions=None)\n"
     ]
    },
    {
     "name": "stderr",
     "output_type": "stream",
     "text": []
    },
    {
     "name": "stdout",
     "output_type": "stream",
     "text": [
      "output of the model SequenceClassifierOutput(loss=None, logits=tensor([[ 0.0367, -2.0938,  2.0234],\n",
      "        [ 0.0953, -2.0742,  2.3438],\n",
      "        [ 1.8857, -1.1406, -1.8477],\n",
      "        ...,\n",
      "        [ 2.0215, -2.4727, -0.8330],\n",
      "        [-0.6606,  0.1383,  0.7930],\n",
      "        [-0.3237, -0.8081,  1.6787]], device='cuda:0', dtype=torch.float16), hidden_states=None, attentions=None)\n"
     ]
    },
    {
     "name": "stderr",
     "output_type": "stream",
     "text": []
    },
    {
     "name": "stdout",
     "output_type": "stream",
     "text": [
      "output of the model SequenceClassifierOutput(loss=None, logits=tensor([[-1.2021,  1.2061,  0.3184],\n",
      "        [ 1.8525, -2.4883, -0.5112],\n",
      "        [ 1.8994, -2.3281, -0.8896],\n",
      "        ...,\n",
      "        [ 1.3037, -2.2832,  0.7148],\n",
      "        [ 0.5176, -2.2734,  2.0625],\n",
      "        [-0.2998,  0.6367, -0.6812]], device='cuda:0', dtype=torch.float16), hidden_states=None, attentions=None)\n"
     ]
    },
    {
     "name": "stderr",
     "output_type": "stream",
     "text": []
    },
    {
     "name": "stdout",
     "output_type": "stream",
     "text": [
      "output of the model SequenceClassifierOutput(loss=None, logits=tensor([[ 1.7090, -1.3320, -1.2803],\n",
      "        [ 0.7461, -2.3418,  1.1387],\n",
      "        [-0.5342, -1.3701,  2.3887],\n",
      "        ...,\n",
      "        [ 1.3447, -2.3086,  0.3674],\n",
      "        [-0.1837, -1.7959,  2.3555],\n",
      "        [ 1.8408, -1.7275, -1.3750]], device='cuda:0', dtype=torch.float16), hidden_states=None, attentions=None)\n"
     ]
    },
    {
     "name": "stderr",
     "output_type": "stream",
     "text": []
    },
    {
     "name": "stdout",
     "output_type": "stream",
     "text": [
      "output of the model SequenceClassifierOutput(loss=None, logits=tensor([[-0.5649, -1.5205,  2.2461],\n",
      "        [ 2.0762, -1.6758, -1.6738],\n",
      "        [-0.7935, -1.0654,  2.3047],\n",
      "        ...,\n",
      "        [ 0.9946, -1.3242,  0.3513],\n",
      "        [ 1.8652, -1.2207, -1.6992],\n",
      "        [ 2.0137, -1.7578, -1.5508]], device='cuda:0', dtype=torch.float16), hidden_states=None, attentions=None)\n"
     ]
    },
    {
     "name": "stderr",
     "output_type": "stream",
     "text": []
    },
    {
     "name": "stdout",
     "output_type": "stream",
     "text": [
      "output of the model SequenceClassifierOutput(loss=None, logits=tensor([[-1.0400, -0.7773,  2.2832],\n",
      "        [-0.6299,  0.5283,  0.1570],\n",
      "        [ 1.1787, -1.0166, -1.0215],\n",
      "        ...,\n",
      "        [-0.3201,  0.5693, -0.1926],\n",
      "        [ 0.1331,  0.2561, -0.8892],\n",
      "        [ 1.3105, -0.2966, -1.8496]], device='cuda:0', dtype=torch.float16), hidden_states=None, attentions=None)\n"
     ]
    },
    {
     "name": "stderr",
     "output_type": "stream",
     "text": []
    },
    {
     "name": "stdout",
     "output_type": "stream",
     "text": [
      "output of the model SequenceClassifierOutput(loss=None, logits=tensor([[ 1.7686, -1.8975, -1.0615],\n",
      "        [ 2.0078, -2.2031, -0.8945],\n",
      "        [ 1.2949, -1.8887,  0.0807],\n",
      "        ...,\n",
      "        [-1.8721,  2.5332, -0.1088],\n",
      "        [-1.8477,  3.0137, -0.8081],\n",
      "        [-1.3779,  0.2822,  2.0586]], device='cuda:0', dtype=torch.float16), hidden_states=None, attentions=None)\n"
     ]
    },
    {
     "name": "stderr",
     "output_type": "stream",
     "text": []
    },
    {
     "name": "stdout",
     "output_type": "stream",
     "text": [
      "output of the model SequenceClassifierOutput(loss=None, logits=tensor([[ 1.8164, -1.6396, -1.2959],\n",
      "        [ 0.0456,  0.5015, -1.4453],\n",
      "        [-1.1348, -0.8965,  2.6504],\n",
      "        ...,\n",
      "        [ 1.7549, -1.4033, -1.4746],\n",
      "        [ 1.8799, -1.0244, -1.9443],\n",
      "        [-0.2625, -1.4707,  1.7773]], device='cuda:0', dtype=torch.float16), hidden_states=None, attentions=None)\n"
     ]
    },
    {
     "name": "stderr",
     "output_type": "stream",
     "text": []
    },
    {
     "name": "stdout",
     "output_type": "stream",
     "text": [
      "output of the model SequenceClassifierOutput(loss=None, logits=tensor([[-1.0449,  0.3618,  1.7090],\n",
      "        [-0.7822, -0.5264,  1.5635],\n",
      "        [-1.6387,  0.9312,  1.6758],\n",
      "        ...,\n",
      "        [ 1.2158, -2.2383,  0.2457],\n",
      "        [-1.8359,  2.1855,  0.7046],\n",
      "        [-0.6167,  0.3694,  0.2844]], device='cuda:0', dtype=torch.float16), hidden_states=None, attentions=None)\n"
     ]
    },
    {
     "name": "stderr",
     "output_type": "stream",
     "text": []
    },
    {
     "name": "stdout",
     "output_type": "stream",
     "text": [
      "output of the model SequenceClassifierOutput(loss=None, logits=tensor([[-0.1495, -1.9463,  2.3320],\n",
      "        [-0.6768,  0.5405,  0.2607],\n",
      "        [-1.4268,  0.8931,  1.4004],\n",
      "        ...,\n",
      "        [ 0.2734, -2.2988,  2.1797],\n",
      "        [ 1.0264, -2.2227,  0.9116],\n",
      "        [-1.1680,  0.3218,  1.9521]], device='cuda:0', dtype=torch.float16), hidden_states=None, attentions=None)\n"
     ]
    },
    {
     "name": "stderr",
     "output_type": "stream",
     "text": []
    },
    {
     "name": "stdout",
     "output_type": "stream",
     "text": [
      "output of the model SequenceClassifierOutput(loss=None, logits=tensor([[-4.4159e-02,  5.3027e-01, -1.2041e+00],\n",
      "        [ 2.2755e-03,  9.3079e-02, -9.3262e-01],\n",
      "        [ 3.8666e-02, -1.8975e+00,  2.0117e+00],\n",
      "        ...,\n",
      "        [-7.6367e-01, -1.0586e+00,  2.3105e+00],\n",
      "        [-6.4893e-01,  3.4332e-02,  9.1504e-01],\n",
      "        [-3.2959e-01, -1.7617e+00,  2.2422e+00]], device='cuda:0',\n",
      "       dtype=torch.float16), hidden_states=None, attentions=None)\n"
     ]
    },
    {
     "name": "stderr",
     "output_type": "stream",
     "text": []
    },
    {
     "name": "stdout",
     "output_type": "stream",
     "text": [
      "output of the model SequenceClassifierOutput(loss=None, logits=tensor([[ 1.5400, -2.7285,  0.4900],\n",
      "        [-0.5200, -1.6660,  2.5156],\n",
      "        [ 1.8877, -2.7383,  0.2164],\n",
      "        ...,\n",
      "        [ 1.9414, -2.4043, -0.9004],\n",
      "        [-1.6084,  1.5830,  0.8604],\n",
      "        [-1.5117,  0.9819,  1.3398]], device='cuda:0', dtype=torch.float16), hidden_states=None, attentions=None)\n"
     ]
    },
    {
     "name": "stderr",
     "output_type": "stream",
     "text": []
    },
    {
     "name": "stdout",
     "output_type": "stream",
     "text": [
      "output of the model SequenceClassifierOutput(loss=None, logits=tensor([[-1.4482,  2.2266,  0.1586],\n",
      "        [-0.7109,  0.1359,  0.9272],\n",
      "        [-1.3369,  2.0742,  0.0995],\n",
      "        ...,\n",
      "        [ 1.6221, -2.6621,  0.4424],\n",
      "        [ 0.0563, -2.0820,  2.1426],\n",
      "        [ 1.5557, -2.0625, -0.5190]], device='cuda:0', dtype=torch.float16), hidden_states=None, attentions=None)\n"
     ]
    },
    {
     "name": "stderr",
     "output_type": "stream",
     "text": []
    },
    {
     "name": "stdout",
     "output_type": "stream",
     "text": [
      "output of the model SequenceClassifierOutput(loss=None, logits=tensor([[ 1.7207, -1.2441, -1.2871],\n",
      "        [ 1.6289, -2.2637, -0.3140],\n",
      "        [-0.6841, -1.5205,  2.4668],\n",
      "        ...,\n",
      "        [-0.7822, -0.6387,  2.1328],\n",
      "        [ 0.7886, -0.8672, -0.8262],\n",
      "        [-1.3799, -0.1821,  2.4199]], device='cuda:0', dtype=torch.float16), hidden_states=None, attentions=None)\n"
     ]
    },
    {
     "name": "stderr",
     "output_type": "stream",
     "text": []
    },
    {
     "name": "stdout",
     "output_type": "stream",
     "text": [
      "output of the model SequenceClassifierOutput(loss=None, logits=tensor([[-1.6455,  1.4873,  1.0293],\n",
      "        [ 1.3467, -2.5898,  0.6460],\n",
      "        [-1.7451,  3.0234, -0.9658],\n",
      "        ...,\n",
      "        [-0.8530, -0.0731,  1.7686],\n",
      "        [ 1.4346, -2.3574,  0.2805],\n",
      "        [ 1.2900, -1.9492, -0.0435]], device='cuda:0', dtype=torch.float16), hidden_states=None, attentions=None)\n"
     ]
    },
    {
     "name": "stderr",
     "output_type": "stream",
     "text": []
    },
    {
     "name": "stdout",
     "output_type": "stream",
     "text": [
      "output of the model SequenceClassifierOutput(loss=None, logits=tensor([[ 1.0293, -1.2832, -0.8813],\n",
      "        [-1.0176,  0.9746, -0.0217],\n",
      "        [ 1.9268, -1.9229, -1.2334],\n",
      "        ...,\n",
      "        [ 0.1680, -1.6172,  1.9609],\n",
      "        [ 1.8213, -2.0527, -1.0801],\n",
      "        [ 0.1713,  0.0510, -0.9585]], device='cuda:0', dtype=torch.float16), hidden_states=None, attentions=None)\n"
     ]
    },
    {
     "name": "stderr",
     "output_type": "stream",
     "text": []
    },
    {
     "name": "stdout",
     "output_type": "stream",
     "text": [
      "output of the model SequenceClassifierOutput(loss=None, logits=tensor([[ 0.0127,  0.2561, -0.8027],\n",
      "        [ 0.6846, -1.9316,  1.1406],\n",
      "        [ 0.1776, -2.2344,  2.2891],\n",
      "        ...,\n",
      "        [-0.5303, -0.6348,  1.8252],\n",
      "        [-0.6772, -1.1621,  2.3848],\n",
      "        [ 1.8516, -1.5332, -1.5186]], device='cuda:0', dtype=torch.float16), hidden_states=None, attentions=None)\n"
     ]
    },
    {
     "name": "stderr",
     "output_type": "stream",
     "text": []
    },
    {
     "name": "stdout",
     "output_type": "stream",
     "text": [
      "output of the model SequenceClassifierOutput(loss=None, logits=tensor([[-1.2061,  1.2246,  0.3423],\n",
      "        [ 0.6167, -1.2842, -0.4729],\n",
      "        [ 0.4197, -2.2344,  1.7607],\n",
      "        ...,\n",
      "        [-0.0939,  0.0874, -0.7822],\n",
      "        [-0.9082, -0.7124,  2.2617],\n",
      "        [ 2.0703, -1.6182, -1.6865]], device='cuda:0', dtype=torch.float16), hidden_states=None, attentions=None)\n"
     ]
    },
    {
     "name": "stderr",
     "output_type": "stream",
     "text": []
    },
    {
     "name": "stdout",
     "output_type": "stream",
     "text": [
      "output of the model SequenceClassifierOutput(loss=None, logits=tensor([[-0.7979,  0.2942,  0.9922],\n",
      "        [ 0.5278, -1.9004,  1.3232],\n",
      "        [-1.0498, -0.7842,  2.2598],\n",
      "        ...,\n",
      "        [-1.0830,  1.5107, -0.3215],\n",
      "        [-1.2861,  1.0605,  0.3110],\n",
      "        [ 0.5576, -1.8623,  1.2646]], device='cuda:0', dtype=torch.float16), hidden_states=None, attentions=None)\n"
     ]
    },
    {
     "name": "stderr",
     "output_type": "stream",
     "text": []
    },
    {
     "name": "stdout",
     "output_type": "stream",
     "text": [
      "output of the model SequenceClassifierOutput(loss=None, logits=tensor([[ 0.3440, -1.5947,  1.7109],\n",
      "        [-1.1396,  2.3398, -0.8833],\n",
      "        [ 1.6064, -2.0586, -0.7563],\n",
      "        ...,\n",
      "        [ 1.7412, -2.3789, -0.4539],\n",
      "        [ 0.0696,  0.1442, -0.9482],\n",
      "        [ 0.2676,  0.7568, -1.5557]], device='cuda:0', dtype=torch.float16), hidden_states=None, attentions=None)\n"
     ]
    },
    {
     "name": "stderr",
     "output_type": "stream",
     "text": []
    },
    {
     "name": "stdout",
     "output_type": "stream",
     "text": [
      "output of the model SequenceClassifierOutput(loss=None, logits=tensor([[-1.4600,  0.1904,  2.1504],\n",
      "        [-0.2330, -1.4580,  1.5684],\n",
      "        [-0.3972,  0.9961, -1.2695],\n",
      "        ...,\n",
      "        [-0.1512,  1.1777, -1.4824],\n",
      "        [-0.9155,  2.6406, -1.8682],\n",
      "        [ 1.0586, -0.8877, -0.2913]], device='cuda:0', dtype=torch.float16), hidden_states=None, attentions=None)\n"
     ]
    },
    {
     "name": "stderr",
     "output_type": "stream",
     "text": []
    },
    {
     "name": "stdout",
     "output_type": "stream",
     "text": [
      "output of the model SequenceClassifierOutput(loss=None, logits=tensor([[ 1.1133, -1.2607, -0.0983],\n",
      "        [ 0.1609, -1.9121,  2.0137],\n",
      "        [ 0.4841, -0.1207, -1.2285],\n",
      "        ...,\n",
      "        [ 1.6846, -2.1406,  0.2335],\n",
      "        [-1.4883,  2.5254, -0.3308],\n",
      "        [-1.9043,  2.9473, -0.3459]], device='cuda:0', dtype=torch.float16), hidden_states=None, attentions=None)\n"
     ]
    },
    {
     "name": "stderr",
     "output_type": "stream",
     "text": []
    },
    {
     "name": "stdout",
     "output_type": "stream",
     "text": [
      "output of the model SequenceClassifierOutput(loss=None, logits=tensor([[ 1.3496, -1.9033, -0.0195],\n",
      "        [-0.7861, -1.3613,  2.5605],\n",
      "        [ 1.3311, -1.9629,  0.0714],\n",
      "        ...,\n",
      "        [ 1.9619, -2.1172, -0.5259],\n",
      "        [-1.3506, -0.2448,  2.4551],\n",
      "        [-1.7354,  0.9482,  2.0000]], device='cuda:0', dtype=torch.float16), hidden_states=None, attentions=None)\n"
     ]
    },
    {
     "name": "stderr",
     "output_type": "stream",
     "text": []
    },
    {
     "name": "stdout",
     "output_type": "stream",
     "text": [
      "output of the model SequenceClassifierOutput(loss=None, logits=tensor([[-0.6899,  1.4492, -0.2108],\n",
      "        [-0.2676, -1.1738,  1.8066],\n",
      "        [ 0.2908, -2.4453,  2.2539],\n",
      "        ...,\n",
      "        [-0.3235, -1.1631,  1.6611],\n",
      "        [-1.4688,  0.2096,  2.1211],\n",
      "        [-1.1768, -0.6001,  2.3281]], device='cuda:0', dtype=torch.float16), hidden_states=None, attentions=None)\n"
     ]
    },
    {
     "name": "stderr",
     "output_type": "stream",
     "text": []
    },
    {
     "name": "stdout",
     "output_type": "stream",
     "text": [
      "output of the model SequenceClassifierOutput(loss=None, logits=tensor([[ 0.3567, -1.8350,  1.8242],\n",
      "        [ 1.1299, -1.7871, -0.4976],\n",
      "        [-0.7393, -1.4512,  2.5547],\n",
      "        ...,\n",
      "        [-0.4731, -1.1562,  2.3105],\n",
      "        [ 1.7070, -1.9209, -1.0098],\n",
      "        [-0.2852,  0.6738, -0.7520]], device='cuda:0', dtype=torch.float16), hidden_states=None, attentions=None)\n"
     ]
    },
    {
     "name": "stderr",
     "output_type": "stream",
     "text": []
    },
    {
     "name": "stdout",
     "output_type": "stream",
     "text": [
      "output of the model SequenceClassifierOutput(loss=None, logits=tensor([[-1.5068,  0.3662,  2.0215],\n",
      "        [ 1.9111, -1.1738, -1.8203],\n",
      "        [ 1.6748, -2.7637,  0.6963],\n",
      "        ...,\n",
      "        [-0.2961, -1.2744,  1.6963],\n",
      "        [-1.8965,  3.0254, -0.7241],\n",
      "        [-1.7686,  2.9688, -0.8501]], device='cuda:0', dtype=torch.float16), hidden_states=None, attentions=None)\n"
     ]
    },
    {
     "name": "stderr",
     "output_type": "stream",
     "text": []
    },
    {
     "name": "stdout",
     "output_type": "stream",
     "text": [
      "output of the model SequenceClassifierOutput(loss=None, logits=tensor([[-1.7852,  2.9922, -0.8613],\n",
      "        [-1.3740,  0.7832,  1.4795],\n",
      "        [-0.6802,  0.2360,  0.7314],\n",
      "        ...,\n",
      "        [ 0.1144, -2.1855,  2.2793],\n",
      "        [-1.7529,  2.9414, -0.8618],\n",
      "        [-1.3115,  0.2803,  2.0391]], device='cuda:0', dtype=torch.float16), hidden_states=None, attentions=None)\n"
     ]
    },
    {
     "name": "stderr",
     "output_type": "stream",
     "text": []
    },
    {
     "name": "stdout",
     "output_type": "stream",
     "text": [
      "output of the model SequenceClassifierOutput(loss=None, logits=tensor([[ 0.1766,  1.1328, -1.4824],\n",
      "        [-0.4504, -0.0231,  1.0928],\n",
      "        [-0.9795, -0.3054,  2.2969],\n",
      "        ...,\n",
      "        [ 0.7397, -1.7607,  1.0459],\n",
      "        [-0.4563, -1.0938,  2.1680],\n",
      "        [ 0.4138, -1.9717,  1.9414]], device='cuda:0', dtype=torch.float16), hidden_states=None, attentions=None)\n"
     ]
    },
    {
     "name": "stderr",
     "output_type": "stream",
     "text": []
    },
    {
     "name": "stdout",
     "output_type": "stream",
     "text": [
      "output of the model SequenceClassifierOutput(loss=None, logits=tensor([[ 1.8613, -2.5703, -0.1047],\n",
      "        [-0.9541, -0.8584,  2.5703],\n",
      "        [-1.2158,  2.1230, -0.8438],\n",
      "        ...,\n",
      "        [-1.5322,  0.7275,  1.8330],\n",
      "        [ 1.3721, -1.7930, -0.5093],\n",
      "        [-0.2297, -1.7275,  2.2715]], device='cuda:0', dtype=torch.float16), hidden_states=None, attentions=None)\n"
     ]
    },
    {
     "name": "stderr",
     "output_type": "stream",
     "text": []
    },
    {
     "name": "stdout",
     "output_type": "stream",
     "text": [
      "output of the model SequenceClassifierOutput(loss=None, logits=tensor([[-0.8154, -0.9912,  2.0195],\n",
      "        [ 1.7969, -2.8262,  0.3193],\n",
      "        [-1.7061,  2.5039, -0.3765],\n",
      "        ...,\n",
      "        [-0.2764, -0.2944,  0.6748],\n",
      "        [-1.2432,  0.8091,  1.2090],\n",
      "        [-1.4160,  2.8125, -1.2412]], device='cuda:0', dtype=torch.float16), hidden_states=None, attentions=None)\n"
     ]
    },
    {
     "name": "stderr",
     "output_type": "stream",
     "text": []
    },
    {
     "name": "stdout",
     "output_type": "stream",
     "text": [
      "output of the model SequenceClassifierOutput(loss=None, logits=tensor([[-1.1533, -0.3730,  2.3867],\n",
      "        [-1.2646, -0.2756,  2.3340],\n",
      "        [-1.5977,  1.8545,  0.9121],\n",
      "        ...,\n",
      "        [ 1.1943, -0.8467, -0.7437],\n",
      "        [-0.4565, -1.3662,  2.4219],\n",
      "        [ 1.7197, -2.8320,  0.4084]], device='cuda:0', dtype=torch.float16), hidden_states=None, attentions=None)\n"
     ]
    },
    {
     "name": "stderr",
     "output_type": "stream",
     "text": []
    },
    {
     "name": "stdout",
     "output_type": "stream",
     "text": [
      "output of the model SequenceClassifierOutput(loss=None, logits=tensor([[ 1.2959, -0.9409, -1.4590],\n",
      "        [ 1.9258, -1.9561, -1.2969],\n",
      "        [ 0.2043, -1.5957,  1.5566],\n",
      "        ...,\n",
      "        [-1.2998,  2.4082, -1.0381],\n",
      "        [-0.4729, -0.5908,  1.5859],\n",
      "        [-1.7471,  2.6113, -0.1159]], device='cuda:0', dtype=torch.float16), hidden_states=None, attentions=None)\n"
     ]
    },
    {
     "name": "stderr",
     "output_type": "stream",
     "text": []
    },
    {
     "name": "stdout",
     "output_type": "stream",
     "text": [
      "output of the model SequenceClassifierOutput(loss=None, logits=tensor([[-1.8047,  2.6875, -0.1555],\n",
      "        [-1.7568,  2.6875, -0.2444],\n",
      "        [-1.7539,  2.6738, -0.1907],\n",
      "        ...,\n",
      "        [-0.4846,  1.1484, -1.0605],\n",
      "        [ 0.4580, -0.0762, -1.2090],\n",
      "        [-1.5322,  0.3760,  2.0039]], device='cuda:0', dtype=torch.float16), hidden_states=None, attentions=None)\n"
     ]
    },
    {
     "name": "stderr",
     "output_type": "stream",
     "text": []
    },
    {
     "name": "stdout",
     "output_type": "stream",
     "text": [
      "output of the model SequenceClassifierOutput(loss=None, logits=tensor([[-1.8398,  2.3145,  0.4326],\n",
      "        [-1.6318,  2.0098,  0.4873],\n",
      "        [-1.6318,  2.0098,  0.4873],\n",
      "        ...,\n",
      "        [-0.4150, -1.5420,  2.3359],\n",
      "        [-1.1084, -0.5176,  2.1602],\n",
      "        [ 0.4580, -0.5098, -1.1113]], device='cuda:0', dtype=torch.float16), hidden_states=None, attentions=None)\n"
     ]
    },
    {
     "name": "stderr",
     "output_type": "stream",
     "text": []
    },
    {
     "name": "stdout",
     "output_type": "stream",
     "text": [
      "output of the model SequenceClassifierOutput(loss=None, logits=tensor([[-1.3730,  2.8223, -1.4072],\n",
      "        [ 1.9658, -1.4609, -1.6543],\n",
      "        [-1.1162,  2.1465, -0.8530],\n",
      "        ...,\n",
      "        [-1.4277, -0.1238,  2.4434],\n",
      "        [-0.8901, -0.5234,  2.2578],\n",
      "        [-1.0293, -0.9863,  2.5430]], device='cuda:0', dtype=torch.float16), hidden_states=None, attentions=None)\n"
     ]
    },
    {
     "name": "stderr",
     "output_type": "stream",
     "text": []
    },
    {
     "name": "stdout",
     "output_type": "stream",
     "text": [
      "output of the model SequenceClassifierOutput(loss=None, logits=tensor([[ 1.9570, -1.9307, -1.3037],\n",
      "        [-0.5454, -1.4229,  2.4473],\n",
      "        [ 1.1533, -2.4883,  0.8921],\n",
      "        ...,\n",
      "        [-1.4570,  1.5312,  1.0723],\n",
      "        [ 1.9160, -1.2471, -1.4990],\n",
      "        [ 1.8193, -2.7539,  0.0047]], device='cuda:0', dtype=torch.float16), hidden_states=None, attentions=None)\n"
     ]
    },
    {
     "name": "stderr",
     "output_type": "stream",
     "text": []
    },
    {
     "name": "stdout",
     "output_type": "stream",
     "text": [
      "output of the model SequenceClassifierOutput(loss=None, logits=tensor([[ 2.0098, -2.1426, -1.2715],\n",
      "        [-0.3552, -1.8760,  2.4375],\n",
      "        [-1.0098, -1.1064,  2.6445],\n",
      "        ...,\n",
      "        [ 0.1381, -0.6470,  1.1885],\n",
      "        [ 1.5869, -2.0254, -0.2162],\n",
      "        [-0.6377, -1.2471,  2.4492]], device='cuda:0', dtype=torch.float16), hidden_states=None, attentions=None)\n"
     ]
    },
    {
     "name": "stderr",
     "output_type": "stream",
     "text": []
    },
    {
     "name": "stdout",
     "output_type": "stream",
     "text": [
      "output of the model SequenceClassifierOutput(loss=None, logits=tensor([[-0.8379, -0.9102,  2.4004],\n",
      "        [-0.8188, -0.6162,  2.1309],\n",
      "        [-1.6748,  2.5996, -0.3496],\n",
      "        ...,\n",
      "        [-0.2512, -1.8955,  2.1719],\n",
      "        [ 1.9502, -2.1465, -1.1309],\n",
      "        [ 1.3174, -0.7002, -1.7041]], device='cuda:0', dtype=torch.float16), hidden_states=None, attentions=None)\n"
     ]
    },
    {
     "name": "stderr",
     "output_type": "stream",
     "text": []
    },
    {
     "name": "stdout",
     "output_type": "stream",
     "text": [
      "output of the model SequenceClassifierOutput(loss=None, logits=tensor([[ 1.7754, -2.2812, -0.8931],\n",
      "        [-1.7002,  1.1328,  1.6328],\n",
      "        [-1.4521,  0.2306,  2.0508],\n",
      "        ...,\n",
      "        [-0.3818, -1.1250,  2.0898],\n",
      "        [-1.1221, -0.2585,  2.2461],\n",
      "        [-1.7314,  2.8516, -0.8193]], device='cuda:0', dtype=torch.float16), hidden_states=None, attentions=None)\n"
     ]
    },
    {
     "name": "stderr",
     "output_type": "stream",
     "text": []
    },
    {
     "name": "stdout",
     "output_type": "stream",
     "text": [
      "output of the model SequenceClassifierOutput(loss=None, logits=tensor([[-0.1467, -0.7393,  0.6909],\n",
      "        [-1.7822,  2.6738, -0.1471],\n",
      "        [-1.7822,  2.6738, -0.1471],\n",
      "        ...,\n",
      "        [ 1.7998, -2.1426, -0.9917],\n",
      "        [-0.9937, -0.8521,  2.5293],\n",
      "        [-1.5342,  1.1436,  1.3994]], device='cuda:0', dtype=torch.float16), hidden_states=None, attentions=None)\n"
     ]
    },
    {
     "name": "stderr",
     "output_type": "stream",
     "text": []
    },
    {
     "name": "stdout",
     "output_type": "stream",
     "text": [
      "output of the model SequenceClassifierOutput(loss=None, logits=tensor([[ 1.5840, -0.4668, -2.1406],\n",
      "        [ 1.7217, -2.1191, -0.6372],\n",
      "        [ 1.3467, -2.2168,  0.0236],\n",
      "        ...,\n",
      "        [-1.0410, -0.5688,  2.4883],\n",
      "        [ 2.0371, -1.7529, -1.5771],\n",
      "        [-0.3716, -1.8691,  2.4492]], device='cuda:0', dtype=torch.float16), hidden_states=None, attentions=None)\n"
     ]
    },
    {
     "name": "stderr",
     "output_type": "stream",
     "text": []
    },
    {
     "name": "stdout",
     "output_type": "stream",
     "text": [
      "output of the model SequenceClassifierOutput(loss=None, logits=tensor([[-1.1982, -0.6279,  2.5625],\n",
      "        [-1.0635, -0.9341,  2.6641],\n",
      "        [-1.0635, -0.9341,  2.6641],\n",
      "        ...,\n",
      "        [-0.0608, -1.9336,  2.1816],\n",
      "        [-1.7236,  3.0020, -0.9478],\n",
      "        [-1.0586, -1.1152,  2.7168]], device='cuda:0', dtype=torch.float16), hidden_states=None, attentions=None)\n"
     ]
    },
    {
     "name": "stderr",
     "output_type": "stream",
     "text": []
    },
    {
     "name": "stdout",
     "output_type": "stream",
     "text": [
      "output of the model SequenceClassifierOutput(loss=None, logits=tensor([[-1.8721,  2.8496, -0.5698],\n",
      "        [ 0.8555, -2.1934,  1.1094],\n",
      "        [-0.9253,  0.6226,  0.7314],\n",
      "        ...,\n",
      "        [-0.1904, -1.9131,  2.2832],\n",
      "        [-0.2759, -1.7471,  2.3125],\n",
      "        [-0.2620, -1.8721,  2.3516]], device='cuda:0', dtype=torch.float16), hidden_states=None, attentions=None)\n"
     ]
    },
    {
     "name": "stderr",
     "output_type": "stream",
     "text": []
    },
    {
     "name": "stdout",
     "output_type": "stream",
     "text": [
      "output of the model SequenceClassifierOutput(loss=None, logits=tensor([[ 1.7969, -2.3555, -0.5273],\n",
      "        [-1.4619,  1.0820,  0.9702],\n",
      "        [ 0.1748, -0.0799, -0.6694],\n",
      "        ...,\n",
      "        [-0.1068, -0.6709,  0.7744],\n",
      "        [ 0.4993, -0.5386, -0.3875],\n",
      "        [-1.1426, -0.5752,  2.1602]], device='cuda:0', dtype=torch.float16), hidden_states=None, attentions=None)\n"
     ]
    },
    {
     "name": "stderr",
     "output_type": "stream",
     "text": []
    },
    {
     "name": "stdout",
     "output_type": "stream",
     "text": [
      "output of the model SequenceClassifierOutput(loss=None, logits=tensor([[-1.3896, -0.0463,  2.3125],\n",
      "        [-0.5200, -1.4639,  2.4453],\n",
      "        [ 0.3840, -1.1738,  0.0908],\n",
      "        ...,\n",
      "        [-1.5391,  2.8965, -1.2725],\n",
      "        [ 1.1875, -0.8413, -1.3750],\n",
      "        [-1.6865,  1.6143,  1.2637]], device='cuda:0', dtype=torch.float16), hidden_states=None, attentions=None)\n"
     ]
    },
    {
     "name": "stderr",
     "output_type": "stream",
     "text": []
    },
    {
     "name": "stdout",
     "output_type": "stream",
     "text": [
      "output of the model SequenceClassifierOutput(loss=None, logits=tensor([[-0.3718, -1.7168,  2.4004],\n",
      "        [ 0.8145, -2.2031,  1.4277],\n",
      "        [-1.5000,  2.5078, -0.7842],\n",
      "        ...,\n",
      "        [ 0.4644, -2.3281,  1.9121],\n",
      "        [-0.6064, -1.4248,  2.4492],\n",
      "        [ 1.0049, -2.6875,  1.6113]], device='cuda:0', dtype=torch.float16), hidden_states=None, attentions=None)\n"
     ]
    },
    {
     "name": "stderr",
     "output_type": "stream",
     "text": []
    },
    {
     "name": "stdout",
     "output_type": "stream",
     "text": [
      "output of the model SequenceClassifierOutput(loss=None, logits=tensor([[ 0.3022, -2.1602,  1.8516],\n",
      "        [-1.2773,  2.6152, -1.2266],\n",
      "        [-1.2773,  2.6152, -1.2266],\n",
      "        ...,\n",
      "        [-1.7822,  2.6738, -0.1471],\n",
      "        [ 0.1642, -1.1592,  1.1045],\n",
      "        [ 0.1390, -1.1338,  1.1396]], device='cuda:0', dtype=torch.float16), hidden_states=None, attentions=None)\n"
     ]
    },
    {
     "name": "stderr",
     "output_type": "stream",
     "text": []
    },
    {
     "name": "stdout",
     "output_type": "stream",
     "text": [
      "output of the model SequenceClassifierOutput(loss=None, logits=tensor([[-0.0039, -0.9385,  1.2070],\n",
      "        [ 0.0803, -1.0059,  1.0859],\n",
      "        [ 0.1642, -1.1592,  1.1045],\n",
      "        ...,\n",
      "        [ 1.9482, -1.6689, -1.5459],\n",
      "        [ 2.0410, -2.0938, -1.1875],\n",
      "        [-1.4951,  2.6387, -0.9282]], device='cuda:0', dtype=torch.float16), hidden_states=None, attentions=None)\n"
     ]
    },
    {
     "name": "stderr",
     "output_type": "stream",
     "text": []
    },
    {
     "name": "stdout",
     "output_type": "stream",
     "text": [
      "output of the model SequenceClassifierOutput(loss=None, logits=tensor([[-1.0703,  2.6152, -1.5176],\n",
      "        [-0.7939,  0.5327,  0.3481],\n",
      "        [-1.0391,  1.7998, -0.7290],\n",
      "        ...,\n",
      "        [-0.3169,  1.2979, -1.5986],\n",
      "        [ 1.7920, -1.3848, -1.6309],\n",
      "        [-0.4001, -1.5264,  2.4258]], device='cuda:0', dtype=torch.float16), hidden_states=None, attentions=None)\n"
     ]
    },
    {
     "name": "stderr",
     "output_type": "stream",
     "text": []
    },
    {
     "name": "stdout",
     "output_type": "stream",
     "text": [
      "output of the model SequenceClassifierOutput(loss=None, logits=tensor([[ 1.8047, -1.1826, -1.8145],\n",
      "        [ 1.8174, -1.1797, -1.8721],\n",
      "        [ 1.7666, -1.1680, -1.8457],\n",
      "        ...,\n",
      "        [-1.6162,  2.0723,  0.2937],\n",
      "        [-1.1436, -0.4780,  2.5234],\n",
      "        [-0.4944,  0.6738, -0.3645]], device='cuda:0', dtype=torch.float16), hidden_states=None, attentions=None)\n"
     ]
    },
    {
     "name": "stderr",
     "output_type": "stream",
     "text": []
    },
    {
     "name": "stdout",
     "output_type": "stream",
     "text": [
      "output of the model SequenceClassifierOutput(loss=None, logits=tensor([[ 0.2078,  0.3521, -1.4326],\n",
      "        [-1.2646,  0.8809,  0.8105],\n",
      "        [-1.5596,  1.5449,  0.6343],\n",
      "        ...,\n",
      "        [-1.2676, -0.5308,  2.5723],\n",
      "        [-1.3701,  0.0880,  1.9521],\n",
      "        [-1.5898,  0.4934,  2.0547]], device='cuda:0', dtype=torch.float16), hidden_states=None, attentions=None)\n"
     ]
    },
    {
     "name": "stderr",
     "output_type": "stream",
     "text": []
    },
    {
     "name": "stdout",
     "output_type": "stream",
     "text": [
      "output of the model SequenceClassifierOutput(loss=None, logits=tensor([[-0.5845, -0.4680,  1.4854],\n",
      "        [ 1.9404, -2.3574, -0.4207],\n",
      "        [ 0.0085, -1.0088,  0.9082],\n",
      "        ...,\n",
      "        [ 0.9917, -0.3396, -1.6113],\n",
      "        [ 0.4238, -1.4121,  1.2490],\n",
      "        [ 1.4336, -2.7500,  1.1348]], device='cuda:0', dtype=torch.float16), hidden_states=None, attentions=None)\n"
     ]
    },
    {
     "name": "stderr",
     "output_type": "stream",
     "text": []
    },
    {
     "name": "stdout",
     "output_type": "stream",
     "text": [
      "output of the model SequenceClassifierOutput(loss=None, logits=tensor([[ 1.6016e+00, -2.8145e+00,  7.3193e-01],\n",
      "        [ 1.8864e-03, -1.6328e+00,  2.0547e+00],\n",
      "        [-3.9478e-01, -1.6475e+00,  2.3105e+00],\n",
      "        ...,\n",
      "        [ 3.2349e-02, -7.2949e-01,  1.1250e+00],\n",
      "        [-1.4756e+00,  2.5659e-01,  2.0820e+00],\n",
      "        [ 7.2479e-03, -2.0449e+00,  2.2734e+00]], device='cuda:0',\n",
      "       dtype=torch.float16), hidden_states=None, attentions=None)\n"
     ]
    },
    {
     "name": "stderr",
     "output_type": "stream",
     "text": []
    },
    {
     "name": "stdout",
     "output_type": "stream",
     "text": [
      "output of the model SequenceClassifierOutput(loss=None, logits=tensor([[ 1.6934, -0.7988, -1.7422],\n",
      "        [ 1.3506, -0.0146, -2.1641],\n",
      "        [-1.3389,  2.2949, -0.5679],\n",
      "        ...,\n",
      "        [ 1.0449, -1.5605,  0.4414],\n",
      "        [ 0.5068, -1.0215,  0.4751],\n",
      "        [-0.5610, -1.0645,  2.3223]], device='cuda:0', dtype=torch.float16), hidden_states=None, attentions=None)\n"
     ]
    },
    {
     "name": "stderr",
     "output_type": "stream",
     "text": []
    },
    {
     "name": "stdout",
     "output_type": "stream",
     "text": [
      "output of the model SequenceClassifierOutput(loss=None, logits=tensor([[-0.4177, -1.3779,  2.3848],\n",
      "        [-1.8389,  2.1445,  0.9609],\n",
      "        [-1.6475,  1.5752,  1.3730],\n",
      "        ...,\n",
      "        [-1.6904,  2.9121, -0.7905],\n",
      "        [-1.7285,  2.8945, -0.7290],\n",
      "        [-1.0537, -0.7842,  2.4609]], device='cuda:0', dtype=torch.float16), hidden_states=None, attentions=None)\n"
     ]
    },
    {
     "name": "stderr",
     "output_type": "stream",
     "text": []
    },
    {
     "name": "stdout",
     "output_type": "stream",
     "text": [
      "output of the model SequenceClassifierOutput(loss=None, logits=tensor([[-1.1035,  0.3601,  1.7812],\n",
      "        [ 0.3477, -1.8730,  2.1348],\n",
      "        [-1.4463, -0.0652,  2.4395],\n",
      "        ...,\n",
      "        [-1.1768,  1.9805,  0.0275],\n",
      "        [ 0.3826,  0.5312, -1.6230],\n",
      "        [-1.7500,  2.7852, -0.3037]], device='cuda:0', dtype=torch.float16), hidden_states=None, attentions=None)\n"
     ]
    },
    {
     "name": "stderr",
     "output_type": "stream",
     "text": []
    },
    {
     "name": "stdout",
     "output_type": "stream",
     "text": [
      "output of the model SequenceClassifierOutput(loss=None, logits=tensor([[ 1.7529, -0.6318, -1.9717],\n",
      "        [-1.3525,  1.3213,  0.9351],\n",
      "        [-0.7617, -0.1417,  1.4229],\n",
      "        ...,\n",
      "        [ 0.4348, -1.6660,  0.6577],\n",
      "        [ 1.0869, -2.4688,  1.2275],\n",
      "        [ 0.2859, -0.0135, -1.1787]], device='cuda:0', dtype=torch.float16), hidden_states=None, attentions=None)\n"
     ]
    },
    {
     "name": "stderr",
     "output_type": "stream",
     "text": []
    },
    {
     "name": "stdout",
     "output_type": "stream",
     "text": [
      "output of the model SequenceClassifierOutput(loss=None, logits=tensor([[-1.2129,  1.7686, -0.2517],\n",
      "        [-1.2979,  1.5205,  0.1230],\n",
      "        [-0.6338,  0.4543,  0.2551],\n",
      "        ...,\n",
      "        [-0.0068, -0.9526,  1.2002],\n",
      "        [ 0.1390, -1.1338,  1.1396],\n",
      "        [ 0.1390, -1.1338,  1.1396]], device='cuda:0', dtype=torch.float16), hidden_states=None, attentions=None)\n"
     ]
    },
    {
     "name": "stderr",
     "output_type": "stream",
     "text": []
    },
    {
     "name": "stdout",
     "output_type": "stream",
     "text": [
      "output of the model SequenceClassifierOutput(loss=None, logits=tensor([[-0.1788, -1.1514,  0.7070],\n",
      "        [-1.6816,  2.9766, -0.9736],\n",
      "        [-0.6636, -0.3208,  1.4766],\n",
      "        ...,\n",
      "        [-1.7842,  2.9844, -0.8740],\n",
      "        [ 1.4053, -2.0547,  0.1070],\n",
      "        [-0.0032, -1.7822,  1.9785]], device='cuda:0', dtype=torch.float16), hidden_states=None, attentions=None)\n"
     ]
    },
    {
     "name": "stderr",
     "output_type": "stream",
     "text": []
    },
    {
     "name": "stdout",
     "output_type": "stream",
     "text": [
      "output of the model SequenceClassifierOutput(loss=None, logits=tensor([[-1.6240,  2.9336, -1.0146],\n",
      "        [-0.8589, -1.1709,  2.4902],\n",
      "        [-1.7334,  1.1084,  1.6553],\n",
      "        ...,\n",
      "        [-1.8252,  3.0508, -0.9478],\n",
      "        [-1.8193,  2.9766, -0.8667],\n",
      "        [-1.4043,  1.2139,  0.7656]], device='cuda:0', dtype=torch.float16), hidden_states=None, attentions=None)\n"
     ]
    },
    {
     "name": "stderr",
     "output_type": "stream",
     "text": []
    },
    {
     "name": "stdout",
     "output_type": "stream",
     "text": [
      "output of the model SequenceClassifierOutput(loss=None, logits=tensor([[-1.8086,  2.9668, -0.8535],\n",
      "        [-1.6689,  2.9961, -1.1270],\n",
      "        [-1.5137,  0.4219,  1.9893],\n",
      "        ...,\n",
      "        [-1.0547, -0.9590,  2.5859],\n",
      "        [ 0.3035, -2.2090,  2.0332],\n",
      "        [-0.8110,  1.7441, -0.8486]], device='cuda:0', dtype=torch.float16), hidden_states=None, attentions=None)\n"
     ]
    },
    {
     "name": "stderr",
     "output_type": "stream",
     "text": []
    },
    {
     "name": "stdout",
     "output_type": "stream",
     "text": [
      "output of the model SequenceClassifierOutput(loss=None, logits=tensor([[ 0.3376, -0.6958, -0.2681],\n",
      "        [-1.3584, -0.2273,  2.3965],\n",
      "        [-0.7910, -1.4121,  2.5840],\n",
      "        ...,\n",
      "        [ 0.0681, -0.3167,  0.3264],\n",
      "        [-0.1749, -1.8701,  2.1562],\n",
      "        [-1.6338,  1.6338,  0.8452]], device='cuda:0', dtype=torch.float16), hidden_states=None, attentions=None)\n"
     ]
    },
    {
     "name": "stderr",
     "output_type": "stream",
     "text": []
    },
    {
     "name": "stdout",
     "output_type": "stream",
     "text": [
      "output of the model SequenceClassifierOutput(loss=None, logits=tensor([[-1.6729,  1.7588,  0.7944],\n",
      "        [-1.5088,  1.0430,  1.3711],\n",
      "        [-0.1592, -1.9912,  2.3340],\n",
      "        ...,\n",
      "        [ 0.5835,  0.1018, -1.6445],\n",
      "        [-0.2639, -1.9277,  2.4609],\n",
      "        [ 0.5684,  0.1738, -1.6992]], device='cuda:0', dtype=torch.float16), hidden_states=None, attentions=None)\n"
     ]
    },
    {
     "name": "stderr",
     "output_type": "stream",
     "text": []
    },
    {
     "name": "stdout",
     "output_type": "stream",
     "text": [
      "output of the model SequenceClassifierOutput(loss=None, logits=tensor([[-1.4600,  0.1525,  2.2051],\n",
      "        [ 0.9683, -0.4224, -1.5430],\n",
      "        [ 2.0176, -2.3203, -1.0615],\n",
      "        ...,\n",
      "        [-0.7485,  0.9297, -0.1078],\n",
      "        [-1.3252,  2.4609, -0.7812],\n",
      "        [ 1.5830, -1.3887, -1.5137]], device='cuda:0', dtype=torch.float16), hidden_states=None, attentions=None)\n"
     ]
    },
    {
     "name": "stderr",
     "output_type": "stream",
     "text": []
    },
    {
     "name": "stdout",
     "output_type": "stream",
     "text": [
      "output of the model SequenceClassifierOutput(loss=None, logits=tensor([[ 0.2368, -2.1777,  1.7969],\n",
      "        [ 0.1355, -2.1699,  2.1113],\n",
      "        [-0.3901, -1.7520,  2.3066],\n",
      "        ...,\n",
      "        [-1.1113, -0.7319,  2.4531],\n",
      "        [ 1.1143, -2.4512,  1.0498],\n",
      "        [-0.5859, -1.6387,  2.6133]], device='cuda:0', dtype=torch.float16), hidden_states=None, attentions=None)\n"
     ]
    },
    {
     "name": "stderr",
     "output_type": "stream",
     "text": []
    },
    {
     "name": "stdout",
     "output_type": "stream",
     "text": [
      "output of the model SequenceClassifierOutput(loss=None, logits=tensor([[ 0.0295,  0.7012, -0.8813],\n",
      "        [-0.4373, -1.4873,  2.3633],\n",
      "        [ 1.1133, -1.2607, -0.0983],\n",
      "        ...,\n",
      "        [ 1.6240, -2.8516,  0.9438],\n",
      "        [-0.0306, -0.0233,  0.2668],\n",
      "        [-0.6040, -0.9072,  2.1855]], device='cuda:0', dtype=torch.float16), hidden_states=None, attentions=None)\n"
     ]
    },
    {
     "name": "stderr",
     "output_type": "stream",
     "text": []
    },
    {
     "name": "stdout",
     "output_type": "stream",
     "text": [
      "output of the model SequenceClassifierOutput(loss=None, logits=tensor([[ 1.0479, -1.8223, -0.2067],\n",
      "        [ 0.5649, -2.3320,  1.7959],\n",
      "        [-0.7266, -0.0478,  1.2432],\n",
      "        ...,\n",
      "        [-0.8628, -1.0195,  2.3711],\n",
      "        [-0.5820, -1.4434,  2.5430],\n",
      "        [-0.7017, -1.3486,  2.6113]], device='cuda:0', dtype=torch.float16), hidden_states=None, attentions=None)\n"
     ]
    },
    {
     "name": "stderr",
     "output_type": "stream",
     "text": []
    },
    {
     "name": "stdout",
     "output_type": "stream",
     "text": [
      "output of the model SequenceClassifierOutput(loss=None, logits=tensor([[ 1.1709, -2.0859,  0.6323],\n",
      "        [ 1.1709, -2.0859,  0.6323],\n",
      "        [ 0.1696, -0.9009,  0.9224],\n",
      "        ...,\n",
      "        [-1.6729,  2.4160, -0.2467],\n",
      "        [ 0.2913, -2.2910,  2.2324],\n",
      "        [ 0.8921, -2.2168,  1.1729]], device='cuda:0', dtype=torch.float16), hidden_states=None, attentions=None)\n"
     ]
    },
    {
     "name": "stderr",
     "output_type": "stream",
     "text": []
    },
    {
     "name": "stdout",
     "output_type": "stream",
     "text": [
      "output of the model SequenceClassifierOutput(loss=None, logits=tensor([[-0.2571, -1.8389,  2.3867],\n",
      "        [-0.6377, -1.2090,  2.1406],\n",
      "        [-0.4741, -1.5859,  2.5000],\n",
      "        ...,\n",
      "        [ 1.9639, -2.7148, -0.2124],\n",
      "        [-0.9819, -1.0957,  2.5176],\n",
      "        [-1.2100,  0.9707,  1.0059]], device='cuda:0', dtype=torch.float16), hidden_states=None, attentions=None)\n"
     ]
    },
    {
     "name": "stderr",
     "output_type": "stream",
     "text": []
    },
    {
     "name": "stdout",
     "output_type": "stream",
     "text": [
      "output of the model SequenceClassifierOutput(loss=None, logits=tensor([[ 1.9902, -2.0938, -1.3145],\n",
      "        [-0.6592, -0.2678,  1.2227],\n",
      "        [ 1.7764, -1.6357, -1.4668],\n",
      "        ...,\n",
      "        [-0.6729,  0.0230,  1.2275],\n",
      "        [ 1.3594, -2.2637,  0.2396],\n",
      "        [ 1.1904, -2.5898,  1.1211]], device='cuda:0', dtype=torch.float16), hidden_states=None, attentions=None)\n"
     ]
    },
    {
     "name": "stderr",
     "output_type": "stream",
     "text": []
    },
    {
     "name": "stdout",
     "output_type": "stream",
     "text": [
      "output of the model SequenceClassifierOutput(loss=None, logits=tensor([[ 1.2939, -2.5469,  1.2041],\n",
      "        [ 0.2749, -2.2461,  2.1367],\n",
      "        [ 1.7988, -2.6133, -0.0742],\n",
      "        ...,\n",
      "        [-1.3271,  1.4775,  0.4783],\n",
      "        [ 0.9219, -2.4863,  1.5342],\n",
      "        [-0.3372, -1.6836,  2.3945]], device='cuda:0', dtype=torch.float16), hidden_states=None, attentions=None)\n"
     ]
    },
    {
     "name": "stderr",
     "output_type": "stream",
     "text": []
    },
    {
     "name": "stdout",
     "output_type": "stream",
     "text": [
      "output of the model SequenceClassifierOutput(loss=None, logits=tensor([[-0.0608,  0.7593, -1.4590],\n",
      "        [-0.4387, -1.5186,  2.3984],\n",
      "        [ 1.0586, -0.8877, -0.2913],\n",
      "        ...,\n",
      "        [ 1.0762, -0.2842, -1.0859],\n",
      "        [-0.9170,  2.1816, -1.1602],\n",
      "        [-0.0088, -0.1853,  0.4067]], device='cuda:0', dtype=torch.float16), hidden_states=None, attentions=None)\n"
     ]
    },
    {
     "name": "stderr",
     "output_type": "stream",
     "text": []
    },
    {
     "name": "stdout",
     "output_type": "stream",
     "text": [
      "output of the model SequenceClassifierOutput(loss=None, logits=tensor([[ 1.5713, -0.6431, -1.6797],\n",
      "        [-0.5005,  0.9229, -0.2158],\n",
      "        [-0.8472,  1.8389, -1.0000],\n",
      "        ...,\n",
      "        [-1.3486,  0.7954,  1.3281],\n",
      "        [-1.2783, -0.1357,  2.1660],\n",
      "        [-0.2517,  1.2637, -1.7295]], device='cuda:0', dtype=torch.float16), hidden_states=None, attentions=None)\n"
     ]
    },
    {
     "name": "stderr",
     "output_type": "stream",
     "text": []
    },
    {
     "name": "stdout",
     "output_type": "stream",
     "text": [
      "output of the model SequenceClassifierOutput(loss=None, logits=tensor([[-1.4893,  2.8594, -1.3174],\n",
      "        [-0.6157,  0.9893, -0.5732],\n",
      "        [-1.4609,  0.2598,  2.0645],\n",
      "        ...,\n",
      "        [-0.7773,  0.0169,  0.8252],\n",
      "        [ 0.5684, -0.2115, -1.0342],\n",
      "        [-1.7764,  3.0371, -0.9585]], device='cuda:0', dtype=torch.float16), hidden_states=None, attentions=None)\n"
     ]
    },
    {
     "name": "stderr",
     "output_type": "stream",
     "text": []
    },
    {
     "name": "stdout",
     "output_type": "stream",
     "text": [
      "output of the model SequenceClassifierOutput(loss=None, logits=tensor([[-1.7471,  2.9004, -0.8428],\n",
      "        [-1.6318,  1.7197,  0.8838],\n",
      "        [ 1.9541, -1.4766, -1.6250],\n",
      "        ...,\n",
      "        [ 0.1196, -1.0049,  0.3943],\n",
      "        [-0.8467, -0.5430,  2.1777],\n",
      "        [-1.9404,  2.9414, -0.5693]], device='cuda:0', dtype=torch.float16), hidden_states=None, attentions=None)\n"
     ]
    },
    {
     "name": "stderr",
     "output_type": "stream",
     "text": []
    },
    {
     "name": "stdout",
     "output_type": "stream",
     "text": [
      "output of the model SequenceClassifierOutput(loss=None, logits=tensor([[ 0.4863, -2.1855,  1.6592],\n",
      "        [ 1.4990, -1.4346, -1.1152],\n",
      "        [ 0.3440, -1.5947,  1.7109],\n",
      "        ...,\n",
      "        [-0.0958, -1.3457,  1.5850],\n",
      "        [-0.9297,  0.0316,  1.5059],\n",
      "        [-1.8545,  2.9922, -0.7505]], device='cuda:0', dtype=torch.float16), hidden_states=None, attentions=None)\n"
     ]
    },
    {
     "name": "stderr",
     "output_type": "stream",
     "text": []
    },
    {
     "name": "stdout",
     "output_type": "stream",
     "text": [
      "output of the model SequenceClassifierOutput(loss=None, logits=tensor([[-1.8662,  2.9453, -0.6943],\n",
      "        [-1.8320,  2.9453, -0.7803],\n",
      "        [-1.0039, -1.0186,  2.5625],\n",
      "        ...,\n",
      "        [ 1.9736, -2.0840, -1.2314],\n",
      "        [ 1.7168, -2.4805, -0.0110],\n",
      "        [-0.6572, -1.1035,  2.3457]], device='cuda:0', dtype=torch.float16), hidden_states=None, attentions=None)\n"
     ]
    },
    {
     "name": "stderr",
     "output_type": "stream",
     "text": []
    },
    {
     "name": "stdout",
     "output_type": "stream",
     "text": [
      "output of the model SequenceClassifierOutput(loss=None, logits=tensor([[ 1.4199, -0.9658, -1.4619],\n",
      "        [ 0.5747, -0.0931, -1.3750],\n",
      "        [ 0.9126, -2.7520,  1.7754],\n",
      "        ...,\n",
      "        [-0.9282, -1.1064,  2.5020],\n",
      "        [-0.2949, -1.6553,  2.1777],\n",
      "        [ 1.4521, -2.7812,  0.7915]], device='cuda:0', dtype=torch.float16), hidden_states=None, attentions=None)\n"
     ]
    },
    {
     "name": "stderr",
     "output_type": "stream",
     "text": []
    },
    {
     "name": "stdout",
     "output_type": "stream",
     "text": [
      "output of the model SequenceClassifierOutput(loss=None, logits=tensor([[ 1.6875, -2.4199,  0.2250],\n",
      "        [-0.9634,  2.0605, -0.6499],\n",
      "        [-0.2512, -1.6221,  2.0586],\n",
      "        ...,\n",
      "        [ 0.9521, -1.9414,  0.6523],\n",
      "        [ 1.8291, -1.3340, -1.6689],\n",
      "        [ 1.2783, -1.2773, -0.7383]], device='cuda:0', dtype=torch.float16), hidden_states=None, attentions=None)\n"
     ]
    },
    {
     "name": "stderr",
     "output_type": "stream",
     "text": []
    },
    {
     "name": "stdout",
     "output_type": "stream",
     "text": [
      "output of the model SequenceClassifierOutput(loss=None, logits=tensor([[-0.9092, -0.8906,  2.3418],\n",
      "        [ 0.2103, -0.8906,  0.5801],\n",
      "        [ 0.9702, -2.8066,  1.7666],\n",
      "        ...,\n",
      "        [-1.0654,  0.5889,  0.9595],\n",
      "        [ 2.1211, -1.6279, -1.7422],\n",
      "        [ 1.7646, -0.5928, -2.1367]], device='cuda:0', dtype=torch.float16), hidden_states=None, attentions=None)\n"
     ]
    },
    {
     "name": "stderr",
     "output_type": "stream",
     "text": []
    },
    {
     "name": "stdout",
     "output_type": "stream",
     "text": [
      "output of the model SequenceClassifierOutput(loss=None, logits=tensor([[-0.6338, -0.2484,  1.2402],\n",
      "        [ 1.2920, -0.6973, -1.6104],\n",
      "        [-1.6270,  2.5957, -0.5879],\n",
      "        ...,\n",
      "        [ 0.3440, -1.5947,  1.7109],\n",
      "        [ 1.6494, -2.1094, -0.7671],\n",
      "        [-0.7354, -1.1436,  2.5742]], device='cuda:0', dtype=torch.float16), hidden_states=None, attentions=None)\n"
     ]
    },
    {
     "name": "stderr",
     "output_type": "stream",
     "text": []
    },
    {
     "name": "stdout",
     "output_type": "stream",
     "text": [
      "output of the model SequenceClassifierOutput(loss=None, logits=tensor([[-1.0234, -0.4797,  2.2559],\n",
      "        [ 0.5483, -0.7690, -0.0099],\n",
      "        [ 0.5483, -0.7690, -0.0099],\n",
      "        ...,\n",
      "        [-1.5635,  2.9883, -1.1689],\n",
      "        [-1.3291, -0.3440,  2.4863],\n",
      "        [-1.3232,  2.4551, -0.7793]], device='cuda:0', dtype=torch.float16), hidden_states=None, attentions=None)\n"
     ]
    },
    {
     "name": "stderr",
     "output_type": "stream",
     "text": []
    },
    {
     "name": "stdout",
     "output_type": "stream",
     "text": [
      "output of the model SequenceClassifierOutput(loss=None, logits=tensor([[-1.4375,  2.4434, -0.6724],\n",
      "        [ 0.3901, -2.1992,  2.1035],\n",
      "        [-0.0927,  0.3752, -0.6582],\n",
      "        ...,\n",
      "        [-1.7373,  2.8516, -0.7959],\n",
      "        [-0.4487, -1.8477,  2.5430],\n",
      "        [-1.0508, -0.8047,  2.4648]], device='cuda:0', dtype=torch.float16), hidden_states=None, attentions=None)\n"
     ]
    },
    {
     "name": "stderr",
     "output_type": "stream",
     "text": []
    },
    {
     "name": "stdout",
     "output_type": "stream",
     "text": [
      "output of the model SequenceClassifierOutput(loss=None, logits=tensor([[ 2.0234, -1.5283, -1.6816],\n",
      "        [ 2.0254, -1.6572, -1.5957],\n",
      "        [-0.1115, -2.0586,  2.3711],\n",
      "        ...,\n",
      "        [ 0.6470, -1.3711,  0.4788],\n",
      "        [-1.5781,  2.3828, -0.4216],\n",
      "        [-0.2708, -1.9658,  2.4180]], device='cuda:0', dtype=torch.float16), hidden_states=None, attentions=None)\n"
     ]
    },
    {
     "name": "stderr",
     "output_type": "stream",
     "text": []
    },
    {
     "name": "stdout",
     "output_type": "stream",
     "text": [
      "output of the model SequenceClassifierOutput(loss=None, logits=tensor([[-1.2295, -0.3755,  2.1387],\n",
      "        [-0.9487,  0.6416,  0.1598],\n",
      "        [ 1.6875, -2.4199,  0.2250],\n",
      "        ...,\n",
      "        [-0.0850,  0.0587,  0.2529],\n",
      "        [-0.0521,  0.3428, -0.3274],\n",
      "        [-1.7549,  2.9844, -0.8696]], device='cuda:0', dtype=torch.float16), hidden_states=None, attentions=None)\n"
     ]
    },
    {
     "name": "stderr",
     "output_type": "stream",
     "text": []
    },
    {
     "name": "stdout",
     "output_type": "stream",
     "text": [
      "output of the model SequenceClassifierOutput(loss=None, logits=tensor([[-1.7480,  1.9521,  0.6187],\n",
      "        [-1.2578,  1.3096,  0.2817],\n",
      "        [ 2.0664, -1.7686, -1.6016],\n",
      "        ...,\n",
      "        [-1.7617,  2.9160, -0.7300],\n",
      "        [-1.3447,  0.5684,  1.7617],\n",
      "        [-0.6133, -1.4512,  2.5508]], device='cuda:0', dtype=torch.float16), hidden_states=None, attentions=None)\n"
     ]
    },
    {
     "name": "stderr",
     "output_type": "stream",
     "text": []
    },
    {
     "name": "stdout",
     "output_type": "stream",
     "text": [
      "output of the model SequenceClassifierOutput(loss=None, logits=tensor([[ 1.9521, -2.5098, -0.7065],\n",
      "        [-0.1416,  0.3069, -0.5742],\n",
      "        [-1.6309,  2.8789, -0.9810],\n",
      "        ...,\n",
      "        [ 0.2426, -2.1055,  2.1270],\n",
      "        [ 1.3184, -2.7109,  1.1123],\n",
      "        [-1.5205,  1.9316, -0.1545]], device='cuda:0', dtype=torch.float16), hidden_states=None, attentions=None)\n"
     ]
    },
    {
     "name": "stderr",
     "output_type": "stream",
     "text": []
    },
    {
     "name": "stdout",
     "output_type": "stream",
     "text": [
      "output of the model SequenceClassifierOutput(loss=None, logits=tensor([[-1.4053,  2.2266,  0.1034],\n",
      "        [-1.0137, -0.8564,  2.6367],\n",
      "        [-1.6074,  1.4951,  0.9697],\n",
      "        ...,\n",
      "        [-1.1670,  2.5312, -1.1943],\n",
      "        [ 1.9092, -1.5908, -1.5742],\n",
      "        [-0.7300,  0.2925,  0.6577]], device='cuda:0', dtype=torch.float16), hidden_states=None, attentions=None)\n"
     ]
    },
    {
     "name": "stderr",
     "output_type": "stream",
     "text": []
    },
    {
     "name": "stdout",
     "output_type": "stream",
     "text": [
      "output of the model SequenceClassifierOutput(loss=None, logits=tensor([[ 0.9414, -0.5859, -1.4941],\n",
      "        [-0.9478,  1.3936, -0.7012],\n",
      "        [-0.6338,  1.0752, -0.3301],\n",
      "        ...,\n",
      "        [ 0.2476, -1.5117,  1.7930],\n",
      "        [ 0.2529, -2.0254,  2.1797],\n",
      "        [ 1.1055, -1.4629,  0.0587]], device='cuda:0', dtype=torch.float16), hidden_states=None, attentions=None)\n"
     ]
    },
    {
     "name": "stderr",
     "output_type": "stream",
     "text": []
    },
    {
     "name": "stdout",
     "output_type": "stream",
     "text": [
      "output of the model SequenceClassifierOutput(loss=None, logits=tensor([[ 1.9814, -2.6875, -0.4448],\n",
      "        [-0.2915, -1.8145,  2.5703],\n",
      "        [ 1.3350, -2.6133,  0.8462],\n",
      "        ...,\n",
      "        [-1.4951,  0.4731,  1.9023],\n",
      "        [ 0.9663, -2.6738,  1.7363],\n",
      "        [-0.5371, -1.4053,  2.4961]], device='cuda:0', dtype=torch.float16), hidden_states=None, attentions=None)\n"
     ]
    },
    {
     "name": "stderr",
     "output_type": "stream",
     "text": []
    },
    {
     "name": "stdout",
     "output_type": "stream",
     "text": [
      "output of the model SequenceClassifierOutput(loss=None, logits=tensor([[-0.7007, -1.4297,  2.6387],\n",
      "        [-0.3306, -1.8096,  2.5332],\n",
      "        [ 0.7612, -2.4531,  1.9160],\n",
      "        ...,\n",
      "        [ 1.0586, -0.8877, -0.2913],\n",
      "        [ 0.6904, -2.1855,  1.6553],\n",
      "        [-0.3088, -1.3252,  2.2500]], device='cuda:0', dtype=torch.float16), hidden_states=None, attentions=None)\n"
     ]
    },
    {
     "name": "stderr",
     "output_type": "stream",
     "text": []
    },
    {
     "name": "stdout",
     "output_type": "stream",
     "text": [
      "output of the model SequenceClassifierOutput(loss=None, logits=tensor([[-0.2791,  0.5181, -0.7383],\n",
      "        [-1.4795,  1.1504,  0.9316],\n",
      "        [-0.2428, -1.9072,  2.3691],\n",
      "        ...,\n",
      "        [-0.3679, -1.8174,  2.4648],\n",
      "        [ 1.8877, -2.0195, -0.7188],\n",
      "        [-1.0166, -0.6929,  2.4922]], device='cuda:0', dtype=torch.float16), hidden_states=None, attentions=None)\n"
     ]
    },
    {
     "name": "stderr",
     "output_type": "stream",
     "text": []
    },
    {
     "name": "stdout",
     "output_type": "stream",
     "text": [
      "output of the model SequenceClassifierOutput(loss=None, logits=tensor([[-0.7949, -0.3716,  2.1602],\n",
      "        [-1.0547, -0.8623,  2.4355],\n",
      "        [-1.0537, -1.0010,  2.6289],\n",
      "        ...,\n",
      "        [-0.5259, -1.3340,  2.3457],\n",
      "        [ 0.2632, -2.4395,  2.3125],\n",
      "        [-0.0421, -2.1777,  2.4453]], device='cuda:0', dtype=torch.float16), hidden_states=None, attentions=None)\n"
     ]
    },
    {
     "name": "stderr",
     "output_type": "stream",
     "text": [
      "Processing batches (chunk 2): 100%|██████████| 98/98 [00:34<00:00,  2.83it/s]\n",
      "Processing chunks:   2%|▏         | 2/131 [01:09<1:15:04, 34.92s/it]"
     ]
    },
    {
     "name": "stdout",
     "output_type": "stream",
     "text": [
      "output of the model SequenceClassifierOutput(loss=None, logits=tensor([[ 1.4951, -2.7402,  0.9111],\n",
      "        [-0.4207, -1.5557,  2.5078],\n",
      "        [ 0.4795, -2.0703,  1.8076],\n",
      "        ...,\n",
      "        [ 0.5884, -2.2012,  1.4941],\n",
      "        [-0.8403, -0.6709,  2.1348],\n",
      "        [-1.1533,  0.1383,  1.5156]], device='cuda:0', dtype=torch.float16), hidden_states=None, attentions=None)\n"
     ]
    },
    {
     "name": "stderr",
     "output_type": "stream",
     "text": []
    },
    {
     "name": "stdout",
     "output_type": "stream",
     "text": [
      "output of the model SequenceClassifierOutput(loss=None, logits=tensor([[-0.6890, -1.1162,  2.2793],\n",
      "        [ 0.1885, -1.9951,  1.7344],\n",
      "        [-1.2109, -0.6299,  2.4961],\n",
      "        ...,\n",
      "        [ 2.0293, -1.3213, -1.8340],\n",
      "        [-1.4102,  2.4043, -0.6816],\n",
      "        [-1.3955,  2.4043, -0.7002]], device='cuda:0', dtype=torch.float16), hidden_states=None, attentions=None)\n"
     ]
    },
    {
     "name": "stderr",
     "output_type": "stream",
     "text": []
    },
    {
     "name": "stdout",
     "output_type": "stream",
     "text": [
      "output of the model SequenceClassifierOutput(loss=None, logits=tensor([[-1.3828,  2.4746, -0.7290],\n",
      "        [-1.4697,  2.4219, -0.5781],\n",
      "        [-0.8384,  1.5244, -0.5698],\n",
      "        ...,\n",
      "        [-1.2031,  0.0503,  1.8105],\n",
      "        [-1.2129, -0.2386,  2.3281],\n",
      "        [ 1.2734, -0.4722, -1.7578]], device='cuda:0', dtype=torch.float16), hidden_states=None, attentions=None)\n"
     ]
    },
    {
     "name": "stderr",
     "output_type": "stream",
     "text": []
    },
    {
     "name": "stdout",
     "output_type": "stream",
     "text": [
      "output of the model SequenceClassifierOutput(loss=None, logits=tensor([[-1.6631,  2.9492, -1.0127],\n",
      "        [ 1.7100, -1.3496, -1.4102],\n",
      "        [-1.2539,  0.4448,  1.7695],\n",
      "        ...,\n",
      "        [-0.5410, -1.2812,  2.3535],\n",
      "        [-1.6221,  1.8320,  0.7568],\n",
      "        [-0.3591, -1.2441,  1.9990]], device='cuda:0', dtype=torch.float16), hidden_states=None, attentions=None)\n"
     ]
    },
    {
     "name": "stderr",
     "output_type": "stream",
     "text": []
    },
    {
     "name": "stdout",
     "output_type": "stream",
     "text": [
      "output of the model SequenceClassifierOutput(loss=None, logits=tensor([[-4.8022e-01, -1.7607e+00,  2.5645e+00],\n",
      "        [-2.2168e-01, -2.0781e+00,  2.4668e+00],\n",
      "        [ 1.8877e+00, -2.7520e+00, -3.0835e-01],\n",
      "        ...,\n",
      "        [-1.5392e-03, -1.0803e-01,  7.0801e-01],\n",
      "        [-1.4121e+00,  1.3125e+00,  1.0303e+00],\n",
      "        [-1.1201e+00, -7.7100e-01,  2.5410e+00]], device='cuda:0',\n",
      "       dtype=torch.float16), hidden_states=None, attentions=None)\n"
     ]
    },
    {
     "name": "stderr",
     "output_type": "stream",
     "text": []
    },
    {
     "name": "stdout",
     "output_type": "stream",
     "text": [
      "output of the model SequenceClassifierOutput(loss=None, logits=tensor([[-1.3496,  2.1094, -0.3992],\n",
      "        [-0.3035,  1.1299, -1.3525],\n",
      "        [ 1.9102, -2.4922, -0.5610],\n",
      "        ...,\n",
      "        [-1.9014,  2.3242,  0.6719],\n",
      "        [ 1.6650, -2.5762,  0.1251],\n",
      "        [-0.9160, -1.0312,  2.5449]], device='cuda:0', dtype=torch.float16), hidden_states=None, attentions=None)\n"
     ]
    },
    {
     "name": "stderr",
     "output_type": "stream",
     "text": []
    },
    {
     "name": "stdout",
     "output_type": "stream",
     "text": [
      "output of the model SequenceClassifierOutput(loss=None, logits=tensor([[-0.9927, -0.9136,  2.5742],\n",
      "        [-1.4824,  2.4551, -0.2115],\n",
      "        [-0.3174, -1.7266,  2.3340],\n",
      "        ...,\n",
      "        [-0.3005, -1.7012,  2.4316],\n",
      "        [-0.6753, -1.0645,  2.4434],\n",
      "        [ 1.6875, -2.4199,  0.2250]], device='cuda:0', dtype=torch.float16), hidden_states=None, attentions=None)\n"
     ]
    },
    {
     "name": "stderr",
     "output_type": "stream",
     "text": []
    },
    {
     "name": "stdout",
     "output_type": "stream",
     "text": [
      "output of the model SequenceClassifierOutput(loss=None, logits=tensor([[ 0.1132, -2.1387,  2.3242],\n",
      "        [-1.1602,  0.9004,  1.2393],\n",
      "        [-1.1006, -0.4705,  2.2949],\n",
      "        ...,\n",
      "        [-1.1426, -0.7290,  2.5332],\n",
      "        [ 1.8770, -1.8350, -1.2568],\n",
      "        [-1.4336,  0.5225,  1.9082]], device='cuda:0', dtype=torch.float16), hidden_states=None, attentions=None)\n"
     ]
    },
    {
     "name": "stderr",
     "output_type": "stream",
     "text": []
    },
    {
     "name": "stdout",
     "output_type": "stream",
     "text": [
      "output of the model SequenceClassifierOutput(loss=None, logits=tensor([[-0.7427, -0.8027,  2.0762],\n",
      "        [ 1.6816, -2.4844,  0.3855],\n",
      "        [-1.3730,  0.0883,  2.2676],\n",
      "        ...,\n",
      "        [ 1.3564, -0.7578, -1.2344],\n",
      "        [-1.1768,  0.8740,  0.9824],\n",
      "        [-0.7251, -1.0381,  2.3730]], device='cuda:0', dtype=torch.float16), hidden_states=None, attentions=None)\n"
     ]
    },
    {
     "name": "stderr",
     "output_type": "stream",
     "text": []
    },
    {
     "name": "stdout",
     "output_type": "stream",
     "text": [
      "output of the model SequenceClassifierOutput(loss=None, logits=tensor([[-1.1768e+00,  5.0439e-01,  1.5781e+00],\n",
      "        [-5.9766e-01, -1.1797e+00,  2.1621e+00],\n",
      "        [-8.9697e-01,  1.1641e+00, -2.1515e-02],\n",
      "        ...,\n",
      "        [-1.6155e-03, -4.2065e-01,  1.2589e-02],\n",
      "        [ 9.0942e-02, -1.1113e+00,  1.1514e+00],\n",
      "        [-3.1616e-01, -1.2070e+00,  1.8496e+00]], device='cuda:0',\n",
      "       dtype=torch.float16), hidden_states=None, attentions=None)\n"
     ]
    },
    {
     "name": "stderr",
     "output_type": "stream",
     "text": []
    },
    {
     "name": "stdout",
     "output_type": "stream",
     "text": [
      "output of the model SequenceClassifierOutput(loss=None, logits=tensor([[-0.3000,  2.0977, -2.1016],\n",
      "        [-1.1543,  0.4084,  1.4375],\n",
      "        [-1.6611,  1.5723,  1.0156],\n",
      "        ...,\n",
      "        [ 2.0059, -1.5498, -1.6348],\n",
      "        [-0.4114, -0.5273,  1.5371],\n",
      "        [-1.0684,  0.2382,  1.5000]], device='cuda:0', dtype=torch.float16), hidden_states=None, attentions=None)\n"
     ]
    },
    {
     "name": "stderr",
     "output_type": "stream",
     "text": []
    },
    {
     "name": "stdout",
     "output_type": "stream",
     "text": [
      "output of the model SequenceClassifierOutput(loss=None, logits=tensor([[-1.6836,  2.9531, -0.9404],\n",
      "        [-0.4785,  1.0342, -0.5229],\n",
      "        [-0.6704, -0.0063,  1.1797],\n",
      "        ...,\n",
      "        [ 1.4160, -2.0586,  0.1081],\n",
      "        [ 1.3818, -2.0625,  0.1549],\n",
      "        [ 1.9258, -2.7539,  0.1621]], device='cuda:0', dtype=torch.float16), hidden_states=None, attentions=None)\n"
     ]
    },
    {
     "name": "stderr",
     "output_type": "stream",
     "text": []
    },
    {
     "name": "stdout",
     "output_type": "stream",
     "text": [
      "output of the model SequenceClassifierOutput(loss=None, logits=tensor([[ 2.0527, -1.5088, -1.7412],\n",
      "        [ 0.1936, -2.3379,  2.2383],\n",
      "        [ 1.1230, -2.3340,  1.0996],\n",
      "        ...,\n",
      "        [-0.2917, -1.7793,  2.3828],\n",
      "        [-0.3257, -1.4102,  2.3125],\n",
      "        [ 1.9092, -1.2285, -1.7646]], device='cuda:0', dtype=torch.float16), hidden_states=None, attentions=None)\n"
     ]
    },
    {
     "name": "stderr",
     "output_type": "stream",
     "text": []
    },
    {
     "name": "stdout",
     "output_type": "stream",
     "text": [
      "output of the model SequenceClassifierOutput(loss=None, logits=tensor([[-0.2288, -1.4629,  2.0566],\n",
      "        [-1.3936,  0.6108,  1.7998],\n",
      "        [-0.5630, -1.4287,  2.5117],\n",
      "        ...,\n",
      "        [-0.2197, -1.3184,  1.8604],\n",
      "        [-1.2119,  2.3477, -0.9888],\n",
      "        [-1.8145,  2.8633, -0.5771]], device='cuda:0', dtype=torch.float16), hidden_states=None, attentions=None)\n"
     ]
    },
    {
     "name": "stderr",
     "output_type": "stream",
     "text": []
    },
    {
     "name": "stdout",
     "output_type": "stream",
     "text": [
      "output of the model SequenceClassifierOutput(loss=None, logits=tensor([[-0.7861,  1.1553, -0.4661],\n",
      "        [ 1.1465, -2.4980,  1.1514],\n",
      "        [-0.5361, -1.1973,  2.2168],\n",
      "        ...,\n",
      "        [-0.6357, -1.3984,  2.4824],\n",
      "        [-0.8516,  2.5508, -1.9004],\n",
      "        [-1.7822,  2.7969, -0.5513]], device='cuda:0', dtype=torch.float16), hidden_states=None, attentions=None)\n"
     ]
    },
    {
     "name": "stderr",
     "output_type": "stream",
     "text": []
    },
    {
     "name": "stdout",
     "output_type": "stream",
     "text": [
      "output of the model SequenceClassifierOutput(loss=None, logits=tensor([[-1.5664,  2.8984, -1.1963],\n",
      "        [-0.4258,  0.9160, -0.9819],\n",
      "        [ 0.5674,  0.1196, -1.6611],\n",
      "        ...,\n",
      "        [ 0.0320, -2.1523,  2.1973],\n",
      "        [-0.0917, -1.5732,  1.9580],\n",
      "        [-0.5088, -1.0146,  1.5527]], device='cuda:0', dtype=torch.float16), hidden_states=None, attentions=None)\n"
     ]
    },
    {
     "name": "stderr",
     "output_type": "stream",
     "text": []
    },
    {
     "name": "stdout",
     "output_type": "stream",
     "text": [
      "output of the model SequenceClassifierOutput(loss=None, logits=tensor([[-0.0207,  0.4578, -1.0449],\n",
      "        [ 0.6123, -2.1738,  1.5049],\n",
      "        [-1.6914,  1.8057,  0.7856],\n",
      "        ...,\n",
      "        [ 1.8389, -2.8906,  0.2402],\n",
      "        [ 0.1085, -2.0957,  2.0957],\n",
      "        [ 0.9482,  0.2013, -1.9141]], device='cuda:0', dtype=torch.float16), hidden_states=None, attentions=None)\n"
     ]
    },
    {
     "name": "stderr",
     "output_type": "stream",
     "text": []
    },
    {
     "name": "stdout",
     "output_type": "stream",
     "text": [
      "output of the model SequenceClassifierOutput(loss=None, logits=tensor([[-1.3018, -0.2269,  2.0547],\n",
      "        [-0.8662, -1.0947,  2.4883],\n",
      "        [-0.8662, -1.0947,  2.4883],\n",
      "        ...,\n",
      "        [-0.7046,  1.9395, -1.3838],\n",
      "        [-1.5322,  0.4001,  2.0605],\n",
      "        [-0.1167,  1.7305, -2.0449]], device='cuda:0', dtype=torch.float16), hidden_states=None, attentions=None)\n"
     ]
    },
    {
     "name": "stderr",
     "output_type": "stream",
     "text": []
    },
    {
     "name": "stdout",
     "output_type": "stream",
     "text": [
      "output of the model SequenceClassifierOutput(loss=None, logits=tensor([[-1.4482,  2.5254, -0.8730],\n",
      "        [-1.5439,  2.7188, -1.0254],\n",
      "        [-1.1963, -0.0402,  2.1758],\n",
      "        ...,\n",
      "        [-1.1924, -0.6089,  2.3066],\n",
      "        [-1.1035, -0.9541,  2.6582],\n",
      "        [ 0.3250,  0.0873, -1.0137]], device='cuda:0', dtype=torch.float16), hidden_states=None, attentions=None)\n"
     ]
    },
    {
     "name": "stderr",
     "output_type": "stream",
     "text": []
    },
    {
     "name": "stdout",
     "output_type": "stream",
     "text": [
      "output of the model SequenceClassifierOutput(loss=None, logits=tensor([[-1.2568, -0.4937,  2.6484],\n",
      "        [ 1.8818, -2.7734,  0.0316],\n",
      "        [ 1.9912, -2.2148, -1.0352],\n",
      "        ...,\n",
      "        [ 1.1162, -2.7148,  1.5654],\n",
      "        [-0.8472, -1.1738,  2.5273],\n",
      "        [ 0.6826, -2.3691,  1.7305]], device='cuda:0', dtype=torch.float16), hidden_states=None, attentions=None)\n"
     ]
    },
    {
     "name": "stderr",
     "output_type": "stream",
     "text": []
    },
    {
     "name": "stdout",
     "output_type": "stream",
     "text": [
      "output of the model SequenceClassifierOutput(loss=None, logits=tensor([[-1.8398,  2.7070, -0.2047],\n",
      "        [-1.6094,  1.4902,  0.9839],\n",
      "        [-1.6826,  1.5273,  1.0996],\n",
      "        ...,\n",
      "        [ 1.8271, -1.6338, -1.4277],\n",
      "        [-0.0039, -0.9385,  1.2070],\n",
      "        [-0.1482, -1.9746,  2.1797]], device='cuda:0', dtype=torch.float16), hidden_states=None, attentions=None)\n"
     ]
    },
    {
     "name": "stderr",
     "output_type": "stream",
     "text": []
    },
    {
     "name": "stdout",
     "output_type": "stream",
     "text": [
      "output of the model SequenceClassifierOutput(loss=None, logits=tensor([[-0.8452, -0.5249,  2.0723],\n",
      "        [-0.7427, -0.7295,  2.1758],\n",
      "        [-0.0039, -0.9385,  1.2070],\n",
      "        ...,\n",
      "        [-1.5801,  2.9219, -1.1240],\n",
      "        [-1.5537,  2.1758, -0.0089],\n",
      "        [-1.2686,  0.2864,  1.7832]], device='cuda:0', dtype=torch.float16), hidden_states=None, attentions=None)\n"
     ]
    },
    {
     "name": "stderr",
     "output_type": "stream",
     "text": []
    },
    {
     "name": "stdout",
     "output_type": "stream",
     "text": [
      "output of the model SequenceClassifierOutput(loss=None, logits=tensor([[ 1.4258, -0.9058, -1.6709],\n",
      "        [ 1.6904, -2.5469, -0.0273],\n",
      "        [-1.2275, -0.2615,  2.2441],\n",
      "        ...,\n",
      "        [-1.4443,  1.7236,  0.5576],\n",
      "        [ 1.4834, -2.4434,  0.4521],\n",
      "        [-0.5151, -0.4497,  1.3984]], device='cuda:0', dtype=torch.float16), hidden_states=None, attentions=None)\n"
     ]
    },
    {
     "name": "stderr",
     "output_type": "stream",
     "text": []
    },
    {
     "name": "stdout",
     "output_type": "stream",
     "text": [
      "output of the model SequenceClassifierOutput(loss=None, logits=tensor([[-0.0357,  0.9839, -1.7520],\n",
      "        [-0.1899, -1.9668,  2.3828],\n",
      "        [-0.8052, -0.9023,  2.3652],\n",
      "        ...,\n",
      "        [-1.4395,  2.8594, -1.3174],\n",
      "        [-0.6987, -1.3398,  2.4414],\n",
      "        [-0.9692, -0.8389,  2.4805]], device='cuda:0', dtype=torch.float16), hidden_states=None, attentions=None)\n"
     ]
    },
    {
     "name": "stderr",
     "output_type": "stream",
     "text": []
    },
    {
     "name": "stdout",
     "output_type": "stream",
     "text": [
      "output of the model SequenceClassifierOutput(loss=None, logits=tensor([[-0.7051, -1.2705,  2.4746],\n",
      "        [ 0.6733, -2.4199,  1.5684],\n",
      "        [-0.6499, -1.4854,  2.5156],\n",
      "        ...,\n",
      "        [-1.1357, -0.6396,  2.1484],\n",
      "        [-1.7646,  2.9707, -0.9199],\n",
      "        [-0.1704, -0.4353,  0.4326]], device='cuda:0', dtype=torch.float16), hidden_states=None, attentions=None)\n"
     ]
    },
    {
     "name": "stderr",
     "output_type": "stream",
     "text": []
    },
    {
     "name": "stdout",
     "output_type": "stream",
     "text": [
      "output of the model SequenceClassifierOutput(loss=None, logits=tensor([[ 0.2883, -0.2573, -0.4019],\n",
      "        [-1.3896, -0.1671,  2.4004],\n",
      "        [-0.0068, -0.9526,  1.2002],\n",
      "        ...,\n",
      "        [-1.7471,  2.6113, -0.1159],\n",
      "        [ 0.7671, -2.4844,  1.7285],\n",
      "        [-1.2080,  2.6230, -1.3555]], device='cuda:0', dtype=torch.float16), hidden_states=None, attentions=None)\n"
     ]
    },
    {
     "name": "stderr",
     "output_type": "stream",
     "text": []
    },
    {
     "name": "stdout",
     "output_type": "stream",
     "text": [
      "output of the model SequenceClassifierOutput(loss=None, logits=tensor([[ 0.2186, -2.3086,  2.3320],\n",
      "        [-1.5049,  1.7549,  0.5615],\n",
      "        [-1.3750,  1.2559,  0.8853],\n",
      "        ...,\n",
      "        [-1.8193,  3.0039, -0.9009],\n",
      "        [-1.5361,  0.4961,  1.9277],\n",
      "        [-1.2930, -0.4939,  2.5605]], device='cuda:0', dtype=torch.float16), hidden_states=None, attentions=None)\n"
     ]
    },
    {
     "name": "stderr",
     "output_type": "stream",
     "text": []
    },
    {
     "name": "stdout",
     "output_type": "stream",
     "text": [
      "output of the model SequenceClassifierOutput(loss=None, logits=tensor([[ 0.2428, -2.2246,  2.2949],\n",
      "        [ 0.1860, -1.8223,  2.1074],\n",
      "        [-1.1709,  1.5146,  0.5093],\n",
      "        ...,\n",
      "        [ 1.5029, -1.1299, -1.1562],\n",
      "        [ 1.7031, -2.3691, -0.0464],\n",
      "        [ 1.3955, -0.9878, -1.1758]], device='cuda:0', dtype=torch.float16), hidden_states=None, attentions=None)\n"
     ]
    },
    {
     "name": "stderr",
     "output_type": "stream",
     "text": []
    },
    {
     "name": "stdout",
     "output_type": "stream",
     "text": [
      "output of the model SequenceClassifierOutput(loss=None, logits=tensor([[-0.2363,  1.4111, -1.2139],\n",
      "        [-0.7881, -1.0957,  2.5234],\n",
      "        [ 0.2014, -2.1641,  2.1758],\n",
      "        ...,\n",
      "        [-1.1494, -0.1498,  2.0254],\n",
      "        [-1.5752,  1.5088,  0.9854],\n",
      "        [ 1.3018, -2.5566,  1.1914]], device='cuda:0', dtype=torch.float16), hidden_states=None, attentions=None)\n"
     ]
    },
    {
     "name": "stderr",
     "output_type": "stream",
     "text": []
    },
    {
     "name": "stdout",
     "output_type": "stream",
     "text": [
      "output of the model SequenceClassifierOutput(loss=None, logits=tensor([[-1.2041, -0.2218,  1.8857],\n",
      "        [ 1.5469, -2.5039,  0.4211],\n",
      "        [ 0.7349, -1.0664, -0.1202],\n",
      "        ...,\n",
      "        [ 1.1533, -2.2148,  0.5845],\n",
      "        [-1.6162,  1.5869,  0.8872],\n",
      "        [ 0.2607, -2.0898,  2.0078]], device='cuda:0', dtype=torch.float16), hidden_states=None, attentions=None)\n"
     ]
    },
    {
     "name": "stderr",
     "output_type": "stream",
     "text": []
    },
    {
     "name": "stdout",
     "output_type": "stream",
     "text": [
      "output of the model SequenceClassifierOutput(loss=None, logits=tensor([[-0.1920, -1.7256,  1.9434],\n",
      "        [-0.9028,  1.1465, -0.4514],\n",
      "        [-1.5332,  0.4771,  1.9580],\n",
      "        ...,\n",
      "        [-1.4072,  0.0035,  2.2852],\n",
      "        [-1.6934,  2.9355, -0.9399],\n",
      "        [ 1.8506, -1.5908, -1.4941]], device='cuda:0', dtype=torch.float16), hidden_states=None, attentions=None)\n"
     ]
    },
    {
     "name": "stderr",
     "output_type": "stream",
     "text": []
    },
    {
     "name": "stdout",
     "output_type": "stream",
     "text": [
      "output of the model SequenceClassifierOutput(loss=None, logits=tensor([[-1.2334, -0.7334,  2.6445],\n",
      "        [-0.5713, -0.4480,  1.4658],\n",
      "        [-0.7339,  0.4749,  0.6865],\n",
      "        ...,\n",
      "        [ 1.0068, -2.2520,  1.1289],\n",
      "        [ 0.3660, -2.3145,  1.8984],\n",
      "        [ 0.0878, -2.1855,  2.2383]], device='cuda:0', dtype=torch.float16), hidden_states=None, attentions=None)\n"
     ]
    },
    {
     "name": "stderr",
     "output_type": "stream",
     "text": []
    },
    {
     "name": "stdout",
     "output_type": "stream",
     "text": [
      "output of the model SequenceClassifierOutput(loss=None, logits=tensor([[-0.0348, -0.2507,  0.3154],\n",
      "        [-1.4590,  0.1891,  2.1562],\n",
      "        [-0.0221, -1.8486,  2.1426],\n",
      "        ...,\n",
      "        [-0.7212,  0.2837,  0.7422],\n",
      "        [ 1.7061, -2.3203, -0.5898],\n",
      "        [-1.2012,  1.9316,  0.1033]], device='cuda:0', dtype=torch.float16), hidden_states=None, attentions=None)\n"
     ]
    },
    {
     "name": "stderr",
     "output_type": "stream",
     "text": []
    },
    {
     "name": "stdout",
     "output_type": "stream",
     "text": [
      "output of the model SequenceClassifierOutput(loss=None, logits=tensor([[-0.6802,  0.2360,  0.7314],\n",
      "        [-1.3145,  2.1641, -0.0650],\n",
      "        [-0.7231, -0.3198,  1.5312],\n",
      "        ...,\n",
      "        [ 1.3330, -1.9355,  0.0807],\n",
      "        [-0.2090, -0.9976,  1.5127],\n",
      "        [ 1.4482, -1.9570, -0.0680]], device='cuda:0', dtype=torch.float16), hidden_states=None, attentions=None)\n"
     ]
    },
    {
     "name": "stderr",
     "output_type": "stream",
     "text": []
    },
    {
     "name": "stdout",
     "output_type": "stream",
     "text": [
      "output of the model SequenceClassifierOutput(loss=None, logits=tensor([[ 1.4238, -1.7852, -0.0690],\n",
      "        [ 0.8672, -1.6572,  0.4377],\n",
      "        [-0.6826,  0.4893,  0.2534],\n",
      "        ...,\n",
      "        [ 1.8545, -2.2852, -0.6562],\n",
      "        [-1.6084,  0.6182,  1.8887],\n",
      "        [ 1.9111, -1.5234, -1.5137]], device='cuda:0', dtype=torch.float16), hidden_states=None, attentions=None)\n"
     ]
    },
    {
     "name": "stderr",
     "output_type": "stream",
     "text": []
    },
    {
     "name": "stdout",
     "output_type": "stream",
     "text": [
      "output of the model SequenceClassifierOutput(loss=None, logits=tensor([[ 0.1931,  0.9312, -1.8945],\n",
      "        [ 0.1387, -0.9150,  1.0791],\n",
      "        [ 0.2812, -1.1543,  1.4971],\n",
      "        ...,\n",
      "        [ 1.9258, -1.7041, -1.5020],\n",
      "        [-1.7471,  2.9609, -0.8188],\n",
      "        [-1.6572,  1.5781,  0.9780]], device='cuda:0', dtype=torch.float16), hidden_states=None, attentions=None)\n"
     ]
    },
    {
     "name": "stderr",
     "output_type": "stream",
     "text": []
    },
    {
     "name": "stdout",
     "output_type": "stream",
     "text": [
      "output of the model SequenceClassifierOutput(loss=None, logits=tensor([[ 2.0547, -1.6973, -1.6611],\n",
      "        [-0.1195, -0.6123,  1.0537],\n",
      "        [ 1.8145, -1.3223, -1.5420],\n",
      "        ...,\n",
      "        [-0.3296, -1.8779,  2.4688],\n",
      "        [-0.1138, -1.1826,  2.0117],\n",
      "        [ 1.6885, -2.8418,  0.6665]], device='cuda:0', dtype=torch.float16), hidden_states=None, attentions=None)\n"
     ]
    },
    {
     "name": "stderr",
     "output_type": "stream",
     "text": []
    },
    {
     "name": "stdout",
     "output_type": "stream",
     "text": [
      "output of the model SequenceClassifierOutput(loss=None, logits=tensor([[ 1.1406, -2.6914,  1.4980],\n",
      "        [-1.3535,  0.4539,  1.3965],\n",
      "        [ 0.3547, -1.8477,  1.4131],\n",
      "        ...,\n",
      "        [-0.3042, -1.8027,  2.2676],\n",
      "        [-0.1301, -2.0391,  2.3438],\n",
      "        [ 1.7080, -2.0371, -0.9370]], device='cuda:0', dtype=torch.float16), hidden_states=None, attentions=None)\n"
     ]
    },
    {
     "name": "stderr",
     "output_type": "stream",
     "text": []
    },
    {
     "name": "stdout",
     "output_type": "stream",
     "text": [
      "output of the model SequenceClassifierOutput(loss=None, logits=tensor([[-0.6250, -1.4893,  2.3477],\n",
      "        [-1.7012,  2.7324, -0.7373],\n",
      "        [ 0.0495, -0.8784,  1.5078],\n",
      "        ...,\n",
      "        [-0.2957, -0.8926,  0.6841],\n",
      "        [ 1.7490, -2.7070, -0.0506],\n",
      "        [-1.8252,  1.9033,  0.9932]], device='cuda:0', dtype=torch.float16), hidden_states=None, attentions=None)\n"
     ]
    },
    {
     "name": "stderr",
     "output_type": "stream",
     "text": []
    },
    {
     "name": "stdout",
     "output_type": "stream",
     "text": [
      "output of the model SequenceClassifierOutput(loss=None, logits=tensor([[ 0.2976, -1.8105,  1.6006],\n",
      "        [-1.8213,  1.4668,  1.4824],\n",
      "        [-0.8354, -0.7905,  2.3418],\n",
      "        ...,\n",
      "        [ 0.1421,  0.9106, -1.9883],\n",
      "        [-1.5527,  0.9458,  1.5537],\n",
      "        [-1.5723,  0.9126,  1.6396]], device='cuda:0', dtype=torch.float16), hidden_states=None, attentions=None)\n"
     ]
    },
    {
     "name": "stderr",
     "output_type": "stream",
     "text": []
    },
    {
     "name": "stdout",
     "output_type": "stream",
     "text": [
      "output of the model SequenceClassifierOutput(loss=None, logits=tensor([[-1.4600,  2.5020, -0.6611],\n",
      "        [-1.5703,  0.7847,  1.8203],\n",
      "        [-1.7871,  3.0312, -0.9780],\n",
      "        ...,\n",
      "        [-0.4946, -1.2178,  2.2891],\n",
      "        [-0.5151,  2.4414, -2.0254],\n",
      "        [-1.7041,  2.9785, -0.8979]], device='cuda:0', dtype=torch.float16), hidden_states=None, attentions=None)\n"
     ]
    },
    {
     "name": "stderr",
     "output_type": "stream",
     "text": []
    },
    {
     "name": "stdout",
     "output_type": "stream",
     "text": [
      "output of the model SequenceClassifierOutput(loss=None, logits=tensor([[ 0.3560,  1.1045, -2.0039],\n",
      "        [-0.1128, -1.9092,  2.4824],\n",
      "        [-1.5713,  1.8486,  0.6523],\n",
      "        ...,\n",
      "        [ 0.0311, -1.7168,  2.0449],\n",
      "        [-0.5845, -0.1042,  1.1260],\n",
      "        [-0.8755, -0.8428,  2.4316]], device='cuda:0', dtype=torch.float16), hidden_states=None, attentions=None)\n"
     ]
    },
    {
     "name": "stderr",
     "output_type": "stream",
     "text": []
    },
    {
     "name": "stdout",
     "output_type": "stream",
     "text": [
      "output of the model SequenceClassifierOutput(loss=None, logits=tensor([[-0.1733,  0.0437, -0.4163],\n",
      "        [-0.4004, -1.3008,  2.2344],\n",
      "        [-0.5869, -1.3320,  2.1641],\n",
      "        ...,\n",
      "        [-1.5957,  0.5869,  1.9229],\n",
      "        [-1.3799,  0.7109,  1.7949],\n",
      "        [-0.2954,  1.3926, -1.7383]], device='cuda:0', dtype=torch.float16), hidden_states=None, attentions=None)\n"
     ]
    },
    {
     "name": "stderr",
     "output_type": "stream",
     "text": []
    },
    {
     "name": "stdout",
     "output_type": "stream",
     "text": [
      "output of the model SequenceClassifierOutput(loss=None, logits=tensor([[-0.3501, -1.6465,  2.3594],\n",
      "        [-0.3501, -1.6465,  2.3594],\n",
      "        [-1.9170,  2.8887, -0.5039],\n",
      "        ...,\n",
      "        [-0.2245, -1.5811,  1.9736],\n",
      "        [-1.1953, -0.0358,  1.8857],\n",
      "        [ 1.8525, -1.4482, -1.5449]], device='cuda:0', dtype=torch.float16), hidden_states=None, attentions=None)\n"
     ]
    },
    {
     "name": "stderr",
     "output_type": "stream",
     "text": []
    },
    {
     "name": "stdout",
     "output_type": "stream",
     "text": [
      "output of the model SequenceClassifierOutput(loss=None, logits=tensor([[-0.3772, -1.3711,  2.1660],\n",
      "        [-0.6040, -0.9072,  2.1855],\n",
      "        [-0.5474, -0.3357,  1.0596],\n",
      "        ...,\n",
      "        [-0.2717, -1.7197,  2.3711],\n",
      "        [ 1.0479,  0.1910, -2.2188],\n",
      "        [-0.9468, -0.8901,  2.2578]], device='cuda:0', dtype=torch.float16), hidden_states=None, attentions=None)\n"
     ]
    },
    {
     "name": "stderr",
     "output_type": "stream",
     "text": []
    },
    {
     "name": "stdout",
     "output_type": "stream",
     "text": [
      "output of the model SequenceClassifierOutput(loss=None, logits=tensor([[-0.2310, -1.8818,  2.3887],\n",
      "        [-0.2310, -1.8818,  2.3887],\n",
      "        [ 0.0829,  0.4780, -0.4111],\n",
      "        ...,\n",
      "        [-0.0039, -0.9385,  1.2070],\n",
      "        [-0.0068, -0.9526,  1.2002],\n",
      "        [-0.0039, -0.9385,  1.2070]], device='cuda:0', dtype=torch.float16), hidden_states=None, attentions=None)\n"
     ]
    },
    {
     "name": "stderr",
     "output_type": "stream",
     "text": []
    },
    {
     "name": "stdout",
     "output_type": "stream",
     "text": [
      "output of the model SequenceClassifierOutput(loss=None, logits=tensor([[ 0.0803, -1.0059,  1.0859],\n",
      "        [ 0.0803, -1.0059,  1.0859],\n",
      "        [-0.0068, -0.9526,  1.2002],\n",
      "        ...,\n",
      "        [-0.6353, -1.3867,  2.4453],\n",
      "        [ 0.3933, -1.2490,  0.0573],\n",
      "        [-1.4795,  0.4741,  1.9072]], device='cuda:0', dtype=torch.float16), hidden_states=None, attentions=None)\n"
     ]
    },
    {
     "name": "stderr",
     "output_type": "stream",
     "text": []
    },
    {
     "name": "stdout",
     "output_type": "stream",
     "text": [
      "output of the model SequenceClassifierOutput(loss=None, logits=tensor([[-0.2487,  0.2174, -0.2012],\n",
      "        [-0.3889, -1.4160,  2.3301],\n",
      "        [-1.5273,  0.3938,  2.0234],\n",
      "        ...,\n",
      "        [ 0.2419,  0.6509, -1.2188],\n",
      "        [-1.0674, -0.7998,  2.5469],\n",
      "        [-1.6387,  2.8086, -1.1094]], device='cuda:0', dtype=torch.float16), hidden_states=None, attentions=None)\n"
     ]
    },
    {
     "name": "stderr",
     "output_type": "stream",
     "text": []
    },
    {
     "name": "stdout",
     "output_type": "stream",
     "text": [
      "output of the model SequenceClassifierOutput(loss=None, logits=tensor([[ 2.0957, -2.0918, -1.4102],\n",
      "        [-1.6201,  0.8096,  1.8037],\n",
      "        [ 0.3691, -2.5078,  2.1367],\n",
      "        ...,\n",
      "        [-0.6938,  0.2771,  0.6943],\n",
      "        [-1.5264,  0.5259,  1.8984],\n",
      "        [-1.6553,  2.8477, -0.8506]], device='cuda:0', dtype=torch.float16), hidden_states=None, attentions=None)\n"
     ]
    },
    {
     "name": "stderr",
     "output_type": "stream",
     "text": []
    },
    {
     "name": "stdout",
     "output_type": "stream",
     "text": [
      "output of the model SequenceClassifierOutput(loss=None, logits=tensor([[-0.9214,  2.2266, -1.1328],\n",
      "        [-0.1085, -1.5938,  2.0508],\n",
      "        [-1.3525,  2.4121, -0.9741],\n",
      "        ...,\n",
      "        [ 0.8994, -2.4629,  1.4648],\n",
      "        [-1.2793,  0.1227,  2.1582],\n",
      "        [-1.0430, -0.3372,  2.2227]], device='cuda:0', dtype=torch.float16), hidden_states=None, attentions=None)\n"
     ]
    },
    {
     "name": "stderr",
     "output_type": "stream",
     "text": []
    },
    {
     "name": "stdout",
     "output_type": "stream",
     "text": [
      "output of the model SequenceClassifierOutput(loss=None, logits=tensor([[-0.7437, -1.2041,  2.5020],\n",
      "        [-1.4932,  0.1011,  2.3223],\n",
      "        [-0.1027, -0.3125,  0.7695],\n",
      "        ...,\n",
      "        [-0.6729, -0.7393,  1.7334],\n",
      "        [-0.9946, -0.7046,  2.3887],\n",
      "        [-1.7314,  2.0391,  1.0332]], device='cuda:0', dtype=torch.float16), hidden_states=None, attentions=None)\n"
     ]
    },
    {
     "name": "stderr",
     "output_type": "stream",
     "text": []
    },
    {
     "name": "stdout",
     "output_type": "stream",
     "text": [
      "output of the model SequenceClassifierOutput(loss=None, logits=tensor([[ 1.7617, -0.8027, -1.9697],\n",
      "        [ 0.3440, -1.5947,  1.7109],\n",
      "        [ 1.8760, -1.8779, -1.3193],\n",
      "        ...,\n",
      "        [ 0.8008,  0.1602, -1.7314],\n",
      "        [ 0.3660, -0.5830, -0.4800],\n",
      "        [-1.7422,  2.9941, -0.9624]], device='cuda:0', dtype=torch.float16), hidden_states=None, attentions=None)\n"
     ]
    },
    {
     "name": "stderr",
     "output_type": "stream",
     "text": []
    },
    {
     "name": "stdout",
     "output_type": "stream",
     "text": [
      "output of the model SequenceClassifierOutput(loss=None, logits=tensor([[-1.6260e+00,  2.8906e+00, -9.6484e-01],\n",
      "        [-1.0674e+00, -1.7242e-03,  1.5049e+00],\n",
      "        [-1.4727e+00,  2.6445e+00, -9.5264e-01],\n",
      "        ...,\n",
      "        [ 1.8789e+00, -1.9180e+00, -1.0449e+00],\n",
      "        [ 1.1176e-01, -3.0933e-01,  3.5059e-01],\n",
      "        [ 2.6465e-01, -2.3027e+00,  2.2461e+00]], device='cuda:0',\n",
      "       dtype=torch.float16), hidden_states=None, attentions=None)\n"
     ]
    },
    {
     "name": "stderr",
     "output_type": "stream",
     "text": []
    },
    {
     "name": "stdout",
     "output_type": "stream",
     "text": [
      "output of the model SequenceClassifierOutput(loss=None, logits=tensor([[-0.2637, -1.6045,  2.3242],\n",
      "        [-0.6470, -1.5615,  2.6113],\n",
      "        [-1.2783,  2.3770, -0.5859],\n",
      "        ...,\n",
      "        [ 1.0391, -1.6064, -0.4724],\n",
      "        [-0.9312, -0.4341,  2.0254],\n",
      "        [-0.7490, -0.1709,  1.3584]], device='cuda:0', dtype=torch.float16), hidden_states=None, attentions=None)\n"
     ]
    },
    {
     "name": "stderr",
     "output_type": "stream",
     "text": []
    },
    {
     "name": "stdout",
     "output_type": "stream",
     "text": [
      "output of the model SequenceClassifierOutput(loss=None, logits=tensor([[-0.9946, -0.6191,  2.3027],\n",
      "        [-0.7471, -0.4797,  1.8223],\n",
      "        [ 0.4333, -1.2529,  0.0379],\n",
      "        ...,\n",
      "        [-0.9487,  1.9170, -0.8677],\n",
      "        [-0.2642, -1.2305,  1.7637],\n",
      "        [-0.3491, -1.0156,  1.6816]], device='cuda:0', dtype=torch.float16), hidden_states=None, attentions=None)\n"
     ]
    },
    {
     "name": "stderr",
     "output_type": "stream",
     "text": []
    },
    {
     "name": "stdout",
     "output_type": "stream",
     "text": [
      "output of the model SequenceClassifierOutput(loss=None, logits=tensor([[-1.1396,  1.4326, -0.0318],\n",
      "        [ 1.5645, -0.3313, -1.9424],\n",
      "        [-0.0782, -1.5625,  1.8838],\n",
      "        ...,\n",
      "        [-1.2471, -0.5474,  2.5391],\n",
      "        [ 1.3379, -1.0059, -1.2051],\n",
      "        [-0.1215, -0.2179,  0.6177]], device='cuda:0', dtype=torch.float16), hidden_states=None, attentions=None)\n"
     ]
    },
    {
     "name": "stderr",
     "output_type": "stream",
     "text": []
    },
    {
     "name": "stdout",
     "output_type": "stream",
     "text": [
      "output of the model SequenceClassifierOutput(loss=None, logits=tensor([[ 1.7373, -1.5088, -1.4424],\n",
      "        [-0.6040, -0.9072,  2.1855],\n",
      "        [ 1.9541, -1.4121, -1.6846],\n",
      "        ...,\n",
      "        [-0.0048,  0.1444, -0.3606],\n",
      "        [-1.4326,  0.0288,  2.2773],\n",
      "        [ 1.1787, -0.2408, -1.7812]], device='cuda:0', dtype=torch.float16), hidden_states=None, attentions=None)\n"
     ]
    },
    {
     "name": "stderr",
     "output_type": "stream",
     "text": []
    },
    {
     "name": "stdout",
     "output_type": "stream",
     "text": [
      "output of the model SequenceClassifierOutput(loss=None, logits=tensor([[ 2.0391, -1.7598, -1.5674],\n",
      "        [ 1.7852, -1.7314, -1.1621],\n",
      "        [ 2.0645, -1.5186, -1.7148],\n",
      "        ...,\n",
      "        [-0.2969, -0.5542,  1.0127],\n",
      "        [ 1.9277, -1.5254, -1.4961],\n",
      "        [-1.7295,  2.9492, -0.9351]], device='cuda:0', dtype=torch.float16), hidden_states=None, attentions=None)\n"
     ]
    },
    {
     "name": "stderr",
     "output_type": "stream",
     "text": []
    },
    {
     "name": "stdout",
     "output_type": "stream",
     "text": [
      "output of the model SequenceClassifierOutput(loss=None, logits=tensor([[-0.8760, -0.0549,  1.5195],\n",
      "        [-1.0293, -0.1432,  1.9932],\n",
      "        [ 0.4180, -2.4844,  2.1582],\n",
      "        ...,\n",
      "        [-1.9365,  2.4395,  0.2869],\n",
      "        [ 0.3989, -1.6426,  1.5889],\n",
      "        [-0.7715, -0.8501,  2.3652]], device='cuda:0', dtype=torch.float16), hidden_states=None, attentions=None)\n"
     ]
    },
    {
     "name": "stderr",
     "output_type": "stream",
     "text": []
    },
    {
     "name": "stdout",
     "output_type": "stream",
     "text": [
      "output of the model SequenceClassifierOutput(loss=None, logits=tensor([[-1.2021, -0.5723,  2.2500],\n",
      "        [ 0.8848, -2.5996,  1.6094],\n",
      "        [ 0.9019, -1.0693, -0.4561],\n",
      "        ...,\n",
      "        [-0.8179, -0.8081,  2.3145],\n",
      "        [-1.5635,  2.3223, -0.0333],\n",
      "        [ 2.0625, -1.9609, -1.4395]], device='cuda:0', dtype=torch.float16), hidden_states=None, attentions=None)\n"
     ]
    },
    {
     "name": "stderr",
     "output_type": "stream",
     "text": []
    },
    {
     "name": "stdout",
     "output_type": "stream",
     "text": [
      "output of the model SequenceClassifierOutput(loss=None, logits=tensor([[-0.8071, -1.0479,  2.4512],\n",
      "        [-0.6445, -1.6748,  2.4023],\n",
      "        [-0.6528, -1.5234,  2.5508],\n",
      "        ...,\n",
      "        [ 2.0938, -1.6396, -1.6797],\n",
      "        [ 1.9600, -1.6191, -1.6191],\n",
      "        [-1.1865,  0.2571,  1.9473]], device='cuda:0', dtype=torch.float16), hidden_states=None, attentions=None)\n"
     ]
    },
    {
     "name": "stderr",
     "output_type": "stream",
     "text": []
    },
    {
     "name": "stdout",
     "output_type": "stream",
     "text": [
      "output of the model SequenceClassifierOutput(loss=None, logits=tensor([[ 1.8857, -1.8516, -1.2822],\n",
      "        [ 1.3945, -2.2383,  0.1399],\n",
      "        [-1.3232,  0.6963,  1.4072],\n",
      "        ...,\n",
      "        [-1.7734,  2.8105, -0.5991],\n",
      "        [-0.5957, -1.2832,  2.4395],\n",
      "        [ 1.7734, -1.6270, -1.2461]], device='cuda:0', dtype=torch.float16), hidden_states=None, attentions=None)\n"
     ]
    },
    {
     "name": "stderr",
     "output_type": "stream",
     "text": []
    },
    {
     "name": "stdout",
     "output_type": "stream",
     "text": [
      "output of the model SequenceClassifierOutput(loss=None, logits=tensor([[-0.5815, -0.9253,  2.0703],\n",
      "        [-1.1709,  2.0918, -0.5293],\n",
      "        [-0.1506, -1.7012,  2.1133],\n",
      "        ...,\n",
      "        [-1.2900, -0.3833,  2.3828],\n",
      "        [-1.3730,  0.6782,  1.6270],\n",
      "        [ 0.7139, -0.8984,  0.1541]], device='cuda:0', dtype=torch.float16), hidden_states=None, attentions=None)\n"
     ]
    },
    {
     "name": "stderr",
     "output_type": "stream",
     "text": []
    },
    {
     "name": "stdout",
     "output_type": "stream",
     "text": [
      "output of the model SequenceClassifierOutput(loss=None, logits=tensor([[-0.6040, -0.9072,  2.1855],\n",
      "        [-0.2100, -1.9121,  2.3320],\n",
      "        [-0.6479, -1.3730,  2.4141],\n",
      "        ...,\n",
      "        [ 1.3613, -2.3672,  0.6284],\n",
      "        [ 0.4106, -1.2412,  0.8911],\n",
      "        [-0.1979, -1.8076,  2.3340]], device='cuda:0', dtype=torch.float16), hidden_states=None, attentions=None)\n"
     ]
    },
    {
     "name": "stderr",
     "output_type": "stream",
     "text": []
    },
    {
     "name": "stdout",
     "output_type": "stream",
     "text": [
      "output of the model SequenceClassifierOutput(loss=None, logits=tensor([[-0.0696, -1.3643,  2.0664],\n",
      "        [-0.0114, -2.1875,  2.2305],\n",
      "        [-0.0114, -2.1875,  2.2305],\n",
      "        ...,\n",
      "        [-0.0200, -1.4336,  1.4082],\n",
      "        [-0.0200, -1.4336,  1.4082],\n",
      "        [ 0.2229,  0.2629, -1.0518]], device='cuda:0', dtype=torch.float16), hidden_states=None, attentions=None)\n"
     ]
    },
    {
     "name": "stderr",
     "output_type": "stream",
     "text": []
    },
    {
     "name": "stdout",
     "output_type": "stream",
     "text": [
      "output of the model SequenceClassifierOutput(loss=None, logits=tensor([[-1.6924,  2.9023, -0.8472],\n",
      "        [-0.5835, -1.6963,  2.5371],\n",
      "        [-0.5732,  1.4062, -1.1475],\n",
      "        ...,\n",
      "        [-0.9097, -1.1455,  2.3926],\n",
      "        [-0.6230, -1.4072,  2.5215],\n",
      "        [-0.7046, -1.3916,  2.5391]], device='cuda:0', dtype=torch.float16), hidden_states=None, attentions=None)\n"
     ]
    },
    {
     "name": "stderr",
     "output_type": "stream",
     "text": []
    },
    {
     "name": "stdout",
     "output_type": "stream",
     "text": [
      "output of the model SequenceClassifierOutput(loss=None, logits=tensor([[-1.7549,  2.2051,  0.6328],\n",
      "        [-1.4131,  2.4434, -0.9238],\n",
      "        [-1.1572, -0.9390,  2.6191],\n",
      "        ...,\n",
      "        [-0.9497, -0.8091,  2.2852],\n",
      "        [-1.6201,  2.8164, -0.8696],\n",
      "        [-1.8926,  2.9805, -0.7041]], device='cuda:0', dtype=torch.float16), hidden_states=None, attentions=None)\n"
     ]
    },
    {
     "name": "stderr",
     "output_type": "stream",
     "text": []
    },
    {
     "name": "stdout",
     "output_type": "stream",
     "text": [
      "output of the model SequenceClassifierOutput(loss=None, logits=tensor([[-1.8506,  2.5957,  0.3323],\n",
      "        [-1.2842,  2.5547, -1.0625],\n",
      "        [-0.2292, -1.1846,  1.8369],\n",
      "        ...,\n",
      "        [-1.4834,  0.2803,  2.0645],\n",
      "        [ 0.8833, -0.6533, -0.3464],\n",
      "        [ 0.6045, -2.3633,  1.9043]], device='cuda:0', dtype=torch.float16), hidden_states=None, attentions=None)\n"
     ]
    },
    {
     "name": "stderr",
     "output_type": "stream",
     "text": []
    },
    {
     "name": "stdout",
     "output_type": "stream",
     "text": [
      "output of the model SequenceClassifierOutput(loss=None, logits=tensor([[-0.0684, -0.2399,  0.1622],\n",
      "        [ 0.8105, -2.6914,  1.8652],\n",
      "        [ 1.9736, -2.8477, -0.0288],\n",
      "        ...,\n",
      "        [ 1.8994, -2.1738, -0.9595],\n",
      "        [-0.0039, -0.9385,  1.2070],\n",
      "        [ 0.0046, -1.1602,  1.3398]], device='cuda:0', dtype=torch.float16), hidden_states=None, attentions=None)\n"
     ]
    },
    {
     "name": "stderr",
     "output_type": "stream",
     "text": []
    },
    {
     "name": "stdout",
     "output_type": "stream",
     "text": [
      "output of the model SequenceClassifierOutput(loss=None, logits=tensor([[ 0.7876, -1.1885,  0.1344],\n",
      "        [ 0.6411, -0.2810, -0.4055],\n",
      "        [ 1.7695, -0.8237, -1.8828],\n",
      "        ...,\n",
      "        [-0.4194, -1.7686,  2.4961],\n",
      "        [-1.1377, -0.2537,  2.2812],\n",
      "        [ 1.0811, -0.5088, -1.0527]], device='cuda:0', dtype=torch.float16), hidden_states=None, attentions=None)\n"
     ]
    },
    {
     "name": "stderr",
     "output_type": "stream",
     "text": []
    },
    {
     "name": "stdout",
     "output_type": "stream",
     "text": [
      "output of the model SequenceClassifierOutput(loss=None, logits=tensor([[-1.3057, -0.2440,  2.2305],\n",
      "        [-1.5439,  1.8945,  0.5757],\n",
      "        [-0.6514,  1.9980, -1.4746],\n",
      "        ...,\n",
      "        [-0.5435,  0.1201,  0.6846],\n",
      "        [ 0.2542, -1.7275,  1.4893],\n",
      "        [-1.1553,  0.6318,  1.0283]], device='cuda:0', dtype=torch.float16), hidden_states=None, attentions=None)\n"
     ]
    },
    {
     "name": "stderr",
     "output_type": "stream",
     "text": []
    },
    {
     "name": "stdout",
     "output_type": "stream",
     "text": [
      "output of the model SequenceClassifierOutput(loss=None, logits=tensor([[-1.2441,  0.6992,  1.1973],\n",
      "        [-0.6323, -0.4136,  1.5547],\n",
      "        [-0.1826, -1.2861,  1.7461],\n",
      "        ...,\n",
      "        [ 0.4272, -0.0784, -1.0625],\n",
      "        [ 1.8818, -1.3896, -1.6387],\n",
      "        [ 0.5420, -2.1719,  1.5742]], device='cuda:0', dtype=torch.float16), hidden_states=None, attentions=None)\n"
     ]
    },
    {
     "name": "stderr",
     "output_type": "stream",
     "text": []
    },
    {
     "name": "stdout",
     "output_type": "stream",
     "text": [
      "output of the model SequenceClassifierOutput(loss=None, logits=tensor([[-0.3679, -1.8320,  2.5293],\n",
      "        [ 1.9854, -1.8799, -1.2832],\n",
      "        [ 0.3545, -1.9111,  1.6162],\n",
      "        ...,\n",
      "        [-0.6450, -1.2529,  2.5723],\n",
      "        [ 1.9668, -1.7197, -1.5020],\n",
      "        [-0.3354, -1.8506,  2.4727]], device='cuda:0', dtype=torch.float16), hidden_states=None, attentions=None)\n"
     ]
    },
    {
     "name": "stderr",
     "output_type": "stream",
     "text": []
    },
    {
     "name": "stdout",
     "output_type": "stream",
     "text": [
      "output of the model SequenceClassifierOutput(loss=None, logits=tensor([[-1.4648,  0.0816,  2.3320],\n",
      "        [-0.7505, -1.1631,  2.5625],\n",
      "        [-1.4307,  0.1165,  2.0859],\n",
      "        ...,\n",
      "        [-1.2324, -0.8599,  2.6660],\n",
      "        [ 0.3923, -1.0488,  0.4885],\n",
      "        [ 1.1523, -1.0576, -0.3374]], device='cuda:0', dtype=torch.float16), hidden_states=None, attentions=None)\n"
     ]
    },
    {
     "name": "stderr",
     "output_type": "stream",
     "text": []
    },
    {
     "name": "stdout",
     "output_type": "stream",
     "text": [
      "output of the model SequenceClassifierOutput(loss=None, logits=tensor([[-0.4160, -1.5098,  2.2676],\n",
      "        [-0.8296, -1.3037,  2.5078],\n",
      "        [-1.2949, -0.4092,  2.4668],\n",
      "        ...,\n",
      "        [-1.6377,  2.3730, -0.2103],\n",
      "        [-1.8311,  2.8867, -0.6323],\n",
      "        [ 1.6123, -1.9336, -0.6846]], device='cuda:0', dtype=torch.float16), hidden_states=None, attentions=None)\n"
     ]
    },
    {
     "name": "stderr",
     "output_type": "stream",
     "text": []
    },
    {
     "name": "stdout",
     "output_type": "stream",
     "text": [
      "output of the model SequenceClassifierOutput(loss=None, logits=tensor([[ 0.6929, -2.4551,  1.8242],\n",
      "        [-0.5220, -0.8745,  1.5879],\n",
      "        [ 1.3135, -2.4980,  0.8203],\n",
      "        ...,\n",
      "        [-1.9893,  2.9023, -0.3472],\n",
      "        [ 1.7080, -0.7808, -1.9492],\n",
      "        [-1.6045,  1.5283,  0.9390]], device='cuda:0', dtype=torch.float16), hidden_states=None, attentions=None)\n"
     ]
    },
    {
     "name": "stderr",
     "output_type": "stream",
     "text": []
    },
    {
     "name": "stdout",
     "output_type": "stream",
     "text": [
      "output of the model SequenceClassifierOutput(loss=None, logits=tensor([[ 1.1914, -2.4238,  0.9795],\n",
      "        [ 2.0059, -1.5693, -1.6260],\n",
      "        [ 1.9824, -2.3750, -0.6162],\n",
      "        ...,\n",
      "        [-1.6768,  2.9531, -1.0244],\n",
      "        [-1.7539,  2.6738, -0.1907],\n",
      "        [-1.7451,  3.0312, -0.9932]], device='cuda:0', dtype=torch.float16), hidden_states=None, attentions=None)\n"
     ]
    },
    {
     "name": "stderr",
     "output_type": "stream",
     "text": []
    },
    {
     "name": "stdout",
     "output_type": "stream",
     "text": [
      "output of the model SequenceClassifierOutput(loss=None, logits=tensor([[-1.6924,  2.5449, -0.1005],\n",
      "        [-1.7949,  3.0391, -0.9258],\n",
      "        [-1.0352,  0.2185,  1.4590],\n",
      "        ...,\n",
      "        [ 1.1133, -1.2607, -0.0983],\n",
      "        [-1.4336, -0.0183,  2.2109],\n",
      "        [ 0.9946, -1.3242,  0.3513]], device='cuda:0', dtype=torch.float16), hidden_states=None, attentions=None)\n"
     ]
    },
    {
     "name": "stderr",
     "output_type": "stream",
     "text": []
    },
    {
     "name": "stdout",
     "output_type": "stream",
     "text": [
      "output of the model SequenceClassifierOutput(loss=None, logits=tensor([[ 1.9307, -2.1191, -1.1436],\n",
      "        [-0.6309,  0.4246,  0.3306],\n",
      "        [-0.3105, -1.5352,  2.3242],\n",
      "        ...,\n",
      "        [-1.3496,  2.7812, -1.2324],\n",
      "        [-1.7422,  2.9941, -0.9624],\n",
      "        [-1.6260,  2.8906, -0.9648]], device='cuda:0', dtype=torch.float16), hidden_states=None, attentions=None)\n"
     ]
    },
    {
     "name": "stderr",
     "output_type": "stream",
     "text": []
    },
    {
     "name": "stdout",
     "output_type": "stream",
     "text": [
      "output of the model SequenceClassifierOutput(loss=None, logits=tensor([[-1.1523,  2.4727, -1.1592],\n",
      "        [-1.4727,  2.6445, -0.9526],\n",
      "        [ 0.5449, -0.2235, -1.1855],\n",
      "        ...,\n",
      "        [-1.6523,  1.2920,  1.3857],\n",
      "        [-1.0820, -0.7896,  2.5156],\n",
      "        [-1.6328,  0.6958,  1.5742]], device='cuda:0', dtype=torch.float16), hidden_states=None, attentions=None)\n"
     ]
    },
    {
     "name": "stderr",
     "output_type": "stream",
     "text": []
    },
    {
     "name": "stdout",
     "output_type": "stream",
     "text": [
      "output of the model SequenceClassifierOutput(loss=None, logits=tensor([[-1.7607,  2.3613,  0.1659],\n",
      "        [ 1.0381, -0.6294, -1.1934],\n",
      "        [-0.6182,  0.9829, -0.5654],\n",
      "        ...,\n",
      "        [-1.7617,  2.8359, -0.8271],\n",
      "        [-1.3203,  2.8008, -1.3467],\n",
      "        [-1.6240,  1.6533,  0.7939]], device='cuda:0', dtype=torch.float16), hidden_states=None, attentions=None)\n"
     ]
    },
    {
     "name": "stderr",
     "output_type": "stream",
     "text": []
    },
    {
     "name": "stdout",
     "output_type": "stream",
     "text": [
      "output of the model SequenceClassifierOutput(loss=None, logits=tensor([[ 1.8896, -1.7549, -1.3896],\n",
      "        [-0.9106,  1.3477, -0.6450],\n",
      "        [ 0.2302,  0.1575, -1.0928],\n",
      "        ...,\n",
      "        [ 0.3726, -0.0170, -0.9072],\n",
      "        [-0.9414, -0.5654,  2.3359],\n",
      "        [ 0.3606, -1.6797,  1.6484]], device='cuda:0', dtype=torch.float16), hidden_states=None, attentions=None)\n"
     ]
    },
    {
     "name": "stderr",
     "output_type": "stream",
     "text": []
    },
    {
     "name": "stdout",
     "output_type": "stream",
     "text": [
      "output of the model SequenceClassifierOutput(loss=None, logits=tensor([[-0.9600, -0.6401,  2.1133],\n",
      "        [-0.8008,  2.0527, -1.2266],\n",
      "        [-0.7065, -1.3174,  2.6094],\n",
      "        ...,\n",
      "        [ 1.7334, -1.7920, -1.1885],\n",
      "        [ 2.0137, -1.6699, -1.6621],\n",
      "        [-1.6562,  2.9766, -1.0557]], device='cuda:0', dtype=torch.float16), hidden_states=None, attentions=None)\n"
     ]
    },
    {
     "name": "stderr",
     "output_type": "stream",
     "text": []
    },
    {
     "name": "stdout",
     "output_type": "stream",
     "text": [
      "output of the model SequenceClassifierOutput(loss=None, logits=tensor([[ 1.5176, -2.3301, -0.1042],\n",
      "        [ 0.2046,  1.0498, -1.8867],\n",
      "        [ 1.6719, -2.4355, -0.1587],\n",
      "        ...,\n",
      "        [-0.2632, -1.2871,  1.9922],\n",
      "        [-0.2632, -1.2871,  1.9922],\n",
      "        [-0.7827, -1.2373,  2.5176]], device='cuda:0', dtype=torch.float16), hidden_states=None, attentions=None)\n"
     ]
    },
    {
     "name": "stderr",
     "output_type": "stream",
     "text": []
    },
    {
     "name": "stdout",
     "output_type": "stream",
     "text": [
      "output of the model SequenceClassifierOutput(loss=None, logits=tensor([[-0.7827, -1.2373,  2.5176],\n",
      "        [ 0.0522, -2.0469,  2.1348],\n",
      "        [-1.0947, -0.6650,  2.4844],\n",
      "        ...,\n",
      "        [ 1.2393, -0.7251, -1.3857],\n",
      "        [-0.9946, -0.5449,  2.3711],\n",
      "        [-0.3550, -1.6201,  2.2461]], device='cuda:0', dtype=torch.float16), hidden_states=None, attentions=None)\n"
     ]
    },
    {
     "name": "stderr",
     "output_type": "stream",
     "text": []
    },
    {
     "name": "stdout",
     "output_type": "stream",
     "text": [
      "output of the model SequenceClassifierOutput(loss=None, logits=tensor([[ 0.0083, -2.0586,  2.2148],\n",
      "        [-1.8643,  3.0117, -0.8350],\n",
      "        [ 0.4580, -0.2742, -0.4895],\n",
      "        ...,\n",
      "        [-0.4390, -1.1621,  1.9277],\n",
      "        [ 1.3789, -0.9189, -1.4072],\n",
      "        [-1.6514,  2.9160, -0.9561]], device='cuda:0', dtype=torch.float16), hidden_states=None, attentions=None)\n"
     ]
    },
    {
     "name": "stderr",
     "output_type": "stream",
     "text": []
    },
    {
     "name": "stdout",
     "output_type": "stream",
     "text": [
      "output of the model SequenceClassifierOutput(loss=None, logits=tensor([[ 0.6909,  0.9971, -2.0430],\n",
      "        [-1.0830,  0.8555,  0.6670],\n",
      "        [-1.3115,  2.6133, -1.1992],\n",
      "        ...,\n",
      "        [ 1.6934, -2.6934,  0.5400],\n",
      "        [-0.5171, -0.7866,  1.8398],\n",
      "        [-1.8047,  2.6875, -0.1555]], device='cuda:0', dtype=torch.float16), hidden_states=None, attentions=None)\n"
     ]
    },
    {
     "name": "stderr",
     "output_type": "stream",
     "text": []
    },
    {
     "name": "stdout",
     "output_type": "stream",
     "text": [
      "output of the model SequenceClassifierOutput(loss=None, logits=tensor([[ 0.7959, -2.5762,  1.8555],\n",
      "        [-1.0244,  0.3250,  1.2256],\n",
      "        [-1.6084,  2.3867, -0.3113],\n",
      "        ...,\n",
      "        [-0.3188, -1.6494,  2.2148],\n",
      "        [-0.5000, -1.7471,  2.5156],\n",
      "        [ 0.0108, -1.8916,  1.9512]], device='cuda:0', dtype=torch.float16), hidden_states=None, attentions=None)\n"
     ]
    },
    {
     "name": "stderr",
     "output_type": "stream",
     "text": []
    },
    {
     "name": "stdout",
     "output_type": "stream",
     "text": [
      "output of the model SequenceClassifierOutput(loss=None, logits=tensor([[-1.2510, -0.8032,  2.6465],\n",
      "        [ 1.1562, -1.9785, -0.0834],\n",
      "        [ 1.6553, -1.6416, -1.1348],\n",
      "        ...,\n",
      "        [-1.3604,  1.7217,  0.4888],\n",
      "        [-0.2324,  0.2421,  0.2196],\n",
      "        [-1.6289,  1.3008,  1.2715]], device='cuda:0', dtype=torch.float16), hidden_states=None, attentions=None)\n"
     ]
    },
    {
     "name": "stderr",
     "output_type": "stream",
     "text": []
    },
    {
     "name": "stdout",
     "output_type": "stream",
     "text": [
      "output of the model SequenceClassifierOutput(loss=None, logits=tensor([[ 1.2900, -0.0352, -2.2207],\n",
      "        [-0.1786, -0.9722,  1.6992],\n",
      "        [-0.6221,  0.8433,  0.0391],\n",
      "        ...,\n",
      "        [-0.2771,  1.3262, -1.6875],\n",
      "        [ 0.0654,  0.4907, -1.5049],\n",
      "        [-0.1892,  1.3115, -1.7715]], device='cuda:0', dtype=torch.float16), hidden_states=None, attentions=None)\n"
     ]
    },
    {
     "name": "stderr",
     "output_type": "stream",
     "text": []
    },
    {
     "name": "stdout",
     "output_type": "stream",
     "text": [
      "output of the model SequenceClassifierOutput(loss=None, logits=tensor([[ 0.0212, -1.9980,  2.0762],\n",
      "        [ 0.1366, -1.5605,  1.5020],\n",
      "        [ 0.7285, -2.0117,  1.2910],\n",
      "        ...,\n",
      "        [-1.0830,  0.2561,  1.4756],\n",
      "        [-0.2524,  1.6816, -1.8379],\n",
      "        [-0.5972, -0.6577,  1.7373]], device='cuda:0', dtype=torch.float16), hidden_states=None, attentions=None)\n"
     ]
    },
    {
     "name": "stderr",
     "output_type": "stream",
     "text": []
    },
    {
     "name": "stdout",
     "output_type": "stream",
     "text": [
      "output of the model SequenceClassifierOutput(loss=None, logits=tensor([[-0.9204,  0.4443,  0.9565],\n",
      "        [-0.4053, -0.9185,  1.9082],\n",
      "        [-1.7822,  2.9922, -0.8350],\n",
      "        ...,\n",
      "        [-1.2021, -0.4077,  2.1484],\n",
      "        [-0.9077,  1.0625,  0.1216],\n",
      "        [ 1.9805, -2.3477, -0.9766]], device='cuda:0', dtype=torch.float16), hidden_states=None, attentions=None)\n"
     ]
    },
    {
     "name": "stderr",
     "output_type": "stream",
     "text": []
    },
    {
     "name": "stdout",
     "output_type": "stream",
     "text": [
      "output of the model SequenceClassifierOutput(loss=None, logits=tensor([[-0.4460,  0.7129, -0.3906],\n",
      "        [ 1.0049, -0.2299, -1.7188],\n",
      "        [-1.5029, -0.1906,  2.5430],\n",
      "        ...,\n",
      "        [-1.6279,  1.8877,  0.6714],\n",
      "        [-0.9849,  1.9014, -0.8306],\n",
      "        [ 1.3994, -0.7031, -1.7559]], device='cuda:0', dtype=torch.float16), hidden_states=None, attentions=None)\n"
     ]
    },
    {
     "name": "stderr",
     "output_type": "stream",
     "text": []
    },
    {
     "name": "stdout",
     "output_type": "stream",
     "text": [
      "output of the model SequenceClassifierOutput(loss=None, logits=tensor([[-1.8721,  2.5547, -0.0956],\n",
      "        [-1.4834,  2.8555, -1.2344],\n",
      "        [-1.8320,  2.9668, -0.7812],\n",
      "        ...,\n",
      "        [ 0.1642, -1.1592,  1.1045],\n",
      "        [-0.0039, -0.9385,  1.2070],\n",
      "        [-1.6162,  1.3525,  1.1699]], device='cuda:0', dtype=torch.float16), hidden_states=None, attentions=None)\n"
     ]
    },
    {
     "name": "stderr",
     "output_type": "stream",
     "text": []
    },
    {
     "name": "stdout",
     "output_type": "stream",
     "text": [
      "output of the model SequenceClassifierOutput(loss=None, logits=tensor([[ 1.4912, -2.3359, -0.1107],\n",
      "        [-0.5156, -0.2404,  0.5386],\n",
      "        [ 1.6396, -1.9717, -0.9814],\n",
      "        ...,\n",
      "        [-1.0215,  0.1327,  1.8926],\n",
      "        [ 1.4209, -1.8672, -0.5098],\n",
      "        [ 1.8721, -2.5703, -0.4241]], device='cuda:0', dtype=torch.float16), hidden_states=None, attentions=None)\n"
     ]
    },
    {
     "name": "stderr",
     "output_type": "stream",
     "text": []
    },
    {
     "name": "stdout",
     "output_type": "stream",
     "text": [
      "output of the model SequenceClassifierOutput(loss=None, logits=tensor([[-0.2610, -1.5479,  2.0020],\n",
      "        [-1.4121, -0.0636,  2.4023],\n",
      "        [-0.7588,  1.8066, -1.0283],\n",
      "        ...,\n",
      "        [-0.3684,  1.7559, -1.8496],\n",
      "        [ 1.8984, -1.4414, -1.4951],\n",
      "        [-0.7109,  0.1359,  0.9272]], device='cuda:0', dtype=torch.float16), hidden_states=None, attentions=None)\n"
     ]
    },
    {
     "name": "stderr",
     "output_type": "stream",
     "text": []
    },
    {
     "name": "stdout",
     "output_type": "stream",
     "text": [
      "output of the model SequenceClassifierOutput(loss=None, logits=tensor([[ 1.5469, -1.7695, -0.9414],\n",
      "        [ 0.1689, -1.9434,  2.0645],\n",
      "        [ 1.7803, -2.6016, -0.1768],\n",
      "        ...,\n",
      "        [-1.5361,  1.8232,  0.6655],\n",
      "        [-0.4072, -1.0156,  2.0918],\n",
      "        [-1.3125,  0.8242,  1.3975]], device='cuda:0', dtype=torch.float16), hidden_states=None, attentions=None)\n"
     ]
    },
    {
     "name": "stderr",
     "output_type": "stream",
     "text": []
    },
    {
     "name": "stdout",
     "output_type": "stream",
     "text": [
      "output of the model SequenceClassifierOutput(loss=None, logits=tensor([[-1.7656,  2.8418, -0.6709],\n",
      "        [-0.8862,  2.3477, -1.7656],\n",
      "        [-0.9604, -0.7930,  2.3086],\n",
      "        ...,\n",
      "        [-1.5938,  2.5820, -0.5273],\n",
      "        [ 0.4944, -2.3691,  2.0801],\n",
      "        [-0.1033, -1.5078,  2.1484]], device='cuda:0', dtype=torch.float16), hidden_states=None, attentions=None)\n"
     ]
    },
    {
     "name": "stderr",
     "output_type": "stream",
     "text": [
      "Processing batches (chunk 3): 100%|██████████| 98/98 [00:35<00:00,  2.74it/s]\n",
      "Processing chunks:   2%|▏         | 3/131 [01:45<1:15:20, 35.31s/it]"
     ]
    },
    {
     "name": "stdout",
     "output_type": "stream",
     "text": [
      "output of the model SequenceClassifierOutput(loss=None, logits=tensor([[-0.1060, -2.0547,  2.3945],\n",
      "        [-1.5898,  0.8887,  1.8457],\n",
      "        [ 1.7119, -1.4707, -1.4082],\n",
      "        ...,\n",
      "        [ 0.0430, -0.1411,  0.2561],\n",
      "        [-0.7715, -0.0989,  1.3535],\n",
      "        [ 0.7563, -2.2754,  1.2764]], device='cuda:0', dtype=torch.float16), hidden_states=None, attentions=None)\n"
     ]
    },
    {
     "name": "stderr",
     "output_type": "stream",
     "text": []
    },
    {
     "name": "stdout",
     "output_type": "stream",
     "text": [
      "output of the model SequenceClassifierOutput(loss=None, logits=tensor([[ 1.0586, -0.8877, -0.2913],\n",
      "        [ 0.6294, -2.1641,  1.4902],\n",
      "        [ 1.9424, -2.5156, -0.1770],\n",
      "        ...,\n",
      "        [ 0.0789, -0.1755, -0.7061],\n",
      "        [ 1.5771, -2.3828, -0.2382],\n",
      "        [-1.6699,  2.1055,  0.4431]], device='cuda:0', dtype=torch.float16), hidden_states=None, attentions=None)\n"
     ]
    },
    {
     "name": "stderr",
     "output_type": "stream",
     "text": []
    },
    {
     "name": "stdout",
     "output_type": "stream",
     "text": [
      "output of the model SequenceClassifierOutput(loss=None, logits=tensor([[-0.2415, -1.1553,  2.0020],\n",
      "        [ 0.3469, -2.1055,  1.8838],\n",
      "        [ 1.0439, -1.9170,  0.8379],\n",
      "        ...,\n",
      "        [-1.4434,  1.9951,  0.1857],\n",
      "        [-0.3354, -1.6396,  2.3574],\n",
      "        [ 0.0474, -1.0869,  1.7129]], device='cuda:0', dtype=torch.float16), hidden_states=None, attentions=None)\n"
     ]
    },
    {
     "name": "stderr",
     "output_type": "stream",
     "text": []
    },
    {
     "name": "stdout",
     "output_type": "stream",
     "text": [
      "output of the model SequenceClassifierOutput(loss=None, logits=tensor([[ 0.0474, -1.0869,  1.7129],\n",
      "        [ 1.5479, -0.9658, -1.5977],\n",
      "        [-0.6826, -1.2588,  2.4746],\n",
      "        ...,\n",
      "        [-1.9014,  3.0859, -0.8496],\n",
      "        [-0.5728,  0.5796, -0.1050],\n",
      "        [ 0.5244, -0.7788, -0.4875]], device='cuda:0', dtype=torch.float16), hidden_states=None, attentions=None)\n"
     ]
    },
    {
     "name": "stderr",
     "output_type": "stream",
     "text": []
    },
    {
     "name": "stdout",
     "output_type": "stream",
     "text": [
      "output of the model SequenceClassifierOutput(loss=None, logits=tensor([[-0.2412, -1.5293,  2.2246],\n",
      "        [-0.4358, -1.7139,  2.4688],\n",
      "        [-1.3779, -0.2712,  2.1777],\n",
      "        ...,\n",
      "        [-1.3867, -0.1886,  2.4219],\n",
      "        [ 1.5146, -2.1504, -0.3530],\n",
      "        [-1.1865,  0.3137,  1.8818]], device='cuda:0', dtype=torch.float16), hidden_states=None, attentions=None)\n"
     ]
    },
    {
     "name": "stderr",
     "output_type": "stream",
     "text": []
    },
    {
     "name": "stdout",
     "output_type": "stream",
     "text": [
      "output of the model SequenceClassifierOutput(loss=None, logits=tensor([[ 1.4316, -2.4473,  0.2321],\n",
      "        [ 0.3140, -1.8398,  1.6348],\n",
      "        [-1.2285,  0.4832,  1.4199],\n",
      "        ...,\n",
      "        [-0.6289, -1.2490,  2.5000],\n",
      "        [-0.6201, -0.5610,  1.8672],\n",
      "        [ 0.9575, -1.9268,  1.0049]], device='cuda:0', dtype=torch.float16), hidden_states=None, attentions=None)\n"
     ]
    },
    {
     "name": "stderr",
     "output_type": "stream",
     "text": []
    },
    {
     "name": "stdout",
     "output_type": "stream",
     "text": [
      "output of the model SequenceClassifierOutput(loss=None, logits=tensor([[-0.8906, -1.2041,  2.4688],\n",
      "        [ 1.7041, -1.1230, -1.5410],\n",
      "        [-0.9541, -0.4446,  2.1523],\n",
      "        ...,\n",
      "        [-0.1514, -1.7969,  2.1387],\n",
      "        [-1.7305,  1.7275,  1.0156],\n",
      "        [ 1.7168, -2.5566,  0.1099]], device='cuda:0', dtype=torch.float16), hidden_states=None, attentions=None)\n"
     ]
    },
    {
     "name": "stderr",
     "output_type": "stream",
     "text": []
    },
    {
     "name": "stdout",
     "output_type": "stream",
     "text": [
      "output of the model SequenceClassifierOutput(loss=None, logits=tensor([[-0.0352, -1.9990,  2.1016],\n",
      "        [-1.1572, -0.6768,  2.4121],\n",
      "        [-0.9761, -1.0684,  2.5254],\n",
      "        ...,\n",
      "        [ 0.2764,  0.4001, -1.6504],\n",
      "        [-0.9517, -1.0840,  2.4902],\n",
      "        [-1.5361,  1.1963,  1.0342]], device='cuda:0', dtype=torch.float16), hidden_states=None, attentions=None)\n"
     ]
    },
    {
     "name": "stderr",
     "output_type": "stream",
     "text": []
    },
    {
     "name": "stdout",
     "output_type": "stream",
     "text": [
      "output of the model SequenceClassifierOutput(loss=None, logits=tensor([[-0.7661, -0.5303,  1.8115],\n",
      "        [ 0.9629, -1.4229, -0.2445],\n",
      "        [-0.4934,  0.8550, -0.4021],\n",
      "        ...,\n",
      "        [ 0.0161, -0.5591,  1.3428],\n",
      "        [ 1.9854, -1.7959, -1.4766],\n",
      "        [-1.2861, -0.4973,  2.5469]], device='cuda:0', dtype=torch.float16), hidden_states=None, attentions=None)\n"
     ]
    },
    {
     "name": "stderr",
     "output_type": "stream",
     "text": []
    },
    {
     "name": "stdout",
     "output_type": "stream",
     "text": [
      "output of the model SequenceClassifierOutput(loss=None, logits=tensor([[ 0.1379,  0.2688, -0.2974],\n",
      "        [-0.4382, -1.6621,  2.5156],\n",
      "        [-0.9033, -0.7412,  2.4805],\n",
      "        ...,\n",
      "        [ 1.0586, -0.8877, -0.2913],\n",
      "        [ 1.9385, -2.3145, -0.8984],\n",
      "        [-1.1465,  2.2559, -1.0225]], device='cuda:0', dtype=torch.float16), hidden_states=None, attentions=None)\n"
     ]
    },
    {
     "name": "stderr",
     "output_type": "stream",
     "text": []
    },
    {
     "name": "stdout",
     "output_type": "stream",
     "text": [
      "output of the model SequenceClassifierOutput(loss=None, logits=tensor([[-1.1113, -0.7119,  2.3574],\n",
      "        [ 1.1816, -2.6777,  1.1562],\n",
      "        [-0.7256,  1.9336, -1.3789],\n",
      "        ...,\n",
      "        [-1.2432, -0.3845,  2.1836],\n",
      "        [ 1.1221, -0.7939, -1.3125],\n",
      "        [-0.5532, -1.5264,  2.3730]], device='cuda:0', dtype=torch.float16), hidden_states=None, attentions=None)\n"
     ]
    },
    {
     "name": "stderr",
     "output_type": "stream",
     "text": []
    },
    {
     "name": "stdout",
     "output_type": "stream",
     "text": [
      "output of the model SequenceClassifierOutput(loss=None, logits=tensor([[-1.1982, -0.4236,  2.2109],\n",
      "        [-1.4561,  0.2113,  2.1211],\n",
      "        [-0.3447, -1.6064,  2.3633],\n",
      "        ...,\n",
      "        [ 1.5928, -2.1191, -0.4265],\n",
      "        [-0.3406, -1.8232,  2.4883],\n",
      "        [-1.8193,  2.4023,  0.1268]], device='cuda:0', dtype=torch.float16), hidden_states=None, attentions=None)\n"
     ]
    },
    {
     "name": "stderr",
     "output_type": "stream",
     "text": []
    },
    {
     "name": "stdout",
     "output_type": "stream",
     "text": [
      "output of the model SequenceClassifierOutput(loss=None, logits=tensor([[-0.2186,  0.5405, -0.8687],\n",
      "        [-0.8506, -0.1521,  1.4053],\n",
      "        [-0.1880, -2.0469,  2.3926],\n",
      "        ...,\n",
      "        [-0.3647, -0.8267,  1.7578],\n",
      "        [-1.6484,  1.7100,  0.8384],\n",
      "        [ 0.2225, -2.1445,  1.9922]], device='cuda:0', dtype=torch.float16), hidden_states=None, attentions=None)\n"
     ]
    },
    {
     "name": "stderr",
     "output_type": "stream",
     "text": []
    },
    {
     "name": "stdout",
     "output_type": "stream",
     "text": [
      "output of the model SequenceClassifierOutput(loss=None, logits=tensor([[-1.4990,  1.1377,  1.4668],\n",
      "        [-0.8071, -1.3623,  2.5664],\n",
      "        [ 1.1943, -2.8711,  1.5557],\n",
      "        ...,\n",
      "        [-1.6484,  1.3613,  1.2158],\n",
      "        [ 1.9629, -2.6211, -0.5000],\n",
      "        [ 1.6533, -0.8799, -1.7266]], device='cuda:0', dtype=torch.float16), hidden_states=None, attentions=None)\n"
     ]
    },
    {
     "name": "stderr",
     "output_type": "stream",
     "text": []
    },
    {
     "name": "stdout",
     "output_type": "stream",
     "text": [
      "output of the model SequenceClassifierOutput(loss=None, logits=tensor([[-1.3018,  0.3599,  1.6270],\n",
      "        [-1.6104,  2.0137,  0.1346],\n",
      "        [-1.7305,  2.8047, -0.7852],\n",
      "        ...,\n",
      "        [-1.4619,  0.2208,  2.1035],\n",
      "        [ 1.9014, -2.0859, -1.1924],\n",
      "        [ 1.9463, -1.6895, -1.5518]], device='cuda:0', dtype=torch.float16), hidden_states=None, attentions=None)\n"
     ]
    },
    {
     "name": "stderr",
     "output_type": "stream",
     "text": []
    },
    {
     "name": "stdout",
     "output_type": "stream",
     "text": [
      "output of the model SequenceClassifierOutput(loss=None, logits=tensor([[ 1.7549e+00, -2.7324e+00,  1.3565e-02],\n",
      "        [ 5.9229e-01,  1.9421e-01, -1.6250e+00],\n",
      "        [ 1.8926e+00, -1.8945e+00, -1.2891e+00],\n",
      "        ...,\n",
      "        [ 1.9834e+00, -2.5000e+00, -2.2913e-01],\n",
      "        [-8.8965e-01, -4.9438e-01,  2.0508e+00],\n",
      "        [-1.5332e-01,  1.9646e-03,  3.9551e-01]], device='cuda:0',\n",
      "       dtype=torch.float16), hidden_states=None, attentions=None)\n"
     ]
    },
    {
     "name": "stderr",
     "output_type": "stream",
     "text": []
    },
    {
     "name": "stdout",
     "output_type": "stream",
     "text": [
      "output of the model SequenceClassifierOutput(loss=None, logits=tensor([[ 1.9561, -1.6982, -1.5293],\n",
      "        [-1.4033,  2.2793, -0.0563],\n",
      "        [-0.7109,  0.1359,  0.9272],\n",
      "        ...,\n",
      "        [-1.1582, -0.6768,  2.5332],\n",
      "        [ 1.5547, -2.4102,  0.0856],\n",
      "        [-1.8623,  3.0527, -0.8574]], device='cuda:0', dtype=torch.float16), hidden_states=None, attentions=None)\n"
     ]
    },
    {
     "name": "stderr",
     "output_type": "stream",
     "text": []
    },
    {
     "name": "stdout",
     "output_type": "stream",
     "text": [
      "output of the model SequenceClassifierOutput(loss=None, logits=tensor([[-0.8276,  0.9028,  0.5171],\n",
      "        [-1.4121,  1.3125,  1.0303],\n",
      "        [-1.5850,  2.4258, -0.2365],\n",
      "        ...,\n",
      "        [-0.9282, -0.4204,  2.0195],\n",
      "        [-0.6851, -1.2754,  2.5410],\n",
      "        [-0.5312, -0.8652,  2.0078]], device='cuda:0', dtype=torch.float16), hidden_states=None, attentions=None)\n"
     ]
    },
    {
     "name": "stderr",
     "output_type": "stream",
     "text": []
    },
    {
     "name": "stdout",
     "output_type": "stream",
     "text": [
      "output of the model SequenceClassifierOutput(loss=None, logits=tensor([[-0.8755, -0.3982,  1.9922],\n",
      "        [-1.4658,  2.8281, -1.2637],\n",
      "        [-0.0055, -0.0615, -0.6802],\n",
      "        ...,\n",
      "        [-1.6426,  0.9146,  1.6797],\n",
      "        [-0.1107, -0.5879,  1.3848],\n",
      "        [ 1.9863, -2.2402, -0.5571]], device='cuda:0', dtype=torch.float16), hidden_states=None, attentions=None)\n"
     ]
    },
    {
     "name": "stderr",
     "output_type": "stream",
     "text": []
    },
    {
     "name": "stdout",
     "output_type": "stream",
     "text": [
      "output of the model SequenceClassifierOutput(loss=None, logits=tensor([[ 1.9082, -1.9346, -0.5435],\n",
      "        [ 0.7632, -1.3145, -0.2625],\n",
      "        [-1.0459, -0.8252,  2.5020],\n",
      "        ...,\n",
      "        [ 0.0325, -0.2766,  0.6665],\n",
      "        [-1.1016,  2.2734, -1.3340],\n",
      "        [-1.5469,  2.9004, -1.1143]], device='cuda:0', dtype=torch.float16), hidden_states=None, attentions=None)\n"
     ]
    },
    {
     "name": "stderr",
     "output_type": "stream",
     "text": []
    },
    {
     "name": "stdout",
     "output_type": "stream",
     "text": [
      "output of the model SequenceClassifierOutput(loss=None, logits=tensor([[-1.0615, -0.6816,  2.4297],\n",
      "        [-0.1359, -2.1367,  2.2949],\n",
      "        [ 0.2588, -1.8018,  1.7520],\n",
      "        ...,\n",
      "        [-0.0390,  0.2627, -1.0459],\n",
      "        [ 0.6538, -0.1901, -1.3574],\n",
      "        [-1.0635, -0.7661,  2.4707]], device='cuda:0', dtype=torch.float16), hidden_states=None, attentions=None)\n"
     ]
    },
    {
     "name": "stderr",
     "output_type": "stream",
     "text": []
    },
    {
     "name": "stdout",
     "output_type": "stream",
     "text": [
      "output of the model SequenceClassifierOutput(loss=None, logits=tensor([[-1.2246,  2.0859, -0.3101],\n",
      "        [-1.4736,  0.2455,  2.0938],\n",
      "        [-1.1650, -0.6108,  2.2852],\n",
      "        ...,\n",
      "        [-0.6533, -1.2168,  2.4746],\n",
      "        [-0.6265, -1.2402,  2.4863],\n",
      "        [-0.5913, -1.4463,  2.5293]], device='cuda:0', dtype=torch.float16), hidden_states=None, attentions=None)\n"
     ]
    },
    {
     "name": "stderr",
     "output_type": "stream",
     "text": []
    },
    {
     "name": "stdout",
     "output_type": "stream",
     "text": [
      "output of the model SequenceClassifierOutput(loss=None, logits=tensor([[-0.5073, -1.5420,  2.4434],\n",
      "        [ 0.4556, -2.3906,  2.0820],\n",
      "        [-1.1260, -0.1921,  2.2949],\n",
      "        ...,\n",
      "        [-1.8604,  2.8906, -0.5630],\n",
      "        [-1.0059, -0.6099,  2.3164],\n",
      "        [-0.9229, -0.1378,  1.5186]], device='cuda:0', dtype=torch.float16), hidden_states=None, attentions=None)\n"
     ]
    },
    {
     "name": "stderr",
     "output_type": "stream",
     "text": []
    },
    {
     "name": "stdout",
     "output_type": "stream",
     "text": [
      "output of the model SequenceClassifierOutput(loss=None, logits=tensor([[-0.9248, -0.1323,  1.5420],\n",
      "        [-1.8652,  2.9121, -0.6118],\n",
      "        [-0.9839, -0.0641,  1.5645],\n",
      "        ...,\n",
      "        [ 0.0575, -2.1309,  2.0781],\n",
      "        [-0.9131, -1.1875,  2.6582],\n",
      "        [-0.2886, -1.6484,  2.4434]], device='cuda:0', dtype=torch.float16), hidden_states=None, attentions=None)\n"
     ]
    },
    {
     "name": "stderr",
     "output_type": "stream",
     "text": []
    },
    {
     "name": "stdout",
     "output_type": "stream",
     "text": [
      "output of the model SequenceClassifierOutput(loss=None, logits=tensor([[ 1.2129, -1.3662, -0.1816],\n",
      "        [-0.7070, -0.5288,  1.7871],\n",
      "        [-0.7070, -0.5288,  1.7871],\n",
      "        ...,\n",
      "        [ 0.6260, -0.3916, -0.7163],\n",
      "        [-0.8467, -0.5430,  2.1777],\n",
      "        [ 0.0161, -0.5591,  1.3428]], device='cuda:0', dtype=torch.float16), hidden_states=None, attentions=None)\n"
     ]
    },
    {
     "name": "stderr",
     "output_type": "stream",
     "text": []
    },
    {
     "name": "stdout",
     "output_type": "stream",
     "text": [
      "output of the model SequenceClassifierOutput(loss=None, logits=tensor([[ 1.6406, -2.5898,  0.2981],\n",
      "        [ 0.4192, -2.4043,  2.2207],\n",
      "        [ 1.1133, -1.2607, -0.0983],\n",
      "        ...,\n",
      "        [ 1.9199, -2.9824,  0.3530],\n",
      "        [-1.1191,  1.5986, -0.0546],\n",
      "        [-0.6040, -0.9072,  2.1855]], device='cuda:0', dtype=torch.float16), hidden_states=None, attentions=None)\n"
     ]
    },
    {
     "name": "stderr",
     "output_type": "stream",
     "text": []
    },
    {
     "name": "stdout",
     "output_type": "stream",
     "text": [
      "output of the model SequenceClassifierOutput(loss=None, logits=tensor([[-0.5317, -1.0752,  2.3145],\n",
      "        [ 1.7363, -0.6987, -1.9297],\n",
      "        [-0.7202, -1.1455,  2.4824],\n",
      "        ...,\n",
      "        [ 0.3140, -1.8398,  1.6348],\n",
      "        [ 1.0078, -2.3691,  0.5562],\n",
      "        [-0.1923, -1.9434,  2.2793]], device='cuda:0', dtype=torch.float16), hidden_states=None, attentions=None)\n"
     ]
    },
    {
     "name": "stderr",
     "output_type": "stream",
     "text": []
    },
    {
     "name": "stdout",
     "output_type": "stream",
     "text": [
      "output of the model SequenceClassifierOutput(loss=None, logits=tensor([[-0.8369, -1.2295,  2.5195],\n",
      "        [ 0.1061, -1.5811,  1.4971],\n",
      "        [-0.9165,  0.2201,  1.1709],\n",
      "        ...,\n",
      "        [ 0.3867, -2.0410,  1.7363],\n",
      "        [-1.1836,  1.1592,  0.3997],\n",
      "        [-1.6318,  2.6035, -0.4214]], device='cuda:0', dtype=torch.float16), hidden_states=None, attentions=None)\n"
     ]
    },
    {
     "name": "stderr",
     "output_type": "stream",
     "text": []
    },
    {
     "name": "stdout",
     "output_type": "stream",
     "text": [
      "output of the model SequenceClassifierOutput(loss=None, logits=tensor([[-0.7744,  2.2832, -1.7734],\n",
      "        [-0.5967,  1.0166, -0.8296],\n",
      "        [ 0.3054,  0.5430, -1.6436],\n",
      "        ...,\n",
      "        [-0.5171, -1.5830,  2.5195],\n",
      "        [ 1.1074, -1.3301, -0.1893],\n",
      "        [ 1.9883, -1.8936, -1.3877]], device='cuda:0', dtype=torch.float16), hidden_states=None, attentions=None)\n"
     ]
    },
    {
     "name": "stderr",
     "output_type": "stream",
     "text": []
    },
    {
     "name": "stdout",
     "output_type": "stream",
     "text": [
      "output of the model SequenceClassifierOutput(loss=None, logits=tensor([[-0.4819, -1.6494,  2.4395],\n",
      "        [ 1.2324, -2.3633,  0.5962],\n",
      "        [ 1.8604, -2.9121,  0.2179],\n",
      "        ...,\n",
      "        [ 1.6924, -1.6738, -1.1826],\n",
      "        [-0.0088, -1.9365,  2.3027],\n",
      "        [-0.9985, -0.9902,  2.6465]], device='cuda:0', dtype=torch.float16), hidden_states=None, attentions=None)\n"
     ]
    },
    {
     "name": "stderr",
     "output_type": "stream",
     "text": []
    },
    {
     "name": "stdout",
     "output_type": "stream",
     "text": [
      "output of the model SequenceClassifierOutput(loss=None, logits=tensor([[ 0.7222, -0.8047, -0.2021],\n",
      "        [ 0.9756, -2.2441,  1.2031],\n",
      "        [-0.5566, -1.5898,  2.5781],\n",
      "        ...,\n",
      "        [ 1.8389, -1.7695, -0.7446],\n",
      "        [ 1.8389, -1.7695, -0.7446],\n",
      "        [-0.6812, -1.4971,  2.5176]], device='cuda:0', dtype=torch.float16), hidden_states=None, attentions=None)\n"
     ]
    },
    {
     "name": "stderr",
     "output_type": "stream",
     "text": []
    },
    {
     "name": "stdout",
     "output_type": "stream",
     "text": [
      "output of the model SequenceClassifierOutput(loss=None, logits=tensor([[ 0.8843, -2.7168,  1.7090],\n",
      "        [-0.8398,  1.7461, -0.7207],\n",
      "        [-0.8398,  1.7461, -0.7207],\n",
      "        ...,\n",
      "        [ 1.9824, -1.6396, -1.6582],\n",
      "        [ 0.3264, -2.3652,  1.9951],\n",
      "        [ 2.0215, -2.6797, -0.4360]], device='cuda:0', dtype=torch.float16), hidden_states=None, attentions=None)\n"
     ]
    },
    {
     "name": "stderr",
     "output_type": "stream",
     "text": []
    },
    {
     "name": "stdout",
     "output_type": "stream",
     "text": [
      "output of the model SequenceClassifierOutput(loss=None, logits=tensor([[-1.6250,  2.8672, -1.0664],\n",
      "        [ 1.9170, -1.3164, -1.6650],\n",
      "        [-1.3154,  0.6172,  1.3496],\n",
      "        ...,\n",
      "        [-1.0947, -0.9092,  2.5586],\n",
      "        [-1.4414,  0.1740,  2.1348],\n",
      "        [-0.1025, -0.8696,  1.2695]], device='cuda:0', dtype=torch.float16), hidden_states=None, attentions=None)\n"
     ]
    },
    {
     "name": "stderr",
     "output_type": "stream",
     "text": []
    },
    {
     "name": "stdout",
     "output_type": "stream",
     "text": [
      "output of the model SequenceClassifierOutput(loss=None, logits=tensor([[-0.1711, -1.5146,  2.0332],\n",
      "        [ 0.4133, -2.4961,  2.1172],\n",
      "        [ 1.9902, -2.6797, -0.2140],\n",
      "        ...,\n",
      "        [-1.4609, -0.0660,  2.4141],\n",
      "        [-1.7842,  2.4238,  0.2281],\n",
      "        [-1.4609, -0.0660,  2.4141]], device='cuda:0', dtype=torch.float16), hidden_states=None, attentions=None)\n"
     ]
    },
    {
     "name": "stderr",
     "output_type": "stream",
     "text": []
    },
    {
     "name": "stdout",
     "output_type": "stream",
     "text": [
      "output of the model SequenceClassifierOutput(loss=None, logits=tensor([[-0.6792, -1.4170,  2.4844],\n",
      "        [-0.4346, -1.1543,  2.2188],\n",
      "        [-1.3662,  0.6909,  1.6064],\n",
      "        ...,\n",
      "        [-0.9814,  1.0859,  0.5200],\n",
      "        [-1.6162,  2.6934, -0.5947],\n",
      "        [-1.5166,  2.2363, -0.2974]], device='cuda:0', dtype=torch.float16), hidden_states=None, attentions=None)\n"
     ]
    },
    {
     "name": "stderr",
     "output_type": "stream",
     "text": []
    },
    {
     "name": "stdout",
     "output_type": "stream",
     "text": [
      "output of the model SequenceClassifierOutput(loss=None, logits=tensor([[-0.9985, -0.4189,  2.2168],\n",
      "        [-0.1672, -1.6787,  2.1113],\n",
      "        [-1.1270, -0.7642,  2.5410],\n",
      "        ...,\n",
      "        [-1.5713,  2.8457, -1.0068],\n",
      "        [-1.0234, -0.1111,  1.8398],\n",
      "        [-0.9453, -0.6108,  2.2500]], device='cuda:0', dtype=torch.float16), hidden_states=None, attentions=None)\n"
     ]
    },
    {
     "name": "stderr",
     "output_type": "stream",
     "text": []
    },
    {
     "name": "stdout",
     "output_type": "stream",
     "text": [
      "output of the model SequenceClassifierOutput(loss=None, logits=tensor([[ 0.3823, -0.0544, -1.1260],\n",
      "        [ 1.7246, -2.3691, -0.0120],\n",
      "        [-1.7314,  2.9434, -0.9111],\n",
      "        ...,\n",
      "        [ 1.2617, -2.3125,  0.8159],\n",
      "        [-0.6440, -1.3691,  2.4062],\n",
      "        [ 1.6689, -1.0508, -1.7383]], device='cuda:0', dtype=torch.float16), hidden_states=None, attentions=None)\n"
     ]
    },
    {
     "name": "stderr",
     "output_type": "stream",
     "text": []
    },
    {
     "name": "stdout",
     "output_type": "stream",
     "text": [
      "output of the model SequenceClassifierOutput(loss=None, logits=tensor([[-1.8867,  2.8457, -0.5610],\n",
      "        [ 0.5293, -1.9902,  1.7227],\n",
      "        [-1.0508, -0.8862,  2.4766],\n",
      "        ...,\n",
      "        [-0.4937,  2.1445, -1.5664],\n",
      "        [-0.0242,  1.1191, -1.0762],\n",
      "        [-0.4465,  1.5322, -1.3467]], device='cuda:0', dtype=torch.float16), hidden_states=None, attentions=None)\n"
     ]
    },
    {
     "name": "stderr",
     "output_type": "stream",
     "text": []
    },
    {
     "name": "stdout",
     "output_type": "stream",
     "text": [
      "output of the model SequenceClassifierOutput(loss=None, logits=tensor([[ 0.1208,  0.8853, -1.3760],\n",
      "        [-1.5508,  2.6914, -0.8477],\n",
      "        [ 0.0040, -0.1442,  0.7026],\n",
      "        ...,\n",
      "        [-0.4910, -1.0146,  1.9580],\n",
      "        [-1.6455,  2.5098, -0.2810],\n",
      "        [ 1.2158, -2.4160,  0.6812]], device='cuda:0', dtype=torch.float16), hidden_states=None, attentions=None)\n"
     ]
    },
    {
     "name": "stderr",
     "output_type": "stream",
     "text": []
    },
    {
     "name": "stdout",
     "output_type": "stream",
     "text": [
      "output of the model SequenceClassifierOutput(loss=None, logits=tensor([[-0.8301,  1.5576, -0.7217],\n",
      "        [-1.2646,  1.8320, -0.4050],\n",
      "        [-0.8247,  1.0146, -0.3926],\n",
      "        ...,\n",
      "        [-0.6333, -0.9712,  1.8359],\n",
      "        [ 0.1119, -2.2227,  2.1875],\n",
      "        [ 0.0161, -0.5591,  1.3428]], device='cuda:0', dtype=torch.float16), hidden_states=None, attentions=None)\n"
     ]
    },
    {
     "name": "stderr",
     "output_type": "stream",
     "text": []
    },
    {
     "name": "stdout",
     "output_type": "stream",
     "text": [
      "output of the model SequenceClassifierOutput(loss=None, logits=tensor([[-0.8906, -1.2832,  2.5898],\n",
      "        [-0.1302, -2.1172,  2.3633],\n",
      "        [-0.7095, -0.7290,  1.6426],\n",
      "        ...,\n",
      "        [-0.9229,  0.7056,  0.3154],\n",
      "        [-1.4375,  2.4434, -0.6724],\n",
      "        [-1.4434,  2.4062, -0.5659]], device='cuda:0', dtype=torch.float16), hidden_states=None, attentions=None)\n"
     ]
    },
    {
     "name": "stderr",
     "output_type": "stream",
     "text": []
    },
    {
     "name": "stdout",
     "output_type": "stream",
     "text": [
      "output of the model SequenceClassifierOutput(loss=None, logits=tensor([[-1.1943e+00, -5.8057e-01,  2.5234e+00],\n",
      "        [-1.4268e+00,  2.4727e+00, -7.9639e-01],\n",
      "        [-1.2646e+00,  2.2773e+00, -7.4365e-01],\n",
      "        ...,\n",
      "        [ 7.3877e-01, -2.4414e+00,  1.7744e+00],\n",
      "        [-1.8164e+00,  2.5078e+00, -2.3174e-03],\n",
      "        [ 4.0430e-01, -2.2930e+00,  2.0059e+00]], device='cuda:0',\n",
      "       dtype=torch.float16), hidden_states=None, attentions=None)\n"
     ]
    },
    {
     "name": "stderr",
     "output_type": "stream",
     "text": []
    },
    {
     "name": "stdout",
     "output_type": "stream",
     "text": [
      "output of the model SequenceClassifierOutput(loss=None, logits=tensor([[-1.3994e+00,  1.9941e+00, -1.2341e-01],\n",
      "        [-7.7197e-01,  9.7609e-04,  1.4277e+00],\n",
      "        [-4.8828e-01, -1.4521e+00,  2.4336e+00],\n",
      "        ...,\n",
      "        [-4.8926e-01, -6.5186e-02,  8.3398e-01],\n",
      "        [ 1.4189e+00, -9.8535e-01, -1.4053e+00],\n",
      "        [-1.2217e+00, -3.6035e-01,  2.1641e+00]], device='cuda:0',\n",
      "       dtype=torch.float16), hidden_states=None, attentions=None)\n"
     ]
    },
    {
     "name": "stderr",
     "output_type": "stream",
     "text": []
    },
    {
     "name": "stdout",
     "output_type": "stream",
     "text": [
      "output of the model SequenceClassifierOutput(loss=None, logits=tensor([[-0.9502,  1.2246, -0.0670],\n",
      "        [ 2.0996, -1.6846, -1.6191],\n",
      "        [-0.2861,  0.3083,  0.0219],\n",
      "        ...,\n",
      "        [-1.4766,  2.3516, -0.4658],\n",
      "        [-0.7231, -0.7476,  2.1230],\n",
      "        [-1.3330,  2.2773, -0.7427]], device='cuda:0', dtype=torch.float16), hidden_states=None, attentions=None)\n"
     ]
    },
    {
     "name": "stderr",
     "output_type": "stream",
     "text": []
    },
    {
     "name": "stdout",
     "output_type": "stream",
     "text": [
      "output of the model SequenceClassifierOutput(loss=None, logits=tensor([[-1.0635, -0.6899,  2.3281],\n",
      "        [-0.8091, -1.3125,  2.5879],\n",
      "        [-1.8525,  2.9473, -0.7710],\n",
      "        ...,\n",
      "        [ 0.2759,  0.3618, -1.3389],\n",
      "        [ 1.8682, -1.8018, -1.4004],\n",
      "        [ 1.6865, -0.8682, -1.8818]], device='cuda:0', dtype=torch.float16), hidden_states=None, attentions=None)\n"
     ]
    },
    {
     "name": "stderr",
     "output_type": "stream",
     "text": []
    },
    {
     "name": "stdout",
     "output_type": "stream",
     "text": [
      "output of the model SequenceClassifierOutput(loss=None, logits=tensor([[ 1.6699, -0.8540, -1.8760],\n",
      "        [ 1.8828, -1.2930, -1.6309],\n",
      "        [ 1.1816, -1.2129, -0.7114],\n",
      "        ...,\n",
      "        [-1.6328,  1.4229,  1.1572],\n",
      "        [-0.8418,  0.2468,  1.4941],\n",
      "        [-0.2415, -1.1553,  2.0020]], device='cuda:0', dtype=torch.float16), hidden_states=None, attentions=None)\n"
     ]
    },
    {
     "name": "stderr",
     "output_type": "stream",
     "text": []
    },
    {
     "name": "stdout",
     "output_type": "stream",
     "text": [
      "output of the model SequenceClassifierOutput(loss=None, logits=tensor([[-1.0664, -0.3264,  2.0352],\n",
      "        [-0.5566, -1.5879,  2.4043],\n",
      "        [-0.7563, -1.1025,  2.0820],\n",
      "        ...,\n",
      "        [-0.9697,  0.2334,  1.2246],\n",
      "        [ 2.1309, -1.4912, -1.8574],\n",
      "        [-0.8198,  0.3418,  1.2188]], device='cuda:0', dtype=torch.float16), hidden_states=None, attentions=None)\n"
     ]
    },
    {
     "name": "stderr",
     "output_type": "stream",
     "text": []
    },
    {
     "name": "stdout",
     "output_type": "stream",
     "text": [
      "output of the model SequenceClassifierOutput(loss=None, logits=tensor([[ 2.1309, -1.4912, -1.8574],\n",
      "        [-0.5435, -0.7617,  1.3516],\n",
      "        [ 0.8188, -0.6504, -0.8511],\n",
      "        ...,\n",
      "        [ 1.7754, -2.1934, -0.2008],\n",
      "        [-0.4219, -0.2314,  1.1641],\n",
      "        [-1.7373,  3.0234, -1.0605]], device='cuda:0', dtype=torch.float16), hidden_states=None, attentions=None)\n"
     ]
    },
    {
     "name": "stderr",
     "output_type": "stream",
     "text": []
    },
    {
     "name": "stdout",
     "output_type": "stream",
     "text": [
      "output of the model SequenceClassifierOutput(loss=None, logits=tensor([[ 0.9619, -2.3691,  1.3330],\n",
      "        [ 0.3440, -1.5947,  1.7109],\n",
      "        [-0.3572, -1.0078,  1.7568],\n",
      "        ...,\n",
      "        [-1.4443, -0.0582,  2.2168],\n",
      "        [ 0.1621, -2.2715,  2.3203],\n",
      "        [-0.8184, -0.2308,  1.8789]], device='cuda:0', dtype=torch.float16), hidden_states=None, attentions=None)\n"
     ]
    },
    {
     "name": "stderr",
     "output_type": "stream",
     "text": []
    },
    {
     "name": "stdout",
     "output_type": "stream",
     "text": [
      "output of the model SequenceClassifierOutput(loss=None, logits=tensor([[-1.3369,  2.1934, -0.0523],\n",
      "        [ 0.0062, -1.3379,  1.7070],\n",
      "        [-1.4121,  1.3125,  1.0303],\n",
      "        ...,\n",
      "        [-1.3232, -0.4648,  2.3633],\n",
      "        [-0.9946, -0.2544,  1.8496],\n",
      "        [-1.0791, -0.0920,  1.8213]], device='cuda:0', dtype=torch.float16), hidden_states=None, attentions=None)\n"
     ]
    },
    {
     "name": "stderr",
     "output_type": "stream",
     "text": []
    },
    {
     "name": "stdout",
     "output_type": "stream",
     "text": [
      "output of the model SequenceClassifierOutput(loss=None, logits=tensor([[-1.6172,  2.8477, -0.9644],\n",
      "        [-0.8467, -0.5430,  2.1777],\n",
      "        [ 1.9854, -1.6348, -1.3828],\n",
      "        ...,\n",
      "        [-0.6577, -1.4521,  2.4785],\n",
      "        [ 1.3057, -2.4141,  0.9248],\n",
      "        [-1.4902,  1.9023, -0.0823]], device='cuda:0', dtype=torch.float16), hidden_states=None, attentions=None)\n"
     ]
    },
    {
     "name": "stderr",
     "output_type": "stream",
     "text": []
    },
    {
     "name": "stdout",
     "output_type": "stream",
     "text": [
      "output of the model SequenceClassifierOutput(loss=None, logits=tensor([[-1.8867,  2.5820, -0.1061],\n",
      "        [-1.5107,  1.8555,  0.5938],\n",
      "        [-1.5547,  1.9326,  0.5630],\n",
      "        ...,\n",
      "        [-1.1553, -0.5605,  2.1895],\n",
      "        [-1.4307,  0.0483,  2.2773],\n",
      "        [-0.5195, -0.4246,  1.6455]], device='cuda:0', dtype=torch.float16), hidden_states=None, attentions=None)\n"
     ]
    },
    {
     "name": "stderr",
     "output_type": "stream",
     "text": []
    },
    {
     "name": "stdout",
     "output_type": "stream",
     "text": [
      "output of the model SequenceClassifierOutput(loss=None, logits=tensor([[ 0.5640, -1.0898,  0.5391],\n",
      "        [-1.8184,  2.2871,  0.6104],\n",
      "        [-1.2256,  0.9502,  0.7593],\n",
      "        ...,\n",
      "        [-1.5293,  2.7148, -1.0049],\n",
      "        [ 1.7373, -2.4531, -0.1904],\n",
      "        [ 1.8271, -1.3154, -1.6396]], device='cuda:0', dtype=torch.float16), hidden_states=None, attentions=None)\n"
     ]
    },
    {
     "name": "stderr",
     "output_type": "stream",
     "text": []
    },
    {
     "name": "stdout",
     "output_type": "stream",
     "text": [
      "output of the model SequenceClassifierOutput(loss=None, logits=tensor([[-1.2061,  2.3633, -1.1865],\n",
      "        [ 1.9697, -1.2744, -1.7217],\n",
      "        [ 1.8652, -1.9072, -1.3271],\n",
      "        ...,\n",
      "        [ 0.1494, -1.0273,  0.8081],\n",
      "        [ 0.8442, -1.0576, -0.6621],\n",
      "        [-0.4104, -1.6445,  2.3359]], device='cuda:0', dtype=torch.float16), hidden_states=None, attentions=None)\n"
     ]
    },
    {
     "name": "stderr",
     "output_type": "stream",
     "text": []
    },
    {
     "name": "stdout",
     "output_type": "stream",
     "text": [
      "output of the model SequenceClassifierOutput(loss=None, logits=tensor([[ 0.2299, -2.1211,  2.0684],\n",
      "        [-0.8726, -0.5054,  2.0195],\n",
      "        [ 1.0381, -2.6602,  1.4756],\n",
      "        ...,\n",
      "        [ 1.8135, -2.9570,  0.5962],\n",
      "        [ 1.4463, -2.3027,  0.1388],\n",
      "        [ 1.0908, -2.0801,  0.5713]], device='cuda:0', dtype=torch.float16), hidden_states=None, attentions=None)\n"
     ]
    },
    {
     "name": "stderr",
     "output_type": "stream",
     "text": []
    },
    {
     "name": "stdout",
     "output_type": "stream",
     "text": [
      "output of the model SequenceClassifierOutput(loss=None, logits=tensor([[ 1.6377, -2.5488,  0.4385],\n",
      "        [ 1.9561, -2.8984,  0.2749],\n",
      "        [-0.0039, -0.9385,  1.2070],\n",
      "        ...,\n",
      "        [ 0.2954, -0.0824, -0.9951],\n",
      "        [-1.7256,  1.6748,  0.9316],\n",
      "        [ 0.1143, -1.2803,  1.4844]], device='cuda:0', dtype=torch.float16), hidden_states=None, attentions=None)\n"
     ]
    },
    {
     "name": "stderr",
     "output_type": "stream",
     "text": []
    },
    {
     "name": "stdout",
     "output_type": "stream",
     "text": [
      "output of the model SequenceClassifierOutput(loss=None, logits=tensor([[-0.8560, -0.8247,  2.4004],\n",
      "        [-0.3242, -0.7603,  1.1973],\n",
      "        [ 1.2139, -2.2656,  0.6738],\n",
      "        ...,\n",
      "        [-0.0323, -1.4219,  1.5381],\n",
      "        [-1.0830,  0.8555,  0.6670],\n",
      "        [ 1.7773, -2.4707,  0.1097]], device='cuda:0', dtype=torch.float16), hidden_states=None, attentions=None)\n"
     ]
    },
    {
     "name": "stderr",
     "output_type": "stream",
     "text": []
    },
    {
     "name": "stdout",
     "output_type": "stream",
     "text": [
      "output of the model SequenceClassifierOutput(loss=None, logits=tensor([[-1.0439, -0.8481,  2.4551],\n",
      "        [-0.6265,  0.3511,  0.5103],\n",
      "        [ 2.0195, -1.7939, -1.5459],\n",
      "        ...,\n",
      "        [-0.9673, -1.2119,  2.6191],\n",
      "        [-1.3496,  0.9307,  1.5840],\n",
      "        [-0.2161, -1.6426,  2.0840]], device='cuda:0', dtype=torch.float16), hidden_states=None, attentions=None)\n"
     ]
    },
    {
     "name": "stderr",
     "output_type": "stream",
     "text": []
    },
    {
     "name": "stdout",
     "output_type": "stream",
     "text": [
      "output of the model SequenceClassifierOutput(loss=None, logits=tensor([[-0.6089,  0.4880,  0.4343],\n",
      "        [-0.2549, -1.3701,  1.8848],\n",
      "        [-1.1885,  0.9604,  0.6465],\n",
      "        ...,\n",
      "        [-1.5039,  2.5977, -0.7451],\n",
      "        [ 0.8062, -1.2695,  0.1572],\n",
      "        [ 0.4834, -1.2109,  0.8311]], device='cuda:0', dtype=torch.float16), hidden_states=None, attentions=None)\n"
     ]
    },
    {
     "name": "stderr",
     "output_type": "stream",
     "text": []
    },
    {
     "name": "stdout",
     "output_type": "stream",
     "text": [
      "output of the model SequenceClassifierOutput(loss=None, logits=tensor([[ 1.0674, -1.1523, -0.7188],\n",
      "        [-0.9644, -0.6675,  2.2734],\n",
      "        [ 0.2542, -1.7471,  1.6699],\n",
      "        ...,\n",
      "        [-0.3684, -1.5000,  2.3477],\n",
      "        [-0.3979, -1.1201,  1.6270],\n",
      "        [-1.3457,  1.0557,  0.7539]], device='cuda:0', dtype=torch.float16), hidden_states=None, attentions=None)\n"
     ]
    },
    {
     "name": "stderr",
     "output_type": "stream",
     "text": []
    },
    {
     "name": "stdout",
     "output_type": "stream",
     "text": [
      "output of the model SequenceClassifierOutput(loss=None, logits=tensor([[ 0.3201,  0.6499, -1.6094],\n",
      "        [-0.2815,  0.1260, -0.0284],\n",
      "        [-1.4668,  0.3271,  2.0312],\n",
      "        ...,\n",
      "        [-1.0234, -0.6021,  2.2129],\n",
      "        [-0.9492, -0.5762,  2.4492],\n",
      "        [ 0.6807, -2.5859,  1.9336]], device='cuda:0', dtype=torch.float16), hidden_states=None, attentions=None)\n"
     ]
    },
    {
     "name": "stderr",
     "output_type": "stream",
     "text": []
    },
    {
     "name": "stdout",
     "output_type": "stream",
     "text": [
      "output of the model SequenceClassifierOutput(loss=None, logits=tensor([[-0.6118, -1.5762,  2.5723],\n",
      "        [ 1.4727, -2.6113,  0.1986],\n",
      "        [-0.1232, -2.1152,  2.2949],\n",
      "        ...,\n",
      "        [-1.1045, -0.6001,  2.2930],\n",
      "        [ 0.6143, -1.0635,  0.4182],\n",
      "        [ 1.6885, -1.5352, -1.4375]], device='cuda:0', dtype=torch.float16), hidden_states=None, attentions=None)\n"
     ]
    },
    {
     "name": "stderr",
     "output_type": "stream",
     "text": []
    },
    {
     "name": "stdout",
     "output_type": "stream",
     "text": [
      "output of the model SequenceClassifierOutput(loss=None, logits=tensor([[ 1.5537, -0.9214, -1.4648],\n",
      "        [-1.5469,  2.2676, -0.3743],\n",
      "        [ 1.8584, -1.8965, -1.3340],\n",
      "        ...,\n",
      "        [-0.5288,  0.9541, -0.9497],\n",
      "        [ 1.7969, -1.2979, -1.5693],\n",
      "        [ 0.0322, -1.3828,  1.3809]], device='cuda:0', dtype=torch.float16), hidden_states=None, attentions=None)\n"
     ]
    },
    {
     "name": "stderr",
     "output_type": "stream",
     "text": []
    },
    {
     "name": "stdout",
     "output_type": "stream",
     "text": [
      "output of the model SequenceClassifierOutput(loss=None, logits=tensor([[-1.4121,  1.3125,  1.0303],\n",
      "        [-0.8008,  0.2593,  0.4426],\n",
      "        [-0.5552, -1.2803,  2.3574],\n",
      "        ...,\n",
      "        [-1.4775,  2.9082, -1.1973],\n",
      "        [-1.4209,  2.1895, -0.6138],\n",
      "        [-1.4434,  2.8105, -1.1689]], device='cuda:0', dtype=torch.float16), hidden_states=None, attentions=None)\n"
     ]
    },
    {
     "name": "stderr",
     "output_type": "stream",
     "text": []
    },
    {
     "name": "stdout",
     "output_type": "stream",
     "text": [
      "output of the model SequenceClassifierOutput(loss=None, logits=tensor([[-1.5049,  2.7559, -1.1133],\n",
      "        [-0.8120,  2.3848, -1.8066],\n",
      "        [-1.3818,  0.3501,  1.9854],\n",
      "        ...,\n",
      "        [-0.1054, -1.2178,  1.6699],\n",
      "        [ 0.5049, -1.1562,  0.5176],\n",
      "        [-0.6831, -0.2852,  1.7666]], device='cuda:0', dtype=torch.float16), hidden_states=None, attentions=None)\n"
     ]
    },
    {
     "name": "stderr",
     "output_type": "stream",
     "text": []
    },
    {
     "name": "stdout",
     "output_type": "stream",
     "text": [
      "output of the model SequenceClassifierOutput(loss=None, logits=tensor([[-0.8467, -0.5430,  2.1777],\n",
      "        [-1.2783,  2.3770, -0.5859],\n",
      "        [ 2.0137, -1.7041, -1.6094],\n",
      "        ...,\n",
      "        [ 1.8545, -2.9688,  0.4741],\n",
      "        [-1.5674,  2.0176,  0.0737],\n",
      "        [-0.5005, -0.5703,  1.1191]], device='cuda:0', dtype=torch.float16), hidden_states=None, attentions=None)\n"
     ]
    },
    {
     "name": "stderr",
     "output_type": "stream",
     "text": []
    },
    {
     "name": "stdout",
     "output_type": "stream",
     "text": [
      "output of the model SequenceClassifierOutput(loss=None, logits=tensor([[-0.3298, -1.8896,  2.4336],\n",
      "        [-0.2415, -1.1553,  2.0020],\n",
      "        [ 0.8882, -2.0898,  0.8521],\n",
      "        ...,\n",
      "        [-0.8428,  2.4180, -1.6621],\n",
      "        [-1.2764,  2.3418, -0.8618],\n",
      "        [-0.7891, -0.5933,  2.2520]], device='cuda:0', dtype=torch.float16), hidden_states=None, attentions=None)\n"
     ]
    },
    {
     "name": "stderr",
     "output_type": "stream",
     "text": []
    },
    {
     "name": "stdout",
     "output_type": "stream",
     "text": [
      "output of the model SequenceClassifierOutput(loss=None, logits=tensor([[-0.6040, -0.9072,  2.1855],\n",
      "        [ 1.1133, -1.2607, -0.0983],\n",
      "        [ 0.3440, -1.5947,  1.7109],\n",
      "        ...,\n",
      "        [-0.8281, -1.3320,  2.6016],\n",
      "        [-1.5049,  1.5898,  0.8672],\n",
      "        [-1.6279,  1.5840,  1.0000]], device='cuda:0', dtype=torch.float16), hidden_states=None, attentions=None)\n"
     ]
    },
    {
     "name": "stderr",
     "output_type": "stream",
     "text": []
    },
    {
     "name": "stdout",
     "output_type": "stream",
     "text": [
      "output of the model SequenceClassifierOutput(loss=None, logits=tensor([[-0.4133, -0.6104,  1.5059],\n",
      "        [-0.1633, -1.0752,  1.1572],\n",
      "        [-1.5938,  2.0879,  0.3352],\n",
      "        ...,\n",
      "        [-0.0307,  0.1869, -0.8125],\n",
      "        [ 0.0220, -2.2383,  2.3672],\n",
      "        [-0.1562, -1.6953,  2.2891]], device='cuda:0', dtype=torch.float16), hidden_states=None, attentions=None)\n"
     ]
    },
    {
     "name": "stderr",
     "output_type": "stream",
     "text": []
    },
    {
     "name": "stdout",
     "output_type": "stream",
     "text": [
      "output of the model SequenceClassifierOutput(loss=None, logits=tensor([[-0.2791,  0.7910, -1.0000],\n",
      "        [-0.0978, -2.1211,  2.3711],\n",
      "        [-0.0978, -2.1211,  2.3711],\n",
      "        ...,\n",
      "        [-0.8232, -1.2939,  2.5000],\n",
      "        [-0.8232, -1.2939,  2.5000],\n",
      "        [ 1.1357, -1.9941,  0.3157]], device='cuda:0', dtype=torch.float16), hidden_states=None, attentions=None)\n"
     ]
    },
    {
     "name": "stderr",
     "output_type": "stream",
     "text": []
    },
    {
     "name": "stdout",
     "output_type": "stream",
     "text": [
      "output of the model SequenceClassifierOutput(loss=None, logits=tensor([[-0.2004, -1.5557,  2.3184],\n",
      "        [ 0.3682, -2.2832,  2.0156],\n",
      "        [-0.3879, -1.7480,  2.3828],\n",
      "        ...,\n",
      "        [ 0.0485, -1.4043,  1.6416],\n",
      "        [-1.4424,  1.2939,  1.0762],\n",
      "        [-1.1270,  0.4419,  1.2617]], device='cuda:0', dtype=torch.float16), hidden_states=None, attentions=None)\n"
     ]
    },
    {
     "name": "stderr",
     "output_type": "stream",
     "text": []
    },
    {
     "name": "stdout",
     "output_type": "stream",
     "text": [
      "output of the model SequenceClassifierOutput(loss=None, logits=tensor([[-1.6436,  2.9512, -1.0059],\n",
      "        [ 0.4016, -1.6973,  1.4658],\n",
      "        [-0.9702,  0.3657,  1.0850],\n",
      "        ...,\n",
      "        [-1.4443,  2.6484, -1.0850],\n",
      "        [ 0.1390, -1.1338,  1.1396],\n",
      "        [ 1.8262, -1.5342, -1.5039]], device='cuda:0', dtype=torch.float16), hidden_states=None, attentions=None)\n"
     ]
    },
    {
     "name": "stderr",
     "output_type": "stream",
     "text": []
    },
    {
     "name": "stdout",
     "output_type": "stream",
     "text": [
      "output of the model SequenceClassifierOutput(loss=None, logits=tensor([[ 2.1094, -1.6338, -1.7285],\n",
      "        [ 0.6904, -0.1875, -1.4551],\n",
      "        [-1.4365,  0.0226,  2.3008],\n",
      "        ...,\n",
      "        [-1.2871,  0.5732,  1.4023],\n",
      "        [ 1.0615, -0.2054, -1.7881],\n",
      "        [ 1.0586, -0.8877, -0.2913]], device='cuda:0', dtype=torch.float16), hidden_states=None, attentions=None)\n"
     ]
    },
    {
     "name": "stderr",
     "output_type": "stream",
     "text": []
    },
    {
     "name": "stdout",
     "output_type": "stream",
     "text": [
      "output of the model SequenceClassifierOutput(loss=None, logits=tensor([[ 0.5991, -2.3262,  1.6895],\n",
      "        [ 1.8691, -2.5977,  0.0410],\n",
      "        [ 0.9946, -1.3242,  0.3513],\n",
      "        ...,\n",
      "        [-1.2051, -0.3928,  2.4688],\n",
      "        [ 1.9697, -2.8984, -0.0386],\n",
      "        [-1.0059, -0.4097,  2.3184]], device='cuda:0', dtype=torch.float16), hidden_states=None, attentions=None)\n"
     ]
    },
    {
     "name": "stderr",
     "output_type": "stream",
     "text": []
    },
    {
     "name": "stdout",
     "output_type": "stream",
     "text": [
      "output of the model SequenceClassifierOutput(loss=None, logits=tensor([[ 0.9116, -1.7490,  0.6504],\n",
      "        [ 1.3232, -2.3184,  0.6743],\n",
      "        [ 1.3232, -2.3184,  0.6743],\n",
      "        ...,\n",
      "        [-0.0641, -1.1377,  1.5400],\n",
      "        [-0.9067,  1.3271, -0.2532],\n",
      "        [-1.1680, -0.3179,  2.2188]], device='cuda:0', dtype=torch.float16), hidden_states=None, attentions=None)\n"
     ]
    },
    {
     "name": "stderr",
     "output_type": "stream",
     "text": []
    },
    {
     "name": "stdout",
     "output_type": "stream",
     "text": [
      "output of the model SequenceClassifierOutput(loss=None, logits=tensor([[-0.9702,  0.6963,  0.6641],\n",
      "        [-1.4883,  1.2393,  1.0176],\n",
      "        [-0.6978,  0.2698,  0.7290],\n",
      "        ...,\n",
      "        [ 1.7021, -2.8262,  0.3513],\n",
      "        [ 1.8828, -1.8018, -1.2949],\n",
      "        [ 2.0801, -1.6885, -1.6328]], device='cuda:0', dtype=torch.float16), hidden_states=None, attentions=None)\n"
     ]
    },
    {
     "name": "stderr",
     "output_type": "stream",
     "text": []
    },
    {
     "name": "stdout",
     "output_type": "stream",
     "text": [
      "output of the model SequenceClassifierOutput(loss=None, logits=tensor([[-0.1991,  0.5254, -0.7412],\n",
      "        [-1.1094,  1.1318,  0.5498],\n",
      "        [-1.6152,  0.6611,  1.8594],\n",
      "        ...,\n",
      "        [ 1.7080, -1.4111, -1.4473],\n",
      "        [ 1.8936, -1.1982, -1.7246],\n",
      "        [-0.0068, -0.9526,  1.2002]], device='cuda:0', dtype=torch.float16), hidden_states=None, attentions=None)\n"
     ]
    },
    {
     "name": "stderr",
     "output_type": "stream",
     "text": []
    },
    {
     "name": "stdout",
     "output_type": "stream",
     "text": [
      "output of the model SequenceClassifierOutput(loss=None, logits=tensor([[-0.9399,  0.6431,  0.6709],\n",
      "        [ 0.7554, -1.8799,  0.9048],\n",
      "        [-0.6470, -0.1445,  1.3096],\n",
      "        ...,\n",
      "        [ 0.5278,  0.1875, -0.8691],\n",
      "        [ 0.2266, -1.8203,  1.9551],\n",
      "        [ 2.0293, -1.9053, -1.4404]], device='cuda:0', dtype=torch.float16), hidden_states=None, attentions=None)\n"
     ]
    },
    {
     "name": "stderr",
     "output_type": "stream",
     "text": []
    },
    {
     "name": "stdout",
     "output_type": "stream",
     "text": [
      "output of the model SequenceClassifierOutput(loss=None, logits=tensor([[ 0.6938, -2.4160,  1.7773],\n",
      "        [-0.5396, -1.3633,  2.3828],\n",
      "        [-1.0371, -0.8706,  2.4336],\n",
      "        ...,\n",
      "        [-0.1558, -1.9609,  2.2695],\n",
      "        [ 0.1962, -2.0371,  1.8340],\n",
      "        [-0.1858, -1.8008,  2.3145]], device='cuda:0', dtype=torch.float16), hidden_states=None, attentions=None)\n"
     ]
    },
    {
     "name": "stderr",
     "output_type": "stream",
     "text": []
    },
    {
     "name": "stdout",
     "output_type": "stream",
     "text": [
      "output of the model SequenceClassifierOutput(loss=None, logits=tensor([[-0.8491,  2.4102, -1.7598],\n",
      "        [-0.3333, -1.8877,  2.4824],\n",
      "        [-0.7476, -1.0742,  2.4180],\n",
      "        ...,\n",
      "        [-0.7085, -0.8042,  1.9072],\n",
      "        [-0.5039, -1.4971,  2.3184],\n",
      "        [-0.8799, -1.1133,  2.4980]], device='cuda:0', dtype=torch.float16), hidden_states=None, attentions=None)\n"
     ]
    },
    {
     "name": "stderr",
     "output_type": "stream",
     "text": []
    },
    {
     "name": "stdout",
     "output_type": "stream",
     "text": [
      "output of the model SequenceClassifierOutput(loss=None, logits=tensor([[-0.3313, -0.8823,  1.5439],\n",
      "        [-1.4531,  2.7930, -1.2344],\n",
      "        [-1.0830,  0.8555,  0.6670],\n",
      "        ...,\n",
      "        [-1.1768,  1.9805,  0.0275],\n",
      "        [ 0.3826,  0.5312, -1.6230],\n",
      "        [-1.2783,  2.3770, -0.5859]], device='cuda:0', dtype=torch.float16), hidden_states=None, attentions=None)\n"
     ]
    },
    {
     "name": "stderr",
     "output_type": "stream",
     "text": []
    },
    {
     "name": "stdout",
     "output_type": "stream",
     "text": [
      "output of the model SequenceClassifierOutput(loss=None, logits=tensor([[ 1.7529, -0.6318, -1.9717],\n",
      "        [-0.7617, -0.1417,  1.4229],\n",
      "        [-1.6445,  2.5684, -0.6577],\n",
      "        ...,\n",
      "        [-0.0901, -2.0703,  2.3516],\n",
      "        [-1.2490, -0.5713,  2.5586],\n",
      "        [-1.3135,  2.5312, -0.9360]], device='cuda:0', dtype=torch.float16), hidden_states=None, attentions=None)\n"
     ]
    },
    {
     "name": "stderr",
     "output_type": "stream",
     "text": []
    },
    {
     "name": "stdout",
     "output_type": "stream",
     "text": [
      "output of the model SequenceClassifierOutput(loss=None, logits=tensor([[ 0.0751, -2.0977,  2.3262],\n",
      "        [ 0.0970, -2.1992,  2.3242],\n",
      "        [-0.2864, -0.4021,  0.8101],\n",
      "        ...,\n",
      "        [-1.4873,  0.2695,  2.0723],\n",
      "        [-0.6650, -0.6655,  2.0605],\n",
      "        [-1.2012, -0.2140,  2.1895]], device='cuda:0', dtype=torch.float16), hidden_states=None, attentions=None)\n"
     ]
    },
    {
     "name": "stderr",
     "output_type": "stream",
     "text": []
    },
    {
     "name": "stdout",
     "output_type": "stream",
     "text": [
      "output of the model SequenceClassifierOutput(loss=None, logits=tensor([[-1.2705, -0.6128,  2.5547],\n",
      "        [-0.0665, -0.8677,  0.7949],\n",
      "        [ 1.6230, -2.4414, -0.0754],\n",
      "        ...,\n",
      "        [ 0.5723, -2.3457,  2.0430],\n",
      "        [ 1.8574, -1.5557, -1.5801],\n",
      "        [-0.6021, -1.4229,  2.1582]], device='cuda:0', dtype=torch.float16), hidden_states=None, attentions=None)\n"
     ]
    },
    {
     "name": "stderr",
     "output_type": "stream",
     "text": []
    },
    {
     "name": "stdout",
     "output_type": "stream",
     "text": [
      "output of the model SequenceClassifierOutput(loss=None, logits=tensor([[ 1.5742, -1.1016, -1.4844],\n",
      "        [-0.8872, -0.3679,  2.0449],\n",
      "        [ 0.4514,  0.3210, -1.7061],\n",
      "        ...,\n",
      "        [-0.7637, -0.5327,  2.0195],\n",
      "        [ 1.0586, -0.8877, -0.2913],\n",
      "        [ 1.0000, -2.4199,  1.2695]], device='cuda:0', dtype=torch.float16), hidden_states=None, attentions=None)\n"
     ]
    },
    {
     "name": "stderr",
     "output_type": "stream",
     "text": []
    },
    {
     "name": "stdout",
     "output_type": "stream",
     "text": [
      "output of the model SequenceClassifierOutput(loss=None, logits=tensor([[ 0.1226, -2.1758,  2.2656],\n",
      "        [-0.1742, -2.0059,  2.3145],\n",
      "        [ 1.2236, -2.5762,  0.9287],\n",
      "        ...,\n",
      "        [-1.3643,  0.3442,  2.0664],\n",
      "        [-1.0156, -0.7363,  2.5039],\n",
      "        [-1.0986, -0.9170,  2.5449]], device='cuda:0', dtype=torch.float16), hidden_states=None, attentions=None)\n"
     ]
    },
    {
     "name": "stderr",
     "output_type": "stream",
     "text": []
    },
    {
     "name": "stdout",
     "output_type": "stream",
     "text": [
      "output of the model SequenceClassifierOutput(loss=None, logits=tensor([[-1.2881,  1.6553, -0.0084],\n",
      "        [ 0.6099, -2.5254,  1.8945],\n",
      "        [-1.0654, -0.6938,  2.3672],\n",
      "        ...,\n",
      "        [-1.5986,  1.6904,  0.9971],\n",
      "        [ 0.1632, -0.1412,  0.0269],\n",
      "        [-1.2090,  1.7861, -0.0291]], device='cuda:0', dtype=torch.float16), hidden_states=None, attentions=None)\n"
     ]
    },
    {
     "name": "stderr",
     "output_type": "stream",
     "text": []
    },
    {
     "name": "stdout",
     "output_type": "stream",
     "text": [
      "output of the model SequenceClassifierOutput(loss=None, logits=tensor([[ 2.0078, -1.7764, -1.5059],\n",
      "        [-0.7344,  0.0515,  1.0684],\n",
      "        [-0.6558, -1.1475,  2.2324],\n",
      "        ...,\n",
      "        [ 0.4417, -2.3008,  1.9619],\n",
      "        [-1.4189,  0.1792,  2.0977],\n",
      "        [-0.0321, -1.9375,  2.2812]], device='cuda:0', dtype=torch.float16), hidden_states=None, attentions=None)\n"
     ]
    },
    {
     "name": "stderr",
     "output_type": "stream",
     "text": []
    },
    {
     "name": "stdout",
     "output_type": "stream",
     "text": [
      "output of the model SequenceClassifierOutput(loss=None, logits=tensor([[ 0.5630, -2.5840,  2.0996],\n",
      "        [ 1.3779, -2.6875,  0.8555],\n",
      "        [ 1.3779, -2.6875,  0.8555],\n",
      "        ...,\n",
      "        [-1.7305,  0.9839,  1.7090],\n",
      "        [-1.6357,  2.9141, -0.9468],\n",
      "        [-1.2324,  2.4102, -1.0488]], device='cuda:0', dtype=torch.float16), hidden_states=None, attentions=None)\n"
     ]
    },
    {
     "name": "stderr",
     "output_type": "stream",
     "text": []
    },
    {
     "name": "stdout",
     "output_type": "stream",
     "text": [
      "output of the model SequenceClassifierOutput(loss=None, logits=tensor([[-1.5254,  2.5977, -0.7002],\n",
      "        [-1.1787,  1.4707, -0.1678],\n",
      "        [-0.1460, -1.7715,  2.3125],\n",
      "        ...,\n",
      "        [ 1.8740, -0.9995, -1.8740],\n",
      "        [ 1.8994, -1.5713, -1.5049],\n",
      "        [ 2.0703, -1.6602, -1.6797]], device='cuda:0', dtype=torch.float16), hidden_states=None, attentions=None)\n"
     ]
    },
    {
     "name": "stderr",
     "output_type": "stream",
     "text": []
    },
    {
     "name": "stdout",
     "output_type": "stream",
     "text": [
      "output of the model SequenceClassifierOutput(loss=None, logits=tensor([[ 1.5010, -2.3477,  0.0753],\n",
      "        [ 1.9072, -1.8779, -1.2412],\n",
      "        [ 1.5850, -2.3535, -0.1539],\n",
      "        ...,\n",
      "        [ 1.2393, -0.4077, -1.5645],\n",
      "        [-0.7710,  2.6660, -2.0176],\n",
      "        [ 1.4209, -2.1211,  0.2974]], device='cuda:0', dtype=torch.float16), hidden_states=None, attentions=None)\n"
     ]
    },
    {
     "name": "stderr",
     "output_type": "stream",
     "text": []
    },
    {
     "name": "stdout",
     "output_type": "stream",
     "text": [
      "output of the model SequenceClassifierOutput(loss=None, logits=tensor([[ 1.8369e+00, -1.1465e+00, -1.6973e+00],\n",
      "        [-2.1194e-02, -3.0322e-01, -2.6733e-01],\n",
      "        [-4.9103e-02, -1.1548e-01,  4.7455e-02],\n",
      "        ...,\n",
      "        [-1.6240e+00,  2.4082e+00, -2.6050e-01],\n",
      "        [ 1.8994e+00, -2.5742e+00,  1.0719e-03],\n",
      "        [ 1.3682e+00, -2.6953e+00,  6.3086e-01]], device='cuda:0',\n",
      "       dtype=torch.float16), hidden_states=None, attentions=None)\n"
     ]
    },
    {
     "name": "stderr",
     "output_type": "stream",
     "text": []
    },
    {
     "name": "stdout",
     "output_type": "stream",
     "text": [
      "output of the model SequenceClassifierOutput(loss=None, logits=tensor([[ 1.9453, -2.2695, -0.5005],\n",
      "        [ 1.9473, -2.5781, -0.6709],\n",
      "        [ 0.5869, -2.0020,  1.4375],\n",
      "        ...,\n",
      "        [-1.1572, -0.5464,  2.2207],\n",
      "        [-1.4951,  0.3997,  2.0117],\n",
      "        [-0.6289, -1.2490,  2.5000]], device='cuda:0', dtype=torch.float16), hidden_states=None, attentions=None)\n"
     ]
    },
    {
     "name": "stderr",
     "output_type": "stream",
     "text": []
    },
    {
     "name": "stdout",
     "output_type": "stream",
     "text": [
      "output of the model SequenceClassifierOutput(loss=None, logits=tensor([[-0.8340, -0.9731,  2.4238],\n",
      "        [-0.0690, -1.1465,  1.6494],\n",
      "        [-0.2854, -1.6709,  2.2832],\n",
      "        ...,\n",
      "        [-0.4502, -0.8721,  1.5049],\n",
      "        [-0.7100, -0.4580,  1.4854],\n",
      "        [-1.0332, -0.4302,  1.9570]], device='cuda:0', dtype=torch.float16), hidden_states=None, attentions=None)\n"
     ]
    },
    {
     "name": "stderr",
     "output_type": "stream",
     "text": []
    },
    {
     "name": "stdout",
     "output_type": "stream",
     "text": [
      "output of the model SequenceClassifierOutput(loss=None, logits=tensor([[-1.2686,  1.6533,  0.2917],\n",
      "        [-1.2168, -0.2732,  2.1465],\n",
      "        [-0.1045, -1.4375,  2.0410],\n",
      "        ...,\n",
      "        [-1.8086,  2.2695,  0.5527],\n",
      "        [-0.3865, -1.8838,  2.3984],\n",
      "        [-0.3865, -1.8838,  2.3984]], device='cuda:0', dtype=torch.float16), hidden_states=None, attentions=None)\n"
     ]
    },
    {
     "name": "stderr",
     "output_type": "stream",
     "text": []
    },
    {
     "name": "stdout",
     "output_type": "stream",
     "text": [
      "output of the model SequenceClassifierOutput(loss=None, logits=tensor([[-1.4121,  1.3125,  1.0303],\n",
      "        [-0.6753, -1.0645,  2.4434],\n",
      "        [ 1.5742, -1.9561, -0.6602],\n",
      "        ...,\n",
      "        [-1.4678,  0.3645,  2.0117],\n",
      "        [-0.8086, -0.9282,  2.3203],\n",
      "        [-0.3672, -0.7939,  0.8833]], device='cuda:0', dtype=torch.float16), hidden_states=None, attentions=None)\n"
     ]
    },
    {
     "name": "stderr",
     "output_type": "stream",
     "text": []
    },
    {
     "name": "stdout",
     "output_type": "stream",
     "text": [
      "output of the model SequenceClassifierOutput(loss=None, logits=tensor([[ 0.1162, -1.9414,  2.1016],\n",
      "        [ 1.5195, -2.7441,  0.7148],\n",
      "        [-0.6724, -0.0989,  1.2256],\n",
      "        ...,\n",
      "        [-1.0781, -0.6162,  2.3418],\n",
      "        [ 1.4395, -2.3750,  0.4915],\n",
      "        [-0.9004, -0.7534,  1.9004]], device='cuda:0', dtype=torch.float16), hidden_states=None, attentions=None)\n"
     ]
    },
    {
     "name": "stderr",
     "output_type": "stream",
     "text": []
    },
    {
     "name": "stdout",
     "output_type": "stream",
     "text": [
      "output of the model SequenceClassifierOutput(loss=None, logits=tensor([[ 0.7222, -2.3320,  1.7197],\n",
      "        [-0.8013, -0.3958,  1.7363],\n",
      "        [-0.6040, -0.9072,  2.1855],\n",
      "        ...,\n",
      "        [-0.4285,  0.6016,  0.4780],\n",
      "        [ 1.4961, -0.7183, -1.7207],\n",
      "        [-0.1294, -1.5830,  2.1992]], device='cuda:0', dtype=torch.float16), hidden_states=None, attentions=None)\n"
     ]
    },
    {
     "name": "stderr",
     "output_type": "stream",
     "text": [
      "Processing batches (chunk 4): 100%|██████████| 98/98 [00:35<00:00,  2.77it/s]\n",
      "Processing chunks:   3%|▎         | 4/131 [02:21<1:14:53, 35.38s/it]"
     ]
    },
    {
     "name": "stdout",
     "output_type": "stream",
     "text": [
      "output of the model SequenceClassifierOutput(loss=None, logits=tensor([[ 1.5186, -1.6250, -1.1182],\n",
      "        [-1.0830, -0.8145,  2.4805],\n",
      "        [-1.3008, -0.3538,  2.5234],\n",
      "        ...,\n",
      "        [ 1.7783, -2.7891,  0.3054],\n",
      "        [-0.6333, -1.1113,  2.2441],\n",
      "        [ 0.3628, -2.4102,  1.9834]], device='cuda:0', dtype=torch.float16), hidden_states=None, attentions=None)\n"
     ]
    },
    {
     "name": "stderr",
     "output_type": "stream",
     "text": []
    },
    {
     "name": "stdout",
     "output_type": "stream",
     "text": [
      "output of the model SequenceClassifierOutput(loss=None, logits=tensor([[-0.0410,  0.0480, -0.3191],\n",
      "        [-1.4209,  0.1241,  2.1602],\n",
      "        [ 1.9658, -2.8008, -0.2299],\n",
      "        ...,\n",
      "        [ 0.9575, -2.3008,  1.0830],\n",
      "        [ 1.7930, -2.7500,  0.5371],\n",
      "        [ 1.0938, -2.5840,  1.4883]], device='cuda:0', dtype=torch.float16), hidden_states=None, attentions=None)\n"
     ]
    },
    {
     "name": "stderr",
     "output_type": "stream",
     "text": []
    },
    {
     "name": "stdout",
     "output_type": "stream",
     "text": [
      "output of the model SequenceClassifierOutput(loss=None, logits=tensor([[ 1.0938, -2.5840,  1.4883],\n",
      "        [ 1.9873, -1.8154, -1.3623],\n",
      "        [ 1.9307, -2.4473, -0.6895],\n",
      "        ...,\n",
      "        [-1.6025,  1.1455,  1.2529],\n",
      "        [-0.4316, -1.6660,  2.4590],\n",
      "        [-0.8335, -1.0615,  2.5000]], device='cuda:0', dtype=torch.float16), hidden_states=None, attentions=None)\n"
     ]
    },
    {
     "name": "stderr",
     "output_type": "stream",
     "text": []
    },
    {
     "name": "stdout",
     "output_type": "stream",
     "text": [
      "output of the model SequenceClassifierOutput(loss=None, logits=tensor([[-0.8291, -1.2969,  2.4102],\n",
      "        [ 0.8672, -1.2900,  0.2832],\n",
      "        [ 1.7266, -2.7461,  0.6299],\n",
      "        ...,\n",
      "        [-1.2100,  0.9707,  1.0059],\n",
      "        [ 1.2334, -1.7432, -0.0460],\n",
      "        [ 1.1885, -1.8457,  0.1553]], device='cuda:0', dtype=torch.float16), hidden_states=None, attentions=None)\n"
     ]
    },
    {
     "name": "stderr",
     "output_type": "stream",
     "text": []
    },
    {
     "name": "stdout",
     "output_type": "stream",
     "text": [
      "output of the model SequenceClassifierOutput(loss=None, logits=tensor([[-0.9106, -0.9194,  2.4375],\n",
      "        [-0.1332, -2.0918,  2.3750],\n",
      "        [ 0.3867, -2.0410,  1.7363],\n",
      "        ...,\n",
      "        [-0.7764,  1.1943, -0.4946],\n",
      "        [ 0.4846, -1.0479,  0.2003],\n",
      "        [-0.2355, -1.6553,  2.2207]], device='cuda:0', dtype=torch.float16), hidden_states=None, attentions=None)\n"
     ]
    },
    {
     "name": "stderr",
     "output_type": "stream",
     "text": []
    },
    {
     "name": "stdout",
     "output_type": "stream",
     "text": [
      "output of the model SequenceClassifierOutput(loss=None, logits=tensor([[-0.6831, -0.2852,  1.7666],\n",
      "        [ 1.1104, -2.1680,  1.1211],\n",
      "        [-1.1426,  1.5654, -0.4451],\n",
      "        ...,\n",
      "        [ 0.9595, -1.7969,  0.4460],\n",
      "        [ 0.8696, -0.7896, -1.3711],\n",
      "        [ 0.2642,  0.1727, -0.9429]], device='cuda:0', dtype=torch.float16), hidden_states=None, attentions=None)\n"
     ]
    },
    {
     "name": "stderr",
     "output_type": "stream",
     "text": []
    },
    {
     "name": "stdout",
     "output_type": "stream",
     "text": [
      "output of the model SequenceClassifierOutput(loss=None, logits=tensor([[-1.4971,  0.2803,  2.0859],\n",
      "        [ 0.5938, -2.4688,  1.8164],\n",
      "        [ 1.3496, -1.9033, -0.0195],\n",
      "        ...,\n",
      "        [ 0.4558, -2.1719,  2.0488],\n",
      "        [-0.9790,  0.8076,  0.9204],\n",
      "        [-0.7866,  0.5513,  0.9707]], device='cuda:0', dtype=torch.float16), hidden_states=None, attentions=None)\n"
     ]
    },
    {
     "name": "stderr",
     "output_type": "stream",
     "text": []
    },
    {
     "name": "stdout",
     "output_type": "stream",
     "text": [
      "output of the model SequenceClassifierOutput(loss=None, logits=tensor([[ 1.4219, -1.8965, -0.0928],\n",
      "        [-0.1106, -2.1094,  2.4688],\n",
      "        [-0.8638,  1.7520, -0.9995],\n",
      "        ...,\n",
      "        [ 1.8027, -2.0625, -0.7534],\n",
      "        [-0.7729, -1.4697,  2.5840],\n",
      "        [ 1.5898, -1.9688, -0.7163]], device='cuda:0', dtype=torch.float16), hidden_states=None, attentions=None)\n"
     ]
    },
    {
     "name": "stderr",
     "output_type": "stream",
     "text": []
    },
    {
     "name": "stdout",
     "output_type": "stream",
     "text": [
      "output of the model SequenceClassifierOutput(loss=None, logits=tensor([[ 1.8906, -1.3623, -1.6465],\n",
      "        [ 0.2241, -2.0898,  1.9844],\n",
      "        [-0.7988, -1.3330,  2.5586],\n",
      "        ...,\n",
      "        [-0.2292, -1.1846,  1.8369],\n",
      "        [ 2.0195, -1.4365, -1.7559],\n",
      "        [-0.3491, -1.0156,  1.6816]], device='cuda:0', dtype=torch.float16), hidden_states=None, attentions=None)\n"
     ]
    },
    {
     "name": "stderr",
     "output_type": "stream",
     "text": []
    },
    {
     "name": "stdout",
     "output_type": "stream",
     "text": [
      "output of the model SequenceClassifierOutput(loss=None, logits=tensor([[-1.1699,  0.7241,  1.0000],\n",
      "        [-0.7603, -0.5244,  1.9492],\n",
      "        [-1.4316,  2.7930, -1.2334],\n",
      "        ...,\n",
      "        [ 1.5273, -1.1123, -1.3975],\n",
      "        [ 0.8506, -2.3945,  1.3379],\n",
      "        [-0.2549, -1.3701,  1.8848]], device='cuda:0', dtype=torch.float16), hidden_states=None, attentions=None)\n"
     ]
    },
    {
     "name": "stderr",
     "output_type": "stream",
     "text": []
    },
    {
     "name": "stdout",
     "output_type": "stream",
     "text": [
      "output of the model SequenceClassifierOutput(loss=None, logits=tensor([[ 0.9858, -0.8633, -1.0938],\n",
      "        [ 1.7021, -2.7949,  0.2639],\n",
      "        [ 1.2686, -0.5771, -1.7666],\n",
      "        ...,\n",
      "        [ 0.3440, -1.5947,  1.7109],\n",
      "        [ 1.9600, -1.5938, -1.4102],\n",
      "        [-0.4968,  0.2629,  0.2979]], device='cuda:0', dtype=torch.float16), hidden_states=None, attentions=None)\n"
     ]
    },
    {
     "name": "stderr",
     "output_type": "stream",
     "text": []
    },
    {
     "name": "stdout",
     "output_type": "stream",
     "text": [
      "output of the model SequenceClassifierOutput(loss=None, logits=tensor([[-0.7964, -0.4797,  2.0410],\n",
      "        [-0.7959, -0.5117,  2.0566],\n",
      "        [-0.2500,  1.6348, -1.7910],\n",
      "        ...,\n",
      "        [-0.3816,  1.0049, -0.4929],\n",
      "        [-1.0342,  0.7090,  1.0957],\n",
      "        [-0.9780,  0.1818,  1.3232]], device='cuda:0', dtype=torch.float16), hidden_states=None, attentions=None)\n"
     ]
    },
    {
     "name": "stderr",
     "output_type": "stream",
     "text": []
    },
    {
     "name": "stdout",
     "output_type": "stream",
     "text": [
      "output of the model SequenceClassifierOutput(loss=None, logits=tensor([[ 0.3381, -2.4004,  2.2383],\n",
      "        [ 1.7393, -2.3965,  0.0162],\n",
      "        [ 0.0439, -1.1777,  0.7217],\n",
      "        ...,\n",
      "        [-1.3389,  2.5391, -0.9302],\n",
      "        [-1.7383,  2.5078, -0.3296],\n",
      "        [-0.3186,  0.2942,  0.5977]], device='cuda:0', dtype=torch.float16), hidden_states=None, attentions=None)\n"
     ]
    },
    {
     "name": "stderr",
     "output_type": "stream",
     "text": []
    },
    {
     "name": "stdout",
     "output_type": "stream",
     "text": [
      "output of the model SequenceClassifierOutput(loss=None, logits=tensor([[-1.2881,  2.1973, -0.4055],\n",
      "        [-0.7021,  1.5107, -1.1309],\n",
      "        [-0.3123, -1.2764,  1.9062],\n",
      "        ...,\n",
      "        [-1.1611,  1.2773,  0.0048],\n",
      "        [-1.1865,  0.2571,  1.9473],\n",
      "        [-1.6699,  1.4531,  1.1680]], device='cuda:0', dtype=torch.float16), hidden_states=None, attentions=None)\n"
     ]
    },
    {
     "name": "stderr",
     "output_type": "stream",
     "text": []
    },
    {
     "name": "stdout",
     "output_type": "stream",
     "text": [
      "output of the model SequenceClassifierOutput(loss=None, logits=tensor([[ 1.8086, -2.2734, -0.6860],\n",
      "        [-1.3320, -0.3345,  2.4922],\n",
      "        [-1.2949, -0.5552,  2.5566],\n",
      "        ...,\n",
      "        [ 0.5757, -0.8140, -0.2539],\n",
      "        [ 1.9082, -1.9258, -1.2363],\n",
      "        [ 0.1854, -1.7520,  1.7236]], device='cuda:0', dtype=torch.float16), hidden_states=None, attentions=None)\n"
     ]
    },
    {
     "name": "stderr",
     "output_type": "stream",
     "text": []
    },
    {
     "name": "stdout",
     "output_type": "stream",
     "text": [
      "output of the model SequenceClassifierOutput(loss=None, logits=tensor([[-1.1133,  2.1094, -0.9854],\n",
      "        [-0.7104,  0.8057, -0.0551],\n",
      "        [-0.2712,  0.5972, -0.8848],\n",
      "        ...,\n",
      "        [-1.4561,  2.0352, -0.3105],\n",
      "        [-0.7427,  0.8135, -0.2089],\n",
      "        [ 2.0273, -2.4707, -0.9175]], device='cuda:0', dtype=torch.float16), hidden_states=None, attentions=None)\n"
     ]
    },
    {
     "name": "stderr",
     "output_type": "stream",
     "text": []
    },
    {
     "name": "stdout",
     "output_type": "stream",
     "text": [
      "output of the model SequenceClassifierOutput(loss=None, logits=tensor([[-0.2676, -1.7637,  2.4453],\n",
      "        [ 0.5923, -0.3779, -1.0430],\n",
      "        [ 1.7295, -1.3301, -1.6289],\n",
      "        ...,\n",
      "        [ 0.9194, -0.6392, -1.2168],\n",
      "        [-1.0498, -0.5776,  2.4355],\n",
      "        [ 1.4932, -2.2324,  0.0492]], device='cuda:0', dtype=torch.float16), hidden_states=None, attentions=None)\n"
     ]
    },
    {
     "name": "stderr",
     "output_type": "stream",
     "text": []
    },
    {
     "name": "stdout",
     "output_type": "stream",
     "text": [
      "output of the model SequenceClassifierOutput(loss=None, logits=tensor([[-1.5674,  0.9932,  1.3975],\n",
      "        [-1.6777,  2.2461,  0.1869],\n",
      "        [-1.4121,  1.3125,  1.0303],\n",
      "        ...,\n",
      "        [ 0.0161, -0.5591,  1.3428],\n",
      "        [-1.7939,  2.8730, -0.7310],\n",
      "        [-1.4180,  0.3535,  2.0859]], device='cuda:0', dtype=torch.float16), hidden_states=None, attentions=None)\n"
     ]
    },
    {
     "name": "stderr",
     "output_type": "stream",
     "text": []
    },
    {
     "name": "stdout",
     "output_type": "stream",
     "text": [
      "output of the model SequenceClassifierOutput(loss=None, logits=tensor([[-0.2415, -1.1553,  2.0020],\n",
      "        [ 0.0640, -2.1934,  2.2793],\n",
      "        [-1.3379,  2.5645, -1.0352],\n",
      "        ...,\n",
      "        [ 0.7505, -0.7944, -0.8672],\n",
      "        [-1.2070, -0.4465,  2.1504],\n",
      "        [-1.4590,  0.2085,  2.0957]], device='cuda:0', dtype=torch.float16), hidden_states=None, attentions=None)\n"
     ]
    },
    {
     "name": "stderr",
     "output_type": "stream",
     "text": []
    },
    {
     "name": "stdout",
     "output_type": "stream",
     "text": [
      "output of the model SequenceClassifierOutput(loss=None, logits=tensor([[-0.6611, -1.2549,  2.5508],\n",
      "        [ 0.0278, -1.8506,  2.0430],\n",
      "        [ 1.3799, -2.3320,  0.2610],\n",
      "        ...,\n",
      "        [-0.2847, -1.9775,  2.3926],\n",
      "        [-0.9600, -1.1006,  2.5566],\n",
      "        [-0.1818,  0.4678, -1.0635]], device='cuda:0', dtype=torch.float16), hidden_states=None, attentions=None)\n"
     ]
    },
    {
     "name": "stderr",
     "output_type": "stream",
     "text": []
    },
    {
     "name": "stdout",
     "output_type": "stream",
     "text": [
      "output of the model SequenceClassifierOutput(loss=None, logits=tensor([[ 0.1552, -2.3379,  2.3086],\n",
      "        [-0.2236, -1.9404,  2.3164],\n",
      "        [-0.5264, -1.4424,  2.3770],\n",
      "        ...,\n",
      "        [-0.5967, -0.7651,  1.6113],\n",
      "        [-0.4089, -1.7744,  2.5020],\n",
      "        [-1.8232,  2.4473,  0.1490]], device='cuda:0', dtype=torch.float16), hidden_states=None, attentions=None)\n"
     ]
    },
    {
     "name": "stderr",
     "output_type": "stream",
     "text": []
    },
    {
     "name": "stdout",
     "output_type": "stream",
     "text": [
      "output of the model SequenceClassifierOutput(loss=None, logits=tensor([[-0.0643, -2.0879,  2.3828],\n",
      "        [ 0.2408, -1.8721,  1.8984],\n",
      "        [ 0.9653, -2.2148,  0.7808],\n",
      "        ...,\n",
      "        [ 0.6338, -2.3828,  1.8213],\n",
      "        [ 0.1967, -2.2012,  2.1348],\n",
      "        [ 0.2211, -2.3086,  2.3008]], device='cuda:0', dtype=torch.float16), hidden_states=None, attentions=None)\n"
     ]
    },
    {
     "name": "stderr",
     "output_type": "stream",
     "text": []
    },
    {
     "name": "stdout",
     "output_type": "stream",
     "text": [
      "output of the model SequenceClassifierOutput(loss=None, logits=tensor([[-0.4368, -1.6104,  2.5371],\n",
      "        [ 1.6543, -2.1992, -0.2935],\n",
      "        [ 1.7012, -2.4883, -0.1918],\n",
      "        ...,\n",
      "        [-1.6191,  1.2881,  1.3389],\n",
      "        [ 1.3037, -2.4453,  0.1681],\n",
      "        [-1.2500,  2.7578, -1.6221]], device='cuda:0', dtype=torch.float16), hidden_states=None, attentions=None)\n"
     ]
    },
    {
     "name": "stderr",
     "output_type": "stream",
     "text": []
    },
    {
     "name": "stdout",
     "output_type": "stream",
     "text": [
      "output of the model SequenceClassifierOutput(loss=None, logits=tensor([[ 0.1777, -1.6592,  1.8633],\n",
      "        [-1.6494,  2.6973, -0.7148],\n",
      "        [-1.5459,  2.7207, -0.8550],\n",
      "        ...,\n",
      "        [-1.4502,  1.5156,  0.9141],\n",
      "        [ 0.2375,  0.1636, -1.4932],\n",
      "        [-0.4780, -1.5967,  2.4844]], device='cuda:0', dtype=torch.float16), hidden_states=None, attentions=None)\n"
     ]
    },
    {
     "name": "stderr",
     "output_type": "stream",
     "text": []
    },
    {
     "name": "stdout",
     "output_type": "stream",
     "text": [
      "output of the model SequenceClassifierOutput(loss=None, logits=tensor([[-1.6836,  2.1055,  0.5796],\n",
      "        [ 1.3906, -2.8145,  1.2217],\n",
      "        [ 0.1072, -0.5273,  0.2603],\n",
      "        ...,\n",
      "        [-0.8208, -0.9707,  2.5000],\n",
      "        [-1.0928, -0.9180,  2.5059],\n",
      "        [-0.2605, -1.1963,  2.1445]], device='cuda:0', dtype=torch.float16), hidden_states=None, attentions=None)\n"
     ]
    },
    {
     "name": "stderr",
     "output_type": "stream",
     "text": []
    },
    {
     "name": "stdout",
     "output_type": "stream",
     "text": [
      "output of the model SequenceClassifierOutput(loss=None, logits=tensor([[-0.4441, -1.6416,  2.4688],\n",
      "        [-0.5894, -1.1553,  2.2109],\n",
      "        [-1.6250,  1.0771,  1.6562],\n",
      "        ...,\n",
      "        [-0.0316, -2.2109,  2.3242],\n",
      "        [-1.0361, -0.7046,  2.4238],\n",
      "        [ 0.7705, -2.4395,  1.6250]], device='cuda:0', dtype=torch.float16), hidden_states=None, attentions=None)\n"
     ]
    },
    {
     "name": "stderr",
     "output_type": "stream",
     "text": []
    },
    {
     "name": "stdout",
     "output_type": "stream",
     "text": [
      "output of the model SequenceClassifierOutput(loss=None, logits=tensor([[ 0.6162, -2.5234,  2.0332],\n",
      "        [-0.9253, -1.0010,  2.4727],\n",
      "        [-0.2976,  0.2788, -0.4631],\n",
      "        ...,\n",
      "        [-0.8467, -0.5430,  2.1777],\n",
      "        [-0.1285,  1.2832, -1.8223],\n",
      "        [-1.2773, -0.4758,  2.5234]], device='cuda:0', dtype=torch.float16), hidden_states=None, attentions=None)\n"
     ]
    },
    {
     "name": "stderr",
     "output_type": "stream",
     "text": []
    },
    {
     "name": "stdout",
     "output_type": "stream",
     "text": [
      "output of the model SequenceClassifierOutput(loss=None, logits=tensor([[ 1.5000, -2.8633,  0.9624],\n",
      "        [ 0.7856, -2.3516,  1.5137],\n",
      "        [ 1.1670, -2.6270,  1.4277],\n",
      "        ...,\n",
      "        [ 0.2198, -2.1133,  2.0117],\n",
      "        [-1.1855, -0.5400,  2.5137],\n",
      "        [ 0.0915, -1.0537,  1.1621]], device='cuda:0', dtype=torch.float16), hidden_states=None, attentions=None)\n"
     ]
    },
    {
     "name": "stderr",
     "output_type": "stream",
     "text": []
    },
    {
     "name": "stdout",
     "output_type": "stream",
     "text": [
      "output of the model SequenceClassifierOutput(loss=None, logits=tensor([[ 1.1143, -1.3184, -0.2568],\n",
      "        [-0.9282, -1.1094,  2.6191],\n",
      "        [-0.9839, -0.8735,  2.4492],\n",
      "        ...,\n",
      "        [-0.0068, -0.9526,  1.2002],\n",
      "        [ 0.1390, -1.1338,  1.1396],\n",
      "        [ 1.3350, -2.2832,  0.1986]], device='cuda:0', dtype=torch.float16), hidden_states=None, attentions=None)\n"
     ]
    },
    {
     "name": "stderr",
     "output_type": "stream",
     "text": []
    },
    {
     "name": "stdout",
     "output_type": "stream",
     "text": [
      "output of the model SequenceClassifierOutput(loss=None, logits=tensor([[ 1.2451, -2.2227,  0.2649],\n",
      "        [ 1.0225, -1.9961,  0.1902],\n",
      "        [-0.3867,  1.5254, -1.5537],\n",
      "        ...,\n",
      "        [-1.6318,  2.9219, -0.9917],\n",
      "        [-1.8408,  2.6191, -0.1775],\n",
      "        [-0.4626,  1.4971, -1.5625]], device='cuda:0', dtype=torch.float16), hidden_states=None, attentions=None)\n"
     ]
    },
    {
     "name": "stderr",
     "output_type": "stream",
     "text": []
    },
    {
     "name": "stdout",
     "output_type": "stream",
     "text": [
      "output of the model SequenceClassifierOutput(loss=None, logits=tensor([[-1.6377,  2.8711, -1.0195],\n",
      "        [ 1.9961, -1.5049, -1.7031],\n",
      "        [-0.8218,  2.6016, -1.9766],\n",
      "        ...,\n",
      "        [-1.1982,  0.6343,  1.2314],\n",
      "        [-0.6323, -0.4136,  1.5547],\n",
      "        [-1.7979,  3.0254, -0.9263]], device='cuda:0', dtype=torch.float16), hidden_states=None, attentions=None)\n"
     ]
    },
    {
     "name": "stderr",
     "output_type": "stream",
     "text": []
    },
    {
     "name": "stdout",
     "output_type": "stream",
     "text": [
      "output of the model SequenceClassifierOutput(loss=None, logits=tensor([[ 6.0596e-01,  6.0742e-01, -2.0410e+00],\n",
      "        [-1.4180e+00, -4.5061e-04,  2.3066e+00],\n",
      "        [ 1.6846e+00, -2.7910e+00,  6.7969e-01],\n",
      "        ...,\n",
      "        [-1.8232e+00,  2.8301e+00, -5.6592e-01],\n",
      "        [ 2.7759e-01,  9.0039e-01, -1.9023e+00],\n",
      "        [-1.2646e+00, -5.3760e-01,  2.5625e+00]], device='cuda:0',\n",
      "       dtype=torch.float16), hidden_states=None, attentions=None)\n"
     ]
    },
    {
     "name": "stderr",
     "output_type": "stream",
     "text": []
    },
    {
     "name": "stdout",
     "output_type": "stream",
     "text": [
      "output of the model SequenceClassifierOutput(loss=None, logits=tensor([[ 0.0701, -2.3184,  2.3008],\n",
      "        [ 0.2205, -1.0811,  0.5244],\n",
      "        [ 1.8877, -1.8311, -1.3301],\n",
      "        ...,\n",
      "        [-0.3289, -1.5254,  2.0781],\n",
      "        [-0.9546, -0.6494,  2.3047],\n",
      "        [-0.2422, -1.6738,  2.0859]], device='cuda:0', dtype=torch.float16), hidden_states=None, attentions=None)\n"
     ]
    },
    {
     "name": "stderr",
     "output_type": "stream",
     "text": []
    },
    {
     "name": "stdout",
     "output_type": "stream",
     "text": [
      "output of the model SequenceClassifierOutput(loss=None, logits=tensor([[-0.7842, -1.0215,  2.3262],\n",
      "        [-0.3171, -1.5947,  2.1328],\n",
      "        [-1.0508, -0.4968,  2.2324],\n",
      "        ...,\n",
      "        [ 1.9639, -1.4756, -1.6592],\n",
      "        [-0.8467, -0.5430,  2.1777],\n",
      "        [-1.7021,  3.0059, -1.1045]], device='cuda:0', dtype=torch.float16), hidden_states=None, attentions=None)\n"
     ]
    },
    {
     "name": "stderr",
     "output_type": "stream",
     "text": []
    },
    {
     "name": "stdout",
     "output_type": "stream",
     "text": [
      "output of the model SequenceClassifierOutput(loss=None, logits=tensor([[-1.4717,  0.2578,  2.0625],\n",
      "        [-1.6846,  2.3848, -0.1248],\n",
      "        [-0.9209, -1.1699,  2.6426],\n",
      "        ...,\n",
      "        [ 1.8447, -1.2637, -1.6816],\n",
      "        [ 1.9121, -1.2559, -1.6582],\n",
      "        [-1.7705,  3.0176, -0.9351]], device='cuda:0', dtype=torch.float16), hidden_states=None, attentions=None)\n"
     ]
    },
    {
     "name": "stderr",
     "output_type": "stream",
     "text": []
    },
    {
     "name": "stdout",
     "output_type": "stream",
     "text": [
      "output of the model SequenceClassifierOutput(loss=None, logits=tensor([[-1.6904,  3.0078, -1.0068],\n",
      "        [-0.3772, -0.3833,  0.5518],\n",
      "        [-1.7451,  3.0176, -0.9751],\n",
      "        ...,\n",
      "        [-1.0498, -0.3313,  1.6699],\n",
      "        [-0.7168,  0.0703,  1.0449],\n",
      "        [ 1.0615, -0.8804, -1.2207]], device='cuda:0', dtype=torch.float16), hidden_states=None, attentions=None)\n"
     ]
    },
    {
     "name": "stderr",
     "output_type": "stream",
     "text": []
    },
    {
     "name": "stdout",
     "output_type": "stream",
     "text": [
      "output of the model SequenceClassifierOutput(loss=None, logits=tensor([[-1.1113, -0.5513,  2.1992],\n",
      "        [-1.9209,  2.9902, -0.6431],\n",
      "        [ 1.8408, -1.5166, -1.3223],\n",
      "        ...,\n",
      "        [-0.7832,  0.4187,  0.6143],\n",
      "        [-0.3201, -1.6650,  2.3730],\n",
      "        [ 1.4580, -1.4102, -1.3008]], device='cuda:0', dtype=torch.float16), hidden_states=None, attentions=None)\n"
     ]
    },
    {
     "name": "stderr",
     "output_type": "stream",
     "text": []
    },
    {
     "name": "stdout",
     "output_type": "stream",
     "text": [
      "output of the model SequenceClassifierOutput(loss=None, logits=tensor([[ 0.5029, -2.4512,  2.0742],\n",
      "        [ 0.1715, -0.3362, -0.6211],\n",
      "        [ 0.2769, -0.0091, -1.3105],\n",
      "        ...,\n",
      "        [-0.8848, -0.2771,  1.6953],\n",
      "        [-0.0972, -1.7637,  2.0273],\n",
      "        [-0.6831, -0.2852,  1.7666]], device='cuda:0', dtype=torch.float16), hidden_states=None, attentions=None)\n"
     ]
    },
    {
     "name": "stderr",
     "output_type": "stream",
     "text": []
    },
    {
     "name": "stdout",
     "output_type": "stream",
     "text": [
      "output of the model SequenceClassifierOutput(loss=None, logits=tensor([[ 1.4316, -2.2129,  0.3389],\n",
      "        [-0.8467, -0.5430,  2.1777],\n",
      "        [-1.5996,  2.9941, -1.1787],\n",
      "        ...,\n",
      "        [-0.0923, -1.7979,  2.0352],\n",
      "        [-0.0329, -2.1602,  2.2852],\n",
      "        [ 1.1738, -2.5371,  0.5796]], device='cuda:0', dtype=torch.float16), hidden_states=None, attentions=None)\n"
     ]
    },
    {
     "name": "stderr",
     "output_type": "stream",
     "text": []
    },
    {
     "name": "stdout",
     "output_type": "stream",
     "text": [
      "output of the model SequenceClassifierOutput(loss=None, logits=tensor([[-1.3467,  2.0625,  0.0854],\n",
      "        [ 0.3552, -0.5078,  0.3948],\n",
      "        [-0.5479, -1.6553,  2.3906],\n",
      "        ...,\n",
      "        [-1.4453, -0.1157,  2.4414],\n",
      "        [ 0.1157, -1.6992,  2.2129],\n",
      "        [ 1.2979, -1.9678,  0.3643]], device='cuda:0', dtype=torch.float16), hidden_states=None, attentions=None)\n"
     ]
    },
    {
     "name": "stderr",
     "output_type": "stream",
     "text": []
    },
    {
     "name": "stdout",
     "output_type": "stream",
     "text": [
      "output of the model SequenceClassifierOutput(loss=None, logits=tensor([[ 1.2979, -1.9678,  0.3643],\n",
      "        [ 0.0911, -1.7910,  2.1211],\n",
      "        [ 0.9023, -2.4082,  1.3789],\n",
      "        ...,\n",
      "        [ 0.1581, -0.1159, -0.8438],\n",
      "        [-1.4580,  0.2369,  2.0742],\n",
      "        [ 0.4241, -1.7783,  1.5225]], device='cuda:0', dtype=torch.float16), hidden_states=None, attentions=None)\n"
     ]
    },
    {
     "name": "stderr",
     "output_type": "stream",
     "text": []
    },
    {
     "name": "stdout",
     "output_type": "stream",
     "text": [
      "output of the model SequenceClassifierOutput(loss=None, logits=tensor([[-1.1494, -0.6821,  2.5840],\n",
      "        [ 1.6230, -2.0625, -0.6826],\n",
      "        [ 0.5972, -0.8354, -0.8604],\n",
      "        ...,\n",
      "        [-1.6396,  1.3008,  1.2617],\n",
      "        [ 1.4492, -2.0859, -0.2571],\n",
      "        [ 0.1642, -1.1592,  1.1045]], device='cuda:0', dtype=torch.float16), hidden_states=None, attentions=None)\n"
     ]
    },
    {
     "name": "stderr",
     "output_type": "stream",
     "text": []
    },
    {
     "name": "stdout",
     "output_type": "stream",
     "text": [
      "output of the model SequenceClassifierOutput(loss=None, logits=tensor([[ 0.1390, -1.1338,  1.1396],\n",
      "        [ 0.1642, -1.1592,  1.1045],\n",
      "        [-0.0039, -0.9385,  1.2070],\n",
      "        ...,\n",
      "        [-0.2480, -1.6123,  2.1934],\n",
      "        [ 0.5645, -1.3906,  0.8667],\n",
      "        [-1.5928,  0.6343,  1.9072]], device='cuda:0', dtype=torch.float16), hidden_states=None, attentions=None)\n"
     ]
    },
    {
     "name": "stderr",
     "output_type": "stream",
     "text": []
    },
    {
     "name": "stdout",
     "output_type": "stream",
     "text": [
      "output of the model SequenceClassifierOutput(loss=None, logits=tensor([[-1.6455,  2.2598,  0.0404],\n",
      "        [-1.7266,  2.6875, -0.5059],\n",
      "        [-1.0303, -0.1647,  1.9121],\n",
      "        ...,\n",
      "        [-1.4482,  2.2266,  0.1586],\n",
      "        [-1.0010, -0.2262,  1.7734],\n",
      "        [-0.3323, -1.3447,  1.8291]], device='cuda:0', dtype=torch.float16), hidden_states=None, attentions=None)\n"
     ]
    },
    {
     "name": "stderr",
     "output_type": "stream",
     "text": []
    },
    {
     "name": "stdout",
     "output_type": "stream",
     "text": [
      "output of the model SequenceClassifierOutput(loss=None, logits=tensor([[-0.4280,  1.1719, -1.0801],\n",
      "        [ 0.0976, -2.1309,  2.2695],\n",
      "        [ 0.0230, -0.0755,  0.2115],\n",
      "        ...,\n",
      "        [ 0.5239, -1.5098,  1.1299],\n",
      "        [-1.3389,  0.7837,  1.4570],\n",
      "        [ 0.8574, -1.6104,  0.5420]], device='cuda:0', dtype=torch.float16), hidden_states=None, attentions=None)\n"
     ]
    },
    {
     "name": "stderr",
     "output_type": "stream",
     "text": []
    },
    {
     "name": "stdout",
     "output_type": "stream",
     "text": [
      "output of the model SequenceClassifierOutput(loss=None, logits=tensor([[-1.7910,  2.8789, -0.6113],\n",
      "        [-0.8467, -0.5430,  2.1777],\n",
      "        [ 1.0586, -0.8877, -0.2913],\n",
      "        ...,\n",
      "        [ 1.3271, -0.3347, -1.6631],\n",
      "        [-1.7158,  2.9062, -0.8325],\n",
      "        [-0.0068, -0.9526,  1.2002]], device='cuda:0', dtype=torch.float16), hidden_states=None, attentions=None)\n"
     ]
    },
    {
     "name": "stderr",
     "output_type": "stream",
     "text": []
    },
    {
     "name": "stdout",
     "output_type": "stream",
     "text": [
      "output of the model SequenceClassifierOutput(loss=None, logits=tensor([[ 1.7920, -1.7734, -1.2578],\n",
      "        [-1.9062,  2.9961, -0.6235],\n",
      "        [-0.2961, -1.8291,  2.4941],\n",
      "        ...,\n",
      "        [ 0.5742,  0.4685, -1.6758],\n",
      "        [-1.5430,  2.7559, -0.8989],\n",
      "        [ 1.9326, -1.5176, -1.5469]], device='cuda:0', dtype=torch.float16), hidden_states=None, attentions=None)\n"
     ]
    },
    {
     "name": "stderr",
     "output_type": "stream",
     "text": []
    },
    {
     "name": "stdout",
     "output_type": "stream",
     "text": [
      "output of the model SequenceClassifierOutput(loss=None, logits=tensor([[ 1.8018, -1.4922, -1.4121],\n",
      "        [ 1.6465, -1.4199, -1.2500],\n",
      "        [-1.8545,  2.9629, -0.7124],\n",
      "        ...,\n",
      "        [-0.7188, -0.6924,  2.2832],\n",
      "        [ 0.1803,  0.2832, -0.4575],\n",
      "        [-0.5430, -1.4951,  2.4180]], device='cuda:0', dtype=torch.float16), hidden_states=None, attentions=None)\n"
     ]
    },
    {
     "name": "stderr",
     "output_type": "stream",
     "text": []
    },
    {
     "name": "stdout",
     "output_type": "stream",
     "text": [
      "output of the model SequenceClassifierOutput(loss=None, logits=tensor([[-0.4766, -0.4895,  1.5039],\n",
      "        [-0.6650, -1.2930,  2.5137],\n",
      "        [-0.7397, -0.8774,  2.2012],\n",
      "        ...,\n",
      "        [ 0.4858, -1.6826,  1.2998],\n",
      "        [-0.6484, -1.1279,  2.3789],\n",
      "        [-1.2930,  1.6553,  0.7358]], device='cuda:0', dtype=torch.float16), hidden_states=None, attentions=None)\n"
     ]
    },
    {
     "name": "stderr",
     "output_type": "stream",
     "text": []
    },
    {
     "name": "stdout",
     "output_type": "stream",
     "text": [
      "output of the model SequenceClassifierOutput(loss=None, logits=tensor([[-1.6230,  2.5566, -0.5356],\n",
      "        [ 1.5850, -1.0479, -1.5039],\n",
      "        [ 1.7266, -1.4707, -1.3262],\n",
      "        ...,\n",
      "        [ 0.3508, -2.1738,  1.9961],\n",
      "        [ 1.8779, -2.5000, -0.5576],\n",
      "        [ 2.0078, -1.7969, -1.4473]], device='cuda:0', dtype=torch.float16), hidden_states=None, attentions=None)\n"
     ]
    },
    {
     "name": "stderr",
     "output_type": "stream",
     "text": []
    },
    {
     "name": "stdout",
     "output_type": "stream",
     "text": [
      "output of the model SequenceClassifierOutput(loss=None, logits=tensor([[ 0.3887, -0.4661,  0.1592],\n",
      "        [-1.7588,  2.6914, -0.2954],\n",
      "        [-0.2747,  0.7949, -1.0801],\n",
      "        ...,\n",
      "        [-0.6094, -0.6157,  0.9722],\n",
      "        [-0.3652, -1.0811,  1.3584],\n",
      "        [-0.6890, -0.0169,  1.1025]], device='cuda:0', dtype=torch.float16), hidden_states=None, attentions=None)\n"
     ]
    },
    {
     "name": "stderr",
     "output_type": "stream",
     "text": []
    },
    {
     "name": "stdout",
     "output_type": "stream",
     "text": [
      "output of the model SequenceClassifierOutput(loss=None, logits=tensor([[ 0.4438, -0.2452,  0.0147],\n",
      "        [-0.2289, -1.8223,  2.3008],\n",
      "        [-0.2476,  0.0404,  0.3767],\n",
      "        ...,\n",
      "        [-1.0527,  2.0371, -0.8594],\n",
      "        [-0.4578, -1.4902,  2.2656],\n",
      "        [-1.1143, -0.5903,  2.3711]], device='cuda:0', dtype=torch.float16), hidden_states=None, attentions=None)\n"
     ]
    },
    {
     "name": "stderr",
     "output_type": "stream",
     "text": []
    },
    {
     "name": "stdout",
     "output_type": "stream",
     "text": [
      "output of the model SequenceClassifierOutput(loss=None, logits=tensor([[-0.6904,  1.1211,  0.0592],\n",
      "        [-1.0840, -0.6802,  2.3906],\n",
      "        [-0.5044, -1.3857,  2.2480],\n",
      "        ...,\n",
      "        [ 1.8994, -2.4141, -0.5728],\n",
      "        [ 1.0176, -1.8105,  0.3960],\n",
      "        [-0.0638, -1.5742,  2.0371]], device='cuda:0', dtype=torch.float16), hidden_states=None, attentions=None)\n"
     ]
    },
    {
     "name": "stderr",
     "output_type": "stream",
     "text": []
    },
    {
     "name": "stdout",
     "output_type": "stream",
     "text": [
      "output of the model SequenceClassifierOutput(loss=None, logits=tensor([[-0.7407, -1.4453,  2.4609],\n",
      "        [ 1.9961, -1.6377, -1.5098],\n",
      "        [-1.7041,  2.3203,  0.1508],\n",
      "        ...,\n",
      "        [ 1.9150, -1.3438, -1.7119],\n",
      "        [-0.6958, -0.9097,  2.3047],\n",
      "        [ 1.5615, -1.6445, -0.9263]], device='cuda:0', dtype=torch.float16), hidden_states=None, attentions=None)\n"
     ]
    },
    {
     "name": "stderr",
     "output_type": "stream",
     "text": []
    },
    {
     "name": "stdout",
     "output_type": "stream",
     "text": [
      "output of the model SequenceClassifierOutput(loss=None, logits=tensor([[ 1.8086, -1.5449, -1.5244],\n",
      "        [-0.6299, -0.9482,  2.2852],\n",
      "        [-1.3760,  1.3115,  1.1377],\n",
      "        ...,\n",
      "        [-0.1985,  1.5537, -1.7920],\n",
      "        [-0.2673, -1.7236,  2.4141],\n",
      "        [-1.7715,  3.0117, -0.9219]], device='cuda:0', dtype=torch.float16), hidden_states=None, attentions=None)\n"
     ]
    },
    {
     "name": "stderr",
     "output_type": "stream",
     "text": []
    },
    {
     "name": "stdout",
     "output_type": "stream",
     "text": [
      "output of the model SequenceClassifierOutput(loss=None, logits=tensor([[ 0.0617, -1.7607,  1.6846],\n",
      "        [ 0.6152, -2.2422,  1.7197],\n",
      "        [-0.5942,  0.6738, -0.2369],\n",
      "        ...,\n",
      "        [-0.5884, -0.3894,  1.1875],\n",
      "        [-0.8198, -1.0273,  2.4922],\n",
      "        [-0.0087, -1.9248,  2.3223]], device='cuda:0', dtype=torch.float16), hidden_states=None, attentions=None)\n"
     ]
    },
    {
     "name": "stderr",
     "output_type": "stream",
     "text": []
    },
    {
     "name": "stdout",
     "output_type": "stream",
     "text": [
      "output of the model SequenceClassifierOutput(loss=None, logits=tensor([[-0.6133, -1.1982,  2.3555],\n",
      "        [-0.6475, -1.1895,  2.3945],\n",
      "        [-0.9312, -0.8379,  2.3594],\n",
      "        ...,\n",
      "        [-1.1738,  2.1797, -0.7563],\n",
      "        [-0.1934, -0.1622,  0.7686],\n",
      "        [ 1.2959, -0.0841, -1.7539]], device='cuda:0', dtype=torch.float16), hidden_states=None, attentions=None)\n"
     ]
    },
    {
     "name": "stderr",
     "output_type": "stream",
     "text": []
    },
    {
     "name": "stdout",
     "output_type": "stream",
     "text": [
      "output of the model SequenceClassifierOutput(loss=None, logits=tensor([[ 1.1436, -0.0116, -2.0234],\n",
      "        [-0.0834,  1.0674, -1.0225],\n",
      "        [ 0.9717, -1.7480,  0.6836],\n",
      "        ...,\n",
      "        [-0.6304, -1.0391,  2.1836],\n",
      "        [-0.6875, -0.9180,  2.1797],\n",
      "        [-0.6973, -1.4863,  2.4648]], device='cuda:0', dtype=torch.float16), hidden_states=None, attentions=None)\n"
     ]
    },
    {
     "name": "stderr",
     "output_type": "stream",
     "text": []
    },
    {
     "name": "stdout",
     "output_type": "stream",
     "text": [
      "output of the model SequenceClassifierOutput(loss=None, logits=tensor([[-0.9009, -0.5776,  2.2715],\n",
      "        [-0.5801, -1.0127,  2.0977],\n",
      "        [-0.4771, -1.2061,  2.1562],\n",
      "        ...,\n",
      "        [-0.2108, -1.3105,  1.5781],\n",
      "        [-1.1006,  2.6465, -1.5039],\n",
      "        [-0.0907, -1.9600,  2.2637]], device='cuda:0', dtype=torch.float16), hidden_states=None, attentions=None)\n"
     ]
    },
    {
     "name": "stderr",
     "output_type": "stream",
     "text": []
    },
    {
     "name": "stdout",
     "output_type": "stream",
     "text": [
      "output of the model SequenceClassifierOutput(loss=None, logits=tensor([[-0.4243, -0.7871,  1.1650],\n",
      "        [ 0.4080, -1.6719,  1.2754],\n",
      "        [-1.1035,  0.0911,  1.6641],\n",
      "        ...,\n",
      "        [-1.6660,  2.9844, -1.0586],\n",
      "        [-0.9771,  2.5820, -1.6240],\n",
      "        [-1.5947,  2.9453, -1.0869]], device='cuda:0', dtype=torch.float16), hidden_states=None, attentions=None)\n"
     ]
    },
    {
     "name": "stderr",
     "output_type": "stream",
     "text": []
    },
    {
     "name": "stdout",
     "output_type": "stream",
     "text": [
      "output of the model SequenceClassifierOutput(loss=None, logits=tensor([[-1.1592,  2.3203, -0.8325],\n",
      "        [-1.5918,  2.9453, -1.0801],\n",
      "        [-0.6992,  2.0273, -1.2764],\n",
      "        ...,\n",
      "        [ 1.6123, -2.4609,  0.4080],\n",
      "        [-0.7852,  1.0742, -0.0689],\n",
      "        [ 1.9131, -2.3281, -0.4329]], device='cuda:0', dtype=torch.float16), hidden_states=None, attentions=None)\n"
     ]
    },
    {
     "name": "stderr",
     "output_type": "stream",
     "text": []
    },
    {
     "name": "stdout",
     "output_type": "stream",
     "text": [
      "output of the model SequenceClassifierOutput(loss=None, logits=tensor([[-1.0566, -0.2360,  2.1367],\n",
      "        [ 0.1516, -1.9141,  2.1367],\n",
      "        [ 1.8184, -2.5195,  0.2314],\n",
      "        ...,\n",
      "        [ 1.7393, -2.3672, -0.0559],\n",
      "        [-1.1094,  1.3652,  0.3958],\n",
      "        [-0.0598, -1.8828,  2.0840]], device='cuda:0', dtype=torch.float16), hidden_states=None, attentions=None)\n"
     ]
    },
    {
     "name": "stderr",
     "output_type": "stream",
     "text": []
    },
    {
     "name": "stdout",
     "output_type": "stream",
     "text": [
      "output of the model SequenceClassifierOutput(loss=None, logits=tensor([[-0.5391, -1.5762,  2.3555],\n",
      "        [-1.7139,  1.3594,  1.3887],\n",
      "        [ 1.7676, -1.9893, -0.7168],\n",
      "        ...,\n",
      "        [-1.5850,  1.7715,  0.5479],\n",
      "        [-1.4287,  2.6230, -0.8745],\n",
      "        [-1.4824,  1.5264,  0.8887]], device='cuda:0', dtype=torch.float16), hidden_states=None, attentions=None)\n"
     ]
    },
    {
     "name": "stderr",
     "output_type": "stream",
     "text": []
    },
    {
     "name": "stdout",
     "output_type": "stream",
     "text": [
      "output of the model SequenceClassifierOutput(loss=None, logits=tensor([[-0.1183, -0.5107,  0.5088],\n",
      "        [ 1.9766, -1.9600, -1.2480],\n",
      "        [-0.9155, -0.5508,  2.1094],\n",
      "        ...,\n",
      "        [ 1.7627, -1.4639, -1.3945],\n",
      "        [ 1.7002, -1.4131, -1.3311],\n",
      "        [ 1.7363, -1.4688, -1.3223]], device='cuda:0', dtype=torch.float16), hidden_states=None, attentions=None)\n"
     ]
    },
    {
     "name": "stderr",
     "output_type": "stream",
     "text": []
    },
    {
     "name": "stdout",
     "output_type": "stream",
     "text": [
      "output of the model SequenceClassifierOutput(loss=None, logits=tensor([[ 1.6924, -1.3926, -1.3037],\n",
      "        [ 1.8193, -1.5068, -1.4277],\n",
      "        [ 1.7334, -1.4775, -1.3125],\n",
      "        ...,\n",
      "        [ 0.3091, -2.2070,  2.0078],\n",
      "        [-0.7231, -1.2510,  2.4414],\n",
      "        [-0.6846, -1.5088,  2.4531]], device='cuda:0', dtype=torch.float16), hidden_states=None, attentions=None)\n"
     ]
    },
    {
     "name": "stderr",
     "output_type": "stream",
     "text": []
    },
    {
     "name": "stdout",
     "output_type": "stream",
     "text": [
      "output of the model SequenceClassifierOutput(loss=None, logits=tensor([[-0.9404, -0.3003,  2.2500],\n",
      "        [ 0.1775, -2.2285,  2.2676],\n",
      "        [ 0.2590, -1.9736,  2.1777],\n",
      "        ...,\n",
      "        [ 0.2520, -2.2773,  2.1230],\n",
      "        [ 0.4998, -0.4182, -0.7837],\n",
      "        [ 0.0520, -0.6919,  0.7188]], device='cuda:0', dtype=torch.float16), hidden_states=None, attentions=None)\n"
     ]
    },
    {
     "name": "stderr",
     "output_type": "stream",
     "text": []
    },
    {
     "name": "stdout",
     "output_type": "stream",
     "text": [
      "output of the model SequenceClassifierOutput(loss=None, logits=tensor([[-1.5117,  0.3503,  2.0273],\n",
      "        [-1.1572,  0.9927,  0.5845],\n",
      "        [ 1.7861, -1.3555, -1.4971],\n",
      "        ...,\n",
      "        [-1.4609,  0.1791,  2.1621],\n",
      "        [ 0.3079, -2.3438,  1.9629],\n",
      "        [ 2.0176, -2.1426, -1.3135]], device='cuda:0', dtype=torch.float16), hidden_states=None, attentions=None)\n"
     ]
    },
    {
     "name": "stderr",
     "output_type": "stream",
     "text": []
    },
    {
     "name": "stdout",
     "output_type": "stream",
     "text": [
      "output of the model SequenceClassifierOutput(loss=None, logits=tensor([[-1.0859, -0.3455,  2.0820],\n",
      "        [ 0.3779, -2.2207,  2.1348],\n",
      "        [ 0.3000, -2.4375,  2.2539],\n",
      "        ...,\n",
      "        [-0.8013, -1.1562,  2.3906],\n",
      "        [-0.5752, -1.5186,  2.4922],\n",
      "        [ 0.8789, -2.3027,  1.5605]], device='cuda:0', dtype=torch.float16), hidden_states=None, attentions=None)\n"
     ]
    },
    {
     "name": "stderr",
     "output_type": "stream",
     "text": []
    },
    {
     "name": "stdout",
     "output_type": "stream",
     "text": [
      "output of the model SequenceClassifierOutput(loss=None, logits=tensor([[ 1.9941, -2.5957, -0.6167],\n",
      "        [ 1.8926, -2.4062, -0.6743],\n",
      "        [-0.3999, -0.4456,  1.1465],\n",
      "        ...,\n",
      "        [-1.5488,  2.1016,  0.0464],\n",
      "        [-0.9946,  0.8564,  0.4915],\n",
      "        [-1.4219,  2.5859, -1.0195]], device='cuda:0', dtype=torch.float16), hidden_states=None, attentions=None)\n"
     ]
    },
    {
     "name": "stderr",
     "output_type": "stream",
     "text": []
    },
    {
     "name": "stdout",
     "output_type": "stream",
     "text": [
      "output of the model SequenceClassifierOutput(loss=None, logits=tensor([[ 0.2988, -1.0078,  0.3611],\n",
      "        [ 0.0903,  0.0136, -0.9194],\n",
      "        [-0.3782, -1.4248,  2.2773],\n",
      "        ...,\n",
      "        [-0.6265, -1.2998,  2.4746],\n",
      "        [-1.6143,  2.0352, -0.0875],\n",
      "        [ 0.5791, -1.7646,  1.1768]], device='cuda:0', dtype=torch.float16), hidden_states=None, attentions=None)\n"
     ]
    },
    {
     "name": "stderr",
     "output_type": "stream",
     "text": []
    },
    {
     "name": "stdout",
     "output_type": "stream",
     "text": [
      "output of the model SequenceClassifierOutput(loss=None, logits=tensor([[ 1.5996, -2.2305, -0.3975],\n",
      "        [-0.2430, -1.6162,  2.1992],\n",
      "        [-1.5098,  0.6245,  1.7588],\n",
      "        ...,\n",
      "        [-1.6924,  2.8711, -0.7134],\n",
      "        [-1.0928, -0.8662,  2.4102],\n",
      "        [-0.4175, -1.6240,  2.4297]], device='cuda:0', dtype=torch.float16), hidden_states=None, attentions=None)\n"
     ]
    },
    {
     "name": "stderr",
     "output_type": "stream",
     "text": []
    },
    {
     "name": "stdout",
     "output_type": "stream",
     "text": [
      "output of the model SequenceClassifierOutput(loss=None, logits=tensor([[ 1.6182, -1.9443, -0.7070],\n",
      "        [-1.9111,  2.6543,  0.2416],\n",
      "        [ 1.9717, -2.4766, -0.6055],\n",
      "        ...,\n",
      "        [-0.6084, -0.7422,  2.0430],\n",
      "        [-0.5923, -1.6084,  2.4570],\n",
      "        [-1.8203,  1.3066,  1.6182]], device='cuda:0', dtype=torch.float16), hidden_states=None, attentions=None)\n"
     ]
    },
    {
     "name": "stderr",
     "output_type": "stream",
     "text": []
    },
    {
     "name": "stdout",
     "output_type": "stream",
     "text": [
      "output of the model SequenceClassifierOutput(loss=None, logits=tensor([[-1.1172e+00,  2.7383e+00, -1.6201e+00],\n",
      "        [-1.6787e+00,  2.0039e+00,  8.6133e-01],\n",
      "        [-1.6680e+00,  2.9316e+00, -9.7900e-01],\n",
      "        ...,\n",
      "        [-1.2061e+00,  1.3291e+00,  7.2705e-01],\n",
      "        [-1.6918e-03, -1.5049e+00,  1.9502e+00],\n",
      "        [ 1.8970e-01, -1.7598e+00,  1.5840e+00]], device='cuda:0',\n",
      "       dtype=torch.float16), hidden_states=None, attentions=None)\n"
     ]
    },
    {
     "name": "stderr",
     "output_type": "stream",
     "text": []
    },
    {
     "name": "stdout",
     "output_type": "stream",
     "text": [
      "output of the model SequenceClassifierOutput(loss=None, logits=tensor([[-0.4348, -1.3232,  2.3574],\n",
      "        [ 0.5571, -2.2129,  1.7871],\n",
      "        [-1.4453,  1.5908,  0.5918],\n",
      "        ...,\n",
      "        [ 0.0803, -1.0059,  1.0859],\n",
      "        [-0.2668, -1.5439,  2.3145],\n",
      "        [ 2.0391, -1.4443, -1.7793]], device='cuda:0', dtype=torch.float16), hidden_states=None, attentions=None)\n"
     ]
    },
    {
     "name": "stderr",
     "output_type": "stream",
     "text": []
    },
    {
     "name": "stdout",
     "output_type": "stream",
     "text": [
      "output of the model SequenceClassifierOutput(loss=None, logits=tensor([[-1.7236,  2.3398,  0.2365],\n",
      "        [-1.5674,  2.1094,  0.3533],\n",
      "        [-0.9043,  1.2314, -0.2913],\n",
      "        ...,\n",
      "        [-0.3000, -1.1123,  1.9160],\n",
      "        [ 1.4629, -0.6597, -1.4805],\n",
      "        [-1.4678,  1.3340,  0.9932]], device='cuda:0', dtype=torch.float16), hidden_states=None, attentions=None)\n"
     ]
    },
    {
     "name": "stderr",
     "output_type": "stream",
     "text": []
    },
    {
     "name": "stdout",
     "output_type": "stream",
     "text": [
      "output of the model SequenceClassifierOutput(loss=None, logits=tensor([[-0.2510, -0.4436,  0.4158],\n",
      "        [-1.5859,  2.9336, -1.0879],\n",
      "        [-1.1064,  0.6343,  0.6157],\n",
      "        ...,\n",
      "        [ 0.3506, -1.2930,  0.9287],\n",
      "        [-1.8975,  3.0137, -0.6040],\n",
      "        [-0.7139, -0.4731,  1.6816]], device='cuda:0', dtype=torch.float16), hidden_states=None, attentions=None)\n"
     ]
    },
    {
     "name": "stderr",
     "output_type": "stream",
     "text": []
    },
    {
     "name": "stdout",
     "output_type": "stream",
     "text": [
      "output of the model SequenceClassifierOutput(loss=None, logits=tensor([[-0.2476, -1.8955,  2.3223],\n",
      "        [ 2.0742, -1.3096, -1.8467],\n",
      "        [ 1.9014, -2.2246, -0.8086],\n",
      "        ...,\n",
      "        [-0.9907, -0.4487,  2.3496],\n",
      "        [ 0.8384, -0.1159, -1.5713],\n",
      "        [-1.4121,  0.0604,  2.2168]], device='cuda:0', dtype=torch.float16), hidden_states=None, attentions=None)\n"
     ]
    },
    {
     "name": "stderr",
     "output_type": "stream",
     "text": []
    },
    {
     "name": "stdout",
     "output_type": "stream",
     "text": [
      "output of the model SequenceClassifierOutput(loss=None, logits=tensor([[ 1.7783, -1.3203, -1.2275],\n",
      "        [ 0.9380, -2.5566,  1.5674],\n",
      "        [ 0.9365, -0.4216, -1.6729],\n",
      "        ...,\n",
      "        [ 1.2979, -2.2578, -0.1895],\n",
      "        [-0.5581, -1.1045,  2.2539],\n",
      "        [-0.6753, -1.0645,  2.4434]], device='cuda:0', dtype=torch.float16), hidden_states=None, attentions=None)\n"
     ]
    },
    {
     "name": "stderr",
     "output_type": "stream",
     "text": []
    },
    {
     "name": "stdout",
     "output_type": "stream",
     "text": [
      "output of the model SequenceClassifierOutput(loss=None, logits=tensor([[-0.6201, -1.3955,  2.4316],\n",
      "        [-0.8135, -1.3037,  2.5996],\n",
      "        [-0.4480, -1.2793,  2.1328],\n",
      "        ...,\n",
      "        [-0.1677, -0.3611,  1.0225],\n",
      "        [-0.4382, -0.1714,  1.1250],\n",
      "        [ 0.2524, -1.5596,  1.0371]], device='cuda:0', dtype=torch.float16), hidden_states=None, attentions=None)\n"
     ]
    },
    {
     "name": "stderr",
     "output_type": "stream",
     "text": []
    },
    {
     "name": "stdout",
     "output_type": "stream",
     "text": [
      "output of the model SequenceClassifierOutput(loss=None, logits=tensor([[ 1.7510, -1.1309, -1.5996],\n",
      "        [-0.5078, -0.1261,  1.1719],\n",
      "        [-0.4236,  0.7036, -0.0172],\n",
      "        ...,\n",
      "        [-0.7202, -1.2490,  2.5410],\n",
      "        [-1.3564,  2.5605, -0.8306],\n",
      "        [-0.4773, -1.8135,  2.4648]], device='cuda:0', dtype=torch.float16), hidden_states=None, attentions=None)\n"
     ]
    },
    {
     "name": "stderr",
     "output_type": "stream",
     "text": []
    },
    {
     "name": "stdout",
     "output_type": "stream",
     "text": [
      "output of the model SequenceClassifierOutput(loss=None, logits=tensor([[-1.1250,  1.0146,  0.9609],\n",
      "        [-1.0137, -0.8164,  2.4297],\n",
      "        [-0.2847, -0.3296,  1.4326],\n",
      "        ...,\n",
      "        [ 0.0779,  0.0124, -0.2281],\n",
      "        [-0.8579, -0.8413,  2.3457],\n",
      "        [ 1.7920, -2.7031,  0.0336]], device='cuda:0', dtype=torch.float16), hidden_states=None, attentions=None)\n"
     ]
    },
    {
     "name": "stderr",
     "output_type": "stream",
     "text": []
    },
    {
     "name": "stdout",
     "output_type": "stream",
     "text": [
      "output of the model SequenceClassifierOutput(loss=None, logits=tensor([[ 1.9512, -2.0430, -1.3262],\n",
      "        [-1.0664,  0.2075,  1.8955],\n",
      "        [ 1.5342, -1.2939, -1.3281],\n",
      "        ...,\n",
      "        [-1.2725, -0.2312,  2.2891],\n",
      "        [ 0.3440, -0.2452,  0.0738],\n",
      "        [-1.2871, -0.2203,  2.4922]], device='cuda:0', dtype=torch.float16), hidden_states=None, attentions=None)\n"
     ]
    },
    {
     "name": "stderr",
     "output_type": "stream",
     "text": []
    },
    {
     "name": "stdout",
     "output_type": "stream",
     "text": [
      "output of the model SequenceClassifierOutput(loss=None, logits=tensor([[-1.1406, -0.1327,  2.2305],\n",
      "        [-0.0356, -1.8740,  2.3047],\n",
      "        [ 1.0693, -1.9756,  0.2629],\n",
      "        ...,\n",
      "        [ 1.5557, -2.6074,  0.3423],\n",
      "        [-1.4844,  1.4893,  0.9331],\n",
      "        [ 0.1593, -1.8955,  1.6670]], device='cuda:0', dtype=torch.float16), hidden_states=None, attentions=None)\n"
     ]
    },
    {
     "name": "stderr",
     "output_type": "stream",
     "text": []
    },
    {
     "name": "stdout",
     "output_type": "stream",
     "text": [
      "output of the model SequenceClassifierOutput(loss=None, logits=tensor([[ 2.1133, -2.4766, -0.4155],\n",
      "        [-1.3535,  0.0357,  2.2852],\n",
      "        [-0.6396, -1.4844,  2.5156],\n",
      "        ...,\n",
      "        [ 1.6875, -2.6074,  0.4675],\n",
      "        [-1.0869,  2.0020, -0.8730],\n",
      "        [ 0.8511, -2.0703,  0.9941]], device='cuda:0', dtype=torch.float16), hidden_states=None, attentions=None)\n"
     ]
    },
    {
     "name": "stderr",
     "output_type": "stream",
     "text": []
    },
    {
     "name": "stdout",
     "output_type": "stream",
     "text": [
      "output of the model SequenceClassifierOutput(loss=None, logits=tensor([[-1.4990,  1.9570,  0.0324],\n",
      "        [-0.6919, -1.3232,  2.4961],\n",
      "        [-0.6084, -1.4648,  2.2246],\n",
      "        ...,\n",
      "        [ 1.3486, -1.2119, -1.1523],\n",
      "        [ 1.9961, -2.1074, -1.2070],\n",
      "        [-0.6836, -1.2832,  2.2285]], device='cuda:0', dtype=torch.float16), hidden_states=None, attentions=None)\n"
     ]
    },
    {
     "name": "stderr",
     "output_type": "stream",
     "text": []
    },
    {
     "name": "stdout",
     "output_type": "stream",
     "text": [
      "output of the model SequenceClassifierOutput(loss=None, logits=tensor([[ 1.6592, -1.1719, -1.5332],\n",
      "        [ 1.3457, -1.5039, -0.5664],\n",
      "        [-0.4495,  0.7935, -0.1143],\n",
      "        ...,\n",
      "        [-0.5771, -1.3916,  2.5352],\n",
      "        [-0.4775,  0.4534, -0.1520],\n",
      "        [ 0.4553, -0.4126, -1.2295]], device='cuda:0', dtype=torch.float16), hidden_states=None, attentions=None)\n"
     ]
    },
    {
     "name": "stderr",
     "output_type": "stream",
     "text": []
    },
    {
     "name": "stdout",
     "output_type": "stream",
     "text": [
      "output of the model SequenceClassifierOutput(loss=None, logits=tensor([[-1.6650,  1.2178,  1.4102],\n",
      "        [ 0.3440, -1.5947,  1.7109],\n",
      "        [ 1.9131, -0.9780, -1.9258],\n",
      "        ...,\n",
      "        [-1.4531,  0.1230,  2.1953],\n",
      "        [-0.8467, -0.5430,  2.1777],\n",
      "        [-0.0553, -1.9082,  2.0820]], device='cuda:0', dtype=torch.float16), hidden_states=None, attentions=None)\n"
     ]
    },
    {
     "name": "stderr",
     "output_type": "stream",
     "text": []
    },
    {
     "name": "stdout",
     "output_type": "stream",
     "text": [
      "output of the model SequenceClassifierOutput(loss=None, logits=tensor([[-0.8560, -0.7603,  2.3496],\n",
      "        [-0.0339, -1.9883,  2.2930],\n",
      "        [ 0.3440, -1.5947,  1.7109],\n",
      "        ...,\n",
      "        [-0.8237, -0.9839,  2.3672],\n",
      "        [-1.2109, -0.2515,  2.4531],\n",
      "        [ 1.5088, -1.0391, -1.5117]], device='cuda:0', dtype=torch.float16), hidden_states=None, attentions=None)\n"
     ]
    },
    {
     "name": "stderr",
     "output_type": "stream",
     "text": []
    },
    {
     "name": "stdout",
     "output_type": "stream",
     "text": [
      "output of the model SequenceClassifierOutput(loss=None, logits=tensor([[-0.1904, -1.9727,  2.3477],\n",
      "        [-0.8711, -0.6709,  2.1426],\n",
      "        [-0.4563, -1.8330,  2.4961],\n",
      "        ...,\n",
      "        [-0.0242, -2.0605,  2.1094],\n",
      "        [-0.9595, -0.9478,  2.5039],\n",
      "        [-0.5601, -0.9048,  1.6211]], device='cuda:0', dtype=torch.float16), hidden_states=None, attentions=None)\n"
     ]
    },
    {
     "name": "stderr",
     "output_type": "stream",
     "text": []
    },
    {
     "name": "stdout",
     "output_type": "stream",
     "text": [
      "output of the model SequenceClassifierOutput(loss=None, logits=tensor([[-0.2394,  1.0928, -1.7363],\n",
      "        [-0.9043, -0.3550,  2.1094],\n",
      "        [-0.4446, -1.4736,  2.4473],\n",
      "        ...,\n",
      "        [ 1.8408, -1.7598, -1.3809],\n",
      "        [-0.8735,  1.0586, -0.3179],\n",
      "        [-1.4453,  0.2054,  2.0840]], device='cuda:0', dtype=torch.float16), hidden_states=None, attentions=None)\n"
     ]
    },
    {
     "name": "stderr",
     "output_type": "stream",
     "text": []
    },
    {
     "name": "stdout",
     "output_type": "stream",
     "text": [
      "output of the model SequenceClassifierOutput(loss=None, logits=tensor([[ 0.7769, -2.3691,  1.3281],\n",
      "        [ 0.8281, -2.6152,  1.6729],\n",
      "        [-0.7378, -1.3330,  2.4961],\n",
      "        ...,\n",
      "        [-1.0527,  0.0895,  1.8652],\n",
      "        [ 1.7100, -2.4668, -0.0930],\n",
      "        [-0.3442, -1.4111,  2.2754]], device='cuda:0', dtype=torch.float16), hidden_states=None, attentions=None)\n"
     ]
    },
    {
     "name": "stderr",
     "output_type": "stream",
     "text": []
    },
    {
     "name": "stdout",
     "output_type": "stream",
     "text": [
      "output of the model SequenceClassifierOutput(loss=None, logits=tensor([[ 1.5850, -2.4023,  0.1240],\n",
      "        [ 1.6553, -2.0332, -0.8418],\n",
      "        [ 0.3232, -0.7578,  0.2573],\n",
      "        ...,\n",
      "        [-1.2021, -0.4629,  2.4453],\n",
      "        [ 0.8667, -1.1377, -0.3000],\n",
      "        [-1.4229,  0.0978,  2.1875]], device='cuda:0', dtype=torch.float16), hidden_states=None, attentions=None)\n"
     ]
    },
    {
     "name": "stderr",
     "output_type": "stream",
     "text": []
    },
    {
     "name": "stdout",
     "output_type": "stream",
     "text": [
      "output of the model SequenceClassifierOutput(loss=None, logits=tensor([[-1.1689, -0.6255,  2.3691],\n",
      "        [-0.9253, -0.8774,  2.3652],\n",
      "        [-1.6416,  0.5518,  2.0215],\n",
      "        ...,\n",
      "        [-0.8076,  1.0264,  0.1049],\n",
      "        [-0.6279,  0.6982, -0.0706],\n",
      "        [ 0.8921, -0.2620, -1.6064]], device='cuda:0', dtype=torch.float16), hidden_states=None, attentions=None)\n"
     ]
    },
    {
     "name": "stderr",
     "output_type": "stream",
     "text": []
    },
    {
     "name": "stdout",
     "output_type": "stream",
     "text": [
      "output of the model SequenceClassifierOutput(loss=None, logits=tensor([[-1.6846,  1.5010,  1.1025],\n",
      "        [-1.1113, -0.0905,  2.0918],\n",
      "        [ 0.4331, -2.5684,  2.1719],\n",
      "        ...,\n",
      "        [ 0.0033, -1.9307,  2.2598],\n",
      "        [-0.5254, -0.9351,  1.5098],\n",
      "        [ 0.6519, -2.4551,  1.9434]], device='cuda:0', dtype=torch.float16), hidden_states=None, attentions=None)\n"
     ]
    },
    {
     "name": "stderr",
     "output_type": "stream",
     "text": []
    },
    {
     "name": "stdout",
     "output_type": "stream",
     "text": [
      "output of the model SequenceClassifierOutput(loss=None, logits=tensor([[-0.4590, -1.2451,  2.2754],\n",
      "        [ 1.9902, -1.4824, -1.6084],\n",
      "        [-0.3904, -1.8760,  2.4434],\n",
      "        ...,\n",
      "        [ 1.1660, -2.6875,  1.3818],\n",
      "        [-1.1123,  0.2529,  1.8662],\n",
      "        [ 0.9585, -1.8770,  0.5215]], device='cuda:0', dtype=torch.float16), hidden_states=None, attentions=None)\n"
     ]
    },
    {
     "name": "stderr",
     "output_type": "stream",
     "text": []
    },
    {
     "name": "stdout",
     "output_type": "stream",
     "text": [
      "output of the model SequenceClassifierOutput(loss=None, logits=tensor([[-0.0039, -0.9385,  1.2070],\n",
      "        [-0.9668, -0.9111,  2.5312],\n",
      "        [ 0.0803, -1.0059,  1.0859],\n",
      "        ...,\n",
      "        [ 1.9023, -2.3203, -0.6069],\n",
      "        [-1.2520,  0.2942,  1.6162],\n",
      "        [ 1.9639, -1.5820, -1.5352]], device='cuda:0', dtype=torch.float16), hidden_states=None, attentions=None)\n"
     ]
    },
    {
     "name": "stderr",
     "output_type": "stream",
     "text": []
    },
    {
     "name": "stdout",
     "output_type": "stream",
     "text": [
      "output of the model SequenceClassifierOutput(loss=None, logits=tensor([[ 1.3525, -2.0566,  0.1348],\n",
      "        [ 0.7158, -2.3262,  1.8105],\n",
      "        [ 1.7539, -1.6699, -1.3750],\n",
      "        ...,\n",
      "        [ 1.0752,  0.0226, -1.7822],\n",
      "        [-1.7822,  2.6738, -0.1471],\n",
      "        [-0.7734,  2.0488, -1.2627]], device='cuda:0', dtype=torch.float16), hidden_states=None, attentions=None)\n"
     ]
    },
    {
     "name": "stderr",
     "output_type": "stream",
     "text": []
    },
    {
     "name": "stdout",
     "output_type": "stream",
     "text": [
      "output of the model SequenceClassifierOutput(loss=None, logits=tensor([[-0.4519, -0.2189,  0.4888],\n",
      "        [-1.6982,  1.7041,  0.6431],\n",
      "        [-0.0068, -0.9526,  1.2002],\n",
      "        ...,\n",
      "        [-1.5176,  2.6445, -0.7773],\n",
      "        [ 0.5576, -2.1797,  1.7422],\n",
      "        [-0.8345, -0.4502,  1.9326]], device='cuda:0', dtype=torch.float16), hidden_states=None, attentions=None)\n"
     ]
    },
    {
     "name": "stderr",
     "output_type": "stream",
     "text": [
      "Processing batches (chunk 5): 100%|██████████| 98/98 [00:36<00:00,  2.72it/s]\n",
      "Processing chunks:   4%|▍         | 5/131 [02:57<1:14:50, 35.64s/it]"
     ]
    },
    {
     "name": "stdout",
     "output_type": "stream",
     "text": [
      "output of the model SequenceClassifierOutput(loss=None, logits=tensor([[-0.4390, -1.6387,  2.3984],\n",
      "        [-1.8086,  2.9297, -0.8008],\n",
      "        [-0.4119, -1.6416,  2.3926],\n",
      "        ...,\n",
      "        [-1.6641,  2.9688, -1.0996],\n",
      "        [ 0.3491, -1.2861,  0.9717],\n",
      "        [-0.8735,  0.3777,  0.4519]], device='cuda:0', dtype=torch.float16), hidden_states=None, attentions=None)\n"
     ]
    },
    {
     "name": "stderr",
     "output_type": "stream",
     "text": []
    },
    {
     "name": "stdout",
     "output_type": "stream",
     "text": [
      "output of the model SequenceClassifierOutput(loss=None, logits=tensor([[-1.2568,  2.0879, -0.7295],\n",
      "        [ 1.3223, -2.6641,  0.9570],\n",
      "        [-1.3223,  2.6680, -1.1221],\n",
      "        ...,\n",
      "        [-0.3481,  0.0063,  0.2512],\n",
      "        [-1.3730, -0.1549,  2.1523],\n",
      "        [-0.6274, -0.4626,  1.2373]], device='cuda:0', dtype=torch.float16), hidden_states=None, attentions=None)\n"
     ]
    },
    {
     "name": "stderr",
     "output_type": "stream",
     "text": []
    },
    {
     "name": "stdout",
     "output_type": "stream",
     "text": [
      "output of the model SequenceClassifierOutput(loss=None, logits=tensor([[ 0.4700,  0.5239, -1.9434],\n",
      "        [-0.1572,  0.2620, -0.4336],\n",
      "        [ 0.4185, -2.1738,  2.0781],\n",
      "        ...,\n",
      "        [ 1.1123, -1.0361, -0.9712],\n",
      "        [-0.0068, -0.9526,  1.2002],\n",
      "        [-1.4131,  0.0264,  2.2617]], device='cuda:0', dtype=torch.float16), hidden_states=None, attentions=None)\n"
     ]
    },
    {
     "name": "stderr",
     "output_type": "stream",
     "text": []
    },
    {
     "name": "stdout",
     "output_type": "stream",
     "text": [
      "output of the model SequenceClassifierOutput(loss=None, logits=tensor([[ 0.1642, -1.1592,  1.1045],\n",
      "        [-1.6445,  1.4072,  1.1436],\n",
      "        [-1.6289,  1.3809,  1.1367],\n",
      "        ...,\n",
      "        [-0.7710,  0.7656, -0.0978],\n",
      "        [-0.0345,  0.8823, -1.6211],\n",
      "        [-0.2460, -2.0488,  2.4746]], device='cuda:0', dtype=torch.float16), hidden_states=None, attentions=None)\n"
     ]
    },
    {
     "name": "stderr",
     "output_type": "stream",
     "text": []
    },
    {
     "name": "stdout",
     "output_type": "stream",
     "text": [
      "output of the model SequenceClassifierOutput(loss=None, logits=tensor([[-0.2460, -2.0488,  2.4746],\n",
      "        [-1.0947,  0.4170,  0.7925],\n",
      "        [-1.6016,  1.3760,  1.1689],\n",
      "        ...,\n",
      "        [ 0.0341, -1.9932,  2.2617],\n",
      "        [-0.3557, -1.8682,  2.4043],\n",
      "        [ 0.1610, -2.2344,  2.0762]], device='cuda:0', dtype=torch.float16), hidden_states=None, attentions=None)\n"
     ]
    },
    {
     "name": "stderr",
     "output_type": "stream",
     "text": []
    },
    {
     "name": "stdout",
     "output_type": "stream",
     "text": [
      "output of the model SequenceClassifierOutput(loss=None, logits=tensor([[ 0.1103, -2.2402,  2.2266],\n",
      "        [ 1.2070, -2.5371,  0.9102],\n",
      "        [-0.3157, -0.0649, -0.0338],\n",
      "        ...,\n",
      "        [-0.9663, -1.0801,  2.6016],\n",
      "        [-0.6387, -1.6143,  2.5703],\n",
      "        [-0.8638, -0.8706,  2.2109]], device='cuda:0', dtype=torch.float16), hidden_states=None, attentions=None)\n"
     ]
    },
    {
     "name": "stderr",
     "output_type": "stream",
     "text": []
    },
    {
     "name": "stdout",
     "output_type": "stream",
     "text": [
      "output of the model SequenceClassifierOutput(loss=None, logits=tensor([[-0.9097, -0.9028,  2.1328],\n",
      "        [ 0.9233, -2.5449,  1.7754],\n",
      "        [ 0.9834, -2.7676,  1.8135],\n",
      "        ...,\n",
      "        [-1.6836,  2.0625,  0.4978],\n",
      "        [ 1.6348, -1.5684, -1.2676],\n",
      "        [-1.2158, -0.4080,  2.2910]], device='cuda:0', dtype=torch.float16), hidden_states=None, attentions=None)\n"
     ]
    },
    {
     "name": "stderr",
     "output_type": "stream",
     "text": []
    },
    {
     "name": "stdout",
     "output_type": "stream",
     "text": [
      "output of the model SequenceClassifierOutput(loss=None, logits=tensor([[-0.5020, -1.5322,  2.3848],\n",
      "        [-1.3838,  0.6714,  1.7188],\n",
      "        [ 0.0754, -0.1597, -0.3308],\n",
      "        ...,\n",
      "        [ 1.1133, -1.2607, -0.0983],\n",
      "        [-0.9209, -0.6406,  2.2852],\n",
      "        [ 0.9946, -1.3242,  0.3513]], device='cuda:0', dtype=torch.float16), hidden_states=None, attentions=None)\n"
     ]
    },
    {
     "name": "stderr",
     "output_type": "stream",
     "text": []
    },
    {
     "name": "stdout",
     "output_type": "stream",
     "text": [
      "output of the model SequenceClassifierOutput(loss=None, logits=tensor([[ 1.8848, -1.6650, -1.3740],\n",
      "        [ 2.0234, -1.9316, -1.3906],\n",
      "        [ 1.7549, -1.3770, -1.4326],\n",
      "        ...,\n",
      "        [ 0.0901, -1.2383,  1.2432],\n",
      "        [ 1.9814, -1.6084, -1.6064],\n",
      "        [-0.0323, -1.4219,  1.5381]], device='cuda:0', dtype=torch.float16), hidden_states=None, attentions=None)\n"
     ]
    },
    {
     "name": "stderr",
     "output_type": "stream",
     "text": []
    },
    {
     "name": "stdout",
     "output_type": "stream",
     "text": [
      "output of the model SequenceClassifierOutput(loss=None, logits=tensor([[-1.7471,  2.6113, -0.1159],\n",
      "        [ 0.0130, -0.0524, -0.8770],\n",
      "        [ 0.4451, -0.4219, -0.7544],\n",
      "        ...,\n",
      "        [-0.4292, -1.3076,  2.4590],\n",
      "        [-1.3525,  0.1403,  2.1367],\n",
      "        [ 1.5596, -2.3203,  0.1410]], device='cuda:0', dtype=torch.float16), hidden_states=None, attentions=None)\n"
     ]
    },
    {
     "name": "stderr",
     "output_type": "stream",
     "text": []
    },
    {
     "name": "stdout",
     "output_type": "stream",
     "text": [
      "output of the model SequenceClassifierOutput(loss=None, logits=tensor([[-7.2656e-01,  1.6279e+00, -5.1318e-01],\n",
      "        [-7.9834e-01, -9.8389e-01,  2.5508e+00],\n",
      "        [ 6.8848e-01, -1.7432e+00,  1.1865e+00],\n",
      "        ...,\n",
      "        [ 1.8506e-01, -2.0508e+00,  1.8115e+00],\n",
      "        [ 1.1768e-03, -1.4561e+00,  1.8428e+00],\n",
      "        [ 1.8408e+00, -1.4854e+00, -1.4795e+00]], device='cuda:0',\n",
      "       dtype=torch.float16), hidden_states=None, attentions=None)\n"
     ]
    },
    {
     "name": "stderr",
     "output_type": "stream",
     "text": []
    },
    {
     "name": "stdout",
     "output_type": "stream",
     "text": [
      "output of the model SequenceClassifierOutput(loss=None, logits=tensor([[-0.4568,  1.4492, -0.9370],\n",
      "        [-0.0612,  1.4795, -1.9629],\n",
      "        [ 0.0299, -2.1094,  2.3340],\n",
      "        ...,\n",
      "        [ 0.0900, -2.2793,  2.4297],\n",
      "        [-0.4460, -1.3877,  2.1035],\n",
      "        [ 0.5688, -2.5605,  2.0781]], device='cuda:0', dtype=torch.float16), hidden_states=None, attentions=None)\n"
     ]
    },
    {
     "name": "stderr",
     "output_type": "stream",
     "text": []
    },
    {
     "name": "stdout",
     "output_type": "stream",
     "text": [
      "output of the model SequenceClassifierOutput(loss=None, logits=tensor([[-0.9180, -1.0859,  2.4824],\n",
      "        [-1.8857,  2.4570,  0.2957],\n",
      "        [-0.1617,  1.2686, -1.6895],\n",
      "        ...,\n",
      "        [-0.0170, -2.1328,  2.1602],\n",
      "        [-0.3145, -1.9570,  2.5020],\n",
      "        [-0.9414, -1.0371,  2.5059]], device='cuda:0', dtype=torch.float16), hidden_states=None, attentions=None)\n"
     ]
    },
    {
     "name": "stderr",
     "output_type": "stream",
     "text": []
    },
    {
     "name": "stdout",
     "output_type": "stream",
     "text": [
      "output of the model SequenceClassifierOutput(loss=None, logits=tensor([[ 1.4551, -1.9678, -0.1256],\n",
      "        [ 1.4971, -1.9219, -0.2124],\n",
      "        [-1.3711,  1.6787,  0.3501],\n",
      "        ...,\n",
      "        [-0.1978, -1.1484,  1.4395],\n",
      "        [-1.5303,  0.3657,  2.0352],\n",
      "        [-1.5850,  1.5020,  0.8979]], device='cuda:0', dtype=torch.float16), hidden_states=None, attentions=None)\n"
     ]
    },
    {
     "name": "stderr",
     "output_type": "stream",
     "text": []
    },
    {
     "name": "stdout",
     "output_type": "stream",
     "text": [
      "output of the model SequenceClassifierOutput(loss=None, logits=tensor([[-1.5820,  1.6572,  0.8418],\n",
      "        [-0.9653, -0.9346,  2.4473],\n",
      "        [-0.9204, -0.9858,  2.4941],\n",
      "        ...,\n",
      "        [ 1.9551, -1.6309, -1.6123],\n",
      "        [-1.1230, -0.5659,  2.4512],\n",
      "        [-0.8828, -1.1064,  2.5625]], device='cuda:0', dtype=torch.float16), hidden_states=None, attentions=None)\n"
     ]
    },
    {
     "name": "stderr",
     "output_type": "stream",
     "text": []
    },
    {
     "name": "stdout",
     "output_type": "stream",
     "text": [
      "output of the model SequenceClassifierOutput(loss=None, logits=tensor([[-1.1855, -0.5796,  2.5391],\n",
      "        [-1.1094, -0.6250,  2.4336],\n",
      "        [-1.0332, -0.9834,  2.5957],\n",
      "        ...,\n",
      "        [-0.2642,  0.9917, -1.5459],\n",
      "        [-0.7417,  1.5947, -1.0391],\n",
      "        [-1.8457,  2.4258,  0.5537]], device='cuda:0', dtype=torch.float16), hidden_states=None, attentions=None)\n"
     ]
    },
    {
     "name": "stderr",
     "output_type": "stream",
     "text": []
    },
    {
     "name": "stdout",
     "output_type": "stream",
     "text": [
      "output of the model SequenceClassifierOutput(loss=None, logits=tensor([[-0.9995,  1.9014, -0.9097],\n",
      "        [-0.0247, -2.0586,  2.2324],\n",
      "        [-0.0740,  0.6270, -1.1182],\n",
      "        ...,\n",
      "        [ 1.8496, -2.9531,  0.3752],\n",
      "        [ 1.0898, -2.2832,  0.9839],\n",
      "        [ 0.0222, -1.9150,  2.3164]], device='cuda:0', dtype=torch.float16), hidden_states=None, attentions=None)\n"
     ]
    },
    {
     "name": "stderr",
     "output_type": "stream",
     "text": []
    },
    {
     "name": "stdout",
     "output_type": "stream",
     "text": [
      "output of the model SequenceClassifierOutput(loss=None, logits=tensor([[ 0.5376, -0.3459, -0.0925],\n",
      "        [ 1.9287, -1.7070, -1.5146],\n",
      "        [-0.4192,  2.1230, -1.7891],\n",
      "        ...,\n",
      "        [ 0.2935,  1.4180, -2.2383],\n",
      "        [-1.6025,  1.9531,  0.5547],\n",
      "        [-0.7324, -0.7363,  2.0020]], device='cuda:0', dtype=torch.float16), hidden_states=None, attentions=None)\n"
     ]
    },
    {
     "name": "stderr",
     "output_type": "stream",
     "text": []
    },
    {
     "name": "stdout",
     "output_type": "stream",
     "text": [
      "output of the model SequenceClassifierOutput(loss=None, logits=tensor([[ 1.6885, -1.8555, -0.9980],\n",
      "        [-0.8213, -0.7988,  2.1641],\n",
      "        [ 1.9414, -2.3926, -0.8140],\n",
      "        ...,\n",
      "        [-0.3047, -1.8330,  2.3867],\n",
      "        [ 1.6162, -0.8687, -1.4570],\n",
      "        [ 1.0879, -0.0491, -1.5439]], device='cuda:0', dtype=torch.float16), hidden_states=None, attentions=None)\n"
     ]
    },
    {
     "name": "stderr",
     "output_type": "stream",
     "text": []
    },
    {
     "name": "stdout",
     "output_type": "stream",
     "text": [
      "output of the model SequenceClassifierOutput(loss=None, logits=tensor([[-1.0752, -0.8247,  2.5586],\n",
      "        [-1.7422,  2.7324, -0.6694],\n",
      "        [-0.1736,  0.3853, -0.6978],\n",
      "        ...,\n",
      "        [ 0.3867, -2.0410,  1.7363],\n",
      "        [ 0.2322,  0.3672, -1.6035],\n",
      "        [-0.0262, -1.8613,  2.0488]], device='cuda:0', dtype=torch.float16), hidden_states=None, attentions=None)\n"
     ]
    },
    {
     "name": "stderr",
     "output_type": "stream",
     "text": []
    },
    {
     "name": "stdout",
     "output_type": "stream",
     "text": [
      "output of the model SequenceClassifierOutput(loss=None, logits=tensor([[ 0.5376, -2.0488,  1.5479],\n",
      "        [ 0.0604,  0.1295, -0.7310],\n",
      "        [-1.0771, -0.9004,  2.5684],\n",
      "        ...,\n",
      "        [ 1.9238, -2.6562, -0.4270],\n",
      "        [-0.2180, -1.8838,  2.3105],\n",
      "        [ 0.3843, -2.4277,  2.0762]], device='cuda:0', dtype=torch.float16), hidden_states=None, attentions=None)\n"
     ]
    },
    {
     "name": "stderr",
     "output_type": "stream",
     "text": []
    },
    {
     "name": "stdout",
     "output_type": "stream",
     "text": [
      "output of the model SequenceClassifierOutput(loss=None, logits=tensor([[ 0.2047, -2.2598,  2.0566],\n",
      "        [ 1.9443, -2.8340,  0.0102],\n",
      "        [-1.1543,  0.4084,  1.4375],\n",
      "        ...,\n",
      "        [-0.8789, -0.3320,  1.4746],\n",
      "        [ 1.8984, -1.7490, -1.4229],\n",
      "        [-1.0684,  0.2382,  1.5000]], device='cuda:0', dtype=torch.float16), hidden_states=None, attentions=None)\n"
     ]
    },
    {
     "name": "stderr",
     "output_type": "stream",
     "text": []
    },
    {
     "name": "stdout",
     "output_type": "stream",
     "text": [
      "output of the model SequenceClassifierOutput(loss=None, logits=tensor([[-0.8438,  0.4199,  0.8071],\n",
      "        [-0.4094,  0.0497,  0.3765],\n",
      "        [-0.3030, -0.0075,  0.0679],\n",
      "        ...,\n",
      "        [ 0.3181, -2.3086,  2.2246],\n",
      "        [ 0.4055, -1.7314,  1.5068],\n",
      "        [ 1.6572, -1.2393, -1.5020]], device='cuda:0', dtype=torch.float16), hidden_states=None, attentions=None)\n"
     ]
    },
    {
     "name": "stderr",
     "output_type": "stream",
     "text": []
    },
    {
     "name": "stdout",
     "output_type": "stream",
     "text": [
      "output of the model SequenceClassifierOutput(loss=None, logits=tensor([[ 1.7041, -2.3594, -0.3284],\n",
      "        [ 0.4844,  0.3352, -1.6152],\n",
      "        [ 0.5415,  1.1289, -2.0098],\n",
      "        ...,\n",
      "        [-1.7471,  2.6113, -0.1159],\n",
      "        [-1.7822,  2.6738, -0.1471],\n",
      "        [ 0.8374, -1.8467,  0.4460]], device='cuda:0', dtype=torch.float16), hidden_states=None, attentions=None)\n"
     ]
    },
    {
     "name": "stderr",
     "output_type": "stream",
     "text": []
    },
    {
     "name": "stdout",
     "output_type": "stream",
     "text": [
      "output of the model SequenceClassifierOutput(loss=None, logits=tensor([[-1.0029, -0.7271,  2.5527],\n",
      "        [-1.2461, -0.3284,  2.3535],\n",
      "        [-1.6172,  1.2676,  1.2559],\n",
      "        ...,\n",
      "        [-1.1982,  0.0554,  1.8545],\n",
      "        [ 0.1772, -0.9082,  1.4570],\n",
      "        [-0.7466,  0.5684,  0.8594]], device='cuda:0', dtype=torch.float16), hidden_states=None, attentions=None)\n"
     ]
    },
    {
     "name": "stderr",
     "output_type": "stream",
     "text": []
    },
    {
     "name": "stdout",
     "output_type": "stream",
     "text": [
      "output of the model SequenceClassifierOutput(loss=None, logits=tensor([[ 0.7368, -0.2556, -0.4724],\n",
      "        [-1.1826,  1.6680, -0.0533],\n",
      "        [-0.0063, -1.7520,  2.1680],\n",
      "        ...,\n",
      "        [-0.5854, -1.0977,  2.3496],\n",
      "        [-0.3794, -0.5220,  1.8340],\n",
      "        [ 1.9775, -1.8057, -1.3682]], device='cuda:0', dtype=torch.float16), hidden_states=None, attentions=None)\n"
     ]
    },
    {
     "name": "stderr",
     "output_type": "stream",
     "text": []
    },
    {
     "name": "stdout",
     "output_type": "stream",
     "text": [
      "output of the model SequenceClassifierOutput(loss=None, logits=tensor([[-1.5264,  2.8867, -1.1621],\n",
      "        [-1.5908,  2.5293, -0.0112],\n",
      "        [-1.4443,  2.2129, -0.2590],\n",
      "        ...,\n",
      "        [-1.0928,  2.5020, -1.6123],\n",
      "        [-0.9712, -0.8418,  2.4336],\n",
      "        [ 0.1943, -0.6836,  1.2109]], device='cuda:0', dtype=torch.float16), hidden_states=None, attentions=None)\n"
     ]
    },
    {
     "name": "stderr",
     "output_type": "stream",
     "text": []
    },
    {
     "name": "stdout",
     "output_type": "stream",
     "text": [
      "output of the model SequenceClassifierOutput(loss=None, logits=tensor([[-1.3486,  2.6758, -1.0850],\n",
      "        [-0.6782, -1.0635,  2.2969],\n",
      "        [ 0.0844, -2.0059,  2.0469],\n",
      "        ...,\n",
      "        [ 1.3789, -1.4639, -0.9844],\n",
      "        [-0.9546,  1.4434, -0.1155],\n",
      "        [-0.7866, -1.2881,  2.3984]], device='cuda:0', dtype=torch.float16), hidden_states=None, attentions=None)\n"
     ]
    },
    {
     "name": "stderr",
     "output_type": "stream",
     "text": []
    },
    {
     "name": "stdout",
     "output_type": "stream",
     "text": [
      "output of the model SequenceClassifierOutput(loss=None, logits=tensor([[-0.5811, -1.6348,  2.4551],\n",
      "        [-0.4915, -1.6465,  2.3457],\n",
      "        [ 1.6709, -2.3457, -0.4495],\n",
      "        ...,\n",
      "        [-0.9487,  1.4658, -0.0367],\n",
      "        [-0.8921, -1.0898,  2.3711],\n",
      "        [ 1.1670,  0.0146, -1.7334]], device='cuda:0', dtype=torch.float16), hidden_states=None, attentions=None)\n"
     ]
    },
    {
     "name": "stderr",
     "output_type": "stream",
     "text": []
    },
    {
     "name": "stdout",
     "output_type": "stream",
     "text": [
      "output of the model SequenceClassifierOutput(loss=None, logits=tensor([[-0.7432,  1.1396, -0.2362],\n",
      "        [-0.8652, -1.0557,  2.2578],\n",
      "        [-0.9429, -0.6729,  2.2617],\n",
      "        ...,\n",
      "        [-0.5776,  0.9014,  0.1179],\n",
      "        [ 0.0739,  0.7407, -1.2148],\n",
      "        [ 0.2153, -1.2881,  1.2529]], device='cuda:0', dtype=torch.float16), hidden_states=None, attentions=None)\n"
     ]
    },
    {
     "name": "stderr",
     "output_type": "stream",
     "text": []
    },
    {
     "name": "stdout",
     "output_type": "stream",
     "text": [
      "output of the model SequenceClassifierOutput(loss=None, logits=tensor([[ 1.3945, -1.9980,  0.4219],\n",
      "        [ 0.7349, -0.9390, -0.6074],\n",
      "        [-0.1451, -1.5605,  2.0195],\n",
      "        ...,\n",
      "        [-1.1611, -0.5117,  2.4004],\n",
      "        [ 0.2925, -2.3867,  2.0801],\n",
      "        [ 1.0586, -0.8877, -0.2913]], device='cuda:0', dtype=torch.float16), hidden_states=None, attentions=None)\n"
     ]
    },
    {
     "name": "stderr",
     "output_type": "stream",
     "text": []
    },
    {
     "name": "stdout",
     "output_type": "stream",
     "text": [
      "output of the model SequenceClassifierOutput(loss=None, logits=tensor([[-0.3801, -1.8301,  2.5332],\n",
      "        [ 0.3062,  0.2546, -1.7012],\n",
      "        [-1.4697,  0.2646,  2.0703],\n",
      "        ...,\n",
      "        [ 1.9766, -1.6543, -1.5986],\n",
      "        [-1.0850, -0.7505,  2.4492],\n",
      "        [-1.1123, -0.7373,  2.4688]], device='cuda:0', dtype=torch.float16), hidden_states=None, attentions=None)\n"
     ]
    },
    {
     "name": "stderr",
     "output_type": "stream",
     "text": []
    },
    {
     "name": "stdout",
     "output_type": "stream",
     "text": [
      "output of the model SequenceClassifierOutput(loss=None, logits=tensor([[-0.4597, -1.6133,  2.3145],\n",
      "        [-0.9238, -0.5591,  2.0391],\n",
      "        [-0.4519, -1.6748,  2.4316],\n",
      "        ...,\n",
      "        [-0.0641, -1.1377,  1.5400],\n",
      "        [-1.0947, -0.8960,  2.6191],\n",
      "        [-1.2881, -0.6577,  2.4980]], device='cuda:0', dtype=torch.float16), hidden_states=None, attentions=None)\n"
     ]
    },
    {
     "name": "stderr",
     "output_type": "stream",
     "text": []
    },
    {
     "name": "stdout",
     "output_type": "stream",
     "text": [
      "output of the model SequenceClassifierOutput(loss=None, logits=tensor([[-0.9863,  0.7817,  0.5679],\n",
      "        [-0.9141, -1.2656,  2.6367],\n",
      "        [-1.9062,  2.5039,  0.0514],\n",
      "        ...,\n",
      "        [-0.6831, -0.2852,  1.7666],\n",
      "        [ 0.0328, -2.1816,  2.3066],\n",
      "        [-1.4590,  0.1705,  2.1680]], device='cuda:0', dtype=torch.float16), hidden_states=None, attentions=None)\n"
     ]
    },
    {
     "name": "stderr",
     "output_type": "stream",
     "text": []
    },
    {
     "name": "stdout",
     "output_type": "stream",
     "text": [
      "output of the model SequenceClassifierOutput(loss=None, logits=tensor([[-0.7515, -1.3984,  2.5801],\n",
      "        [-0.2422, -1.4961,  2.2617],\n",
      "        [-0.6147, -1.2510,  2.3574],\n",
      "        ...,\n",
      "        [-1.0166,  0.1882,  1.3760],\n",
      "        [-1.4902,  2.6758, -0.7739],\n",
      "        [ 1.7568, -1.3213, -1.3633]], device='cuda:0', dtype=torch.float16), hidden_states=None, attentions=None)\n"
     ]
    },
    {
     "name": "stderr",
     "output_type": "stream",
     "text": []
    },
    {
     "name": "stdout",
     "output_type": "stream",
     "text": [
      "output of the model SequenceClassifierOutput(loss=None, logits=tensor([[ 1.9229, -1.5273, -1.6299],\n",
      "        [-1.7119,  3.0586, -1.0586],\n",
      "        [-1.2930, -0.3176,  2.0879],\n",
      "        ...,\n",
      "        [ 1.7568, -2.5215,  0.1908],\n",
      "        [ 1.7920, -2.0156, -1.1826],\n",
      "        [ 1.9805, -2.1113, -1.1816]], device='cuda:0', dtype=torch.float16), hidden_states=None, attentions=None)\n"
     ]
    },
    {
     "name": "stderr",
     "output_type": "stream",
     "text": []
    },
    {
     "name": "stdout",
     "output_type": "stream",
     "text": [
      "output of the model SequenceClassifierOutput(loss=None, logits=tensor([[ 1.9365, -1.7871, -1.4785],\n",
      "        [ 0.2847, -2.3457,  2.2500],\n",
      "        [-0.5171, -1.5371,  2.4492],\n",
      "        ...,\n",
      "        [-0.9604,  1.3008, -0.4548],\n",
      "        [ 1.8418, -1.0352, -1.8223],\n",
      "        [-0.6040, -0.9072,  2.1855]], device='cuda:0', dtype=torch.float16), hidden_states=None, attentions=None)\n"
     ]
    },
    {
     "name": "stderr",
     "output_type": "stream",
     "text": []
    },
    {
     "name": "stdout",
     "output_type": "stream",
     "text": [
      "output of the model SequenceClassifierOutput(loss=None, logits=tensor([[ 1.8789, -1.8037, -1.3418],\n",
      "        [ 1.1133, -1.2607, -0.0983],\n",
      "        [ 1.7900, -2.0879, -0.4944],\n",
      "        ...,\n",
      "        [-1.6182,  0.9316,  1.7070],\n",
      "        [ 2.0703, -1.8750, -1.2822],\n",
      "        [-0.4792, -1.5283,  2.4434]], device='cuda:0', dtype=torch.float16), hidden_states=None, attentions=None)\n"
     ]
    },
    {
     "name": "stderr",
     "output_type": "stream",
     "text": []
    },
    {
     "name": "stdout",
     "output_type": "stream",
     "text": [
      "output of the model SequenceClassifierOutput(loss=None, logits=tensor([[-0.5752,  0.8506,  0.6089],\n",
      "        [ 0.1094, -0.5786,  1.2422],\n",
      "        [-1.2793,  1.0547,  1.2070],\n",
      "        ...,\n",
      "        [-1.2041,  1.6572,  0.2277],\n",
      "        [-0.4158, -1.4385,  2.2344],\n",
      "        [-1.6357,  1.2666,  1.3623]], device='cuda:0', dtype=torch.float16), hidden_states=None, attentions=None)\n"
     ]
    },
    {
     "name": "stderr",
     "output_type": "stream",
     "text": []
    },
    {
     "name": "stdout",
     "output_type": "stream",
     "text": [
      "output of the model SequenceClassifierOutput(loss=None, logits=tensor([[-1.5146,  2.7207, -0.9932],\n",
      "        [-0.1920,  1.0186, -1.5039],\n",
      "        [-1.4209,  0.0268,  2.2676],\n",
      "        ...,\n",
      "        [-1.1074,  0.6660,  0.9766],\n",
      "        [-0.3445, -0.0837,  0.5654],\n",
      "        [-0.6206, -0.0646,  1.0166]], device='cuda:0', dtype=torch.float16), hidden_states=None, attentions=None)\n"
     ]
    },
    {
     "name": "stderr",
     "output_type": "stream",
     "text": []
    },
    {
     "name": "stdout",
     "output_type": "stream",
     "text": [
      "output of the model SequenceClassifierOutput(loss=None, logits=tensor([[-0.9268, -0.2460,  2.0586],\n",
      "        [ 2.0938, -1.8506, -1.4795],\n",
      "        [ 0.8359, -0.8022, -0.9272],\n",
      "        ...,\n",
      "        [ 1.3135, -2.4668,  0.7686],\n",
      "        [-0.7549,  1.7422, -0.9502],\n",
      "        [-0.7183,  0.7056, -0.1160]], device='cuda:0', dtype=torch.float16), hidden_states=None, attentions=None)\n"
     ]
    },
    {
     "name": "stderr",
     "output_type": "stream",
     "text": []
    },
    {
     "name": "stdout",
     "output_type": "stream",
     "text": [
      "output of the model SequenceClassifierOutput(loss=None, logits=tensor([[-1.0986, -0.4316,  2.3926],\n",
      "        [ 1.6436, -2.1758, -0.7793],\n",
      "        [-0.8467, -0.5430,  2.1777],\n",
      "        ...,\n",
      "        [ 0.9570, -2.4297,  1.1855],\n",
      "        [ 1.7861, -2.4512, -0.3489],\n",
      "        [ 1.1436, -1.7627, -0.2412]], device='cuda:0', dtype=torch.float16), hidden_states=None, attentions=None)\n"
     ]
    },
    {
     "name": "stderr",
     "output_type": "stream",
     "text": []
    },
    {
     "name": "stdout",
     "output_type": "stream",
     "text": [
      "output of the model SequenceClassifierOutput(loss=None, logits=tensor([[-1.7012,  2.4238, -0.2402],\n",
      "        [ 1.9541, -2.2188, -1.0635],\n",
      "        [ 1.9189, -2.2656, -0.9697],\n",
      "        ...,\n",
      "        [ 1.7266, -1.9756, -0.9238],\n",
      "        [ 1.7744, -2.3555, -0.4365],\n",
      "        [-1.1260,  0.3530,  1.3467]], device='cuda:0', dtype=torch.float16), hidden_states=None, attentions=None)\n"
     ]
    },
    {
     "name": "stderr",
     "output_type": "stream",
     "text": []
    },
    {
     "name": "stdout",
     "output_type": "stream",
     "text": [
      "output of the model SequenceClassifierOutput(loss=None, logits=tensor([[ 0.8774, -0.3035, -1.5859],\n",
      "        [-1.5127,  0.2937,  2.1016],\n",
      "        [ 0.3291, -1.7188,  1.5234],\n",
      "        ...,\n",
      "        [-0.2576,  1.2109, -1.6719],\n",
      "        [-1.6621,  1.4629,  1.1318],\n",
      "        [ 0.6484, -2.0801,  1.5381]], device='cuda:0', dtype=torch.float16), hidden_states=None, attentions=None)\n"
     ]
    },
    {
     "name": "stderr",
     "output_type": "stream",
     "text": []
    },
    {
     "name": "stdout",
     "output_type": "stream",
     "text": [
      "output of the model SequenceClassifierOutput(loss=None, logits=tensor([[-0.0598, -1.1973,  1.4355],\n",
      "        [-1.1445,  0.4387,  1.3516],\n",
      "        [-1.6064,  1.2051,  1.3135],\n",
      "        ...,\n",
      "        [ 1.8799, -1.9238, -1.2119],\n",
      "        [ 0.1959, -2.0508,  2.1035],\n",
      "        [ 0.1213,  0.8838, -1.3926]], device='cuda:0', dtype=torch.float16), hidden_states=None, attentions=None)\n"
     ]
    },
    {
     "name": "stderr",
     "output_type": "stream",
     "text": []
    },
    {
     "name": "stdout",
     "output_type": "stream",
     "text": [
      "output of the model SequenceClassifierOutput(loss=None, logits=tensor([[ 0.7095, -2.5625,  1.9922],\n",
      "        [-1.1045, -0.7988,  2.5449],\n",
      "        [-1.8926,  2.6250,  0.3757],\n",
      "        ...,\n",
      "        [-0.6733, -1.5195,  2.5586],\n",
      "        [ 0.9634, -1.4287, -0.1680],\n",
      "        [ 1.7549, -2.4980, -0.0767]], device='cuda:0', dtype=torch.float16), hidden_states=None, attentions=None)\n"
     ]
    },
    {
     "name": "stderr",
     "output_type": "stream",
     "text": []
    },
    {
     "name": "stdout",
     "output_type": "stream",
     "text": [
      "output of the model SequenceClassifierOutput(loss=None, logits=tensor([[ 1.6426, -2.2402, -0.3450],\n",
      "        [ 1.8535, -1.8232, -1.2939],\n",
      "        [ 0.1399,  0.5405, -1.6387],\n",
      "        ...,\n",
      "        [-1.6885,  2.3066, -0.2664],\n",
      "        [-0.6475, -1.4785,  2.5645],\n",
      "        [-0.0773,  0.1164, -0.4233]], device='cuda:0', dtype=torch.float16), hidden_states=None, attentions=None)\n"
     ]
    },
    {
     "name": "stderr",
     "output_type": "stream",
     "text": []
    },
    {
     "name": "stdout",
     "output_type": "stream",
     "text": [
      "output of the model SequenceClassifierOutput(loss=None, logits=tensor([[ 1.8457, -1.4990, -1.5430],\n",
      "        [-0.3757, -0.5225,  1.5391],\n",
      "        [-1.0566, -0.3022,  2.0566],\n",
      "        ...,\n",
      "        [ 0.9404, -2.5742,  1.6504],\n",
      "        [-0.8433, -0.7461,  2.3789],\n",
      "        [-0.6279, -0.1652,  1.8672]], device='cuda:0', dtype=torch.float16), hidden_states=None, attentions=None)\n"
     ]
    },
    {
     "name": "stderr",
     "output_type": "stream",
     "text": []
    },
    {
     "name": "stdout",
     "output_type": "stream",
     "text": [
      "output of the model SequenceClassifierOutput(loss=None, logits=tensor([[-1.4209, -0.4001,  2.4219],\n",
      "        [ 0.3472, -2.3828,  2.0098],\n",
      "        [ 1.8174, -1.3535, -1.6133],\n",
      "        ...,\n",
      "        [ 1.9502, -2.4961, -0.8398],\n",
      "        [-0.1456, -1.7803,  2.0723],\n",
      "        [ 0.2710,  1.4287, -2.2402]], device='cuda:0', dtype=torch.float16), hidden_states=None, attentions=None)\n"
     ]
    },
    {
     "name": "stderr",
     "output_type": "stream",
     "text": []
    },
    {
     "name": "stdout",
     "output_type": "stream",
     "text": [
      "output of the model SequenceClassifierOutput(loss=None, logits=tensor([[ 2.0469, -2.6172, -0.6348],\n",
      "        [ 1.7832, -2.9531,  0.5859],\n",
      "        [ 1.6768, -2.4941,  0.0167],\n",
      "        ...,\n",
      "        [-0.4468,  1.4541, -1.5791],\n",
      "        [-0.2588,  1.0752, -1.5908],\n",
      "        [-1.8896,  2.9648, -0.5342]], device='cuda:0', dtype=torch.float16), hidden_states=None, attentions=None)\n"
     ]
    },
    {
     "name": "stderr",
     "output_type": "stream",
     "text": []
    },
    {
     "name": "stdout",
     "output_type": "stream",
     "text": [
      "output of the model SequenceClassifierOutput(loss=None, logits=tensor([[ 0.1188, -2.0312,  2.1758],\n",
      "        [-0.6143, -1.3682,  2.2578],\n",
      "        [-0.4993,  1.9482, -1.8750],\n",
      "        ...,\n",
      "        [-0.3313, -0.8823,  1.5439],\n",
      "        [-0.9648,  0.0305,  1.5576],\n",
      "        [-0.7456, -1.1787,  2.4512]], device='cuda:0', dtype=torch.float16), hidden_states=None, attentions=None)\n"
     ]
    },
    {
     "name": "stderr",
     "output_type": "stream",
     "text": []
    },
    {
     "name": "stdout",
     "output_type": "stream",
     "text": [
      "output of the model SequenceClassifierOutput(loss=None, logits=tensor([[-0.9878,  0.0806,  1.4277],\n",
      "        [-0.1272, -1.2578,  1.5273],\n",
      "        [-1.2959,  1.3193,  0.9014],\n",
      "        ...,\n",
      "        [ 1.2686, -0.7129, -0.9062],\n",
      "        [ 0.0129, -2.1230,  2.0742],\n",
      "        [-1.3193,  2.5293, -1.1074]], device='cuda:0', dtype=torch.float16), hidden_states=None, attentions=None)\n"
     ]
    },
    {
     "name": "stderr",
     "output_type": "stream",
     "text": []
    },
    {
     "name": "stdout",
     "output_type": "stream",
     "text": [
      "output of the model SequenceClassifierOutput(loss=None, logits=tensor([[-0.4661, -0.9014,  2.0430],\n",
      "        [-0.0237,  1.3555, -1.4043],\n",
      "        [-0.2017, -0.4312,  1.3525],\n",
      "        ...,\n",
      "        [-0.4583, -1.1328,  2.2637],\n",
      "        [-1.6807,  2.9531, -1.0176],\n",
      "        [-1.6025,  2.8867, -0.9653]], device='cuda:0', dtype=torch.float16), hidden_states=None, attentions=None)\n"
     ]
    },
    {
     "name": "stderr",
     "output_type": "stream",
     "text": []
    },
    {
     "name": "stdout",
     "output_type": "stream",
     "text": [
      "output of the model SequenceClassifierOutput(loss=None, logits=tensor([[-0.3364, -0.2314,  0.6177],\n",
      "        [ 1.8721, -1.6533, -1.4922],\n",
      "        [-0.7656, -0.6641,  2.0859],\n",
      "        ...,\n",
      "        [ 0.0723, -0.4351,  0.8267],\n",
      "        [-0.6670, -0.3621,  1.5410],\n",
      "        [ 2.0469, -1.5840, -1.6816]], device='cuda:0', dtype=torch.float16), hidden_states=None, attentions=None)\n"
     ]
    },
    {
     "name": "stderr",
     "output_type": "stream",
     "text": []
    },
    {
     "name": "stdout",
     "output_type": "stream",
     "text": [
      "output of the model SequenceClassifierOutput(loss=None, logits=tensor([[-1.5615,  1.6162,  0.9346],\n",
      "        [-1.3145, -0.5410,  2.5723],\n",
      "        [ 2.0039, -1.4424, -1.7422],\n",
      "        ...,\n",
      "        [ 0.0474, -1.0869,  1.7129],\n",
      "        [ 0.0474, -1.0869,  1.7129],\n",
      "        [-0.7031, -1.4033,  2.4648]], device='cuda:0', dtype=torch.float16), hidden_states=None, attentions=None)\n"
     ]
    },
    {
     "name": "stderr",
     "output_type": "stream",
     "text": []
    },
    {
     "name": "stdout",
     "output_type": "stream",
     "text": [
      "output of the model SequenceClassifierOutput(loss=None, logits=tensor([[-0.1353, -1.9658,  2.2871],\n",
      "        [-0.2192, -1.6025,  2.2246],\n",
      "        [ 1.2744, -2.4902,  0.4094],\n",
      "        ...,\n",
      "        [ 0.2297,  0.2517, -1.3262],\n",
      "        [ 1.2441, -2.3945,  0.6553],\n",
      "        [-0.8296, -1.1191,  2.4941]], device='cuda:0', dtype=torch.float16), hidden_states=None, attentions=None)\n"
     ]
    },
    {
     "name": "stderr",
     "output_type": "stream",
     "text": []
    },
    {
     "name": "stdout",
     "output_type": "stream",
     "text": [
      "output of the model SequenceClassifierOutput(loss=None, logits=tensor([[-0.9692, -0.6782,  2.4570],\n",
      "        [ 1.6875, -2.4199,  0.2250],\n",
      "        [ 1.2783, -1.7686, -0.1713],\n",
      "        ...,\n",
      "        [ 1.7686, -2.3027, -0.5264],\n",
      "        [-0.2019, -1.9688,  2.3496],\n",
      "        [-1.2900,  1.0010,  0.9800]], device='cuda:0', dtype=torch.float16), hidden_states=None, attentions=None)\n"
     ]
    },
    {
     "name": "stderr",
     "output_type": "stream",
     "text": []
    },
    {
     "name": "stdout",
     "output_type": "stream",
     "text": [
      "output of the model SequenceClassifierOutput(loss=None, logits=tensor([[-1.1055, -0.6860,  2.2637],\n",
      "        [-1.2988, -0.4771,  2.5371],\n",
      "        [ 0.3906, -1.5615,  1.8584],\n",
      "        ...,\n",
      "        [-0.0853, -2.0625,  2.2988],\n",
      "        [ 0.6548, -2.0879,  1.1943],\n",
      "        [-0.9375, -1.1475,  2.5527]], device='cuda:0', dtype=torch.float16), hidden_states=None, attentions=None)\n"
     ]
    },
    {
     "name": "stderr",
     "output_type": "stream",
     "text": []
    },
    {
     "name": "stdout",
     "output_type": "stream",
     "text": [
      "output of the model SequenceClassifierOutput(loss=None, logits=tensor([[-1.5527,  1.0195,  1.5127],\n",
      "        [-1.6650,  2.6621, -0.6152],\n",
      "        [-1.2500, -0.4050,  2.5430],\n",
      "        ...,\n",
      "        [-0.8096, -0.9756,  2.4180],\n",
      "        [ 1.6201, -2.2363, -0.2637],\n",
      "        [-1.2383, -0.5835,  2.5684]], device='cuda:0', dtype=torch.float16), hidden_states=None, attentions=None)\n"
     ]
    },
    {
     "name": "stderr",
     "output_type": "stream",
     "text": []
    },
    {
     "name": "stdout",
     "output_type": "stream",
     "text": [
      "output of the model SequenceClassifierOutput(loss=None, logits=tensor([[-0.0047, -2.1133,  2.3672],\n",
      "        [ 0.2693, -2.3320,  2.2734],\n",
      "        [ 1.1533, -2.4766,  1.0918],\n",
      "        ...,\n",
      "        [ 0.0044, -1.7305,  2.0371],\n",
      "        [-1.7959,  2.8945, -0.7544],\n",
      "        [ 0.2410, -1.8984,  1.6592]], device='cuda:0', dtype=torch.float16), hidden_states=None, attentions=None)\n"
     ]
    },
    {
     "name": "stderr",
     "output_type": "stream",
     "text": []
    },
    {
     "name": "stdout",
     "output_type": "stream",
     "text": [
      "output of the model SequenceClassifierOutput(loss=None, logits=tensor([[ 8.2568e-01, -2.6055e+00,  1.7920e+00],\n",
      "        [ 2.0098e+00, -2.3926e+00, -6.6211e-01],\n",
      "        [ 2.1055e+00, -1.8525e+00, -1.4160e+00],\n",
      "        ...,\n",
      "        [-1.3256e-03, -7.3486e-02, -1.3403e-01],\n",
      "        [ 6.4258e-01, -2.1328e+00,  1.4199e+00],\n",
      "        [ 1.3330e+00, -2.3320e+00,  3.3545e-01]], device='cuda:0',\n",
      "       dtype=torch.float16), hidden_states=None, attentions=None)\n"
     ]
    },
    {
     "name": "stderr",
     "output_type": "stream",
     "text": []
    },
    {
     "name": "stdout",
     "output_type": "stream",
     "text": [
      "output of the model SequenceClassifierOutput(loss=None, logits=tensor([[-1.2812,  2.5137, -0.9482],\n",
      "        [-0.2871,  0.3765, -0.3347],\n",
      "        [ 0.9033, -2.5352,  1.3750],\n",
      "        ...,\n",
      "        [-0.0046, -0.4482, -0.0136],\n",
      "        [ 1.2529, -0.5068, -1.7754],\n",
      "        [ 1.8643, -1.0732, -1.8770]], device='cuda:0', dtype=torch.float16), hidden_states=None, attentions=None)\n"
     ]
    },
    {
     "name": "stderr",
     "output_type": "stream",
     "text": []
    },
    {
     "name": "stdout",
     "output_type": "stream",
     "text": [
      "output of the model SequenceClassifierOutput(loss=None, logits=tensor([[-0.0598, -1.1973,  1.4355],\n",
      "        [-1.1309,  0.7891,  0.8457],\n",
      "        [ 1.9531, -2.7090,  0.0292],\n",
      "        ...,\n",
      "        [ 1.4512, -1.1797, -1.1162],\n",
      "        [-1.3682, -0.3416,  2.3438],\n",
      "        [-0.2415, -1.9326,  2.4902]], device='cuda:0', dtype=torch.float16), hidden_states=None, attentions=None)\n"
     ]
    },
    {
     "name": "stderr",
     "output_type": "stream",
     "text": []
    },
    {
     "name": "stdout",
     "output_type": "stream",
     "text": [
      "output of the model SequenceClassifierOutput(loss=None, logits=tensor([[-1.4121,  1.3125,  1.0303],\n",
      "        [-1.5811,  1.7842,  0.8770],\n",
      "        [-0.5117, -1.4678,  2.5391],\n",
      "        ...,\n",
      "        [-0.4973, -1.5146,  2.3750],\n",
      "        [ 0.7466, -2.1699,  1.3262],\n",
      "        [ 1.9043, -2.5547, -0.3831]], device='cuda:0', dtype=torch.float16), hidden_states=None, attentions=None)\n"
     ]
    },
    {
     "name": "stderr",
     "output_type": "stream",
     "text": []
    },
    {
     "name": "stdout",
     "output_type": "stream",
     "text": [
      "output of the model SequenceClassifierOutput(loss=None, logits=tensor([[-0.1251, -1.4033,  1.6895],\n",
      "        [-1.0879, -0.7109,  2.4590],\n",
      "        [ 1.4932, -1.0000, -1.3525],\n",
      "        ...,\n",
      "        [-1.6367,  1.7021,  0.8389],\n",
      "        [ 1.3779, -1.5117, -0.6616],\n",
      "        [ 0.8608, -2.2227,  0.9253]], device='cuda:0', dtype=torch.float16), hidden_states=None, attentions=None)\n"
     ]
    },
    {
     "name": "stderr",
     "output_type": "stream",
     "text": []
    },
    {
     "name": "stdout",
     "output_type": "stream",
     "text": [
      "output of the model SequenceClassifierOutput(loss=None, logits=tensor([[-1.5254,  2.3516, -0.2451],\n",
      "        [-0.2634, -1.8584,  2.4434],\n",
      "        [-1.7461,  2.9434, -0.6006],\n",
      "        ...,\n",
      "        [ 1.4453, -2.7852,  1.0488],\n",
      "        [-0.9048, -1.2988,  2.5117],\n",
      "        [-1.4277,  2.4102, -0.6045]], device='cuda:0', dtype=torch.float16), hidden_states=None, attentions=None)\n"
     ]
    },
    {
     "name": "stderr",
     "output_type": "stream",
     "text": []
    },
    {
     "name": "stdout",
     "output_type": "stream",
     "text": [
      "output of the model SequenceClassifierOutput(loss=None, logits=tensor([[-1.8271,  2.7070,  0.1886],\n",
      "        [ 1.8838, -1.4072, -1.5859],\n",
      "        [-0.6318,  1.5176, -0.7891],\n",
      "        ...,\n",
      "        [-1.3320,  1.8213,  0.4377],\n",
      "        [-1.1309, -0.5508,  2.3145],\n",
      "        [ 1.9736, -1.8242, -1.4854]], device='cuda:0', dtype=torch.float16), hidden_states=None, attentions=None)\n"
     ]
    },
    {
     "name": "stderr",
     "output_type": "stream",
     "text": []
    },
    {
     "name": "stdout",
     "output_type": "stream",
     "text": [
      "output of the model SequenceClassifierOutput(loss=None, logits=tensor([[-1.2822,  2.5898, -1.0576],\n",
      "        [-1.0420,  0.4167,  1.4717],\n",
      "        [ 1.9033, -2.3750, -0.7026],\n",
      "        ...,\n",
      "        [-1.5420,  1.8135,  0.5439],\n",
      "        [-0.2632,  0.2568, -0.0656],\n",
      "        [-1.4893,  0.3103,  2.0625]], device='cuda:0', dtype=torch.float16), hidden_states=None, attentions=None)\n"
     ]
    },
    {
     "name": "stderr",
     "output_type": "stream",
     "text": []
    },
    {
     "name": "stdout",
     "output_type": "stream",
     "text": [
      "output of the model SequenceClassifierOutput(loss=None, logits=tensor([[-0.5459, -1.7334,  2.5742],\n",
      "        [-0.6123, -1.4062,  2.4492],\n",
      "        [-0.9272, -0.8896,  2.4727],\n",
      "        ...,\n",
      "        [ 1.3154, -0.4958, -1.7607],\n",
      "        [-1.8232,  2.9766, -0.7588],\n",
      "        [ 0.2864,  0.4351, -1.4033]], device='cuda:0', dtype=torch.float16), hidden_states=None, attentions=None)\n"
     ]
    },
    {
     "name": "stderr",
     "output_type": "stream",
     "text": []
    },
    {
     "name": "stdout",
     "output_type": "stream",
     "text": [
      "output of the model SequenceClassifierOutput(loss=None, logits=tensor([[-1.7598,  3.0078, -0.9536],\n",
      "        [-1.7432,  2.9238, -0.7349],\n",
      "        [-1.7627,  2.9941, -0.9570],\n",
      "        ...,\n",
      "        [ 0.5747, -1.6348,  0.4980],\n",
      "        [ 0.8301, -2.5664,  1.5635],\n",
      "        [ 0.5342, -2.4277,  1.9912]], device='cuda:0', dtype=torch.float16), hidden_states=None, attentions=None)\n"
     ]
    },
    {
     "name": "stderr",
     "output_type": "stream",
     "text": []
    },
    {
     "name": "stdout",
     "output_type": "stream",
     "text": [
      "output of the model SequenceClassifierOutput(loss=None, logits=tensor([[ 1.3750, -2.1445,  0.1903],\n",
      "        [ 0.6328, -2.1641,  1.5342],\n",
      "        [ 0.6494, -0.2546, -1.3398],\n",
      "        ...,\n",
      "        [-0.9370, -0.8823,  2.4609],\n",
      "        [-0.8408, -0.3127,  1.9707],\n",
      "        [-1.3145,  2.1641, -0.0650]], device='cuda:0', dtype=torch.float16), hidden_states=None, attentions=None)\n"
     ]
    },
    {
     "name": "stderr",
     "output_type": "stream",
     "text": []
    },
    {
     "name": "stdout",
     "output_type": "stream",
     "text": [
      "output of the model SequenceClassifierOutput(loss=None, logits=tensor([[-0.8628,  1.7041, -0.4185],\n",
      "        [-1.6592,  2.6582, -0.6172],\n",
      "        [-1.6592,  2.6582, -0.6172],\n",
      "        ...,\n",
      "        [-1.9209,  2.9219, -0.5312],\n",
      "        [-1.8945,  2.8887, -0.4773],\n",
      "        [ 0.1770, -0.9233,  0.8052]], device='cuda:0', dtype=torch.float16), hidden_states=None, attentions=None)\n"
     ]
    },
    {
     "name": "stderr",
     "output_type": "stream",
     "text": []
    },
    {
     "name": "stdout",
     "output_type": "stream",
     "text": [
      "output of the model SequenceClassifierOutput(loss=None, logits=tensor([[-0.3877, -0.7676,  1.8184],\n",
      "        [-0.8467, -0.5430,  2.1777],\n",
      "        [ 1.5283, -1.8887, -0.5801],\n",
      "        ...,\n",
      "        [-0.9697,  0.2334,  1.2246],\n",
      "        [-1.2607, -0.4080,  2.1406],\n",
      "        [-0.9468,  0.9785,  0.3389]], device='cuda:0', dtype=torch.float16), hidden_states=None, attentions=None)\n"
     ]
    },
    {
     "name": "stderr",
     "output_type": "stream",
     "text": []
    },
    {
     "name": "stdout",
     "output_type": "stream",
     "text": [
      "output of the model SequenceClassifierOutput(loss=None, logits=tensor([[-1.1377, -0.7939,  2.6016],\n",
      "        [ 0.5801, -0.5103, -0.7988],\n",
      "        [-1.8076,  3.0117, -0.9346],\n",
      "        ...,\n",
      "        [-0.3523,  0.1390,  0.1864],\n",
      "        [ 0.6323,  0.0427, -1.5713],\n",
      "        [-0.7607, -0.7959,  2.3945]], device='cuda:0', dtype=torch.float16), hidden_states=None, attentions=None)\n"
     ]
    },
    {
     "name": "stderr",
     "output_type": "stream",
     "text": []
    },
    {
     "name": "stdout",
     "output_type": "stream",
     "text": [
      "output of the model SequenceClassifierOutput(loss=None, logits=tensor([[-1.4717,  0.2578,  2.0625],\n",
      "        [-1.1484, -0.6260,  2.3242],\n",
      "        [-1.6250,  0.4763,  2.2715],\n",
      "        ...,\n",
      "        [ 0.0928, -2.1719,  2.2617],\n",
      "        [ 0.0914, -2.1348,  2.1738],\n",
      "        [ 0.5024, -0.4011, -1.0352]], device='cuda:0', dtype=torch.float16), hidden_states=None, attentions=None)\n"
     ]
    },
    {
     "name": "stderr",
     "output_type": "stream",
     "text": []
    },
    {
     "name": "stdout",
     "output_type": "stream",
     "text": [
      "output of the model SequenceClassifierOutput(loss=None, logits=tensor([[ 0.2072, -2.1426,  2.0996],\n",
      "        [-0.0385, -1.9238,  2.1465],\n",
      "        [-0.1885, -1.8838,  2.2695],\n",
      "        ...,\n",
      "        [-1.4189,  0.1110,  2.2129],\n",
      "        [-1.5898,  1.1729,  1.6035],\n",
      "        [-1.8408,  2.1523,  0.8740]], device='cuda:0', dtype=torch.float16), hidden_states=None, attentions=None)\n"
     ]
    },
    {
     "name": "stderr",
     "output_type": "stream",
     "text": []
    },
    {
     "name": "stdout",
     "output_type": "stream",
     "text": [
      "output of the model SequenceClassifierOutput(loss=None, logits=tensor([[-1.2764, -0.2366,  2.2227],\n",
      "        [-1.0811,  0.8501,  0.4575],\n",
      "        [-1.3115, -0.0328,  2.2461],\n",
      "        ...,\n",
      "        [-1.4971,  2.8730, -1.2549],\n",
      "        [ 0.0161, -0.5591,  1.3428],\n",
      "        [ 1.1182, -1.4043, -0.9448]], device='cuda:0', dtype=torch.float16), hidden_states=None, attentions=None)\n"
     ]
    },
    {
     "name": "stderr",
     "output_type": "stream",
     "text": []
    },
    {
     "name": "stdout",
     "output_type": "stream",
     "text": [
      "output of the model SequenceClassifierOutput(loss=None, logits=tensor([[ 0.2148, -2.2344,  2.1406],\n",
      "        [ 0.0833, -0.2683, -0.2737],\n",
      "        [-1.4951,  0.3210,  2.0547],\n",
      "        ...,\n",
      "        [-0.5488, -1.2822,  2.3789],\n",
      "        [-1.5791,  2.8379, -1.0879],\n",
      "        [-1.4121,  1.3125,  1.0303]], device='cuda:0', dtype=torch.float16), hidden_states=None, attentions=None)\n"
     ]
    },
    {
     "name": "stderr",
     "output_type": "stream",
     "text": []
    },
    {
     "name": "stdout",
     "output_type": "stream",
     "text": [
      "output of the model SequenceClassifierOutput(loss=None, logits=tensor([[-0.5176,  0.0717,  0.7842],\n",
      "        [-1.0957,  2.2559, -1.1260],\n",
      "        [ 1.9473, -2.1426, -0.9795],\n",
      "        ...,\n",
      "        [-0.7969, -1.1562,  2.4648],\n",
      "        [-0.2174, -0.2328,  1.2031],\n",
      "        [ 1.6416, -2.5996,  0.2397]], device='cuda:0', dtype=torch.float16), hidden_states=None, attentions=None)\n"
     ]
    },
    {
     "name": "stderr",
     "output_type": "stream",
     "text": []
    },
    {
     "name": "stdout",
     "output_type": "stream",
     "text": [
      "output of the model SequenceClassifierOutput(loss=None, logits=tensor([[ 0.3271,  0.3374, -1.4160],\n",
      "        [-1.5928,  2.8965, -1.0107],\n",
      "        [ 0.6040, -2.3203,  2.0039],\n",
      "        ...,\n",
      "        [ 1.7842, -2.1816, -0.8066],\n",
      "        [-0.2292, -1.1846,  1.8369],\n",
      "        [ 2.0449, -1.8223, -1.5459]], device='cuda:0', dtype=torch.float16), hidden_states=None, attentions=None)\n"
     ]
    },
    {
     "name": "stderr",
     "output_type": "stream",
     "text": []
    },
    {
     "name": "stdout",
     "output_type": "stream",
     "text": [
      "output of the model SequenceClassifierOutput(loss=None, logits=tensor([[-0.9688, -0.4543,  2.0586],\n",
      "        [-1.6934,  1.5352,  1.0664],\n",
      "        [-0.9697,  0.2334,  1.2246],\n",
      "        ...,\n",
      "        [-1.5049,  0.5088,  1.7207],\n",
      "        [-1.4883,  1.0098,  1.2168],\n",
      "        [ 1.7900, -1.5020, -1.2051]], device='cuda:0', dtype=torch.float16), hidden_states=None, attentions=None)\n"
     ]
    },
    {
     "name": "stderr",
     "output_type": "stream",
     "text": []
    },
    {
     "name": "stdout",
     "output_type": "stream",
     "text": [
      "output of the model SequenceClassifierOutput(loss=None, logits=tensor([[ 0.0682,  0.3704, -1.4424],\n",
      "        [-0.7817, -0.7720,  2.1445],\n",
      "        [-0.9614, -0.6670,  2.2695],\n",
      "        ...,\n",
      "        [-0.0255, -1.8789,  2.2285],\n",
      "        [ 1.7852, -2.6641,  0.1348],\n",
      "        [ 0.0417, -2.1074,  2.0742]], device='cuda:0', dtype=torch.float16), hidden_states=None, attentions=None)\n"
     ]
    },
    {
     "name": "stderr",
     "output_type": "stream",
     "text": []
    },
    {
     "name": "stdout",
     "output_type": "stream",
     "text": [
      "output of the model SequenceClassifierOutput(loss=None, logits=tensor([[-0.3557, -1.8457,  2.3789],\n",
      "        [-1.8018,  2.7324, -0.7080],\n",
      "        [-1.3564,  1.1084,  1.2266],\n",
      "        ...,\n",
      "        [-1.6299,  0.9038,  1.7031],\n",
      "        [-1.5020,  1.7715,  0.6655],\n",
      "        [-1.6299,  1.9697,  0.4934]], device='cuda:0', dtype=torch.float16), hidden_states=None, attentions=None)\n"
     ]
    },
    {
     "name": "stderr",
     "output_type": "stream",
     "text": []
    },
    {
     "name": "stdout",
     "output_type": "stream",
     "text": [
      "output of the model SequenceClassifierOutput(loss=None, logits=tensor([[-1.3262, -0.5181,  2.6738],\n",
      "        [-1.8955,  2.8164, -0.5571],\n",
      "        [-0.3218, -1.8574,  2.3633],\n",
      "        ...,\n",
      "        [-1.0752, -0.7705,  2.3516],\n",
      "        [-1.5742,  2.4707, -0.4480],\n",
      "        [-1.6436,  1.7920,  0.7446]], device='cuda:0', dtype=torch.float16), hidden_states=None, attentions=None)\n"
     ]
    },
    {
     "name": "stderr",
     "output_type": "stream",
     "text": []
    },
    {
     "name": "stdout",
     "output_type": "stream",
     "text": [
      "output of the model SequenceClassifierOutput(loss=None, logits=tensor([[-0.8467, -0.5430,  2.1777],\n",
      "        [-0.1907, -1.9297,  2.2969],\n",
      "        [ 0.5967, -0.1610, -1.4834],\n",
      "        ...,\n",
      "        [-1.9131,  2.9883, -0.6484],\n",
      "        [-1.0264, -1.0029,  2.5371],\n",
      "        [-0.8750,  1.0400,  0.1354]], device='cuda:0', dtype=torch.float16), hidden_states=None, attentions=None)\n"
     ]
    },
    {
     "name": "stderr",
     "output_type": "stream",
     "text": []
    },
    {
     "name": "stdout",
     "output_type": "stream",
     "text": [
      "output of the model SequenceClassifierOutput(loss=None, logits=tensor([[-1.8857,  2.4922,  0.2223],\n",
      "        [ 1.2822, -1.9609,  0.1646],\n",
      "        [ 1.2969, -2.0000,  0.1636],\n",
      "        ...,\n",
      "        [-0.1851,  1.1660, -1.5449],\n",
      "        [-0.4338, -1.7129,  2.4707],\n",
      "        [ 0.0782,  0.6377, -1.6982]], device='cuda:0', dtype=torch.float16), hidden_states=None, attentions=None)\n"
     ]
    },
    {
     "name": "stderr",
     "output_type": "stream",
     "text": []
    },
    {
     "name": "stdout",
     "output_type": "stream",
     "text": [
      "output of the model SequenceClassifierOutput(loss=None, logits=tensor([[ 0.1071,  0.5293, -1.6387],\n",
      "        [ 0.0177,  0.2423, -0.9834],\n",
      "        [ 1.7539, -0.9233, -1.8408],\n",
      "        ...,\n",
      "        [ 0.1821,  0.3479, -1.3965],\n",
      "        [ 0.7285, -2.0723,  1.2852],\n",
      "        [ 0.6704, -2.1250,  1.3730]], device='cuda:0', dtype=torch.float16), hidden_states=None, attentions=None)\n"
     ]
    },
    {
     "name": "stderr",
     "output_type": "stream",
     "text": []
    },
    {
     "name": "stdout",
     "output_type": "stream",
     "text": [
      "output of the model SequenceClassifierOutput(loss=None, logits=tensor([[ 0.8418, -2.6406,  1.8232],\n",
      "        [-0.9761,  0.2316,  1.5508],\n",
      "        [ 0.1465, -1.9385,  2.0137],\n",
      "        ...,\n",
      "        [-0.0931, -1.9531,  2.2480],\n",
      "        [ 0.0621, -1.0977,  1.3174],\n",
      "        [-0.6870,  0.1915,  0.4819]], device='cuda:0', dtype=torch.float16), hidden_states=None, attentions=None)\n"
     ]
    },
    {
     "name": "stderr",
     "output_type": "stream",
     "text": []
    },
    {
     "name": "stdout",
     "output_type": "stream",
     "text": [
      "output of the model SequenceClassifierOutput(loss=None, logits=tensor([[-1.4355,  0.1138,  2.1934],\n",
      "        [-1.0928, -0.8931,  2.5234],\n",
      "        [ 1.7656, -2.9023,  0.7495],\n",
      "        ...,\n",
      "        [-1.6680,  1.7002,  1.0693],\n",
      "        [-0.8726, -0.8774,  2.3867],\n",
      "        [-0.5708, -1.5918,  2.3691]], device='cuda:0', dtype=torch.float16), hidden_states=None, attentions=None)\n"
     ]
    },
    {
     "name": "stderr",
     "output_type": "stream",
     "text": []
    },
    {
     "name": "stdout",
     "output_type": "stream",
     "text": [
      "output of the model SequenceClassifierOutput(loss=None, logits=tensor([[ 1.5898, -2.7070,  0.6992],\n",
      "        [-0.6572, -1.5576,  2.4141],\n",
      "        [-0.5898, -1.5830,  2.3906],\n",
      "        ...,\n",
      "        [-1.1865,  0.2571,  1.9473],\n",
      "        [-0.9136,  0.2891,  0.5601],\n",
      "        [-1.6992,  2.9609, -0.9653]], device='cuda:0', dtype=torch.float16), hidden_states=None, attentions=None)\n"
     ]
    },
    {
     "name": "stderr",
     "output_type": "stream",
     "text": []
    },
    {
     "name": "stdout",
     "output_type": "stream",
     "text": [
      "output of the model SequenceClassifierOutput(loss=None, logits=tensor([[-1.3945, -0.0452,  2.3125],\n",
      "        [-1.6279,  1.3936,  1.1660],\n",
      "        [-0.5762, -0.1897,  0.5879],\n",
      "        ...,\n",
      "        [-0.9448,  1.8818, -0.9722],\n",
      "        [ 0.2917, -0.5566, -0.6919],\n",
      "        [-1.2598,  2.1113, -0.6221]], device='cuda:0', dtype=torch.float16), hidden_states=None, attentions=None)\n"
     ]
    },
    {
     "name": "stderr",
     "output_type": "stream",
     "text": []
    },
    {
     "name": "stdout",
     "output_type": "stream",
     "text": [
      "output of the model SequenceClassifierOutput(loss=None, logits=tensor([[-0.4443,  1.0703, -1.0303],\n",
      "        [ 0.3279,  0.3684, -1.7441],\n",
      "        [-1.9277,  2.8262, -0.2003],\n",
      "        ...,\n",
      "        [-1.2549,  2.2188, -0.5952],\n",
      "        [-1.0010, -0.8770,  2.2832],\n",
      "        [-1.3896, -0.1671,  2.4004]], device='cuda:0', dtype=torch.float16), hidden_states=None, attentions=None)\n"
     ]
    },
    {
     "name": "stderr",
     "output_type": "stream",
     "text": []
    },
    {
     "name": "stdout",
     "output_type": "stream",
     "text": [
      "output of the model SequenceClassifierOutput(loss=None, logits=tensor([[ 0.9351, -1.9678,  1.1250],\n",
      "        [-1.4072,  2.7188, -1.0195],\n",
      "        [-1.8145,  2.9492, -0.7495],\n",
      "        ...,\n",
      "        [ 0.7476, -0.4495, -0.9316],\n",
      "        [ 1.7041, -2.0859, -0.8623],\n",
      "        [-1.2705, -0.4490,  2.4746]], device='cuda:0', dtype=torch.float16), hidden_states=None, attentions=None)\n"
     ]
    },
    {
     "name": "stderr",
     "output_type": "stream",
     "text": []
    },
    {
     "name": "stdout",
     "output_type": "stream",
     "text": [
      "output of the model SequenceClassifierOutput(loss=None, logits=tensor([[-1.5684,  0.2037,  2.2539],\n",
      "        [-1.4404,  0.2148,  2.0527],\n",
      "        [-1.0303, -0.8018,  2.3418],\n",
      "        ...,\n",
      "        [ 0.3159,  0.3352, -1.5576],\n",
      "        [-1.3359, -0.2062,  2.3086],\n",
      "        [-0.2854,  0.8486, -1.2725]], device='cuda:0', dtype=torch.float16), hidden_states=None, attentions=None)\n"
     ]
    },
    {
     "name": "stderr",
     "output_type": "stream",
     "text": []
    },
    {
     "name": "stdout",
     "output_type": "stream",
     "text": [
      "output of the model SequenceClassifierOutput(loss=None, logits=tensor([[ 0.1470, -0.0891, -0.7866],\n",
      "        [-1.5957,  0.5869,  1.9229],\n",
      "        [-1.2041,  2.5273, -1.1992],\n",
      "        ...,\n",
      "        [-1.4365,  0.0515,  2.2539],\n",
      "        [ 0.2209, -1.9717,  2.0195],\n",
      "        [ 1.1455, -1.8906, -0.0859]], device='cuda:0', dtype=torch.float16), hidden_states=None, attentions=None)\n"
     ]
    },
    {
     "name": "stderr",
     "output_type": "stream",
     "text": []
    },
    {
     "name": "stdout",
     "output_type": "stream",
     "text": [
      "output of the model SequenceClassifierOutput(loss=None, logits=tensor([[ 1.3682, -1.9141, -0.5186],\n",
      "        [-0.4189, -1.6553,  2.4531],\n",
      "        [-0.1250, -1.5586,  2.0918],\n",
      "        ...,\n",
      "        [ 0.7573, -1.7012,  1.0977],\n",
      "        [-0.3875, -1.6084,  2.3594],\n",
      "        [-1.5625,  2.1855,  0.1696]], device='cuda:0', dtype=torch.float16), hidden_states=None, attentions=None)\n"
     ]
    },
    {
     "name": "stderr",
     "output_type": "stream",
     "text": []
    },
    {
     "name": "stdout",
     "output_type": "stream",
     "text": [
      "output of the model SequenceClassifierOutput(loss=None, logits=tensor([[-0.2352, -1.7646,  2.3633],\n",
      "        [-1.1504, -0.3850,  2.4961],\n",
      "        [ 0.1781, -0.9692,  0.7808],\n",
      "        ...,\n",
      "        [-1.4121,  1.3125,  1.0303],\n",
      "        [-1.2461, -0.2073,  2.2129],\n",
      "        [-1.8076,  3.0430, -0.9507]], device='cuda:0', dtype=torch.float16), hidden_states=None, attentions=None)\n"
     ]
    },
    {
     "name": "stderr",
     "output_type": "stream",
     "text": []
    },
    {
     "name": "stdout",
     "output_type": "stream",
     "text": [
      "output of the model SequenceClassifierOutput(loss=None, logits=tensor([[-0.4402,  1.1934, -1.1807],\n",
      "        [-1.3779,  2.6895, -1.1953],\n",
      "        [-1.4834,  0.2206,  2.1621],\n",
      "        ...,\n",
      "        [-0.4277, -0.4202,  1.5371],\n",
      "        [-0.4277, -0.4202,  1.5371],\n",
      "        [-0.8032, -1.2998,  2.5625]], device='cuda:0', dtype=torch.float16), hidden_states=None, attentions=None)\n"
     ]
    },
    {
     "name": "stderr",
     "output_type": "stream",
     "text": [
      "Processing batches (chunk 6): 100%|██████████| 98/98 [00:34<00:00,  2.82it/s]\n",
      "Processing chunks:   5%|▍         | 6/131 [03:32<1:13:39, 35.36s/it]"
     ]
    },
    {
     "name": "stdout",
     "output_type": "stream",
     "text": [
      "output of the model SequenceClassifierOutput(loss=None, logits=tensor([[ 0.1915, -2.3184,  2.1680],\n",
      "        [ 0.1699, -1.6455,  1.8213],\n",
      "        [ 2.0117, -1.5977, -1.6621],\n",
      "        ...,\n",
      "        [-1.1367,  0.6265,  1.0664],\n",
      "        [-1.8145,  3.0566, -0.9189],\n",
      "        [-0.8452, -0.6777,  2.0547]], device='cuda:0', dtype=torch.float16), hidden_states=None, attentions=None)\n"
     ]
    },
    {
     "name": "stderr",
     "output_type": "stream",
     "text": []
    },
    {
     "name": "stdout",
     "output_type": "stream",
     "text": [
      "output of the model SequenceClassifierOutput(loss=None, logits=tensor([[-1.8076,  3.0469, -0.9165],\n",
      "        [-0.4834, -0.3271,  0.9722],\n",
      "        [-1.3037,  1.2314,  0.7490],\n",
      "        ...,\n",
      "        [-1.4229,  2.2520, -0.4412],\n",
      "        [-1.4121,  1.3125,  1.0303],\n",
      "        [-1.7900,  2.0098,  0.6270]], device='cuda:0', dtype=torch.float16), hidden_states=None, attentions=None)\n"
     ]
    },
    {
     "name": "stderr",
     "output_type": "stream",
     "text": []
    },
    {
     "name": "stdout",
     "output_type": "stream",
     "text": [
      "output of the model SequenceClassifierOutput(loss=None, logits=tensor([[-1.3271,  0.6377,  1.2305],\n",
      "        [ 0.9453, -1.5000, -0.1798],\n",
      "        [-1.2344, -0.5967,  2.5684],\n",
      "        ...,\n",
      "        [ 1.5254, -2.2695, -0.1859],\n",
      "        [-0.4060, -1.7432,  2.4961],\n",
      "        [ 0.7056, -2.6016,  1.9609]], device='cuda:0', dtype=torch.float16), hidden_states=None, attentions=None)\n"
     ]
    },
    {
     "name": "stderr",
     "output_type": "stream",
     "text": []
    },
    {
     "name": "stdout",
     "output_type": "stream",
     "text": [
      "output of the model SequenceClassifierOutput(loss=None, logits=tensor([[-0.2415, -0.7188,  0.9600],\n",
      "        [ 1.6855, -1.8760, -1.0078],\n",
      "        [ 0.3972, -2.2383,  1.9766],\n",
      "        ...,\n",
      "        [-0.3022,  0.9346, -1.1191],\n",
      "        [-1.6953,  2.9902, -0.9863],\n",
      "        [-0.3052, -1.8027,  2.2070]], device='cuda:0', dtype=torch.float16), hidden_states=None, attentions=None)\n"
     ]
    },
    {
     "name": "stderr",
     "output_type": "stream",
     "text": []
    },
    {
     "name": "stdout",
     "output_type": "stream",
     "text": [
      "output of the model SequenceClassifierOutput(loss=None, logits=tensor([[ 1.3994, -1.8682, -0.0862],\n",
      "        [-1.1572, -0.3069,  2.3594],\n",
      "        [-1.7559,  3.0176, -0.9561],\n",
      "        ...,\n",
      "        [ 0.6436, -0.4553,  0.0580],\n",
      "        [ 0.1610, -1.8896,  1.8936],\n",
      "        [-0.5513, -0.5928,  1.9609]], device='cuda:0', dtype=torch.float16), hidden_states=None, attentions=None)\n"
     ]
    },
    {
     "name": "stderr",
     "output_type": "stream",
     "text": []
    },
    {
     "name": "stdout",
     "output_type": "stream",
     "text": [
      "output of the model SequenceClassifierOutput(loss=None, logits=tensor([[ 0.6724, -1.7217,  0.8916],\n",
      "        [ 0.4121, -1.6055,  1.5791],\n",
      "        [-0.2991, -1.3252,  2.2578],\n",
      "        ...,\n",
      "        [-1.0869, -0.0582,  1.9570],\n",
      "        [-0.6592, -0.3037,  1.6094],\n",
      "        [-0.7310, -0.8604,  2.3750]], device='cuda:0', dtype=torch.float16), hidden_states=None, attentions=None)\n"
     ]
    },
    {
     "name": "stderr",
     "output_type": "stream",
     "text": []
    },
    {
     "name": "stdout",
     "output_type": "stream",
     "text": [
      "output of the model SequenceClassifierOutput(loss=None, logits=tensor([[-0.1571, -1.8877,  2.3477],\n",
      "        [-0.3118, -1.1729,  2.0918],\n",
      "        [ 0.1881, -0.9980,  0.9180],\n",
      "        ...,\n",
      "        [ 0.4390, -2.3926,  2.0469],\n",
      "        [-0.2896, -0.8213,  1.2139],\n",
      "        [-0.1892,  0.2175, -0.2732]], device='cuda:0', dtype=torch.float16), hidden_states=None, attentions=None)\n"
     ]
    },
    {
     "name": "stderr",
     "output_type": "stream",
     "text": []
    },
    {
     "name": "stdout",
     "output_type": "stream",
     "text": [
      "output of the model SequenceClassifierOutput(loss=None, logits=tensor([[ 0.2104, -2.0078,  1.7598],\n",
      "        [ 0.4585, -2.1445,  1.8760],\n",
      "        [ 0.9048, -2.3320,  1.3301],\n",
      "        ...,\n",
      "        [ 1.2656, -2.2480,  0.5332],\n",
      "        [-0.3367, -0.8877,  1.9092],\n",
      "        [-0.3313, -0.8823,  1.5439]], device='cuda:0', dtype=torch.float16), hidden_states=None, attentions=None)\n"
     ]
    },
    {
     "name": "stderr",
     "output_type": "stream",
     "text": []
    },
    {
     "name": "stdout",
     "output_type": "stream",
     "text": [
      "output of the model SequenceClassifierOutput(loss=None, logits=tensor([[-0.2737, -1.3525,  1.8623],\n",
      "        [-1.5732,  0.2981,  2.1328],\n",
      "        [-0.2549, -1.3701,  1.8848],\n",
      "        ...,\n",
      "        [-1.1094,  0.0515,  1.9648],\n",
      "        [-1.4121,  1.3125,  1.0303],\n",
      "        [-1.2734,  0.6001,  1.5820]], device='cuda:0', dtype=torch.float16), hidden_states=None, attentions=None)\n"
     ]
    },
    {
     "name": "stderr",
     "output_type": "stream",
     "text": []
    },
    {
     "name": "stdout",
     "output_type": "stream",
     "text": [
      "output of the model SequenceClassifierOutput(loss=None, logits=tensor([[-0.6289, -1.2490,  2.5000],\n",
      "        [-0.3042, -1.5410,  2.2070],\n",
      "        [ 0.0060, -1.2031,  1.2188],\n",
      "        ...,\n",
      "        [-1.6787,  1.6201,  0.9150],\n",
      "        [ 0.4812, -2.4336,  1.9062],\n",
      "        [-1.5869,  2.8438, -1.0010]], device='cuda:0', dtype=torch.float16), hidden_states=None, attentions=None)\n"
     ]
    },
    {
     "name": "stderr",
     "output_type": "stream",
     "text": []
    },
    {
     "name": "stdout",
     "output_type": "stream",
     "text": [
      "output of the model SequenceClassifierOutput(loss=None, logits=tensor([[ 1.7256, -2.7559,  0.4358],\n",
      "        [-1.7402,  0.8242,  1.8955],\n",
      "        [ 0.2390, -0.6699,  0.1986],\n",
      "        ...,\n",
      "        [ 1.4795, -2.4219, -0.4600],\n",
      "        [ 1.9014, -2.8691,  0.2008],\n",
      "        [-0.8467, -0.5430,  2.1777]], device='cuda:0', dtype=torch.float16), hidden_states=None, attentions=None)\n"
     ]
    },
    {
     "name": "stderr",
     "output_type": "stream",
     "text": []
    },
    {
     "name": "stdout",
     "output_type": "stream",
     "text": [
      "output of the model SequenceClassifierOutput(loss=None, logits=tensor([[ 0.4983, -2.3633,  1.7734],\n",
      "        [-0.1143, -2.1758,  2.4434],\n",
      "        [ 1.7148, -2.4668, -0.6133],\n",
      "        ...,\n",
      "        [ 1.6074, -2.4609,  0.1971],\n",
      "        [ 1.6797, -2.3750, -0.2002],\n",
      "        [ 1.1406, -2.1484,  0.5894]], device='cuda:0', dtype=torch.float16), hidden_states=None, attentions=None)\n"
     ]
    },
    {
     "name": "stderr",
     "output_type": "stream",
     "text": []
    },
    {
     "name": "stdout",
     "output_type": "stream",
     "text": [
      "output of the model SequenceClassifierOutput(loss=None, logits=tensor([[ 0.0837, -2.0508,  2.1191],\n",
      "        [-1.8594,  2.7773, -0.2632],\n",
      "        [-1.3408,  0.5693,  1.3213],\n",
      "        ...,\n",
      "        [-0.6738, -0.9253,  2.2773],\n",
      "        [-1.0098, -1.1006,  2.7109],\n",
      "        [-0.3943, -1.3906,  2.1211]], device='cuda:0', dtype=torch.float16), hidden_states=None, attentions=None)\n"
     ]
    },
    {
     "name": "stderr",
     "output_type": "stream",
     "text": []
    },
    {
     "name": "stdout",
     "output_type": "stream",
     "text": [
      "output of the model SequenceClassifierOutput(loss=None, logits=tensor([[-1.7705,  1.6455,  1.3252],\n",
      "        [-0.5020, -1.5312,  2.3125],\n",
      "        [-0.5391, -1.4814,  2.3672],\n",
      "        ...,\n",
      "        [-0.1345, -0.4055,  0.4158],\n",
      "        [-0.2668, -1.8281,  2.4512],\n",
      "        [-0.4487, -0.6953,  1.7773]], device='cuda:0', dtype=torch.float16), hidden_states=None, attentions=None)\n"
     ]
    },
    {
     "name": "stderr",
     "output_type": "stream",
     "text": []
    },
    {
     "name": "stdout",
     "output_type": "stream",
     "text": [
      "output of the model SequenceClassifierOutput(loss=None, logits=tensor([[-1.8496,  2.4395,  0.2333],\n",
      "        [ 0.2881,  0.5488, -1.5283],\n",
      "        [-0.7026, -0.4180,  1.8359],\n",
      "        ...,\n",
      "        [ 1.3926, -0.6099, -1.5439],\n",
      "        [ 1.0977, -0.6226, -1.4512],\n",
      "        [-1.4229, -0.1072,  2.4023]], device='cuda:0', dtype=torch.float16), hidden_states=None, attentions=None)\n"
     ]
    },
    {
     "name": "stderr",
     "output_type": "stream",
     "text": []
    },
    {
     "name": "stdout",
     "output_type": "stream",
     "text": [
      "output of the model SequenceClassifierOutput(loss=None, logits=tensor([[ 1.7178, -2.5918,  0.0853],\n",
      "        [ 1.7656, -2.6504,  0.0429],\n",
      "        [ 1.7080, -0.8032, -2.0352],\n",
      "        ...,\n",
      "        [ 1.8369, -1.3936, -1.4717],\n",
      "        [ 1.3799, -2.8438,  1.1836],\n",
      "        [-0.9072, -1.1406,  2.4609]], device='cuda:0', dtype=torch.float16), hidden_states=None, attentions=None)\n"
     ]
    },
    {
     "name": "stderr",
     "output_type": "stream",
     "text": []
    },
    {
     "name": "stdout",
     "output_type": "stream",
     "text": [
      "output of the model SequenceClassifierOutput(loss=None, logits=tensor([[-1.7178,  3.0508, -1.0693],\n",
      "        [-1.6992,  2.9453, -0.9111],\n",
      "        [ 1.9365, -1.2822, -1.7969],\n",
      "        ...,\n",
      "        [-0.5576, -1.2852,  1.9922],\n",
      "        [-1.6064,  2.6758, -0.6289],\n",
      "        [ 1.8975, -1.7324, -1.4805]], device='cuda:0', dtype=torch.float16), hidden_states=None, attentions=None)\n"
     ]
    },
    {
     "name": "stderr",
     "output_type": "stream",
     "text": []
    },
    {
     "name": "stdout",
     "output_type": "stream",
     "text": [
      "output of the model SequenceClassifierOutput(loss=None, logits=tensor([[-0.8022, -1.2871,  2.4570],\n",
      "        [ 1.8760, -1.4814, -1.6807],\n",
      "        [-0.1511,  0.8813, -1.6250],\n",
      "        ...,\n",
      "        [ 1.6797, -1.7139, -1.4043],\n",
      "        [-0.6865, -1.4648,  2.5508],\n",
      "        [ 1.7900, -1.5781, -1.4395]], device='cuda:0', dtype=torch.float16), hidden_states=None, attentions=None)\n"
     ]
    },
    {
     "name": "stderr",
     "output_type": "stream",
     "text": []
    },
    {
     "name": "stdout",
     "output_type": "stream",
     "text": [
      "output of the model SequenceClassifierOutput(loss=None, logits=tensor([[-0.9985, -0.5244,  2.2676],\n",
      "        [-0.2159, -1.7344,  2.1094],\n",
      "        [ 0.3413, -0.8120,  0.4463],\n",
      "        ...,\n",
      "        [ 1.1689, -0.1163, -1.8125],\n",
      "        [-1.5293,  1.9814,  0.2549],\n",
      "        [-1.2305,  0.5493,  1.3721]], device='cuda:0', dtype=torch.float16), hidden_states=None, attentions=None)\n"
     ]
    },
    {
     "name": "stderr",
     "output_type": "stream",
     "text": []
    },
    {
     "name": "stdout",
     "output_type": "stream",
     "text": [
      "output of the model SequenceClassifierOutput(loss=None, logits=tensor([[-1.2783,  2.3770, -0.5859],\n",
      "        [-0.0817,  0.0581, -0.2827],\n",
      "        [ 0.3577,  1.6309, -2.1934],\n",
      "        ...,\n",
      "        [-1.3115,  0.5181,  1.5225],\n",
      "        [-1.5781,  2.8965, -1.0361],\n",
      "        [ 1.7354, -1.9023, -1.0645]], device='cuda:0', dtype=torch.float16), hidden_states=None, attentions=None)\n"
     ]
    },
    {
     "name": "stderr",
     "output_type": "stream",
     "text": []
    },
    {
     "name": "stdout",
     "output_type": "stream",
     "text": [
      "output of the model SequenceClassifierOutput(loss=None, logits=tensor([[-0.9053,  0.8643,  0.1525],\n",
      "        [ 2.0039, -1.2480, -1.8066],\n",
      "        [ 2.0117, -1.4805, -1.6924],\n",
      "        ...,\n",
      "        [-1.5029,  0.4426,  1.9492],\n",
      "        [ 0.4355, -0.7485, -0.5010],\n",
      "        [-0.1642,  0.1605, -0.1923]], device='cuda:0', dtype=torch.float16), hidden_states=None, attentions=None)\n"
     ]
    },
    {
     "name": "stderr",
     "output_type": "stream",
     "text": []
    },
    {
     "name": "stdout",
     "output_type": "stream",
     "text": [
      "output of the model SequenceClassifierOutput(loss=None, logits=tensor([[-1.5068,  0.4055,  2.0273],\n",
      "        [-1.6406,  1.6553,  0.8115],\n",
      "        [-0.4753, -0.4841,  1.3174],\n",
      "        ...,\n",
      "        [ 0.4824,  0.2338, -1.6240],\n",
      "        [-0.3552, -1.7188,  2.3477],\n",
      "        [ 1.9248, -1.7695, -1.4521]], device='cuda:0', dtype=torch.float16), hidden_states=None, attentions=None)\n"
     ]
    },
    {
     "name": "stderr",
     "output_type": "stream",
     "text": []
    },
    {
     "name": "stdout",
     "output_type": "stream",
     "text": [
      "output of the model SequenceClassifierOutput(loss=None, logits=tensor([[ 1.6152, -1.4688, -1.0811],\n",
      "        [ 1.5654, -1.3086, -1.2568],\n",
      "        [ 0.0818, -2.0469,  2.1406],\n",
      "        ...,\n",
      "        [ 0.1794, -1.5449,  1.8486],\n",
      "        [ 1.9082, -2.2676, -0.8643],\n",
      "        [-0.6333, -1.5166,  2.5977]], device='cuda:0', dtype=torch.float16), hidden_states=None, attentions=None)\n"
     ]
    },
    {
     "name": "stderr",
     "output_type": "stream",
     "text": []
    },
    {
     "name": "stdout",
     "output_type": "stream",
     "text": [
      "output of the model SequenceClassifierOutput(loss=None, logits=tensor([[-0.6333, -1.5166,  2.5977],\n",
      "        [-0.6353, -1.0547,  2.2012],\n",
      "        [ 1.0488, -1.4121,  0.3000],\n",
      "        ...,\n",
      "        [ 0.5205, -2.3594,  1.6660],\n",
      "        [ 0.5293, -1.9902,  1.7227],\n",
      "        [-0.3406, -0.9990,  1.4492]], device='cuda:0', dtype=torch.float16), hidden_states=None, attentions=None)\n"
     ]
    },
    {
     "name": "stderr",
     "output_type": "stream",
     "text": []
    },
    {
     "name": "stdout",
     "output_type": "stream",
     "text": [
      "output of the model SequenceClassifierOutput(loss=None, logits=tensor([[ 1.5166, -2.1777, -0.0479],\n",
      "        [-1.4482,  0.0677,  2.2500],\n",
      "        [-0.4602,  1.3711, -1.0742],\n",
      "        ...,\n",
      "        [-0.5210, -1.4199,  2.4082],\n",
      "        [-0.2180, -1.8682,  2.2676],\n",
      "        [-0.8174, -0.9243,  2.4688]], device='cuda:0', dtype=torch.float16), hidden_states=None, attentions=None)\n"
     ]
    },
    {
     "name": "stderr",
     "output_type": "stream",
     "text": []
    },
    {
     "name": "stdout",
     "output_type": "stream",
     "text": [
      "output of the model SequenceClassifierOutput(loss=None, logits=tensor([[-0.8174, -0.9243,  2.4688],\n",
      "        [ 1.8096, -1.7500, -0.9922],\n",
      "        [-1.1670, -0.7065,  2.5840],\n",
      "        ...,\n",
      "        [ 1.1436, -2.6387,  1.2666],\n",
      "        [ 1.9805, -2.1680, -1.1055],\n",
      "        [ 1.9805, -2.1680, -1.1055]], device='cuda:0', dtype=torch.float16), hidden_states=None, attentions=None)\n"
     ]
    },
    {
     "name": "stderr",
     "output_type": "stream",
     "text": []
    },
    {
     "name": "stdout",
     "output_type": "stream",
     "text": [
      "output of the model SequenceClassifierOutput(loss=None, logits=tensor([[ 1.1230, -2.2969,  1.1104],\n",
      "        [ 1.9297, -2.4277, -0.5527],\n",
      "        [ 1.2510, -2.3613,  0.7783],\n",
      "        ...,\n",
      "        [-1.1494,  0.3474,  1.7227],\n",
      "        [-0.3398, -1.8076,  2.5293],\n",
      "        [ 1.3213, -1.6045, -0.8188]], device='cuda:0', dtype=torch.float16), hidden_states=None, attentions=None)\n"
     ]
    },
    {
     "name": "stderr",
     "output_type": "stream",
     "text": []
    },
    {
     "name": "stdout",
     "output_type": "stream",
     "text": [
      "output of the model SequenceClassifierOutput(loss=None, logits=tensor([[-1.8193,  2.9609, -0.8555],\n",
      "        [-1.6787,  2.8984, -1.0234],\n",
      "        [ 1.3262, -2.3203,  0.5977],\n",
      "        ...,\n",
      "        [-0.0788, -2.0645,  2.3164],\n",
      "        [ 1.6426, -1.2168, -1.4707],\n",
      "        [-0.6567, -1.0928,  2.2832]], device='cuda:0', dtype=torch.float16), hidden_states=None, attentions=None)\n"
     ]
    },
    {
     "name": "stderr",
     "output_type": "stream",
     "text": []
    },
    {
     "name": "stdout",
     "output_type": "stream",
     "text": [
      "output of the model SequenceClassifierOutput(loss=None, logits=tensor([[ 0.9214, -0.1628, -1.7832],\n",
      "        [ 0.1124,  0.7505, -1.7148],\n",
      "        [-1.0068, -0.3655,  2.1699],\n",
      "        ...,\n",
      "        [ 1.6191, -2.6016,  0.0421],\n",
      "        [-0.5605, -1.4824,  2.5371],\n",
      "        [-1.4121,  1.3125,  1.0303]], device='cuda:0', dtype=torch.float16), hidden_states=None, attentions=None)\n"
     ]
    },
    {
     "name": "stderr",
     "output_type": "stream",
     "text": []
    },
    {
     "name": "stdout",
     "output_type": "stream",
     "text": [
      "output of the model SequenceClassifierOutput(loss=None, logits=tensor([[-1.4541,  0.3396,  2.0488],\n",
      "        [ 2.0527, -2.1680, -1.2520],\n",
      "        [-0.3960, -0.0638,  0.4727],\n",
      "        ...,\n",
      "        [ 0.2727, -2.2383,  1.8555],\n",
      "        [ 1.6318, -2.2988,  0.3264],\n",
      "        [-0.9741, -0.7158,  2.3770]], device='cuda:0', dtype=torch.float16), hidden_states=None, attentions=None)\n"
     ]
    },
    {
     "name": "stderr",
     "output_type": "stream",
     "text": []
    },
    {
     "name": "stdout",
     "output_type": "stream",
     "text": [
      "output of the model SequenceClassifierOutput(loss=None, logits=tensor([[-0.0469, -1.7773,  2.2090],\n",
      "        [-1.7344,  3.0059, -0.8462],\n",
      "        [-0.5889,  0.1517,  0.4504],\n",
      "        ...,\n",
      "        [-0.6157, -1.3672,  2.4141],\n",
      "        [ 0.9268,  0.0337, -1.8418],\n",
      "        [ 1.0684, -2.6113,  1.5615]], device='cuda:0', dtype=torch.float16), hidden_states=None, attentions=None)\n"
     ]
    },
    {
     "name": "stderr",
     "output_type": "stream",
     "text": []
    },
    {
     "name": "stdout",
     "output_type": "stream",
     "text": [
      "output of the model SequenceClassifierOutput(loss=None, logits=tensor([[ 1.9365, -2.7598, -0.0105],\n",
      "        [-0.6606, -1.1045,  2.1855],\n",
      "        [-0.8086, -1.0791,  2.3379],\n",
      "        ...,\n",
      "        [-0.4329, -1.5039,  2.5293],\n",
      "        [-0.9331, -1.1992,  2.6641],\n",
      "        [-0.6528, -1.4150,  2.5879]], device='cuda:0', dtype=torch.float16), hidden_states=None, attentions=None)\n"
     ]
    },
    {
     "name": "stderr",
     "output_type": "stream",
     "text": []
    },
    {
     "name": "stdout",
     "output_type": "stream",
     "text": [
      "output of the model SequenceClassifierOutput(loss=None, logits=tensor([[-0.3135,  0.3721,  0.0269],\n",
      "        [-1.8105,  1.9678,  0.6772],\n",
      "        [-1.4121,  1.3125,  1.0303],\n",
      "        ...,\n",
      "        [-1.1230, -0.7754,  2.5488],\n",
      "        [ 0.0518, -1.1094,  1.4346],\n",
      "        [-0.5371,  0.8447, -0.1020]], device='cuda:0', dtype=torch.float16), hidden_states=None, attentions=None)\n"
     ]
    },
    {
     "name": "stderr",
     "output_type": "stream",
     "text": []
    },
    {
     "name": "stdout",
     "output_type": "stream",
     "text": [
      "output of the model SequenceClassifierOutput(loss=None, logits=tensor([[-1.2705, -0.4741,  2.4824],\n",
      "        [-0.4973,  1.9795, -1.4287],\n",
      "        [-1.9209,  2.9961, -0.5396],\n",
      "        ...,\n",
      "        [-1.2510,  2.0527,  0.0097],\n",
      "        [-1.6992,  2.3301,  0.2103],\n",
      "        [-1.8760,  2.9824, -0.8027]], device='cuda:0', dtype=torch.float16), hidden_states=None, attentions=None)\n"
     ]
    },
    {
     "name": "stderr",
     "output_type": "stream",
     "text": []
    },
    {
     "name": "stdout",
     "output_type": "stream",
     "text": [
      "output of the model SequenceClassifierOutput(loss=None, logits=tensor([[-1.0625, -0.0055,  1.7959],\n",
      "        [-1.6191,  2.6660, -0.7661],\n",
      "        [-1.0645, -0.8779,  2.5137],\n",
      "        ...,\n",
      "        [ 0.2366, -1.0781,  1.1797],\n",
      "        [-0.9414, -0.3269,  2.2969],\n",
      "        [-1.4756,  1.5908,  0.8721]], device='cuda:0', dtype=torch.float16), hidden_states=None, attentions=None)\n"
     ]
    },
    {
     "name": "stderr",
     "output_type": "stream",
     "text": []
    },
    {
     "name": "stdout",
     "output_type": "stream",
     "text": [
      "output of the model SequenceClassifierOutput(loss=None, logits=tensor([[-1.5967,  0.9443,  1.6387],\n",
      "        [-1.4795,  2.3008, -0.1895],\n",
      "        [-1.6572,  2.9746, -1.1162],\n",
      "        ...,\n",
      "        [-1.1299, -0.8247,  2.5840],\n",
      "        [-0.8057, -1.2637,  2.5312],\n",
      "        [-1.6445,  2.4062, -0.1980]], device='cuda:0', dtype=torch.float16), hidden_states=None, attentions=None)\n"
     ]
    },
    {
     "name": "stderr",
     "output_type": "stream",
     "text": []
    },
    {
     "name": "stdout",
     "output_type": "stream",
     "text": [
      "output of the model SequenceClassifierOutput(loss=None, logits=tensor([[-0.7705, -1.3936,  2.5723],\n",
      "        [-1.5391,  2.7129, -0.8804],\n",
      "        [ 1.9297, -1.5000, -1.5869],\n",
      "        ...,\n",
      "        [-1.7471,  1.9346,  0.4890],\n",
      "        [-1.2705, -0.4602,  2.5176],\n",
      "        [-1.2148, -0.6504,  2.5293]], device='cuda:0', dtype=torch.float16), hidden_states=None, attentions=None)\n"
     ]
    },
    {
     "name": "stderr",
     "output_type": "stream",
     "text": []
    },
    {
     "name": "stdout",
     "output_type": "stream",
     "text": [
      "output of the model SequenceClassifierOutput(loss=None, logits=tensor([[-0.9385, -0.5645,  1.8945],\n",
      "        [ 1.4688, -0.8540, -1.6133],\n",
      "        [ 2.0918, -1.8623, -1.5469],\n",
      "        ...,\n",
      "        [-1.0430, -0.8687,  2.5625],\n",
      "        [ 0.5640, -1.6748,  1.0439],\n",
      "        [-0.0544, -1.4873,  1.8086]], device='cuda:0', dtype=torch.float16), hidden_states=None, attentions=None)\n"
     ]
    },
    {
     "name": "stderr",
     "output_type": "stream",
     "text": []
    },
    {
     "name": "stdout",
     "output_type": "stream",
     "text": [
      "output of the model SequenceClassifierOutput(loss=None, logits=tensor([[ 2.0449, -2.5352, -0.5684],\n",
      "        [-1.5088,  1.2988,  0.8735],\n",
      "        [ 0.0504, -2.2051,  2.2715],\n",
      "        ...,\n",
      "        [-1.0898, -0.8052,  2.5781],\n",
      "        [ 1.9043, -2.1211, -1.1787],\n",
      "        [ 1.8291, -2.0059, -1.2061]], device='cuda:0', dtype=torch.float16), hidden_states=None, attentions=None)\n"
     ]
    },
    {
     "name": "stderr",
     "output_type": "stream",
     "text": []
    },
    {
     "name": "stdout",
     "output_type": "stream",
     "text": [
      "output of the model SequenceClassifierOutput(loss=None, logits=tensor([[ 0.4553, -2.5723,  2.1914],\n",
      "        [ 0.7310,  0.5815, -2.0527],\n",
      "        [ 1.9639, -2.3848, -0.7998],\n",
      "        ...,\n",
      "        [-0.3127,  0.7520, -0.8115],\n",
      "        [-1.6016,  2.6797, -0.8369],\n",
      "        [-1.4971,  0.4875,  1.9141]], device='cuda:0', dtype=torch.float16), hidden_states=None, attentions=None)\n"
     ]
    },
    {
     "name": "stderr",
     "output_type": "stream",
     "text": []
    },
    {
     "name": "stdout",
     "output_type": "stream",
     "text": [
      "output of the model SequenceClassifierOutput(loss=None, logits=tensor([[-1.3311, -0.1080,  2.2715],\n",
      "        [-0.4551, -1.5986,  2.3965],\n",
      "        [ 0.7495, -1.7930,  1.1484],\n",
      "        ...,\n",
      "        [-1.4219,  1.1855,  1.2373],\n",
      "        [-0.6655, -1.1172,  2.3457],\n",
      "        [-0.8452, -1.2305,  2.6113]], device='cuda:0', dtype=torch.float16), hidden_states=None, attentions=None)\n"
     ]
    },
    {
     "name": "stderr",
     "output_type": "stream",
     "text": []
    },
    {
     "name": "stdout",
     "output_type": "stream",
     "text": [
      "output of the model SequenceClassifierOutput(loss=None, logits=tensor([[-0.7983,  1.3145, -0.4534],\n",
      "        [ 1.9795, -1.7266, -1.5566],\n",
      "        [-1.8730,  1.4717,  1.5527],\n",
      "        ...,\n",
      "        [-0.0992, -1.6182,  2.1016],\n",
      "        [-1.1309, -0.9414,  2.6055],\n",
      "        [ 0.4626, -1.9121,  1.7705]], device='cuda:0', dtype=torch.float16), hidden_states=None, attentions=None)\n"
     ]
    },
    {
     "name": "stderr",
     "output_type": "stream",
     "text": []
    },
    {
     "name": "stdout",
     "output_type": "stream",
     "text": [
      "output of the model SequenceClassifierOutput(loss=None, logits=tensor([[-0.9272, -1.1807,  2.5684],\n",
      "        [-0.6260,  0.4395,  0.5679],\n",
      "        [ 1.1572, -0.7886, -1.0205],\n",
      "        ...,\n",
      "        [ 0.4937,  0.3120, -1.3213],\n",
      "        [-1.2314,  0.9106,  1.2305],\n",
      "        [ 0.7651, -2.1484,  1.5273]], device='cuda:0', dtype=torch.float16), hidden_states=None, attentions=None)\n"
     ]
    },
    {
     "name": "stderr",
     "output_type": "stream",
     "text": []
    },
    {
     "name": "stdout",
     "output_type": "stream",
     "text": [
      "output of the model SequenceClassifierOutput(loss=None, logits=tensor([[ 1.9639, -1.2920, -1.7617],\n",
      "        [-1.7842,  2.8984, -0.5010],\n",
      "        [-0.2822, -0.7759,  1.8564],\n",
      "        ...,\n",
      "        [ 0.5664, -2.4160,  1.9893],\n",
      "        [-1.7646,  2.9980, -0.9443],\n",
      "        [-1.3828, -0.4812,  2.5488]], device='cuda:0', dtype=torch.float16), hidden_states=None, attentions=None)\n"
     ]
    },
    {
     "name": "stderr",
     "output_type": "stream",
     "text": []
    },
    {
     "name": "stdout",
     "output_type": "stream",
     "text": [
      "output of the model SequenceClassifierOutput(loss=None, logits=tensor([[ 0.7441, -1.0752, -0.9160],\n",
      "        [-0.2434, -1.6289,  2.0625],\n",
      "        [-0.8052, -1.0859,  2.1309],\n",
      "        ...,\n",
      "        [-0.0039, -0.9385,  1.2070],\n",
      "        [ 0.0803, -1.0059,  1.0859],\n",
      "        [ 1.0283, -0.8784, -1.4160]], device='cuda:0', dtype=torch.float16), hidden_states=None, attentions=None)\n"
     ]
    },
    {
     "name": "stderr",
     "output_type": "stream",
     "text": []
    },
    {
     "name": "stdout",
     "output_type": "stream",
     "text": [
      "output of the model SequenceClassifierOutput(loss=None, logits=tensor([[-1.5850,  2.9688, -1.1855],\n",
      "        [ 1.2617, -1.0537, -1.4170],\n",
      "        [-0.2086,  2.0117, -2.1836],\n",
      "        ...,\n",
      "        [-0.9180, -0.9150,  2.5059],\n",
      "        [-1.3057,  0.9297,  1.1406],\n",
      "        [ 0.1309, -1.3662,  1.8965]], device='cuda:0', dtype=torch.float16), hidden_states=None, attentions=None)\n"
     ]
    },
    {
     "name": "stderr",
     "output_type": "stream",
     "text": []
    },
    {
     "name": "stdout",
     "output_type": "stream",
     "text": [
      "output of the model SequenceClassifierOutput(loss=None, logits=tensor([[ 1.8477, -1.8740, -1.0918],\n",
      "        [ 1.9922, -1.8574, -1.4385],\n",
      "        [-1.3027, -0.0684,  2.4199],\n",
      "        ...,\n",
      "        [-1.9287,  2.8867, -0.4326],\n",
      "        [ 1.9316, -2.4141, -0.8853],\n",
      "        [ 1.9248, -2.5352, -0.5127]], device='cuda:0', dtype=torch.float16), hidden_states=None, attentions=None)\n"
     ]
    },
    {
     "name": "stderr",
     "output_type": "stream",
     "text": []
    },
    {
     "name": "stdout",
     "output_type": "stream",
     "text": [
      "output of the model SequenceClassifierOutput(loss=None, logits=tensor([[-1.3057, -0.5581,  2.6387],\n",
      "        [ 0.0275,  0.8696, -1.8760],\n",
      "        [-0.0111, -2.0938,  2.2812],\n",
      "        ...,\n",
      "        [-0.3684, -1.8008,  2.4297],\n",
      "        [-1.5508,  0.5850,  1.8203],\n",
      "        [-0.7251,  0.5225,  0.6846]], device='cuda:0', dtype=torch.float16), hidden_states=None, attentions=None)\n"
     ]
    },
    {
     "name": "stderr",
     "output_type": "stream",
     "text": []
    },
    {
     "name": "stdout",
     "output_type": "stream",
     "text": [
      "output of the model SequenceClassifierOutput(loss=None, logits=tensor([[-0.5781, -0.0682,  0.9141],\n",
      "        [ 0.8584, -2.4121,  1.2441],\n",
      "        [ 1.6299, -1.8115, -0.9971],\n",
      "        ...,\n",
      "        [-1.5156,  1.2041,  1.3975],\n",
      "        [-0.8047, -0.3489,  2.0273],\n",
      "        [-0.4287, -1.6338,  2.5234]], device='cuda:0', dtype=torch.float16), hidden_states=None, attentions=None)\n"
     ]
    },
    {
     "name": "stderr",
     "output_type": "stream",
     "text": []
    },
    {
     "name": "stdout",
     "output_type": "stream",
     "text": [
      "output of the model SequenceClassifierOutput(loss=None, logits=tensor([[-0.3992,  0.0418,  0.3740],\n",
      "        [-0.1220, -2.0273,  2.3613],\n",
      "        [-1.8643,  1.0840,  1.9541],\n",
      "        ...,\n",
      "        [ 0.6060, -1.6777,  0.9531],\n",
      "        [-1.1680,  1.8291,  0.1105],\n",
      "        [ 1.6641, -2.1797, -0.5117]], device='cuda:0', dtype=torch.float16), hidden_states=None, attentions=None)\n"
     ]
    },
    {
     "name": "stderr",
     "output_type": "stream",
     "text": []
    },
    {
     "name": "stdout",
     "output_type": "stream",
     "text": [
      "output of the model SequenceClassifierOutput(loss=None, logits=tensor([[ 1.1133, -1.2607, -0.0983],\n",
      "        [ 0.9946, -1.3242,  0.3513],\n",
      "        [ 0.6655,  0.0315, -1.5527],\n",
      "        ...,\n",
      "        [ 2.0391, -2.5566, -0.7725],\n",
      "        [ 2.0117, -2.2500, -1.0615],\n",
      "        [-0.5664, -1.2646,  2.3555]], device='cuda:0', dtype=torch.float16), hidden_states=None, attentions=None)\n"
     ]
    },
    {
     "name": "stderr",
     "output_type": "stream",
     "text": []
    },
    {
     "name": "stdout",
     "output_type": "stream",
     "text": [
      "output of the model SequenceClassifierOutput(loss=None, logits=tensor([[ 0.0925, -1.7236,  1.9844],\n",
      "        [ 0.2388, -1.8203,  1.9375],\n",
      "        [ 0.2474, -2.2266,  2.0488],\n",
      "        ...,\n",
      "        [-0.3186,  0.7427, -1.1494],\n",
      "        [ 1.3320, -1.6250, -1.0029],\n",
      "        [ 0.3489, -0.5254, -0.3662]], device='cuda:0', dtype=torch.float16), hidden_states=None, attentions=None)\n"
     ]
    },
    {
     "name": "stderr",
     "output_type": "stream",
     "text": []
    },
    {
     "name": "stdout",
     "output_type": "stream",
     "text": [
      "output of the model SequenceClassifierOutput(loss=None, logits=tensor([[-1.4863,  1.3994,  1.0703],\n",
      "        [ 1.3750, -2.3848,  0.3914],\n",
      "        [ 1.3750, -2.3848,  0.3914],\n",
      "        ...,\n",
      "        [-1.8643,  3.0742, -0.8799],\n",
      "        [ 1.9414, -1.5059, -1.6152],\n",
      "        [-0.4753, -0.4841,  1.3174]], device='cuda:0', dtype=torch.float16), hidden_states=None, attentions=None)\n"
     ]
    },
    {
     "name": "stderr",
     "output_type": "stream",
     "text": []
    },
    {
     "name": "stdout",
     "output_type": "stream",
     "text": [
      "output of the model SequenceClassifierOutput(loss=None, logits=tensor([[ 0.2668, -1.4600,  1.3369],\n",
      "        [-0.8579, -0.9741,  2.4160],\n",
      "        [-0.9077,  1.0625,  0.1216],\n",
      "        ...,\n",
      "        [-0.7817, -0.9062,  2.4688],\n",
      "        [ 1.2285, -2.4922,  0.7871],\n",
      "        [-0.7090, -1.3643,  2.4688]], device='cuda:0', dtype=torch.float16), hidden_states=None, attentions=None)\n"
     ]
    },
    {
     "name": "stderr",
     "output_type": "stream",
     "text": []
    },
    {
     "name": "stdout",
     "output_type": "stream",
     "text": [
      "output of the model SequenceClassifierOutput(loss=None, logits=tensor([[-0.7456, -1.0762,  2.4941],\n",
      "        [ 1.1943, -2.6055,  1.1123],\n",
      "        [-0.2544, -1.9600,  2.3633],\n",
      "        ...,\n",
      "        [ 0.3140, -1.8398,  1.6348],\n",
      "        [ 1.6426, -2.4414, -0.1265],\n",
      "        [ 0.7061, -0.2783, -1.4961]], device='cuda:0', dtype=torch.float16), hidden_states=None, attentions=None)\n"
     ]
    },
    {
     "name": "stderr",
     "output_type": "stream",
     "text": []
    },
    {
     "name": "stdout",
     "output_type": "stream",
     "text": [
      "output of the model SequenceClassifierOutput(loss=None, logits=tensor([[ 0.8003, -0.3440, -1.5723],\n",
      "        [ 1.1025, -0.7017, -1.4551],\n",
      "        [ 0.7446, -1.5850,  0.5571],\n",
      "        ...,\n",
      "        [-0.0491, -1.7510,  2.1211],\n",
      "        [-0.1257, -1.8662,  2.1699],\n",
      "        [-1.7852,  3.0176, -0.8838]], device='cuda:0', dtype=torch.float16), hidden_states=None, attentions=None)\n"
     ]
    },
    {
     "name": "stderr",
     "output_type": "stream",
     "text": []
    },
    {
     "name": "stdout",
     "output_type": "stream",
     "text": [
      "output of the model SequenceClassifierOutput(loss=None, logits=tensor([[ 1.7393, -1.8203, -1.1533],\n",
      "        [ 1.8174, -2.4512, -0.5068],\n",
      "        [ 0.8340, -0.9697, -0.5596],\n",
      "        ...,\n",
      "        [-1.4336,  2.7930, -1.2432],\n",
      "        [-1.0518, -0.8994,  2.5527],\n",
      "        [ 1.7373, -2.4043, -0.3879]], device='cuda:0', dtype=torch.float16), hidden_states=None, attentions=None)\n"
     ]
    },
    {
     "name": "stderr",
     "output_type": "stream",
     "text": []
    },
    {
     "name": "stdout",
     "output_type": "stream",
     "text": [
      "output of the model SequenceClassifierOutput(loss=None, logits=tensor([[-1.6445,  2.0859,  0.3645],\n",
      "        [-1.4170,  1.5986,  0.3823],\n",
      "        [-1.3779, -0.3616,  2.4121],\n",
      "        ...,\n",
      "        [ 1.9053, -2.5996, -0.3464],\n",
      "        [-0.6787, -1.2178,  2.1641],\n",
      "        [-0.7183, -1.2881,  2.3320]], device='cuda:0', dtype=torch.float16), hidden_states=None, attentions=None)\n"
     ]
    },
    {
     "name": "stderr",
     "output_type": "stream",
     "text": []
    },
    {
     "name": "stdout",
     "output_type": "stream",
     "text": [
      "output of the model SequenceClassifierOutput(loss=None, logits=tensor([[ 1.9902, -2.1855, -1.2197],\n",
      "        [-1.0840,  0.2393,  1.7568],\n",
      "        [ 0.3618, -0.0626, -1.2158],\n",
      "        ...,\n",
      "        [ 1.8740, -2.7695,  0.1305],\n",
      "        [-0.5225,  0.6704, -0.0530],\n",
      "        [ 1.9736, -2.0508, -1.1602]], device='cuda:0', dtype=torch.float16), hidden_states=None, attentions=None)\n"
     ]
    },
    {
     "name": "stderr",
     "output_type": "stream",
     "text": []
    },
    {
     "name": "stdout",
     "output_type": "stream",
     "text": [
      "output of the model SequenceClassifierOutput(loss=None, logits=tensor([[-0.5811, -0.1439,  1.1738],\n",
      "        [ 0.2301, -1.2373,  1.1670],\n",
      "        [ 0.4685, -2.1934,  1.9668],\n",
      "        ...,\n",
      "        [-0.3286,  0.8145, -1.0010],\n",
      "        [-1.5840,  2.6387, -0.5977],\n",
      "        [-1.4121,  1.3125,  1.0303]], device='cuda:0', dtype=torch.float16), hidden_states=None, attentions=None)\n"
     ]
    },
    {
     "name": "stderr",
     "output_type": "stream",
     "text": []
    },
    {
     "name": "stdout",
     "output_type": "stream",
     "text": [
      "output of the model SequenceClassifierOutput(loss=None, logits=tensor([[-1.1992,  1.0605,  0.6860],\n",
      "        [-1.1738,  0.8433,  0.7095],\n",
      "        [ 2.0547, -1.9150, -1.4473],\n",
      "        ...,\n",
      "        [-0.9697, -1.1289,  2.5352],\n",
      "        [ 2.0234, -1.7510, -1.5654],\n",
      "        [ 1.1152, -2.1504,  0.9160]], device='cuda:0', dtype=torch.float16), hidden_states=None, attentions=None)\n"
     ]
    },
    {
     "name": "stderr",
     "output_type": "stream",
     "text": []
    },
    {
     "name": "stdout",
     "output_type": "stream",
     "text": [
      "output of the model SequenceClassifierOutput(loss=None, logits=tensor([[ 1.2373, -2.1445,  0.2546],\n",
      "        [-0.6318, -1.4238,  2.5254],\n",
      "        [ 1.8896, -2.6875,  0.1378],\n",
      "        ...,\n",
      "        [-0.2292, -0.2037,  0.4460],\n",
      "        [-1.4072,  0.0035,  2.2852],\n",
      "        [ 0.3376, -2.1211,  2.0547]], device='cuda:0', dtype=torch.float16), hidden_states=None, attentions=None)\n"
     ]
    },
    {
     "name": "stderr",
     "output_type": "stream",
     "text": []
    },
    {
     "name": "stdout",
     "output_type": "stream",
     "text": [
      "output of the model SequenceClassifierOutput(loss=None, logits=tensor([[ 0.9111, -0.7471, -1.3203],\n",
      "        [ 1.5977, -2.5234,  0.4058],\n",
      "        [-0.5806,  0.1952,  0.3098],\n",
      "        ...,\n",
      "        [ 1.5674, -2.2949, -0.1353],\n",
      "        [-0.0068, -0.9526,  1.2002],\n",
      "        [ 0.8516, -2.7715,  1.7422]], device='cuda:0', dtype=torch.float16), hidden_states=None, attentions=None)\n"
     ]
    },
    {
     "name": "stderr",
     "output_type": "stream",
     "text": []
    },
    {
     "name": "stdout",
     "output_type": "stream",
     "text": [
      "output of the model SequenceClassifierOutput(loss=None, logits=tensor([[ 0.7915, -2.7539,  1.7949],\n",
      "        [-1.7490,  2.5176,  0.2935],\n",
      "        [-0.0068, -0.9526,  1.2002],\n",
      "        ...,\n",
      "        [-0.7905,  0.5337,  0.6030],\n",
      "        [ 0.8506, -0.2013, -1.5527],\n",
      "        [ 2.0195, -1.4600, -1.6338]], device='cuda:0', dtype=torch.float16), hidden_states=None, attentions=None)\n"
     ]
    },
    {
     "name": "stderr",
     "output_type": "stream",
     "text": []
    },
    {
     "name": "stdout",
     "output_type": "stream",
     "text": [
      "output of the model SequenceClassifierOutput(loss=None, logits=tensor([[-1.4971,  0.2800,  2.0566],\n",
      "        [-0.9272, -0.8237,  2.4902],\n",
      "        [ 1.0586, -0.8877, -0.2913],\n",
      "        ...,\n",
      "        [ 1.4990, -2.3184,  0.0457],\n",
      "        [ 0.5054,  0.0803, -1.5391],\n",
      "        [ 0.5605, -0.1136, -1.4102]], device='cuda:0', dtype=torch.float16), hidden_states=None, attentions=None)\n"
     ]
    },
    {
     "name": "stderr",
     "output_type": "stream",
     "text": []
    },
    {
     "name": "stdout",
     "output_type": "stream",
     "text": [
      "output of the model SequenceClassifierOutput(loss=None, logits=tensor([[ 1.4482, -2.2480, -0.0179],\n",
      "        [-0.2983, -1.8193,  2.4648],\n",
      "        [-0.4299, -1.1396,  2.1055],\n",
      "        ...,\n",
      "        [ 1.6357, -2.4277,  0.4487],\n",
      "        [ 1.1377, -2.2676,  1.1416],\n",
      "        [-0.9849,  1.0820,  0.2727]], device='cuda:0', dtype=torch.float16), hidden_states=None, attentions=None)\n"
     ]
    },
    {
     "name": "stderr",
     "output_type": "stream",
     "text": []
    },
    {
     "name": "stdout",
     "output_type": "stream",
     "text": [
      "output of the model SequenceClassifierOutput(loss=None, logits=tensor([[ 1.3516, -2.5762,  1.2227],\n",
      "        [-1.6172,  2.8477, -0.9644],\n",
      "        [-0.9175, -1.0078,  2.4824],\n",
      "        ...,\n",
      "        [ 2.0020, -1.5850, -1.6621],\n",
      "        [-1.5615,  1.6162,  0.9346],\n",
      "        [-1.6357,  2.1445,  0.4214]], device='cuda:0', dtype=torch.float16), hidden_states=None, attentions=None)\n"
     ]
    },
    {
     "name": "stderr",
     "output_type": "stream",
     "text": []
    },
    {
     "name": "stdout",
     "output_type": "stream",
     "text": [
      "output of the model SequenceClassifierOutput(loss=None, logits=tensor([[-0.7339, -1.4502,  2.6094],\n",
      "        [ 2.0098, -1.4766, -1.7959],\n",
      "        [-1.5029,  0.3357,  2.0352],\n",
      "        ...,\n",
      "        [-0.5000, -1.5869,  2.5430],\n",
      "        [ 1.7109, -2.2656, -0.4631],\n",
      "        [-0.9419,  2.1094, -1.0742]], device='cuda:0', dtype=torch.float16), hidden_states=None, attentions=None)\n"
     ]
    },
    {
     "name": "stderr",
     "output_type": "stream",
     "text": []
    },
    {
     "name": "stdout",
     "output_type": "stream",
     "text": [
      "output of the model SequenceClassifierOutput(loss=None, logits=tensor([[-0.1345,  0.1318, -0.4219],\n",
      "        [-0.4170,  1.4873, -1.6270],\n",
      "        [ 2.0547, -2.4492, -0.8442],\n",
      "        ...,\n",
      "        [-1.0684, -0.7388,  2.4961],\n",
      "        [-0.1321, -0.4463,  0.7896],\n",
      "        [-1.1445,  0.4387,  1.3516]], device='cuda:0', dtype=torch.float16), hidden_states=None, attentions=None)\n"
     ]
    },
    {
     "name": "stderr",
     "output_type": "stream",
     "text": []
    },
    {
     "name": "stdout",
     "output_type": "stream",
     "text": [
      "output of the model SequenceClassifierOutput(loss=None, logits=tensor([[ 0.2114, -0.2302, -0.2656],\n",
      "        [-0.6987,  0.3965,  0.5615],\n",
      "        [ 0.5049, -0.9160, -0.4011],\n",
      "        ...,\n",
      "        [ 1.8213, -1.5635, -1.4854],\n",
      "        [ 0.4353, -2.2969,  1.5732],\n",
      "        [ 0.9038, -2.2734,  1.0732]], device='cuda:0', dtype=torch.float16), hidden_states=None, attentions=None)\n"
     ]
    },
    {
     "name": "stderr",
     "output_type": "stream",
     "text": []
    },
    {
     "name": "stdout",
     "output_type": "stream",
     "text": [
      "output of the model SequenceClassifierOutput(loss=None, logits=tensor([[-0.9927, -0.5732,  2.4434],\n",
      "        [-0.9761,  0.1388,  1.3164],\n",
      "        [-1.3848,  2.5137, -0.9551],\n",
      "        ...,\n",
      "        [-1.5391,  2.4766, -0.5781],\n",
      "        [-1.5391,  2.4766, -0.5781],\n",
      "        [ 0.3855, -2.1973,  2.0625]], device='cuda:0', dtype=torch.float16), hidden_states=None, attentions=None)\n"
     ]
    },
    {
     "name": "stderr",
     "output_type": "stream",
     "text": []
    },
    {
     "name": "stdout",
     "output_type": "stream",
     "text": [
      "output of the model SequenceClassifierOutput(loss=None, logits=tensor([[ 1.5400, -1.2275, -1.0645],\n",
      "        [-0.8140, -1.0791,  2.4434],\n",
      "        [-1.1045, -0.7300,  2.4805],\n",
      "        ...,\n",
      "        [ 0.3696, -0.0194, -1.0576],\n",
      "        [-1.4375, -0.3306,  2.5020],\n",
      "        [ 1.3330, -2.5840,  0.7568]], device='cuda:0', dtype=torch.float16), hidden_states=None, attentions=None)\n"
     ]
    },
    {
     "name": "stderr",
     "output_type": "stream",
     "text": []
    },
    {
     "name": "stdout",
     "output_type": "stream",
     "text": [
      "output of the model SequenceClassifierOutput(loss=None, logits=tensor([[-0.2301, -1.9502,  2.3848],\n",
      "        [ 0.0108, -0.1761,  0.0203],\n",
      "        [-1.1172, -0.9971,  2.6465],\n",
      "        ...,\n",
      "        [ 0.1935, -0.7915,  0.7378],\n",
      "        [ 0.0554, -1.1572,  1.3398],\n",
      "        [-1.4805,  0.8403,  1.6377]], device='cuda:0', dtype=torch.float16), hidden_states=None, attentions=None)\n"
     ]
    },
    {
     "name": "stderr",
     "output_type": "stream",
     "text": []
    },
    {
     "name": "stdout",
     "output_type": "stream",
     "text": [
      "output of the model SequenceClassifierOutput(loss=None, logits=tensor([[-0.1040, -1.1943,  1.5586],\n",
      "        [ 0.6836, -2.5117,  1.8896],\n",
      "        [ 0.5181, -2.4551,  2.0215],\n",
      "        ...,\n",
      "        [ 0.1420, -2.3164,  2.2695],\n",
      "        [-1.5557,  2.5645, -0.6177],\n",
      "        [-0.6187,  0.2664,  0.2179]], device='cuda:0', dtype=torch.float16), hidden_states=None, attentions=None)\n"
     ]
    },
    {
     "name": "stderr",
     "output_type": "stream",
     "text": []
    },
    {
     "name": "stdout",
     "output_type": "stream",
     "text": [
      "output of the model SequenceClassifierOutput(loss=None, logits=tensor([[ 0.3535,  0.1361, -1.1885],\n",
      "        [-0.7412, -0.8584,  2.0078],\n",
      "        [-1.5479,  2.6582, -0.5229],\n",
      "        ...,\n",
      "        [-0.6694, -0.0152,  0.5898],\n",
      "        [-1.5713,  2.1953,  0.2137],\n",
      "        [-0.8340, -1.1318,  2.4844]], device='cuda:0', dtype=torch.float16), hidden_states=None, attentions=None)\n"
     ]
    },
    {
     "name": "stderr",
     "output_type": "stream",
     "text": []
    },
    {
     "name": "stdout",
     "output_type": "stream",
     "text": [
      "output of the model SequenceClassifierOutput(loss=None, logits=tensor([[-0.9258,  1.1738, -0.1054],\n",
      "        [-1.8047,  2.6875, -0.1555],\n",
      "        [-1.5107,  2.7754, -1.0537],\n",
      "        ...,\n",
      "        [ 2.0039, -1.5537, -1.6738],\n",
      "        [-0.0068, -0.9526,  1.2002],\n",
      "        [ 0.1390, -1.1338,  1.1396]], device='cuda:0', dtype=torch.float16), hidden_states=None, attentions=None)\n"
     ]
    },
    {
     "name": "stderr",
     "output_type": "stream",
     "text": []
    },
    {
     "name": "stdout",
     "output_type": "stream",
     "text": [
      "output of the model SequenceClassifierOutput(loss=None, logits=tensor([[ 0.1642, -1.1592,  1.1045],\n",
      "        [ 0.1642, -1.1592,  1.1045],\n",
      "        [-0.6567, -1.6084,  2.5840],\n",
      "        ...,\n",
      "        [ 0.9297, -2.5195,  1.5781],\n",
      "        [-1.3896,  2.6738, -1.0850],\n",
      "        [-0.0941, -1.8525,  2.2617]], device='cuda:0', dtype=torch.float16), hidden_states=None, attentions=None)\n"
     ]
    },
    {
     "name": "stderr",
     "output_type": "stream",
     "text": []
    },
    {
     "name": "stdout",
     "output_type": "stream",
     "text": [
      "output of the model SequenceClassifierOutput(loss=None, logits=tensor([[ 2.0605, -1.9150, -1.4541],\n",
      "        [ 0.1720, -1.4863,  1.8809],\n",
      "        [-0.7529, -1.2139,  2.4453],\n",
      "        ...,\n",
      "        [ 1.8047, -2.8203,  0.4690],\n",
      "        [ 0.2668, -0.2759, -0.4861],\n",
      "        [ 1.3623, -2.2559,  0.1624]], device='cuda:0', dtype=torch.float16), hidden_states=None, attentions=None)\n"
     ]
    },
    {
     "name": "stderr",
     "output_type": "stream",
     "text": []
    },
    {
     "name": "stdout",
     "output_type": "stream",
     "text": [
      "output of the model SequenceClassifierOutput(loss=None, logits=tensor([[ 0.9517, -2.4629,  1.4629],\n",
      "        [ 1.9990, -2.2051, -1.0215],\n",
      "        [ 1.9912, -2.3145, -0.7915],\n",
      "        ...,\n",
      "        [ 2.0176, -1.4590, -1.7354],\n",
      "        [-0.4504, -0.8311,  1.8877],\n",
      "        [ 2.0020, -1.6689, -1.6143]], device='cuda:0', dtype=torch.float16), hidden_states=None, attentions=None)\n"
     ]
    },
    {
     "name": "stderr",
     "output_type": "stream",
     "text": []
    },
    {
     "name": "stdout",
     "output_type": "stream",
     "text": [
      "output of the model SequenceClassifierOutput(loss=None, logits=tensor([[-1.6924,  3.0312, -1.0410],\n",
      "        [-1.5156,  0.3779,  2.0137],\n",
      "        [-1.5693,  1.6113,  0.9619],\n",
      "        ...,\n",
      "        [ 0.2915, -1.6084,  1.5479],\n",
      "        [ 1.2529, -2.1309,  0.4749],\n",
      "        [ 0.9805, -1.4766,  0.1931]], device='cuda:0', dtype=torch.float16), hidden_states=None, attentions=None)\n"
     ]
    },
    {
     "name": "stderr",
     "output_type": "stream",
     "text": []
    },
    {
     "name": "stdout",
     "output_type": "stream",
     "text": [
      "output of the model SequenceClassifierOutput(loss=None, logits=tensor([[-1.5615,  2.7363, -0.9468],\n",
      "        [ 1.8994, -2.6016, -0.2222],\n",
      "        [-0.2404, -1.4688,  2.2383],\n",
      "        ...,\n",
      "        [-0.3987, -0.5732,  1.1992],\n",
      "        [-1.0283, -0.3821,  2.1406],\n",
      "        [ 1.6436, -2.0137, -0.7817]], device='cuda:0', dtype=torch.float16), hidden_states=None, attentions=None)\n"
     ]
    },
    {
     "name": "stderr",
     "output_type": "stream",
     "text": []
    },
    {
     "name": "stdout",
     "output_type": "stream",
     "text": [
      "output of the model SequenceClassifierOutput(loss=None, logits=tensor([[-1.0527, -0.3062,  2.2344],\n",
      "        [-0.2467, -1.8955,  2.2617],\n",
      "        [ 0.0464, -1.0146,  1.6631],\n",
      "        ...,\n",
      "        [-1.7568,  2.6875, -0.2444],\n",
      "        [-1.7197,  2.9492, -0.8960],\n",
      "        [-1.7822,  2.6738, -0.1471]], device='cuda:0', dtype=torch.float16), hidden_states=None, attentions=None)\n"
     ]
    },
    {
     "name": "stderr",
     "output_type": "stream",
     "text": []
    },
    {
     "name": "stdout",
     "output_type": "stream",
     "text": [
      "output of the model SequenceClassifierOutput(loss=None, logits=tensor([[-0.6187,  2.1230, -1.5352],\n",
      "        [-1.7822,  2.6738, -0.1471],\n",
      "        [-1.7744,  3.0137, -0.9126],\n",
      "        ...,\n",
      "        [ 0.3455, -2.4980,  2.1172],\n",
      "        [-1.2051, -0.3691,  2.3750],\n",
      "        [-0.8374, -1.2998,  2.5586]], device='cuda:0', dtype=torch.float16), hidden_states=None, attentions=None)\n"
     ]
    },
    {
     "name": "stderr",
     "output_type": "stream",
     "text": []
    },
    {
     "name": "stdout",
     "output_type": "stream",
     "text": [
      "output of the model SequenceClassifierOutput(loss=None, logits=tensor([[ 0.6685, -2.3184,  1.9658],\n",
      "        [-0.2566, -1.7080,  2.2949],\n",
      "        [-0.8491,  1.8770, -0.9365],\n",
      "        ...,\n",
      "        [-1.6641,  2.4434, -0.1606],\n",
      "        [-1.9141,  2.8613, -0.0825],\n",
      "        [-0.9067, -1.1494,  2.5273]], device='cuda:0', dtype=torch.float16), hidden_states=None, attentions=None)\n"
     ]
    },
    {
     "name": "stderr",
     "output_type": "stream",
     "text": []
    },
    {
     "name": "stdout",
     "output_type": "stream",
     "text": [
      "output of the model SequenceClassifierOutput(loss=None, logits=tensor([[-0.4607, -0.9541,  2.3164],\n",
      "        [-1.8184,  2.9961, -0.8818],\n",
      "        [-1.6758,  2.9570, -1.0791],\n",
      "        ...,\n",
      "        [ 0.1593, -0.1095, -0.0109],\n",
      "        [ 0.6138, -0.6196, -0.0974],\n",
      "        [ 0.6104, -1.1240,  0.4185]], device='cuda:0', dtype=torch.float16), hidden_states=None, attentions=None)\n"
     ]
    },
    {
     "name": "stderr",
     "output_type": "stream",
     "text": []
    },
    {
     "name": "stdout",
     "output_type": "stream",
     "text": [
      "output of the model SequenceClassifierOutput(loss=None, logits=tensor([[ 0.4390, -1.2129,  0.8506],\n",
      "        [ 0.5815, -1.2383,  0.5923],\n",
      "        [ 0.6455, -1.1689,  0.3000],\n",
      "        ...,\n",
      "        [-1.0166, -0.9019,  2.6484],\n",
      "        [-1.5352,  2.1445, -0.2898],\n",
      "        [-1.0918, -0.0556,  1.5645]], device='cuda:0', dtype=torch.float16), hidden_states=None, attentions=None)\n"
     ]
    },
    {
     "name": "stderr",
     "output_type": "stream",
     "text": []
    },
    {
     "name": "stdout",
     "output_type": "stream",
     "text": [
      "output of the model SequenceClassifierOutput(loss=None, logits=tensor([[-1.2939, -0.4612,  2.5312],\n",
      "        [-1.3750,  0.6611,  1.8711],\n",
      "        [-1.6973,  2.0840,  0.4045],\n",
      "        ...,\n",
      "        [-0.7983, -1.2637,  2.4766],\n",
      "        [-0.9595, -0.3137,  2.0801],\n",
      "        [-1.7158,  2.2422,  0.1366]], device='cuda:0', dtype=torch.float16), hidden_states=None, attentions=None)\n"
     ]
    },
    {
     "name": "stderr",
     "output_type": "stream",
     "text": []
    },
    {
     "name": "stdout",
     "output_type": "stream",
     "text": [
      "output of the model SequenceClassifierOutput(loss=None, logits=tensor([[-1.7500,  2.8516, -0.6987],\n",
      "        [-1.6182,  2.7305, -0.7334],\n",
      "        [-0.6152, -1.1074,  2.0781],\n",
      "        ...,\n",
      "        [-0.1776, -1.8662,  2.2793],\n",
      "        [ 0.8799, -0.9800, -0.7510],\n",
      "        [-1.4521,  0.2183,  2.0410]], device='cuda:0', dtype=torch.float16), hidden_states=None, attentions=None)\n"
     ]
    },
    {
     "name": "stderr",
     "output_type": "stream",
     "text": []
    },
    {
     "name": "stdout",
     "output_type": "stream",
     "text": [
      "output of the model SequenceClassifierOutput(loss=None, logits=tensor([[ 1.9971, -1.8027, -1.4326],\n",
      "        [-0.9312,  0.1388,  1.8701],\n",
      "        [ 0.9458, -2.6523,  1.7373],\n",
      "        ...,\n",
      "        [-1.6104,  2.1250,  0.4578],\n",
      "        [ 1.5576, -2.1133, -0.5708],\n",
      "        [ 0.4915, -2.5078,  2.1387]], device='cuda:0', dtype=torch.float16), hidden_states=None, attentions=None)\n"
     ]
    },
    {
     "name": "stderr",
     "output_type": "stream",
     "text": []
    },
    {
     "name": "stdout",
     "output_type": "stream",
     "text": [
      "output of the model SequenceClassifierOutput(loss=None, logits=tensor([[-1.7666,  2.9082, -0.8223],\n",
      "        [ 1.6904, -1.4775, -1.2988],\n",
      "        [ 1.8447, -1.4482, -1.5762],\n",
      "        ...,\n",
      "        [-1.6201,  2.9688, -1.1162],\n",
      "        [ 1.9033, -1.4365, -1.5859],\n",
      "        [ 1.8662, -1.4209, -1.5557]], device='cuda:0', dtype=torch.float16), hidden_states=None, attentions=None)\n"
     ]
    },
    {
     "name": "stderr",
     "output_type": "stream",
     "text": []
    },
    {
     "name": "stdout",
     "output_type": "stream",
     "text": [
      "output of the model SequenceClassifierOutput(loss=None, logits=tensor([[ 1.8701, -1.7324, -1.3027],\n",
      "        [-1.6074,  1.3301,  1.1631],\n",
      "        [ 0.0624, -1.7275,  2.0254],\n",
      "        ...,\n",
      "        [ 0.2542, -1.7275,  1.4893],\n",
      "        [-1.1553,  0.6318,  1.0283],\n",
      "        [ 1.3896, -2.5117,  0.7471]], device='cuda:0', dtype=torch.float16), hidden_states=None, attentions=None)\n"
     ]
    },
    {
     "name": "stderr",
     "output_type": "stream",
     "text": []
    },
    {
     "name": "stdout",
     "output_type": "stream",
     "text": [
      "output of the model SequenceClassifierOutput(loss=None, logits=tensor([[ 1.5068, -2.6602,  0.8193],\n",
      "        [ 1.2676, -2.3906,  0.6978],\n",
      "        [-0.0977, -1.9316,  2.4551],\n",
      "        ...,\n",
      "        [ 2.0410, -1.8311, -1.5000],\n",
      "        [-1.6738,  2.9492, -1.0605],\n",
      "        [-1.3008,  1.6816, -0.0944]], device='cuda:0', dtype=torch.float16), hidden_states=None, attentions=None)\n"
     ]
    },
    {
     "name": "stderr",
     "output_type": "stream",
     "text": []
    },
    {
     "name": "stdout",
     "output_type": "stream",
     "text": [
      "output of the model SequenceClassifierOutput(loss=None, logits=tensor([[-0.8833, -1.0625,  2.4141],\n",
      "        [-0.2878, -1.7988,  2.2363],\n",
      "        [-1.5264,  0.5371,  1.8281],\n",
      "        ...,\n",
      "        [-0.2415, -1.1553,  2.0020],\n",
      "        [ 0.3765, -1.1514,  0.6548],\n",
      "        [-0.7417, -1.5049,  2.5742]], device='cuda:0', dtype=torch.float16), hidden_states=None, attentions=None)\n"
     ]
    },
    {
     "name": "stderr",
     "output_type": "stream",
     "text": []
    },
    {
     "name": "stdout",
     "output_type": "stream",
     "text": [
      "output of the model SequenceClassifierOutput(loss=None, logits=tensor([[ 1.4492, -1.0049, -1.2119],\n",
      "        [-0.2415, -1.1553,  2.0020],\n",
      "        [ 0.6313, -2.2305,  1.4180],\n",
      "        ...,\n",
      "        [ 0.3259, -2.1660,  2.0898],\n",
      "        [-1.3770, -0.1636,  2.4160],\n",
      "        [-1.3730,  1.5752,  0.3018]], device='cuda:0', dtype=torch.float16), hidden_states=None, attentions=None)\n"
     ]
    },
    {
     "name": "stderr",
     "output_type": "stream",
     "text": []
    },
    {
     "name": "stdout",
     "output_type": "stream",
     "text": [
      "output of the model SequenceClassifierOutput(loss=None, logits=tensor([[-1.1631,  0.6992,  1.0742],\n",
      "        [-1.6465,  2.6367, -0.5078],\n",
      "        [-1.7822,  2.6738, -0.1471],\n",
      "        ...,\n",
      "        [-0.5000, -1.4092,  2.4531],\n",
      "        [-0.8755, -1.0732,  2.6270],\n",
      "        [ 1.8848, -2.1113, -0.8496]], device='cuda:0', dtype=torch.float16), hidden_states=None, attentions=None)\n"
     ]
    },
    {
     "name": "stderr",
     "output_type": "stream",
     "text": []
    },
    {
     "name": "stdout",
     "output_type": "stream",
     "text": [
      "output of the model SequenceClassifierOutput(loss=None, logits=tensor([[ 1.7656, -2.1289, -0.4763],\n",
      "        [ 1.2051,  0.1004, -2.1719],\n",
      "        [ 1.6914, -2.4883, -0.1615],\n",
      "        ...,\n",
      "        [ 1.1748, -1.8564,  0.5557],\n",
      "        [-1.8643,  2.3438,  0.8008],\n",
      "        [ 0.0214, -0.2920,  0.4172]], device='cuda:0', dtype=torch.float16), hidden_states=None, attentions=None)\n"
     ]
    },
    {
     "name": "stderr",
     "output_type": "stream",
     "text": []
    },
    {
     "name": "stdout",
     "output_type": "stream",
     "text": [
      "output of the model SequenceClassifierOutput(loss=None, logits=tensor([[ 1.5869, -0.8330, -1.8350],\n",
      "        [ 1.9727, -1.8037, -1.4404],\n",
      "        [ 0.7559, -0.2498, -0.6592],\n",
      "        ...,\n",
      "        [-0.6777,  0.4385,  0.4929],\n",
      "        [ 1.9717, -1.4121, -1.7197],\n",
      "        [-1.2354,  0.3118,  1.7510]], device='cuda:0', dtype=torch.float16), hidden_states=None, attentions=None)\n"
     ]
    },
    {
     "name": "stderr",
     "output_type": "stream",
     "text": []
    },
    {
     "name": "stdout",
     "output_type": "stream",
     "text": [
      "output of the model SequenceClassifierOutput(loss=None, logits=tensor([[-1.0391, -0.0142,  1.8994],\n",
      "        [-0.9507, -0.0717,  1.7939],\n",
      "        [-0.7490, -0.2612,  1.5293],\n",
      "        ...,\n",
      "        [ 1.8447, -1.8662, -1.3184],\n",
      "        [ 1.7119, -2.2207, -0.4614],\n",
      "        [ 1.7510, -2.3906, -0.2661]], device='cuda:0', dtype=torch.float16), hidden_states=None, attentions=None)\n"
     ]
    },
    {
     "name": "stderr",
     "output_type": "stream",
     "text": [
      "Processing batches (chunk 7): 100%|██████████| 98/98 [00:35<00:00,  2.79it/s]\n",
      "Processing chunks:   5%|▌         | 7/131 [04:07<1:12:58, 35.31s/it]"
     ]
    },
    {
     "name": "stdout",
     "output_type": "stream",
     "text": [
      "output of the model SequenceClassifierOutput(loss=None, logits=tensor([[ 1.1289, -1.8926,  0.4663],\n",
      "        [ 1.8096, -2.2676, -0.5708],\n",
      "        [ 1.6172, -2.4082, -0.0247],\n",
      "        ...,\n",
      "        [-1.4717,  0.2632,  2.0547],\n",
      "        [-0.6660, -1.0049,  2.2969],\n",
      "        [-1.0176, -0.9409,  2.3828]], device='cuda:0', dtype=torch.float16), hidden_states=None, attentions=None)\n"
     ]
    },
    {
     "name": "stderr",
     "output_type": "stream",
     "text": []
    },
    {
     "name": "stdout",
     "output_type": "stream",
     "text": [
      "output of the model SequenceClassifierOutput(loss=None, logits=tensor([[ 1.7207, -2.3926,  0.0570],\n",
      "        [ 0.7930, -2.1738,  1.4658],\n",
      "        [ 0.6772, -2.0742,  1.2295],\n",
      "        ...,\n",
      "        [ 1.3506, -1.8877,  0.0046],\n",
      "        [-0.9780, -0.4800,  2.1426],\n",
      "        [ 1.7256, -1.8701, -1.0039]], device='cuda:0', dtype=torch.float16), hidden_states=None, attentions=None)\n"
     ]
    },
    {
     "name": "stderr",
     "output_type": "stream",
     "text": []
    },
    {
     "name": "stdout",
     "output_type": "stream",
     "text": [
      "output of the model SequenceClassifierOutput(loss=None, logits=tensor([[ 1.6084, -1.9434, -0.5786],\n",
      "        [ 0.9795, -1.8301,  0.2391],\n",
      "        [-0.1553, -1.7998,  2.3418],\n",
      "        ...,\n",
      "        [ 0.8936, -2.5684,  1.7676],\n",
      "        [-0.3682, -1.7666,  2.3633],\n",
      "        [ 0.2498, -2.1270,  2.0176]], device='cuda:0', dtype=torch.float16), hidden_states=None, attentions=None)\n"
     ]
    },
    {
     "name": "stderr",
     "output_type": "stream",
     "text": []
    },
    {
     "name": "stdout",
     "output_type": "stream",
     "text": [
      "output of the model SequenceClassifierOutput(loss=None, logits=tensor([[ 0.4744, -2.4980,  2.1387],\n",
      "        [ 0.5610, -1.6445,  0.9849],\n",
      "        [-1.3682,  2.1855,  0.0081],\n",
      "        ...,\n",
      "        [ 1.5850, -2.3887,  0.2756],\n",
      "        [ 1.3975, -2.6289,  0.8672],\n",
      "        [ 0.9751, -2.3867,  1.2402]], device='cuda:0', dtype=torch.float16), hidden_states=None, attentions=None)\n"
     ]
    },
    {
     "name": "stderr",
     "output_type": "stream",
     "text": []
    },
    {
     "name": "stdout",
     "output_type": "stream",
     "text": [
      "output of the model SequenceClassifierOutput(loss=None, logits=tensor([[ 1.0596, -2.4688,  1.0918],\n",
      "        [ 0.3555, -2.3574,  1.9775],\n",
      "        [ 1.0068, -2.4180,  1.2793],\n",
      "        ...,\n",
      "        [-0.6880, -1.5127,  2.4844],\n",
      "        [ 2.0195, -2.4785, -0.8374],\n",
      "        [-0.6851, -1.5107,  2.5176]], device='cuda:0', dtype=torch.float16), hidden_states=None, attentions=None)\n"
     ]
    },
    {
     "name": "stderr",
     "output_type": "stream",
     "text": []
    },
    {
     "name": "stdout",
     "output_type": "stream",
     "text": [
      "output of the model SequenceClassifierOutput(loss=None, logits=tensor([[-0.8550, -1.1602,  2.5117],\n",
      "        [ 2.0898, -1.8252, -1.4219],\n",
      "        [-1.8066,  2.7266,  0.0359],\n",
      "        ...,\n",
      "        [-0.6558,  2.3594, -1.7471],\n",
      "        [ 1.2510, -0.6572, -0.8594],\n",
      "        [-0.6084, -0.8076,  1.9209]], device='cuda:0', dtype=torch.float16), hidden_states=None, attentions=None)\n"
     ]
    },
    {
     "name": "stderr",
     "output_type": "stream",
     "text": []
    },
    {
     "name": "stdout",
     "output_type": "stream",
     "text": [
      "output of the model SequenceClassifierOutput(loss=None, logits=tensor([[-0.3701, -1.6982,  2.3125],\n",
      "        [ 1.5361, -2.5801,  0.3723],\n",
      "        [-0.6270, -1.4395,  2.3574],\n",
      "        ...,\n",
      "        [ 1.0117, -2.4434,  1.2646],\n",
      "        [-0.7974, -0.9355,  2.4570],\n",
      "        [-0.6929, -0.9766,  2.3633]], device='cuda:0', dtype=torch.float16), hidden_states=None, attentions=None)\n"
     ]
    },
    {
     "name": "stderr",
     "output_type": "stream",
     "text": []
    },
    {
     "name": "stdout",
     "output_type": "stream",
     "text": [
      "output of the model SequenceClassifierOutput(loss=None, logits=tensor([[-0.6255, -1.5156,  2.5078],\n",
      "        [ 0.3875, -1.7598,  1.7715],\n",
      "        [-1.6836,  1.8223,  0.2236],\n",
      "        ...,\n",
      "        [-1.5596,  1.5986,  0.8877],\n",
      "        [ 0.5664, -1.2881,  0.3396],\n",
      "        [ 0.3611, -2.1582,  1.8564]], device='cuda:0', dtype=torch.float16), hidden_states=None, attentions=None)\n"
     ]
    },
    {
     "name": "stderr",
     "output_type": "stream",
     "text": []
    },
    {
     "name": "stdout",
     "output_type": "stream",
     "text": [
      "output of the model SequenceClassifierOutput(loss=None, logits=tensor([[-1.1318, -0.2067,  2.2969],\n",
      "        [-1.7061,  2.8574, -0.7295],\n",
      "        [ 0.0084, -1.4756,  1.6943],\n",
      "        ...,\n",
      "        [ 0.2443, -2.2539,  2.2070],\n",
      "        [-1.2354,  1.2578,  0.5703],\n",
      "        [-0.0593, -1.5771,  1.9238]], device='cuda:0', dtype=torch.float16), hidden_states=None, attentions=None)\n"
     ]
    },
    {
     "name": "stderr",
     "output_type": "stream",
     "text": []
    },
    {
     "name": "stdout",
     "output_type": "stream",
     "text": [
      "output of the model SequenceClassifierOutput(loss=None, logits=tensor([[ 1.5420e+00, -2.7500e+00,  7.5146e-01],\n",
      "        [-8.9258e-01,  1.2634e-01,  1.4521e+00],\n",
      "        [-1.6572e+00,  2.9355e+00, -9.7217e-01],\n",
      "        ...,\n",
      "        [-1.2412e+00,  2.5078e+00, -1.1738e+00],\n",
      "        [ 1.8787e-01,  1.4191e-03, -7.9639e-01],\n",
      "        [-3.8892e-01, -1.4160e+00,  2.3301e+00]], device='cuda:0',\n",
      "       dtype=torch.float16), hidden_states=None, attentions=None)\n"
     ]
    },
    {
     "name": "stderr",
     "output_type": "stream",
     "text": []
    },
    {
     "name": "stdout",
     "output_type": "stream",
     "text": [
      "output of the model SequenceClassifierOutput(loss=None, logits=tensor([[-1.4834,  0.3474,  2.0312],\n",
      "        [ 1.3555, -2.6230,  0.8276],\n",
      "        [-0.9497, -0.3157,  2.1523],\n",
      "        ...,\n",
      "        [-0.2554, -1.9062,  2.3340],\n",
      "        [-0.2947, -1.7822,  2.5020],\n",
      "        [-0.1797, -1.0439,  1.4814]], device='cuda:0', dtype=torch.float16), hidden_states=None, attentions=None)\n"
     ]
    },
    {
     "name": "stderr",
     "output_type": "stream",
     "text": []
    },
    {
     "name": "stdout",
     "output_type": "stream",
     "text": [
      "output of the model SequenceClassifierOutput(loss=None, logits=tensor([[ 1.7803, -2.3203, -0.3181],\n",
      "        [-1.6191,  2.8789, -1.0635],\n",
      "        [-1.5957,  2.0449,  0.4434],\n",
      "        ...,\n",
      "        [-1.5137,  2.2871, -0.2012],\n",
      "        [ 1.4014, -2.1172, -0.0825],\n",
      "        [-1.8203,  1.1338,  1.8018]], device='cuda:0', dtype=torch.float16), hidden_states=None, attentions=None)\n"
     ]
    },
    {
     "name": "stderr",
     "output_type": "stream",
     "text": []
    },
    {
     "name": "stdout",
     "output_type": "stream",
     "text": [
      "output of the model SequenceClassifierOutput(loss=None, logits=tensor([[-1.8193,  1.9385,  0.9468],\n",
      "        [ 1.1270, -2.2402,  0.8442],\n",
      "        [-1.7764,  3.0371, -0.9585],\n",
      "        ...,\n",
      "        [-1.4600,  2.2969, -0.2825],\n",
      "        [-1.1797, -0.5767,  2.2910],\n",
      "        [ 1.1318, -0.0330, -1.8877]], device='cuda:0', dtype=torch.float16), hidden_states=None, attentions=None)\n"
     ]
    },
    {
     "name": "stderr",
     "output_type": "stream",
     "text": []
    },
    {
     "name": "stdout",
     "output_type": "stream",
     "text": [
      "output of the model SequenceClassifierOutput(loss=None, logits=tensor([[ 1.9922, -1.6602, -1.5000],\n",
      "        [-0.3708,  1.7461, -1.7441],\n",
      "        [ 2.0488, -1.4795, -1.7607],\n",
      "        ...,\n",
      "        [ 0.6973, -2.2676,  1.6533],\n",
      "        [ 1.2822, -1.9609,  0.1646],\n",
      "        [-0.1445, -1.3848,  1.8281]], device='cuda:0', dtype=torch.float16), hidden_states=None, attentions=None)\n"
     ]
    },
    {
     "name": "stderr",
     "output_type": "stream",
     "text": []
    },
    {
     "name": "stdout",
     "output_type": "stream",
     "text": [
      "output of the model SequenceClassifierOutput(loss=None, logits=tensor([[ 1.3740, -1.7568, -0.0352],\n",
      "        [-1.6299,  2.5977, -0.5039],\n",
      "        [-1.2988, -0.3494,  2.4570],\n",
      "        ...,\n",
      "        [-0.0068, -0.9526,  1.2002],\n",
      "        [-1.6631,  1.5244,  1.0537],\n",
      "        [-0.0519, -1.9941,  2.0801]], device='cuda:0', dtype=torch.float16), hidden_states=None, attentions=None)\n"
     ]
    },
    {
     "name": "stderr",
     "output_type": "stream",
     "text": []
    },
    {
     "name": "stdout",
     "output_type": "stream",
     "text": [
      "output of the model SequenceClassifierOutput(loss=None, logits=tensor([[-0.0068, -0.9526,  1.2002],\n",
      "        [ 0.1390, -1.1338,  1.1396],\n",
      "        [ 0.8462, -0.8320, -0.8081],\n",
      "        ...,\n",
      "        [-1.1865,  1.0264,  0.7402],\n",
      "        [-1.4385, -0.1619,  2.2891],\n",
      "        [-0.6152, -1.3525,  2.5234]], device='cuda:0', dtype=torch.float16), hidden_states=None, attentions=None)\n"
     ]
    },
    {
     "name": "stderr",
     "output_type": "stream",
     "text": []
    },
    {
     "name": "stdout",
     "output_type": "stream",
     "text": [
      "output of the model SequenceClassifierOutput(loss=None, logits=tensor([[ 1.7021, -2.5586,  0.1909],\n",
      "        [ 1.0430, -0.2791, -1.4785],\n",
      "        [-1.6553,  2.3242,  0.2698],\n",
      "        ...,\n",
      "        [-0.4880,  2.3984, -2.0508],\n",
      "        [-1.3604,  2.5977, -1.0557],\n",
      "        [-1.6045,  2.7500, -0.9536]], device='cuda:0', dtype=torch.float16), hidden_states=None, attentions=None)\n"
     ]
    },
    {
     "name": "stderr",
     "output_type": "stream",
     "text": []
    },
    {
     "name": "stdout",
     "output_type": "stream",
     "text": [
      "output of the model SequenceClassifierOutput(loss=None, logits=tensor([[ 0.0161, -0.5591,  1.3428],\n",
      "        [ 0.3694, -0.8638,  0.3235],\n",
      "        [-1.1055, -0.5923,  2.1816],\n",
      "        ...,\n",
      "        [ 1.9268, -1.8760, -1.3984],\n",
      "        [ 1.0254, -2.8555,  1.7842],\n",
      "        [-1.7627,  3.0273, -0.9561]], device='cuda:0', dtype=torch.float16), hidden_states=None, attentions=None)\n"
     ]
    },
    {
     "name": "stderr",
     "output_type": "stream",
     "text": []
    },
    {
     "name": "stdout",
     "output_type": "stream",
     "text": [
      "output of the model SequenceClassifierOutput(loss=None, logits=tensor([[-0.2346, -0.7114,  0.7622],\n",
      "        [-1.7793,  2.9727, -0.8867],\n",
      "        [ 1.9619, -1.4609, -1.6621],\n",
      "        ...,\n",
      "        [-0.4031, -1.5889,  2.2188],\n",
      "        [-1.1816, -0.1984,  2.2051],\n",
      "        [ 0.3330, -1.6904,  1.9014]], device='cuda:0', dtype=torch.float16), hidden_states=None, attentions=None)\n"
     ]
    },
    {
     "name": "stderr",
     "output_type": "stream",
     "text": []
    },
    {
     "name": "stdout",
     "output_type": "stream",
     "text": [
      "output of the model SequenceClassifierOutput(loss=None, logits=tensor([[-1.2734, -0.5010,  2.5508],\n",
      "        [ 0.3149, -2.2070,  1.9316],\n",
      "        [-0.5757,  1.9873, -1.5762],\n",
      "        ...,\n",
      "        [-0.7993, -1.3115,  2.5723],\n",
      "        [ 1.9395, -1.4736, -1.6221],\n",
      "        [ 0.0464, -1.0146,  1.6631]], device='cuda:0', dtype=torch.float16), hidden_states=None, attentions=None)\n"
     ]
    },
    {
     "name": "stderr",
     "output_type": "stream",
     "text": []
    },
    {
     "name": "stdout",
     "output_type": "stream",
     "text": [
      "output of the model SequenceClassifierOutput(loss=None, logits=tensor([[ 0.0464, -1.0146,  1.6631],\n",
      "        [-1.4561, -0.0400,  2.4141],\n",
      "        [-1.4561, -0.0400,  2.4141],\n",
      "        ...,\n",
      "        [-1.1514,  0.2900,  1.8369],\n",
      "        [ 1.9707, -2.0059, -1.3379],\n",
      "        [-0.0068, -0.9526,  1.2002]], device='cuda:0', dtype=torch.float16), hidden_states=None, attentions=None)\n"
     ]
    },
    {
     "name": "stderr",
     "output_type": "stream",
     "text": []
    },
    {
     "name": "stdout",
     "output_type": "stream",
     "text": [
      "output of the model SequenceClassifierOutput(loss=None, logits=tensor([[ 0.1390, -1.1338,  1.1396],\n",
      "        [ 2.0391, -1.6475, -1.6182],\n",
      "        [-0.0039, -0.9385,  1.2070],\n",
      "        ...,\n",
      "        [-0.3762, -1.5723,  2.4355],\n",
      "        [ 0.0289,  0.2625, -0.9312],\n",
      "        [ 1.5938, -2.2969,  0.1414]], device='cuda:0', dtype=torch.float16), hidden_states=None, attentions=None)\n"
     ]
    },
    {
     "name": "stderr",
     "output_type": "stream",
     "text": []
    },
    {
     "name": "stdout",
     "output_type": "stream",
     "text": [
      "output of the model SequenceClassifierOutput(loss=None, logits=tensor([[ 1.2715, -2.4043,  0.6270],\n",
      "        [ 1.8486, -2.2676, -0.7778],\n",
      "        [-0.0641, -1.7998,  2.2383],\n",
      "        ...,\n",
      "        [ 1.5400, -1.7666, -0.9951],\n",
      "        [-0.9146, -0.9312,  2.5098],\n",
      "        [-0.7183, -0.7764,  2.1094]], device='cuda:0', dtype=torch.float16), hidden_states=None, attentions=None)\n"
     ]
    },
    {
     "name": "stderr",
     "output_type": "stream",
     "text": []
    },
    {
     "name": "stdout",
     "output_type": "stream",
     "text": [
      "output of the model SequenceClassifierOutput(loss=None, logits=tensor([[-0.7183, -0.7764,  2.1094],\n",
      "        [-1.1602, -0.7285,  2.5938],\n",
      "        [-0.7715, -0.9590,  2.3125],\n",
      "        ...,\n",
      "        [ 0.5576, -1.2295,  0.4280],\n",
      "        [-1.2119,  1.6807,  0.0336],\n",
      "        [-1.3115,  0.0726,  2.2383]], device='cuda:0', dtype=torch.float16), hidden_states=None, attentions=None)\n"
     ]
    },
    {
     "name": "stderr",
     "output_type": "stream",
     "text": []
    },
    {
     "name": "stdout",
     "output_type": "stream",
     "text": [
      "output of the model SequenceClassifierOutput(loss=None, logits=tensor([[ 0.9297, -2.0859,  0.8418],\n",
      "        [-0.9648,  0.0305,  1.5576],\n",
      "        [-0.6709, -0.2793,  1.4219],\n",
      "        ...,\n",
      "        [-1.5303,  2.4414, -0.1757],\n",
      "        [-1.4609,  0.1407,  2.2188],\n",
      "        [-1.3604,  0.5425,  1.7891]], device='cuda:0', dtype=torch.float16), hidden_states=None, attentions=None)\n"
     ]
    },
    {
     "name": "stderr",
     "output_type": "stream",
     "text": []
    },
    {
     "name": "stdout",
     "output_type": "stream",
     "text": [
      "output of the model SequenceClassifierOutput(loss=None, logits=tensor([[ 0.5771, -2.2109,  1.9814],\n",
      "        [-1.4834,  2.3008, -0.3386],\n",
      "        [-1.4121,  1.3125,  1.0303],\n",
      "        ...,\n",
      "        [-0.1886, -1.9414,  2.4336],\n",
      "        [ 0.8794, -1.1523, -0.6167],\n",
      "        [ 1.8867, -1.8145, -1.3584]], device='cuda:0', dtype=torch.float16), hidden_states=None, attentions=None)\n"
     ]
    },
    {
     "name": "stderr",
     "output_type": "stream",
     "text": []
    },
    {
     "name": "stdout",
     "output_type": "stream",
     "text": [
      "output of the model SequenceClassifierOutput(loss=None, logits=tensor([[-3.7956e-04,  1.0283e+00, -1.7412e+00],\n",
      "        [-1.0859e+00, -6.7529e-01,  2.4141e+00],\n",
      "        [-1.4775e+00,  2.3364e-01,  2.1152e+00],\n",
      "        ...,\n",
      "        [ 1.3086e+00, -1.9932e+00, -2.9321e-01],\n",
      "        [-5.4004e-01,  1.0703e+00, -7.9102e-01],\n",
      "        [ 1.5205e+00, -1.2158e+00, -1.4443e+00]], device='cuda:0',\n",
      "       dtype=torch.float16), hidden_states=None, attentions=None)\n"
     ]
    },
    {
     "name": "stderr",
     "output_type": "stream",
     "text": []
    },
    {
     "name": "stdout",
     "output_type": "stream",
     "text": [
      "output of the model SequenceClassifierOutput(loss=None, logits=tensor([[ 1.3418, -2.2559,  0.2303],\n",
      "        [ 1.9473, -1.5293, -1.6172],\n",
      "        [-1.4434,  2.6172, -0.9521],\n",
      "        ...,\n",
      "        [-0.6128, -1.4531,  2.4102],\n",
      "        [ 0.8086,  0.8682, -2.2402],\n",
      "        [-0.2263,  0.2754, -0.3816]], device='cuda:0', dtype=torch.float16), hidden_states=None, attentions=None)\n"
     ]
    },
    {
     "name": "stderr",
     "output_type": "stream",
     "text": []
    },
    {
     "name": "stdout",
     "output_type": "stream",
     "text": [
      "output of the model SequenceClassifierOutput(loss=None, logits=tensor([[-1.4199, -0.2102,  2.2930],\n",
      "        [-1.4756,  0.2505,  2.0938],\n",
      "        [-0.1130,  0.2339, -0.6250],\n",
      "        ...,\n",
      "        [-1.8467,  2.3262,  0.4165],\n",
      "        [-0.1904,  1.2998, -1.8555],\n",
      "        [-0.2462, -1.1143,  1.3330]], device='cuda:0', dtype=torch.float16), hidden_states=None, attentions=None)\n"
     ]
    },
    {
     "name": "stderr",
     "output_type": "stream",
     "text": []
    },
    {
     "name": "stdout",
     "output_type": "stream",
     "text": [
      "output of the model SequenceClassifierOutput(loss=None, logits=tensor([[ 1.1230, -2.4609,  0.8950],\n",
      "        [-0.6558,  1.5957, -1.1797],\n",
      "        [-1.7656,  3.0098, -0.9531],\n",
      "        ...,\n",
      "        [ 0.6001, -0.0313, -1.3818],\n",
      "        [-1.6855,  2.7266, -0.3633],\n",
      "        [-1.4990,  0.3728,  2.0391]], device='cuda:0', dtype=torch.float16), hidden_states=None, attentions=None)\n"
     ]
    },
    {
     "name": "stderr",
     "output_type": "stream",
     "text": []
    },
    {
     "name": "stdout",
     "output_type": "stream",
     "text": [
      "output of the model SequenceClassifierOutput(loss=None, logits=tensor([[-0.9370, -0.5918,  2.2559],\n",
      "        [ 1.2354, -0.1122, -1.8447],\n",
      "        [-1.3359,  0.0260,  2.2090],\n",
      "        ...,\n",
      "        [-1.2852, -0.5098,  2.5586],\n",
      "        [ 0.0295, -2.1074,  2.4180],\n",
      "        [ 1.6826, -2.6309,  0.3362]], device='cuda:0', dtype=torch.float16), hidden_states=None, attentions=None)\n"
     ]
    },
    {
     "name": "stderr",
     "output_type": "stream",
     "text": []
    },
    {
     "name": "stdout",
     "output_type": "stream",
     "text": [
      "output of the model SequenceClassifierOutput(loss=None, logits=tensor([[ 1.5723, -1.6221, -0.4246],\n",
      "        [ 2.0957, -2.2695, -1.0703],\n",
      "        [ 1.7383, -1.1963, -1.1992],\n",
      "        ...,\n",
      "        [-0.8594, -1.1855,  2.3789],\n",
      "        [-0.7578, -0.7876,  2.3242],\n",
      "        [-0.7021, -1.2441,  2.3613]], device='cuda:0', dtype=torch.float16), hidden_states=None, attentions=None)\n"
     ]
    },
    {
     "name": "stderr",
     "output_type": "stream",
     "text": []
    },
    {
     "name": "stdout",
     "output_type": "stream",
     "text": [
      "output of the model SequenceClassifierOutput(loss=None, logits=tensor([[-1.0293, -0.9277,  2.3633],\n",
      "        [-0.7666, -1.0537,  2.2578],\n",
      "        [-0.4500, -1.4365,  2.2734],\n",
      "        ...,\n",
      "        [-1.2900,  1.0010,  0.9800],\n",
      "        [-1.1055, -0.6860,  2.2637],\n",
      "        [-1.2988, -0.4771,  2.5371]], device='cuda:0', dtype=torch.float16), hidden_states=None, attentions=None)\n"
     ]
    },
    {
     "name": "stderr",
     "output_type": "stream",
     "text": []
    },
    {
     "name": "stdout",
     "output_type": "stream",
     "text": [
      "output of the model SequenceClassifierOutput(loss=None, logits=tensor([[ 1.9043, -2.4297, -0.4702],\n",
      "        [ 1.9189, -2.3125, -0.9248],\n",
      "        [-1.2900, -0.5557,  2.5312],\n",
      "        ...,\n",
      "        [ 0.2462, -2.4121,  2.2148],\n",
      "        [-1.0508, -0.3845,  2.3105],\n",
      "        [-1.4287, -0.1193,  2.4434]], device='cuda:0', dtype=torch.float16), hidden_states=None, attentions=None)\n"
     ]
    },
    {
     "name": "stderr",
     "output_type": "stream",
     "text": []
    },
    {
     "name": "stdout",
     "output_type": "stream",
     "text": [
      "output of the model SequenceClassifierOutput(loss=None, logits=tensor([[-0.0964, -2.0039,  2.4512],\n",
      "        [-0.5796, -1.3018,  2.1758],\n",
      "        [-1.2324, -0.5952,  2.5430],\n",
      "        ...,\n",
      "        [-1.1455,  0.7744,  0.8564],\n",
      "        [ 0.8130,  0.6138, -2.1680],\n",
      "        [ 2.0547, -1.8838, -1.5020]], device='cuda:0', dtype=torch.float16), hidden_states=None, attentions=None)\n"
     ]
    },
    {
     "name": "stderr",
     "output_type": "stream",
     "text": []
    },
    {
     "name": "stdout",
     "output_type": "stream",
     "text": [
      "output of the model SequenceClassifierOutput(loss=None, logits=tensor([[-0.1793,  1.4180, -1.6758],\n",
      "        [ 0.5645, -1.9971,  1.4883],\n",
      "        [-0.9106,  0.6089,  0.7026],\n",
      "        ...,\n",
      "        [-1.2578,  1.3096,  0.2817],\n",
      "        [ 1.8027, -1.3945, -1.6016],\n",
      "        [-0.0353, -0.4385, -0.0432]], device='cuda:0', dtype=torch.float16), hidden_states=None, attentions=None)\n"
     ]
    },
    {
     "name": "stderr",
     "output_type": "stream",
     "text": []
    },
    {
     "name": "stdout",
     "output_type": "stream",
     "text": [
      "output of the model SequenceClassifierOutput(loss=None, logits=tensor([[-0.7490, -0.2612,  1.5293],\n",
      "        [ 0.8066, -1.0615, -0.4919],\n",
      "        [-0.1223, -0.0862, -0.3030],\n",
      "        ...,\n",
      "        [ 1.7061, -1.9863, -0.8403],\n",
      "        [ 1.4961, -1.1270, -1.3350],\n",
      "        [ 1.2373, -1.9775,  0.0163]], device='cuda:0', dtype=torch.float16), hidden_states=None, attentions=None)\n"
     ]
    },
    {
     "name": "stderr",
     "output_type": "stream",
     "text": []
    },
    {
     "name": "stdout",
     "output_type": "stream",
     "text": [
      "output of the model SequenceClassifierOutput(loss=None, logits=tensor([[-0.8306,  0.2786,  0.8037],\n",
      "        [-0.3132,  0.5996, -0.7759],\n",
      "        [ 1.4521, -1.1357, -1.3730],\n",
      "        ...,\n",
      "        [ 1.7783, -2.7070,  0.3325],\n",
      "        [-0.5117, -1.2178,  2.3359],\n",
      "        [ 0.8091, -1.2236, -0.4255]], device='cuda:0', dtype=torch.float16), hidden_states=None, attentions=None)\n"
     ]
    },
    {
     "name": "stderr",
     "output_type": "stream",
     "text": []
    },
    {
     "name": "stdout",
     "output_type": "stream",
     "text": [
      "output of the model SequenceClassifierOutput(loss=None, logits=tensor([[-1.4639,  0.2460,  2.0977],\n",
      "        [-0.8955, -0.8042,  2.4727],\n",
      "        [-0.3098, -1.7891,  2.4648],\n",
      "        ...,\n",
      "        [-0.5977, -1.2959,  2.4961],\n",
      "        [-0.7490, -0.4429,  1.8799],\n",
      "        [-1.6709,  2.0156,  0.7949]], device='cuda:0', dtype=torch.float16), hidden_states=None, attentions=None)\n"
     ]
    },
    {
     "name": "stderr",
     "output_type": "stream",
     "text": []
    },
    {
     "name": "stdout",
     "output_type": "stream",
     "text": [
      "output of the model SequenceClassifierOutput(loss=None, logits=tensor([[-0.6289, -1.2490,  2.5000],\n",
      "        [-0.6841, -0.1844,  1.5498],\n",
      "        [-0.6919, -0.1576,  1.5205],\n",
      "        ...,\n",
      "        [ 0.3440, -1.5947,  1.7109],\n",
      "        [ 0.4436, -2.2012,  1.8955],\n",
      "        [ 0.3103, -1.6934,  1.4824]], device='cuda:0', dtype=torch.float16), hidden_states=None, attentions=None)\n"
     ]
    },
    {
     "name": "stderr",
     "output_type": "stream",
     "text": []
    },
    {
     "name": "stdout",
     "output_type": "stream",
     "text": [
      "output of the model SequenceClassifierOutput(loss=None, logits=tensor([[-1.8398,  1.7959,  1.1475],\n",
      "        [-1.6992,  1.5137,  1.2500],\n",
      "        [ 1.7500, -2.5391, -0.2825],\n",
      "        ...,\n",
      "        [-1.8291,  2.9785, -0.8369],\n",
      "        [ 0.9897, -0.1126, -1.8535],\n",
      "        [-1.1221, -0.5894,  2.1777]], device='cuda:0', dtype=torch.float16), hidden_states=None, attentions=None)\n"
     ]
    },
    {
     "name": "stderr",
     "output_type": "stream",
     "text": []
    },
    {
     "name": "stdout",
     "output_type": "stream",
     "text": [
      "output of the model SequenceClassifierOutput(loss=None, logits=tensor([[-1.4082, -0.0317,  2.3398],\n",
      "        [-1.0234, -0.4868,  2.2871],\n",
      "        [-1.6768,  2.8066, -0.7046],\n",
      "        ...,\n",
      "        [-0.6919,  2.1289, -1.7627],\n",
      "        [ 1.9268, -0.9004, -2.0527],\n",
      "        [-1.6211,  2.9219, -1.0947]], device='cuda:0', dtype=torch.float16), hidden_states=None, attentions=None)\n"
     ]
    },
    {
     "name": "stderr",
     "output_type": "stream",
     "text": []
    },
    {
     "name": "stdout",
     "output_type": "stream",
     "text": [
      "output of the model SequenceClassifierOutput(loss=None, logits=tensor([[-1.1553, -0.6104,  2.3809],\n",
      "        [-0.0909, -1.5654,  1.6807],\n",
      "        [-1.2295, -0.3687,  2.3828],\n",
      "        ...,\n",
      "        [-0.0679,  1.0742, -1.2256],\n",
      "        [-0.7925, -1.1416,  2.5840],\n",
      "        [ 0.1355, -2.1504,  2.0059]], device='cuda:0', dtype=torch.float16), hidden_states=None, attentions=None)\n"
     ]
    },
    {
     "name": "stderr",
     "output_type": "stream",
     "text": []
    },
    {
     "name": "stdout",
     "output_type": "stream",
     "text": [
      "output of the model SequenceClassifierOutput(loss=None, logits=tensor([[ 1.9385, -1.5996, -1.5586],\n",
      "        [-0.4167, -1.5215,  2.3633],\n",
      "        [ 1.4443, -2.0762, -0.2208],\n",
      "        ...,\n",
      "        [-1.3555,  0.2460,  1.8105],\n",
      "        [-0.7427,  1.2324, -0.6924],\n",
      "        [ 1.1562, -0.5337, -1.6865]], device='cuda:0', dtype=torch.float16), hidden_states=None, attentions=None)\n"
     ]
    },
    {
     "name": "stderr",
     "output_type": "stream",
     "text": []
    },
    {
     "name": "stdout",
     "output_type": "stream",
     "text": [
      "output of the model SequenceClassifierOutput(loss=None, logits=tensor([[ 0.1318,  0.9912, -1.8760],\n",
      "        [-0.4563,  1.7617, -1.5459],\n",
      "        [-1.4590,  0.1705,  2.1680],\n",
      "        ...,\n",
      "        [-1.0723, -0.9072,  2.6621],\n",
      "        [-0.9717, -1.0283,  2.6504],\n",
      "        [-1.1055, -0.8296,  2.6523]], device='cuda:0', dtype=torch.float16), hidden_states=None, attentions=None)\n"
     ]
    },
    {
     "name": "stderr",
     "output_type": "stream",
     "text": []
    },
    {
     "name": "stdout",
     "output_type": "stream",
     "text": [
      "output of the model SequenceClassifierOutput(loss=None, logits=tensor([[-1.0117, -0.9521,  2.6328],\n",
      "        [-1.3008,  1.4150,  0.3811],\n",
      "        [-1.1279, -0.7251,  2.5332],\n",
      "        ...,\n",
      "        [-1.5918,  2.2539,  0.0546],\n",
      "        [ 1.2354, -2.2949,  0.6387],\n",
      "        [ 1.9502, -1.5742, -1.6562]], device='cuda:0', dtype=torch.float16), hidden_states=None, attentions=None)\n"
     ]
    },
    {
     "name": "stderr",
     "output_type": "stream",
     "text": []
    },
    {
     "name": "stdout",
     "output_type": "stream",
     "text": [
      "output of the model SequenceClassifierOutput(loss=None, logits=tensor([[-0.2397, -0.4131,  0.2793],\n",
      "        [-1.4570,  0.2014,  2.1328],\n",
      "        [ 0.6504, -1.8350,  1.2578],\n",
      "        ...,\n",
      "        [-0.6792, -1.4668,  2.5957],\n",
      "        [-1.3457,  0.3225,  1.9912],\n",
      "        [ 1.7354, -2.8750,  0.4099]], device='cuda:0', dtype=torch.float16), hidden_states=None, attentions=None)\n"
     ]
    },
    {
     "name": "stderr",
     "output_type": "stream",
     "text": []
    },
    {
     "name": "stdout",
     "output_type": "stream",
     "text": [
      "output of the model SequenceClassifierOutput(loss=None, logits=tensor([[ 1.6123, -2.8477,  0.5117],\n",
      "        [ 0.0946, -1.4170,  1.6533],\n",
      "        [ 0.1790, -2.2520,  2.1797],\n",
      "        ...,\n",
      "        [ 0.3926, -1.2529,  0.7969],\n",
      "        [-1.4551,  0.2412,  2.0820],\n",
      "        [ 1.7695, -2.3066, -0.5288]], device='cuda:0', dtype=torch.float16), hidden_states=None, attentions=None)\n"
     ]
    },
    {
     "name": "stderr",
     "output_type": "stream",
     "text": []
    },
    {
     "name": "stdout",
     "output_type": "stream",
     "text": [
      "output of the model SequenceClassifierOutput(loss=None, logits=tensor([[-1.6270,  2.1953,  0.4060],\n",
      "        [-1.0381, -0.6846,  2.4707],\n",
      "        [-1.4756,  2.3770, -0.3108],\n",
      "        ...,\n",
      "        [-1.7471,  2.6113, -0.1159],\n",
      "        [-1.7471,  2.6113, -0.1159],\n",
      "        [-1.7822,  2.6738, -0.1471]], device='cuda:0', dtype=torch.float16), hidden_states=None, attentions=None)\n"
     ]
    },
    {
     "name": "stderr",
     "output_type": "stream",
     "text": []
    },
    {
     "name": "stdout",
     "output_type": "stream",
     "text": [
      "output of the model SequenceClassifierOutput(loss=None, logits=tensor([[-1.7461,  3.0293, -0.9976],\n",
      "        [-0.0812, -0.9219,  0.3833],\n",
      "        [ 1.0664, -2.4121,  1.1543],\n",
      "        ...,\n",
      "        [ 1.8369, -2.7578,  0.2274],\n",
      "        [ 1.8701, -1.7324, -1.3027],\n",
      "        [-1.4277,  2.8594, -1.2441]], device='cuda:0', dtype=torch.float16), hidden_states=None, attentions=None)\n"
     ]
    },
    {
     "name": "stderr",
     "output_type": "stream",
     "text": []
    },
    {
     "name": "stdout",
     "output_type": "stream",
     "text": [
      "output of the model SequenceClassifierOutput(loss=None, logits=tensor([[-1.3818,  2.8613, -1.2549],\n",
      "        [-0.3059, -0.7915,  0.9038],\n",
      "        [ 0.8110, -1.1885, -0.3486],\n",
      "        ...,\n",
      "        [-1.4463,  2.5293, -0.9702],\n",
      "        [-0.2642, -1.2305,  1.7637],\n",
      "        [-0.9492,  1.1123,  0.1534]], device='cuda:0', dtype=torch.float16), hidden_states=None, attentions=None)\n"
     ]
    },
    {
     "name": "stderr",
     "output_type": "stream",
     "text": []
    },
    {
     "name": "stdout",
     "output_type": "stream",
     "text": [
      "output of the model SequenceClassifierOutput(loss=None, logits=tensor([[ 0.4880, -1.8018,  1.3525],\n",
      "        [ 2.0547, -1.6084, -1.6758],\n",
      "        [-1.3926, -0.0208,  2.2891],\n",
      "        ...,\n",
      "        [ 0.8853, -0.6343, -1.1318],\n",
      "        [-1.4775,  0.2783,  2.0469],\n",
      "        [-1.6152,  1.8154,  0.7070]], device='cuda:0', dtype=torch.float16), hidden_states=None, attentions=None)\n"
     ]
    },
    {
     "name": "stderr",
     "output_type": "stream",
     "text": []
    },
    {
     "name": "stdout",
     "output_type": "stream",
     "text": [
      "output of the model SequenceClassifierOutput(loss=None, logits=tensor([[-1.6182,  1.5830,  1.1113],\n",
      "        [-0.0278,  0.6372, -1.1035],\n",
      "        [ 1.0947, -1.7432, -0.4094],\n",
      "        ...,\n",
      "        [-1.5195,  0.2793,  2.1211],\n",
      "        [-1.2139, -0.5430,  2.3008],\n",
      "        [ 2.0117, -1.5439, -1.6719]], device='cuda:0', dtype=torch.float16), hidden_states=None, attentions=None)\n"
     ]
    },
    {
     "name": "stderr",
     "output_type": "stream",
     "text": []
    },
    {
     "name": "stdout",
     "output_type": "stream",
     "text": [
      "output of the model SequenceClassifierOutput(loss=None, logits=tensor([[-0.9023,  0.1643,  1.3184],\n",
      "        [-0.5454, -1.4619,  2.5234],\n",
      "        [ 0.3083, -1.5176,  1.5742],\n",
      "        ...,\n",
      "        [-0.1843, -0.0154,  0.3748],\n",
      "        [-0.3323, -1.5928,  2.0938],\n",
      "        [-0.0122, -0.1978, -0.2432]], device='cuda:0', dtype=torch.float16), hidden_states=None, attentions=None)\n"
     ]
    },
    {
     "name": "stderr",
     "output_type": "stream",
     "text": []
    },
    {
     "name": "stdout",
     "output_type": "stream",
     "text": [
      "output of the model SequenceClassifierOutput(loss=None, logits=tensor([[-0.3923, -0.1183,  0.7744],\n",
      "        [ 0.9297, -2.0859,  0.8418],\n",
      "        [-1.7129,  2.8965, -0.8955],\n",
      "        ...,\n",
      "        [-1.4502,  0.1617,  2.1543],\n",
      "        [-1.1943, -0.5654,  2.3125],\n",
      "        [-1.0303, -0.6328,  2.2402]], device='cuda:0', dtype=torch.float16), hidden_states=None, attentions=None)\n"
     ]
    },
    {
     "name": "stderr",
     "output_type": "stream",
     "text": []
    },
    {
     "name": "stdout",
     "output_type": "stream",
     "text": [
      "output of the model SequenceClassifierOutput(loss=None, logits=tensor([[-0.6807, -1.1777,  2.1035],\n",
      "        [-0.0844, -2.0254,  2.3262],\n",
      "        [-0.0844, -2.0254,  2.3262],\n",
      "        ...,\n",
      "        [ 0.5620, -2.5391,  1.9961],\n",
      "        [ 2.0566, -1.9033, -1.4170],\n",
      "        [ 0.3279, -1.0742,  0.4509]], device='cuda:0', dtype=torch.float16), hidden_states=None, attentions=None)\n"
     ]
    },
    {
     "name": "stderr",
     "output_type": "stream",
     "text": []
    },
    {
     "name": "stdout",
     "output_type": "stream",
     "text": [
      "output of the model SequenceClassifierOutput(loss=None, logits=tensor([[ 2.0527, -1.5664, -1.7012],\n",
      "        [-0.6274, -0.1749,  0.5918],\n",
      "        [-1.7842,  3.0312, -0.9526],\n",
      "        ...,\n",
      "        [-1.4932,  0.2966,  2.0625],\n",
      "        [-1.8232,  2.2324,  0.3682],\n",
      "        [ 1.5234, -2.4141,  0.2074]], device='cuda:0', dtype=torch.float16), hidden_states=None, attentions=None)\n"
     ]
    },
    {
     "name": "stderr",
     "output_type": "stream",
     "text": []
    },
    {
     "name": "stdout",
     "output_type": "stream",
     "text": [
      "output of the model SequenceClassifierOutput(loss=None, logits=tensor([[ 1.1963, -1.2617, -1.0664],\n",
      "        [-0.9277, -0.1008,  1.8965],\n",
      "        [-0.6069, -0.1104,  0.7583],\n",
      "        ...,\n",
      "        [ 0.3962, -0.0970, -1.2061],\n",
      "        [-0.5601, -1.6670,  2.4395],\n",
      "        [-0.9526, -0.1682,  1.6904]], device='cuda:0', dtype=torch.float16), hidden_states=None, attentions=None)\n"
     ]
    },
    {
     "name": "stderr",
     "output_type": "stream",
     "text": []
    },
    {
     "name": "stdout",
     "output_type": "stream",
     "text": [
      "output of the model SequenceClassifierOutput(loss=None, logits=tensor([[ 2.0605, -2.2285, -1.1602],\n",
      "        [-0.8467, -0.5430,  2.1777],\n",
      "        [ 0.9834, -0.5615, -1.5830],\n",
      "        ...,\n",
      "        [-0.0039, -0.9385,  1.2070],\n",
      "        [-0.6870,  1.0986, -0.5044],\n",
      "        [-0.4153,  0.1593,  0.6426]], device='cuda:0', dtype=torch.float16), hidden_states=None, attentions=None)\n"
     ]
    },
    {
     "name": "stderr",
     "output_type": "stream",
     "text": []
    },
    {
     "name": "stdout",
     "output_type": "stream",
     "text": [
      "output of the model SequenceClassifierOutput(loss=None, logits=tensor([[-0.5723,  0.8706, -0.4602],\n",
      "        [ 1.1611, -1.0420, -1.2969],\n",
      "        [-0.5601,  1.0869, -0.6729],\n",
      "        ...,\n",
      "        [-0.8052, -0.9775,  2.4434],\n",
      "        [ 1.7959, -1.8271, -1.1289],\n",
      "        [ 0.1804, -1.4814,  1.2168]], device='cuda:0', dtype=torch.float16), hidden_states=None, attentions=None)\n"
     ]
    },
    {
     "name": "stderr",
     "output_type": "stream",
     "text": []
    },
    {
     "name": "stdout",
     "output_type": "stream",
     "text": [
      "output of the model SequenceClassifierOutput(loss=None, logits=tensor([[ 1.7217, -2.0938, -0.8223],\n",
      "        [ 0.0626,  0.0540, -0.7866],\n",
      "        [ 0.3477,  0.4124, -1.6836],\n",
      "        ...,\n",
      "        [-1.0322, -0.7920,  2.4062],\n",
      "        [ 0.4885, -2.1484,  1.8496],\n",
      "        [ 0.0989, -1.5107,  1.5127]], device='cuda:0', dtype=torch.float16), hidden_states=None, attentions=None)\n"
     ]
    },
    {
     "name": "stderr",
     "output_type": "stream",
     "text": []
    },
    {
     "name": "stdout",
     "output_type": "stream",
     "text": [
      "output of the model SequenceClassifierOutput(loss=None, logits=tensor([[-1.1396,  1.5723, -0.2427],\n",
      "        [-0.7212,  0.2837,  0.7422],\n",
      "        [-1.2529,  1.2881,  0.4175],\n",
      "        ...,\n",
      "        [ 1.9883, -2.3496, -0.6211],\n",
      "        [ 0.4722, -2.1934,  2.0742],\n",
      "        [ 0.0118, -2.1504,  2.3262]], device='cuda:0', dtype=torch.float16), hidden_states=None, attentions=None)\n"
     ]
    },
    {
     "name": "stderr",
     "output_type": "stream",
     "text": []
    },
    {
     "name": "stdout",
     "output_type": "stream",
     "text": [
      "output of the model SequenceClassifierOutput(loss=None, logits=tensor([[-1.5801,  2.6074, -0.7715],\n",
      "        [-0.0757, -1.8447,  2.1328],\n",
      "        [-0.1127, -1.3574,  1.5742],\n",
      "        ...,\n",
      "        [-0.0409, -0.8066,  1.3848],\n",
      "        [ 0.3440, -1.5947,  1.7109],\n",
      "        [ 0.1417, -1.9385,  2.1797]], device='cuda:0', dtype=torch.float16), hidden_states=None, attentions=None)\n"
     ]
    },
    {
     "name": "stderr",
     "output_type": "stream",
     "text": []
    },
    {
     "name": "stdout",
     "output_type": "stream",
     "text": [
      "output of the model SequenceClassifierOutput(loss=None, logits=tensor([[ 2.0039, -2.1602, -1.0840],\n",
      "        [ 0.1417, -1.9385,  2.1797],\n",
      "        [ 1.0547, -2.6270,  1.5322],\n",
      "        ...,\n",
      "        [-0.0039, -0.9385,  1.2070],\n",
      "        [-0.5908, -1.5586,  2.6211],\n",
      "        [-1.5645,  2.9082, -1.1357]], device='cuda:0', dtype=torch.float16), hidden_states=None, attentions=None)\n"
     ]
    },
    {
     "name": "stderr",
     "output_type": "stream",
     "text": []
    },
    {
     "name": "stdout",
     "output_type": "stream",
     "text": [
      "output of the model SequenceClassifierOutput(loss=None, logits=tensor([[ 1.9287, -1.5615, -1.5889],\n",
      "        [-0.6914, -0.0379,  1.2520],\n",
      "        [-0.6865, -0.5454,  1.9932],\n",
      "        ...,\n",
      "        [-0.6421, -1.3848,  2.4473],\n",
      "        [ 0.9575, -2.4746,  0.9683],\n",
      "        [-0.4465, -1.6670,  2.5215]], device='cuda:0', dtype=torch.float16), hidden_states=None, attentions=None)\n"
     ]
    },
    {
     "name": "stderr",
     "output_type": "stream",
     "text": []
    },
    {
     "name": "stdout",
     "output_type": "stream",
     "text": [
      "output of the model SequenceClassifierOutput(loss=None, logits=tensor([[-0.3145, -1.8379,  2.5391],\n",
      "        [-1.2529, -0.5283,  2.5566],\n",
      "        [-1.1963,  1.3604,  0.5225],\n",
      "        ...,\n",
      "        [ 1.5957, -2.2715, -0.1809],\n",
      "        [ 2.0098, -1.7500, -1.5273],\n",
      "        [ 0.9199, -0.1538, -1.5869]], device='cuda:0', dtype=torch.float16), hidden_states=None, attentions=None)\n"
     ]
    },
    {
     "name": "stderr",
     "output_type": "stream",
     "text": []
    },
    {
     "name": "stdout",
     "output_type": "stream",
     "text": [
      "output of the model SequenceClassifierOutput(loss=None, logits=tensor([[ 1.3662, -0.2358, -1.8721],\n",
      "        [ 0.8296, -0.1661, -1.4873],\n",
      "        [ 1.9619, -1.4609, -1.6621],\n",
      "        ...,\n",
      "        [-1.9287,  2.7734, -0.1183],\n",
      "        [-1.1523,  2.0312, -0.2888],\n",
      "        [-0.2700, -1.4619,  2.3145]], device='cuda:0', dtype=torch.float16), hidden_states=None, attentions=None)\n"
     ]
    },
    {
     "name": "stderr",
     "output_type": "stream",
     "text": []
    },
    {
     "name": "stdout",
     "output_type": "stream",
     "text": [
      "output of the model SequenceClassifierOutput(loss=None, logits=tensor([[ 0.3782, -1.8359,  1.3389],\n",
      "        [ 1.0430, -2.6328,  1.3916],\n",
      "        [ 1.8643, -2.5508,  0.0339],\n",
      "        ...,\n",
      "        [ 1.1143, -1.9092,  0.2839],\n",
      "        [-1.8682,  2.9844, -0.7646],\n",
      "        [-1.6973,  2.7480, -0.6890]], device='cuda:0', dtype=torch.float16), hidden_states=None, attentions=None)\n"
     ]
    },
    {
     "name": "stderr",
     "output_type": "stream",
     "text": []
    },
    {
     "name": "stdout",
     "output_type": "stream",
     "text": [
      "output of the model SequenceClassifierOutput(loss=None, logits=tensor([[ 1.1143, -1.9092,  0.2839],\n",
      "        [-1.9229,  1.9834,  1.0889],\n",
      "        [-0.4299, -1.7236,  2.4512],\n",
      "        ...,\n",
      "        [ 0.7349, -0.4795, -1.1816],\n",
      "        [-0.4124,  1.7539, -1.8281],\n",
      "        [-1.4814,  0.2805,  2.0449]], device='cuda:0', dtype=torch.float16), hidden_states=None, attentions=None)\n"
     ]
    },
    {
     "name": "stderr",
     "output_type": "stream",
     "text": []
    },
    {
     "name": "stdout",
     "output_type": "stream",
     "text": [
      "output of the model SequenceClassifierOutput(loss=None, logits=tensor([[-1.1572, -0.5972,  2.2832],\n",
      "        [ 1.7764, -1.2139, -1.4785],\n",
      "        [ 1.5615, -2.4902,  0.3342],\n",
      "        ...,\n",
      "        [ 1.5381, -0.8413, -1.5176],\n",
      "        [ 0.3440, -1.5947,  1.7109],\n",
      "        [ 1.9209, -2.0410, -1.2168]], device='cuda:0', dtype=torch.float16), hidden_states=None, attentions=None)\n"
     ]
    },
    {
     "name": "stderr",
     "output_type": "stream",
     "text": []
    },
    {
     "name": "stdout",
     "output_type": "stream",
     "text": [
      "output of the model SequenceClassifierOutput(loss=None, logits=tensor([[-0.4216,  0.6724, -0.9526],\n",
      "        [ 1.7061, -2.8906,  0.8662],\n",
      "        [ 1.7383, -2.0605, -0.7075],\n",
      "        ...,\n",
      "        [-1.4814,  0.3450,  2.2773],\n",
      "        [-0.7944,  0.1122,  1.0859],\n",
      "        [-0.0109,  0.7607, -1.6562]], device='cuda:0', dtype=torch.float16), hidden_states=None, attentions=None)\n"
     ]
    },
    {
     "name": "stderr",
     "output_type": "stream",
     "text": []
    },
    {
     "name": "stdout",
     "output_type": "stream",
     "text": [
      "output of the model SequenceClassifierOutput(loss=None, logits=tensor([[-1.4590,  0.1997,  2.1328],\n",
      "        [-1.8760,  2.8945, -0.5273],\n",
      "        [ 1.4863, -1.3486, -1.3604],\n",
      "        ...,\n",
      "        [-0.2090, -0.9976,  1.5127],\n",
      "        [ 1.0938, -0.8252, -1.2627],\n",
      "        [-1.4736,  0.2122,  2.1270]], device='cuda:0', dtype=torch.float16), hidden_states=None, attentions=None)\n"
     ]
    },
    {
     "name": "stderr",
     "output_type": "stream",
     "text": []
    },
    {
     "name": "stdout",
     "output_type": "stream",
     "text": [
      "output of the model SequenceClassifierOutput(loss=None, logits=tensor([[ 0.7446, -1.5850,  0.5571],\n",
      "        [ 0.8833, -0.6533, -0.3464],\n",
      "        [ 0.2278, -2.3125,  2.1602],\n",
      "        ...,\n",
      "        [-1.9492,  3.0137, -0.6406],\n",
      "        [-0.3958,  0.3552, -0.2377],\n",
      "        [ 1.1611, -1.1006, -1.0811]], device='cuda:0', dtype=torch.float16), hidden_states=None, attentions=None)\n"
     ]
    },
    {
     "name": "stderr",
     "output_type": "stream",
     "text": []
    },
    {
     "name": "stdout",
     "output_type": "stream",
     "text": [
      "output of the model SequenceClassifierOutput(loss=None, logits=tensor([[-1.5576,  0.5537,  2.0078],\n",
      "        [ 0.4919, -1.4668,  0.8052],\n",
      "        [-0.9648,  0.0305,  1.5576],\n",
      "        ...,\n",
      "        [-0.2732, -1.9150,  2.3711],\n",
      "        [-0.1566, -1.9668,  2.3320],\n",
      "        [-0.7969, -1.2295,  2.5566]], device='cuda:0', dtype=torch.float16), hidden_states=None, attentions=None)\n"
     ]
    },
    {
     "name": "stderr",
     "output_type": "stream",
     "text": []
    },
    {
     "name": "stdout",
     "output_type": "stream",
     "text": [
      "output of the model SequenceClassifierOutput(loss=None, logits=tensor([[-0.1345,  0.4294, -0.1288],\n",
      "        [-1.5967,  1.6162,  0.8018],\n",
      "        [-0.7612, -1.2148,  2.3574],\n",
      "        ...,\n",
      "        [-0.7495,  0.0775,  0.7778],\n",
      "        [ 0.0534, -1.8525,  1.8301],\n",
      "        [ 1.6191, -1.8672, -0.5278]], device='cuda:0', dtype=torch.float16), hidden_states=None, attentions=None)\n"
     ]
    },
    {
     "name": "stderr",
     "output_type": "stream",
     "text": []
    },
    {
     "name": "stdout",
     "output_type": "stream",
     "text": [
      "output of the model SequenceClassifierOutput(loss=None, logits=tensor([[-1.5771,  0.3474,  2.1094],\n",
      "        [-0.5991, -1.2451,  2.4180],\n",
      "        [ 0.3440, -1.5947,  1.7109],\n",
      "        ...,\n",
      "        [-1.8047,  3.0176, -0.9341],\n",
      "        [ 1.9893, -1.4629, -1.6426],\n",
      "        [-0.9277, -0.2401,  1.7432]], device='cuda:0', dtype=torch.float16), hidden_states=None, attentions=None)\n"
     ]
    },
    {
     "name": "stderr",
     "output_type": "stream",
     "text": []
    },
    {
     "name": "stdout",
     "output_type": "stream",
     "text": [
      "output of the model SequenceClassifierOutput(loss=None, logits=tensor([[ 1.6201, -0.6841, -1.9463],\n",
      "        [ 1.9521, -1.4561, -1.6523],\n",
      "        [-0.5933, -0.4822,  1.4990],\n",
      "        ...,\n",
      "        [-1.2783,  2.3770, -0.5859],\n",
      "        [-1.4453,  2.4629, -0.7573],\n",
      "        [-1.3838,  1.7412,  0.5845]], device='cuda:0', dtype=torch.float16), hidden_states=None, attentions=None)\n"
     ]
    },
    {
     "name": "stderr",
     "output_type": "stream",
     "text": []
    },
    {
     "name": "stdout",
     "output_type": "stream",
     "text": [
      "output of the model SequenceClassifierOutput(loss=None, logits=tensor([[-0.2815,  0.4780, -0.5142],\n",
      "        [-1.4746,  0.3054,  2.0547],\n",
      "        [ 0.2742, -2.1465,  2.2246],\n",
      "        ...,\n",
      "        [-1.5146,  0.4656,  1.9404],\n",
      "        [-1.4121,  1.3125,  1.0303],\n",
      "        [-1.1895,  2.3320, -1.0156]], device='cuda:0', dtype=torch.float16), hidden_states=None, attentions=None)\n"
     ]
    },
    {
     "name": "stderr",
     "output_type": "stream",
     "text": []
    },
    {
     "name": "stdout",
     "output_type": "stream",
     "text": [
      "output of the model SequenceClassifierOutput(loss=None, logits=tensor([[-0.8604, -0.1257,  1.5225],\n",
      "        [ 0.1632, -0.1412,  0.0269],\n",
      "        [-0.9648,  0.0161,  1.5781],\n",
      "        ...,\n",
      "        [-1.1865,  0.2571,  1.9473],\n",
      "        [ 2.0957, -1.6924, -1.6367],\n",
      "        [-0.6191,  0.0084,  0.9414]], device='cuda:0', dtype=torch.float16), hidden_states=None, attentions=None)\n"
     ]
    },
    {
     "name": "stderr",
     "output_type": "stream",
     "text": []
    },
    {
     "name": "stdout",
     "output_type": "stream",
     "text": [
      "output of the model SequenceClassifierOutput(loss=None, logits=tensor([[ 0.7905, -0.2888, -1.4150],\n",
      "        [-1.5195,  2.7617, -1.0137],\n",
      "        [-1.8525,  3.0410, -0.9038],\n",
      "        ...,\n",
      "        [ 0.8765,  0.8457, -2.1738],\n",
      "        [-0.0987,  0.3638, -0.6328],\n",
      "        [ 1.8174, -1.7959, -1.0469]], device='cuda:0', dtype=torch.float16), hidden_states=None, attentions=None)\n"
     ]
    },
    {
     "name": "stderr",
     "output_type": "stream",
     "text": []
    },
    {
     "name": "stdout",
     "output_type": "stream",
     "text": [
      "output of the model SequenceClassifierOutput(loss=None, logits=tensor([[ 0.1406, -2.2148,  2.2363],\n",
      "        [ 1.7695, -2.9551,  0.5503],\n",
      "        [ 0.0512,  0.0843, -0.9219],\n",
      "        ...,\n",
      "        [-0.6040, -0.9072,  2.1855],\n",
      "        [ 1.1133, -1.2607, -0.0983],\n",
      "        [-0.4338,  0.0891,  0.6934]], device='cuda:0', dtype=torch.float16), hidden_states=None, attentions=None)\n"
     ]
    },
    {
     "name": "stderr",
     "output_type": "stream",
     "text": []
    },
    {
     "name": "stdout",
     "output_type": "stream",
     "text": [
      "output of the model SequenceClassifierOutput(loss=None, logits=tensor([[-0.2407, -0.3594,  0.4407],\n",
      "        [-1.6084,  0.7764,  1.7695],\n",
      "        [ 0.9414, -2.2969,  1.2637],\n",
      "        ...,\n",
      "        [ 0.3445, -1.8359,  1.8086],\n",
      "        [-1.9287,  2.1328,  1.0195],\n",
      "        [-0.1982, -0.3757,  1.1074]], device='cuda:0', dtype=torch.float16), hidden_states=None, attentions=None)\n"
     ]
    },
    {
     "name": "stderr",
     "output_type": "stream",
     "text": []
    },
    {
     "name": "stdout",
     "output_type": "stream",
     "text": [
      "output of the model SequenceClassifierOutput(loss=None, logits=tensor([[-1.5625,  1.7822,  0.1754],\n",
      "        [-1.8857,  3.0234, -0.5498],\n",
      "        [ 1.9512, -0.8379, -2.0625],\n",
      "        ...,\n",
      "        [-0.3687,  0.3879,  0.0300],\n",
      "        [-0.1866,  0.2186, -0.1655],\n",
      "        [ 1.9521, -1.6982, -1.3291]], device='cuda:0', dtype=torch.float16), hidden_states=None, attentions=None)\n"
     ]
    },
    {
     "name": "stderr",
     "output_type": "stream",
     "text": []
    },
    {
     "name": "stdout",
     "output_type": "stream",
     "text": [
      "output of the model SequenceClassifierOutput(loss=None, logits=tensor([[ 1.7578, -1.4854, -1.4463],\n",
      "        [-0.0177, -1.5566,  1.8564],\n",
      "        [ 2.0527, -1.3525, -1.7705],\n",
      "        ...,\n",
      "        [-0.4885, -0.4331,  1.6416],\n",
      "        [ 1.5195, -1.0176, -1.4639],\n",
      "        [ 1.9355, -2.0605, -1.1797]], device='cuda:0', dtype=torch.float16), hidden_states=None, attentions=None)\n"
     ]
    },
    {
     "name": "stderr",
     "output_type": "stream",
     "text": []
    },
    {
     "name": "stdout",
     "output_type": "stream",
     "text": [
      "output of the model SequenceClassifierOutput(loss=None, logits=tensor([[-0.1884,  0.4492, -0.6641],\n",
      "        [ 0.0456, -0.1235,  0.1948],\n",
      "        [-1.1211,  2.5625, -1.3350],\n",
      "        ...,\n",
      "        [ 1.9189, -2.7520,  0.1836],\n",
      "        [-0.4795, -0.4592,  1.6611],\n",
      "        [-1.0557, -0.7217,  2.3418]], device='cuda:0', dtype=torch.float16), hidden_states=None, attentions=None)\n"
     ]
    },
    {
     "name": "stderr",
     "output_type": "stream",
     "text": []
    },
    {
     "name": "stdout",
     "output_type": "stream",
     "text": [
      "output of the model SequenceClassifierOutput(loss=None, logits=tensor([[-0.9849, -1.0234,  2.6426],\n",
      "        [ 1.0439, -2.3672,  1.0947],\n",
      "        [-0.0656, -2.0039,  2.2012],\n",
      "        ...,\n",
      "        [ 2.1309, -1.6084, -1.7344],\n",
      "        [ 2.0840, -2.0469, -1.4453],\n",
      "        [-0.7896, -0.9209,  2.1523]], device='cuda:0', dtype=torch.float16), hidden_states=None, attentions=None)\n"
     ]
    },
    {
     "name": "stderr",
     "output_type": "stream",
     "text": []
    },
    {
     "name": "stdout",
     "output_type": "stream",
     "text": [
      "output of the model SequenceClassifierOutput(loss=None, logits=tensor([[-0.1091,  1.3906, -2.0117],\n",
      "        [-1.5859,  0.5908,  1.8926],\n",
      "        [ 1.8691, -2.7500, -0.1003],\n",
      "        ...,\n",
      "        [-1.0732,  0.6309,  1.6846],\n",
      "        [-0.8315, -0.6577,  2.3789],\n",
      "        [-0.5630, -1.4287,  2.5117]], device='cuda:0', dtype=torch.float16), hidden_states=None, attentions=None)\n"
     ]
    },
    {
     "name": "stderr",
     "output_type": "stream",
     "text": []
    },
    {
     "name": "stdout",
     "output_type": "stream",
     "text": [
      "output of the model SequenceClassifierOutput(loss=None, logits=tensor([[-9.3506e-01, -7.9443e-01,  2.3750e+00],\n",
      "        [-1.5332e-01,  1.9646e-03,  3.9551e-01],\n",
      "        [-8.4277e-01, -1.4844e-01,  1.6484e+00],\n",
      "        ...,\n",
      "        [-1.6855e+00,  2.2754e+00,  3.7866e-01],\n",
      "        [-8.8086e-01, -4.9780e-01,  2.1543e+00],\n",
      "        [-2.0105e-01, -1.8320e+00,  2.2715e+00]], device='cuda:0',\n",
      "       dtype=torch.float16), hidden_states=None, attentions=None)\n"
     ]
    },
    {
     "name": "stderr",
     "output_type": "stream",
     "text": []
    },
    {
     "name": "stdout",
     "output_type": "stream",
     "text": [
      "output of the model SequenceClassifierOutput(loss=None, logits=tensor([[ 1.4277, -0.6504, -1.7266],\n",
      "        [-1.0986,  0.3328,  1.6748],\n",
      "        [-1.1924, -0.5005,  2.3320],\n",
      "        ...,\n",
      "        [-1.4932,  0.3291,  2.0723],\n",
      "        [-0.8916, -0.5889,  2.3965],\n",
      "        [-0.5806, -1.3545,  2.2734]], device='cuda:0', dtype=torch.float16), hidden_states=None, attentions=None)\n"
     ]
    },
    {
     "name": "stderr",
     "output_type": "stream",
     "text": []
    },
    {
     "name": "stdout",
     "output_type": "stream",
     "text": [
      "output of the model SequenceClassifierOutput(loss=None, logits=tensor([[-0.4709, -1.5029,  2.4004],\n",
      "        [ 2.1660, -1.6289, -1.7471],\n",
      "        [ 0.8569, -2.6816,  1.8945],\n",
      "        ...,\n",
      "        [-0.6831, -0.2852,  1.7666],\n",
      "        [ 0.6475, -2.3516,  1.5195],\n",
      "        [-0.7822,  0.5791,  0.6729]], device='cuda:0', dtype=torch.float16), hidden_states=None, attentions=None)\n"
     ]
    },
    {
     "name": "stderr",
     "output_type": "stream",
     "text": []
    },
    {
     "name": "stdout",
     "output_type": "stream",
     "text": [
      "output of the model SequenceClassifierOutput(loss=None, logits=tensor([[ 0.6611, -0.4177, -1.1289],\n",
      "        [-1.4668, -0.1155,  2.4355],\n",
      "        [-1.4697,  0.2157,  2.0879],\n",
      "        ...,\n",
      "        [-0.5664, -1.6504,  2.5664],\n",
      "        [ 0.6226, -2.4141,  1.9609],\n",
      "        [-1.0527, -0.9019,  2.4902]], device='cuda:0', dtype=torch.float16), hidden_states=None, attentions=None)\n"
     ]
    },
    {
     "name": "stderr",
     "output_type": "stream",
     "text": []
    },
    {
     "name": "stdout",
     "output_type": "stream",
     "text": [
      "output of the model SequenceClassifierOutput(loss=None, logits=tensor([[-0.4678, -1.4609,  2.4062],\n",
      "        [ 1.3711, -2.8359,  1.2529],\n",
      "        [ 0.4119, -2.4395,  2.1172],\n",
      "        ...,\n",
      "        [ 0.0474, -2.1934,  2.2363],\n",
      "        [ 0.2771, -2.1016,  2.2012],\n",
      "        [-1.0957, -0.7412,  2.4785]], device='cuda:0', dtype=torch.float16), hidden_states=None, attentions=None)\n"
     ]
    },
    {
     "name": "stderr",
     "output_type": "stream",
     "text": []
    },
    {
     "name": "stdout",
     "output_type": "stream",
     "text": [
      "output of the model SequenceClassifierOutput(loss=None, logits=tensor([[-1.0674, -0.7412,  2.5137],\n",
      "        [-0.8662, -0.9443,  2.4492],\n",
      "        [-0.6577, -1.3740,  2.3730],\n",
      "        ...,\n",
      "        [-1.8877,  2.8145, -0.3506],\n",
      "        [-1.4316,  1.8896, -0.1155],\n",
      "        [-0.4014, -1.3701,  2.3770]], device='cuda:0', dtype=torch.float16), hidden_states=None, attentions=None)\n"
     ]
    },
    {
     "name": "stderr",
     "output_type": "stream",
     "text": []
    },
    {
     "name": "stdout",
     "output_type": "stream",
     "text": [
      "output of the model SequenceClassifierOutput(loss=None, logits=tensor([[ 0.1763, -0.3391,  0.0415],\n",
      "        [-1.4541,  0.2003,  2.1230],\n",
      "        [ 0.9429, -2.7344,  1.7500],\n",
      "        ...,\n",
      "        [-1.6270,  1.3916,  1.1396],\n",
      "        [-1.3486,  0.8823,  1.0176],\n",
      "        [-1.0859,  1.2061,  0.6968]], device='cuda:0', dtype=torch.float16), hidden_states=None, attentions=None)\n"
     ]
    },
    {
     "name": "stderr",
     "output_type": "stream",
     "text": []
    },
    {
     "name": "stdout",
     "output_type": "stream",
     "text": [
      "output of the model SequenceClassifierOutput(loss=None, logits=tensor([[-0.9082, -1.1729,  2.5645],\n",
      "        [ 1.3936, -0.1859, -1.9268],\n",
      "        [-1.6221,  1.2256,  1.3281],\n",
      "        ...,\n",
      "        [-0.8188, -0.7861,  1.8457],\n",
      "        [-0.2026, -1.5811,  2.2461],\n",
      "        [-0.5898, -1.3350,  2.4629]], device='cuda:0', dtype=torch.float16), hidden_states=None, attentions=None)\n"
     ]
    },
    {
     "name": "stderr",
     "output_type": "stream",
     "text": []
    },
    {
     "name": "stdout",
     "output_type": "stream",
     "text": [
      "output of the model SequenceClassifierOutput(loss=None, logits=tensor([[-0.5898, -1.3350,  2.4629],\n",
      "        [-1.2920, -0.2825,  2.1875],\n",
      "        [-1.2920, -0.2825,  2.1875],\n",
      "        ...,\n",
      "        [-0.9800, -0.9204,  2.4375],\n",
      "        [ 1.0586, -0.8877, -0.2913],\n",
      "        [ 0.3440, -1.5947,  1.7109]], device='cuda:0', dtype=torch.float16), hidden_states=None, attentions=None)\n"
     ]
    },
    {
     "name": "stderr",
     "output_type": "stream",
     "text": []
    },
    {
     "name": "stdout",
     "output_type": "stream",
     "text": [
      "output of the model SequenceClassifierOutput(loss=None, logits=tensor([[ 1.6777, -2.0078, -0.9038],\n",
      "        [ 0.2651, -0.2910, -0.6494],\n",
      "        [-0.7002, -1.1885,  2.2891],\n",
      "        ...,\n",
      "        [ 1.0459, -2.2969,  1.0176],\n",
      "        [-0.6230, -1.5117,  2.4824],\n",
      "        [-0.1163,  0.1901, -0.5405]], device='cuda:0', dtype=torch.float16), hidden_states=None, attentions=None)\n"
     ]
    },
    {
     "name": "stderr",
     "output_type": "stream",
     "text": []
    },
    {
     "name": "stdout",
     "output_type": "stream",
     "text": [
      "output of the model SequenceClassifierOutput(loss=None, logits=tensor([[ 1.3135, -2.6270,  1.0576],\n",
      "        [-0.9321, -0.2057,  1.7461],\n",
      "        [ 2.0156, -2.2930, -1.0947],\n",
      "        ...,\n",
      "        [-1.1328,  0.9390,  0.5815],\n",
      "        [-1.6162,  1.4316,  1.0986],\n",
      "        [ 1.7051, -2.7090,  0.2329]], device='cuda:0', dtype=torch.float16), hidden_states=None, attentions=None)\n",
      "output of the model SequenceClassifierOutput(loss=None, logits=tensor([[ 0.8818, -1.8096,  0.5239],\n",
      "        [-0.2952, -1.8496,  2.5273],\n",
      "        [ 1.8633, -1.6504, -1.4189],\n",
      "        ...,\n",
      "        [-1.3848,  0.1945,  1.6914],\n",
      "        [ 0.7090, -2.2559,  1.6855],\n",
      "        [-0.1322, -1.7119,  2.3145]], device='cuda:0', dtype=torch.float16), hidden_states=None, attentions=None)\n"
     ]
    },
    {
     "name": "stderr",
     "output_type": "stream",
     "text": [
      "Processing batches (chunk 8): 100%|██████████| 98/98 [00:35<00:00,  2.72it/s]\n",
      "Processing chunks:   6%|▌         | 8/131 [04:43<1:12:53, 35.56s/it]"
     ]
    },
    {
     "name": "stdout",
     "output_type": "stream",
     "text": [
      "output of the model SequenceClassifierOutput(loss=None, logits=tensor([[ 0.7705, -2.6797,  1.7773],\n",
      "        [ 0.7056, -2.5156,  1.9307],\n",
      "        [-1.1963,  1.4424,  0.0374],\n",
      "        ...,\n",
      "        [-0.0186, -1.4102,  2.1152],\n",
      "        [-0.7808,  0.6553,  0.4304],\n",
      "        [-1.6387,  2.8066, -0.9893]], device='cuda:0', dtype=torch.float16), hidden_states=None, attentions=None)\n"
     ]
    },
    {
     "name": "stderr",
     "output_type": "stream",
     "text": []
    },
    {
     "name": "stdout",
     "output_type": "stream",
     "text": [
      "output of the model SequenceClassifierOutput(loss=None, logits=tensor([[-0.8237, -0.9839,  2.3672],\n",
      "        [-1.4082, -0.2164,  2.2227],\n",
      "        [-0.2415, -1.1553,  2.0020],\n",
      "        ...,\n",
      "        [-1.9463,  2.4355,  0.1449],\n",
      "        [-1.6650,  2.7871, -0.8491],\n",
      "        [-0.3918, -1.7100,  2.3828]], device='cuda:0', dtype=torch.float16), hidden_states=None, attentions=None)\n"
     ]
    },
    {
     "name": "stderr",
     "output_type": "stream",
     "text": []
    },
    {
     "name": "stdout",
     "output_type": "stream",
     "text": [
      "output of the model SequenceClassifierOutput(loss=None, logits=tensor([[ 1.9131, -1.5801, -1.5469],\n",
      "        [-1.5420,  2.3555, -0.5327],\n",
      "        [ 2.0352, -1.5146, -1.7148],\n",
      "        ...,\n",
      "        [ 0.3496, -2.0566,  2.0000],\n",
      "        [-0.1969, -0.1715,  0.1804],\n",
      "        [-1.3643, -0.2449,  2.3594]], device='cuda:0', dtype=torch.float16), hidden_states=None, attentions=None)\n"
     ]
    },
    {
     "name": "stderr",
     "output_type": "stream",
     "text": []
    },
    {
     "name": "stdout",
     "output_type": "stream",
     "text": [
      "output of the model SequenceClassifierOutput(loss=None, logits=tensor([[-0.8853, -0.7969,  2.3379],\n",
      "        [-0.1300,  0.3835, -1.0977],\n",
      "        [-0.5371,  0.6494, -0.3542],\n",
      "        ...,\n",
      "        [-0.5757, -0.4641,  1.3584],\n",
      "        [ 0.2632, -1.9434,  1.8838],\n",
      "        [-1.4033,  1.7930,  0.4043]], device='cuda:0', dtype=torch.float16), hidden_states=None, attentions=None)\n"
     ]
    },
    {
     "name": "stderr",
     "output_type": "stream",
     "text": []
    },
    {
     "name": "stdout",
     "output_type": "stream",
     "text": [
      "output of the model SequenceClassifierOutput(loss=None, logits=tensor([[ 1.5322, -1.0049, -1.5098],\n",
      "        [-0.8804, -1.3623,  2.6504],\n",
      "        [-0.6372,  1.2471, -0.7637],\n",
      "        ...,\n",
      "        [-1.4033,  0.0413,  2.4180],\n",
      "        [-0.9121, -0.7866,  2.4707],\n",
      "        [-1.0713,  0.9678,  0.6724]], device='cuda:0', dtype=torch.float16), hidden_states=None, attentions=None)\n"
     ]
    },
    {
     "name": "stderr",
     "output_type": "stream",
     "text": []
    },
    {
     "name": "stdout",
     "output_type": "stream",
     "text": [
      "output of the model SequenceClassifierOutput(loss=None, logits=tensor([[ 1.5156, -2.4551,  0.1708],\n",
      "        [-1.5039,  0.1208,  2.3047],\n",
      "        [-1.8252,  2.0508,  1.1094],\n",
      "        ...,\n",
      "        [-1.4736,  0.1520,  2.1816],\n",
      "        [ 0.6758, -1.5908,  0.2306],\n",
      "        [-1.0615, -0.9229,  2.6543]], device='cuda:0', dtype=torch.float16), hidden_states=None, attentions=None)\n"
     ]
    },
    {
     "name": "stderr",
     "output_type": "stream",
     "text": []
    },
    {
     "name": "stdout",
     "output_type": "stream",
     "text": [
      "output of the model SequenceClassifierOutput(loss=None, logits=tensor([[-0.5698, -1.5010,  2.5879],\n",
      "        [-0.8481, -1.0908,  2.5234],\n",
      "        [ 0.1118,  1.0918, -2.0039],\n",
      "        ...,\n",
      "        [ 0.9043, -2.6348,  1.7939],\n",
      "        [ 0.2019, -0.0421, -1.1221],\n",
      "        [ 1.0430, -1.3232, -0.4558]], device='cuda:0', dtype=torch.float16), hidden_states=None, attentions=None)\n"
     ]
    },
    {
     "name": "stderr",
     "output_type": "stream",
     "text": []
    },
    {
     "name": "stdout",
     "output_type": "stream",
     "text": [
      "output of the model SequenceClassifierOutput(loss=None, logits=tensor([[ 0.6050, -0.0811, -0.4739],\n",
      "        [ 0.7549,  0.6152, -2.1270],\n",
      "        [ 2.0586, -2.0000, -1.2607],\n",
      "        ...,\n",
      "        [ 0.1708, -2.0508,  2.0352],\n",
      "        [ 1.5420, -2.6602,  0.5796],\n",
      "        [ 1.8184, -0.7842, -1.9609]], device='cuda:0', dtype=torch.float16), hidden_states=None, attentions=None)\n"
     ]
    },
    {
     "name": "stderr",
     "output_type": "stream",
     "text": []
    },
    {
     "name": "stdout",
     "output_type": "stream",
     "text": [
      "output of the model SequenceClassifierOutput(loss=None, logits=tensor([[-0.5039, -1.1865,  2.0859],\n",
      "        [ 1.7959, -2.2246, -0.9688],\n",
      "        [ 1.0137, -2.7031,  1.6211],\n",
      "        ...,\n",
      "        [ 0.0253,  0.4397, -1.2715],\n",
      "        [-0.3435,  0.7856, -1.1328],\n",
      "        [ 0.0253,  0.4397, -1.2715]], device='cuda:0', dtype=torch.float16), hidden_states=None, attentions=None)\n"
     ]
    },
    {
     "name": "stderr",
     "output_type": "stream",
     "text": []
    },
    {
     "name": "stdout",
     "output_type": "stream",
     "text": [
      "output of the model SequenceClassifierOutput(loss=None, logits=tensor([[-1.2080,  1.3203,  0.0162],\n",
      "        [ 1.7822, -1.2686, -1.6621],\n",
      "        [ 1.6934, -1.6963, -1.1846],\n",
      "        ...,\n",
      "        [-0.3994, -0.5991,  0.8545],\n",
      "        [-0.1863,  0.9414, -1.2441],\n",
      "        [ 0.3296, -1.2041,  0.6626]], device='cuda:0', dtype=torch.float16), hidden_states=None, attentions=None)\n"
     ]
    },
    {
     "name": "stderr",
     "output_type": "stream",
     "text": []
    },
    {
     "name": "stdout",
     "output_type": "stream",
     "text": [
      "output of the model SequenceClassifierOutput(loss=None, logits=tensor([[ 1.6611, -1.3125, -1.4551],\n",
      "        [ 1.4658, -2.5332,  0.4277],\n",
      "        [-0.0792, -1.6611,  2.0391],\n",
      "        ...,\n",
      "        [-0.6377, -0.8589,  2.2012],\n",
      "        [ 0.0845, -1.9863,  1.9336],\n",
      "        [ 1.3330, -2.5840,  0.8442]], device='cuda:0', dtype=torch.float16), hidden_states=None, attentions=None)\n"
     ]
    },
    {
     "name": "stderr",
     "output_type": "stream",
     "text": []
    },
    {
     "name": "stdout",
     "output_type": "stream",
     "text": [
      "output of the model SequenceClassifierOutput(loss=None, logits=tensor([[ 2.0996, -2.0977, -1.2422],\n",
      "        [ 1.9482, -2.0859, -0.7437],\n",
      "        [-1.4863,  1.8379,  0.4177],\n",
      "        ...,\n",
      "        [-1.2646, -0.5322,  2.5469],\n",
      "        [-0.8467, -0.5430,  2.1777],\n",
      "        [-0.9341,  2.0020, -1.1221]], device='cuda:0', dtype=torch.float16), hidden_states=None, attentions=None)\n"
     ]
    },
    {
     "name": "stderr",
     "output_type": "stream",
     "text": []
    },
    {
     "name": "stdout",
     "output_type": "stream",
     "text": [
      "output of the model SequenceClassifierOutput(loss=None, logits=tensor([[-1.6162,  2.8672, -0.9248],\n",
      "        [-0.9932, -0.7344,  2.3281],\n",
      "        [ 1.2139, -0.8857, -1.3359],\n",
      "        ...,\n",
      "        [ 1.2275, -2.7344,  1.4326],\n",
      "        [ 0.8955, -2.4102,  1.4424],\n",
      "        [-0.5312,  0.0045,  1.1455]], device='cuda:0', dtype=torch.float16), hidden_states=None, attentions=None)\n"
     ]
    },
    {
     "name": "stderr",
     "output_type": "stream",
     "text": []
    },
    {
     "name": "stdout",
     "output_type": "stream",
     "text": [
      "output of the model SequenceClassifierOutput(loss=None, logits=tensor([[ 0.1935, -2.2754,  2.1680],\n",
      "        [-1.4082,  1.0400,  1.1748],\n",
      "        [-1.9482,  2.9277, -0.3040],\n",
      "        ...,\n",
      "        [-0.8408,  2.4023, -1.7285],\n",
      "        [ 0.0928,  1.7578, -2.0469],\n",
      "        [ 1.2783,  0.2866, -2.0859]], device='cuda:0', dtype=torch.float16), hidden_states=None, attentions=None)\n"
     ]
    },
    {
     "name": "stderr",
     "output_type": "stream",
     "text": []
    },
    {
     "name": "stdout",
     "output_type": "stream",
     "text": [
      "output of the model SequenceClassifierOutput(loss=None, logits=tensor([[-0.6040, -0.9072,  2.1855],\n",
      "        [-0.4248, -1.6768,  2.4590],\n",
      "        [ 1.3604, -2.6934,  1.0703],\n",
      "        ...,\n",
      "        [ 0.8184, -2.5176,  1.8799],\n",
      "        [-0.8149, -0.9370,  2.4199],\n",
      "        [ 0.0638, -2.1406,  2.2461]], device='cuda:0', dtype=torch.float16), hidden_states=None, attentions=None)\n"
     ]
    },
    {
     "name": "stderr",
     "output_type": "stream",
     "text": []
    },
    {
     "name": "stdout",
     "output_type": "stream",
     "text": [
      "output of the model SequenceClassifierOutput(loss=None, logits=tensor([[-0.6538, -1.2881,  2.5020],\n",
      "        [ 1.7666, -1.4404, -1.1475],\n",
      "        [ 0.9263, -0.2051, -1.6846],\n",
      "        ...,\n",
      "        [ 1.6279, -1.4863, -1.3066],\n",
      "        [ 1.1865, -1.2910, -0.4514],\n",
      "        [-1.4346,  0.1139,  2.3125]], device='cuda:0', dtype=torch.float16), hidden_states=None, attentions=None)\n"
     ]
    },
    {
     "name": "stderr",
     "output_type": "stream",
     "text": []
    },
    {
     "name": "stdout",
     "output_type": "stream",
     "text": [
      "output of the model SequenceClassifierOutput(loss=None, logits=tensor([[-1.1963,  0.2471,  1.9004],\n",
      "        [-0.2668, -1.3193,  2.0156],\n",
      "        [-0.1102, -1.9385,  2.3184],\n",
      "        ...,\n",
      "        [-1.3027, -0.4502,  2.5293],\n",
      "        [-0.6909, -1.5029,  2.4746],\n",
      "        [-0.4067, -1.8340,  2.5039]], device='cuda:0', dtype=torch.float16), hidden_states=None, attentions=None)\n"
     ]
    },
    {
     "name": "stderr",
     "output_type": "stream",
     "text": []
    },
    {
     "name": "stdout",
     "output_type": "stream",
     "text": [
      "output of the model SequenceClassifierOutput(loss=None, logits=tensor([[-0.4756,  0.5029, -0.5327],\n",
      "        [-1.5801,  0.6177,  2.0469],\n",
      "        [-1.2500,  0.2786,  1.5625],\n",
      "        ...,\n",
      "        [ 1.9658, -2.5703, -0.5137],\n",
      "        [-1.1738,  1.5215, -0.1127],\n",
      "        [-1.5957,  1.5752,  0.8291]], device='cuda:0', dtype=torch.float16), hidden_states=None, attentions=None)\n"
     ]
    },
    {
     "name": "stderr",
     "output_type": "stream",
     "text": []
    },
    {
     "name": "stdout",
     "output_type": "stream",
     "text": [
      "output of the model SequenceClassifierOutput(loss=None, logits=tensor([[ 0.2671, -1.8467,  1.4209],\n",
      "        [-0.7490, -0.2612,  1.5293],\n",
      "        [ 1.6152, -2.5195, -0.0406],\n",
      "        ...,\n",
      "        [ 1.9121, -1.5098, -1.6094],\n",
      "        [ 1.6104, -2.6680,  0.4641],\n",
      "        [-0.6909,  0.0170,  1.0098]], device='cuda:0', dtype=torch.float16), hidden_states=None, attentions=None)\n"
     ]
    },
    {
     "name": "stderr",
     "output_type": "stream",
     "text": []
    },
    {
     "name": "stdout",
     "output_type": "stream",
     "text": [
      "output of the model SequenceClassifierOutput(loss=None, logits=tensor([[ 0.0270, -1.3086,  1.4414],\n",
      "        [-1.4912,  2.6348, -0.9971],\n",
      "        [-1.1602,  0.6797,  1.0107],\n",
      "        ...,\n",
      "        [-1.2930, -0.4912,  2.5137],\n",
      "        [-0.0820, -1.7461,  2.1562],\n",
      "        [ 1.9219, -2.4570, -0.1615]], device='cuda:0', dtype=torch.float16), hidden_states=None, attentions=None)\n"
     ]
    },
    {
     "name": "stderr",
     "output_type": "stream",
     "text": []
    },
    {
     "name": "stdout",
     "output_type": "stream",
     "text": [
      "output of the model SequenceClassifierOutput(loss=None, logits=tensor([[ 0.8472, -2.2949,  1.0039],\n",
      "        [-0.9854, -1.0049,  2.5762],\n",
      "        [-0.0895,  1.1494, -1.7305],\n",
      "        ...,\n",
      "        [-1.6143,  1.8037,  0.8833],\n",
      "        [-1.7773,  3.0000, -0.9141],\n",
      "        [-0.6636, -0.3208,  1.4766]], device='cuda:0', dtype=torch.float16), hidden_states=None, attentions=None)\n"
     ]
    },
    {
     "name": "stderr",
     "output_type": "stream",
     "text": []
    },
    {
     "name": "stdout",
     "output_type": "stream",
     "text": [
      "output of the model SequenceClassifierOutput(loss=None, logits=tensor([[-0.0068,  0.5410, -1.4824],\n",
      "        [-0.7461, -1.4287,  2.5586],\n",
      "        [-0.1760,  0.3320, -0.5483],\n",
      "        ...,\n",
      "        [ 0.3425, -0.4766,  0.1608],\n",
      "        [-0.9595, -0.5186,  2.2227],\n",
      "        [-0.6235,  1.6406, -1.5098]], device='cuda:0', dtype=torch.float16), hidden_states=None, attentions=None)\n"
     ]
    },
    {
     "name": "stderr",
     "output_type": "stream",
     "text": []
    },
    {
     "name": "stdout",
     "output_type": "stream",
     "text": [
      "output of the model SequenceClassifierOutput(loss=None, logits=tensor([[-1.5244,  0.4631,  1.9805],\n",
      "        [-1.1660, -0.4050,  2.3477],\n",
      "        [ 1.6650, -2.7305,  0.5605],\n",
      "        ...,\n",
      "        [ 1.7373, -2.1406, -0.7827],\n",
      "        [ 0.0421, -1.6055,  1.9805],\n",
      "        [-0.3777, -1.8115,  2.4863]], device='cuda:0', dtype=torch.float16), hidden_states=None, attentions=None)\n"
     ]
    },
    {
     "name": "stderr",
     "output_type": "stream",
     "text": []
    },
    {
     "name": "stdout",
     "output_type": "stream",
     "text": [
      "output of the model SequenceClassifierOutput(loss=None, logits=tensor([[-1.1162, -0.1217,  1.9180],\n",
      "        [-1.3701,  0.6821,  1.6875],\n",
      "        [ 1.8506, -0.7778, -1.9609],\n",
      "        ...,\n",
      "        [ 1.1592, -1.9609,  0.0040],\n",
      "        [-1.3555, -0.0509,  2.4082],\n",
      "        [ 0.1390, -1.1338,  1.1396]], device='cuda:0', dtype=torch.float16), hidden_states=None, attentions=None)\n"
     ]
    },
    {
     "name": "stderr",
     "output_type": "stream",
     "text": []
    },
    {
     "name": "stdout",
     "output_type": "stream",
     "text": [
      "output of the model SequenceClassifierOutput(loss=None, logits=tensor([[ 2.1172, -1.5762, -1.7549],\n",
      "        [ 2.1172, -1.5762, -1.7549],\n",
      "        [ 0.0884,  0.2617, -1.1699],\n",
      "        ...,\n",
      "        [-0.0068, -0.9526,  1.2002],\n",
      "        [ 0.0803, -1.0059,  1.0859],\n",
      "        [-0.0068, -0.9526,  1.2002]], device='cuda:0', dtype=torch.float16), hidden_states=None, attentions=None)\n"
     ]
    },
    {
     "name": "stderr",
     "output_type": "stream",
     "text": []
    },
    {
     "name": "stdout",
     "output_type": "stream",
     "text": [
      "output of the model SequenceClassifierOutput(loss=None, logits=tensor([[ 1.4160, -1.6260, -1.0430],\n",
      "        [-0.0161, -1.2002,  1.8096],\n",
      "        [ 1.7695, -0.8237, -1.8828],\n",
      "        ...,\n",
      "        [-0.4714, -1.7129,  2.4688],\n",
      "        [ 1.8057, -2.3164, -0.4150],\n",
      "        [ 1.8184, -2.0488, -0.9697]], device='cuda:0', dtype=torch.float16), hidden_states=None, attentions=None)\n"
     ]
    },
    {
     "name": "stderr",
     "output_type": "stream",
     "text": []
    },
    {
     "name": "stdout",
     "output_type": "stream",
     "text": [
      "output of the model SequenceClassifierOutput(loss=None, logits=tensor([[ 1.6963, -2.4668, -0.1011],\n",
      "        [ 1.6875, -2.4199,  0.2250],\n",
      "        [ 1.8711, -2.5547, -0.3745],\n",
      "        ...,\n",
      "        [-0.8960, -1.1865,  2.5508],\n",
      "        [-1.2275, -0.5649,  2.4688],\n",
      "        [-1.2930, -0.3872,  2.4551]], device='cuda:0', dtype=torch.float16), hidden_states=None, attentions=None)\n"
     ]
    },
    {
     "name": "stderr",
     "output_type": "stream",
     "text": []
    },
    {
     "name": "stdout",
     "output_type": "stream",
     "text": [
      "output of the model SequenceClassifierOutput(loss=None, logits=tensor([[-1.4365, -0.0956,  2.4277],\n",
      "        [-1.8779,  2.5977,  0.1631],\n",
      "        [-1.2051, -0.8354,  2.6172],\n",
      "        ...,\n",
      "        [ 1.4482, -2.0996, -0.3738],\n",
      "        [-1.6279,  1.5107,  1.0488],\n",
      "        [ 0.6143, -2.4219,  1.7871]], device='cuda:0', dtype=torch.float16), hidden_states=None, attentions=None)\n"
     ]
    },
    {
     "name": "stderr",
     "output_type": "stream",
     "text": []
    },
    {
     "name": "stdout",
     "output_type": "stream",
     "text": [
      "output of the model SequenceClassifierOutput(loss=None, logits=tensor([[ 1.9521, -1.5332, -1.3457],\n",
      "        [-1.7588,  1.7783,  1.2842],\n",
      "        [-0.6611, -1.2549,  2.5508],\n",
      "        ...,\n",
      "        [ 1.5039, -2.1270,  0.0963],\n",
      "        [-1.5361,  2.5938, -0.8545],\n",
      "        [-1.1025, -0.4194,  2.3145]], device='cuda:0', dtype=torch.float16), hidden_states=None, attentions=None)\n"
     ]
    },
    {
     "name": "stderr",
     "output_type": "stream",
     "text": []
    },
    {
     "name": "stdout",
     "output_type": "stream",
     "text": [
      "output of the model SequenceClassifierOutput(loss=None, logits=tensor([[ 1.0625,  0.3694, -2.1016],\n",
      "        [-1.2891, -0.3865,  2.4648],\n",
      "        [-1.4424, -0.0735,  2.4355],\n",
      "        ...,\n",
      "        [-0.5308, -1.2783,  2.3340],\n",
      "        [-0.2062, -1.8711,  2.3398],\n",
      "        [ 0.8643, -2.4180,  1.7041]], device='cuda:0', dtype=torch.float16), hidden_states=None, attentions=None)\n"
     ]
    },
    {
     "name": "stderr",
     "output_type": "stream",
     "text": []
    },
    {
     "name": "stdout",
     "output_type": "stream",
     "text": [
      "output of the model SequenceClassifierOutput(loss=None, logits=tensor([[ 0.9517, -2.3184,  1.2764],\n",
      "        [-0.7397, -0.7920,  2.3848],\n",
      "        [-1.2324, -0.4558,  2.5352],\n",
      "        ...,\n",
      "        [ 2.1055, -2.4961, -0.7461],\n",
      "        [-0.7935, -1.2520,  2.6680],\n",
      "        [-0.2546, -1.8779,  2.5039]], device='cuda:0', dtype=torch.float16), hidden_states=None, attentions=None)\n"
     ]
    },
    {
     "name": "stderr",
     "output_type": "stream",
     "text": []
    },
    {
     "name": "stdout",
     "output_type": "stream",
     "text": [
      "output of the model SequenceClassifierOutput(loss=None, logits=tensor([[ 1.6504, -2.2715, -0.1315],\n",
      "        [-1.3955,  0.6431,  1.6211],\n",
      "        [-1.1914,  2.4746, -0.7646],\n",
      "        ...,\n",
      "        [-0.6416, -0.5923,  1.8203],\n",
      "        [-1.0186,  0.6602,  0.6924],\n",
      "        [-1.7471,  2.6113, -0.1159]], device='cuda:0', dtype=torch.float16), hidden_states=None, attentions=None)\n"
     ]
    },
    {
     "name": "stderr",
     "output_type": "stream",
     "text": []
    },
    {
     "name": "stdout",
     "output_type": "stream",
     "text": [
      "output of the model SequenceClassifierOutput(loss=None, logits=tensor([[ 1.6143, -2.2285,  0.1034],\n",
      "        [ 1.4912, -2.7441,  0.6357],\n",
      "        [-1.5732,  1.5225,  1.1230],\n",
      "        ...,\n",
      "        [ 1.9854, -1.0264, -1.9961],\n",
      "        [ 1.1123, -2.1602,  0.6201],\n",
      "        [-0.3677,  0.0226,  0.6768]], device='cuda:0', dtype=torch.float16), hidden_states=None, attentions=None)\n"
     ]
    },
    {
     "name": "stderr",
     "output_type": "stream",
     "text": []
    },
    {
     "name": "stdout",
     "output_type": "stream",
     "text": [
      "output of the model SequenceClassifierOutput(loss=None, logits=tensor([[-1.5693e+00,  8.3876e-04,  2.5078e+00],\n",
      "        [-7.4902e-01, -4.1724e-01,  1.9336e+00],\n",
      "        [-1.4648e+00,  2.3096e-01,  2.0781e+00],\n",
      "        ...,\n",
      "        [ 1.3806e-01, -2.3105e+00,  2.3027e+00],\n",
      "        [ 1.7412e+00, -1.0479e+00, -1.7529e+00],\n",
      "        [-6.8311e-01, -2.8516e-01,  1.7666e+00]], device='cuda:0',\n",
      "       dtype=torch.float16), hidden_states=None, attentions=None)\n"
     ]
    },
    {
     "name": "stderr",
     "output_type": "stream",
     "text": []
    },
    {
     "name": "stdout",
     "output_type": "stream",
     "text": [
      "output of the model SequenceClassifierOutput(loss=None, logits=tensor([[ 0.9946, -1.3242,  0.3513],\n",
      "        [-1.7061,  2.8750, -0.8091],\n",
      "        [-1.2783,  2.3770, -0.5859],\n",
      "        ...,\n",
      "        [-1.3662, -0.4753,  2.4414],\n",
      "        [-1.4619,  0.2820,  2.0410],\n",
      "        [-0.2422, -1.7744,  2.4238]], device='cuda:0', dtype=torch.float16), hidden_states=None, attentions=None)\n"
     ]
    },
    {
     "name": "stderr",
     "output_type": "stream",
     "text": []
    },
    {
     "name": "stdout",
     "output_type": "stream",
     "text": [
      "output of the model SequenceClassifierOutput(loss=None, logits=tensor([[ 0.1957, -0.5801,  1.1221],\n",
      "        [-0.8604, -0.3953,  1.8623],\n",
      "        [-1.6006,  1.5752,  1.0078],\n",
      "        ...,\n",
      "        [-0.5776,  1.1406, -1.1230],\n",
      "        [-0.5684,  1.0410, -1.0342],\n",
      "        [-0.2092, -1.8301,  2.2461]], device='cuda:0', dtype=torch.float16), hidden_states=None, attentions=None)\n"
     ]
    },
    {
     "name": "stderr",
     "output_type": "stream",
     "text": []
    },
    {
     "name": "stdout",
     "output_type": "stream",
     "text": [
      "output of the model SequenceClassifierOutput(loss=None, logits=tensor([[ 0.3220,  0.6567, -1.8467],\n",
      "        [-0.4890,  1.0430, -1.2451],\n",
      "        [ 1.2803, -2.7324,  1.0352],\n",
      "        ...,\n",
      "        [ 0.7773, -0.9292, -0.8672],\n",
      "        [ 0.5225, -0.0457, -1.4023],\n",
      "        [ 0.4910, -0.9268, -0.1893]], device='cuda:0', dtype=torch.float16), hidden_states=None, attentions=None)\n"
     ]
    },
    {
     "name": "stderr",
     "output_type": "stream",
     "text": []
    },
    {
     "name": "stdout",
     "output_type": "stream",
     "text": [
      "output of the model SequenceClassifierOutput(loss=None, logits=tensor([[ 0.5239, -2.2578,  2.0312],\n",
      "        [-0.3967, -0.2084,  0.4031],\n",
      "        [-0.8159,  0.8232,  0.1901],\n",
      "        ...,\n",
      "        [ 0.0444, -1.5898,  1.7422],\n",
      "        [ 1.7285, -2.7305,  0.4624],\n",
      "        [ 1.1299, -1.3994, -0.3430]], device='cuda:0', dtype=torch.float16), hidden_states=None, attentions=None)\n"
     ]
    },
    {
     "name": "stderr",
     "output_type": "stream",
     "text": []
    },
    {
     "name": "stdout",
     "output_type": "stream",
     "text": [
      "output of the model SequenceClassifierOutput(loss=None, logits=tensor([[-0.7969, -0.9961,  2.3457],\n",
      "        [ 1.2871, -2.3301,  0.4868],\n",
      "        [ 1.7842, -2.4668, -0.4417],\n",
      "        ...,\n",
      "        [ 1.8389, -2.6328,  0.2339],\n",
      "        [-0.5708, -0.5112,  1.5283],\n",
      "        [-0.6938, -0.5347,  2.0020]], device='cuda:0', dtype=torch.float16), hidden_states=None, attentions=None)\n"
     ]
    },
    {
     "name": "stderr",
     "output_type": "stream",
     "text": []
    },
    {
     "name": "stdout",
     "output_type": "stream",
     "text": [
      "output of the model SequenceClassifierOutput(loss=None, logits=tensor([[-0.5454, -1.5098,  2.5156],\n",
      "        [ 0.4216,  0.3064, -1.1436],\n",
      "        [-0.4895, -1.6094,  2.2988],\n",
      "        ...,\n",
      "        [-0.7988, -0.3369,  1.8086],\n",
      "        [ 1.9082, -1.5674, -1.4990],\n",
      "        [-0.9165,  0.2201,  1.1709]], device='cuda:0', dtype=torch.float16), hidden_states=None, attentions=None)\n"
     ]
    },
    {
     "name": "stderr",
     "output_type": "stream",
     "text": []
    },
    {
     "name": "stdout",
     "output_type": "stream",
     "text": [
      "output of the model SequenceClassifierOutput(loss=None, logits=tensor([[-0.5513,  1.6650, -1.3525],\n",
      "        [-0.5259,  2.3984, -2.0488],\n",
      "        [-1.6348,  1.2979,  1.2793],\n",
      "        ...,\n",
      "        [ 0.1617, -0.0793, -0.5615],\n",
      "        [-1.6729,  1.5469,  1.0791],\n",
      "        [ 1.1504, -2.0059,  0.5532]], device='cuda:0', dtype=torch.float16), hidden_states=None, attentions=None)\n"
     ]
    },
    {
     "name": "stderr",
     "output_type": "stream",
     "text": []
    },
    {
     "name": "stdout",
     "output_type": "stream",
     "text": [
      "output of the model SequenceClassifierOutput(loss=None, logits=tensor([[-0.0492, -1.9951,  2.2676],\n",
      "        [-1.8760,  1.8604,  1.0566],\n",
      "        [-0.9639, -0.7354,  2.4570],\n",
      "        ...,\n",
      "        [-1.3662, -0.1026,  2.3262],\n",
      "        [ 1.0674, -1.2568, -0.4094],\n",
      "        [-1.6426,  2.8633, -0.8755]], device='cuda:0', dtype=torch.float16), hidden_states=None, attentions=None)\n"
     ]
    },
    {
     "name": "stderr",
     "output_type": "stream",
     "text": []
    },
    {
     "name": "stdout",
     "output_type": "stream",
     "text": [
      "output of the model SequenceClassifierOutput(loss=None, logits=tensor([[-1.6514,  2.9160, -0.9561],\n",
      "        [-1.6416,  2.9023, -0.9458],\n",
      "        [ 1.5537, -0.6562, -1.8047],\n",
      "        ...,\n",
      "        [-1.3574,  1.4629,  0.8467],\n",
      "        [-1.6533,  2.9160, -0.9800],\n",
      "        [-0.6079, -1.1104,  2.3613]], device='cuda:0', dtype=torch.float16), hidden_states=None, attentions=None)\n"
     ]
    },
    {
     "name": "stderr",
     "output_type": "stream",
     "text": []
    },
    {
     "name": "stdout",
     "output_type": "stream",
     "text": [
      "output of the model SequenceClassifierOutput(loss=None, logits=tensor([[ 0.0643, -0.2698, -0.2859],\n",
      "        [-1.7783,  1.3105,  1.2949],\n",
      "        [-1.6240,  2.8125, -0.9678],\n",
      "        ...,\n",
      "        [-0.0453, -2.0820,  2.2891],\n",
      "        [ 1.7568, -2.6133, -0.0539],\n",
      "        [ 1.2822, -2.6387,  1.3994]], device='cuda:0', dtype=torch.float16), hidden_states=None, attentions=None)\n"
     ]
    },
    {
     "name": "stderr",
     "output_type": "stream",
     "text": []
    },
    {
     "name": "stdout",
     "output_type": "stream",
     "text": [
      "output of the model SequenceClassifierOutput(loss=None, logits=tensor([[ 6.4502e-01, -1.8545e+00,  1.0000e+00],\n",
      "        [ 1.9834e+00, -2.0469e+00, -1.2598e+00],\n",
      "        [-1.6328e+00,  1.4014e+00,  1.1250e+00],\n",
      "        ...,\n",
      "        [ 2.0039e+00, -2.2031e+00, -1.1064e+00],\n",
      "        [-1.8139e-03,  1.3711e+00, -1.8711e+00],\n",
      "        [-1.0225e+00,  9.1357e-01,  1.1609e-01]], device='cuda:0',\n",
      "       dtype=torch.float16), hidden_states=None, attentions=None)\n"
     ]
    },
    {
     "name": "stderr",
     "output_type": "stream",
     "text": []
    },
    {
     "name": "stdout",
     "output_type": "stream",
     "text": [
      "output of the model SequenceClassifierOutput(loss=None, logits=tensor([[ 1.2393, -2.1133,  0.5811],\n",
      "        [ 0.9761, -2.1934,  1.1689],\n",
      "        [ 1.9014, -2.4414, -0.7388],\n",
      "        ...,\n",
      "        [-0.3381, -1.3105,  2.0664],\n",
      "        [ 1.2803, -1.8164, -0.0089],\n",
      "        [ 2.0566, -2.4746, -0.5762]], device='cuda:0', dtype=torch.float16), hidden_states=None, attentions=None)\n"
     ]
    },
    {
     "name": "stderr",
     "output_type": "stream",
     "text": []
    },
    {
     "name": "stdout",
     "output_type": "stream",
     "text": [
      "output of the model SequenceClassifierOutput(loss=None, logits=tensor([[-0.1072, -2.0488,  2.2852],\n",
      "        [ 1.3496, -1.9033, -0.0195],\n",
      "        [-0.7861, -1.3613,  2.5605],\n",
      "        ...,\n",
      "        [ 0.4282, -2.2930,  1.9844],\n",
      "        [ 1.2588, -2.2617,  0.6826],\n",
      "        [ 0.4531, -1.5264,  1.2666]], device='cuda:0', dtype=torch.float16), hidden_states=None, attentions=None)\n"
     ]
    },
    {
     "name": "stderr",
     "output_type": "stream",
     "text": []
    },
    {
     "name": "stdout",
     "output_type": "stream",
     "text": [
      "output of the model SequenceClassifierOutput(loss=None, logits=tensor([[ 1.5713, -2.7480,  0.8008],\n",
      "        [ 0.3433, -2.3965,  2.1992],\n",
      "        [-0.1621, -1.8887,  2.3574],\n",
      "        ...,\n",
      "        [ 0.4104, -2.1484,  1.8213],\n",
      "        [-1.2773, -0.5513,  2.5820],\n",
      "        [-1.2021, -0.6777,  2.5527]], device='cuda:0', dtype=torch.float16), hidden_states=None, attentions=None)\n"
     ]
    },
    {
     "name": "stderr",
     "output_type": "stream",
     "text": []
    },
    {
     "name": "stdout",
     "output_type": "stream",
     "text": [
      "output of the model SequenceClassifierOutput(loss=None, logits=tensor([[ 1.6611, -0.8555, -1.6846],\n",
      "        [ 0.0449, -2.0820,  2.1602],\n",
      "        [-0.6089, -1.1201,  2.4531],\n",
      "        ...,\n",
      "        [-0.0534,  0.9209, -1.6328],\n",
      "        [ 0.9253,  0.7983, -2.1426],\n",
      "        [ 0.1632, -0.1412,  0.0269]], device='cuda:0', dtype=torch.float16), hidden_states=None, attentions=None)\n"
     ]
    },
    {
     "name": "stderr",
     "output_type": "stream",
     "text": []
    },
    {
     "name": "stdout",
     "output_type": "stream",
     "text": [
      "output of the model SequenceClassifierOutput(loss=None, logits=tensor([[-0.1696,  0.9355, -1.4141],\n",
      "        [-1.3037,  2.6367, -1.2139],\n",
      "        [-0.7192, -0.2157,  1.4219],\n",
      "        ...,\n",
      "        [-0.2236, -1.9404,  2.3164],\n",
      "        [ 0.2576, -2.0332,  2.0605],\n",
      "        [-0.2023, -1.6875,  2.0840]], device='cuda:0', dtype=torch.float16), hidden_states=None, attentions=None)\n"
     ]
    },
    {
     "name": "stderr",
     "output_type": "stream",
     "text": []
    },
    {
     "name": "stdout",
     "output_type": "stream",
     "text": [
      "output of the model SequenceClassifierOutput(loss=None, logits=tensor([[ 1.8896, -2.3477, -0.7578],\n",
      "        [-0.7847, -1.3164,  2.5742],\n",
      "        [ 1.9609, -2.5840,  0.0818],\n",
      "        ...,\n",
      "        [-0.5620, -1.3125,  2.2383],\n",
      "        [ 1.2588, -2.7539,  1.4453],\n",
      "        [-0.3413, -1.3574,  2.0723]], device='cuda:0', dtype=torch.float16), hidden_states=None, attentions=None)\n"
     ]
    },
    {
     "name": "stderr",
     "output_type": "stream",
     "text": []
    },
    {
     "name": "stdout",
     "output_type": "stream",
     "text": [
      "output of the model SequenceClassifierOutput(loss=None, logits=tensor([[-0.0076, -1.2539,  1.8711],\n",
      "        [ 1.1133, -1.2607, -0.0983],\n",
      "        [ 0.9946, -1.3242,  0.3513],\n",
      "        ...,\n",
      "        [-1.2285, -0.4377,  2.1191],\n",
      "        [-1.4326, -0.0888,  2.3809],\n",
      "        [-1.1523, -0.0885,  2.2188]], device='cuda:0', dtype=torch.float16), hidden_states=None, attentions=None)\n"
     ]
    },
    {
     "name": "stderr",
     "output_type": "stream",
     "text": []
    },
    {
     "name": "stdout",
     "output_type": "stream",
     "text": [
      "output of the model SequenceClassifierOutput(loss=None, logits=tensor([[-0.2220, -1.3555,  1.6758],\n",
      "        [-0.0716,  1.5713, -2.0117],\n",
      "        [ 0.1196,  1.8223, -2.2656],\n",
      "        ...,\n",
      "        [-1.4053,  0.5688,  1.8633],\n",
      "        [-1.9248,  2.7930,  0.0500],\n",
      "        [-0.9854,  0.7227,  0.2405]], device='cuda:0', dtype=torch.float16), hidden_states=None, attentions=None)\n"
     ]
    },
    {
     "name": "stderr",
     "output_type": "stream",
     "text": []
    },
    {
     "name": "stdout",
     "output_type": "stream",
     "text": [
      "output of the model SequenceClassifierOutput(loss=None, logits=tensor([[-1.9277,  2.6992,  0.1549],\n",
      "        [-0.6187, -0.6235,  1.2344],\n",
      "        [ 1.2549, -1.9209, -0.1656],\n",
      "        ...,\n",
      "        [-0.1583, -1.6758,  2.0078],\n",
      "        [-0.7505, -1.0439,  2.3496],\n",
      "        [-0.1737, -1.7324,  2.0723]], device='cuda:0', dtype=torch.float16), hidden_states=None, attentions=None)\n"
     ]
    },
    {
     "name": "stderr",
     "output_type": "stream",
     "text": []
    },
    {
     "name": "stdout",
     "output_type": "stream",
     "text": [
      "output of the model SequenceClassifierOutput(loss=None, logits=tensor([[-1.7910,  1.3799,  1.6797],\n",
      "        [-1.8184,  1.4160,  1.5645],\n",
      "        [-1.7998,  1.0742,  1.8115],\n",
      "        ...,\n",
      "        [ 0.0270, -1.3086,  1.4414],\n",
      "        [-1.0908,  0.3994,  1.2715],\n",
      "        [ 2.0508, -1.7725, -1.5684]], device='cuda:0', dtype=torch.float16), hidden_states=None, attentions=None)\n"
     ]
    },
    {
     "name": "stderr",
     "output_type": "stream",
     "text": []
    },
    {
     "name": "stdout",
     "output_type": "stream",
     "text": [
      "output of the model SequenceClassifierOutput(loss=None, logits=tensor([[ 1.1777, -0.6362, -1.5781],\n",
      "        [ 1.2363, -1.6279, -0.0340],\n",
      "        [ 1.2822, -1.9854,  0.2086],\n",
      "        ...,\n",
      "        [ 2.0508, -1.7510, -1.6055],\n",
      "        [-1.3555,  2.6582, -1.1797],\n",
      "        [-1.5029,  1.5547,  0.9414]], device='cuda:0', dtype=torch.float16), hidden_states=None, attentions=None)\n"
     ]
    },
    {
     "name": "stderr",
     "output_type": "stream",
     "text": []
    },
    {
     "name": "stdout",
     "output_type": "stream",
     "text": [
      "output of the model SequenceClassifierOutput(loss=None, logits=tensor([[-1.2539, -0.2380,  2.3242],\n",
      "        [-1.8604,  2.7754, -0.3323],\n",
      "        [-0.3223, -1.1250,  1.8096],\n",
      "        ...,\n",
      "        [-0.6040, -0.9072,  2.1855],\n",
      "        [ 1.1133, -1.2607, -0.0983],\n",
      "        [-1.3174,  0.4268,  1.5186]], device='cuda:0', dtype=torch.float16), hidden_states=None, attentions=None)\n"
     ]
    },
    {
     "name": "stderr",
     "output_type": "stream",
     "text": []
    },
    {
     "name": "stdout",
     "output_type": "stream",
     "text": [
      "output of the model SequenceClassifierOutput(loss=None, logits=tensor([[ 1.4111, -1.9326, -0.5586],\n",
      "        [ 0.4519, -2.0117,  1.3721],\n",
      "        [ 0.9946, -1.3242,  0.3513],\n",
      "        ...,\n",
      "        [ 1.4229, -0.8467, -1.6689],\n",
      "        [-1.6758,  1.1738,  1.6299],\n",
      "        [ 0.0233, -2.1035,  2.2988]], device='cuda:0', dtype=torch.float16), hidden_states=None, attentions=None)\n"
     ]
    },
    {
     "name": "stderr",
     "output_type": "stream",
     "text": []
    },
    {
     "name": "stdout",
     "output_type": "stream",
     "text": [
      "output of the model SequenceClassifierOutput(loss=None, logits=tensor([[-1.7676,  2.8789, -0.8223],\n",
      "        [-0.6392, -1.0986,  2.2852],\n",
      "        [-0.1235, -0.9971,  1.6963],\n",
      "        ...,\n",
      "        [ 1.2031, -0.6494, -1.2031],\n",
      "        [-1.1338, -0.6597,  2.3613],\n",
      "        [-1.4434,  0.1229,  2.2129]], device='cuda:0', dtype=torch.float16), hidden_states=None, attentions=None)\n"
     ]
    },
    {
     "name": "stderr",
     "output_type": "stream",
     "text": []
    },
    {
     "name": "stdout",
     "output_type": "stream",
     "text": [
      "output of the model SequenceClassifierOutput(loss=None, logits=tensor([[-0.2786, -1.5771,  1.9297],\n",
      "        [ 0.1146, -2.0918,  2.3848],\n",
      "        [ 0.3440, -1.5947,  1.7109],\n",
      "        ...,\n",
      "        [-0.1520, -1.6748,  2.0078],\n",
      "        [ 1.6865, -1.7344, -1.1299],\n",
      "        [ 1.6338, -1.3994, -1.1729]], device='cuda:0', dtype=torch.float16), hidden_states=None, attentions=None)\n"
     ]
    },
    {
     "name": "stderr",
     "output_type": "stream",
     "text": []
    },
    {
     "name": "stdout",
     "output_type": "stream",
     "text": [
      "output of the model SequenceClassifierOutput(loss=None, logits=tensor([[ 2.0938, -2.0820, -1.2480],\n",
      "        [-1.7354,  2.9102, -0.8760],\n",
      "        [-0.1621, -0.1985,  0.8057],\n",
      "        ...,\n",
      "        [-0.3567, -1.8018,  2.4531],\n",
      "        [-1.0215, -0.2208,  1.9951],\n",
      "        [-0.1422, -0.6157,  0.7217]], device='cuda:0', dtype=torch.float16), hidden_states=None, attentions=None)\n"
     ]
    },
    {
     "name": "stderr",
     "output_type": "stream",
     "text": []
    },
    {
     "name": "stdout",
     "output_type": "stream",
     "text": [
      "output of the model SequenceClassifierOutput(loss=None, logits=tensor([[-1.3271,  0.4934,  1.7012],\n",
      "        [-1.7549,  2.7617, -0.8101],\n",
      "        [-1.6074,  0.9268,  1.6650],\n",
      "        ...,\n",
      "        [-0.1462, -1.8994,  2.2773],\n",
      "        [ 1.0029, -0.1050, -1.8838],\n",
      "        [-1.4453,  0.1880,  2.0801]], device='cuda:0', dtype=torch.float16), hidden_states=None, attentions=None)\n"
     ]
    },
    {
     "name": "stderr",
     "output_type": "stream",
     "text": []
    },
    {
     "name": "stdout",
     "output_type": "stream",
     "text": [
      "output of the model SequenceClassifierOutput(loss=None, logits=tensor([[-0.5547, -1.2939,  2.3633],\n",
      "        [ 1.9639, -1.9180, -1.4180],\n",
      "        [ 1.7705, -1.2520, -1.4248],\n",
      "        ...,\n",
      "        [ 0.9517, -0.3623, -1.4902],\n",
      "        [ 1.6367, -1.3076, -1.5938],\n",
      "        [-0.6401,  0.7173,  0.2068]], device='cuda:0', dtype=torch.float16), hidden_states=None, attentions=None)\n"
     ]
    },
    {
     "name": "stderr",
     "output_type": "stream",
     "text": []
    },
    {
     "name": "stdout",
     "output_type": "stream",
     "text": [
      "output of the model SequenceClassifierOutput(loss=None, logits=tensor([[-1.4131,  0.0380,  2.2656],\n",
      "        [-1.2754, -0.4761,  2.5156],\n",
      "        [ 0.0526, -0.2788, -0.0303],\n",
      "        ...,\n",
      "        [-1.5889,  1.5547,  0.8970],\n",
      "        [-0.9355,  0.8159,  0.3640],\n",
      "        [-1.6377,  2.9043, -1.0732]], device='cuda:0', dtype=torch.float16), hidden_states=None, attentions=None)\n"
     ]
    },
    {
     "name": "stderr",
     "output_type": "stream",
     "text": []
    },
    {
     "name": "stdout",
     "output_type": "stream",
     "text": [
      "output of the model SequenceClassifierOutput(loss=None, logits=tensor([[-0.4048, -1.1006,  1.7617],\n",
      "        [ 0.5435, -2.3848,  1.9766],\n",
      "        [-1.5439,  1.4424,  1.0244],\n",
      "        ...,\n",
      "        [ 1.2812, -2.1094, -0.0110],\n",
      "        [-0.7637,  0.9634, -0.2903],\n",
      "        [-0.0472, -0.9756,  1.0107]], device='cuda:0', dtype=torch.float16), hidden_states=None, attentions=None)\n"
     ]
    },
    {
     "name": "stderr",
     "output_type": "stream",
     "text": []
    },
    {
     "name": "stdout",
     "output_type": "stream",
     "text": [
      "output of the model SequenceClassifierOutput(loss=None, logits=tensor([[ 1.5977, -0.5869, -1.9375],\n",
      "        [ 0.5010, -1.1426, -0.0346],\n",
      "        [ 0.7246, -0.5708, -1.0967],\n",
      "        ...,\n",
      "        [-0.6558, -0.0580,  1.4873],\n",
      "        [-0.8198, -0.6689,  2.0801],\n",
      "        [ 0.0043, -0.2216, -0.2338]], device='cuda:0', dtype=torch.float16), hidden_states=None, attentions=None)\n"
     ]
    },
    {
     "name": "stderr",
     "output_type": "stream",
     "text": []
    },
    {
     "name": "stdout",
     "output_type": "stream",
     "text": [
      "output of the model SequenceClassifierOutput(loss=None, logits=tensor([[-1.7002,  2.8242, -0.8359],\n",
      "        [-0.2522, -1.6689,  1.8574],\n",
      "        [ 0.7598, -0.1461, -1.2832],\n",
      "        ...,\n",
      "        [-1.0361,  0.7046,  0.7446],\n",
      "        [-1.1396,  2.3398, -0.8833],\n",
      "        [-1.3857,  0.1837,  2.0820]], device='cuda:0', dtype=torch.float16), hidden_states=None, attentions=None)\n"
     ]
    },
    {
     "name": "stderr",
     "output_type": "stream",
     "text": []
    },
    {
     "name": "stdout",
     "output_type": "stream",
     "text": [
      "output of the model SequenceClassifierOutput(loss=None, logits=tensor([[-1.1836, -0.5703,  2.3438],\n",
      "        [ 0.8286, -0.1011, -1.7041],\n",
      "        [ 0.8018, -0.2737, -1.4512],\n",
      "        ...,\n",
      "        [-1.6436,  1.7490,  0.7803],\n",
      "        [ 0.0295, -2.0898,  2.1523],\n",
      "        [-0.4783, -1.7041,  2.4746]], device='cuda:0', dtype=torch.float16), hidden_states=None, attentions=None)\n"
     ]
    },
    {
     "name": "stderr",
     "output_type": "stream",
     "text": []
    },
    {
     "name": "stdout",
     "output_type": "stream",
     "text": [
      "output of the model SequenceClassifierOutput(loss=None, logits=tensor([[-0.9272, -1.1729,  2.5820],\n",
      "        [-0.4741, -1.6729,  2.5137],\n",
      "        [ 1.9482, -2.5508, -0.5220],\n",
      "        ...,\n",
      "        [-1.7822,  2.6738, -0.1471],\n",
      "        [-0.0068, -0.9526,  1.2002],\n",
      "        [ 0.1390, -1.1338,  1.1396]], device='cuda:0', dtype=torch.float16), hidden_states=None, attentions=None)\n"
     ]
    },
    {
     "name": "stderr",
     "output_type": "stream",
     "text": []
    },
    {
     "name": "stdout",
     "output_type": "stream",
     "text": [
      "output of the model SequenceClassifierOutput(loss=None, logits=tensor([[ 0.1642, -1.1592,  1.1045],\n",
      "        [-0.0068, -0.9526,  1.2002],\n",
      "        [ 0.1642, -1.1592,  1.1045],\n",
      "        ...,\n",
      "        [-0.6860, -0.5020,  1.9697],\n",
      "        [ 1.4580, -0.6567, -1.7070],\n",
      "        [-1.3281,  0.0499,  2.2930]], device='cuda:0', dtype=torch.float16), hidden_states=None, attentions=None)\n"
     ]
    },
    {
     "name": "stderr",
     "output_type": "stream",
     "text": []
    },
    {
     "name": "stdout",
     "output_type": "stream",
     "text": [
      "output of the model SequenceClassifierOutput(loss=None, logits=tensor([[-1.5635,  2.4395, -0.0250],\n",
      "        [-0.2788, -1.6904,  2.1289],\n",
      "        [-0.2050, -1.3975,  1.8145],\n",
      "        ...,\n",
      "        [-1.2900, -0.0524,  2.2148],\n",
      "        [ 0.2686, -0.8374,  0.1693],\n",
      "        [ 0.2184, -2.0801,  2.1914]], device='cuda:0', dtype=torch.float16), hidden_states=None, attentions=None)\n"
     ]
    },
    {
     "name": "stderr",
     "output_type": "stream",
     "text": []
    },
    {
     "name": "stdout",
     "output_type": "stream",
     "text": [
      "output of the model SequenceClassifierOutput(loss=None, logits=tensor([[-1.8574,  2.9082, -0.5635],\n",
      "        [-1.6689,  2.8379, -0.8745],\n",
      "        [-0.9668, -0.9897,  2.5586],\n",
      "        ...,\n",
      "        [-1.5469,  0.8140,  1.6504],\n",
      "        [ 0.8740, -2.4473,  1.4717],\n",
      "        [-1.4824,  1.0410,  1.4512]], device='cuda:0', dtype=torch.float16), hidden_states=None, attentions=None)\n"
     ]
    },
    {
     "name": "stderr",
     "output_type": "stream",
     "text": []
    },
    {
     "name": "stdout",
     "output_type": "stream",
     "text": [
      "output of the model SequenceClassifierOutput(loss=None, logits=tensor([[-0.9058, -0.2184,  1.7422],\n",
      "        [-1.8643,  2.8828, -0.5049],\n",
      "        [-0.1635,  0.4167, -0.3276],\n",
      "        ...,\n",
      "        [-0.3452, -1.4053,  2.0664],\n",
      "        [-0.4839, -1.4375,  2.1914],\n",
      "        [-0.5913, -0.3499,  1.4062]], device='cuda:0', dtype=torch.float16), hidden_states=None, attentions=None)\n"
     ]
    },
    {
     "name": "stderr",
     "output_type": "stream",
     "text": []
    },
    {
     "name": "stdout",
     "output_type": "stream",
     "text": [
      "output of the model SequenceClassifierOutput(loss=None, logits=tensor([[ 1.0166, -1.2041, -0.8242],\n",
      "        [ 0.0620,  0.0468, -0.5874],\n",
      "        [-1.4863,  0.4006,  1.9785],\n",
      "        ...,\n",
      "        [-0.7759,  0.8730,  0.6699],\n",
      "        [-0.7476,  0.6094,  1.0322],\n",
      "        [-0.0699, -0.3540,  0.1846]], device='cuda:0', dtype=torch.float16), hidden_states=None, attentions=None)\n"
     ]
    },
    {
     "name": "stderr",
     "output_type": "stream",
     "text": []
    },
    {
     "name": "stdout",
     "output_type": "stream",
     "text": [
      "output of the model SequenceClassifierOutput(loss=None, logits=tensor([[ 1.8701, -1.6934, -1.2031],\n",
      "        [ 0.3728, -2.3789,  2.0352],\n",
      "        [-0.3171, -1.7422,  2.2461],\n",
      "        ...,\n",
      "        [-1.1250,  1.1006,  0.3748],\n",
      "        [-0.0178,  0.1772, -0.7300],\n",
      "        [-0.9351, -0.4663,  2.0879]], device='cuda:0', dtype=torch.float16), hidden_states=None, attentions=None)\n"
     ]
    },
    {
     "name": "stderr",
     "output_type": "stream",
     "text": []
    },
    {
     "name": "stdout",
     "output_type": "stream",
     "text": [
      "output of the model SequenceClassifierOutput(loss=None, logits=tensor([[-0.5435,  0.1201,  0.6846],\n",
      "        [ 1.8809, -1.8096, -1.3311],\n",
      "        [ 0.1824, -2.2031,  2.2656],\n",
      "        ...,\n",
      "        [-1.1182, -0.7310,  2.5859],\n",
      "        [ 0.1698, -2.0898,  2.1016],\n",
      "        [-0.3572, -1.6045,  2.4805]], device='cuda:0', dtype=torch.float16), hidden_states=None, attentions=None)\n"
     ]
    },
    {
     "name": "stderr",
     "output_type": "stream",
     "text": []
    },
    {
     "name": "stdout",
     "output_type": "stream",
     "text": [
      "output of the model SequenceClassifierOutput(loss=None, logits=tensor([[ 1.1953, -2.5391,  0.9614],\n",
      "        [-0.3572, -1.6045,  2.4805],\n",
      "        [-0.2383, -1.5615,  2.1465],\n",
      "        ...,\n",
      "        [-1.4893,  0.2494,  2.1094],\n",
      "        [-1.3975,  0.5850,  1.7666],\n",
      "        [-1.6445,  2.8125, -0.8911]], device='cuda:0', dtype=torch.float16), hidden_states=None, attentions=None)\n"
     ]
    },
    {
     "name": "stderr",
     "output_type": "stream",
     "text": []
    },
    {
     "name": "stdout",
     "output_type": "stream",
     "text": [
      "output of the model SequenceClassifierOutput(loss=None, logits=tensor([[-0.4351, -1.6953,  2.5059],\n",
      "        [ 1.5391, -0.1292, -2.2090],\n",
      "        [ 1.7539, -1.5557, -1.4854],\n",
      "        ...,\n",
      "        [ 0.5718, -1.5703,  1.3682],\n",
      "        [ 0.5073, -2.4082,  1.7656],\n",
      "        [-0.1753,  0.1194,  0.5410]], device='cuda:0', dtype=torch.float16), hidden_states=None, attentions=None)\n"
     ]
    },
    {
     "name": "stderr",
     "output_type": "stream",
     "text": []
    },
    {
     "name": "stdout",
     "output_type": "stream",
     "text": [
      "output of the model SequenceClassifierOutput(loss=None, logits=tensor([[-0.5044, -0.0864,  1.0146],\n",
      "        [-1.4033,  0.3701,  1.9102],\n",
      "        [ 0.9780, -2.3711,  0.9556],\n",
      "        ...,\n",
      "        [-0.2947, -1.4922,  2.2109],\n",
      "        [-0.7222, -0.7739,  2.0020],\n",
      "        [-0.3201, -1.5244,  2.0977]], device='cuda:0', dtype=torch.float16), hidden_states=None, attentions=None)\n"
     ]
    },
    {
     "name": "stderr",
     "output_type": "stream",
     "text": []
    },
    {
     "name": "stdout",
     "output_type": "stream",
     "text": [
      "output of the model SequenceClassifierOutput(loss=None, logits=tensor([[ 0.4180,  0.0769, -1.5742],\n",
      "        [ 0.9580, -0.9868, -0.9023],\n",
      "        [-1.0225, -0.8779,  2.4805],\n",
      "        ...,\n",
      "        [-1.0576,  0.3477,  1.1357],\n",
      "        [-1.8047,  2.6875, -0.1555],\n",
      "        [-1.8135,  2.9609, -0.7451]], device='cuda:0', dtype=torch.float16), hidden_states=None, attentions=None)\n"
     ]
    },
    {
     "name": "stderr",
     "output_type": "stream",
     "text": []
    },
    {
     "name": "stdout",
     "output_type": "stream",
     "text": [
      "output of the model SequenceClassifierOutput(loss=None, logits=tensor([[ 0.8301, -0.4451, -1.3145],\n",
      "        [-1.6465,  1.4951,  1.0479],\n",
      "        [ 0.4326, -0.9316, -0.2886],\n",
      "        ...,\n",
      "        [-1.7344,  2.9238, -0.8535],\n",
      "        [-0.6284, -0.4309,  1.4932],\n",
      "        [-1.8213,  2.9785, -0.7793]], device='cuda:0', dtype=torch.float16), hidden_states=None, attentions=None)\n"
     ]
    },
    {
     "name": "stderr",
     "output_type": "stream",
     "text": []
    },
    {
     "name": "stdout",
     "output_type": "stream",
     "text": [
      "output of the model SequenceClassifierOutput(loss=None, logits=tensor([[ 2.0410, -1.6826, -1.5938],\n",
      "        [-0.1089, -0.2191,  0.3782],\n",
      "        [-0.0778, -1.8701,  2.1543],\n",
      "        ...,\n",
      "        [-0.4604, -1.3018,  2.4414],\n",
      "        [-1.6240,  2.9844, -1.0947],\n",
      "        [-1.0293,  2.0820, -0.9561]], device='cuda:0', dtype=torch.float16), hidden_states=None, attentions=None)\n"
     ]
    },
    {
     "name": "stderr",
     "output_type": "stream",
     "text": []
    },
    {
     "name": "stdout",
     "output_type": "stream",
     "text": [
      "output of the model SequenceClassifierOutput(loss=None, logits=tensor([[ 0.4734, -2.2305,  1.9277],\n",
      "        [-1.7002,  1.6826,  1.2529],\n",
      "        [-1.7822,  2.6738, -0.1471],\n",
      "        ...,\n",
      "        [ 1.1377, -2.2832,  0.5684],\n",
      "        [-1.1045, -0.7583,  2.6035],\n",
      "        [ 1.6064, -2.5312,  0.2683]], device='cuda:0', dtype=torch.float16), hidden_states=None, attentions=None)\n"
     ]
    },
    {
     "name": "stderr",
     "output_type": "stream",
     "text": []
    },
    {
     "name": "stdout",
     "output_type": "stream",
     "text": [
      "output of the model SequenceClassifierOutput(loss=None, logits=tensor([[-0.4666, -1.7842,  2.5312],\n",
      "        [ 0.3469,  0.6509, -1.9287],\n",
      "        [ 0.2849, -2.3613,  2.1074],\n",
      "        ...,\n",
      "        [-0.1597, -1.4160,  1.7412],\n",
      "        [-0.4980, -1.7598,  2.5391],\n",
      "        [-0.9897, -0.7285,  2.4336]], device='cuda:0', dtype=torch.float16), hidden_states=None, attentions=None)\n"
     ]
    },
    {
     "name": "stderr",
     "output_type": "stream",
     "text": []
    },
    {
     "name": "stdout",
     "output_type": "stream",
     "text": [
      "output of the model SequenceClassifierOutput(loss=None, logits=tensor([[-1.1465, -0.4106,  2.1152],\n",
      "        [-0.8018, -1.4697,  2.6230],\n",
      "        [ 0.1521, -1.9531,  2.1230],\n",
      "        ...,\n",
      "        [-1.1162,  1.0732,  0.6738],\n",
      "        [-1.0957, -0.6362,  2.5156],\n",
      "        [-1.1094, -0.5835,  2.1152]], device='cuda:0', dtype=torch.float16), hidden_states=None, attentions=None)\n"
     ]
    },
    {
     "name": "stderr",
     "output_type": "stream",
     "text": []
    },
    {
     "name": "stdout",
     "output_type": "stream",
     "text": [
      "output of the model SequenceClassifierOutput(loss=None, logits=tensor([[-1.3975, -0.0368,  2.3164],\n",
      "        [ 0.6182,  0.2788, -1.8516],\n",
      "        [-1.4209,  0.0268,  2.2676],\n",
      "        ...,\n",
      "        [-0.5503,  2.0156, -1.4463],\n",
      "        [-0.9932, -0.9873,  2.5293],\n",
      "        [-1.6260,  2.3926, -0.2407]], device='cuda:0', dtype=torch.float16), hidden_states=None, attentions=None)\n"
     ]
    },
    {
     "name": "stderr",
     "output_type": "stream",
     "text": []
    },
    {
     "name": "stdout",
     "output_type": "stream",
     "text": [
      "output of the model SequenceClassifierOutput(loss=None, logits=tensor([[-0.9697,  0.3210,  1.7012],\n",
      "        [-0.7061, -0.9932,  2.4316],\n",
      "        [-1.7510,  1.6396,  1.2070],\n",
      "        ...,\n",
      "        [ 1.6592, -2.7793,  0.2385],\n",
      "        [ 0.4958, -2.4648,  2.0039],\n",
      "        [ 0.3259,  0.5078, -1.1543]], device='cuda:0', dtype=torch.float16), hidden_states=None, attentions=None)\n"
     ]
    },
    {
     "name": "stderr",
     "output_type": "stream",
     "text": []
    },
    {
     "name": "stdout",
     "output_type": "stream",
     "text": [
      "output of the model SequenceClassifierOutput(loss=None, logits=tensor([[-0.5659, -1.7158,  2.5977],\n",
      "        [-0.3044, -1.7217,  2.3691],\n",
      "        [ 1.8818, -2.0684, -0.6094],\n",
      "        ...,\n",
      "        [ 0.2083, -2.2246,  2.1016],\n",
      "        [ 0.3230, -2.2500,  2.0391],\n",
      "        [ 0.6958, -0.7861, -0.8228]], device='cuda:0', dtype=torch.float16), hidden_states=None, attentions=None)\n"
     ]
    },
    {
     "name": "stderr",
     "output_type": "stream",
     "text": []
    },
    {
     "name": "stdout",
     "output_type": "stream",
     "text": [
      "output of the model SequenceClassifierOutput(loss=None, logits=tensor([[ 1.2295, -1.2324, -1.0518],\n",
      "        [ 0.6172, -1.1016,  0.2487],\n",
      "        [ 1.0098, -2.6426,  1.5752],\n",
      "        ...,\n",
      "        [ 1.9580, -1.6133, -1.4326],\n",
      "        [-1.2422,  1.2461,  0.6304],\n",
      "        [ 2.0352, -2.4766, -0.5234]], device='cuda:0', dtype=torch.float16), hidden_states=None, attentions=None)\n"
     ]
    },
    {
     "name": "stderr",
     "output_type": "stream",
     "text": []
    },
    {
     "name": "stdout",
     "output_type": "stream",
     "text": [
      "output of the model SequenceClassifierOutput(loss=None, logits=tensor([[-0.3582, -1.0195,  1.5986],\n",
      "        [-0.0257, -1.9619,  2.2305],\n",
      "        [ 2.1172, -2.3301, -0.8994],\n",
      "        ...,\n",
      "        [-0.0866, -1.5625,  1.9365],\n",
      "        [-1.8867,  3.0469, -0.7930],\n",
      "        [-1.7734,  2.9844, -0.9331]], device='cuda:0', dtype=torch.float16), hidden_states=None, attentions=None)\n"
     ]
    },
    {
     "name": "stderr",
     "output_type": "stream",
     "text": []
    },
    {
     "name": "stdout",
     "output_type": "stream",
     "text": [
      "output of the model SequenceClassifierOutput(loss=None, logits=tensor([[-0.0782, -1.5625,  1.8838],\n",
      "        [-1.1162,  0.9297,  0.6299],\n",
      "        [-0.2642, -1.2305,  1.7637],\n",
      "        ...,\n",
      "        [-0.4541, -1.4531,  2.2930],\n",
      "        [-0.0027, -1.8291,  2.0723],\n",
      "        [-0.4053, -1.5371,  2.4766]], device='cuda:0', dtype=torch.float16), hidden_states=None, attentions=None)\n"
     ]
    },
    {
     "name": "stderr",
     "output_type": "stream",
     "text": []
    },
    {
     "name": "stdout",
     "output_type": "stream",
     "text": [
      "output of the model SequenceClassifierOutput(loss=None, logits=tensor([[-0.5210, -0.9873,  2.3398],\n",
      "        [ 1.6914, -2.5410,  0.0854],\n",
      "        [-0.1451, -1.6572,  2.2227],\n",
      "        ...,\n",
      "        [ 1.8340, -2.7773,  0.0865],\n",
      "        [-1.2656,  0.2893,  1.8486],\n",
      "        [-0.5771,  0.2278,  0.5308]], device='cuda:0', dtype=torch.float16), hidden_states=None, attentions=None)\n"
     ]
    },
    {
     "name": "stderr",
     "output_type": "stream",
     "text": []
    },
    {
     "name": "stdout",
     "output_type": "stream",
     "text": [
      "output of the model SequenceClassifierOutput(loss=None, logits=tensor([[-0.0994, -1.3711,  2.0957],\n",
      "        [-1.6797,  2.9531, -1.0059],\n",
      "        [ 0.5176, -2.5078,  2.1621],\n",
      "        ...,\n",
      "        [-0.3203, -1.5254,  2.4668],\n",
      "        [ 0.2910, -1.9248,  2.1836],\n",
      "        [ 1.8877, -2.5098,  0.1199]], device='cuda:0', dtype=torch.float16), hidden_states=None, attentions=None)\n"
     ]
    },
    {
     "name": "stderr",
     "output_type": "stream",
     "text": []
    },
    {
     "name": "stdout",
     "output_type": "stream",
     "text": [
      "output of the model SequenceClassifierOutput(loss=None, logits=tensor([[ 0.8384, -0.5190, -1.4443],\n",
      "        [-0.9951,  0.0554,  1.8076],\n",
      "        [-1.6484,  1.6572,  0.8774],\n",
      "        ...,\n",
      "        [-1.6475,  2.9453, -1.0117],\n",
      "        [ 1.6045, -2.2852, -0.5723],\n",
      "        [ 0.5674, -2.4180,  1.9902]], device='cuda:0', dtype=torch.float16), hidden_states=None, attentions=None)\n"
     ]
    },
    {
     "name": "stderr",
     "output_type": "stream",
     "text": []
    },
    {
     "name": "stdout",
     "output_type": "stream",
     "text": [
      "output of the model SequenceClassifierOutput(loss=None, logits=tensor([[ 1.1797,  0.3157, -2.0762],\n",
      "        [ 1.8975, -1.6738, -1.4443],\n",
      "        [-1.7979,  3.0137, -0.9087],\n",
      "        ...,\n",
      "        [-0.8223, -1.0674,  2.5273],\n",
      "        [-1.4141,  2.4180, -0.7065],\n",
      "        [-1.3828,  2.4746, -0.7290]], device='cuda:0', dtype=torch.float16), hidden_states=None, attentions=None)\n"
     ]
    },
    {
     "name": "stderr",
     "output_type": "stream",
     "text": []
    },
    {
     "name": "stdout",
     "output_type": "stream",
     "text": [
      "output of the model SequenceClassifierOutput(loss=None, logits=tensor([[-1.4424,  2.4434, -0.6777],\n",
      "        [-1.4326,  2.3984, -0.6162],\n",
      "        [-1.3818,  2.3242, -0.5361],\n",
      "        ...,\n",
      "        [-1.3301,  2.6973, -1.2354],\n",
      "        [-0.3772, -1.7861,  2.3887],\n",
      "        [ 0.1967, -1.9619,  2.0254]], device='cuda:0', dtype=torch.float16), hidden_states=None, attentions=None)\n"
     ]
    },
    {
     "name": "stderr",
     "output_type": "stream",
     "text": []
    },
    {
     "name": "stdout",
     "output_type": "stream",
     "text": [
      "output of the model SequenceClassifierOutput(loss=None, logits=tensor([[-0.4802, -1.1123,  2.3301],\n",
      "        [-1.0977, -0.6924,  2.5762],\n",
      "        [-0.6558,  0.5254,  0.6934],\n",
      "        ...,\n",
      "        [ 0.5972, -1.7695,  0.8018],\n",
      "        [-1.1338,  2.0508, -0.6206],\n",
      "        [ 1.1338, -0.9150, -1.3945]], device='cuda:0', dtype=torch.float16), hidden_states=None, attentions=None)\n"
     ]
    },
    {
     "name": "stderr",
     "output_type": "stream",
     "text": [
      "Processing batches (chunk 9): 100%|██████████| 98/98 [00:33<00:00,  2.92it/s]\n",
      "Processing chunks:   7%|▋         | 9/131 [05:17<1:11:05, 34.96s/it]"
     ]
    },
    {
     "name": "stdout",
     "output_type": "stream",
     "text": [
      "output of the model SequenceClassifierOutput(loss=None, logits=tensor([[-1.2744,  2.6562, -1.2930],\n",
      "        [-1.9238,  2.5508,  0.4446],\n",
      "        [-0.8003, -1.2119,  2.3223],\n",
      "        ...,\n",
      "        [ 2.0059, -1.7217, -1.5205],\n",
      "        [-0.5918, -0.3501,  1.4062],\n",
      "        [ 1.8584, -1.9990, -0.6177]], device='cuda:0', dtype=torch.float16), hidden_states=None, attentions=None)\n"
     ]
    },
    {
     "name": "stderr",
     "output_type": "stream",
     "text": []
    },
    {
     "name": "stdout",
     "output_type": "stream",
     "text": [
      "output of the model SequenceClassifierOutput(loss=None, logits=tensor([[ 1.2373, -2.1445,  0.2546],\n",
      "        [ 1.2695, -2.5703,  1.1973],\n",
      "        [ 0.7661, -2.4844,  1.8203],\n",
      "        ...,\n",
      "        [ 1.4912, -0.5498, -1.8682],\n",
      "        [-1.6865,  2.8242, -0.8081],\n",
      "        [ 1.9199, -2.7539, -0.1552]], device='cuda:0', dtype=torch.float16), hidden_states=None, attentions=None)\n"
     ]
    },
    {
     "name": "stderr",
     "output_type": "stream",
     "text": []
    },
    {
     "name": "stdout",
     "output_type": "stream",
     "text": [
      "output of the model SequenceClassifierOutput(loss=None, logits=tensor([[ 1.2900, -2.7852,  1.4355],\n",
      "        [-1.7646,  2.6719,  0.1407],\n",
      "        [-1.2002,  1.1211,  0.8623],\n",
      "        ...,\n",
      "        [-0.7954, -1.1660,  2.4531],\n",
      "        [ 0.5811, -1.7432,  0.9116],\n",
      "        [-0.0057, -1.9561,  2.2188]], device='cuda:0', dtype=torch.float16), hidden_states=None, attentions=None)\n"
     ]
    },
    {
     "name": "stderr",
     "output_type": "stream",
     "text": []
    },
    {
     "name": "stdout",
     "output_type": "stream",
     "text": [
      "output of the model SequenceClassifierOutput(loss=None, logits=tensor([[-0.4016, -1.1592,  1.7861],\n",
      "        [-1.0703, -0.3420,  2.1934],\n",
      "        [-1.3955,  2.5977, -0.9819],\n",
      "        ...,\n",
      "        [ 1.7861, -1.2490, -1.7539],\n",
      "        [-1.6768,  0.8271,  1.8662],\n",
      "        [-0.3042, -1.4639,  2.0645]], device='cuda:0', dtype=torch.float16), hidden_states=None, attentions=None)\n"
     ]
    },
    {
     "name": "stderr",
     "output_type": "stream",
     "text": []
    },
    {
     "name": "stdout",
     "output_type": "stream",
     "text": [
      "output of the model SequenceClassifierOutput(loss=None, logits=tensor([[-0.9438, -0.8477,  2.5430],\n",
      "        [ 1.7197, -2.8320,  0.4084],\n",
      "        [-1.0420,  0.7646,  0.1782],\n",
      "        ...,\n",
      "        [-0.3560,  0.6543, -0.8979],\n",
      "        [-1.3809,  1.1084,  1.1592],\n",
      "        [-0.1299, -0.0895,  0.1398]], device='cuda:0', dtype=torch.float16), hidden_states=None, attentions=None)\n"
     ]
    },
    {
     "name": "stderr",
     "output_type": "stream",
     "text": []
    },
    {
     "name": "stdout",
     "output_type": "stream",
     "text": [
      "output of the model SequenceClassifierOutput(loss=None, logits=tensor([[-0.1270, -0.4519,  0.3979],\n",
      "        [-1.5049,  0.4250,  2.0039],\n",
      "        [-0.1038, -0.6123,  0.6509],\n",
      "        ...,\n",
      "        [-0.1534,  0.4592, -0.9600],\n",
      "        [-0.1970, -1.7666,  2.4258],\n",
      "        [ 1.6660, -1.3691, -1.4463]], device='cuda:0', dtype=torch.float16), hidden_states=None, attentions=None)\n"
     ]
    },
    {
     "name": "stderr",
     "output_type": "stream",
     "text": []
    },
    {
     "name": "stdout",
     "output_type": "stream",
     "text": [
      "output of the model SequenceClassifierOutput(loss=None, logits=tensor([[ 1.8740, -2.6367,  0.1501],\n",
      "        [-1.3955, -0.2498,  2.4414],\n",
      "        [-1.4785,  0.2976,  2.0879],\n",
      "        ...,\n",
      "        [ 1.9600, -1.1318, -1.8740],\n",
      "        [ 1.2021, -2.2656,  0.6665],\n",
      "        [ 1.7646, -0.8511, -1.8760]], device='cuda:0', dtype=torch.float16), hidden_states=None, attentions=None)\n"
     ]
    },
    {
     "name": "stderr",
     "output_type": "stream",
     "text": []
    },
    {
     "name": "stdout",
     "output_type": "stream",
     "text": [
      "output of the model SequenceClassifierOutput(loss=None, logits=tensor([[-1.5537,  1.2979,  1.3184],\n",
      "        [-0.9238, -1.1396,  2.5293],\n",
      "        [-1.1680, -0.4211,  2.4219],\n",
      "        ...,\n",
      "        [-1.6924,  2.9434, -0.9365],\n",
      "        [-1.4023,  2.1719,  0.0705],\n",
      "        [-1.4717,  2.9043, -1.2773]], device='cuda:0', dtype=torch.float16), hidden_states=None, attentions=None)\n"
     ]
    },
    {
     "name": "stderr",
     "output_type": "stream",
     "text": []
    },
    {
     "name": "stdout",
     "output_type": "stream",
     "text": [
      "output of the model SequenceClassifierOutput(loss=None, logits=tensor([[-0.6904, -0.1774,  1.3594],\n",
      "        [-1.8252,  3.0078, -0.8662],\n",
      "        [ 1.9551, -2.3477, -1.0098],\n",
      "        ...,\n",
      "        [-1.7119,  1.5264,  1.4805],\n",
      "        [-1.4121,  1.3125,  1.0303],\n",
      "        [-0.4714, -1.3486,  2.1289]], device='cuda:0', dtype=torch.float16), hidden_states=None, attentions=None)\n"
     ]
    },
    {
     "name": "stderr",
     "output_type": "stream",
     "text": []
    },
    {
     "name": "stdout",
     "output_type": "stream",
     "text": [
      "output of the model SequenceClassifierOutput(loss=None, logits=tensor([[-0.3713, -1.4414,  2.1035],\n",
      "        [-1.7314,  2.4160,  0.0814],\n",
      "        [-0.0708, -2.0684,  2.3359],\n",
      "        ...,\n",
      "        [-0.5596,  1.9512, -1.5010],\n",
      "        [-1.7822,  2.6738, -0.1471],\n",
      "        [-1.8047,  2.6875, -0.1555]], device='cuda:0', dtype=torch.float16), hidden_states=None, attentions=None)\n"
     ]
    },
    {
     "name": "stderr",
     "output_type": "stream",
     "text": []
    },
    {
     "name": "stdout",
     "output_type": "stream",
     "text": [
      "output of the model SequenceClassifierOutput(loss=None, logits=tensor([[-1.8135,  2.9609, -0.7451],\n",
      "        [-0.1407, -0.2725,  0.1259],\n",
      "        [-0.1296, -1.5771,  1.9746],\n",
      "        ...,\n",
      "        [-0.9272, -1.2314,  2.6582],\n",
      "        [ 1.0010, -2.0215,  0.6528],\n",
      "        [ 1.4893, -1.5107, -1.1309]], device='cuda:0', dtype=torch.float16), hidden_states=None, attentions=None)\n"
     ]
    },
    {
     "name": "stderr",
     "output_type": "stream",
     "text": []
    },
    {
     "name": "stdout",
     "output_type": "stream",
     "text": [
      "output of the model SequenceClassifierOutput(loss=None, logits=tensor([[ 1.4805, -1.4014, -1.1465],\n",
      "        [ 1.8643, -2.2070, -0.8633],\n",
      "        [ 1.5010, -2.0703, -0.3577],\n",
      "        ...,\n",
      "        [ 0.1387, -0.4351, -0.1794],\n",
      "        [ 1.8799, -1.8320, -1.3057],\n",
      "        [-0.1838, -1.8857,  2.2930]], device='cuda:0', dtype=torch.float16), hidden_states=None, attentions=None)\n"
     ]
    },
    {
     "name": "stderr",
     "output_type": "stream",
     "text": []
    },
    {
     "name": "stdout",
     "output_type": "stream",
     "text": [
      "output of the model SequenceClassifierOutput(loss=None, logits=tensor([[ 2.0488, -2.8047, -0.0535],\n",
      "        [-1.1680, -0.6167,  2.5078],\n",
      "        [ 1.6875, -2.4199,  0.2250],\n",
      "        ...,\n",
      "        [ 1.8037, -2.7266,  0.2101],\n",
      "        [-0.7212,  0.2837,  0.7422],\n",
      "        [-1.8467,  2.9355, -0.5938]], device='cuda:0', dtype=torch.float16), hidden_states=None, attentions=None)\n"
     ]
    },
    {
     "name": "stderr",
     "output_type": "stream",
     "text": []
    },
    {
     "name": "stdout",
     "output_type": "stream",
     "text": [
      "output of the model SequenceClassifierOutput(loss=None, logits=tensor([[-0.6499, -1.4619,  2.5742],\n",
      "        [ 1.6797, -2.8672,  0.6143],\n",
      "        [ 0.3862,  0.3184, -1.7656],\n",
      "        ...,\n",
      "        [-0.3606, -0.7773,  1.6250],\n",
      "        [-0.8267,  0.5029,  0.7192],\n",
      "        [-1.6963,  2.9688, -0.9375]], device='cuda:0', dtype=torch.float16), hidden_states=None, attentions=None)\n"
     ]
    },
    {
     "name": "stderr",
     "output_type": "stream",
     "text": []
    },
    {
     "name": "stdout",
     "output_type": "stream",
     "text": [
      "output of the model SequenceClassifierOutput(loss=None, logits=tensor([[-1.7451,  3.0059, -0.9536],\n",
      "        [ 0.0464, -1.6289,  1.5850],\n",
      "        [-1.7021,  2.9297, -0.9492],\n",
      "        ...,\n",
      "        [-0.8267, -0.1493,  1.8232],\n",
      "        [ 1.9570, -1.7285, -1.5107],\n",
      "        [-1.4121,  1.3125,  1.0303]], device='cuda:0', dtype=torch.float16), hidden_states=None, attentions=None)\n"
     ]
    },
    {
     "name": "stderr",
     "output_type": "stream",
     "text": []
    },
    {
     "name": "stdout",
     "output_type": "stream",
     "text": [
      "output of the model SequenceClassifierOutput(loss=None, logits=tensor([[-1.3604,  2.3770, -0.8208],\n",
      "        [-0.8765,  0.4729,  0.7070],\n",
      "        [ 1.3799, -2.2969,  0.0037],\n",
      "        ...,\n",
      "        [ 0.1929, -0.0390, -0.7632],\n",
      "        [-0.3591, -1.8701,  2.3398],\n",
      "        [-0.4543,  0.2871,  0.1760]], device='cuda:0', dtype=torch.float16), hidden_states=None, attentions=None)\n"
     ]
    },
    {
     "name": "stderr",
     "output_type": "stream",
     "text": []
    },
    {
     "name": "stdout",
     "output_type": "stream",
     "text": [
      "output of the model SequenceClassifierOutput(loss=None, logits=tensor([[-0.4011, -1.2578,  2.1875],\n",
      "        [ 1.6260, -1.7998, -0.9590],\n",
      "        [-0.7393, -1.4883,  2.5664],\n",
      "        ...,\n",
      "        [ 0.0376, -1.8623,  2.1992],\n",
      "        [ 1.8672, -2.6797,  0.2123],\n",
      "        [ 0.8223, -2.0215,  1.1484]], device='cuda:0', dtype=torch.float16), hidden_states=None, attentions=None)\n"
     ]
    },
    {
     "name": "stderr",
     "output_type": "stream",
     "text": []
    },
    {
     "name": "stdout",
     "output_type": "stream",
     "text": [
      "output of the model SequenceClassifierOutput(loss=None, logits=tensor([[ 0.4724, -1.5684,  1.3379],\n",
      "        [ 0.4304, -2.2344,  1.8438],\n",
      "        [ 1.4492, -2.7812,  0.9805],\n",
      "        ...,\n",
      "        [-1.6191,  2.5742, -0.5337],\n",
      "        [-1.6504,  1.7295,  0.7402],\n",
      "        [-1.5127,  2.7441, -0.9102]], device='cuda:0', dtype=torch.float16), hidden_states=None, attentions=None)\n"
     ]
    },
    {
     "name": "stderr",
     "output_type": "stream",
     "text": []
    },
    {
     "name": "stdout",
     "output_type": "stream",
     "text": [
      "output of the model SequenceClassifierOutput(loss=None, logits=tensor([[ 1.7334, -2.0996, -0.8311],\n",
      "        [-0.5186, -1.4062,  2.2656],\n",
      "        [ 2.1035, -1.5459, -1.7305],\n",
      "        ...,\n",
      "        [-1.9619,  2.8867, -0.2812],\n",
      "        [-0.9688, -0.8516,  2.5000],\n",
      "        [-0.9854, -0.7207,  2.4414]], device='cuda:0', dtype=torch.float16), hidden_states=None, attentions=None)\n"
     ]
    },
    {
     "name": "stderr",
     "output_type": "stream",
     "text": []
    },
    {
     "name": "stdout",
     "output_type": "stream",
     "text": [
      "output of the model SequenceClassifierOutput(loss=None, logits=tensor([[-1.2471, -0.8086,  2.6562],\n",
      "        [-0.9351, -0.7520,  2.3906],\n",
      "        [-1.3174,  0.0199,  2.3438],\n",
      "        ...,\n",
      "        [-0.8926, -1.2725,  2.5781],\n",
      "        [ 1.3564, -2.2031,  0.2710],\n",
      "        [ 1.9717, -1.7725, -1.5020]], device='cuda:0', dtype=torch.float16), hidden_states=None, attentions=None)\n"
     ]
    },
    {
     "name": "stderr",
     "output_type": "stream",
     "text": []
    },
    {
     "name": "stdout",
     "output_type": "stream",
     "text": [
      "output of the model SequenceClassifierOutput(loss=None, logits=tensor([[-0.8037,  1.2646, -0.2238],\n",
      "        [ 0.3792, -2.3906,  2.1641],\n",
      "        [-1.7061,  2.7051, -0.4875],\n",
      "        ...,\n",
      "        [-1.3506,  0.6128,  1.6904],\n",
      "        [ 0.1390, -2.1719,  2.2305],\n",
      "        [-0.2844, -1.7090,  2.4688]], device='cuda:0', dtype=torch.float16), hidden_states=None, attentions=None)\n"
     ]
    },
    {
     "name": "stderr",
     "output_type": "stream",
     "text": []
    },
    {
     "name": "stdout",
     "output_type": "stream",
     "text": [
      "output of the model SequenceClassifierOutput(loss=None, logits=tensor([[ 0.0997, -2.3281,  2.0449],\n",
      "        [-0.4272,  0.9785, -0.8262],\n",
      "        [-1.6650,  2.5195, -0.5186],\n",
      "        ...,\n",
      "        [-0.4915, -1.6650,  2.4160],\n",
      "        [ 0.5293, -1.9902,  1.7227],\n",
      "        [-1.4697,  2.3164, -0.3801]], device='cuda:0', dtype=torch.float16), hidden_states=None, attentions=None)\n"
     ]
    },
    {
     "name": "stderr",
     "output_type": "stream",
     "text": []
    },
    {
     "name": "stdout",
     "output_type": "stream",
     "text": [
      "output of the model SequenceClassifierOutput(loss=None, logits=tensor([[-0.0041, -0.2830, -0.0936],\n",
      "        [ 0.2996, -1.1846,  0.9292],\n",
      "        [ 0.3005,  0.2688, -1.4795],\n",
      "        ...,\n",
      "        [-0.6499, -0.4910,  1.6953],\n",
      "        [ 0.0834,  0.2625, -1.0273],\n",
      "        [ 1.4951, -2.1074, -0.3501]], device='cuda:0', dtype=torch.float16), hidden_states=None, attentions=None)\n"
     ]
    },
    {
     "name": "stderr",
     "output_type": "stream",
     "text": []
    },
    {
     "name": "stdout",
     "output_type": "stream",
     "text": [
      "output of the model SequenceClassifierOutput(loss=None, logits=tensor([[-1.3955,  2.2578, -0.7212],\n",
      "        [ 1.6533, -1.7285, -0.9082],\n",
      "        [ 1.5205, -1.9648, -0.1957],\n",
      "        ...,\n",
      "        [-1.3252,  2.5625, -0.9463],\n",
      "        [-0.9077,  1.0625,  0.1216],\n",
      "        [ 1.8184, -2.8086,  0.6255]], device='cuda:0', dtype=torch.float16), hidden_states=None, attentions=None)\n"
     ]
    },
    {
     "name": "stderr",
     "output_type": "stream",
     "text": []
    },
    {
     "name": "stdout",
     "output_type": "stream",
     "text": [
      "output of the model SequenceClassifierOutput(loss=None, logits=tensor([[ 2.0957, -1.7090, -1.6426],\n",
      "        [-0.3870, -0.8418,  2.0215],\n",
      "        [ 0.0161, -0.5591,  1.3428],\n",
      "        ...,\n",
      "        [ 1.6436, -0.8154, -1.8027],\n",
      "        [-0.6172, -0.3347,  1.2773],\n",
      "        [ 0.1390, -1.1338,  1.1396]], device='cuda:0', dtype=torch.float16), hidden_states=None, attentions=None)\n"
     ]
    },
    {
     "name": "stderr",
     "output_type": "stream",
     "text": []
    },
    {
     "name": "stdout",
     "output_type": "stream",
     "text": [
      "output of the model SequenceClassifierOutput(loss=None, logits=tensor([[ 0.3301, -2.3457,  2.0859],\n",
      "        [-0.6011, -0.0828,  0.9370],\n",
      "        [-0.4871, -0.2808,  1.0225],\n",
      "        ...,\n",
      "        [-0.4934, -1.3926,  2.2852],\n",
      "        [ 1.7275, -2.9160,  0.6543],\n",
      "        [-0.7900, -1.1240,  2.5312]], device='cuda:0', dtype=torch.float16), hidden_states=None, attentions=None)\n"
     ]
    },
    {
     "name": "stderr",
     "output_type": "stream",
     "text": []
    },
    {
     "name": "stdout",
     "output_type": "stream",
     "text": [
      "output of the model SequenceClassifierOutput(loss=None, logits=tensor([[ 1.3857, -2.7344,  0.8545],\n",
      "        [ 0.1406, -2.2578,  2.2637],\n",
      "        [ 0.3081, -2.4609,  2.0449],\n",
      "        ...,\n",
      "        [-0.1024, -1.9463,  2.2812],\n",
      "        [-0.1068,  1.5439, -1.7773],\n",
      "        [ 1.0586, -0.8877, -0.2913]], device='cuda:0', dtype=torch.float16), hidden_states=None, attentions=None)\n"
     ]
    },
    {
     "name": "stderr",
     "output_type": "stream",
     "text": []
    },
    {
     "name": "stdout",
     "output_type": "stream",
     "text": [
      "output of the model SequenceClassifierOutput(loss=None, logits=tensor([[-0.6313, -0.4329,  1.7119],\n",
      "        [ 1.0586, -0.8877, -0.2913],\n",
      "        [-0.3413, -1.3574,  2.0723],\n",
      "        ...,\n",
      "        [ 0.8975, -2.0684,  0.7588],\n",
      "        [-0.9834, -1.1006,  2.6719],\n",
      "        [ 1.9336, -1.9727, -1.3408]], device='cuda:0', dtype=torch.float16), hidden_states=None, attentions=None)\n"
     ]
    },
    {
     "name": "stderr",
     "output_type": "stream",
     "text": []
    },
    {
     "name": "stdout",
     "output_type": "stream",
     "text": [
      "output of the model SequenceClassifierOutput(loss=None, logits=tensor([[ 1.8701, -1.9629, -1.2969],\n",
      "        [-0.0793, -0.2834, -0.0040],\n",
      "        [-0.4294,  0.6860, -0.8496],\n",
      "        ...,\n",
      "        [-1.1445, -0.7949,  2.6230],\n",
      "        [ 1.5166, -2.5762,  0.6226],\n",
      "        [-1.5049,  1.5117,  0.6128]], device='cuda:0', dtype=torch.float16), hidden_states=None, attentions=None)\n"
     ]
    },
    {
     "name": "stderr",
     "output_type": "stream",
     "text": []
    },
    {
     "name": "stdout",
     "output_type": "stream",
     "text": [
      "output of the model SequenceClassifierOutput(loss=None, logits=tensor([[ 0.4810, -2.3770,  1.9268],\n",
      "        [-0.8652, -0.5273,  2.3555],\n",
      "        [-0.9487, -0.9546,  2.5430],\n",
      "        ...,\n",
      "        [ 1.8398, -2.5859,  0.0199],\n",
      "        [ 1.4375, -2.6543,  0.8442],\n",
      "        [-1.3506,  2.0137, -0.2042]], device='cuda:0', dtype=torch.float16), hidden_states=None, attentions=None)\n"
     ]
    },
    {
     "name": "stderr",
     "output_type": "stream",
     "text": []
    },
    {
     "name": "stdout",
     "output_type": "stream",
     "text": [
      "output of the model SequenceClassifierOutput(loss=None, logits=tensor([[-0.7666,  1.3408, -0.4021],\n",
      "        [ 1.3828, -0.6709, -1.4648],\n",
      "        [ 2.0957, -1.7637, -1.5977],\n",
      "        ...,\n",
      "        [-1.2490, -0.5591,  2.5469],\n",
      "        [-0.7388, -0.7925,  1.7461],\n",
      "        [ 1.0078, -2.3184,  1.0234]], device='cuda:0', dtype=torch.float16), hidden_states=None, attentions=None)\n"
     ]
    },
    {
     "name": "stderr",
     "output_type": "stream",
     "text": []
    },
    {
     "name": "stdout",
     "output_type": "stream",
     "text": [
      "output of the model SequenceClassifierOutput(loss=None, logits=tensor([[ 1.6914, -1.9307, -0.7373],\n",
      "        [-0.6938, -0.8345,  1.5664],\n",
      "        [-1.5039,  0.4685,  2.1055],\n",
      "        ...,\n",
      "        [ 1.4004, -2.2773,  0.1577],\n",
      "        [-1.5225,  0.3691,  2.0371],\n",
      "        [ 0.7290, -2.0156,  1.2393]], device='cuda:0', dtype=torch.float16), hidden_states=None, attentions=None)\n"
     ]
    },
    {
     "name": "stderr",
     "output_type": "stream",
     "text": []
    },
    {
     "name": "stdout",
     "output_type": "stream",
     "text": [
      "output of the model SequenceClassifierOutput(loss=None, logits=tensor([[ 0.0483, -0.9053,  0.4832],\n",
      "        [-1.0596,  1.6064, -0.4109],\n",
      "        [-0.1503,  1.2051, -1.8633],\n",
      "        ...,\n",
      "        [-0.7231,  0.4585,  0.3176],\n",
      "        [-0.6245,  0.3064,  0.8604],\n",
      "        [ 1.7695, -0.8237, -1.8828]], device='cuda:0', dtype=torch.float16), hidden_states=None, attentions=None)\n"
     ]
    },
    {
     "name": "stderr",
     "output_type": "stream",
     "text": []
    },
    {
     "name": "stdout",
     "output_type": "stream",
     "text": [
      "output of the model SequenceClassifierOutput(loss=None, logits=tensor([[ 0.0270, -1.3086,  1.4414],\n",
      "        [-1.1982,  0.6343,  1.2314],\n",
      "        [-1.8486,  2.9707, -0.7598],\n",
      "        ...,\n",
      "        [-1.0703, -0.6782,  2.3105],\n",
      "        [-1.8877,  2.5684,  0.1285],\n",
      "        [-1.8350,  2.4141,  0.5068]], device='cuda:0', dtype=torch.float16), hidden_states=None, attentions=None)\n"
     ]
    },
    {
     "name": "stderr",
     "output_type": "stream",
     "text": []
    },
    {
     "name": "stdout",
     "output_type": "stream",
     "text": [
      "output of the model SequenceClassifierOutput(loss=None, logits=tensor([[-1.3594,  1.0986,  1.2773],\n",
      "        [ 0.3440, -1.5947,  1.7109],\n",
      "        [ 1.9102, -1.9697, -1.2695],\n",
      "        ...,\n",
      "        [-0.0110, -0.1783, -0.3450],\n",
      "        [-1.5811,  2.8672, -1.0303],\n",
      "        [-1.6396,  2.5137, -0.5293]], device='cuda:0', dtype=torch.float16), hidden_states=None, attentions=None)\n"
     ]
    },
    {
     "name": "stderr",
     "output_type": "stream",
     "text": []
    },
    {
     "name": "stdout",
     "output_type": "stream",
     "text": [
      "output of the model SequenceClassifierOutput(loss=None, logits=tensor([[-1.7549,  3.0078, -0.9590],\n",
      "        [ 0.4685,  0.1100, -1.4756],\n",
      "        [-1.8252,  3.0410, -0.8584],\n",
      "        ...,\n",
      "        [-0.8945, -1.0908,  2.5156],\n",
      "        [-1.7832,  2.9062, -0.7583],\n",
      "        [-1.0371, -0.5547,  2.3574]], device='cuda:0', dtype=torch.float16), hidden_states=None, attentions=None)\n"
     ]
    },
    {
     "name": "stderr",
     "output_type": "stream",
     "text": []
    },
    {
     "name": "stdout",
     "output_type": "stream",
     "text": [
      "output of the model SequenceClassifierOutput(loss=None, logits=tensor([[-0.4963, -1.6689,  2.4512],\n",
      "        [ 0.0553,  1.3896, -2.0391],\n",
      "        [-1.0645,  0.0842,  1.6377],\n",
      "        ...,\n",
      "        [-1.4424,  2.4434, -0.6777],\n",
      "        [-1.4326,  2.3984, -0.6162],\n",
      "        [-0.4077, -1.0684,  2.0488]], device='cuda:0', dtype=torch.float16), hidden_states=None, attentions=None)\n"
     ]
    },
    {
     "name": "stderr",
     "output_type": "stream",
     "text": []
    },
    {
     "name": "stdout",
     "output_type": "stream",
     "text": [
      "output of the model SequenceClassifierOutput(loss=None, logits=tensor([[-1.4697,  2.4219, -0.5781],\n",
      "        [-1.2363,  2.1777, -0.6343],\n",
      "        [-0.3994, -1.6094,  2.3926],\n",
      "        ...,\n",
      "        [ 0.7041,  0.1412, -1.6914],\n",
      "        [-1.7451,  3.0059, -0.9536],\n",
      "        [-1.7021,  2.9297, -0.9492]], device='cuda:0', dtype=torch.float16), hidden_states=None, attentions=None)\n"
     ]
    },
    {
     "name": "stderr",
     "output_type": "stream",
     "text": []
    },
    {
     "name": "stdout",
     "output_type": "stream",
     "text": [
      "output of the model SequenceClassifierOutput(loss=None, logits=tensor([[-1.7822,  2.9805, -0.8657],\n",
      "        [ 1.3740, -0.8486, -1.4297],\n",
      "        [ 2.0078, -1.7422, -1.5752],\n",
      "        ...,\n",
      "        [ 0.1844, -1.5488,  1.6758],\n",
      "        [-1.3760,  2.6152, -1.1865],\n",
      "        [-0.8203, -1.0713,  2.3262]], device='cuda:0', dtype=torch.float16), hidden_states=None, attentions=None)\n"
     ]
    },
    {
     "name": "stderr",
     "output_type": "stream",
     "text": []
    },
    {
     "name": "stdout",
     "output_type": "stream",
     "text": [
      "output of the model SequenceClassifierOutput(loss=None, logits=tensor([[-1.1689, -0.2340,  2.1680],\n",
      "        [-0.0039, -0.9385,  1.2070],\n",
      "        [-0.0068, -0.9526,  1.2002],\n",
      "        ...,\n",
      "        [-0.7715, -0.0990,  1.3535],\n",
      "        [-1.9053,  2.7734, -0.4143],\n",
      "        [-0.1292, -2.1016,  2.4648]], device='cuda:0', dtype=torch.float16), hidden_states=None, attentions=None)\n"
     ]
    },
    {
     "name": "stderr",
     "output_type": "stream",
     "text": []
    },
    {
     "name": "stdout",
     "output_type": "stream",
     "text": [
      "output of the model SequenceClassifierOutput(loss=None, logits=tensor([[-0.4924, -0.1001,  0.9536],\n",
      "        [ 2.0254, -2.0918, -1.3662],\n",
      "        [ 1.0586, -0.8877, -0.2913],\n",
      "        ...,\n",
      "        [ 1.4355, -2.2578,  0.0223],\n",
      "        [-1.2607, -0.4902,  2.5410],\n",
      "        [-0.6040, -0.9072,  2.1855]], device='cuda:0', dtype=torch.float16), hidden_states=None, attentions=None)\n"
     ]
    },
    {
     "name": "stderr",
     "output_type": "stream",
     "text": []
    },
    {
     "name": "stdout",
     "output_type": "stream",
     "text": [
      "output of the model SequenceClassifierOutput(loss=None, logits=tensor([[ 1.0586, -0.8877, -0.2913],\n",
      "        [ 1.1133, -1.2607, -0.0983],\n",
      "        [ 0.2935, -2.2168,  1.9492],\n",
      "        ...,\n",
      "        [ 0.1218, -1.9023,  2.0273],\n",
      "        [-1.4736,  1.8242,  0.6035],\n",
      "        [ 1.0498, -1.5332, -0.6206]], device='cuda:0', dtype=torch.float16), hidden_states=None, attentions=None)\n"
     ]
    },
    {
     "name": "stderr",
     "output_type": "stream",
     "text": []
    },
    {
     "name": "stdout",
     "output_type": "stream",
     "text": [
      "output of the model SequenceClassifierOutput(loss=None, logits=tensor([[ 0.0826, -2.1543,  2.1250],\n",
      "        [-0.9946, -0.4858,  2.2168],\n",
      "        [-0.5059,  1.3438, -1.2393],\n",
      "        ...,\n",
      "        [ 1.2539, -2.5059,  0.7979],\n",
      "        [-1.5488,  2.8691, -1.0254],\n",
      "        [ 1.3604,  0.2184, -2.2129]], device='cuda:0', dtype=torch.float16), hidden_states=None, attentions=None)\n"
     ]
    },
    {
     "name": "stderr",
     "output_type": "stream",
     "text": []
    },
    {
     "name": "stdout",
     "output_type": "stream",
     "text": [
      "output of the model SequenceClassifierOutput(loss=None, logits=tensor([[ 1.2002, -1.8389, -0.3035],\n",
      "        [ 1.9365, -1.2139, -1.7812],\n",
      "        [ 2.0254, -1.7695, -1.5293],\n",
      "        ...,\n",
      "        [ 1.8818, -2.8789,  0.2920],\n",
      "        [-0.6626, -0.6411,  2.2969],\n",
      "        [ 0.8179, -1.1074, -0.6279]], device='cuda:0', dtype=torch.float16), hidden_states=None, attentions=None)\n"
     ]
    },
    {
     "name": "stderr",
     "output_type": "stream",
     "text": []
    },
    {
     "name": "stdout",
     "output_type": "stream",
     "text": [
      "output of the model SequenceClassifierOutput(loss=None, logits=tensor([[-0.6323, -0.4136,  1.5547],\n",
      "        [ 2.0059, -1.9062, -1.4277],\n",
      "        [ 1.9482, -2.2773, -0.9033],\n",
      "        ...,\n",
      "        [-0.0988, -1.9854,  2.3242],\n",
      "        [ 0.1746, -2.3652,  2.2227],\n",
      "        [ 0.2722, -2.2871,  2.0410]], device='cuda:0', dtype=torch.float16), hidden_states=None, attentions=None)\n"
     ]
    },
    {
     "name": "stderr",
     "output_type": "stream",
     "text": []
    },
    {
     "name": "stdout",
     "output_type": "stream",
     "text": [
      "output of the model SequenceClassifierOutput(loss=None, logits=tensor([[-0.6416, -1.4062,  2.4824],\n",
      "        [ 1.2471, -2.4199,  0.7603],\n",
      "        [ 1.2607, -2.2188,  0.0366],\n",
      "        ...,\n",
      "        [ 1.0049, -2.5254,  1.5234],\n",
      "        [ 1.1084, -2.7266,  1.6221],\n",
      "        [ 0.1022, -2.1914,  2.3457]], device='cuda:0', dtype=torch.float16), hidden_states=None, attentions=None)\n"
     ]
    },
    {
     "name": "stderr",
     "output_type": "stream",
     "text": []
    },
    {
     "name": "stdout",
     "output_type": "stream",
     "text": [
      "output of the model SequenceClassifierOutput(loss=None, logits=tensor([[ 1.8564, -2.5176, -0.5073],\n",
      "        [ 0.5713, -2.5176,  1.9863],\n",
      "        [ 1.8418, -2.8672,  0.4546],\n",
      "        ...,\n",
      "        [ 1.6299, -2.3105, -0.4094],\n",
      "        [-1.5205,  2.7246, -1.0283],\n",
      "        [ 0.1595,  1.0342, -1.8096]], device='cuda:0', dtype=torch.float16), hidden_states=None, attentions=None)\n"
     ]
    },
    {
     "name": "stderr",
     "output_type": "stream",
     "text": []
    },
    {
     "name": "stdout",
     "output_type": "stream",
     "text": [
      "output of the model SequenceClassifierOutput(loss=None, logits=tensor([[-0.7026,  2.4375, -1.9746],\n",
      "        [ 0.1799, -1.5166,  1.6074],\n",
      "        [-0.0836,  0.5801, -1.0771],\n",
      "        ...,\n",
      "        [ 0.4348, -0.1103, -1.1797],\n",
      "        [ 1.9844, -1.9004, -1.4316],\n",
      "        [-1.1533, -0.5298,  2.4863]], device='cuda:0', dtype=torch.float16), hidden_states=None, attentions=None)\n"
     ]
    },
    {
     "name": "stderr",
     "output_type": "stream",
     "text": []
    },
    {
     "name": "stdout",
     "output_type": "stream",
     "text": [
      "output of the model SequenceClassifierOutput(loss=None, logits=tensor([[-1.0254, -0.2998,  2.1562],\n",
      "        [-1.6904,  2.5918, -0.1843],\n",
      "        [-0.1951, -1.7803,  2.5176],\n",
      "        ...,\n",
      "        [ 0.4351, -0.1879, -1.0547],\n",
      "        [-0.8350, -0.7476,  2.3340],\n",
      "        [ 1.7217, -2.4375, -0.0679]], device='cuda:0', dtype=torch.float16), hidden_states=None, attentions=None)\n"
     ]
    },
    {
     "name": "stderr",
     "output_type": "stream",
     "text": []
    },
    {
     "name": "stdout",
     "output_type": "stream",
     "text": [
      "output of the model SequenceClassifierOutput(loss=None, logits=tensor([[ 1.1377, -2.2422,  0.5884],\n",
      "        [-0.6226, -0.1138,  0.9609],\n",
      "        [-0.2864, -1.6084,  2.0723],\n",
      "        ...,\n",
      "        [-1.7764,  1.9756,  0.4028],\n",
      "        [-0.6489, -0.7969,  1.9648],\n",
      "        [-0.6187, -1.4893,  2.5781]], device='cuda:0', dtype=torch.float16), hidden_states=None, attentions=None)\n"
     ]
    },
    {
     "name": "stderr",
     "output_type": "stream",
     "text": []
    },
    {
     "name": "stdout",
     "output_type": "stream",
     "text": [
      "output of the model SequenceClassifierOutput(loss=None, logits=tensor([[ 1.3320, -0.7676, -1.5186],\n",
      "        [-1.0557,  1.0635,  0.7852],\n",
      "        [-1.2598,  0.5898,  1.2041],\n",
      "        ...,\n",
      "        [-0.1738, -2.0625,  2.4570],\n",
      "        [-1.5654,  2.7969, -1.0479],\n",
      "        [ 1.9619, -1.8232, -1.4053]], device='cuda:0', dtype=torch.float16), hidden_states=None, attentions=None)\n"
     ]
    },
    {
     "name": "stderr",
     "output_type": "stream",
     "text": []
    },
    {
     "name": "stdout",
     "output_type": "stream",
     "text": [
      "output of the model SequenceClassifierOutput(loss=None, logits=tensor([[ 0.4221, -2.5156,  2.1367],\n",
      "        [ 1.8613, -1.6211, -1.4609],\n",
      "        [-1.0967, -0.7109,  2.3340],\n",
      "        ...,\n",
      "        [-0.8467, -0.5430,  2.1777],\n",
      "        [ 0.0161, -0.5591,  1.3428],\n",
      "        [ 1.6572, -0.6997, -1.9004]], device='cuda:0', dtype=torch.float16), hidden_states=None, attentions=None)\n"
     ]
    },
    {
     "name": "stderr",
     "output_type": "stream",
     "text": []
    },
    {
     "name": "stdout",
     "output_type": "stream",
     "text": [
      "output of the model SequenceClassifierOutput(loss=None, logits=tensor([[ 2.1113, -2.1426, -1.1914],\n",
      "        [ 2.0469, -1.9697, -1.3760],\n",
      "        [ 0.3440, -1.5947,  1.7109],\n",
      "        ...,\n",
      "        [-0.0491, -2.0781,  2.2656],\n",
      "        [ 0.1951, -2.2070,  2.2305],\n",
      "        [ 1.9170, -2.7012, -0.1129]], device='cuda:0', dtype=torch.float16), hidden_states=None, attentions=None)\n"
     ]
    },
    {
     "name": "stderr",
     "output_type": "stream",
     "text": []
    },
    {
     "name": "stdout",
     "output_type": "stream",
     "text": [
      "output of the model SequenceClassifierOutput(loss=None, logits=tensor([[-0.1971, -1.9287,  2.3066],\n",
      "        [ 1.1006, -2.0547,  0.5723],\n",
      "        [-0.2415, -1.1553,  2.0020],\n",
      "        ...,\n",
      "        [ 0.0989, -1.5107,  1.5127],\n",
      "        [-0.7974, -1.4131,  2.5840],\n",
      "        [-1.2529,  1.2881,  0.4175]], device='cuda:0', dtype=torch.float16), hidden_states=None, attentions=None)\n"
     ]
    },
    {
     "name": "stderr",
     "output_type": "stream",
     "text": []
    },
    {
     "name": "stdout",
     "output_type": "stream",
     "text": [
      "output of the model SequenceClassifierOutput(loss=None, logits=tensor([[-1.6025,  1.1182,  1.4707],\n",
      "        [ 1.7412, -1.4805, -1.3896],\n",
      "        [ 0.1154, -1.2822,  1.2666],\n",
      "        ...,\n",
      "        [-0.3711, -1.7344,  2.4766],\n",
      "        [-0.7061, -1.4463,  2.4922],\n",
      "        [ 0.1613, -2.1660,  2.1387]], device='cuda:0', dtype=torch.float16), hidden_states=None, attentions=None)\n"
     ]
    },
    {
     "name": "stderr",
     "output_type": "stream",
     "text": []
    },
    {
     "name": "stdout",
     "output_type": "stream",
     "text": [
      "output of the model SequenceClassifierOutput(loss=None, logits=tensor([[-0.6309,  1.6934, -1.0225],\n",
      "        [-0.1630, -1.3867,  1.9629],\n",
      "        [-0.0384, -1.7217,  2.2266],\n",
      "        ...,\n",
      "        [-0.7622, -1.0234,  2.4355],\n",
      "        [-0.7515,  0.2385,  1.3389],\n",
      "        [-0.4910,  1.4385, -1.0225]], device='cuda:0', dtype=torch.float16), hidden_states=None, attentions=None)\n"
     ]
    },
    {
     "name": "stderr",
     "output_type": "stream",
     "text": []
    },
    {
     "name": "stdout",
     "output_type": "stream",
     "text": [
      "output of the model SequenceClassifierOutput(loss=None, logits=tensor([[-0.6094, -1.4434,  2.4102],\n",
      "        [-0.5845,  0.3376, -0.0231],\n",
      "        [-0.3105, -1.5352,  2.3242],\n",
      "        ...,\n",
      "        [-0.2620, -1.7832,  2.3242],\n",
      "        [ 0.1479,  0.2891, -1.2402],\n",
      "        [-0.9297,  0.7144, -0.0303]], device='cuda:0', dtype=torch.float16), hidden_states=None, attentions=None)\n"
     ]
    },
    {
     "name": "stderr",
     "output_type": "stream",
     "text": []
    },
    {
     "name": "stdout",
     "output_type": "stream",
     "text": [
      "output of the model SequenceClassifierOutput(loss=None, logits=tensor([[-1.1143, -0.6401,  2.4727],\n",
      "        [-0.8979, -0.7764,  2.3535],\n",
      "        [-0.8193, -0.9912,  2.0898],\n",
      "        ...,\n",
      "        [-0.4966, -0.2300,  1.1768],\n",
      "        [ 0.8589, -2.5605,  1.6699],\n",
      "        [-0.3196, -1.9268,  2.3730]], device='cuda:0', dtype=torch.float16), hidden_states=None, attentions=None)\n"
     ]
    },
    {
     "name": "stderr",
     "output_type": "stream",
     "text": []
    },
    {
     "name": "stdout",
     "output_type": "stream",
     "text": [
      "output of the model SequenceClassifierOutput(loss=None, logits=tensor([[ 1.6299, -2.3008, -0.4768],\n",
      "        [-0.6353, -0.7070,  1.7598],\n",
      "        [-0.8472, -0.2825,  1.9990],\n",
      "        ...,\n",
      "        [ 1.8066, -2.0039, -0.9736],\n",
      "        [ 0.3030,  0.2888, -1.3281],\n",
      "        [-0.9189, -0.6514,  2.1484]], device='cuda:0', dtype=torch.float16), hidden_states=None, attentions=None)\n"
     ]
    },
    {
     "name": "stderr",
     "output_type": "stream",
     "text": []
    },
    {
     "name": "stdout",
     "output_type": "stream",
     "text": [
      "output of the model SequenceClassifierOutput(loss=None, logits=tensor([[-0.8677, -0.6670,  2.4766],\n",
      "        [ 2.0684, -2.1348, -1.2461],\n",
      "        [-1.2773,  0.6021,  1.6240],\n",
      "        ...,\n",
      "        [-0.1985, -0.2832,  0.3745],\n",
      "        [-0.1108,  1.1777, -1.8770],\n",
      "        [-0.5176,  0.9365, -0.6177]], device='cuda:0', dtype=torch.float16), hidden_states=None, attentions=None)\n"
     ]
    },
    {
     "name": "stderr",
     "output_type": "stream",
     "text": []
    },
    {
     "name": "stdout",
     "output_type": "stream",
     "text": [
      "output of the model SequenceClassifierOutput(loss=None, logits=tensor([[ 0.2330, -2.0059,  1.8994],\n",
      "        [ 0.1067, -2.2676,  2.1230],\n",
      "        [ 1.0586, -0.8877, -0.2913],\n",
      "        ...,\n",
      "        [ 0.6670, -2.0234,  1.2812],\n",
      "        [-0.2456, -0.4553,  0.1545],\n",
      "        [-1.2402, -0.4927,  2.4688]], device='cuda:0', dtype=torch.float16), hidden_states=None, attentions=None)\n"
     ]
    },
    {
     "name": "stderr",
     "output_type": "stream",
     "text": []
    },
    {
     "name": "stdout",
     "output_type": "stream",
     "text": [
      "output of the model SequenceClassifierOutput(loss=None, logits=tensor([[-1.2900,  0.7939,  1.1689],\n",
      "        [ 0.3867, -2.0410,  1.7363],\n",
      "        [-0.2456, -0.4553,  0.1545],\n",
      "        ...,\n",
      "        [ 1.9775, -2.6719, -0.4143],\n",
      "        [ 0.8052, -2.6426,  1.9834],\n",
      "        [-0.0129, -1.7109,  2.1133]], device='cuda:0', dtype=torch.float16), hidden_states=None, attentions=None)\n"
     ]
    },
    {
     "name": "stderr",
     "output_type": "stream",
     "text": []
    },
    {
     "name": "stdout",
     "output_type": "stream",
     "text": [
      "output of the model SequenceClassifierOutput(loss=None, logits=tensor([[ 1.0986, -1.5254, -0.3586],\n",
      "        [-0.1743, -0.0044,  0.4775],\n",
      "        [ 1.6582, -1.3047, -1.2627],\n",
      "        ...,\n",
      "        [ 0.4597, -0.8311,  0.6938],\n",
      "        [ 1.2646, -2.2969,  0.5454],\n",
      "        [ 1.5127, -2.6777,  0.8066]], device='cuda:0', dtype=torch.float16), hidden_states=None, attentions=None)\n"
     ]
    },
    {
     "name": "stderr",
     "output_type": "stream",
     "text": []
    },
    {
     "name": "stdout",
     "output_type": "stream",
     "text": [
      "output of the model SequenceClassifierOutput(loss=None, logits=tensor([[-1.4121,  1.3125,  1.0303],\n",
      "        [-1.4678,  1.7256,  0.6670],\n",
      "        [-1.0732,  1.2236,  0.3735],\n",
      "        ...,\n",
      "        [-1.3057, -0.2418,  2.1719],\n",
      "        [ 1.8135, -2.4961, -0.1566],\n",
      "        [ 1.5820, -2.2656,  0.2448]], device='cuda:0', dtype=torch.float16), hidden_states=None, attentions=None)\n"
     ]
    },
    {
     "name": "stderr",
     "output_type": "stream",
     "text": []
    },
    {
     "name": "stdout",
     "output_type": "stream",
     "text": [
      "output of the model SequenceClassifierOutput(loss=None, logits=tensor([[ 1.0889, -2.2969,  0.9688],\n",
      "        [ 0.7554, -1.8799,  0.9048],\n",
      "        [-1.1641,  0.2429,  1.7031],\n",
      "        ...,\n",
      "        [ 0.0194, -2.1211,  2.3926],\n",
      "        [ 0.5479, -2.5020,  2.0000],\n",
      "        [ 0.4497, -2.5508,  2.1562]], device='cuda:0', dtype=torch.float16), hidden_states=None, attentions=None)\n"
     ]
    },
    {
     "name": "stderr",
     "output_type": "stream",
     "text": []
    },
    {
     "name": "stdout",
     "output_type": "stream",
     "text": [
      "output of the model SequenceClassifierOutput(loss=None, logits=tensor([[ 1.8867, -0.9624, -1.8672],\n",
      "        [-0.7568, -1.3311,  2.5586],\n",
      "        [ 1.7256, -2.0645, -0.4771],\n",
      "        ...,\n",
      "        [-0.9019, -0.8384,  2.4512],\n",
      "        [-0.1136, -0.3491,  0.8970],\n",
      "        [-1.4717, -0.0828,  2.2988]], device='cuda:0', dtype=torch.float16), hidden_states=None, attentions=None)\n"
     ]
    },
    {
     "name": "stderr",
     "output_type": "stream",
     "text": []
    },
    {
     "name": "stdout",
     "output_type": "stream",
     "text": [
      "output of the model SequenceClassifierOutput(loss=None, logits=tensor([[-1.4580,  0.2688,  2.0566],\n",
      "        [ 1.1748, -0.8721, -1.4756],\n",
      "        [ 0.0179, -1.9658,  2.0801],\n",
      "        ...,\n",
      "        [ 1.9189, -2.0371, -0.7720],\n",
      "        [-0.7046, -1.1924,  2.3848],\n",
      "        [-0.0371, -2.0371,  2.2324]], device='cuda:0', dtype=torch.float16), hidden_states=None, attentions=None)\n"
     ]
    },
    {
     "name": "stderr",
     "output_type": "stream",
     "text": []
    },
    {
     "name": "stdout",
     "output_type": "stream",
     "text": [
      "output of the model SequenceClassifierOutput(loss=None, logits=tensor([[-0.7993, -0.8516,  2.2148],\n",
      "        [-0.6274, -1.0088,  2.1953],\n",
      "        [-0.8237, -0.9839,  2.3672],\n",
      "        ...,\n",
      "        [-0.4219, -1.6416,  2.3320],\n",
      "        [-0.5107, -1.5898,  2.5742],\n",
      "        [-1.2363, -0.4521,  2.4102]], device='cuda:0', dtype=torch.float16), hidden_states=None, attentions=None)\n"
     ]
    },
    {
     "name": "stderr",
     "output_type": "stream",
     "text": []
    },
    {
     "name": "stdout",
     "output_type": "stream",
     "text": [
      "output of the model SequenceClassifierOutput(loss=None, logits=tensor([[-0.2737, -1.5957,  2.1094],\n",
      "        [-1.1934,  1.6289, -0.2473],\n",
      "        [-0.3242, -1.6699,  2.4277],\n",
      "        ...,\n",
      "        [ 2.0156, -2.4629, -0.4858],\n",
      "        [-0.8677, -1.0684,  2.5098],\n",
      "        [-0.1844, -1.6436,  2.2891]], device='cuda:0', dtype=torch.float16), hidden_states=None, attentions=None)\n"
     ]
    },
    {
     "name": "stderr",
     "output_type": "stream",
     "text": []
    },
    {
     "name": "stdout",
     "output_type": "stream",
     "text": [
      "output of the model SequenceClassifierOutput(loss=None, logits=tensor([[-0.8677, -1.0684,  2.5098],\n",
      "        [-0.1844, -1.6436,  2.2891],\n",
      "        [-0.2205, -1.6436,  2.1699],\n",
      "        ...,\n",
      "        [ 1.9619, -1.2998, -1.7197],\n",
      "        [ 1.9814, -1.5371, -1.6084],\n",
      "        [ 1.5840, -0.1769, -2.0879]], device='cuda:0', dtype=torch.float16), hidden_states=None, attentions=None)\n"
     ]
    },
    {
     "name": "stderr",
     "output_type": "stream",
     "text": []
    },
    {
     "name": "stdout",
     "output_type": "stream",
     "text": [
      "output of the model SequenceClassifierOutput(loss=None, logits=tensor([[ 2.0078, -1.2773, -1.7959],\n",
      "        [-1.7275,  2.8906, -0.7876],\n",
      "        [ 2.0488, -1.5947, -1.6592],\n",
      "        ...,\n",
      "        [-1.3135, -0.4871,  2.5898],\n",
      "        [-0.9653, -1.0176,  2.4746],\n",
      "        [-1.7822,  2.6738, -0.1471]], device='cuda:0', dtype=torch.float16), hidden_states=None, attentions=None)\n"
     ]
    },
    {
     "name": "stderr",
     "output_type": "stream",
     "text": []
    },
    {
     "name": "stdout",
     "output_type": "stream",
     "text": [
      "output of the model SequenceClassifierOutput(loss=None, logits=tensor([[-1.3896,  2.4121, -0.6987],\n",
      "        [-1.4141,  2.4180, -0.7065],\n",
      "        [-1.3955,  2.4043, -0.7002],\n",
      "        ...,\n",
      "        [-0.6392,  0.8325, -0.3030],\n",
      "        [-1.8740,  3.0742, -0.8140],\n",
      "        [-1.6709,  1.8320,  0.7388]], device='cuda:0', dtype=torch.float16), hidden_states=None, attentions=None)\n"
     ]
    },
    {
     "name": "stderr",
     "output_type": "stream",
     "text": []
    },
    {
     "name": "stdout",
     "output_type": "stream",
     "text": [
      "output of the model SequenceClassifierOutput(loss=None, logits=tensor([[-0.6045,  1.0254, -0.6206],\n",
      "        [-0.5000,  0.4287, -0.3425],\n",
      "        [ 0.0086, -0.0817, -0.7202],\n",
      "        ...,\n",
      "        [-0.8452, -0.3625,  1.7031],\n",
      "        [-0.2423, -1.5557,  2.1406],\n",
      "        [ 0.5308, -2.5508,  2.1641]], device='cuda:0', dtype=torch.float16), hidden_states=None, attentions=None)\n"
     ]
    },
    {
     "name": "stderr",
     "output_type": "stream",
     "text": []
    },
    {
     "name": "stdout",
     "output_type": "stream",
     "text": [
      "output of the model SequenceClassifierOutput(loss=None, logits=tensor([[ 1.0117, -1.7334,  0.3735],\n",
      "        [-1.0381,  0.8726,  0.4946],\n",
      "        [ 1.1660, -2.1621,  0.6455],\n",
      "        ...,\n",
      "        [ 0.3440, -1.5947,  1.7109],\n",
      "        [ 0.7666, -1.9346,  1.3145],\n",
      "        [ 1.7588, -2.5996, -0.2063]], device='cuda:0', dtype=torch.float16), hidden_states=None, attentions=None)\n"
     ]
    },
    {
     "name": "stderr",
     "output_type": "stream",
     "text": []
    },
    {
     "name": "stdout",
     "output_type": "stream",
     "text": [
      "output of the model SequenceClassifierOutput(loss=None, logits=tensor([[ 1.8359, -2.3770, -0.7710],\n",
      "        [ 1.2588, -0.2830, -1.7812],\n",
      "        [ 1.3369, -2.5938,  1.0039],\n",
      "        ...,\n",
      "        [-1.7393,  3.0137, -0.9736],\n",
      "        [-0.3093, -0.3179,  0.8149],\n",
      "        [-0.4993, -0.9297,  1.9775]], device='cuda:0', dtype=torch.float16), hidden_states=None, attentions=None)\n"
     ]
    },
    {
     "name": "stderr",
     "output_type": "stream",
     "text": []
    },
    {
     "name": "stdout",
     "output_type": "stream",
     "text": [
      "output of the model SequenceClassifierOutput(loss=None, logits=tensor([[ 0.1390, -1.1338,  1.1396],\n",
      "        [-0.2935, -0.0451,  0.4717],\n",
      "        [-0.0068, -0.9526,  1.2002],\n",
      "        ...,\n",
      "        [-0.4417, -0.8652,  1.8672],\n",
      "        [-0.5952, -1.3066,  2.4961],\n",
      "        [-0.9351, -0.7944,  2.3750]], device='cuda:0', dtype=torch.float16), hidden_states=None, attentions=None)\n"
     ]
    },
    {
     "name": "stderr",
     "output_type": "stream",
     "text": []
    },
    {
     "name": "stdout",
     "output_type": "stream",
     "text": [
      "output of the model SequenceClassifierOutput(loss=None, logits=tensor([[-0.6572, -0.4893,  1.9043],\n",
      "        [-0.8027,  1.0693,  0.0183],\n",
      "        [-1.5771,  0.5459,  1.9512],\n",
      "        ...,\n",
      "        [ 0.8091, -1.7305,  0.7524],\n",
      "        [ 1.2158, -2.4160,  0.6812],\n",
      "        [-1.8350,  1.7393,  1.2148]], device='cuda:0', dtype=torch.float16), hidden_states=None, attentions=None)\n"
     ]
    },
    {
     "name": "stderr",
     "output_type": "stream",
     "text": []
    },
    {
     "name": "stdout",
     "output_type": "stream",
     "text": [
      "output of the model SequenceClassifierOutput(loss=None, logits=tensor([[-0.7642,  0.5913,  0.2942],\n",
      "        [-0.3494,  0.7925, -0.4871],\n",
      "        [ 0.0603,  0.2556, -0.7183],\n",
      "        ...,\n",
      "        [ 1.5645, -2.7891,  0.6973],\n",
      "        [-0.4460, -1.5654,  2.5137],\n",
      "        [-0.0376, -2.1816,  2.2637]], device='cuda:0', dtype=torch.float16), hidden_states=None, attentions=None)\n"
     ]
    },
    {
     "name": "stderr",
     "output_type": "stream",
     "text": []
    },
    {
     "name": "stdout",
     "output_type": "stream",
     "text": [
      "output of the model SequenceClassifierOutput(loss=None, logits=tensor([[-1.6221,  2.4883, -0.2593],\n",
      "        [ 1.5488, -0.7529, -1.6875],\n",
      "        [ 0.8442, -1.7129,  0.4167],\n",
      "        ...,\n",
      "        [-0.5977, -1.2871,  2.2793],\n",
      "        [ 1.1367, -2.7285,  1.4961],\n",
      "        [ 0.1621,  1.0479, -1.5469]], device='cuda:0', dtype=torch.float16), hidden_states=None, attentions=None)\n"
     ]
    },
    {
     "name": "stderr",
     "output_type": "stream",
     "text": []
    },
    {
     "name": "stdout",
     "output_type": "stream",
     "text": [
      "output of the model SequenceClassifierOutput(loss=None, logits=tensor([[-0.9028,  0.2386,  1.4482],\n",
      "        [-0.9741,  1.0791,  0.4214],\n",
      "        [-0.9097, -1.1250,  2.6504],\n",
      "        ...,\n",
      "        [-1.8652,  2.1387,  0.5024],\n",
      "        [-0.6875, -0.5850,  1.4619],\n",
      "        [-1.7852,  2.8164, -0.6626]], device='cuda:0', dtype=torch.float16), hidden_states=None, attentions=None)\n"
     ]
    },
    {
     "name": "stderr",
     "output_type": "stream",
     "text": []
    },
    {
     "name": "stdout",
     "output_type": "stream",
     "text": [
      "output of the model SequenceClassifierOutput(loss=None, logits=tensor([[-1.1396,  2.7168, -1.5195],\n",
      "        [-1.5264,  2.8359, -1.1562],\n",
      "        [-1.8535,  1.6875,  0.6660],\n",
      "        ...,\n",
      "        [-0.0665, -1.7900,  2.2031],\n",
      "        [ 1.7393, -0.5737, -2.1016],\n",
      "        [ 0.1232,  0.8633, -1.8232]], device='cuda:0', dtype=torch.float16), hidden_states=None, attentions=None)\n"
     ]
    },
    {
     "name": "stderr",
     "output_type": "stream",
     "text": []
    },
    {
     "name": "stdout",
     "output_type": "stream",
     "text": [
      "output of the model SequenceClassifierOutput(loss=None, logits=tensor([[-0.1180,  1.1289, -1.6875],\n",
      "        [-0.7368,  0.1327,  0.7207],\n",
      "        [-0.7363,  0.7285, -0.1061],\n",
      "        ...,\n",
      "        [ 1.3857, -0.8652, -1.0527],\n",
      "        [ 1.7705, -1.5244, -1.5010],\n",
      "        [-0.6104,  0.0638,  0.4663]], device='cuda:0', dtype=torch.float16), hidden_states=None, attentions=None)\n"
     ]
    },
    {
     "name": "stderr",
     "output_type": "stream",
     "text": []
    },
    {
     "name": "stdout",
     "output_type": "stream",
     "text": [
      "output of the model SequenceClassifierOutput(loss=None, logits=tensor([[-1.0928, -0.5791,  2.1562],\n",
      "        [-1.5117,  0.3979,  1.9883],\n",
      "        [ 2.0176, -2.4922, -0.5762],\n",
      "        ...,\n",
      "        [ 1.6025, -2.1504, -0.5229],\n",
      "        [ 1.7246, -1.9395, -0.7676],\n",
      "        [-1.0352,  0.8115,  0.9614]], device='cuda:0', dtype=torch.float16), hidden_states=None, attentions=None)\n"
     ]
    },
    {
     "name": "stderr",
     "output_type": "stream",
     "text": []
    },
    {
     "name": "stdout",
     "output_type": "stream",
     "text": [
      "output of the model SequenceClassifierOutput(loss=None, logits=tensor([[-1.1094, -0.9409,  2.5996],\n",
      "        [ 0.6465, -2.3906,  1.7666],\n",
      "        [-1.4229,  0.9062,  1.2725],\n",
      "        ...,\n",
      "        [ 0.3992, -2.3008,  1.8057],\n",
      "        [-1.5967,  1.5391,  0.9170],\n",
      "        [ 1.4883, -2.2422,  0.2637]], device='cuda:0', dtype=torch.float16), hidden_states=None, attentions=None)\n"
     ]
    },
    {
     "name": "stderr",
     "output_type": "stream",
     "text": []
    },
    {
     "name": "stdout",
     "output_type": "stream",
     "text": [
      "output of the model SequenceClassifierOutput(loss=None, logits=tensor([[-0.7300, -1.3779,  2.6055],\n",
      "        [ 0.3164, -0.3259, -1.0518],\n",
      "        [-0.0764,  0.2937, -0.8779],\n",
      "        ...,\n",
      "        [-0.7798, -0.1782,  1.8457],\n",
      "        [-1.5811,  2.5801, -0.5571],\n",
      "        [ 1.3193, -1.1299, -0.6733]], device='cuda:0', dtype=torch.float16), hidden_states=None, attentions=None)\n"
     ]
    },
    {
     "name": "stderr",
     "output_type": "stream",
     "text": []
    },
    {
     "name": "stdout",
     "output_type": "stream",
     "text": [
      "output of the model SequenceClassifierOutput(loss=None, logits=tensor([[-1.0156, -0.8228,  2.4473],\n",
      "        [ 0.7988, -2.1133,  1.1436],\n",
      "        [-1.4600,  2.5020, -0.6611],\n",
      "        ...,\n",
      "        [-1.8838,  2.9746, -0.7754],\n",
      "        [-1.4404, -0.0844,  2.4297],\n",
      "        [-1.2002, -0.5962,  2.5723]], device='cuda:0', dtype=torch.float16), hidden_states=None, attentions=None)\n"
     ]
    },
    {
     "name": "stderr",
     "output_type": "stream",
     "text": []
    },
    {
     "name": "stdout",
     "output_type": "stream",
     "text": [
      "output of the model SequenceClassifierOutput(loss=None, logits=tensor([[ 0.4062, -2.1680,  1.7754],\n",
      "        [-1.3184,  0.0257,  1.9072],\n",
      "        [-0.8960, -1.0117,  2.3652],\n",
      "        ...,\n",
      "        [ 2.0156, -1.5244, -1.6846],\n",
      "        [ 0.8540, -1.5801,  0.1355],\n",
      "        [ 0.1316,  0.7402, -1.6123]], device='cuda:0', dtype=torch.float16), hidden_states=None, attentions=None)\n"
     ]
    },
    {
     "name": "stderr",
     "output_type": "stream",
     "text": []
    },
    {
     "name": "stdout",
     "output_type": "stream",
     "text": [
      "output of the model SequenceClassifierOutput(loss=None, logits=tensor([[ 1.3750, -1.7227, -0.4111],\n",
      "        [ 0.9468, -0.7056, -0.9287],\n",
      "        [ 1.8154, -1.0469, -1.7412],\n",
      "        ...,\n",
      "        [ 0.4639,  0.3203, -1.3164],\n",
      "        [-0.0621, -2.0801,  2.4355],\n",
      "        [ 1.8906, -2.3789, -0.3730]], device='cuda:0', dtype=torch.float16), hidden_states=None, attentions=None)\n"
     ]
    },
    {
     "name": "stderr",
     "output_type": "stream",
     "text": []
    },
    {
     "name": "stdout",
     "output_type": "stream",
     "text": [
      "output of the model SequenceClassifierOutput(loss=None, logits=tensor([[-1.0508, -0.3845,  2.3105],\n",
      "        [ 1.4746, -2.4453,  0.7529],\n",
      "        [ 1.3613, -2.3809,  0.7881],\n",
      "        ...,\n",
      "        [ 0.6309, -2.3477,  1.8096],\n",
      "        [ 1.4639, -1.6514, -0.8140],\n",
      "        [-0.6943, -0.8042,  1.9932]], device='cuda:0', dtype=torch.float16), hidden_states=None, attentions=None)\n"
     ]
    },
    {
     "name": "stderr",
     "output_type": "stream",
     "text": []
    },
    {
     "name": "stdout",
     "output_type": "stream",
     "text": [
      "output of the model SequenceClassifierOutput(loss=None, logits=tensor([[-0.1768, -1.2109,  1.8545],\n",
      "        [-0.2367, -1.6982,  2.2461],\n",
      "        [ 0.5986, -2.3906,  1.7822],\n",
      "        ...,\n",
      "        [-1.3115, -0.1159,  2.2246],\n",
      "        [-1.4619,  0.3113,  1.9990],\n",
      "        [-1.3730,  2.0898, -0.4451]], device='cuda:0', dtype=torch.float16), hidden_states=None, attentions=None)\n"
     ]
    },
    {
     "name": "stderr",
     "output_type": "stream",
     "text": []
    },
    {
     "name": "stdout",
     "output_type": "stream",
     "text": [
      "output of the model SequenceClassifierOutput(loss=None, logits=tensor([[ 0.0370, -2.0430,  2.1016],\n",
      "        [-1.2646,  1.8877, -0.2025],\n",
      "        [ 1.9277, -2.0762, -0.9243],\n",
      "        ...,\n",
      "        [-0.1831, -1.6787,  2.2070],\n",
      "        [-1.0771, -0.8677,  2.5527],\n",
      "        [-0.6753, -1.0645,  2.4434]], device='cuda:0', dtype=torch.float16), hidden_states=None, attentions=None)\n"
     ]
    },
    {
     "name": "stderr",
     "output_type": "stream",
     "text": []
    },
    {
     "name": "stdout",
     "output_type": "stream",
     "text": [
      "output of the model SequenceClassifierOutput(loss=None, logits=tensor([[ 1.8467, -2.8125,  0.1779],\n",
      "        [-1.6875,  2.9219, -0.9771],\n",
      "        [-1.7139,  2.7109, -0.5537],\n",
      "        ...,\n",
      "        [-1.0850, -0.8213,  2.5781],\n",
      "        [ 0.3579, -2.2402,  1.8955],\n",
      "        [ 1.2334, -1.7529,  0.1517]], device='cuda:0', dtype=torch.float16), hidden_states=None, attentions=None)\n"
     ]
    },
    {
     "name": "stderr",
     "output_type": "stream",
     "text": []
    },
    {
     "name": "stdout",
     "output_type": "stream",
     "text": [
      "output of the model SequenceClassifierOutput(loss=None, logits=tensor([[ 2.0410, -2.3750, -0.6938],\n",
      "        [ 0.2781, -1.0049,  1.0615],\n",
      "        [ 1.2109, -2.2578,  0.7378],\n",
      "        ...,\n",
      "        [ 0.2183,  0.0205, -1.0303],\n",
      "        [-1.3623,  0.6343,  1.7080],\n",
      "        [ 1.7129, -2.0469, -0.8896]], device='cuda:0', dtype=torch.float16), hidden_states=None, attentions=None)\n"
     ]
    },
    {
     "name": "stderr",
     "output_type": "stream",
     "text": []
    },
    {
     "name": "stdout",
     "output_type": "stream",
     "text": [
      "output of the model SequenceClassifierOutput(loss=None, logits=tensor([[ 1.4473, -2.1758, -0.0446],\n",
      "        [-0.9038, -0.3215,  2.2656],\n",
      "        [ 0.9565, -1.8457,  0.2979],\n",
      "        ...,\n",
      "        [ 0.4028, -1.8467,  1.2422],\n",
      "        [ 1.1182, -1.2031, -1.1367],\n",
      "        [-0.5024, -1.2705,  1.9834]], device='cuda:0', dtype=torch.float16), hidden_states=None, attentions=None)\n"
     ]
    },
    {
     "name": "stderr",
     "output_type": "stream",
     "text": []
    },
    {
     "name": "stdout",
     "output_type": "stream",
     "text": [
      "output of the model SequenceClassifierOutput(loss=None, logits=tensor([[-1.3542e-04,  1.3965e-01, -7.2656e-01],\n",
      "        [-7.7686e-01, -8.3643e-01,  2.0508e+00],\n",
      "        [-6.5137e-01, -1.1240e+00,  2.1270e+00],\n",
      "        ...,\n",
      "        [-1.2217e+00,  2.4463e-01,  1.8965e+00],\n",
      "        [-1.5771e+00,  2.8809e+00, -1.1504e+00],\n",
      "        [-8.5840e-01, -7.1338e-01,  2.1836e+00]], device='cuda:0',\n",
      "       dtype=torch.float16), hidden_states=None, attentions=None)\n"
     ]
    },
    {
     "name": "stderr",
     "output_type": "stream",
     "text": []
    },
    {
     "name": "stdout",
     "output_type": "stream",
     "text": [
      "output of the model SequenceClassifierOutput(loss=None, logits=tensor([[-0.8838, -1.1172,  2.2637],\n",
      "        [ 1.6846, -2.5918,  0.2246],\n",
      "        [-0.6372, -1.4883,  2.4629],\n",
      "        ...,\n",
      "        [-1.7891,  2.2578,  0.4050],\n",
      "        [-0.2021, -1.4600,  2.1758],\n",
      "        [-0.3179, -1.9307,  2.4551]], device='cuda:0', dtype=torch.float16), hidden_states=None, attentions=None)\n"
     ]
    },
    {
     "name": "stderr",
     "output_type": "stream",
     "text": []
    },
    {
     "name": "stdout",
     "output_type": "stream",
     "text": [
      "output of the model SequenceClassifierOutput(loss=None, logits=tensor([[-1.5928,  2.8828, -1.0596],\n",
      "        [-0.6719, -1.4971,  2.4043],\n",
      "        [-0.9282,  1.4033, -0.4424],\n",
      "        ...,\n",
      "        [-0.3621, -1.5713,  2.2344],\n",
      "        [-0.9902, -0.9810,  2.5566],\n",
      "        [-0.2415, -1.1553,  2.0020]], device='cuda:0', dtype=torch.float16), hidden_states=None, attentions=None)\n"
     ]
    },
    {
     "name": "stderr",
     "output_type": "stream",
     "text": []
    },
    {
     "name": "stdout",
     "output_type": "stream",
     "text": [
      "output of the model SequenceClassifierOutput(loss=None, logits=tensor([[-0.2245,  0.6719, -0.4783],\n",
      "        [-0.0338, -1.8770,  2.1680],\n",
      "        [-0.6250,  0.7227,  0.6230],\n",
      "        ...,\n",
      "        [-1.2988, -0.6182,  2.5469],\n",
      "        [-1.3701,  2.8047, -1.3047],\n",
      "        [-1.3438, -0.1879,  2.3340]], device='cuda:0', dtype=torch.float16), hidden_states=None, attentions=None)\n"
     ]
    },
    {
     "name": "stderr",
     "output_type": "stream",
     "text": [
      "Processing batches (chunk 10): 100%|██████████| 98/98 [00:34<00:00,  2.84it/s]\n",
      "Processing chunks:   8%|▊         | 10/131 [05:51<1:10:15, 34.84s/it]"
     ]
    },
    {
     "name": "stdout",
     "output_type": "stream",
     "text": [
      "output of the model SequenceClassifierOutput(loss=None, logits=tensor([[ 1.5361, -1.1377, -1.4385],\n",
      "        [-0.3896,  0.4858, -0.1342],\n",
      "        [-1.5459,  0.4109,  2.0117],\n",
      "        ...,\n",
      "        [-0.3025, -0.7202,  1.8477],\n",
      "        [-1.4502,  2.7656, -1.0518],\n",
      "        [-1.5264,  2.1465, -0.3767]], device='cuda:0', dtype=torch.float16), hidden_states=None, attentions=None)\n"
     ]
    },
    {
     "name": "stderr",
     "output_type": "stream",
     "text": []
    },
    {
     "name": "stdout",
     "output_type": "stream",
     "text": [
      "output of the model SequenceClassifierOutput(loss=None, logits=tensor([[-0.9229, -1.1357,  2.5410],\n",
      "        [ 0.0327, -1.9580,  1.9297],\n",
      "        [ 1.4307, -2.1602,  0.2605],\n",
      "        ...,\n",
      "        [ 1.9834, -2.1562, -0.9888],\n",
      "        [-0.8467, -0.5430,  2.1777],\n",
      "        [ 1.8643, -1.8584, -1.2100]], device='cuda:0', dtype=torch.float16), hidden_states=None, attentions=None)\n"
     ]
    },
    {
     "name": "stderr",
     "output_type": "stream",
     "text": []
    },
    {
     "name": "stdout",
     "output_type": "stream",
     "text": [
      "output of the model SequenceClassifierOutput(loss=None, logits=tensor([[-1.3848,  0.7603,  1.5781],\n",
      "        [-1.1504,  0.3850,  1.5117],\n",
      "        [-1.5928,  1.9072,  0.7969],\n",
      "        ...,\n",
      "        [ 1.6162, -1.9951, -0.7212],\n",
      "        [-1.4062,  2.7031, -1.0312],\n",
      "        [ 0.1318, -0.3604,  0.0682]], device='cuda:0', dtype=torch.float16), hidden_states=None, attentions=None)\n"
     ]
    },
    {
     "name": "stderr",
     "output_type": "stream",
     "text": []
    },
    {
     "name": "stdout",
     "output_type": "stream",
     "text": [
      "output of the model SequenceClassifierOutput(loss=None, logits=tensor([[-1.3750, -0.2095,  2.4336],\n",
      "        [-1.6436,  1.4736,  1.0576],\n",
      "        [ 2.0312, -1.6963, -1.6064],\n",
      "        ...,\n",
      "        [-1.4951,  2.5469, -0.5957],\n",
      "        [ 1.9092, -2.4336, -0.6606],\n",
      "        [-0.4421,  0.4062,  0.0609]], device='cuda:0', dtype=torch.float16), hidden_states=None, attentions=None)\n"
     ]
    },
    {
     "name": "stderr",
     "output_type": "stream",
     "text": []
    },
    {
     "name": "stdout",
     "output_type": "stream",
     "text": [
      "output of the model SequenceClassifierOutput(loss=None, logits=tensor([[-1.5488,  1.5068,  0.9170],\n",
      "        [ 1.1631, -2.6328,  0.9824],\n",
      "        [-1.2998,  1.6074,  0.5288],\n",
      "        ...,\n",
      "        [ 0.2179, -1.0469,  0.6914],\n",
      "        [-0.9487,  0.8296,  0.1398],\n",
      "        [-0.6729,  0.5146,  0.5845]], device='cuda:0', dtype=torch.float16), hidden_states=None, attentions=None)\n"
     ]
    },
    {
     "name": "stderr",
     "output_type": "stream",
     "text": []
    },
    {
     "name": "stdout",
     "output_type": "stream",
     "text": [
      "output of the model SequenceClassifierOutput(loss=None, logits=tensor([[-0.9639, -0.9580,  2.4961],\n",
      "        [ 0.7778, -2.1895,  1.3262],\n",
      "        [ 1.0303, -1.3594, -0.4622],\n",
      "        ...,\n",
      "        [-0.0504,  0.3005, -0.8535],\n",
      "        [-1.5186,  0.2979,  2.0996],\n",
      "        [-0.1597, -1.3760,  1.9736]], device='cuda:0', dtype=torch.float16), hidden_states=None, attentions=None)\n"
     ]
    },
    {
     "name": "stderr",
     "output_type": "stream",
     "text": []
    },
    {
     "name": "stdout",
     "output_type": "stream",
     "text": [
      "output of the model SequenceClassifierOutput(loss=None, logits=tensor([[-1.6631,  1.6367,  0.9717],\n",
      "        [ 1.0508, -2.0508,  0.4514],\n",
      "        [-1.6533,  1.6182,  0.9775],\n",
      "        ...,\n",
      "        [ 0.2942,  0.3237, -1.3828],\n",
      "        [-1.6250,  2.9121, -1.1650],\n",
      "        [-1.2490,  2.8789, -1.4902]], device='cuda:0', dtype=torch.float16), hidden_states=None, attentions=None)\n"
     ]
    },
    {
     "name": "stderr",
     "output_type": "stream",
     "text": []
    },
    {
     "name": "stdout",
     "output_type": "stream",
     "text": [
      "output of the model SequenceClassifierOutput(loss=None, logits=tensor([[-1.4902,  2.7852, -1.1416],\n",
      "        [-0.2881,  0.7407, -0.8193],\n",
      "        [-0.9697, -0.5181,  2.2246],\n",
      "        ...,\n",
      "        [ 2.0098, -1.4268, -1.7646],\n",
      "        [ 1.2402, -1.1191, -1.3457],\n",
      "        [ 2.0195, -1.4307, -1.7695]], device='cuda:0', dtype=torch.float16), hidden_states=None, attentions=None)\n"
     ]
    },
    {
     "name": "stderr",
     "output_type": "stream",
     "text": []
    },
    {
     "name": "stdout",
     "output_type": "stream",
     "text": [
      "output of the model SequenceClassifierOutput(loss=None, logits=tensor([[ 2.0176, -1.4209, -1.7754],\n",
      "        [-1.2803, -0.6128,  2.5977],\n",
      "        [ 2.0254, -1.4355, -1.7744],\n",
      "        ...,\n",
      "        [ 0.1536,  0.4158, -1.5010],\n",
      "        [ 0.1243,  0.0663, -0.9175],\n",
      "        [ 1.4697, -0.8926, -1.2441]], device='cuda:0', dtype=torch.float16), hidden_states=None, attentions=None)\n"
     ]
    },
    {
     "name": "stderr",
     "output_type": "stream",
     "text": []
    },
    {
     "name": "stdout",
     "output_type": "stream",
     "text": [
      "output of the model SequenceClassifierOutput(loss=None, logits=tensor([[-1.1982,  2.1387, -0.3286],\n",
      "        [-0.6533,  0.5186, -0.2057],\n",
      "        [ 0.1536,  0.1245, -0.9644],\n",
      "        ...,\n",
      "        [-1.1309,  0.3569,  1.4443],\n",
      "        [ 0.6807,  1.0674, -2.1152],\n",
      "        [-0.1937,  1.7539, -1.8320]], device='cuda:0', dtype=torch.float16), hidden_states=None, attentions=None)\n"
     ]
    },
    {
     "name": "stderr",
     "output_type": "stream",
     "text": []
    },
    {
     "name": "stdout",
     "output_type": "stream",
     "text": [
      "output of the model SequenceClassifierOutput(loss=None, logits=tensor([[-1.6855,  1.4717,  1.1543],\n",
      "        [ 1.3418, -0.4424, -1.6064],\n",
      "        [-1.4727,  2.8711, -1.2285],\n",
      "        ...,\n",
      "        [-0.2634, -0.7104,  1.2021],\n",
      "        [-0.6328, -1.0039,  2.2559],\n",
      "        [-1.2949,  0.3572,  1.8047]], device='cuda:0', dtype=torch.float16), hidden_states=None, attentions=None)\n"
     ]
    },
    {
     "name": "stderr",
     "output_type": "stream",
     "text": []
    },
    {
     "name": "stdout",
     "output_type": "stream",
     "text": [
      "output of the model SequenceClassifierOutput(loss=None, logits=tensor([[-1.8086,  3.0605, -0.8970],\n",
      "        [-0.2457,  0.3071, -0.2180],\n",
      "        [ 0.7075, -0.9014, -0.0587],\n",
      "        ...,\n",
      "        [-1.7266,  1.9014,  1.0664],\n",
      "        [-0.4753, -0.4841,  1.3174],\n",
      "        [-1.3945,  2.6895, -1.0176]], device='cuda:0', dtype=torch.float16), hidden_states=None, attentions=None)\n"
     ]
    },
    {
     "name": "stderr",
     "output_type": "stream",
     "text": []
    },
    {
     "name": "stdout",
     "output_type": "stream",
     "text": [
      "output of the model SequenceClassifierOutput(loss=None, logits=tensor([[-0.4534,  0.0681,  0.4924],\n",
      "        [-0.1259, -1.7822,  2.3867],\n",
      "        [-1.6543,  0.7593,  1.7979],\n",
      "        ...,\n",
      "        [-0.2700, -0.9341,  1.7793],\n",
      "        [-0.4651, -1.2432,  2.1836],\n",
      "        [ 2.1211, -2.2285, -1.2549]], device='cuda:0', dtype=torch.float16), hidden_states=None, attentions=None)\n"
     ]
    },
    {
     "name": "stderr",
     "output_type": "stream",
     "text": []
    },
    {
     "name": "stdout",
     "output_type": "stream",
     "text": [
      "output of the model SequenceClassifierOutput(loss=None, logits=tensor([[-0.2415, -1.1553,  2.0020],\n",
      "        [ 0.9009, -2.3281,  1.2959],\n",
      "        [-0.1257, -1.7109,  2.2832],\n",
      "        ...,\n",
      "        [-0.0578,  0.4106, -0.9941],\n",
      "        [-1.5938,  0.5645,  1.9248],\n",
      "        [-0.2231, -1.8018,  2.2695]], device='cuda:0', dtype=torch.float16), hidden_states=None, attentions=None)\n"
     ]
    },
    {
     "name": "stderr",
     "output_type": "stream",
     "text": []
    },
    {
     "name": "stdout",
     "output_type": "stream",
     "text": [
      "output of the model SequenceClassifierOutput(loss=None, logits=tensor([[-0.5532,  1.9912, -1.7070],\n",
      "        [-1.5117,  1.9355,  0.5146],\n",
      "        [-0.2825,  0.5908, -0.8779],\n",
      "        ...,\n",
      "        [-1.1406, -0.1040,  2.2070],\n",
      "        [ 0.0044, -2.0820,  2.1641],\n",
      "        [ 1.6592, -2.4805,  0.1284]], device='cuda:0', dtype=torch.float16), hidden_states=None, attentions=None)\n"
     ]
    },
    {
     "name": "stderr",
     "output_type": "stream",
     "text": []
    },
    {
     "name": "stdout",
     "output_type": "stream",
     "text": [
      "output of the model SequenceClassifierOutput(loss=None, logits=tensor([[ 0.0760, -2.0957,  2.2559],\n",
      "        [ 0.2273, -2.2559,  2.1055],\n",
      "        [ 1.5371, -1.4268, -1.1270],\n",
      "        ...,\n",
      "        [ 0.0803, -1.0059,  1.0859],\n",
      "        [-0.0068, -0.9526,  1.2002],\n",
      "        [-0.9077,  0.1469,  1.2529]], device='cuda:0', dtype=torch.float16), hidden_states=None, attentions=None)\n"
     ]
    },
    {
     "name": "stderr",
     "output_type": "stream",
     "text": []
    },
    {
     "name": "stdout",
     "output_type": "stream",
     "text": [
      "output of the model SequenceClassifierOutput(loss=None, logits=tensor([[-1.4150, -0.0054,  2.2852],\n",
      "        [-1.6592,  1.3799,  1.1943],\n",
      "        [-0.7036, -1.2354,  2.2754],\n",
      "        ...,\n",
      "        [-0.5054, -1.6211,  2.4141],\n",
      "        [-1.1094, -0.9409,  2.5996],\n",
      "        [-1.4229,  0.9062,  1.2725]], device='cuda:0', dtype=torch.float16), hidden_states=None, attentions=None)\n"
     ]
    },
    {
     "name": "stderr",
     "output_type": "stream",
     "text": []
    },
    {
     "name": "stdout",
     "output_type": "stream",
     "text": [
      "output of the model SequenceClassifierOutput(loss=None, logits=tensor([[-0.8647, -0.8564,  2.3613],\n",
      "        [-0.8296, -0.9668,  2.4297],\n",
      "        [-0.3018, -1.1367,  1.7773],\n",
      "        ...,\n",
      "        [ 0.3694, -1.2246,  0.3574],\n",
      "        [ 0.0998, -2.1680,  2.3340],\n",
      "        [ 2.0137, -1.6797, -1.6240]], device='cuda:0', dtype=torch.float16), hidden_states=None, attentions=None)\n"
     ]
    },
    {
     "name": "stderr",
     "output_type": "stream",
     "text": []
    },
    {
     "name": "stdout",
     "output_type": "stream",
     "text": [
      "output of the model SequenceClassifierOutput(loss=None, logits=tensor([[-1.3936, -0.2113,  2.3789],\n",
      "        [-1.0254, -0.4180,  2.2793],\n",
      "        [ 2.0371, -2.3652, -0.9810],\n",
      "        ...,\n",
      "        [-0.8608, -1.0742,  2.4023],\n",
      "        [-1.4873,  0.2695,  2.0723],\n",
      "        [-1.4434,  2.4062, -0.5659]], device='cuda:0', dtype=torch.float16), hidden_states=None, attentions=None)\n"
     ]
    },
    {
     "name": "stderr",
     "output_type": "stream",
     "text": []
    },
    {
     "name": "stdout",
     "output_type": "stream",
     "text": [
      "output of the model SequenceClassifierOutput(loss=None, logits=tensor([[ 0.8423, -0.8540, -1.2930],\n",
      "        [-1.4141,  2.4180, -0.7065],\n",
      "        [-1.3271, -0.3616,  2.5156],\n",
      "        ...,\n",
      "        [ 1.8242, -0.8379, -1.9346],\n",
      "        [-1.4463,  0.0972,  2.2148],\n",
      "        [-1.5918,  0.7202,  2.0020]], device='cuda:0', dtype=torch.float16), hidden_states=None, attentions=None)\n"
     ]
    },
    {
     "name": "stderr",
     "output_type": "stream",
     "text": []
    },
    {
     "name": "stdout",
     "output_type": "stream",
     "text": [
      "output of the model SequenceClassifierOutput(loss=None, logits=tensor([[ 0.5942, -2.1055,  1.0449],\n",
      "        [ 1.7070, -2.4570, -0.1320],\n",
      "        [ 1.5850, -1.2803, -1.3652],\n",
      "        ...,\n",
      "        [-0.6162,  0.8838, -0.0966],\n",
      "        [-0.8843, -0.7373,  2.0859],\n",
      "        [-1.0352, -0.6743,  2.3340]], device='cuda:0', dtype=torch.float16), hidden_states=None, attentions=None)\n"
     ]
    },
    {
     "name": "stderr",
     "output_type": "stream",
     "text": []
    },
    {
     "name": "stdout",
     "output_type": "stream",
     "text": [
      "output of the model SequenceClassifierOutput(loss=None, logits=tensor([[ 1.2148, -2.5781,  1.0752],\n",
      "        [-1.6387,  2.4746, -0.0389],\n",
      "        [-1.6387,  2.5332, -0.0724],\n",
      "        ...,\n",
      "        [-0.6309,  0.1755,  0.6519],\n",
      "        [-0.3174, -1.6494,  2.3438],\n",
      "        [-1.7275,  1.2588,  1.4707]], device='cuda:0', dtype=torch.float16), hidden_states=None, attentions=None)\n"
     ]
    },
    {
     "name": "stderr",
     "output_type": "stream",
     "text": []
    },
    {
     "name": "stdout",
     "output_type": "stream",
     "text": [
      "output of the model SequenceClassifierOutput(loss=None, logits=tensor([[-0.5098,  0.3909,  0.0230],\n",
      "        [-0.2559,  0.4490, -0.2883],\n",
      "        [-1.4355,  0.1138,  2.1934],\n",
      "        ...,\n",
      "        [ 0.4736, -1.0508,  0.2654],\n",
      "        [ 1.1748, -2.1348,  0.2642],\n",
      "        [-0.4055, -0.5156,  0.6646]], device='cuda:0', dtype=torch.float16), hidden_states=None, attentions=None)\n"
     ]
    },
    {
     "name": "stderr",
     "output_type": "stream",
     "text": []
    },
    {
     "name": "stdout",
     "output_type": "stream",
     "text": [
      "output of the model SequenceClassifierOutput(loss=None, logits=tensor([[-0.8252,  0.6938, -0.0345],\n",
      "        [ 0.3643, -0.8574,  0.5386],\n",
      "        [ 1.9404, -1.5205, -1.5586],\n",
      "        ...,\n",
      "        [-0.6831, -0.2852,  1.7666],\n",
      "        [ 1.5742, -0.3953, -2.0449],\n",
      "        [ 1.9551, -1.8223, -1.3027]], device='cuda:0', dtype=torch.float16), hidden_states=None, attentions=None)\n"
     ]
    },
    {
     "name": "stderr",
     "output_type": "stream",
     "text": []
    },
    {
     "name": "stdout",
     "output_type": "stream",
     "text": [
      "output of the model SequenceClassifierOutput(loss=None, logits=tensor([[-0.6934, -1.4629,  2.5176],\n",
      "        [ 1.9619, -2.0781, -1.1699],\n",
      "        [ 1.1797, -1.6055, -0.2445],\n",
      "        ...,\n",
      "        [ 1.4658, -0.8384, -1.6406],\n",
      "        [-0.5093, -1.4170,  2.2852],\n",
      "        [-1.6182,  1.8652,  0.7725]], device='cuda:0', dtype=torch.float16), hidden_states=None, attentions=None)\n"
     ]
    },
    {
     "name": "stderr",
     "output_type": "stream",
     "text": []
    },
    {
     "name": "stdout",
     "output_type": "stream",
     "text": [
      "output of the model SequenceClassifierOutput(loss=None, logits=tensor([[ 1.6807, -1.1777, -1.6270],\n",
      "        [-1.3379,  1.0225,  1.2871],\n",
      "        [-0.5781, -1.5205,  2.4297],\n",
      "        ...,\n",
      "        [ 1.8691, -1.8369, -1.2031],\n",
      "        [-1.2363, -0.4465,  2.3848],\n",
      "        [ 1.5146, -2.4180,  0.3342]], device='cuda:0', dtype=torch.float16), hidden_states=None, attentions=None)\n"
     ]
    },
    {
     "name": "stderr",
     "output_type": "stream",
     "text": []
    },
    {
     "name": "stdout",
     "output_type": "stream",
     "text": [
      "output of the model SequenceClassifierOutput(loss=None, logits=tensor([[ 2.0625, -1.9102, -1.4922],\n",
      "        [ 0.6304, -0.2472, -0.9580],\n",
      "        [-1.3145,  2.1641, -0.0650],\n",
      "        ...,\n",
      "        [-0.5693, -1.4746,  2.5137],\n",
      "        [-0.7246, -1.3633,  2.5645],\n",
      "        [ 1.6514, -2.7051,  0.4834]], device='cuda:0', dtype=torch.float16), hidden_states=None, attentions=None)\n"
     ]
    },
    {
     "name": "stderr",
     "output_type": "stream",
     "text": []
    },
    {
     "name": "stdout",
     "output_type": "stream",
     "text": [
      "output of the model SequenceClassifierOutput(loss=None, logits=tensor([[-0.2854,  0.3928, -0.3481],\n",
      "        [-0.0641, -1.1377,  1.5400],\n",
      "        [-1.1885,  0.9805,  0.6919],\n",
      "        ...,\n",
      "        [-0.6250, -0.9839,  2.0508],\n",
      "        [-0.4744,  1.1377, -0.5806],\n",
      "        [-0.6729, -1.3770,  2.4434]], device='cuda:0', dtype=torch.float16), hidden_states=None, attentions=None)\n"
     ]
    },
    {
     "name": "stderr",
     "output_type": "stream",
     "text": []
    },
    {
     "name": "stdout",
     "output_type": "stream",
     "text": [
      "output of the model SequenceClassifierOutput(loss=None, logits=tensor([[ 0.9175, -2.4746,  1.4453],\n",
      "        [ 1.7744, -2.1445, -0.1757],\n",
      "        [-0.2866, -1.7197,  2.4102],\n",
      "        ...,\n",
      "        [ 1.7979, -2.5352, -0.1346],\n",
      "        [ 1.8037, -2.5352, -0.1432],\n",
      "        [ 1.7910, -2.5488, -0.1004]], device='cuda:0', dtype=torch.float16), hidden_states=None, attentions=None)\n"
     ]
    },
    {
     "name": "stderr",
     "output_type": "stream",
     "text": []
    },
    {
     "name": "stdout",
     "output_type": "stream",
     "text": [
      "output of the model SequenceClassifierOutput(loss=None, logits=tensor([[-1.6709,  1.5439,  0.9302],\n",
      "        [ 1.0264, -1.9736,  0.5752],\n",
      "        [ 1.7900, -2.5605, -0.0866],\n",
      "        ...,\n",
      "        [ 2.0508, -1.6348, -1.6523],\n",
      "        [-1.7539,  2.6738, -0.1907],\n",
      "        [-1.7539,  2.6738, -0.1907]], device='cuda:0', dtype=torch.float16), hidden_states=None, attentions=None)\n"
     ]
    },
    {
     "name": "stderr",
     "output_type": "stream",
     "text": []
    },
    {
     "name": "stdout",
     "output_type": "stream",
     "text": [
      "output of the model SequenceClassifierOutput(loss=None, logits=tensor([[-1.7119,  3.0234, -1.0098],\n",
      "        [-1.7119,  3.0273, -1.0205],\n",
      "        [ 0.7646, -0.0704, -1.6904],\n",
      "        ...,\n",
      "        [-0.3835,  0.6660, -0.7046],\n",
      "        [-1.4580,  0.2018,  2.1230],\n",
      "        [ 0.3633, -0.0721, -1.1240]], device='cuda:0', dtype=torch.float16), hidden_states=None, attentions=None)\n"
     ]
    },
    {
     "name": "stderr",
     "output_type": "stream",
     "text": []
    },
    {
     "name": "stdout",
     "output_type": "stream",
     "text": [
      "output of the model SequenceClassifierOutput(loss=None, logits=tensor([[ 0.7173, -1.5088, -0.1135],\n",
      "        [ 1.0908, -2.5098,  1.2041],\n",
      "        [-1.2783,  2.3770, -0.5859],\n",
      "        ...,\n",
      "        [-0.4490, -1.5010,  2.2676],\n",
      "        [ 1.4600, -2.7422,  0.7100],\n",
      "        [-0.9854, -0.9678,  2.5898]], device='cuda:0', dtype=torch.float16), hidden_states=None, attentions=None)\n"
     ]
    },
    {
     "name": "stderr",
     "output_type": "stream",
     "text": []
    },
    {
     "name": "stdout",
     "output_type": "stream",
     "text": [
      "output of the model SequenceClassifierOutput(loss=None, logits=tensor([[ 1.1074, -2.1992,  0.6709],\n",
      "        [ 1.7705, -2.1895, -0.5908],\n",
      "        [ 1.4863, -2.5527,  0.3440],\n",
      "        ...,\n",
      "        [-1.3838, -0.0469,  2.3125],\n",
      "        [-1.6514,  1.5889,  1.1104],\n",
      "        [-0.7358, -1.0400,  2.1855]], device='cuda:0', dtype=torch.float16), hidden_states=None, attentions=None)\n"
     ]
    },
    {
     "name": "stderr",
     "output_type": "stream",
     "text": []
    },
    {
     "name": "stdout",
     "output_type": "stream",
     "text": [
      "output of the model SequenceClassifierOutput(loss=None, logits=tensor([[-1.1738, -0.1934,  2.3398],\n",
      "        [ 0.0391, -1.8535,  2.2637],\n",
      "        [-0.4219, -1.1289,  2.0625],\n",
      "        ...,\n",
      "        [-1.4141,  2.4180, -0.7065],\n",
      "        [-1.3193, -0.4539,  2.4922],\n",
      "        [ 1.7969, -2.4102, -0.0543]], device='cuda:0', dtype=torch.float16), hidden_states=None, attentions=None)\n"
     ]
    },
    {
     "name": "stderr",
     "output_type": "stream",
     "text": []
    },
    {
     "name": "stdout",
     "output_type": "stream",
     "text": [
      "output of the model SequenceClassifierOutput(loss=None, logits=tensor([[ 2.0176, -1.5771, -1.6406],\n",
      "        [ 1.5674, -2.8223,  0.8516],\n",
      "        [ 1.8115, -2.3066, -0.4709],\n",
      "        ...,\n",
      "        [-1.6377,  2.2891,  0.2321],\n",
      "        [-1.2188,  1.9219, -0.5239],\n",
      "        [-1.7197,  2.9883, -1.0186]], device='cuda:0', dtype=torch.float16), hidden_states=None, attentions=None)\n"
     ]
    },
    {
     "name": "stderr",
     "output_type": "stream",
     "text": []
    },
    {
     "name": "stdout",
     "output_type": "stream",
     "text": [
      "output of the model SequenceClassifierOutput(loss=None, logits=tensor([[-0.1412,  0.2896, -0.8369],\n",
      "        [ 1.0029, -0.3145, -1.6377],\n",
      "        [-0.2098, -1.9766,  2.3516],\n",
      "        ...,\n",
      "        [-0.6572, -1.3428,  2.5488],\n",
      "        [ 0.8726, -2.5586,  1.6758],\n",
      "        [ 1.7598, -2.5625, -0.1888]], device='cuda:0', dtype=torch.float16), hidden_states=None, attentions=None)\n"
     ]
    },
    {
     "name": "stderr",
     "output_type": "stream",
     "text": []
    },
    {
     "name": "stdout",
     "output_type": "stream",
     "text": [
      "output of the model SequenceClassifierOutput(loss=None, logits=tensor([[ 0.0808, -0.0823, -0.2983],\n",
      "        [ 0.0396,  1.0166, -1.6201],\n",
      "        [-0.4722, -1.2900,  2.3340],\n",
      "        ...,\n",
      "        [-1.5850,  2.2598,  0.1373],\n",
      "        [-1.6807,  2.5449, -0.1511],\n",
      "        [-1.6904,  2.5234, -0.0875]], device='cuda:0', dtype=torch.float16), hidden_states=None, attentions=None)\n"
     ]
    },
    {
     "name": "stderr",
     "output_type": "stream",
     "text": []
    },
    {
     "name": "stdout",
     "output_type": "stream",
     "text": [
      "output of the model SequenceClassifierOutput(loss=None, logits=tensor([[-1.6055,  2.9922, -1.0938],\n",
      "        [ 0.7319, -2.2324,  1.4932],\n",
      "        [ 1.5693, -0.2783, -1.8945],\n",
      "        ...,\n",
      "        [ 1.4229, -2.0293,  0.0640],\n",
      "        [ 0.3867, -2.0410,  1.7363],\n",
      "        [ 1.9990, -1.4521, -1.7109]], device='cuda:0', dtype=torch.float16), hidden_states=None, attentions=None)\n"
     ]
    },
    {
     "name": "stderr",
     "output_type": "stream",
     "text": []
    },
    {
     "name": "stdout",
     "output_type": "stream",
     "text": [
      "output of the model SequenceClassifierOutput(loss=None, logits=tensor([[-0.3677, -1.7080,  2.4590],\n",
      "        [ 0.2185, -2.2305,  2.0762],\n",
      "        [ 0.4727,  0.9028, -2.0508],\n",
      "        ...,\n",
      "        [-0.7046, -1.1533,  2.4238],\n",
      "        [-1.1406, -0.2450,  2.0586],\n",
      "        [ 0.9614, -2.2637,  0.9932]], device='cuda:0', dtype=torch.float16), hidden_states=None, attentions=None)\n"
     ]
    },
    {
     "name": "stderr",
     "output_type": "stream",
     "text": []
    },
    {
     "name": "stdout",
     "output_type": "stream",
     "text": [
      "output of the model SequenceClassifierOutput(loss=None, logits=tensor([[-0.6367, -1.2568,  2.5078],\n",
      "        [-0.8433, -0.3452,  1.9824],\n",
      "        [-0.7192, -0.2157,  1.4219],\n",
      "        ...,\n",
      "        [-0.7290, -1.1201,  2.4863],\n",
      "        [-1.7412,  3.0391, -1.0391],\n",
      "        [ 0.7700, -2.1055,  1.1279]], device='cuda:0', dtype=torch.float16), hidden_states=None, attentions=None)\n"
     ]
    },
    {
     "name": "stderr",
     "output_type": "stream",
     "text": []
    },
    {
     "name": "stdout",
     "output_type": "stream",
     "text": [
      "output of the model SequenceClassifierOutput(loss=None, logits=tensor([[ 1.9746, -1.6436, -1.5264],\n",
      "        [ 1.8428, -1.2119, -1.6426],\n",
      "        [ 0.4614,  0.3611, -1.5742],\n",
      "        ...,\n",
      "        [ 0.6045, -0.1042, -1.4219],\n",
      "        [-1.4814,  0.2235,  2.1387],\n",
      "        [ 1.4033, -1.7695, -0.1545]], device='cuda:0', dtype=torch.float16), hidden_states=None, attentions=None)\n"
     ]
    },
    {
     "name": "stderr",
     "output_type": "stream",
     "text": []
    },
    {
     "name": "stdout",
     "output_type": "stream",
     "text": [
      "output of the model SequenceClassifierOutput(loss=None, logits=tensor([[-0.2421, -1.8525,  2.4102],\n",
      "        [-1.7197,  2.6230, -0.3342],\n",
      "        [ 1.0791, -2.3516,  1.1816],\n",
      "        ...,\n",
      "        [-0.7656, -1.3057,  2.5898],\n",
      "        [-1.1943, -0.3501,  2.4238],\n",
      "        [-1.0615, -0.8413,  2.5918]], device='cuda:0', dtype=torch.float16), hidden_states=None, attentions=None)\n"
     ]
    },
    {
     "name": "stderr",
     "output_type": "stream",
     "text": []
    },
    {
     "name": "stdout",
     "output_type": "stream",
     "text": [
      "output of the model SequenceClassifierOutput(loss=None, logits=tensor([[-1.1572, -0.9390,  2.6191],\n",
      "        [ 1.7441, -2.1621, -0.8472],\n",
      "        [-0.3181, -1.4590,  2.3008],\n",
      "        ...,\n",
      "        [ 1.7305, -2.5547, -0.1189],\n",
      "        [ 0.5522, -0.6699, -0.6050],\n",
      "        [-0.2466, -1.8857,  2.4023]], device='cuda:0', dtype=torch.float16), hidden_states=None, attentions=None)\n"
     ]
    },
    {
     "name": "stderr",
     "output_type": "stream",
     "text": []
    },
    {
     "name": "stdout",
     "output_type": "stream",
     "text": [
      "output of the model SequenceClassifierOutput(loss=None, logits=tensor([[-0.1824,  1.0059, -1.5371],\n",
      "        [-0.3328, -1.9355,  2.5078],\n",
      "        [-0.3257, -1.6270,  2.3613],\n",
      "        ...,\n",
      "        [-1.7334,  2.9688, -0.9624],\n",
      "        [ 1.8965, -2.7812, -0.2563],\n",
      "        [-0.5864, -1.4561,  2.4492]], device='cuda:0', dtype=torch.float16), hidden_states=None, attentions=None)\n"
     ]
    },
    {
     "name": "stderr",
     "output_type": "stream",
     "text": []
    },
    {
     "name": "stdout",
     "output_type": "stream",
     "text": [
      "output of the model SequenceClassifierOutput(loss=None, logits=tensor([[-1.7744,  2.4668,  0.1919],\n",
      "        [-0.5508, -1.3350,  2.3691],\n",
      "        [-1.8076,  2.6309, -0.0490],\n",
      "        ...,\n",
      "        [ 0.5806, -2.1758,  1.9697],\n",
      "        [ 1.9785, -1.3975, -1.6924],\n",
      "        [-0.1638, -1.7021,  1.6572]], device='cuda:0', dtype=torch.float16), hidden_states=None, attentions=None)\n"
     ]
    },
    {
     "name": "stderr",
     "output_type": "stream",
     "text": []
    },
    {
     "name": "stdout",
     "output_type": "stream",
     "text": [
      "output of the model SequenceClassifierOutput(loss=None, logits=tensor([[-0.4644, -1.4697,  2.4629],\n",
      "        [-0.7881,  1.0928, -0.5698],\n",
      "        [-0.7344,  0.0515,  1.0684],\n",
      "        ...,\n",
      "        [ 0.2498, -2.1738,  2.2852],\n",
      "        [ 1.2646, -2.3965,  0.7227],\n",
      "        [ 1.8584, -2.1875, -0.9429]], device='cuda:0', dtype=torch.float16), hidden_states=None, attentions=None)\n"
     ]
    },
    {
     "name": "stderr",
     "output_type": "stream",
     "text": []
    },
    {
     "name": "stdout",
     "output_type": "stream",
     "text": [
      "output of the model SequenceClassifierOutput(loss=None, logits=tensor([[-1.0557,  1.4229, -0.3469],\n",
      "        [ 1.7568, -2.5410, -0.0215],\n",
      "        [ 0.5122, -0.3579, -1.0049],\n",
      "        ...,\n",
      "        [-0.6392, -0.7324,  1.9219],\n",
      "        [ 1.4639, -2.0234, -0.0219],\n",
      "        [-0.6133,  0.3137,  0.9297]], device='cuda:0', dtype=torch.float16), hidden_states=None, attentions=None)\n"
     ]
    },
    {
     "name": "stderr",
     "output_type": "stream",
     "text": []
    },
    {
     "name": "stdout",
     "output_type": "stream",
     "text": [
      "output of the model SequenceClassifierOutput(loss=None, logits=tensor([[ 1.3818, -2.0625,  0.1549],\n",
      "        [ 1.9258, -2.7539,  0.1621],\n",
      "        [-1.1055,  0.3523,  1.3760],\n",
      "        ...,\n",
      "        [-1.6260,  0.5190,  1.8203],\n",
      "        [ 1.9688, -2.1758, -1.1611],\n",
      "        [ 1.9824, -1.5205, -1.6816]], device='cuda:0', dtype=torch.float16), hidden_states=None, attentions=None)\n"
     ]
    },
    {
     "name": "stderr",
     "output_type": "stream",
     "text": []
    },
    {
     "name": "stdout",
     "output_type": "stream",
     "text": [
      "output of the model SequenceClassifierOutput(loss=None, logits=tensor([[-1.3965, -0.0373,  2.3262],\n",
      "        [ 2.1055, -1.6133, -1.7383],\n",
      "        [-0.9878,  0.0806,  1.4277],\n",
      "        ...,\n",
      "        [-1.4121,  1.3125,  1.0303],\n",
      "        [-1.5625,  1.1426,  1.3730],\n",
      "        [-1.7998,  1.8662,  0.5669]], device='cuda:0', dtype=torch.float16), hidden_states=None, attentions=None)\n"
     ]
    },
    {
     "name": "stderr",
     "output_type": "stream",
     "text": []
    },
    {
     "name": "stdout",
     "output_type": "stream",
     "text": [
      "output of the model SequenceClassifierOutput(loss=None, logits=tensor([[-1.4121,  1.3125,  1.0303],\n",
      "        [-1.5166,  1.0986,  1.3145],\n",
      "        [-1.7705,  1.8818,  0.6763],\n",
      "        ...,\n",
      "        [ 1.5127, -1.4160, -1.0508],\n",
      "        [ 1.4268, -1.4121, -0.9658],\n",
      "        [-1.8408,  2.9531, -0.7109]], device='cuda:0', dtype=torch.float16), hidden_states=None, attentions=None)\n"
     ]
    },
    {
     "name": "stderr",
     "output_type": "stream",
     "text": []
    },
    {
     "name": "stdout",
     "output_type": "stream",
     "text": [
      "output of the model SequenceClassifierOutput(loss=None, logits=tensor([[ 1.4268, -1.2168, -1.0635],\n",
      "        [ 1.3574, -1.1562, -0.9912],\n",
      "        [-1.5381,  2.6621, -0.7231],\n",
      "        ...,\n",
      "        [-0.9653,  1.4775, -0.3582],\n",
      "        [ 1.3994, -0.7256, -1.6660],\n",
      "        [-0.9653,  1.4775, -0.3582]], device='cuda:0', dtype=torch.float16), hidden_states=None, attentions=None)\n",
      "output of the model SequenceClassifierOutput(loss=None, logits=tensor([[-0.6553,  0.8589, -0.2098],\n",
      "        [-0.5566, -0.5454,  1.3652],\n",
      "        [-1.0049, -0.8013,  2.2168],\n",
      "        ...,\n",
      "        [ 1.1230, -0.7578, -1.1689],\n",
      "        [ 0.3315, -1.6826,  1.3857],\n",
      "        [-1.3955,  2.4766, -0.7764]], device='cuda:0', dtype=torch.float16), hidden_states=None, attentions=None)\n"
     ]
    },
    {
     "name": "stderr",
     "output_type": "stream",
     "text": []
    },
    {
     "name": "stdout",
     "output_type": "stream",
     "text": [
      "output of the model SequenceClassifierOutput(loss=None, logits=tensor([[ 0.5083, -0.5581, -0.6694],\n",
      "        [ 0.3396,  0.3975, -0.6826],\n",
      "        [-1.3955,  2.4766, -0.7764],\n",
      "        ...,\n",
      "        [-0.4514, -0.4558,  1.6133],\n",
      "        [-1.2021,  1.2061,  0.3184],\n",
      "        [-0.9512,  2.6836, -1.7480]], device='cuda:0', dtype=torch.float16), hidden_states=None, attentions=None)\n"
     ]
    },
    {
     "name": "stderr",
     "output_type": "stream",
     "text": []
    },
    {
     "name": "stdout",
     "output_type": "stream",
     "text": [
      "output of the model SequenceClassifierOutput(loss=None, logits=tensor([[ 1.0107,  0.2075, -1.9648],\n",
      "        [-0.3960, -0.1938,  0.6289],\n",
      "        [ 0.7900, -0.6641, -1.0361],\n",
      "        ...,\n",
      "        [ 1.6865, -1.4111, -0.9609],\n",
      "        [-0.0886,  0.8418, -1.4072],\n",
      "        [-0.2600, -0.4058,  0.8877]], device='cuda:0', dtype=torch.float16), hidden_states=None, attentions=None)\n"
     ]
    },
    {
     "name": "stderr",
     "output_type": "stream",
     "text": []
    },
    {
     "name": "stdout",
     "output_type": "stream",
     "text": [
      "output of the model SequenceClassifierOutput(loss=None, logits=tensor([[-1.5264,  2.8398, -1.1768],\n",
      "        [-0.8467, -0.5430,  2.1777],\n",
      "        [ 0.9517, -0.5381, -1.3828],\n",
      "        ...,\n",
      "        [ 1.8818, -1.5029, -1.4648],\n",
      "        [ 1.1973, -2.4141,  1.2539],\n",
      "        [ 0.0562, -1.6035,  1.6211]], device='cuda:0', dtype=torch.float16), hidden_states=None, attentions=None)\n"
     ]
    },
    {
     "name": "stderr",
     "output_type": "stream",
     "text": []
    },
    {
     "name": "stdout",
     "output_type": "stream",
     "text": [
      "output of the model SequenceClassifierOutput(loss=None, logits=tensor([[-1.0830,  0.2561,  1.4756],\n",
      "        [-0.2179,  0.8965, -0.9692],\n",
      "        [-1.5947,  2.7109, -0.8843],\n",
      "        ...,\n",
      "        [-0.0905, -2.0117,  2.2344],\n",
      "        [-0.6128, -1.5166,  2.4609],\n",
      "        [-0.2164,  0.6270, -1.1963]], device='cuda:0', dtype=torch.float16), hidden_states=None, attentions=None)\n"
     ]
    },
    {
     "name": "stderr",
     "output_type": "stream",
     "text": []
    },
    {
     "name": "stdout",
     "output_type": "stream",
     "text": [
      "output of the model SequenceClassifierOutput(loss=None, logits=tensor([[-0.5371,  1.0215, -0.4211],\n",
      "        [ 0.4019, -2.2422,  2.0605],\n",
      "        [-1.3633, -0.0787,  2.1406],\n",
      "        ...,\n",
      "        [ 1.0537, -2.4082,  1.0596],\n",
      "        [-0.8862, -0.4705,  2.2969],\n",
      "        [ 0.5811, -1.4258,  0.8086]], device='cuda:0', dtype=torch.float16), hidden_states=None, attentions=None)\n"
     ]
    },
    {
     "name": "stderr",
     "output_type": "stream",
     "text": []
    },
    {
     "name": "stdout",
     "output_type": "stream",
     "text": [
      "output of the model SequenceClassifierOutput(loss=None, logits=tensor([[-1.0225, -0.8804,  2.5762],\n",
      "        [ 0.4827, -2.4688,  2.0781],\n",
      "        [ 0.3230, -2.3086,  2.1055],\n",
      "        ...,\n",
      "        [-1.3369,  2.0742,  0.0995],\n",
      "        [-0.3999, -0.4456,  1.1465],\n",
      "        [-0.3826, -1.7637,  2.4141]], device='cuda:0', dtype=torch.float16), hidden_states=None, attentions=None)\n"
     ]
    },
    {
     "name": "stderr",
     "output_type": "stream",
     "text": []
    },
    {
     "name": "stdout",
     "output_type": "stream",
     "text": [
      "output of the model SequenceClassifierOutput(loss=None, logits=tensor([[-0.0682, -2.1602,  2.3184],\n",
      "        [-0.1215, -0.2179,  0.6177],\n",
      "        [-0.7490, -0.2612,  1.5293],\n",
      "        ...,\n",
      "        [ 1.0889, -2.2969,  0.9688],\n",
      "        [ 0.0803, -1.0059,  1.0859],\n",
      "        [ 1.6885, -2.5176, -0.0601]], device='cuda:0', dtype=torch.float16), hidden_states=None, attentions=None)\n"
     ]
    },
    {
     "name": "stderr",
     "output_type": "stream",
     "text": []
    },
    {
     "name": "stdout",
     "output_type": "stream",
     "text": [
      "output of the model SequenceClassifierOutput(loss=None, logits=tensor([[ 1.7607, -1.1729, -1.4854],\n",
      "        [ 1.1465, -1.8887,  0.5542],\n",
      "        [-0.1816, -1.7549,  1.9688],\n",
      "        ...,\n",
      "        [-1.1445, -0.9580,  2.6445],\n",
      "        [-0.8271, -0.6387,  2.0195],\n",
      "        [ 1.1074, -0.0850, -2.0176]], device='cuda:0', dtype=torch.float16), hidden_states=None, attentions=None)\n"
     ]
    },
    {
     "name": "stderr",
     "output_type": "stream",
     "text": []
    },
    {
     "name": "stdout",
     "output_type": "stream",
     "text": [
      "output of the model SequenceClassifierOutput(loss=None, logits=tensor([[ 1.1074, -0.0850, -2.0176],\n",
      "        [ 0.8052, -2.6250,  1.7598],\n",
      "        [-1.1455, -0.7119,  2.4961],\n",
      "        ...,\n",
      "        [ 1.6670, -2.5234,  0.1857],\n",
      "        [-0.5513,  0.3176,  0.6689],\n",
      "        [-0.2014, -1.8818,  2.3691]], device='cuda:0', dtype=torch.float16), hidden_states=None, attentions=None)\n"
     ]
    },
    {
     "name": "stderr",
     "output_type": "stream",
     "text": []
    },
    {
     "name": "stdout",
     "output_type": "stream",
     "text": [
      "output of the model SequenceClassifierOutput(loss=None, logits=tensor([[-0.4680, -1.6787,  2.3711],\n",
      "        [ 0.4504, -2.2539,  1.8506],\n",
      "        [ 1.6963, -0.9702, -1.5312],\n",
      "        ...,\n",
      "        [-1.5947,  2.5547, -0.6064],\n",
      "        [ 0.8823, -2.0742,  1.2529],\n",
      "        [-1.8672,  2.8867, -0.5249]], device='cuda:0', dtype=torch.float16), hidden_states=None, attentions=None)\n"
     ]
    },
    {
     "name": "stderr",
     "output_type": "stream",
     "text": []
    },
    {
     "name": "stdout",
     "output_type": "stream",
     "text": [
      "output of the model SequenceClassifierOutput(loss=None, logits=tensor([[-0.8892,  2.1797, -1.3164],\n",
      "        [-1.3369,  2.0742,  0.0995],\n",
      "        [-1.8789,  2.8887, -0.5093],\n",
      "        ...,\n",
      "        [-1.0498, -0.8271,  2.5508],\n",
      "        [ 0.2450, -2.0684,  2.0469],\n",
      "        [-0.0789, -1.3525,  1.6895]], device='cuda:0', dtype=torch.float16), hidden_states=None, attentions=None)\n"
     ]
    },
    {
     "name": "stderr",
     "output_type": "stream",
     "text": []
    },
    {
     "name": "stdout",
     "output_type": "stream",
     "text": [
      "output of the model SequenceClassifierOutput(loss=None, logits=tensor([[-1.0693,  1.5820, -0.3611],\n",
      "        [ 0.0039, -0.5508,  0.4177],\n",
      "        [-0.3767, -1.7080,  2.3770],\n",
      "        ...,\n",
      "        [-0.2554,  0.5010, -0.4041],\n",
      "        [-1.5391,  0.4910,  1.9443],\n",
      "        [-1.8672,  2.0449,  0.6108]], device='cuda:0', dtype=torch.float16), hidden_states=None, attentions=None)\n"
     ]
    },
    {
     "name": "stderr",
     "output_type": "stream",
     "text": []
    },
    {
     "name": "stdout",
     "output_type": "stream",
     "text": [
      "output of the model SequenceClassifierOutput(loss=None, logits=tensor([[-0.6357, -1.3496,  2.5293],\n",
      "        [-0.6055, -0.7192,  2.0039],\n",
      "        [-0.4607, -1.6807,  2.3359],\n",
      "        ...,\n",
      "        [-1.5615,  1.4414,  0.9238],\n",
      "        [ 1.5117, -1.2021, -1.4160],\n",
      "        [ 1.4033, -2.8242,  1.0771]], device='cuda:0', dtype=torch.float16), hidden_states=None, attentions=None)\n"
     ]
    },
    {
     "name": "stderr",
     "output_type": "stream",
     "text": []
    },
    {
     "name": "stdout",
     "output_type": "stream",
     "text": [
      "output of the model SequenceClassifierOutput(loss=None, logits=tensor([[ 0.3440, -1.5947,  1.7109],\n",
      "        [-0.6948, -1.3184,  2.5293],\n",
      "        [-0.0765, -0.0972,  0.3945],\n",
      "        ...,\n",
      "        [ 1.1133, -1.2607, -0.0983],\n",
      "        [ 0.6431, -2.1113,  1.4648],\n",
      "        [ 1.4121, -2.4336,  0.2426]], device='cuda:0', dtype=torch.float16), hidden_states=None, attentions=None)\n"
     ]
    },
    {
     "name": "stderr",
     "output_type": "stream",
     "text": []
    },
    {
     "name": "stdout",
     "output_type": "stream",
     "text": [
      "output of the model SequenceClassifierOutput(loss=None, logits=tensor([[-1.5537,  2.7031, -0.7471],\n",
      "        [ 1.4883, -2.4473,  0.3083],\n",
      "        [-0.3284, -0.5767,  1.4570],\n",
      "        ...,\n",
      "        [ 0.0311, -1.7168,  2.0449],\n",
      "        [-1.1885,  0.9604,  0.6465],\n",
      "        [-1.6494,  1.5713,  1.0273]], device='cuda:0', dtype=torch.float16), hidden_states=None, attentions=None)\n"
     ]
    },
    {
     "name": "stderr",
     "output_type": "stream",
     "text": []
    },
    {
     "name": "stdout",
     "output_type": "stream",
     "text": [
      "output of the model SequenceClassifierOutput(loss=None, logits=tensor([[ 0.4175, -2.1094,  1.6074],\n",
      "        [-1.6025,  2.2617, -0.1054],\n",
      "        [ 2.0527, -2.0566, -1.2139],\n",
      "        ...,\n",
      "        [-0.9941, -0.8047,  2.3262],\n",
      "        [ 0.6914, -2.4766,  1.6348],\n",
      "        [-1.6182,  2.5508, -0.3628]], device='cuda:0', dtype=torch.float16), hidden_states=None, attentions=None)\n"
     ]
    },
    {
     "name": "stderr",
     "output_type": "stream",
     "text": []
    },
    {
     "name": "stdout",
     "output_type": "stream",
     "text": [
      "output of the model SequenceClassifierOutput(loss=None, logits=tensor([[ 0.4604, -2.1543,  1.7783],\n",
      "        [-0.8364, -1.0742,  2.3555],\n",
      "        [-1.3076,  1.6943,  0.0251],\n",
      "        ...,\n",
      "        [ 0.0692, -1.9424,  2.2930],\n",
      "        [-0.3845, -1.6826,  2.5195],\n",
      "        [ 1.4482, -2.4590,  0.4758]], device='cuda:0', dtype=torch.float16), hidden_states=None, attentions=None)\n"
     ]
    },
    {
     "name": "stderr",
     "output_type": "stream",
     "text": []
    },
    {
     "name": "stdout",
     "output_type": "stream",
     "text": [
      "output of the model SequenceClassifierOutput(loss=None, logits=tensor([[ 0.4058, -2.3359,  2.0762],\n",
      "        [ 0.4058, -2.3359,  2.0762],\n",
      "        [-0.0988, -0.8125,  1.6611],\n",
      "        ...,\n",
      "        [ 2.0625, -2.4141, -0.9790],\n",
      "        [ 2.0957, -2.4375, -0.9014],\n",
      "        [-0.9746,  0.1237,  1.5957]], device='cuda:0', dtype=torch.float16), hidden_states=None, attentions=None)\n"
     ]
    },
    {
     "name": "stderr",
     "output_type": "stream",
     "text": []
    },
    {
     "name": "stdout",
     "output_type": "stream",
     "text": [
      "output of the model SequenceClassifierOutput(loss=None, logits=tensor([[ 4.3359e-01, -2.1328e+00,  1.7910e+00],\n",
      "        [-5.1758e-01,  7.1716e-02,  7.8418e-01],\n",
      "        [ 1.3584e+00, -1.9209e+00, -8.1641e-01],\n",
      "        ...,\n",
      "        [-2.8101e-01,  5.6410e-04,  6.3721e-01],\n",
      "        [ 3.1665e-01, -2.0723e+00,  1.9980e+00],\n",
      "        [-1.1680e+00, -9.1064e-01,  2.6484e+00]], device='cuda:0',\n",
      "       dtype=torch.float16), hidden_states=None, attentions=None)\n"
     ]
    },
    {
     "name": "stderr",
     "output_type": "stream",
     "text": []
    },
    {
     "name": "stdout",
     "output_type": "stream",
     "text": [
      "output of the model SequenceClassifierOutput(loss=None, logits=tensor([[ 1.9590, -2.0195, -1.0137],\n",
      "        [ 0.7070, -2.5547,  1.7295],\n",
      "        [-1.3271, -0.6064,  2.6250],\n",
      "        ...,\n",
      "        [ 0.5400, -1.4043,  1.1270],\n",
      "        [-0.6040, -1.3418,  2.2773],\n",
      "        [-0.4873, -0.8540,  1.9521]], device='cuda:0', dtype=torch.float16), hidden_states=None, attentions=None)\n"
     ]
    },
    {
     "name": "stderr",
     "output_type": "stream",
     "text": []
    },
    {
     "name": "stdout",
     "output_type": "stream",
     "text": [
      "output of the model SequenceClassifierOutput(loss=None, logits=tensor([[-0.8311, -0.5566,  2.0078],\n",
      "        [ 1.8682, -1.5654, -1.1855],\n",
      "        [ 1.8076, -2.1621, -0.1747],\n",
      "        ...,\n",
      "        [-0.8174, -0.9385,  2.3828],\n",
      "        [-0.8311, -0.4395,  2.0469],\n",
      "        [-0.5854, -1.2998,  2.5020]], device='cuda:0', dtype=torch.float16), hidden_states=None, attentions=None)\n"
     ]
    },
    {
     "name": "stderr",
     "output_type": "stream",
     "text": []
    },
    {
     "name": "stdout",
     "output_type": "stream",
     "text": [
      "output of the model SequenceClassifierOutput(loss=None, logits=tensor([[-0.5771, -0.7930,  1.9590],\n",
      "        [-0.6045, -1.2715,  2.5039],\n",
      "        [-0.6416, -0.8008,  2.0840],\n",
      "        ...,\n",
      "        [-0.5952, -0.1537,  0.7461],\n",
      "        [ 0.5449, -0.3232, -1.1445],\n",
      "        [-1.1025, -0.2986,  2.0898]], device='cuda:0', dtype=torch.float16), hidden_states=None, attentions=None)\n"
     ]
    },
    {
     "name": "stderr",
     "output_type": "stream",
     "text": []
    },
    {
     "name": "stdout",
     "output_type": "stream",
     "text": [
      "output of the model SequenceClassifierOutput(loss=None, logits=tensor([[ 0.4983, -1.6836,  1.0957],\n",
      "        [ 1.8379, -2.6055, -0.1821],\n",
      "        [-0.9902, -0.1801,  1.8848],\n",
      "        ...,\n",
      "        [-0.1407,  0.6436, -1.1289],\n",
      "        [ 0.2607,  0.1178, -1.4531],\n",
      "        [-0.0565,  1.0244, -1.7627]], device='cuda:0', dtype=torch.float16), hidden_states=None, attentions=None)\n"
     ]
    },
    {
     "name": "stderr",
     "output_type": "stream",
     "text": []
    },
    {
     "name": "stdout",
     "output_type": "stream",
     "text": [
      "output of the model SequenceClassifierOutput(loss=None, logits=tensor([[-0.0392,  0.7485, -1.6758],\n",
      "        [-1.9121,  1.7656,  1.3086],\n",
      "        [-1.6885,  2.9258, -0.9487],\n",
      "        ...,\n",
      "        [-0.0161, -1.2002,  1.8096],\n",
      "        [ 1.7695, -0.8237, -1.8828],\n",
      "        [-1.0127,  0.1014,  1.7520]], device='cuda:0', dtype=torch.float16), hidden_states=None, attentions=None)\n"
     ]
    },
    {
     "name": "stderr",
     "output_type": "stream",
     "text": []
    },
    {
     "name": "stdout",
     "output_type": "stream",
     "text": [
      "output of the model SequenceClassifierOutput(loss=None, logits=tensor([[ 1.6006, -1.4785, -0.9746],\n",
      "        [ 1.1807, -0.3640, -1.7559],\n",
      "        [-1.6240,  1.2520,  1.3047],\n",
      "        ...,\n",
      "        [-0.8164, -1.2021,  2.3672],\n",
      "        [-0.6177, -0.6177,  2.2070],\n",
      "        [ 0.2893, -0.8228,  0.4695]], device='cuda:0', dtype=torch.float16), hidden_states=None, attentions=None)\n"
     ]
    },
    {
     "name": "stderr",
     "output_type": "stream",
     "text": []
    },
    {
     "name": "stdout",
     "output_type": "stream",
     "text": [
      "output of the model SequenceClassifierOutput(loss=None, logits=tensor([[ 0.5376, -2.3809,  1.8594],\n",
      "        [ 1.4053, -1.8154, -0.2773],\n",
      "        [ 0.1847, -1.5537,  1.2705],\n",
      "        ...,\n",
      "        [-1.3330,  2.5312, -1.0039],\n",
      "        [-0.2595, -0.1207,  0.0779],\n",
      "        [ 1.3789, -2.0684,  0.2065]], device='cuda:0', dtype=torch.float16), hidden_states=None, attentions=None)\n"
     ]
    },
    {
     "name": "stderr",
     "output_type": "stream",
     "text": []
    },
    {
     "name": "stdout",
     "output_type": "stream",
     "text": [
      "output of the model SequenceClassifierOutput(loss=None, logits=tensor([[-0.9961, -1.0029,  2.6016],\n",
      "        [ 2.0605, -2.3496, -0.8154],\n",
      "        [ 0.0456, -0.1235,  0.1948],\n",
      "        ...,\n",
      "        [-0.1575, -0.6538,  1.5664],\n",
      "        [-0.9688,  0.0114,  1.8457],\n",
      "        [-0.5518, -1.4170,  2.0664]], device='cuda:0', dtype=torch.float16), hidden_states=None, attentions=None)\n"
     ]
    },
    {
     "name": "stderr",
     "output_type": "stream",
     "text": []
    },
    {
     "name": "stdout",
     "output_type": "stream",
     "text": [
      "output of the model SequenceClassifierOutput(loss=None, logits=tensor([[-1.6240,  1.5244,  1.0137],\n",
      "        [ 1.9795, -1.7139, -1.5586],\n",
      "        [-0.5913, -0.3499,  1.4062],\n",
      "        ...,\n",
      "        [ 0.1610, -2.2891,  2.2012],\n",
      "        [-0.1901, -1.8408,  2.2676],\n",
      "        [ 1.9824, -2.2422, -1.0801]], device='cuda:0', dtype=torch.float16), hidden_states=None, attentions=None)\n"
     ]
    },
    {
     "name": "stderr",
     "output_type": "stream",
     "text": []
    },
    {
     "name": "stdout",
     "output_type": "stream",
     "text": [
      "output of the model SequenceClassifierOutput(loss=None, logits=tensor([[-0.7261,  0.5439,  0.5527],\n",
      "        [ 1.0381, -1.2471, -0.8804],\n",
      "        [ 1.5566, -1.2393, -1.0977],\n",
      "        ...,\n",
      "        [ 1.0771, -0.3997, -1.6719],\n",
      "        [-1.4873,  0.2937,  2.0684],\n",
      "        [-0.5249,  0.3101, -0.3899]], device='cuda:0', dtype=torch.float16), hidden_states=None, attentions=None)\n"
     ]
    },
    {
     "name": "stderr",
     "output_type": "stream",
     "text": []
    },
    {
     "name": "stdout",
     "output_type": "stream",
     "text": [
      "output of the model SequenceClassifierOutput(loss=None, logits=tensor([[-0.7349, -1.1992,  2.4902],\n",
      "        [ 1.2803, -1.8164, -0.0089],\n",
      "        [-0.8677, -1.2588,  2.5410],\n",
      "        ...,\n",
      "        [-1.9004,  2.1719,  0.8970],\n",
      "        [-1.8252,  2.0273,  0.9150],\n",
      "        [-1.0156,  1.2041,  0.6177]], device='cuda:0', dtype=torch.float16), hidden_states=None, attentions=None)\n"
     ]
    },
    {
     "name": "stderr",
     "output_type": "stream",
     "text": []
    },
    {
     "name": "stdout",
     "output_type": "stream",
     "text": [
      "output of the model SequenceClassifierOutput(loss=None, logits=tensor([[-1.7861,  1.7998,  1.1406],\n",
      "        [-1.7070,  2.7617, -0.5488],\n",
      "        [-0.6123, -0.4695,  1.6455],\n",
      "        ...,\n",
      "        [-1.8750,  3.0234, -0.7783],\n",
      "        [-0.1156, -0.8188,  1.2041],\n",
      "        [-0.0234, -0.8174,  1.1016]], device='cuda:0', dtype=torch.float16), hidden_states=None, attentions=None)\n"
     ]
    },
    {
     "name": "stderr",
     "output_type": "stream",
     "text": []
    },
    {
     "name": "stdout",
     "output_type": "stream",
     "text": [
      "output of the model SequenceClassifierOutput(loss=None, logits=tensor([[-0.0781, -2.0332,  2.4160],\n",
      "        [-1.7061,  2.9355, -0.8550],\n",
      "        [-1.7402,  2.9746, -0.9531],\n",
      "        ...,\n",
      "        [-1.4111,  2.8164, -1.3125],\n",
      "        [-1.6807,  3.0078, -1.1221],\n",
      "        [-1.7549,  3.0234, -1.0137]], device='cuda:0', dtype=torch.float16), hidden_states=None, attentions=None)\n"
     ]
    },
    {
     "name": "stderr",
     "output_type": "stream",
     "text": []
    },
    {
     "name": "stdout",
     "output_type": "stream",
     "text": [
      "output of the model SequenceClassifierOutput(loss=None, logits=tensor([[-0.3718, -0.6602,  1.4814],\n",
      "        [-0.1526, -1.8760,  2.0723],\n",
      "        [-1.3984,  1.4844,  0.8940],\n",
      "        ...,\n",
      "        [ 0.4600, -2.1113,  1.9258],\n",
      "        [ 0.2371, -2.1211,  1.7773],\n",
      "        [-1.1514,  0.2900,  1.8369]], device='cuda:0', dtype=torch.float16), hidden_states=None, attentions=None)\n"
     ]
    },
    {
     "name": "stderr",
     "output_type": "stream",
     "text": []
    },
    {
     "name": "stdout",
     "output_type": "stream",
     "text": [
      "output of the model SequenceClassifierOutput(loss=None, logits=tensor([[ 0.6060, -1.3457,  0.1227],\n",
      "        [ 1.1055, -1.1611, -0.9346],\n",
      "        [-1.8252,  2.8945, -0.6860],\n",
      "        ...,\n",
      "        [-0.2415, -1.1553,  2.0020],\n",
      "        [ 1.4863, -2.2930, -0.0677],\n",
      "        [-0.1377, -1.9238,  2.4219]], device='cuda:0', dtype=torch.float16), hidden_states=None, attentions=None)\n"
     ]
    },
    {
     "name": "stderr",
     "output_type": "stream",
     "text": []
    },
    {
     "name": "stdout",
     "output_type": "stream",
     "text": [
      "output of the model SequenceClassifierOutput(loss=None, logits=tensor([[ 0.1356, -2.2070,  2.0820],\n",
      "        [ 1.1133, -1.2607, -0.0983],\n",
      "        [ 0.3645, -0.9077,  0.0818],\n",
      "        ...,\n",
      "        [-0.8467, -0.5430,  2.1777],\n",
      "        [ 0.2864, -1.1133,  0.6260],\n",
      "        [-1.2783,  2.3770, -0.5859]], device='cuda:0', dtype=torch.float16), hidden_states=None, attentions=None)\n"
     ]
    },
    {
     "name": "stderr",
     "output_type": "stream",
     "text": []
    },
    {
     "name": "stdout",
     "output_type": "stream",
     "text": [
      "output of the model SequenceClassifierOutput(loss=None, logits=tensor([[-1.8564,  2.9922, -0.7134],\n",
      "        [ 0.4126, -1.2871,  0.8599],\n",
      "        [-0.1177, -1.7969,  2.2500],\n",
      "        ...,\n",
      "        [-0.4546, -1.1182,  2.3340],\n",
      "        [-0.7529, -0.8862,  2.3105],\n",
      "        [ 1.2627, -0.8218, -1.4834]], device='cuda:0', dtype=torch.float16), hidden_states=None, attentions=None)\n"
     ]
    },
    {
     "name": "stderr",
     "output_type": "stream",
     "text": []
    },
    {
     "name": "stdout",
     "output_type": "stream",
     "text": [
      "output of the model SequenceClassifierOutput(loss=None, logits=tensor([[ 1.4404, -0.6670, -1.5312],\n",
      "        [-0.1923, -1.0918,  1.4961],\n",
      "        [-0.2085,  0.0901,  0.2413],\n",
      "        ...,\n",
      "        [ 1.4883, -2.6719,  0.8159],\n",
      "        [-0.7852, -0.1652,  1.4541],\n",
      "        [-1.1318, -0.6304,  2.4688]], device='cuda:0', dtype=torch.float16), hidden_states=None, attentions=None)\n"
     ]
    },
    {
     "name": "stderr",
     "output_type": "stream",
     "text": []
    },
    {
     "name": "stdout",
     "output_type": "stream",
     "text": [
      "output of the model SequenceClassifierOutput(loss=None, logits=tensor([[-1.7588,  2.6445, -0.3359],\n",
      "        [-1.6719,  2.8047, -0.7842],\n",
      "        [-0.0522,  0.5825, -1.1914],\n",
      "        ...,\n",
      "        [-0.1621, -0.1985,  0.8057],\n",
      "        [ 1.8867, -2.0547, -1.1836],\n",
      "        [-0.7886, -1.3164,  2.5859]], device='cuda:0', dtype=torch.float16), hidden_states=None, attentions=None)\n"
     ]
    },
    {
     "name": "stderr",
     "output_type": "stream",
     "text": []
    },
    {
     "name": "stdout",
     "output_type": "stream",
     "text": [
      "output of the model SequenceClassifierOutput(loss=None, logits=tensor([[-0.1384,  0.3530, -0.6782],\n",
      "        [-0.0346, -1.9131,  2.3281],\n",
      "        [-0.7783, -1.0273,  2.4395],\n",
      "        ...,\n",
      "        [ 1.7627, -2.3555, -0.2593],\n",
      "        [-1.4121,  1.3125,  1.0303],\n",
      "        [-1.1152, -0.7876,  2.5352]], device='cuda:0', dtype=torch.float16), hidden_states=None, attentions=None)\n"
     ]
    },
    {
     "name": "stderr",
     "output_type": "stream",
     "text": []
    },
    {
     "name": "stdout",
     "output_type": "stream",
     "text": [
      "output of the model SequenceClassifierOutput(loss=None, logits=tensor([[-1.6260,  1.8633,  0.7207],\n",
      "        [ 1.3516, -1.5635, -0.9014],\n",
      "        [ 0.0145,  0.2169, -0.8076],\n",
      "        ...,\n",
      "        [ 1.5049, -2.2754, -0.0179],\n",
      "        [-0.7671, -0.2158,  1.0723],\n",
      "        [-1.4121,  1.3125,  1.0303]], device='cuda:0', dtype=torch.float16), hidden_states=None, attentions=None)\n"
     ]
    },
    {
     "name": "stderr",
     "output_type": "stream",
     "text": []
    },
    {
     "name": "stdout",
     "output_type": "stream",
     "text": [
      "output of the model SequenceClassifierOutput(loss=None, logits=tensor([[ 0.3286, -0.3506, -0.6509],\n",
      "        [-1.3994,  1.7344,  0.4297],\n",
      "        [-0.1207, -1.5410,  2.1191],\n",
      "        ...,\n",
      "        [-1.4893,  0.8682,  1.4697],\n",
      "        [-1.4336,  0.5845,  1.7998],\n",
      "        [-0.9365,  0.2510,  1.4688]], device='cuda:0', dtype=torch.float16), hidden_states=None, attentions=None)\n"
     ]
    },
    {
     "name": "stderr",
     "output_type": "stream",
     "text": []
    },
    {
     "name": "stdout",
     "output_type": "stream",
     "text": [
      "output of the model SequenceClassifierOutput(loss=None, logits=tensor([[-1.7100,  1.3594,  1.3574],\n",
      "        [-0.2661, -0.6777,  1.0654],\n",
      "        [-1.4893,  0.2452,  2.1250],\n",
      "        ...,\n",
      "        [ 1.8906, -1.3086, -1.4180],\n",
      "        [ 0.3440, -1.5947,  1.7109],\n",
      "        [ 2.0156, -1.5859, -1.4141]], device='cuda:0', dtype=torch.float16), hidden_states=None, attentions=None)\n"
     ]
    },
    {
     "name": "stderr",
     "output_type": "stream",
     "text": []
    },
    {
     "name": "stdout",
     "output_type": "stream",
     "text": [
      "output of the model SequenceClassifierOutput(loss=None, logits=tensor([[-1.7021,  1.2471,  1.3945],\n",
      "        [ 0.0320, -2.0488,  2.2969],\n",
      "        [-0.6724,  0.1901,  0.6362],\n",
      "        ...,\n",
      "        [ 1.4561, -1.9258, -0.7754],\n",
      "        [-1.7393,  2.6094, -0.1542],\n",
      "        [-0.5176,  0.0717,  0.7842]], device='cuda:0', dtype=torch.float16), hidden_states=None, attentions=None)\n"
     ]
    },
    {
     "name": "stderr",
     "output_type": "stream",
     "text": []
    },
    {
     "name": "stdout",
     "output_type": "stream",
     "text": [
      "output of the model SequenceClassifierOutput(loss=None, logits=tensor([[-0.2834, -1.3291,  1.9082],\n",
      "        [ 1.5488, -1.4102, -1.0977],\n",
      "        [ 1.4004, -1.7422, -0.9287],\n",
      "        ...,\n",
      "        [-1.0283, -0.4592,  2.1387],\n",
      "        [ 1.8057, -2.1914, -0.4260],\n",
      "        [ 1.4805, -1.9141,  0.0296]], device='cuda:0', dtype=torch.float16), hidden_states=None, attentions=None)\n"
     ]
    },
    {
     "name": "stderr",
     "output_type": "stream",
     "text": []
    },
    {
     "name": "stdout",
     "output_type": "stream",
     "text": [
      "output of the model SequenceClassifierOutput(loss=None, logits=tensor([[-0.9888, -0.5200,  2.4785],\n",
      "        [-0.1095, -2.0234,  2.3965],\n",
      "        [-1.4717,  1.6133,  0.6318],\n",
      "        ...,\n",
      "        [-0.9565, -0.6519,  2.3750],\n",
      "        [ 0.8623, -2.4297,  1.8457],\n",
      "        [-0.6040, -0.9072,  2.1855]], device='cuda:0', dtype=torch.float16), hidden_states=None, attentions=None)\n"
     ]
    },
    {
     "name": "stderr",
     "output_type": "stream",
     "text": [
      "Processing batches (chunk 11): 100%|██████████| 98/98 [00:35<00:00,  2.80it/s]\n",
      "Processing chunks:   8%|▊         | 11/131 [06:26<1:09:50, 34.92s/it]"
     ]
    },
    {
     "name": "stdout",
     "output_type": "stream",
     "text": [
      "output of the model SequenceClassifierOutput(loss=None, logits=tensor([[-0.4028, -1.1553,  2.2246],\n",
      "        [-0.6831, -1.1826,  2.4805],\n",
      "        [ 0.4663, -1.6113,  1.2061],\n",
      "        ...,\n",
      "        [ 0.8809, -1.5381, -0.1412],\n",
      "        [-0.9644, -0.5195,  2.2617],\n",
      "        [-0.6831, -0.2852,  1.7666]], device='cuda:0', dtype=torch.float16), hidden_states=None, attentions=None)\n",
      "output of the model SequenceClassifierOutput(loss=None, logits=tensor([[-0.1587,  0.5605, -0.8594],\n",
      "        [-1.3477,  0.9004,  1.4141],\n",
      "        [ 1.8232, -1.3057, -1.6406],\n",
      "        ...,\n",
      "        [-1.6670,  1.7988,  0.8115],\n",
      "        [-1.6494,  1.5703,  1.0273],\n",
      "        [-1.6611,  2.0117,  0.4448]], device='cuda:0', dtype=torch.float16), hidden_states=None, attentions=None)\n"
     ]
    },
    {
     "name": "stderr",
     "output_type": "stream",
     "text": []
    },
    {
     "name": "stdout",
     "output_type": "stream",
     "text": [
      "output of the model SequenceClassifierOutput(loss=None, logits=tensor([[-1.4463,  1.8525,  0.5225],\n",
      "        [-1.6895,  2.0078,  0.5171],\n",
      "        [-1.5850,  1.8203,  0.5938],\n",
      "        ...,\n",
      "        [-1.3223,  2.3965, -0.7236],\n",
      "        [-1.6680,  2.1953,  0.5181],\n",
      "        [ 1.7393, -2.8730,  0.7246]], device='cuda:0', dtype=torch.float16), hidden_states=None, attentions=None)\n"
     ]
    },
    {
     "name": "stderr",
     "output_type": "stream",
     "text": []
    },
    {
     "name": "stdout",
     "output_type": "stream",
     "text": [
      "output of the model SequenceClassifierOutput(loss=None, logits=tensor([[-0.0880,  0.0248,  0.5278],\n",
      "        [ 2.0371, -2.1133, -1.1582],\n",
      "        [ 1.7627, -2.7617,  0.2318],\n",
      "        ...,\n",
      "        [-1.1221, -0.7271,  2.4492],\n",
      "        [-1.2842,  2.5605, -1.1426],\n",
      "        [ 0.3264, -0.3579, -0.7256]], device='cuda:0', dtype=torch.float16), hidden_states=None, attentions=None)\n"
     ]
    },
    {
     "name": "stderr",
     "output_type": "stream",
     "text": []
    },
    {
     "name": "stdout",
     "output_type": "stream",
     "text": [
      "output of the model SequenceClassifierOutput(loss=None, logits=tensor([[-1.1211, -0.5615,  2.3398],\n",
      "        [ 1.8818, -2.0957, -1.2539],\n",
      "        [ 1.3779, -2.5625,  0.7085],\n",
      "        ...,\n",
      "        [-0.4333,  0.3474, -0.0384],\n",
      "        [ 0.7212, -1.9336,  1.3027],\n",
      "        [ 0.7212, -1.9336,  1.3027]], device='cuda:0', dtype=torch.float16), hidden_states=None, attentions=None)\n"
     ]
    },
    {
     "name": "stderr",
     "output_type": "stream",
     "text": []
    },
    {
     "name": "stdout",
     "output_type": "stream",
     "text": [
      "output of the model SequenceClassifierOutput(loss=None, logits=tensor([[ 0.3032, -2.1758,  2.0508],\n",
      "        [-0.0643, -1.9307,  2.2480],\n",
      "        [-0.2522, -1.8027,  2.4219],\n",
      "        ...,\n",
      "        [ 0.0370, -1.8428,  2.1934],\n",
      "        [ 0.3076, -2.2656,  2.1094],\n",
      "        [ 1.5518, -2.6270,  0.6055]], device='cuda:0', dtype=torch.float16), hidden_states=None, attentions=None)\n"
     ]
    },
    {
     "name": "stderr",
     "output_type": "stream",
     "text": []
    },
    {
     "name": "stdout",
     "output_type": "stream",
     "text": [
      "output of the model SequenceClassifierOutput(loss=None, logits=tensor([[ 0.0594, -2.1973,  2.1777],\n",
      "        [ 1.3682, -2.6875,  1.0400],\n",
      "        [ 2.0879, -1.5146, -1.6777],\n",
      "        ...,\n",
      "        [ 0.0630,  0.2588, -1.1230],\n",
      "        [-1.6289,  2.7852, -0.8901],\n",
      "        [-1.4717,  0.2406,  2.0820]], device='cuda:0', dtype=torch.float16), hidden_states=None, attentions=None)\n"
     ]
    },
    {
     "name": "stderr",
     "output_type": "stream",
     "text": []
    },
    {
     "name": "stdout",
     "output_type": "stream",
     "text": [
      "output of the model SequenceClassifierOutput(loss=None, logits=tensor([[ 1.9775, -1.7646, -1.5400],\n",
      "        [ 1.8604, -1.9502, -1.1543],\n",
      "        [-0.9707, -0.9048,  2.4805],\n",
      "        ...,\n",
      "        [-1.9561,  3.0020, -0.5884],\n",
      "        [-0.3887, -0.4822,  1.4902],\n",
      "        [-1.4121,  1.3125,  1.0303]], device='cuda:0', dtype=torch.float16), hidden_states=None, attentions=None)\n"
     ]
    },
    {
     "name": "stderr",
     "output_type": "stream",
     "text": []
    },
    {
     "name": "stdout",
     "output_type": "stream",
     "text": [
      "output of the model SequenceClassifierOutput(loss=None, logits=tensor([[-1.5781,  1.9463,  0.4636],\n",
      "        [-0.4666, -0.2098,  0.7021],\n",
      "        [ 1.0605,  0.0901, -2.0312],\n",
      "        ...,\n",
      "        [ 0.4390, -1.3008,  0.5249],\n",
      "        [-0.0452, -0.7173,  0.4929],\n",
      "        [-0.6655, -0.0845,  0.5972]], device='cuda:0', dtype=torch.float16), hidden_states=None, attentions=None)\n"
     ]
    },
    {
     "name": "stderr",
     "output_type": "stream",
     "text": []
    },
    {
     "name": "stdout",
     "output_type": "stream",
     "text": [
      "output of the model SequenceClassifierOutput(loss=None, logits=tensor([[-0.5898, -0.2389,  0.7729],\n",
      "        [ 1.3076, -0.6670, -1.6406],\n",
      "        [ 1.9697, -1.9873, -1.4121],\n",
      "        ...,\n",
      "        [ 1.7598, -2.2168, -0.7266],\n",
      "        [-1.1768,  0.7451,  1.3008],\n",
      "        [-0.8926,  0.8916, -0.0063]], device='cuda:0', dtype=torch.float16), hidden_states=None, attentions=None)\n"
     ]
    },
    {
     "name": "stderr",
     "output_type": "stream",
     "text": []
    },
    {
     "name": "stdout",
     "output_type": "stream",
     "text": [
      "output of the model SequenceClassifierOutput(loss=None, logits=tensor([[-1.1631,  0.8892,  1.1270],\n",
      "        [ 1.6836, -2.0117, -0.7842],\n",
      "        [-1.4561,  1.0371,  1.3340],\n",
      "        ...,\n",
      "        [ 0.5630, -0.3401, -1.0645],\n",
      "        [-0.9189, -0.1847,  1.5137],\n",
      "        [ 2.0332, -2.5781, -0.6968]], device='cuda:0', dtype=torch.float16), hidden_states=None, attentions=None)\n"
     ]
    },
    {
     "name": "stderr",
     "output_type": "stream",
     "text": []
    },
    {
     "name": "stdout",
     "output_type": "stream",
     "text": [
      "output of the model SequenceClassifierOutput(loss=None, logits=tensor([[-1.4395,  0.2147,  2.0742],\n",
      "        [ 1.7197, -2.5391, -0.0359],\n",
      "        [-0.4956, -1.4053,  2.3047],\n",
      "        ...,\n",
      "        [ 0.3108, -2.1074,  1.7910],\n",
      "        [ 0.1213, -1.7676,  1.7559],\n",
      "        [ 1.8770, -1.7656, -1.4180]], device='cuda:0', dtype=torch.float16), hidden_states=None, attentions=None)\n"
     ]
    },
    {
     "name": "stderr",
     "output_type": "stream",
     "text": []
    },
    {
     "name": "stdout",
     "output_type": "stream",
     "text": [
      "output of the model SequenceClassifierOutput(loss=None, logits=tensor([[ 0.1198, -1.9922,  1.7285],\n",
      "        [ 1.6084, -2.6211,  0.5352],\n",
      "        [ 1.4268, -0.3184, -1.9375],\n",
      "        ...,\n",
      "        [ 0.1749, -1.3145,  1.0771],\n",
      "        [-1.8330,  3.0371, -0.8525],\n",
      "        [ 0.3599, -2.0391,  1.8652]], device='cuda:0', dtype=torch.float16), hidden_states=None, attentions=None)\n"
     ]
    },
    {
     "name": "stderr",
     "output_type": "stream",
     "text": []
    },
    {
     "name": "stdout",
     "output_type": "stream",
     "text": [
      "output of the model SequenceClassifierOutput(loss=None, logits=tensor([[ 0.6499,  0.2445, -1.6602],\n",
      "        [-1.4121, -0.0162,  2.2930],\n",
      "        [-1.7852,  3.0117, -0.9175],\n",
      "        ...,\n",
      "        [-0.8979, -0.0728,  1.8281],\n",
      "        [-1.6006,  1.5449,  0.8779],\n",
      "        [-1.4941,  1.6289,  0.7393]], device='cuda:0', dtype=torch.float16), hidden_states=None, attentions=None)\n"
     ]
    },
    {
     "name": "stderr",
     "output_type": "stream",
     "text": []
    },
    {
     "name": "stdout",
     "output_type": "stream",
     "text": [
      "output of the model SequenceClassifierOutput(loss=None, logits=tensor([[-0.3660, -0.5361,  1.4922],\n",
      "        [-1.0830,  1.4473, -0.1735],\n",
      "        [-1.5820,  1.5166,  0.8857],\n",
      "        ...,\n",
      "        [-1.5615,  1.5723,  1.0264],\n",
      "        [-0.3445, -0.5518,  1.5518],\n",
      "        [-1.5938,  1.8594,  0.0620]], device='cuda:0', dtype=torch.float16), hidden_states=None, attentions=None)\n"
     ]
    },
    {
     "name": "stderr",
     "output_type": "stream",
     "text": []
    },
    {
     "name": "stdout",
     "output_type": "stream",
     "text": [
      "output of the model SequenceClassifierOutput(loss=None, logits=tensor([[-1.1055,  0.6328,  0.9927],\n",
      "        [-1.6943,  0.9268,  1.4297],\n",
      "        [ 1.2217,  0.1637, -2.0977],\n",
      "        ...,\n",
      "        [-1.6318,  2.8457, -0.8457],\n",
      "        [ 0.3867, -2.0410,  1.7363],\n",
      "        [-1.1768,  1.0938,  0.4851]], device='cuda:0', dtype=torch.float16), hidden_states=None, attentions=None)\n"
     ]
    },
    {
     "name": "stderr",
     "output_type": "stream",
     "text": []
    },
    {
     "name": "stdout",
     "output_type": "stream",
     "text": [
      "output of the model SequenceClassifierOutput(loss=None, logits=tensor([[-1.5742,  2.6621, -0.7617],\n",
      "        [-1.5273,  2.9336, -1.2236],\n",
      "        [-0.8350,  2.5508, -1.7617],\n",
      "        ...,\n",
      "        [ 0.9351, -2.1562,  1.1816],\n",
      "        [ 0.2480, -2.0605,  2.0312],\n",
      "        [ 1.9229, -1.8340, -1.4033]], device='cuda:0', dtype=torch.float16), hidden_states=None, attentions=None)\n"
     ]
    },
    {
     "name": "stderr",
     "output_type": "stream",
     "text": []
    },
    {
     "name": "stdout",
     "output_type": "stream",
     "text": [
      "output of the model SequenceClassifierOutput(loss=None, logits=tensor([[-0.6831, -0.2852,  1.7666],\n",
      "        [ 1.8281, -1.8311, -1.3174],\n",
      "        [-1.8486,  2.9082, -0.6475],\n",
      "        ...,\n",
      "        [-0.2812,  0.6792, -0.6147],\n",
      "        [-1.5039,  0.4106,  2.0059],\n",
      "        [-1.3984,  2.6523, -0.9585]], device='cuda:0', dtype=torch.float16), hidden_states=None, attentions=None)\n"
     ]
    },
    {
     "name": "stderr",
     "output_type": "stream",
     "text": []
    },
    {
     "name": "stdout",
     "output_type": "stream",
     "text": [
      "output of the model SequenceClassifierOutput(loss=None, logits=tensor([[-1.3799,  2.0996,  0.1499],\n",
      "        [-1.7266,  3.0039, -1.0176],\n",
      "        [-1.0723, -0.5571,  2.1445],\n",
      "        ...,\n",
      "        [-1.1260,  2.7930, -1.5820],\n",
      "        [-1.8174,  3.0566, -0.9253],\n",
      "        [-0.7583, -0.0039,  0.9424]], device='cuda:0', dtype=torch.float16), hidden_states=None, attentions=None)\n"
     ]
    },
    {
     "name": "stderr",
     "output_type": "stream",
     "text": []
    },
    {
     "name": "stdout",
     "output_type": "stream",
     "text": [
      "output of the model SequenceClassifierOutput(loss=None, logits=tensor([[-1.5361,  2.7793, -0.9375],\n",
      "        [-1.5361,  1.7607,  0.6958],\n",
      "        [-1.6846,  1.9531,  0.9717],\n",
      "        ...,\n",
      "        [-0.5879, -1.4424,  2.4980],\n",
      "        [-1.1201, -0.7495,  2.5059],\n",
      "        [-0.7231, -1.3555,  2.5918]], device='cuda:0', dtype=torch.float16), hidden_states=None, attentions=None)\n"
     ]
    },
    {
     "name": "stderr",
     "output_type": "stream",
     "text": []
    },
    {
     "name": "stdout",
     "output_type": "stream",
     "text": [
      "output of the model SequenceClassifierOutput(loss=None, logits=tensor([[-1.0586, -0.7559,  2.4922],\n",
      "        [ 0.7812, -2.1465,  1.7129],\n",
      "        [-1.2373, -0.2747,  2.3789],\n",
      "        ...,\n",
      "        [ 0.5249,  0.3093, -1.4863],\n",
      "        [-1.4180,  0.1348,  2.1406],\n",
      "        [-1.0146, -0.1821,  1.8516]], device='cuda:0', dtype=torch.float16), hidden_states=None, attentions=None)\n"
     ]
    },
    {
     "name": "stderr",
     "output_type": "stream",
     "text": []
    },
    {
     "name": "stdout",
     "output_type": "stream",
     "text": [
      "output of the model SequenceClassifierOutput(loss=None, logits=tensor([[-0.9497, -0.2615,  1.8223],\n",
      "        [-1.8672,  2.8867, -0.5249],\n",
      "        [-0.9238, -1.2002,  2.5996],\n",
      "        ...,\n",
      "        [ 0.3203, -2.3027,  2.1406],\n",
      "        [-0.2983, -1.8301,  2.3887],\n",
      "        [-1.1768,  1.2158,  0.8394]], device='cuda:0', dtype=torch.float16), hidden_states=None, attentions=None)\n"
     ]
    },
    {
     "name": "stderr",
     "output_type": "stream",
     "text": []
    },
    {
     "name": "stdout",
     "output_type": "stream",
     "text": [
      "output of the model SequenceClassifierOutput(loss=None, logits=tensor([[-1.8063e-03, -6.5820e-01,  4.1919e-01],\n",
      "        [-3.3643e-01,  2.3633e-01,  3.5815e-01],\n",
      "        [ 1.4941e+00, -2.0352e+00,  2.5293e-01],\n",
      "        ...,\n",
      "        [-4.2407e-01,  1.2480e+00, -1.2578e+00],\n",
      "        [-2.6465e-01, -1.8486e+00,  2.4297e+00],\n",
      "        [-2.9709e-02,  1.1123e+00, -1.7500e+00]], device='cuda:0',\n",
      "       dtype=torch.float16), hidden_states=None, attentions=None)\n"
     ]
    },
    {
     "name": "stderr",
     "output_type": "stream",
     "text": []
    },
    {
     "name": "stdout",
     "output_type": "stream",
     "text": [
      "output of the model SequenceClassifierOutput(loss=None, logits=tensor([[-0.9375, -0.7754,  2.5059],\n",
      "        [ 0.2944, -2.3242,  2.1719],\n",
      "        [ 0.4236, -2.2910,  2.0293],\n",
      "        ...,\n",
      "        [-0.3999,  0.8008, -0.7139],\n",
      "        [ 0.2610, -2.2051,  1.8535],\n",
      "        [-0.6860, -1.1982,  2.3496]], device='cuda:0', dtype=torch.float16), hidden_states=None, attentions=None)\n"
     ]
    },
    {
     "name": "stderr",
     "output_type": "stream",
     "text": []
    },
    {
     "name": "stdout",
     "output_type": "stream",
     "text": [
      "output of the model SequenceClassifierOutput(loss=None, logits=tensor([[-0.0309, -1.9307,  2.0977],\n",
      "        [ 1.9473, -2.5254, -0.5659],\n",
      "        [-0.4519, -1.6279,  2.4004],\n",
      "        ...,\n",
      "        [-0.2134, -1.6719,  2.2676],\n",
      "        [-0.2542, -1.5879,  2.0410],\n",
      "        [-0.8916, -1.0449,  2.3184]], device='cuda:0', dtype=torch.float16), hidden_states=None, attentions=None)\n"
     ]
    },
    {
     "name": "stderr",
     "output_type": "stream",
     "text": []
    },
    {
     "name": "stdout",
     "output_type": "stream",
     "text": [
      "output of the model SequenceClassifierOutput(loss=None, logits=tensor([[-0.8896, -0.9219,  2.4141],\n",
      "        [-0.2416, -1.6855,  2.1016],\n",
      "        [-0.6660, -1.5068,  2.4375],\n",
      "        ...,\n",
      "        [-0.1462, -1.8848,  1.9678],\n",
      "        [ 0.1584, -0.0828, -0.4739],\n",
      "        [-1.4834,  0.3474,  2.0312]], device='cuda:0', dtype=torch.float16), hidden_states=None, attentions=None)\n"
     ]
    },
    {
     "name": "stderr",
     "output_type": "stream",
     "text": []
    },
    {
     "name": "stdout",
     "output_type": "stream",
     "text": [
      "output of the model SequenceClassifierOutput(loss=None, logits=tensor([[ 0.1898, -1.7051,  1.1729],\n",
      "        [-0.0558, -1.3867,  1.0938],\n",
      "        [-0.8164, -1.1592,  2.4922],\n",
      "        ...,\n",
      "        [ 0.5508, -0.3330, -1.0430],\n",
      "        [-1.7588,  1.4033,  1.4590],\n",
      "        [ 1.1123,  0.5303, -2.2754]], device='cuda:0', dtype=torch.float16), hidden_states=None, attentions=None)\n"
     ]
    },
    {
     "name": "stderr",
     "output_type": "stream",
     "text": []
    },
    {
     "name": "stdout",
     "output_type": "stream",
     "text": [
      "output of the model SequenceClassifierOutput(loss=None, logits=tensor([[ 0.6934,  1.1748, -2.2520],\n",
      "        [ 1.7842, -1.5186, -1.4619],\n",
      "        [-1.5166,  1.0898,  1.4600],\n",
      "        ...,\n",
      "        [-1.0352,  0.8164,  0.5449],\n",
      "        [-0.5161, -1.4854,  2.3086],\n",
      "        [-1.0830,  1.4473, -0.1735]], device='cuda:0', dtype=torch.float16), hidden_states=None, attentions=None)\n"
     ]
    },
    {
     "name": "stderr",
     "output_type": "stream",
     "text": []
    },
    {
     "name": "stdout",
     "output_type": "stream",
     "text": [
      "output of the model SequenceClassifierOutput(loss=None, logits=tensor([[ 1.9336, -1.5195, -1.6025],\n",
      "        [-0.4656, -0.5386,  1.3340],\n",
      "        [ 1.0449, -1.1553, -0.7554],\n",
      "        ...,\n",
      "        [ 0.3665,  0.2064, -1.5576],\n",
      "        [-1.5303,  2.4414, -0.1757],\n",
      "        [-0.9663, -0.7339,  2.3926]], device='cuda:0', dtype=torch.float16), hidden_states=None, attentions=None)\n"
     ]
    },
    {
     "name": "stderr",
     "output_type": "stream",
     "text": []
    },
    {
     "name": "stdout",
     "output_type": "stream",
     "text": [
      "output of the model SequenceClassifierOutput(loss=None, logits=tensor([[-1.4814,  0.2186,  2.1680],\n",
      "        [-1.2061, -0.5332,  2.3418],\n",
      "        [-1.4707,  0.3594,  2.0352],\n",
      "        ...,\n",
      "        [ 1.9434, -1.1045, -1.8184],\n",
      "        [ 0.9922,  0.3401, -2.0078],\n",
      "        [-0.1127, -1.7051,  2.3301]], device='cuda:0', dtype=torch.float16), hidden_states=None, attentions=None)\n"
     ]
    },
    {
     "name": "stderr",
     "output_type": "stream",
     "text": []
    },
    {
     "name": "stdout",
     "output_type": "stream",
     "text": [
      "output of the model SequenceClassifierOutput(loss=None, logits=tensor([[ 1.7686, -2.2969, -0.6631],\n",
      "        [-0.2466, -0.7183,  0.8032],\n",
      "        [-1.0215,  1.0010,  0.5439],\n",
      "        ...,\n",
      "        [ 2.0352, -2.3555, -0.9106],\n",
      "        [ 1.9697, -2.4727, -0.2296],\n",
      "        [-0.0314, -2.1719,  2.4258]], device='cuda:0', dtype=torch.float16), hidden_states=None, attentions=None)\n"
     ]
    },
    {
     "name": "stderr",
     "output_type": "stream",
     "text": []
    },
    {
     "name": "stdout",
     "output_type": "stream",
     "text": [
      "output of the model SequenceClassifierOutput(loss=None, logits=tensor([[-0.7075, -1.2344,  2.3555],\n",
      "        [ 1.9189, -2.3477, -0.5356],\n",
      "        [-0.0533, -2.1191,  2.4121],\n",
      "        ...,\n",
      "        [-1.4824,  0.2798,  2.0820],\n",
      "        [-0.8413, -1.1934,  2.5508],\n",
      "        [-0.2415, -1.1553,  2.0020]], device='cuda:0', dtype=torch.float16), hidden_states=None, attentions=None)\n"
     ]
    },
    {
     "name": "stderr",
     "output_type": "stream",
     "text": []
    },
    {
     "name": "stdout",
     "output_type": "stream",
     "text": [
      "output of the model SequenceClassifierOutput(loss=None, logits=tensor([[ 0.0791, -2.1211,  2.2031],\n",
      "        [ 2.0117, -2.1543, -1.0713],\n",
      "        [-0.4458,  1.3564, -1.3789],\n",
      "        ...,\n",
      "        [-0.0894, -1.1104,  1.5156],\n",
      "        [ 0.2725, -1.0547,  0.7886],\n",
      "        [-1.7314,  2.7559, -0.7993]], device='cuda:0', dtype=torch.float16), hidden_states=None, attentions=None)\n"
     ]
    },
    {
     "name": "stderr",
     "output_type": "stream",
     "text": []
    },
    {
     "name": "stdout",
     "output_type": "stream",
     "text": [
      "output of the model SequenceClassifierOutput(loss=None, logits=tensor([[ 2.0625, -1.6162, -1.6992],\n",
      "        [ 1.5830, -2.8555,  0.6489],\n",
      "        [ 0.3252, -1.0176,  0.5620],\n",
      "        ...,\n",
      "        [-1.5303,  2.7637, -1.0439],\n",
      "        [-1.5527,  0.4602,  1.9707],\n",
      "        [-1.3623,  0.5312,  1.7725]], device='cuda:0', dtype=torch.float16), hidden_states=None, attentions=None)\n"
     ]
    },
    {
     "name": "stderr",
     "output_type": "stream",
     "text": []
    },
    {
     "name": "stdout",
     "output_type": "stream",
     "text": [
      "output of the model SequenceClassifierOutput(loss=None, logits=tensor([[-1.4229,  2.1719, -0.5508],\n",
      "        [-0.7832,  0.1409,  1.5986],\n",
      "        [ 1.7549, -2.5156, -0.1849],\n",
      "        ...,\n",
      "        [ 1.5762, -1.9863, -0.7373],\n",
      "        [-1.7002,  2.9883, -1.0254],\n",
      "        [-0.8242,  2.2656, -1.5762]], device='cuda:0', dtype=torch.float16), hidden_states=None, attentions=None)\n"
     ]
    },
    {
     "name": "stderr",
     "output_type": "stream",
     "text": []
    },
    {
     "name": "stdout",
     "output_type": "stream",
     "text": [
      "output of the model SequenceClassifierOutput(loss=None, logits=tensor([[-1.4062,  2.6680, -1.0605],\n",
      "        [ 1.7363, -1.4082, -1.1738],\n",
      "        [ 1.9785, -1.8857, -1.4893],\n",
      "        ...,\n",
      "        [-0.5610, -1.0645,  2.3223],\n",
      "        [-0.9985, -0.4189,  2.2168],\n",
      "        [ 1.1689, -0.3577, -1.0352]], device='cuda:0', dtype=torch.float16), hidden_states=None, attentions=None)\n"
     ]
    },
    {
     "name": "stderr",
     "output_type": "stream",
     "text": []
    },
    {
     "name": "stdout",
     "output_type": "stream",
     "text": [
      "output of the model SequenceClassifierOutput(loss=None, logits=tensor([[ 0.0151, -1.8975,  2.2266],\n",
      "        [-1.9219,  2.6172,  0.3149],\n",
      "        [-0.5200, -1.5303,  2.5469],\n",
      "        ...,\n",
      "        [ 0.6265, -1.9785,  1.5713],\n",
      "        [-1.1602,  2.7539, -1.4727],\n",
      "        [ 0.4121, -0.9790, -0.0429]], device='cuda:0', dtype=torch.float16), hidden_states=None, attentions=None)\n"
     ]
    },
    {
     "name": "stderr",
     "output_type": "stream",
     "text": []
    },
    {
     "name": "stdout",
     "output_type": "stream",
     "text": [
      "output of the model SequenceClassifierOutput(loss=None, logits=tensor([[ 0.0934, -0.7188,  0.4646],\n",
      "        [-0.4185, -1.0225,  1.6709],\n",
      "        [-1.0117,  0.9990,  0.0402],\n",
      "        ...,\n",
      "        [-1.1064,  2.5312, -1.2920],\n",
      "        [-0.1195,  0.4424, -0.8345],\n",
      "        [ 0.0216,  0.3369, -0.9731]], device='cuda:0', dtype=torch.float16), hidden_states=None, attentions=None)\n"
     ]
    },
    {
     "name": "stderr",
     "output_type": "stream",
     "text": []
    },
    {
     "name": "stdout",
     "output_type": "stream",
     "text": [
      "output of the model SequenceClassifierOutput(loss=None, logits=tensor([[-1.1787, -0.3706,  2.4746],\n",
      "        [ 1.9385, -1.5586, -1.4961],\n",
      "        [ 1.2734, -0.4722, -1.7578],\n",
      "        ...,\n",
      "        [-1.0869, -0.0424,  1.4863],\n",
      "        [-0.3508, -0.1272,  0.2913],\n",
      "        [ 2.0508, -1.6738, -1.7021]], device='cuda:0', dtype=torch.float16), hidden_states=None, attentions=None)\n"
     ]
    },
    {
     "name": "stderr",
     "output_type": "stream",
     "text": []
    },
    {
     "name": "stdout",
     "output_type": "stream",
     "text": [
      "output of the model SequenceClassifierOutput(loss=None, logits=tensor([[-1.7041,  3.0215, -1.0361],\n",
      "        [ 0.1947, -0.1383, -0.7388],\n",
      "        [-1.1865,  0.2571,  1.9473],\n",
      "        ...,\n",
      "        [-1.3281,  2.3848, -0.6470],\n",
      "        [-1.3877,  2.3262, -0.5669],\n",
      "        [-1.3389, -0.4038,  2.5801]], device='cuda:0', dtype=torch.float16), hidden_states=None, attentions=None)\n"
     ]
    },
    {
     "name": "stderr",
     "output_type": "stream",
     "text": []
    },
    {
     "name": "stdout",
     "output_type": "stream",
     "text": [
      "output of the model SequenceClassifierOutput(loss=None, logits=tensor([[-1.1562,  2.5430, -1.3418],\n",
      "        [ 1.0352,  0.0142, -1.6895],\n",
      "        [-1.7080,  1.9424,  0.9204],\n",
      "        ...,\n",
      "        [-0.9927, -0.3494,  2.1094],\n",
      "        [ 0.2419,  0.6509, -1.2188],\n",
      "        [-1.2490, -0.5835,  2.4746]], device='cuda:0', dtype=torch.float16), hidden_states=None, attentions=None)\n"
     ]
    },
    {
     "name": "stderr",
     "output_type": "stream",
     "text": []
    },
    {
     "name": "stdout",
     "output_type": "stream",
     "text": [
      "output of the model SequenceClassifierOutput(loss=None, logits=tensor([[-0.8833, -1.2549,  2.5312],\n",
      "        [-1.2344, -0.5610,  2.5293],\n",
      "        [-1.4023,  2.1719,  0.0705],\n",
      "        ...,\n",
      "        [-0.9272, -1.0938,  2.6016],\n",
      "        [-1.2900,  0.1008,  2.1309],\n",
      "        [-1.2363,  0.5737,  1.4971]], device='cuda:0', dtype=torch.float16), hidden_states=None, attentions=None)\n"
     ]
    },
    {
     "name": "stderr",
     "output_type": "stream",
     "text": []
    },
    {
     "name": "stdout",
     "output_type": "stream",
     "text": [
      "output of the model SequenceClassifierOutput(loss=None, logits=tensor([[ 0.2368, -1.7344,  1.6270],\n",
      "        [-0.8423, -1.0205,  2.1953],\n",
      "        [-0.3811, -1.6982,  2.3613],\n",
      "        ...,\n",
      "        [-0.9292,  1.0088,  0.2260],\n",
      "        [ 1.9619, -1.8232, -1.4717],\n",
      "        [ 0.4368, -2.4180,  2.1211]], device='cuda:0', dtype=torch.float16), hidden_states=None, attentions=None)\n"
     ]
    },
    {
     "name": "stderr",
     "output_type": "stream",
     "text": []
    },
    {
     "name": "stdout",
     "output_type": "stream",
     "text": [
      "output of the model SequenceClassifierOutput(loss=None, logits=tensor([[-1.7715,  3.0469, -0.9932],\n",
      "        [-1.7285,  2.9785, -0.9263],\n",
      "        [-0.5859,  1.8584, -1.2686],\n",
      "        ...,\n",
      "        [-0.2236, -1.9404,  2.3164],\n",
      "        [ 2.0742, -1.8174, -1.4746],\n",
      "        [-0.6753, -1.0645,  2.4434]], device='cuda:0', dtype=torch.float16), hidden_states=None, attentions=None)\n"
     ]
    },
    {
     "name": "stderr",
     "output_type": "stream",
     "text": []
    },
    {
     "name": "stdout",
     "output_type": "stream",
     "text": [
      "output of the model SequenceClassifierOutput(loss=None, logits=tensor([[-1.6494,  2.8203, -0.9375],\n",
      "        [-1.2598, -0.7729,  2.6445],\n",
      "        [-1.2041,  1.2900,  0.2634],\n",
      "        ...,\n",
      "        [-0.9341, -0.4656,  2.2539],\n",
      "        [-0.3054, -1.7969,  2.4961],\n",
      "        [ 0.3975, -2.3027,  2.0078]], device='cuda:0', dtype=torch.float16), hidden_states=None, attentions=None)\n"
     ]
    },
    {
     "name": "stderr",
     "output_type": "stream",
     "text": []
    },
    {
     "name": "stdout",
     "output_type": "stream",
     "text": [
      "output of the model SequenceClassifierOutput(loss=None, logits=tensor([[ 0.3975, -2.3027,  2.0078],\n",
      "        [-0.5557, -1.2500,  2.3789],\n",
      "        [-0.4495, -0.9326,  1.8027],\n",
      "        ...,\n",
      "        [ 2.1016, -1.8359, -1.5469],\n",
      "        [-0.2947, -1.1533,  1.9590],\n",
      "        [ 0.2952, -2.1719,  2.1621]], device='cuda:0', dtype=torch.float16), hidden_states=None, attentions=None)\n"
     ]
    },
    {
     "name": "stderr",
     "output_type": "stream",
     "text": []
    },
    {
     "name": "stdout",
     "output_type": "stream",
     "text": [
      "output of the model SequenceClassifierOutput(loss=None, logits=tensor([[ 0.6895, -1.3223, -0.0682],\n",
      "        [ 1.6104, -1.7754, -0.4075],\n",
      "        [-1.8896,  2.3359,  0.4099],\n",
      "        ...,\n",
      "        [-0.6401, -1.5059,  2.4043],\n",
      "        [-0.5918, -0.7563,  2.1406],\n",
      "        [-0.9868, -0.5376,  2.2578]], device='cuda:0', dtype=torch.float16), hidden_states=None, attentions=None)\n"
     ]
    },
    {
     "name": "stderr",
     "output_type": "stream",
     "text": []
    },
    {
     "name": "stdout",
     "output_type": "stream",
     "text": [
      "output of the model SequenceClassifierOutput(loss=None, logits=tensor([[ 0.9761, -2.6172,  1.6260],\n",
      "        [-0.4446, -0.9111,  1.9629],\n",
      "        [-0.9116, -1.1348,  2.5078],\n",
      "        ...,\n",
      "        [-0.0381, -0.1442,  0.6357],\n",
      "        [-0.8462, -0.9941,  2.3613],\n",
      "        [ 1.7480, -2.5137,  0.2324]], device='cuda:0', dtype=torch.float16), hidden_states=None, attentions=None)\n"
     ]
    },
    {
     "name": "stderr",
     "output_type": "stream",
     "text": []
    },
    {
     "name": "stdout",
     "output_type": "stream",
     "text": [
      "output of the model SequenceClassifierOutput(loss=None, logits=tensor([[ 1.7480, -2.5137,  0.2324],\n",
      "        [-0.6860, -0.9209,  2.1855],\n",
      "        [-1.2207,  1.3232,  0.9009],\n",
      "        ...,\n",
      "        [ 1.3770, -1.9043, -0.0353],\n",
      "        [ 1.3330, -1.9355,  0.0807],\n",
      "        [-0.2090, -0.9976,  1.5127]], device='cuda:0', dtype=torch.float16), hidden_states=None, attentions=None)\n"
     ]
    },
    {
     "name": "stderr",
     "output_type": "stream",
     "text": []
    },
    {
     "name": "stdout",
     "output_type": "stream",
     "text": [
      "output of the model SequenceClassifierOutput(loss=None, logits=tensor([[-0.8843, -0.6509,  2.4043],\n",
      "        [ 1.4492, -1.9873, -0.0382],\n",
      "        [ 1.4639, -2.0234, -0.0219],\n",
      "        ...,\n",
      "        [-0.4009, -1.5928,  2.4590],\n",
      "        [ 0.5996, -2.4785,  1.9580],\n",
      "        [ 0.3772, -2.4688,  2.1348]], device='cuda:0', dtype=torch.float16), hidden_states=None, attentions=None)\n"
     ]
    },
    {
     "name": "stderr",
     "output_type": "stream",
     "text": []
    },
    {
     "name": "stdout",
     "output_type": "stream",
     "text": [
      "output of the model SequenceClassifierOutput(loss=None, logits=tensor([[-1.1846,  0.9199,  1.0986],\n",
      "        [-0.6699,  0.3342,  0.4866],\n",
      "        [-0.4749,  0.8013, -0.8252],\n",
      "        ...,\n",
      "        [-1.7822,  2.6738, -0.1471],\n",
      "        [-1.7471,  2.6113, -0.1159],\n",
      "        [-1.7471,  2.6113, -0.1159]], device='cuda:0', dtype=torch.float16), hidden_states=None, attentions=None)\n"
     ]
    },
    {
     "name": "stderr",
     "output_type": "stream",
     "text": []
    },
    {
     "name": "stdout",
     "output_type": "stream",
     "text": [
      "output of the model SequenceClassifierOutput(loss=None, logits=tensor([[-1.0283, -0.6250,  2.5039],\n",
      "        [ 0.7661, -0.7842, -1.1914],\n",
      "        [-1.7822,  2.6738, -0.1471],\n",
      "        ...,\n",
      "        [-1.1445, -0.5586,  2.5000],\n",
      "        [-1.8613,  2.8984, -0.5718],\n",
      "        [-0.5781, -1.4912,  2.4395]], device='cuda:0', dtype=torch.float16), hidden_states=None, attentions=None)\n"
     ]
    },
    {
     "name": "stderr",
     "output_type": "stream",
     "text": []
    },
    {
     "name": "stdout",
     "output_type": "stream",
     "text": [
      "output of the model SequenceClassifierOutput(loss=None, logits=tensor([[-0.8467, -0.5430,  2.1777],\n",
      "        [-0.1243, -1.9668,  2.3926],\n",
      "        [-0.0773, -2.0645,  2.2969],\n",
      "        ...,\n",
      "        [-0.3066, -1.2666,  2.0332],\n",
      "        [-1.5273,  2.3066, -0.2795],\n",
      "        [-1.1250, -0.2307,  2.2070]], device='cuda:0', dtype=torch.float16), hidden_states=None, attentions=None)\n"
     ]
    },
    {
     "name": "stderr",
     "output_type": "stream",
     "text": []
    },
    {
     "name": "stdout",
     "output_type": "stream",
     "text": [
      "output of the model SequenceClassifierOutput(loss=None, logits=tensor([[-0.3918, -1.5264,  2.3320],\n",
      "        [-0.1952, -2.0293,  2.2832],\n",
      "        [-0.2979, -1.9141,  2.2617],\n",
      "        ...,\n",
      "        [ 0.0292, -1.8799,  2.1562],\n",
      "        [-0.1782,  0.2035,  0.2213],\n",
      "        [-1.3906,  0.8081,  1.5391]], device='cuda:0', dtype=torch.float16), hidden_states=None, attentions=None)\n"
     ]
    },
    {
     "name": "stderr",
     "output_type": "stream",
     "text": []
    },
    {
     "name": "stdout",
     "output_type": "stream",
     "text": [
      "output of the model SequenceClassifierOutput(loss=None, logits=tensor([[-0.7935,  0.5981,  0.1525],\n",
      "        [-1.0107,  1.0127,  0.2793],\n",
      "        [-0.1267, -1.6152,  2.2656],\n",
      "        ...,\n",
      "        [-1.4473,  2.3535, -0.6460],\n",
      "        [-1.5127,  1.3135,  1.2393],\n",
      "        [ 1.9180, -1.9756, -0.9316]], device='cuda:0', dtype=torch.float16), hidden_states=None, attentions=None)\n"
     ]
    },
    {
     "name": "stderr",
     "output_type": "stream",
     "text": []
    },
    {
     "name": "stdout",
     "output_type": "stream",
     "text": [
      "output of the model SequenceClassifierOutput(loss=None, logits=tensor([[-0.0803, -1.8906,  2.2383],\n",
      "        [-0.3047, -1.6338,  2.4941],\n",
      "        [-1.7422,  1.9580,  0.6367],\n",
      "        ...,\n",
      "        [-1.5615,  1.6162,  0.9346],\n",
      "        [-1.7783,  2.8965, -0.8389],\n",
      "        [-1.3662, -0.2856,  2.4922]], device='cuda:0', dtype=torch.float16), hidden_states=None, attentions=None)\n"
     ]
    },
    {
     "name": "stderr",
     "output_type": "stream",
     "text": []
    },
    {
     "name": "stdout",
     "output_type": "stream",
     "text": [
      "output of the model SequenceClassifierOutput(loss=None, logits=tensor([[-1.5850,  2.2598,  0.1373],\n",
      "        [-1.6162,  2.3145,  0.1698],\n",
      "        [ 0.8818, -0.8223, -0.7075],\n",
      "        ...,\n",
      "        [-0.0746, -0.5635,  0.3730],\n",
      "        [-0.3547,  0.7583, -0.8887],\n",
      "        [-0.2610, -0.8677,  1.7256]], device='cuda:0', dtype=torch.float16), hidden_states=None, attentions=None)\n"
     ]
    },
    {
     "name": "stderr",
     "output_type": "stream",
     "text": []
    },
    {
     "name": "stdout",
     "output_type": "stream",
     "text": [
      "output of the model SequenceClassifierOutput(loss=None, logits=tensor([[-1.2334, -0.3433,  2.1367],\n",
      "        [-1.5117,  0.3503,  2.0273],\n",
      "        [-1.5869,  1.4863,  0.9268],\n",
      "        ...,\n",
      "        [ 0.2086,  0.3027, -1.3584],\n",
      "        [-1.4893,  0.3894,  1.9922],\n",
      "        [ 0.5532, -1.2197,  0.6392]], device='cuda:0', dtype=torch.float16), hidden_states=None, attentions=None)\n"
     ]
    },
    {
     "name": "stderr",
     "output_type": "stream",
     "text": []
    },
    {
     "name": "stdout",
     "output_type": "stream",
     "text": [
      "output of the model SequenceClassifierOutput(loss=None, logits=tensor([[ 1.9229, -2.4062, -0.5649],\n",
      "        [-1.3047,  1.7725,  0.1056],\n",
      "        [-0.4197, -0.3127,  0.0956],\n",
      "        ...,\n",
      "        [-1.2900, -0.4048,  2.4648],\n",
      "        [ 0.3816, -1.8154,  1.3574],\n",
      "        [ 0.3816, -1.8154,  1.3574]], device='cuda:0', dtype=torch.float16), hidden_states=None, attentions=None)\n"
     ]
    },
    {
     "name": "stderr",
     "output_type": "stream",
     "text": []
    },
    {
     "name": "stdout",
     "output_type": "stream",
     "text": [
      "output of the model SequenceClassifierOutput(loss=None, logits=tensor([[-0.4607,  1.7607, -1.6133],\n",
      "        [-0.1860, -1.5469,  1.9287],\n",
      "        [-1.2920, -0.3772,  2.4531],\n",
      "        ...,\n",
      "        [-0.9565,  0.0928,  1.7002],\n",
      "        [-0.5449, -0.6021,  1.8066],\n",
      "        [-0.8540, -0.3091,  1.9365]], device='cuda:0', dtype=torch.float16), hidden_states=None, attentions=None)\n"
     ]
    },
    {
     "name": "stderr",
     "output_type": "stream",
     "text": []
    },
    {
     "name": "stdout",
     "output_type": "stream",
     "text": [
      "output of the model SequenceClassifierOutput(loss=None, logits=tensor([[ 0.0161, -0.5591,  1.3428],\n",
      "        [-0.6328, -0.7803,  1.9414],\n",
      "        [-0.7539, -1.3574,  2.6113],\n",
      "        ...,\n",
      "        [-0.8560, -0.9658,  2.4219],\n",
      "        [-0.8589, -0.6963,  2.2617],\n",
      "        [-0.3237, -0.8081,  1.6787]], device='cuda:0', dtype=torch.float16), hidden_states=None, attentions=None)\n"
     ]
    },
    {
     "name": "stderr",
     "output_type": "stream",
     "text": []
    },
    {
     "name": "stdout",
     "output_type": "stream",
     "text": [
      "output of the model SequenceClassifierOutput(loss=None, logits=tensor([[-0.7280, -1.0479,  2.3594],\n",
      "        [ 1.8457, -2.0547, -1.2070],\n",
      "        [-1.1572,  0.9927,  0.5845],\n",
      "        ...,\n",
      "        [-1.2285,  0.3889,  1.6416],\n",
      "        [-1.3730,  0.1376,  2.2266],\n",
      "        [ 1.9014, -0.9312, -1.8945]], device='cuda:0', dtype=torch.float16), hidden_states=None, attentions=None)\n"
     ]
    },
    {
     "name": "stderr",
     "output_type": "stream",
     "text": []
    },
    {
     "name": "stdout",
     "output_type": "stream",
     "text": [
      "output of the model SequenceClassifierOutput(loss=None, logits=tensor([[ 0.5449, -0.3975, -0.8979],\n",
      "        [ 1.9307, -2.3906, -0.4563],\n",
      "        [-1.3457, -0.3464,  2.5312],\n",
      "        ...,\n",
      "        [-1.8467,  2.0742,  0.9209],\n",
      "        [-1.5107, -0.0315,  2.4238],\n",
      "        [-1.3320, -0.3345,  2.4922]], device='cuda:0', dtype=torch.float16), hidden_states=None, attentions=None)\n"
     ]
    },
    {
     "name": "stderr",
     "output_type": "stream",
     "text": []
    },
    {
     "name": "stdout",
     "output_type": "stream",
     "text": [
      "output of the model SequenceClassifierOutput(loss=None, logits=tensor([[-1.2949, -0.5552,  2.5566],\n",
      "        [-0.5962, -1.2705,  2.1719],\n",
      "        [-1.3955,  2.4043, -0.7002],\n",
      "        ...,\n",
      "        [ 1.0586, -0.8877, -0.2913],\n",
      "        [ 0.5952,  0.2284, -1.6133],\n",
      "        [ 0.1945, -0.9614,  0.8945]], device='cuda:0', dtype=torch.float16), hidden_states=None, attentions=None)\n"
     ]
    },
    {
     "name": "stderr",
     "output_type": "stream",
     "text": []
    },
    {
     "name": "stdout",
     "output_type": "stream",
     "text": [
      "output of the model SequenceClassifierOutput(loss=None, logits=tensor([[-0.8911, -1.1924,  2.5195],\n",
      "        [-1.7314,  3.0234, -0.9487],\n",
      "        [-1.5342,  2.8281, -1.2617],\n",
      "        ...,\n",
      "        [-1.6562,  2.5137, -0.0473],\n",
      "        [-0.6831, -0.2852,  1.7666],\n",
      "        [ 0.4395, -1.5947,  0.4292]], device='cuda:0', dtype=torch.float16), hidden_states=None, attentions=None)\n"
     ]
    },
    {
     "name": "stderr",
     "output_type": "stream",
     "text": []
    },
    {
     "name": "stdout",
     "output_type": "stream",
     "text": [
      "output of the model SequenceClassifierOutput(loss=None, logits=tensor([[ 0.3091, -0.4182,  0.0958],\n",
      "        [-0.2389, -1.5723,  2.2695],\n",
      "        [ 0.4812, -0.4705, -0.0740],\n",
      "        ...,\n",
      "        [-0.0807, -1.9766,  2.4023],\n",
      "        [ 0.0263, -2.1836,  2.2480],\n",
      "        [-1.0664, -0.4617,  2.1953]], device='cuda:0', dtype=torch.float16), hidden_states=None, attentions=None)\n"
     ]
    },
    {
     "name": "stderr",
     "output_type": "stream",
     "text": []
    },
    {
     "name": "stdout",
     "output_type": "stream",
     "text": [
      "output of the model SequenceClassifierOutput(loss=None, logits=tensor([[-0.1981, -1.9170,  2.3906],\n",
      "        [-0.1284, -1.9893,  2.3535],\n",
      "        [-1.7031,  2.5371, -0.2477],\n",
      "        ...,\n",
      "        [ 1.6738, -1.2471, -1.4902],\n",
      "        [ 1.8643, -1.3457, -1.6250],\n",
      "        [ 1.9102, -1.5947, -1.5186]], device='cuda:0', dtype=torch.float16), hidden_states=None, attentions=None)\n"
     ]
    },
    {
     "name": "stderr",
     "output_type": "stream",
     "text": []
    },
    {
     "name": "stdout",
     "output_type": "stream",
     "text": [
      "output of the model SequenceClassifierOutput(loss=None, logits=tensor([[-0.5186, -0.4963,  1.4941],\n",
      "        [ 1.6807, -1.6963, -1.2764],\n",
      "        [-0.3188,  0.1509,  0.3462],\n",
      "        ...,\n",
      "        [-1.6084,  0.3364,  2.3105],\n",
      "        [ 0.2013, -1.0361,  0.7173],\n",
      "        [-0.5156, -0.9756,  1.7559]], device='cuda:0', dtype=torch.float16), hidden_states=None, attentions=None)\n"
     ]
    },
    {
     "name": "stderr",
     "output_type": "stream",
     "text": []
    },
    {
     "name": "stdout",
     "output_type": "stream",
     "text": [
      "output of the model SequenceClassifierOutput(loss=None, logits=tensor([[ 1.3984, -2.4961,  0.0078],\n",
      "        [-0.9565, -0.9429,  2.3789],\n",
      "        [ 1.1611, -2.5273,  0.7178],\n",
      "        ...,\n",
      "        [ 1.0615, -1.7803,  0.4153],\n",
      "        [-1.6865,  1.8193,  1.0820],\n",
      "        [-0.9238, -0.8267,  2.5742]], device='cuda:0', dtype=torch.float16), hidden_states=None, attentions=None)\n"
     ]
    },
    {
     "name": "stderr",
     "output_type": "stream",
     "text": []
    },
    {
     "name": "stdout",
     "output_type": "stream",
     "text": [
      "output of the model SequenceClassifierOutput(loss=None, logits=tensor([[ 1.3125, -1.9717,  0.1880],\n",
      "        [-1.2363,  2.1777, -0.6343],\n",
      "        [ 1.1719, -2.2871,  1.0156],\n",
      "        ...,\n",
      "        [ 0.2776,  0.3506, -1.5020],\n",
      "        [ 1.4697, -2.3379,  0.2695],\n",
      "        [ 0.5137,  0.1052, -0.9058]], device='cuda:0', dtype=torch.float16), hidden_states=None, attentions=None)\n"
     ]
    },
    {
     "name": "stderr",
     "output_type": "stream",
     "text": []
    },
    {
     "name": "stdout",
     "output_type": "stream",
     "text": [
      "output of the model SequenceClassifierOutput(loss=None, logits=tensor([[ 2.0371, -1.6416, -1.6299],\n",
      "        [-1.4424,  0.1892,  2.0859],\n",
      "        [-1.6836,  2.4824, -0.1103],\n",
      "        ...,\n",
      "        [ 1.8369, -1.8125, -1.3125],\n",
      "        [ 1.8096, -1.2061, -1.6016],\n",
      "        [ 1.4443, -1.1064, -1.4883]], device='cuda:0', dtype=torch.float16), hidden_states=None, attentions=None)\n"
     ]
    },
    {
     "name": "stderr",
     "output_type": "stream",
     "text": []
    },
    {
     "name": "stdout",
     "output_type": "stream",
     "text": [
      "output of the model SequenceClassifierOutput(loss=None, logits=tensor([[ 1.0332, -1.6143, -0.3572],\n",
      "        [-1.7354,  1.2539,  1.5801],\n",
      "        [ 0.3198, -1.4795,  1.2334],\n",
      "        ...,\n",
      "        [ 0.0670, -2.0977,  2.1504],\n",
      "        [ 0.5215, -1.1357,  0.1395],\n",
      "        [ 0.0987, -2.1797,  2.1973]], device='cuda:0', dtype=torch.float16), hidden_states=None, attentions=None)\n"
     ]
    },
    {
     "name": "stderr",
     "output_type": "stream",
     "text": []
    },
    {
     "name": "stdout",
     "output_type": "stream",
     "text": [
      "output of the model SequenceClassifierOutput(loss=None, logits=tensor([[ 1.9365, -2.3438, -0.5830],\n",
      "        [ 1.9199, -2.3672, -0.5439],\n",
      "        [-1.2500, -0.5688,  2.5664],\n",
      "        ...,\n",
      "        [ 1.6709, -2.4004,  0.2971],\n",
      "        [ 1.6709, -2.4004,  0.2971],\n",
      "        [-0.9482, -0.6724,  2.3242]], device='cuda:0', dtype=torch.float16), hidden_states=None, attentions=None)\n"
     ]
    },
    {
     "name": "stderr",
     "output_type": "stream",
     "text": []
    },
    {
     "name": "stdout",
     "output_type": "stream",
     "text": [
      "output of the model SequenceClassifierOutput(loss=None, logits=tensor([[ 1.6709, -2.4004,  0.2971],\n",
      "        [ 0.3496, -2.0566,  2.0000],\n",
      "        [-0.9883, -0.6387,  2.3359],\n",
      "        ...,\n",
      "        [-0.5596, -0.2340,  1.1592],\n",
      "        [-1.4033, -0.1231,  2.3906],\n",
      "        [ 1.5186, -2.2656, -0.1545]], device='cuda:0', dtype=torch.float16), hidden_states=None, attentions=None)\n"
     ]
    },
    {
     "name": "stderr",
     "output_type": "stream",
     "text": []
    },
    {
     "name": "stdout",
     "output_type": "stream",
     "text": [
      "output of the model SequenceClassifierOutput(loss=None, logits=tensor([[ 1.2529, -2.4434,  0.7021],\n",
      "        [ 0.0939, -2.1074,  1.9043],\n",
      "        [ 0.0803, -1.0059,  1.0859],\n",
      "        ...,\n",
      "        [ 0.5649, -2.6367,  2.0918],\n",
      "        [ 0.6489, -2.6484,  1.8438],\n",
      "        [ 2.0527, -1.8223, -1.5117]], device='cuda:0', dtype=torch.float16), hidden_states=None, attentions=None)\n"
     ]
    },
    {
     "name": "stderr",
     "output_type": "stream",
     "text": []
    },
    {
     "name": "stdout",
     "output_type": "stream",
     "text": [
      "output of the model SequenceClassifierOutput(loss=None, logits=tensor([[ 1.9971, -2.1953, -1.0156],\n",
      "        [-1.5654,  1.7314,  0.7769],\n",
      "        [ 1.7305, -0.7104, -1.9482],\n",
      "        ...,\n",
      "        [-1.5342,  2.8184, -1.0850],\n",
      "        [-1.4346,  2.8105, -1.2148],\n",
      "        [-0.1705,  0.2184, -0.3792]], device='cuda:0', dtype=torch.float16), hidden_states=None, attentions=None)\n"
     ]
    },
    {
     "name": "stderr",
     "output_type": "stream",
     "text": []
    },
    {
     "name": "stdout",
     "output_type": "stream",
     "text": [
      "output of the model SequenceClassifierOutput(loss=None, logits=tensor([[-1.6240,  2.9355, -1.1094],\n",
      "        [-1.4463,  0.1909,  2.1230],\n",
      "        [ 0.5894, -0.9854, -0.3240],\n",
      "        ...,\n",
      "        [-1.8574,  2.9082, -0.6143],\n",
      "        [-1.7412,  1.6895,  0.9648],\n",
      "        [-0.9536, -0.3452,  1.9609]], device='cuda:0', dtype=torch.float16), hidden_states=None, attentions=None)\n"
     ]
    },
    {
     "name": "stderr",
     "output_type": "stream",
     "text": []
    },
    {
     "name": "stdout",
     "output_type": "stream",
     "text": [
      "output of the model SequenceClassifierOutput(loss=None, logits=tensor([[-0.6455, -0.7246,  1.9268],\n",
      "        [ 0.7163, -0.4375, -1.1553],\n",
      "        [-0.8467, -0.5430,  2.1777],\n",
      "        ...,\n",
      "        [ 1.9238, -1.7432, -1.3926],\n",
      "        [-0.5977, -1.2959,  2.4961],\n",
      "        [-0.8418, -0.7280,  2.1836]], device='cuda:0', dtype=torch.float16), hidden_states=None, attentions=None)\n"
     ]
    },
    {
     "name": "stderr",
     "output_type": "stream",
     "text": []
    },
    {
     "name": "stdout",
     "output_type": "stream",
     "text": [
      "output of the model SequenceClassifierOutput(loss=None, logits=tensor([[-0.8345,  0.1876,  1.0908],\n",
      "        [ 1.0840, -2.7422,  1.6533],\n",
      "        [ 1.6797, -1.5234, -1.2695],\n",
      "        ...,\n",
      "        [-0.4656, -0.5386,  1.3340],\n",
      "        [ 0.4993, -2.4863,  2.1152],\n",
      "        [ 1.8545, -2.0117, -0.6758]], device='cuda:0', dtype=torch.float16), hidden_states=None, attentions=None)\n"
     ]
    },
    {
     "name": "stderr",
     "output_type": "stream",
     "text": []
    },
    {
     "name": "stdout",
     "output_type": "stream",
     "text": [
      "output of the model SequenceClassifierOutput(loss=None, logits=tensor([[ 1.2969, -2.0000,  0.1636],\n",
      "        [ 1.8818, -1.4746, -1.4629],\n",
      "        [ 1.3740, -1.7568, -0.0352],\n",
      "        ...,\n",
      "        [-1.1865,  0.2571,  1.9473],\n",
      "        [ 1.8350, -2.0039, -1.0801],\n",
      "        [-0.3313, -0.8823,  1.5439]], device='cuda:0', dtype=torch.float16), hidden_states=None, attentions=None)\n"
     ]
    },
    {
     "name": "stderr",
     "output_type": "stream",
     "text": []
    },
    {
     "name": "stdout",
     "output_type": "stream",
     "text": [
      "output of the model SequenceClassifierOutput(loss=None, logits=tensor([[-0.8862,  0.5234,  0.8105],\n",
      "        [ 2.0977, -1.6807, -1.6865],\n",
      "        [-0.2051,  0.7285, -1.0137],\n",
      "        ...,\n",
      "        [-1.5762,  0.3789,  2.3125],\n",
      "        [ 1.2793, -1.2227, -1.3564],\n",
      "        [-1.2881, -0.2191,  2.1445]], device='cuda:0', dtype=torch.float16), hidden_states=None, attentions=None)\n"
     ]
    },
    {
     "name": "stderr",
     "output_type": "stream",
     "text": []
    },
    {
     "name": "stdout",
     "output_type": "stream",
     "text": [
      "output of the model SequenceClassifierOutput(loss=None, logits=tensor([[ 1.1094, -1.0547, -1.1748],\n",
      "        [-1.3701, -0.2072,  2.3359],\n",
      "        [ 0.3440, -1.5947,  1.7109],\n",
      "        ...,\n",
      "        [ 0.8384,  0.3660, -2.0742],\n",
      "        [-1.5674,  0.5127,  1.9434],\n",
      "        [ 0.1853, -2.1953,  2.1934]], device='cuda:0', dtype=torch.float16), hidden_states=None, attentions=None)\n"
     ]
    },
    {
     "name": "stderr",
     "output_type": "stream",
     "text": []
    },
    {
     "name": "stdout",
     "output_type": "stream",
     "text": [
      "output of the model SequenceClassifierOutput(loss=None, logits=tensor([[ 0.1853, -2.1953,  2.1934],\n",
      "        [-1.0234, -0.7310,  2.4883],\n",
      "        [-1.0234, -0.7310,  2.4883],\n",
      "        ...,\n",
      "        [ 0.0306,  0.3523, -1.2217],\n",
      "        [-0.7358,  0.3066,  0.6621],\n",
      "        [-1.4893,  0.3103,  2.0625]], device='cuda:0', dtype=torch.float16), hidden_states=None, attentions=None)\n"
     ]
    },
    {
     "name": "stderr",
     "output_type": "stream",
     "text": []
    },
    {
     "name": "stdout",
     "output_type": "stream",
     "text": [
      "output of the model SequenceClassifierOutput(loss=None, logits=tensor([[-0.6143, -1.2793,  2.5137],\n",
      "        [-0.1221, -1.8594,  2.3477],\n",
      "        [-0.4885, -0.3242,  1.4473],\n",
      "        ...,\n",
      "        [-1.7021,  1.5420,  1.1162],\n",
      "        [-1.4277, -0.1195,  2.4199],\n",
      "        [-1.0312, -0.5171,  2.2812]], device='cuda:0', dtype=torch.float16), hidden_states=None, attentions=None)\n"
     ]
    },
    {
     "name": "stderr",
     "output_type": "stream",
     "text": []
    },
    {
     "name": "stdout",
     "output_type": "stream",
     "text": [
      "output of the model SequenceClassifierOutput(loss=None, logits=tensor([[-1.8076,  2.7578, -0.6846],\n",
      "        [-1.2246,  2.2754, -0.8232],\n",
      "        [-0.1395,  1.1240, -1.4189],\n",
      "        ...,\n",
      "        [-0.6094, -1.0938,  2.2148],\n",
      "        [-1.2920,  2.1211, -0.4133],\n",
      "        [ 1.1172, -2.2383,  0.9878]], device='cuda:0', dtype=torch.float16), hidden_states=None, attentions=None)\n"
     ]
    },
    {
     "name": "stderr",
     "output_type": "stream",
     "text": []
    },
    {
     "name": "stdout",
     "output_type": "stream",
     "text": [
      "output of the model SequenceClassifierOutput(loss=None, logits=tensor([[ 1.8057, -2.5215, -0.4939],\n",
      "        [ 0.1914, -2.0469,  1.8691],\n",
      "        [ 0.9814, -1.5615, -0.0459],\n",
      "        ...,\n",
      "        [ 0.8608, -2.3945,  1.3496],\n",
      "        [-0.2415, -1.1553,  2.0020],\n",
      "        [-0.1580,  0.3657, -0.4524]], device='cuda:0', dtype=torch.float16), hidden_states=None, attentions=None)\n"
     ]
    },
    {
     "name": "stderr",
     "output_type": "stream",
     "text": []
    },
    {
     "name": "stdout",
     "output_type": "stream",
     "text": [
      "output of the model SequenceClassifierOutput(loss=None, logits=tensor([[-0.2654, -1.8945,  2.3516],\n",
      "        [-0.7769,  1.2891, -0.6172],\n",
      "        [ 0.6606, -0.3372, -1.2246],\n",
      "        ...,\n",
      "        [ 0.0143, -1.7178,  2.0508],\n",
      "        [-1.5254,  2.7910, -1.0303],\n",
      "        [ 0.1440, -1.7041,  1.7148]], device='cuda:0', dtype=torch.float16), hidden_states=None, attentions=None)\n"
     ]
    },
    {
     "name": "stderr",
     "output_type": "stream",
     "text": []
    },
    {
     "name": "stdout",
     "output_type": "stream",
     "text": [
      "output of the model SequenceClassifierOutput(loss=None, logits=tensor([[-1.0908,  0.3994,  1.2715],\n",
      "        [ 1.3740, -0.8486, -1.4297],\n",
      "        [-0.0366, -2.0195,  2.1074],\n",
      "        ...,\n",
      "        [ 0.4417, -2.4961,  2.0098],\n",
      "        [ 0.0070, -2.1660,  2.2246],\n",
      "        [-0.3059, -1.6592,  2.1582]], device='cuda:0', dtype=torch.float16), hidden_states=None, attentions=None)\n"
     ]
    },
    {
     "name": "stderr",
     "output_type": "stream",
     "text": []
    },
    {
     "name": "stdout",
     "output_type": "stream",
     "text": [
      "output of the model SequenceClassifierOutput(loss=None, logits=tensor([[ 0.8569, -0.7188, -0.5234],\n",
      "        [ 1.1074, -1.5605,  0.4712],\n",
      "        [ 1.6484, -1.5137, -1.3311],\n",
      "        ...,\n",
      "        [-0.3850, -1.6738,  2.2871],\n",
      "        [-1.6318,  1.4678,  1.0439],\n",
      "        [ 0.6172, -2.2207,  1.6699]], device='cuda:0', dtype=torch.float16), hidden_states=None, attentions=None)\n"
     ]
    },
    {
     "name": "stderr",
     "output_type": "stream",
     "text": []
    },
    {
     "name": "stdout",
     "output_type": "stream",
     "text": [
      "output of the model SequenceClassifierOutput(loss=None, logits=tensor([[-1.6953,  2.9902, -0.9863],\n",
      "        [-1.1143, -0.6074,  2.5410],\n",
      "        [-1.7822,  2.6738, -0.1471],\n",
      "        ...,\n",
      "        [ 1.8242, -2.3828, -0.3865],\n",
      "        [-1.7432,  2.9629, -0.9932],\n",
      "        [ 1.8350, -1.4326, -1.4785]], device='cuda:0', dtype=torch.float16), hidden_states=None, attentions=None)\n"
     ]
    },
    {
     "name": "stderr",
     "output_type": "stream",
     "text": []
    },
    {
     "name": "stdout",
     "output_type": "stream",
     "text": [
      "output of the model SequenceClassifierOutput(loss=None, logits=tensor([[ 0.3684, -0.4141, -0.4854],\n",
      "        [-1.4727,  0.1099,  2.1543],\n",
      "        [ 0.8779, -0.4856, -0.9761],\n",
      "        ...,\n",
      "        [-1.4121,  1.3125,  1.0303],\n",
      "        [-1.2588,  1.9316, -0.3511],\n",
      "        [ 2.0645, -1.5889, -1.6631]], device='cuda:0', dtype=torch.float16), hidden_states=None, attentions=None)\n"
     ]
    },
    {
     "name": "stderr",
     "output_type": "stream",
     "text": []
    },
    {
     "name": "stdout",
     "output_type": "stream",
     "text": [
      "output of the model SequenceClassifierOutput(loss=None, logits=tensor([[-0.6470, -1.0410,  2.4375],\n",
      "        [-1.0176,  2.1484, -1.2109],\n",
      "        [ 1.9160, -1.6807, -1.5059],\n",
      "        ...,\n",
      "        [ 1.6553, -1.6162, -1.0977],\n",
      "        [ 1.2314, -2.6953,  1.2207],\n",
      "        [-0.7109,  0.1359,  0.9272]], device='cuda:0', dtype=torch.float16), hidden_states=None, attentions=None)\n"
     ]
    },
    {
     "name": "stderr",
     "output_type": "stream",
     "text": []
    },
    {
     "name": "stdout",
     "output_type": "stream",
     "text": [
      "output of the model SequenceClassifierOutput(loss=None, logits=tensor([[-0.7905, -1.3838,  2.5840],\n",
      "        [ 0.0230, -0.0755,  0.2115],\n",
      "        [ 1.4580, -2.7148,  0.6782],\n",
      "        ...,\n",
      "        [-0.2448,  0.9150, -0.9873],\n",
      "        [-0.9048,  1.9629, -0.8345],\n",
      "        [ 0.1011, -1.9795,  2.1094]], device='cuda:0', dtype=torch.float16), hidden_states=None, attentions=None)\n"
     ]
    },
    {
     "name": "stderr",
     "output_type": "stream",
     "text": []
    },
    {
     "name": "stdout",
     "output_type": "stream",
     "text": [
      "output of the model SequenceClassifierOutput(loss=None, logits=tensor([[-0.1088,  0.4033, -0.4934],\n",
      "        [ 2.0371, -1.5508, -1.6689],\n",
      "        [ 1.5039, -1.0088, -1.5742],\n",
      "        ...,\n",
      "        [-0.9434, -0.8105,  2.4336],\n",
      "        [-1.4482,  0.1420,  2.1641],\n",
      "        [ 1.9990, -1.4443, -1.7051]], device='cuda:0', dtype=torch.float16), hidden_states=None, attentions=None)\n"
     ]
    },
    {
     "name": "stderr",
     "output_type": "stream",
     "text": []
    },
    {
     "name": "stdout",
     "output_type": "stream",
     "text": [
      "output of the model SequenceClassifierOutput(loss=None, logits=tensor([[-0.8115,  0.2289,  0.5713],\n",
      "        [-0.4907,  1.8047, -1.7363],\n",
      "        [-1.3076,  2.0117, -0.2786],\n",
      "        ...,\n",
      "        [ 0.1154, -1.2822,  1.2666],\n",
      "        [-0.6948,  0.3735,  0.5840],\n",
      "        [-1.3066,  2.3926, -0.9937]], device='cuda:0', dtype=torch.float16), hidden_states=None, attentions=None)\n"
     ]
    },
    {
     "name": "stderr",
     "output_type": "stream",
     "text": []
    },
    {
     "name": "stdout",
     "output_type": "stream",
     "text": [
      "output of the model SequenceClassifierOutput(loss=None, logits=tensor([[-0.2471, -0.9043,  1.3906],\n",
      "        [-1.1787, -0.4417,  2.1953],\n",
      "        [-1.4814,  0.2346,  2.1113],\n",
      "        ...,\n",
      "        [ 0.5054, -1.4297,  0.1632],\n",
      "        [ 0.2751, -1.4658,  0.9248],\n",
      "        [-1.4121,  1.3125,  1.0303]], device='cuda:0', dtype=torch.float16), hidden_states=None, attentions=None)\n"
     ]
    },
    {
     "name": "stderr",
     "output_type": "stream",
     "text": []
    },
    {
     "name": "stdout",
     "output_type": "stream",
     "text": [
      "output of the model SequenceClassifierOutput(loss=None, logits=tensor([[-1.6504,  1.6240,  1.0762],\n",
      "        [-1.3086,  1.9277, -0.2097],\n",
      "        [-0.6567, -1.0635,  2.3047],\n",
      "        ...,\n",
      "        [-1.2822, -0.3899,  2.4570],\n",
      "        [ 1.7500, -2.0020, -1.1445],\n",
      "        [-1.0791, -0.8706,  2.5898]], device='cuda:0', dtype=torch.float16), hidden_states=None, attentions=None)\n"
     ]
    },
    {
     "name": "stderr",
     "output_type": "stream",
     "text": []
    },
    {
     "name": "stdout",
     "output_type": "stream",
     "text": [
      "output of the model SequenceClassifierOutput(loss=None, logits=tensor([[-1.6582,  0.8916,  1.7334],\n",
      "        [ 0.0617, -2.0781,  1.9268],\n",
      "        [-0.9819, -1.0879,  2.5898],\n",
      "        ...,\n",
      "        [ 1.6475, -2.3730,  0.2482],\n",
      "        [-0.9819, -0.9116,  2.4141],\n",
      "        [ 0.1689, -1.9434,  2.0645]], device='cuda:0', dtype=torch.float16), hidden_states=None, attentions=None)\n"
     ]
    },
    {
     "name": "stderr",
     "output_type": "stream",
     "text": []
    },
    {
     "name": "stdout",
     "output_type": "stream",
     "text": [
      "output of the model SequenceClassifierOutput(loss=None, logits=tensor([[-0.0789, -1.3525,  1.6895],\n",
      "        [-1.4443, -0.0287,  2.0078],\n",
      "        [-1.5811,  1.4561,  1.3857],\n",
      "        ...,\n",
      "        [ 0.9111, -0.8896, -0.2499],\n",
      "        [-0.9399,  0.0840,  1.7354],\n",
      "        [-1.3770, -0.0594,  2.3398]], device='cuda:0', dtype=torch.float16), hidden_states=None, attentions=None)\n"
     ]
    },
    {
     "name": "stderr",
     "output_type": "stream",
     "text": [
      "Processing batches (chunk 12): 100%|██████████| 98/98 [00:35<00:00,  2.75it/s]\n",
      "Processing chunks:   9%|▉         | 12/131 [07:02<1:09:46, 35.18s/it]"
     ]
    },
    {
     "name": "stdout",
     "output_type": "stream",
     "text": [
      "output of the model SequenceClassifierOutput(loss=None, logits=tensor([[ 1.5449, -1.4961, -1.0840],\n",
      "        [-1.0361, -0.6147,  2.1777],\n",
      "        [ 0.0225, -0.4492,  0.8457],\n",
      "        ...,\n",
      "        [ 0.0024, -1.7686,  1.8848],\n",
      "        [ 0.1476, -1.6211,  1.8486],\n",
      "        [ 1.3662, -0.8652, -0.7847]], device='cuda:0', dtype=torch.float16), hidden_states=None, attentions=None)\n"
     ]
    },
    {
     "name": "stderr",
     "output_type": "stream",
     "text": []
    },
    {
     "name": "stdout",
     "output_type": "stream",
     "text": [
      "output of the model SequenceClassifierOutput(loss=None, logits=tensor([[-0.6768,  1.5820, -1.0615],\n",
      "        [-1.0869, -0.7290,  2.3340],\n",
      "        [-0.8408,  2.4023, -1.7285],\n",
      "        ...,\n",
      "        [-0.4597,  2.1211, -2.0410],\n",
      "        [ 0.3142, -2.1055,  1.9375],\n",
      "        [ 1.5771, -2.6328,  0.4062]], device='cuda:0', dtype=torch.float16), hidden_states=None, attentions=None)\n"
     ]
    },
    {
     "name": "stderr",
     "output_type": "stream",
     "text": []
    },
    {
     "name": "stdout",
     "output_type": "stream",
     "text": [
      "output of the model SequenceClassifierOutput(loss=None, logits=tensor([[ 1.6875, -2.4199,  0.2250],\n",
      "        [ 1.8467, -2.1484, -0.8535],\n",
      "        [ 1.7812, -1.2793, -1.7402],\n",
      "        ...,\n",
      "        [ 0.3691,  0.0411, -1.4258],\n",
      "        [ 1.1533, -2.7344,  1.4658],\n",
      "        [ 0.1290, -2.3672,  2.3262]], device='cuda:0', dtype=torch.float16), hidden_states=None, attentions=None)\n"
     ]
    },
    {
     "name": "stderr",
     "output_type": "stream",
     "text": []
    },
    {
     "name": "stdout",
     "output_type": "stream",
     "text": [
      "output of the model SequenceClassifierOutput(loss=None, logits=tensor([[ 1.7451, -2.5898,  0.0349],\n",
      "        [ 1.6943, -2.4219, -0.2123],\n",
      "        [-1.5000,  0.2803,  2.0898],\n",
      "        ...,\n",
      "        [-1.4873,  0.3501,  2.0469],\n",
      "        [-1.5840,  1.4414,  1.0137],\n",
      "        [-0.9492, -0.5762,  2.4492]], device='cuda:0', dtype=torch.float16), hidden_states=None, attentions=None)\n"
     ]
    },
    {
     "name": "stderr",
     "output_type": "stream",
     "text": []
    },
    {
     "name": "stdout",
     "output_type": "stream",
     "text": [
      "output of the model SequenceClassifierOutput(loss=None, logits=tensor([[ 1.8486, -0.8965, -1.9395],\n",
      "        [ 1.8750, -2.5527, -0.4263],\n",
      "        [ 2.0059, -1.6514, -1.5762],\n",
      "        ...,\n",
      "        [-0.1659, -2.0254,  2.4180],\n",
      "        [-1.6289,  1.5137,  1.0439],\n",
      "        [ 0.3367, -2.4531,  2.1055]], device='cuda:0', dtype=torch.float16), hidden_states=None, attentions=None)\n"
     ]
    },
    {
     "name": "stderr",
     "output_type": "stream",
     "text": []
    },
    {
     "name": "stdout",
     "output_type": "stream",
     "text": [
      "output of the model SequenceClassifierOutput(loss=None, logits=tensor([[ 0.3032, -0.6880, -0.3770],\n",
      "        [-0.0890, -1.9004,  1.9971],\n",
      "        [ 1.7002, -1.3301, -1.3994],\n",
      "        ...,\n",
      "        [ 1.6025, -2.2383, -0.4863],\n",
      "        [ 2.0488, -2.2559, -1.0547],\n",
      "        [ 1.9189, -2.6445, -0.5142]], device='cuda:0', dtype=torch.float16), hidden_states=None, attentions=None)\n"
     ]
    },
    {
     "name": "stderr",
     "output_type": "stream",
     "text": []
    },
    {
     "name": "stdout",
     "output_type": "stream",
     "text": [
      "output of the model SequenceClassifierOutput(loss=None, logits=tensor([[-0.6528, -1.5400,  2.4180],\n",
      "        [ 0.4534, -2.4199,  1.8350],\n",
      "        [-0.3577, -1.6221,  2.3633],\n",
      "        ...,\n",
      "        [ 0.1810,  0.5654, -1.7715],\n",
      "        [-0.9077, -1.2393,  2.5742],\n",
      "        [-1.4873,  0.2783,  2.0977]], device='cuda:0', dtype=torch.float16), hidden_states=None, attentions=None)\n"
     ]
    },
    {
     "name": "stderr",
     "output_type": "stream",
     "text": []
    },
    {
     "name": "stdout",
     "output_type": "stream",
     "text": [
      "output of the model SequenceClassifierOutput(loss=None, logits=tensor([[-1.6641,  1.5391,  1.0635],\n",
      "        [ 0.3301, -2.3477,  2.0938],\n",
      "        [ 0.6255, -0.4631, -0.9141],\n",
      "        ...,\n",
      "        [-0.5928,  0.2124,  0.7739],\n",
      "        [-1.4326,  0.1613,  2.1328],\n",
      "        [-0.9653,  0.0501,  1.5479]], device='cuda:0', dtype=torch.float16), hidden_states=None, attentions=None)\n"
     ]
    },
    {
     "name": "stderr",
     "output_type": "stream",
     "text": []
    },
    {
     "name": "stdout",
     "output_type": "stream",
     "text": [
      "output of the model SequenceClassifierOutput(loss=None, logits=tensor([[-0.5728, -1.1855,  2.1875],\n",
      "        [-1.6270,  1.1611,  1.6523],\n",
      "        [-1.9180,  1.9932,  1.1094],\n",
      "        ...,\n",
      "        [-0.9077,  1.5098, -0.0947],\n",
      "        [-0.5581, -1.2539,  2.2988],\n",
      "        [-1.2842, -0.4976,  2.5156]], device='cuda:0', dtype=torch.float16), hidden_states=None, attentions=None)\n"
     ]
    },
    {
     "name": "stderr",
     "output_type": "stream",
     "text": []
    },
    {
     "name": "stdout",
     "output_type": "stream",
     "text": [
      "output of the model SequenceClassifierOutput(loss=None, logits=tensor([[-0.1841, -0.4487,  1.1211],\n",
      "        [-0.6616, -1.4785,  2.4160],\n",
      "        [-0.6982, -0.9746,  2.3262],\n",
      "        ...,\n",
      "        [-1.3721,  2.5176, -0.8096],\n",
      "        [-1.8438,  2.8828, -0.5034],\n",
      "        [-1.7021,  2.3379,  0.3005]], device='cuda:0', dtype=torch.float16), hidden_states=None, attentions=None)\n"
     ]
    },
    {
     "name": "stderr",
     "output_type": "stream",
     "text": []
    },
    {
     "name": "stdout",
     "output_type": "stream",
     "text": [
      "output of the model SequenceClassifierOutput(loss=None, logits=tensor([[ 1.8525, -1.8936, -1.3223],\n",
      "        [ 0.6182, -0.2391, -1.3486],\n",
      "        [ 1.0605, -2.4707,  1.2207],\n",
      "        ...,\n",
      "        [-0.5449, -1.2539,  2.4316],\n",
      "        [-0.1042,  0.1373, -0.3833],\n",
      "        [-1.4756,  0.3064,  2.0430]], device='cuda:0', dtype=torch.float16), hidden_states=None, attentions=None)\n"
     ]
    },
    {
     "name": "stderr",
     "output_type": "stream",
     "text": []
    },
    {
     "name": "stdout",
     "output_type": "stream",
     "text": [
      "output of the model SequenceClassifierOutput(loss=None, logits=tensor([[-1.7686,  1.1826,  1.4688],\n",
      "        [-1.5742,  2.2656, -0.3379],\n",
      "        [-0.8169,  0.6904,  0.2139],\n",
      "        ...,\n",
      "        [-0.2642, -1.2305,  1.7637],\n",
      "        [ 1.2695, -1.0410, -1.4160],\n",
      "        [-0.6025,  0.3977,  0.3474]], device='cuda:0', dtype=torch.float16), hidden_states=None, attentions=None)\n"
     ]
    },
    {
     "name": "stderr",
     "output_type": "stream",
     "text": []
    },
    {
     "name": "stdout",
     "output_type": "stream",
     "text": [
      "output of the model SequenceClassifierOutput(loss=None, logits=tensor([[-1.5186,  0.3914,  1.9961],\n",
      "        [ 0.4937, -0.3621, -0.8999],\n",
      "        [ 0.2847, -2.2578,  2.0371],\n",
      "        ...,\n",
      "        [ 1.5059, -2.6270,  0.6719],\n",
      "        [ 0.4968,  0.1898, -1.5244],\n",
      "        [ 1.9561, -1.7148, -1.0303]], device='cuda:0', dtype=torch.float16), hidden_states=None, attentions=None)\n"
     ]
    },
    {
     "name": "stderr",
     "output_type": "stream",
     "text": []
    },
    {
     "name": "stdout",
     "output_type": "stream",
     "text": [
      "output of the model SequenceClassifierOutput(loss=None, logits=tensor([[-0.3074, -1.8281,  2.4141],\n",
      "        [-1.1006,  2.4570, -1.0518],\n",
      "        [-1.8213,  1.1299,  1.8018],\n",
      "        ...,\n",
      "        [-1.5586,  2.1973,  0.2428],\n",
      "        [ 0.7925, -2.5547,  1.6250],\n",
      "        [ 0.7583, -2.6699,  1.8066]], device='cuda:0', dtype=torch.float16), hidden_states=None, attentions=None)\n"
     ]
    },
    {
     "name": "stderr",
     "output_type": "stream",
     "text": []
    },
    {
     "name": "stdout",
     "output_type": "stream",
     "text": [
      "output of the model SequenceClassifierOutput(loss=None, logits=tensor([[ 2.0859, -2.1211, -1.3076],\n",
      "        [ 0.2839, -2.0215,  1.9727],\n",
      "        [-1.2129, -0.5859,  2.5488],\n",
      "        ...,\n",
      "        [-0.0954,  0.3860, -0.9146],\n",
      "        [-1.2676, -0.2998,  2.0742],\n",
      "        [-1.4980,  0.3623,  2.0000]], device='cuda:0', dtype=torch.float16), hidden_states=None, attentions=None)\n"
     ]
    },
    {
     "name": "stderr",
     "output_type": "stream",
     "text": []
    },
    {
     "name": "stdout",
     "output_type": "stream",
     "text": [
      "output of the model SequenceClassifierOutput(loss=None, logits=tensor([[-0.1000, -1.9775,  2.2441],\n",
      "        [-0.7402, -1.4072,  2.5898],\n",
      "        [ 1.8643, -2.0977, -1.1738],\n",
      "        ...,\n",
      "        [ 1.8740, -1.6592, -1.4863],\n",
      "        [-0.9829, -1.1348,  2.5117],\n",
      "        [-1.0010,  0.9414,  0.4866]], device='cuda:0', dtype=torch.float16), hidden_states=None, attentions=None)\n"
     ]
    },
    {
     "name": "stderr",
     "output_type": "stream",
     "text": []
    },
    {
     "name": "stdout",
     "output_type": "stream",
     "text": [
      "output of the model SequenceClassifierOutput(loss=None, logits=tensor([[-1.6357,  1.8643,  0.6328],\n",
      "        [-1.7295,  2.1465,  0.6826],\n",
      "        [-1.4707,  2.9219, -1.2881],\n",
      "        ...,\n",
      "        [ 0.0039, -1.7490,  1.9912],\n",
      "        [-0.2090, -0.9976,  1.5127],\n",
      "        [-0.6025, -0.8369,  1.9805]], device='cuda:0', dtype=torch.float16), hidden_states=None, attentions=None)\n"
     ]
    },
    {
     "name": "stderr",
     "output_type": "stream",
     "text": []
    },
    {
     "name": "stdout",
     "output_type": "stream",
     "text": [
      "output of the model SequenceClassifierOutput(loss=None, logits=tensor([[-1.3574,  2.0254, -0.3167],\n",
      "        [ 1.9307, -1.4521, -1.6357],\n",
      "        [ 1.9795, -2.2188, -0.7524],\n",
      "        ...,\n",
      "        [ 0.4917, -0.0834, -1.3066],\n",
      "        [-1.1475,  2.2227, -1.0303],\n",
      "        [ 0.5508, -1.6338,  1.0518]], device='cuda:0', dtype=torch.float16), hidden_states=None, attentions=None)\n"
     ]
    },
    {
     "name": "stderr",
     "output_type": "stream",
     "text": []
    },
    {
     "name": "stdout",
     "output_type": "stream",
     "text": [
      "output of the model SequenceClassifierOutput(loss=None, logits=tensor([[ 0.8262, -1.6338,  0.3313],\n",
      "        [ 2.0176, -2.0977, -1.2822],\n",
      "        [ 1.5146, -2.1758, -0.3491],\n",
      "        ...,\n",
      "        [ 0.5952, -0.1731, -1.3369],\n",
      "        [ 0.6284, -0.2446, -1.3145],\n",
      "        [ 1.0322, -1.2090, -0.9639]], device='cuda:0', dtype=torch.float16), hidden_states=None, attentions=None)\n"
     ]
    },
    {
     "name": "stderr",
     "output_type": "stream",
     "text": []
    },
    {
     "name": "stdout",
     "output_type": "stream",
     "text": [
      "output of the model SequenceClassifierOutput(loss=None, logits=tensor([[ 0.5840, -0.4282, -1.0039],\n",
      "        [-1.1191, -0.1942,  1.9336],\n",
      "        [-0.1230, -1.9463,  2.1914],\n",
      "        ...,\n",
      "        [-1.4863,  2.7012, -1.0977],\n",
      "        [ 2.0840, -2.2031, -1.1982],\n",
      "        [ 1.8643, -1.7354, -1.4473]], device='cuda:0', dtype=torch.float16), hidden_states=None, attentions=None)\n"
     ]
    },
    {
     "name": "stderr",
     "output_type": "stream",
     "text": []
    },
    {
     "name": "stdout",
     "output_type": "stream",
     "text": [
      "output of the model SequenceClassifierOutput(loss=None, logits=tensor([[ 1.7188, -1.5342, -1.0400],\n",
      "        [ 2.0801, -1.7695, -1.6318],\n",
      "        [-0.6875, -0.1232,  1.2002],\n",
      "        ...,\n",
      "        [-0.7515, -0.5103,  2.1328],\n",
      "        [ 2.0254, -1.6719, -1.6211],\n",
      "        [ 0.3867, -2.0410,  1.7363]], device='cuda:0', dtype=torch.float16), hidden_states=None, attentions=None)\n"
     ]
    },
    {
     "name": "stderr",
     "output_type": "stream",
     "text": []
    },
    {
     "name": "stdout",
     "output_type": "stream",
     "text": [
      "output of the model SequenceClassifierOutput(loss=None, logits=tensor([[-1.1484,  0.7622,  0.8940],\n",
      "        [ 1.6680, -1.0596, -1.6924],\n",
      "        [ 0.0291, -1.8389,  1.9111],\n",
      "        ...,\n",
      "        [-1.4180,  0.1025,  2.1562],\n",
      "        [ 1.4238, -1.7852, -0.0690],\n",
      "        [ 0.8672, -1.6572,  0.4377]], device='cuda:0', dtype=torch.float16), hidden_states=None, attentions=None)\n"
     ]
    },
    {
     "name": "stderr",
     "output_type": "stream",
     "text": []
    },
    {
     "name": "stdout",
     "output_type": "stream",
     "text": [
      "output of the model SequenceClassifierOutput(loss=None, logits=tensor([[-1.2930,  2.3613, -0.8135],\n",
      "        [-1.6299,  2.9238, -0.9961],\n",
      "        [ 0.9429, -0.0528, -1.8789],\n",
      "        ...,\n",
      "        [ 1.5283, -2.6582,  0.6753],\n",
      "        [-0.7373, -0.7920,  2.0840],\n",
      "        [-1.3594,  1.9277, -0.0915]], device='cuda:0', dtype=torch.float16), hidden_states=None, attentions=None)\n"
     ]
    },
    {
     "name": "stderr",
     "output_type": "stream",
     "text": []
    },
    {
     "name": "stdout",
     "output_type": "stream",
     "text": [
      "output of the model SequenceClassifierOutput(loss=None, logits=tensor([[ 0.1665, -1.5781,  1.6143],\n",
      "        [ 0.1665, -1.5781,  1.6143],\n",
      "        [-1.0225, -0.8774,  2.5605],\n",
      "        ...,\n",
      "        [-1.8301,  2.9727, -0.8296],\n",
      "        [ 1.3418, -2.6094,  0.4226],\n",
      "        [-0.8096, -1.3555,  2.5645]], device='cuda:0', dtype=torch.float16), hidden_states=None, attentions=None)\n"
     ]
    },
    {
     "name": "stderr",
     "output_type": "stream",
     "text": []
    },
    {
     "name": "stdout",
     "output_type": "stream",
     "text": [
      "output of the model SequenceClassifierOutput(loss=None, logits=tensor([[-0.3579, -0.7759,  1.9814],\n",
      "        [-1.6250,  1.3584,  1.1729],\n",
      "        [-1.2236,  1.4004,  0.7061],\n",
      "        ...,\n",
      "        [ 0.3440, -1.5947,  1.7109],\n",
      "        [ 1.5977, -2.0781, -0.6992],\n",
      "        [-1.4365,  2.8535, -1.3203]], device='cuda:0', dtype=torch.float16), hidden_states=None, attentions=None)\n"
     ]
    },
    {
     "name": "stderr",
     "output_type": "stream",
     "text": []
    },
    {
     "name": "stdout",
     "output_type": "stream",
     "text": [
      "output of the model SequenceClassifierOutput(loss=None, logits=tensor([[-1.2959,  1.2100,  0.9033],\n",
      "        [-0.9409, -0.4214,  2.2637],\n",
      "        [ 0.5674, -2.3066,  1.9795],\n",
      "        ...,\n",
      "        [-0.6016,  0.3457,  0.3274],\n",
      "        [-0.3162, -1.2070,  1.8496],\n",
      "        [ 1.4102, -1.5439, -0.9604]], device='cuda:0', dtype=torch.float16), hidden_states=None, attentions=None)\n"
     ]
    },
    {
     "name": "stderr",
     "output_type": "stream",
     "text": []
    },
    {
     "name": "stdout",
     "output_type": "stream",
     "text": [
      "output of the model SequenceClassifierOutput(loss=None, logits=tensor([[-1.1836,  1.1592,  0.3997],\n",
      "        [-1.4590,  2.7188, -1.1738],\n",
      "        [ 1.6670, -0.6289, -1.9609],\n",
      "        ...,\n",
      "        [-1.4404,  0.1477,  2.1719],\n",
      "        [ 0.5513, -2.3281,  1.7998],\n",
      "        [-0.6284, -1.0449,  2.0566]], device='cuda:0', dtype=torch.float16), hidden_states=None, attentions=None)\n"
     ]
    },
    {
     "name": "stderr",
     "output_type": "stream",
     "text": []
    },
    {
     "name": "stdout",
     "output_type": "stream",
     "text": [
      "output of the model SequenceClassifierOutput(loss=None, logits=tensor([[-1.3486,  1.2314,  0.5283],\n",
      "        [-1.2783,  2.3770, -0.5859],\n",
      "        [-0.2512, -1.6064,  2.3691],\n",
      "        ...,\n",
      "        [-0.6157, -0.8359,  1.7998],\n",
      "        [-0.4126, -0.1978,  0.3857],\n",
      "        [-0.6108,  0.6777, -0.3103]], device='cuda:0', dtype=torch.float16), hidden_states=None, attentions=None)\n"
     ]
    },
    {
     "name": "stderr",
     "output_type": "stream",
     "text": []
    },
    {
     "name": "stdout",
     "output_type": "stream",
     "text": [
      "output of the model SequenceClassifierOutput(loss=None, logits=tensor([[-0.2998, -1.5283,  2.3047],\n",
      "        [-1.4521,  0.2181,  2.0938],\n",
      "        [-0.9121, -1.0078,  2.6230],\n",
      "        ...,\n",
      "        [-1.3613,  2.2676, -0.5044],\n",
      "        [-1.2354,  2.3027, -0.6450],\n",
      "        [-0.6206, -0.0646,  1.0166]], device='cuda:0', dtype=torch.float16), hidden_states=None, attentions=None)\n"
     ]
    },
    {
     "name": "stderr",
     "output_type": "stream",
     "text": []
    },
    {
     "name": "stdout",
     "output_type": "stream",
     "text": [
      "output of the model SequenceClassifierOutput(loss=None, logits=tensor([[-0.4753, -0.4841,  1.3174],\n",
      "        [-0.4680, -0.4231,  1.2100],\n",
      "        [-0.3955, -0.2771,  0.9438],\n",
      "        ...,\n",
      "        [-1.7520,  2.3535,  0.3806],\n",
      "        [-1.6494,  2.1719,  0.4097],\n",
      "        [-0.4951,  2.1738, -2.0254]], device='cuda:0', dtype=torch.float16), hidden_states=None, attentions=None)\n"
     ]
    },
    {
     "name": "stderr",
     "output_type": "stream",
     "text": []
    },
    {
     "name": "stdout",
     "output_type": "stream",
     "text": [
      "output of the model SequenceClassifierOutput(loss=None, logits=tensor([[-1.1895,  0.8721,  0.7710],\n",
      "        [-1.6865,  1.6396,  1.1260],\n",
      "        [-0.0091,  1.9482, -2.2480],\n",
      "        ...,\n",
      "        [-0.8657, -1.1680,  2.4395],\n",
      "        [-0.8042,  2.5527, -1.8984],\n",
      "        [ 0.0945, -1.5781,  1.8965]], device='cuda:0', dtype=torch.float16), hidden_states=None, attentions=None)\n"
     ]
    },
    {
     "name": "stderr",
     "output_type": "stream",
     "text": []
    },
    {
     "name": "stdout",
     "output_type": "stream",
     "text": [
      "output of the model SequenceClassifierOutput(loss=None, logits=tensor([[-0.1108, -1.9668,  2.3457],\n",
      "        [-0.9160, -0.7109,  2.4180],\n",
      "        [-0.5298, -0.6562,  2.0625],\n",
      "        ...,\n",
      "        [-1.3291,  2.6016, -1.0605],\n",
      "        [-0.6572,  0.4546,  1.1328],\n",
      "        [-0.6309, -0.7705,  2.0391]], device='cuda:0', dtype=torch.float16), hidden_states=None, attentions=None)\n"
     ]
    },
    {
     "name": "stderr",
     "output_type": "stream",
     "text": []
    },
    {
     "name": "stdout",
     "output_type": "stream",
     "text": [
      "output of the model SequenceClassifierOutput(loss=None, logits=tensor([[ 0.4490, -0.3579, -0.5908],\n",
      "        [ 0.7295, -0.8066, -0.8633],\n",
      "        [-1.2891,  0.2598,  1.7803],\n",
      "        ...,\n",
      "        [-1.6904,  2.8027, -0.8213],\n",
      "        [ 1.9971, -1.5342, -1.6309],\n",
      "        [ 1.3135, -2.8164,  1.4111]], device='cuda:0', dtype=torch.float16), hidden_states=None, attentions=None)\n"
     ]
    },
    {
     "name": "stderr",
     "output_type": "stream",
     "text": []
    },
    {
     "name": "stdout",
     "output_type": "stream",
     "text": [
      "output of the model SequenceClassifierOutput(loss=None, logits=tensor([[ 1.8564, -2.7266,  0.0137],\n",
      "        [ 1.5195, -2.0645, -0.3586],\n",
      "        [ 0.6294, -1.3965,  0.8154],\n",
      "        ...,\n",
      "        [-1.4160,  0.7437,  1.5410],\n",
      "        [-0.9219,  1.6084, -0.5679],\n",
      "        [-0.9927, -0.5732,  2.4434]], device='cuda:0', dtype=torch.float16), hidden_states=None, attentions=None)\n"
     ]
    },
    {
     "name": "stderr",
     "output_type": "stream",
     "text": []
    },
    {
     "name": "stdout",
     "output_type": "stream",
     "text": [
      "output of the model SequenceClassifierOutput(loss=None, logits=tensor([[-1.5752,  2.9180, -1.2236],\n",
      "        [-0.0175, -1.4736,  2.0664],\n",
      "        [-1.0068,  1.9775, -0.3225],\n",
      "        ...,\n",
      "        [ 0.1935, -2.0469,  2.1035],\n",
      "        [ 0.6514, -0.0739, -1.5811],\n",
      "        [-1.4512,  0.2089,  2.1289]], device='cuda:0', dtype=torch.float16), hidden_states=None, attentions=None)\n"
     ]
    },
    {
     "name": "stderr",
     "output_type": "stream",
     "text": []
    },
    {
     "name": "stdout",
     "output_type": "stream",
     "text": [
      "output of the model SequenceClassifierOutput(loss=None, logits=tensor([[-1.1367,  0.5381,  0.9521],\n",
      "        [ 0.8579, -1.6025,  0.4253],\n",
      "        [-0.9688,  0.0114,  1.8457],\n",
      "        ...,\n",
      "        [-1.0986, -0.8271,  2.5391],\n",
      "        [ 0.0817,  0.1277, -0.6362],\n",
      "        [ 1.4697, -0.8926, -1.2441]], device='cuda:0', dtype=torch.float16), hidden_states=None, attentions=None)\n"
     ]
    },
    {
     "name": "stderr",
     "output_type": "stream",
     "text": []
    },
    {
     "name": "stdout",
     "output_type": "stream",
     "text": [
      "output of the model SequenceClassifierOutput(loss=None, logits=tensor([[ 0.2854, -1.8223,  1.8506],\n",
      "        [ 0.2854, -1.8223,  1.8506],\n",
      "        [-1.2422,  2.4238, -0.9126],\n",
      "        ...,\n",
      "        [-0.5566,  0.8008, -0.3799],\n",
      "        [-1.8955,  2.2734,  0.4978],\n",
      "        [-1.8467,  2.5840,  0.3418]], device='cuda:0', dtype=torch.float16), hidden_states=None, attentions=None)\n"
     ]
    },
    {
     "name": "stderr",
     "output_type": "stream",
     "text": []
    },
    {
     "name": "stdout",
     "output_type": "stream",
     "text": [
      "output of the model SequenceClassifierOutput(loss=None, logits=tensor([[ 0.1390, -1.1338,  1.1396],\n",
      "        [-0.0039, -0.9385,  1.2070],\n",
      "        [ 0.0803, -1.0059,  1.0859],\n",
      "        ...,\n",
      "        [ 1.6611, -1.2656, -1.4512],\n",
      "        [-1.3545,  2.3359, -0.7812],\n",
      "        [-1.6465,  1.5176,  1.0508]], device='cuda:0', dtype=torch.float16), hidden_states=None, attentions=None)\n"
     ]
    },
    {
     "name": "stderr",
     "output_type": "stream",
     "text": []
    },
    {
     "name": "stdout",
     "output_type": "stream",
     "text": [
      "output of the model SequenceClassifierOutput(loss=None, logits=tensor([[ 1.8174, -2.7793,  0.0543],\n",
      "        [ 1.9688, -1.1143, -1.8779],\n",
      "        [ 0.0992,  1.3877, -2.1641],\n",
      "        ...,\n",
      "        [-0.2610, -1.8916,  2.4199],\n",
      "        [-0.8906, -0.8926,  2.5059],\n",
      "        [-0.8467, -0.5430,  2.1777]], device='cuda:0', dtype=torch.float16), hidden_states=None, attentions=None)\n"
     ]
    },
    {
     "name": "stderr",
     "output_type": "stream",
     "text": []
    },
    {
     "name": "stdout",
     "output_type": "stream",
     "text": [
      "output of the model SequenceClassifierOutput(loss=None, logits=tensor([[ 0.4165,  0.6255, -1.8730],\n",
      "        [ 0.4138, -2.3281,  1.9307],\n",
      "        [-0.4658, -1.5498,  2.1680],\n",
      "        ...,\n",
      "        [-0.7915, -1.1562,  2.5176],\n",
      "        [-1.0527, -0.8457,  2.4941],\n",
      "        [-1.4102,  1.0498,  1.2520]], device='cuda:0', dtype=torch.float16), hidden_states=None, attentions=None)\n"
     ]
    },
    {
     "name": "stderr",
     "output_type": "stream",
     "text": []
    },
    {
     "name": "stdout",
     "output_type": "stream",
     "text": [
      "output of the model SequenceClassifierOutput(loss=None, logits=tensor([[-1.5908,  0.7217,  1.8145],\n",
      "        [-1.5322,  1.7754,  0.6157],\n",
      "        [ 1.0879, -0.5635, -1.0703],\n",
      "        ...,\n",
      "        [ 0.6562, -2.3594,  1.7266],\n",
      "        [ 1.3789, -2.7441,  0.9185],\n",
      "        [-0.4368, -0.3618,  1.0332]], device='cuda:0', dtype=torch.float16), hidden_states=None, attentions=None)\n"
     ]
    },
    {
     "name": "stderr",
     "output_type": "stream",
     "text": []
    },
    {
     "name": "stdout",
     "output_type": "stream",
     "text": [
      "output of the model SequenceClassifierOutput(loss=None, logits=tensor([[ 0.0682, -2.1621,  2.3320],\n",
      "        [ 0.7280, -2.4473,  1.8096],\n",
      "        [-0.2344, -0.6299,  0.9771],\n",
      "        ...,\n",
      "        [ 1.7363, -2.1602, -0.5273],\n",
      "        [ 1.7070, -2.5117,  0.2445],\n",
      "        [ 0.9297, -2.0859,  0.8418]], device='cuda:0', dtype=torch.float16), hidden_states=None, attentions=None)\n"
     ]
    },
    {
     "name": "stderr",
     "output_type": "stream",
     "text": []
    },
    {
     "name": "stdout",
     "output_type": "stream",
     "text": [
      "output of the model SequenceClassifierOutput(loss=None, logits=tensor([[-1.1855,  0.3435,  1.5811],\n",
      "        [ 2.0918, -1.6309, -1.6875],\n",
      "        [-0.1372,  0.6533, -1.1250],\n",
      "        ...,\n",
      "        [-1.6064,  1.3887,  1.1055],\n",
      "        [-0.4753, -0.4841,  1.3174],\n",
      "        [ 1.5088, -2.1367, -0.4597]], device='cuda:0', dtype=torch.float16), hidden_states=None, attentions=None)\n"
     ]
    },
    {
     "name": "stderr",
     "output_type": "stream",
     "text": []
    },
    {
     "name": "stdout",
     "output_type": "stream",
     "text": [
      "output of the model SequenceClassifierOutput(loss=None, logits=tensor([[-0.9077,  1.0625,  0.1216],\n",
      "        [ 1.8721, -1.4902, -1.5596],\n",
      "        [ 1.1240, -2.5645,  1.4014],\n",
      "        ...,\n",
      "        [-1.4375,  1.2910,  0.9546],\n",
      "        [-1.6797,  1.0107,  1.4668],\n",
      "        [-1.7861,  1.7812,  0.9707]], device='cuda:0', dtype=torch.float16), hidden_states=None, attentions=None)\n"
     ]
    },
    {
     "name": "stderr",
     "output_type": "stream",
     "text": []
    },
    {
     "name": "stdout",
     "output_type": "stream",
     "text": [
      "output of the model SequenceClassifierOutput(loss=None, logits=tensor([[-0.8418,  1.0645, -0.0592],\n",
      "        [-0.8433, -1.1689,  2.6074],\n",
      "        [-1.0215,  0.1327,  1.8926],\n",
      "        ...,\n",
      "        [-0.3855, -0.7339,  1.1494],\n",
      "        [-1.5371,  2.4746, -0.6885],\n",
      "        [-0.5317, -1.4746,  2.2969]], device='cuda:0', dtype=torch.float16), hidden_states=None, attentions=None)\n"
     ]
    },
    {
     "name": "stderr",
     "output_type": "stream",
     "text": []
    },
    {
     "name": "stdout",
     "output_type": "stream",
     "text": [
      "output of the model SequenceClassifierOutput(loss=None, logits=tensor([[-1.6094,  2.8770, -0.9780],\n",
      "        [-1.6572,  1.4287,  1.1260],\n",
      "        [-1.6855,  1.3115,  1.1318],\n",
      "        ...,\n",
      "        [ 1.9229, -1.9766, -1.2930],\n",
      "        [ 0.9370, -1.9941,  0.8110],\n",
      "        [-1.0625,  1.9365, -0.9072]], device='cuda:0', dtype=torch.float16), hidden_states=None, attentions=None)\n"
     ]
    },
    {
     "name": "stderr",
     "output_type": "stream",
     "text": []
    },
    {
     "name": "stdout",
     "output_type": "stream",
     "text": [
      "output of the model SequenceClassifierOutput(loss=None, logits=tensor([[ 1.4268, -1.5596, -1.0850],\n",
      "        [-0.9863,  2.2793, -1.1602],\n",
      "        [-1.8271,  1.5254,  1.4297],\n",
      "        ...,\n",
      "        [-1.1943,  1.0625,  0.6582],\n",
      "        [ 1.6270, -2.4902,  0.1079],\n",
      "        [-0.6753, -1.0645,  2.4434]], device='cuda:0', dtype=torch.float16), hidden_states=None, attentions=None)\n"
     ]
    },
    {
     "name": "stderr",
     "output_type": "stream",
     "text": []
    },
    {
     "name": "stdout",
     "output_type": "stream",
     "text": [
      "output of the model SequenceClassifierOutput(loss=None, logits=tensor([[-0.7217, -1.0225,  2.4570],\n",
      "        [ 0.4326, -2.3242,  1.9648],\n",
      "        [-0.0223, -1.8936,  2.3047],\n",
      "        ...,\n",
      "        [-0.2573, -0.7271,  0.9902],\n",
      "        [-1.6729,  1.8115,  0.3689],\n",
      "        [ 1.4150, -1.6084, -1.0137]], device='cuda:0', dtype=torch.float16), hidden_states=None, attentions=None)\n"
     ]
    },
    {
     "name": "stderr",
     "output_type": "stream",
     "text": []
    },
    {
     "name": "stdout",
     "output_type": "stream",
     "text": [
      "output of the model SequenceClassifierOutput(loss=None, logits=tensor([[-0.8848,  1.2100, -0.3398],\n",
      "        [ 0.5503,  0.4136, -1.7559],\n",
      "        [-1.4209,  0.0268,  2.2676],\n",
      "        ...,\n",
      "        [-1.0518,  0.6772,  0.8447],\n",
      "        [-0.1199,  0.2700, -0.4536],\n",
      "        [-0.9697,  0.2334,  1.2246]], device='cuda:0', dtype=torch.float16), hidden_states=None, attentions=None)\n"
     ]
    },
    {
     "name": "stderr",
     "output_type": "stream",
     "text": []
    },
    {
     "name": "stdout",
     "output_type": "stream",
     "text": [
      "output of the model SequenceClassifierOutput(loss=None, logits=tensor([[ 0.3140, -1.8398,  1.6348],\n",
      "        [-1.5791,  2.8164, -0.7646],\n",
      "        [-1.1484,  0.7622,  0.8940],\n",
      "        ...,\n",
      "        [-1.2080, -0.4985,  2.4941],\n",
      "        [-1.2080, -0.8115,  2.6250],\n",
      "        [-0.1879,  0.2010, -0.0602]], device='cuda:0', dtype=torch.float16), hidden_states=None, attentions=None)\n"
     ]
    },
    {
     "name": "stderr",
     "output_type": "stream",
     "text": []
    },
    {
     "name": "stdout",
     "output_type": "stream",
     "text": [
      "output of the model SequenceClassifierOutput(loss=None, logits=tensor([[-1.5938,  1.5645,  0.8643],\n",
      "        [ 0.2856, -2.1719,  1.7959],\n",
      "        [ 0.5239, -2.3867,  1.7832],\n",
      "        ...,\n",
      "        [-1.2227,  2.1816, -0.5776],\n",
      "        [ 0.8315, -2.5293,  1.8262],\n",
      "        [-0.1970, -1.8057,  2.3164]], device='cuda:0', dtype=torch.float16), hidden_states=None, attentions=None)\n"
     ]
    },
    {
     "name": "stderr",
     "output_type": "stream",
     "text": []
    },
    {
     "name": "stdout",
     "output_type": "stream",
     "text": [
      "output of the model SequenceClassifierOutput(loss=None, logits=tensor([[-0.3271,  0.5044, -0.4138],\n",
      "        [ 1.6299, -2.5703,  0.2246],\n",
      "        [ 1.6768, -2.5996, -0.0035],\n",
      "        ...,\n",
      "        [ 1.6572, -1.8496, -0.9946],\n",
      "        [ 1.2920, -2.2480,  0.6382],\n",
      "        [ 1.7090, -2.2852, -0.2729]], device='cuda:0', dtype=torch.float16), hidden_states=None, attentions=None)\n"
     ]
    },
    {
     "name": "stderr",
     "output_type": "stream",
     "text": []
    },
    {
     "name": "stdout",
     "output_type": "stream",
     "text": [
      "output of the model SequenceClassifierOutput(loss=None, logits=tensor([[ 1.8242, -1.3887, -1.5117],\n",
      "        [ 1.7754, -2.3867, -0.1230],\n",
      "        [ 0.4370, -0.2422, -0.9092],\n",
      "        ...,\n",
      "        [ 1.0400, -0.6265, -1.3584],\n",
      "        [-0.4158, -1.4385,  2.2344],\n",
      "        [-0.6201, -0.4004,  1.4941]], device='cuda:0', dtype=torch.float16), hidden_states=None, attentions=None)\n"
     ]
    },
    {
     "name": "stderr",
     "output_type": "stream",
     "text": []
    },
    {
     "name": "stdout",
     "output_type": "stream",
     "text": [
      "output of the model SequenceClassifierOutput(loss=None, logits=tensor([[-1.6426,  2.8633, -0.8755],\n",
      "        [-1.6514,  2.9160, -0.9561],\n",
      "        [ 1.8877, -1.3047, -1.6660],\n",
      "        ...,\n",
      "        [-0.0068, -0.9526,  1.2002],\n",
      "        [ 0.2747, -2.4824,  2.1328],\n",
      "        [ 1.2656, -2.8203,  1.4268]], device='cuda:0', dtype=torch.float16), hidden_states=None, attentions=None)\n"
     ]
    },
    {
     "name": "stderr",
     "output_type": "stream",
     "text": []
    },
    {
     "name": "stdout",
     "output_type": "stream",
     "text": [
      "output of the model SequenceClassifierOutput(loss=None, logits=tensor([[-1.1934, -0.8379,  2.6582],\n",
      "        [ 1.0342, -0.7285, -1.1953],\n",
      "        [-0.2367, -0.1659,  0.5029],\n",
      "        ...,\n",
      "        [-1.6025,  2.7539, -0.8452],\n",
      "        [ 0.6167, -2.5254,  1.7529],\n",
      "        [-1.3428,  0.5044,  1.8145]], device='cuda:0', dtype=torch.float16), hidden_states=None, attentions=None)\n"
     ]
    },
    {
     "name": "stderr",
     "output_type": "stream",
     "text": []
    },
    {
     "name": "stdout",
     "output_type": "stream",
     "text": [
      "output of the model SequenceClassifierOutput(loss=None, logits=tensor([[-0.6348, -1.3838,  2.2422],\n",
      "        [-1.4912,  0.9766,  1.7666],\n",
      "        [-0.0408, -2.0371,  2.2188],\n",
      "        ...,\n",
      "        [ 2.0801, -1.5791, -1.7070],\n",
      "        [ 1.8438, -2.1602, -0.3628],\n",
      "        [-1.0322, -0.6392,  2.3906]], device='cuda:0', dtype=torch.float16), hidden_states=None, attentions=None)\n"
     ]
    },
    {
     "name": "stderr",
     "output_type": "stream",
     "text": []
    },
    {
     "name": "stdout",
     "output_type": "stream",
     "text": [
      "output of the model SequenceClassifierOutput(loss=None, logits=tensor([[-1.8457,  2.2383,  0.5659],\n",
      "        [-1.2900,  0.7939,  1.1689],\n",
      "        [ 0.4060, -2.3184,  1.9707],\n",
      "        ...,\n",
      "        [ 0.6147, -1.9951,  1.0654],\n",
      "        [-1.8096,  2.9824, -0.8501],\n",
      "        [-0.8477,  1.1670, -0.5293]], device='cuda:0', dtype=torch.float16), hidden_states=None, attentions=None)\n"
     ]
    },
    {
     "name": "stderr",
     "output_type": "stream",
     "text": []
    },
    {
     "name": "stdout",
     "output_type": "stream",
     "text": [
      "output of the model SequenceClassifierOutput(loss=None, logits=tensor([[ 2.0176, -1.7178, -1.5723],\n",
      "        [-1.2334,  1.0195,  0.3396],\n",
      "        [ 1.3154, -2.5664,  1.0117],\n",
      "        ...,\n",
      "        [ 0.1815, -2.2168,  2.2520],\n",
      "        [ 0.0664, -2.1250,  2.2031],\n",
      "        [-0.6558, -0.7930,  2.0840]], device='cuda:0', dtype=torch.float16), hidden_states=None, attentions=None)\n"
     ]
    },
    {
     "name": "stderr",
     "output_type": "stream",
     "text": []
    },
    {
     "name": "stdout",
     "output_type": "stream",
     "text": [
      "output of the model SequenceClassifierOutput(loss=None, logits=tensor([[ 1.9990, -2.5957, -0.5000],\n",
      "        [ 0.7866, -2.5352,  1.8809],\n",
      "        [ 1.9658, -1.9717, -1.2910],\n",
      "        ...,\n",
      "        [ 1.4531, -1.9893, -0.4021],\n",
      "        [ 0.2230, -1.9150,  1.4941],\n",
      "        [-1.6494,  1.7070,  0.8784]], device='cuda:0', dtype=torch.float16), hidden_states=None, attentions=None)\n"
     ]
    },
    {
     "name": "stderr",
     "output_type": "stream",
     "text": []
    },
    {
     "name": "stdout",
     "output_type": "stream",
     "text": [
      "output of the model SequenceClassifierOutput(loss=None, logits=tensor([[-1.8633,  2.3574,  0.4563],\n",
      "        [-0.8271, -1.1094,  2.4688],\n",
      "        [-0.2134, -1.5400,  2.1758],\n",
      "        ...,\n",
      "        [ 0.3354, -2.3047,  2.1855],\n",
      "        [ 0.2094, -2.1602,  2.1348],\n",
      "        [-0.3860, -1.8066,  2.5410]], device='cuda:0', dtype=torch.float16), hidden_states=None, attentions=None)\n"
     ]
    },
    {
     "name": "stderr",
     "output_type": "stream",
     "text": []
    },
    {
     "name": "stdout",
     "output_type": "stream",
     "text": [
      "output of the model SequenceClassifierOutput(loss=None, logits=tensor([[-0.4111,  1.2549, -1.4551],\n",
      "        [-1.7568,  1.6865,  1.3359],\n",
      "        [-0.3713, -1.6572,  2.0820],\n",
      "        ...,\n",
      "        [ 1.8711, -2.4473, -0.7500],\n",
      "        [ 1.8779, -2.5762, -0.3459],\n",
      "        [-1.2305, -0.6382,  2.6074]], device='cuda:0', dtype=torch.float16), hidden_states=None, attentions=None)\n"
     ]
    },
    {
     "name": "stderr",
     "output_type": "stream",
     "text": []
    },
    {
     "name": "stdout",
     "output_type": "stream",
     "text": [
      "output of the model SequenceClassifierOutput(loss=None, logits=tensor([[ 1.3809, -2.4297,  0.4219],\n",
      "        [ 1.7979, -2.4785, -0.0965],\n",
      "        [ 0.4319, -2.5625,  2.1348],\n",
      "        ...,\n",
      "        [ 2.0820, -2.0488, -1.3457],\n",
      "        [ 1.8740, -2.1484, -0.8389],\n",
      "        [ 0.6328, -1.6768,  0.7065]], device='cuda:0', dtype=torch.float16), hidden_states=None, attentions=None)\n"
     ]
    },
    {
     "name": "stderr",
     "output_type": "stream",
     "text": []
    },
    {
     "name": "stdout",
     "output_type": "stream",
     "text": [
      "output of the model SequenceClassifierOutput(loss=None, logits=tensor([[ 0.2598, -0.9873,  0.3938],\n",
      "        [-0.2152,  0.2551, -0.3521],\n",
      "        [-0.9204, -1.1416,  2.5430],\n",
      "        ...,\n",
      "        [ 0.2213, -2.1641,  2.2031],\n",
      "        [-0.5801, -1.5254,  2.5352],\n",
      "        [-0.9175, -0.8950,  2.1211]], device='cuda:0', dtype=torch.float16), hidden_states=None, attentions=None)\n"
     ]
    },
    {
     "name": "stderr",
     "output_type": "stream",
     "text": []
    },
    {
     "name": "stdout",
     "output_type": "stream",
     "text": [
      "output of the model SequenceClassifierOutput(loss=None, logits=tensor([[-0.7695, -0.9165,  2.2012],\n",
      "        [ 2.0137, -1.7188, -1.5176],\n",
      "        [ 1.5547, -2.7363,  0.8506],\n",
      "        ...,\n",
      "        [ 0.0122, -2.2285,  2.2891],\n",
      "        [-0.2444, -1.8877,  2.3594],\n",
      "        [-0.7422, -1.1074,  2.3066]], device='cuda:0', dtype=torch.float16), hidden_states=None, attentions=None)\n"
     ]
    },
    {
     "name": "stderr",
     "output_type": "stream",
     "text": []
    },
    {
     "name": "stdout",
     "output_type": "stream",
     "text": [
      "output of the model SequenceClassifierOutput(loss=None, logits=tensor([[-0.0856, -1.8721,  1.8701],\n",
      "        [-0.2367, -1.7920,  2.4453],\n",
      "        [-1.3086,  0.8799,  1.4541],\n",
      "        ...,\n",
      "        [ 0.1193, -0.0729, -0.8198],\n",
      "        [ 1.5850, -2.2793,  0.1586],\n",
      "        [ 0.3267, -2.2188,  1.8232]], device='cuda:0', dtype=torch.float16), hidden_states=None, attentions=None)\n"
     ]
    },
    {
     "name": "stderr",
     "output_type": "stream",
     "text": []
    },
    {
     "name": "stdout",
     "output_type": "stream",
     "text": [
      "output of the model SequenceClassifierOutput(loss=None, logits=tensor([[ 0.7568, -2.3984,  1.4375],\n",
      "        [-1.4785,  2.1855, -0.2051],\n",
      "        [-0.2571,  0.4578, -0.4910],\n",
      "        ...,\n",
      "        [-0.1462, -1.7676,  2.1250],\n",
      "        [-0.3293, -1.5127,  2.1191],\n",
      "        [-0.0942, -1.7559,  2.0352]], device='cuda:0', dtype=torch.float16), hidden_states=None, attentions=None)\n"
     ]
    },
    {
     "name": "stderr",
     "output_type": "stream",
     "text": []
    },
    {
     "name": "stdout",
     "output_type": "stream",
     "text": [
      "output of the model SequenceClassifierOutput(loss=None, logits=tensor([[-0.9482, -0.6724,  2.3242],\n",
      "        [-0.1516, -1.6680,  2.0332],\n",
      "        [-0.9131, -0.7588,  2.3164],\n",
      "        ...,\n",
      "        [ 0.3440, -1.5947,  1.7109],\n",
      "        [ 1.5908, -2.5000,  0.0761],\n",
      "        [-0.7051, -1.2705,  2.4746]], device='cuda:0', dtype=torch.float16), hidden_states=None, attentions=None)\n"
     ]
    },
    {
     "name": "stderr",
     "output_type": "stream",
     "text": []
    },
    {
     "name": "stdout",
     "output_type": "stream",
     "text": [
      "output of the model SequenceClassifierOutput(loss=None, logits=tensor([[-0.1433, -1.6279,  2.1973],\n",
      "        [-0.3943, -1.4424,  2.3184],\n",
      "        [ 1.6836, -1.4355, -1.2988],\n",
      "        ...,\n",
      "        [-0.4895, -0.4121,  1.2383],\n",
      "        [-0.7397, -1.3926,  2.5605],\n",
      "        [-0.2268, -0.3677,  0.6646]], device='cuda:0', dtype=torch.float16), hidden_states=None, attentions=None)\n"
     ]
    },
    {
     "name": "stderr",
     "output_type": "stream",
     "text": []
    },
    {
     "name": "stdout",
     "output_type": "stream",
     "text": [
      "output of the model SequenceClassifierOutput(loss=None, logits=tensor([[-1.2979,  2.4941, -0.9707],\n",
      "        [ 0.5732, -2.2324,  1.6826],\n",
      "        [ 0.0651,  0.0594, -0.7686],\n",
      "        ...,\n",
      "        [-0.7305, -0.3550,  1.8604],\n",
      "        [-1.0352,  0.0232,  2.0078],\n",
      "        [ 0.8589, -0.7886, -0.7241]], device='cuda:0', dtype=torch.float16), hidden_states=None, attentions=None)\n"
     ]
    },
    {
     "name": "stderr",
     "output_type": "stream",
     "text": []
    },
    {
     "name": "stdout",
     "output_type": "stream",
     "text": [
      "output of the model SequenceClassifierOutput(loss=None, logits=tensor([[-1.5684,  1.3105,  1.1836],\n",
      "        [-1.1768,  0.0905,  1.8467],\n",
      "        [-0.0052, -1.6006,  2.0977],\n",
      "        ...,\n",
      "        [-1.6201,  2.3066,  0.2830],\n",
      "        [-0.4888, -0.5400,  1.7666],\n",
      "        [ 0.0729, -1.5605,  1.5898]], device='cuda:0', dtype=torch.float16), hidden_states=None, attentions=None)\n"
     ]
    },
    {
     "name": "stderr",
     "output_type": "stream",
     "text": []
    },
    {
     "name": "stdout",
     "output_type": "stream",
     "text": [
      "output of the model SequenceClassifierOutput(loss=None, logits=tensor([[ 0.4290, -1.7705,  1.7510],\n",
      "        [ 0.3706, -0.8096,  0.7876],\n",
      "        [-1.4736,  2.6953, -1.0801],\n",
      "        ...,\n",
      "        [ 1.1973, -0.4338, -1.8652],\n",
      "        [ 0.5332, -1.2559,  1.3223],\n",
      "        [-0.5596, -1.5869,  2.4980]], device='cuda:0', dtype=torch.float16), hidden_states=None, attentions=None)\n"
     ]
    },
    {
     "name": "stderr",
     "output_type": "stream",
     "text": []
    },
    {
     "name": "stdout",
     "output_type": "stream",
     "text": [
      "output of the model SequenceClassifierOutput(loss=None, logits=tensor([[ 1.9395, -2.9629,  0.1114],\n",
      "        [ 0.1440, -1.7041,  1.7148],\n",
      "        [-1.1084,  0.7729,  0.6978],\n",
      "        ...,\n",
      "        [ 0.2169, -2.0078,  1.9707],\n",
      "        [ 1.0098, -1.1289, -1.0898],\n",
      "        [ 0.4409, -1.6143,  1.5479]], device='cuda:0', dtype=torch.float16), hidden_states=None, attentions=None)\n"
     ]
    },
    {
     "name": "stderr",
     "output_type": "stream",
     "text": []
    },
    {
     "name": "stdout",
     "output_type": "stream",
     "text": [
      "output of the model SequenceClassifierOutput(loss=None, logits=tensor([[-1.7822,  2.9863, -0.9902],\n",
      "        [ 0.7798, -2.2344,  1.1426],\n",
      "        [-1.1230,  2.2656, -1.0557],\n",
      "        ...,\n",
      "        [ 1.7148, -2.6387,  0.3735],\n",
      "        [-1.1025, -0.4561,  2.4844],\n",
      "        [ 1.8857, -2.5859,  0.0612]], device='cuda:0', dtype=torch.float16), hidden_states=None, attentions=None)\n"
     ]
    },
    {
     "name": "stderr",
     "output_type": "stream",
     "text": []
    },
    {
     "name": "stdout",
     "output_type": "stream",
     "text": [
      "output of the model SequenceClassifierOutput(loss=None, logits=tensor([[-1.7930,  2.6406, -0.2673],\n",
      "        [-1.2930, -0.4036,  2.4609],\n",
      "        [-0.8975, -1.0195,  2.3711],\n",
      "        ...,\n",
      "        [-1.4121,  1.3125,  1.0303],\n",
      "        [-0.6753, -1.0645,  2.4434],\n",
      "        [ 1.4736, -2.0820, -0.4263]], device='cuda:0', dtype=torch.float16), hidden_states=None, attentions=None)\n"
     ]
    },
    {
     "name": "stderr",
     "output_type": "stream",
     "text": []
    },
    {
     "name": "stdout",
     "output_type": "stream",
     "text": [
      "output of the model SequenceClassifierOutput(loss=None, logits=tensor([[ 1.6318, -2.3105, -0.2220],\n",
      "        [-0.2595, -1.8076,  2.2754],\n",
      "        [-0.8291,  0.0555,  1.5557],\n",
      "        ...,\n",
      "        [ 1.9307, -2.5898, -0.5732],\n",
      "        [-0.9575, -1.0576,  2.5508],\n",
      "        [-0.4766, -0.9170,  2.2051]], device='cuda:0', dtype=torch.float16), hidden_states=None, attentions=None)\n"
     ]
    },
    {
     "name": "stderr",
     "output_type": "stream",
     "text": []
    },
    {
     "name": "stdout",
     "output_type": "stream",
     "text": [
      "output of the model SequenceClassifierOutput(loss=None, logits=tensor([[ 0.9097, -2.1543,  0.8320],\n",
      "        [ 1.6553, -2.5703, -0.0414],\n",
      "        [ 0.9731, -2.5078,  1.3301],\n",
      "        ...,\n",
      "        [ 1.9561, -1.7744, -1.5078],\n",
      "        [-1.1514,  0.2900,  1.8369],\n",
      "        [-1.6377,  1.3799,  1.1914]], device='cuda:0', dtype=torch.float16), hidden_states=None, attentions=None)\n"
     ]
    },
    {
     "name": "stderr",
     "output_type": "stream",
     "text": []
    },
    {
     "name": "stdout",
     "output_type": "stream",
     "text": [
      "output of the model SequenceClassifierOutput(loss=None, logits=tensor([[ 1.6240, -1.9238, -1.0088],\n",
      "        [-1.1523,  0.6836,  1.0635],\n",
      "        [-1.5869,  2.9219, -1.1113],\n",
      "        ...,\n",
      "        [-0.0715, -1.9502,  2.2363],\n",
      "        [-0.2415, -1.1553,  2.0020],\n",
      "        [ 1.5332, -2.3359,  0.2306]], device='cuda:0', dtype=torch.float16), hidden_states=None, attentions=None)\n"
     ]
    },
    {
     "name": "stderr",
     "output_type": "stream",
     "text": []
    },
    {
     "name": "stdout",
     "output_type": "stream",
     "text": [
      "output of the model SequenceClassifierOutput(loss=None, logits=tensor([[-0.8979, -0.7578,  2.3965],\n",
      "        [-0.5498, -1.6436,  2.4238],\n",
      "        [ 1.4277, -1.8691, -0.3701],\n",
      "        ...,\n",
      "        [ 0.1060, -2.0742,  2.1660],\n",
      "        [-1.8584,  2.6309, -0.2646],\n",
      "        [-0.4741, -0.4954,  1.3438]], device='cuda:0', dtype=torch.float16), hidden_states=None, attentions=None)\n"
     ]
    },
    {
     "name": "stderr",
     "output_type": "stream",
     "text": []
    },
    {
     "name": "stdout",
     "output_type": "stream",
     "text": [
      "output of the model SequenceClassifierOutput(loss=None, logits=tensor([[-1.2129, -0.4290,  2.1309],\n",
      "        [-1.4277,  0.0130,  2.2891],\n",
      "        [-0.5669,  2.1250, -1.6934],\n",
      "        ...,\n",
      "        [-1.7695,  2.8887, -0.7866],\n",
      "        [-1.3809, -0.0660,  2.3164],\n",
      "        [ 1.9541, -0.8628, -2.0840]], device='cuda:0', dtype=torch.float16), hidden_states=None, attentions=None)\n"
     ]
    },
    {
     "name": "stderr",
     "output_type": "stream",
     "text": []
    },
    {
     "name": "stdout",
     "output_type": "stream",
     "text": [
      "output of the model SequenceClassifierOutput(loss=None, logits=tensor([[ 1.9932, -1.6318, -1.6592],\n",
      "        [-0.2197,  1.4043, -1.5771],\n",
      "        [-0.6187,  1.8398, -1.2988],\n",
      "        ...,\n",
      "        [-1.3145, -0.5410,  2.5723],\n",
      "        [-1.3271, -0.3616,  2.5156],\n",
      "        [-1.3271, -0.3616,  2.5156]], device='cuda:0', dtype=torch.float16), hidden_states=None, attentions=None)\n"
     ]
    },
    {
     "name": "stderr",
     "output_type": "stream",
     "text": []
    },
    {
     "name": "stdout",
     "output_type": "stream",
     "text": [
      "output of the model SequenceClassifierOutput(loss=None, logits=tensor([[-1.0537,  1.4883, -0.3862],\n",
      "        [ 1.3330, -1.9355,  0.0807],\n",
      "        [-0.2090, -0.9976,  1.5127],\n",
      "        ...,\n",
      "        [-0.8364, -0.9751,  2.2441],\n",
      "        [ 0.3372, -1.7080,  1.4727],\n",
      "        [ 0.9595, -1.7969,  0.4460]], device='cuda:0', dtype=torch.float16), hidden_states=None, attentions=None)\n"
     ]
    },
    {
     "name": "stderr",
     "output_type": "stream",
     "text": []
    },
    {
     "name": "stdout",
     "output_type": "stream",
     "text": [
      "output of the model SequenceClassifierOutput(loss=None, logits=tensor([[-0.3079, -1.8535,  2.4746],\n",
      "        [-0.4424, -1.6865,  2.5449],\n",
      "        [ 0.1108, -1.5615,  1.5723],\n",
      "        ...,\n",
      "        [-1.4033,  2.2793, -0.0563],\n",
      "        [ 1.8818, -1.2822, -1.6680],\n",
      "        [-0.1167,  0.4724, -0.9146]], device='cuda:0', dtype=torch.float16), hidden_states=None, attentions=None)\n"
     ]
    },
    {
     "name": "stderr",
     "output_type": "stream",
     "text": []
    },
    {
     "name": "stdout",
     "output_type": "stream",
     "text": [
      "output of the model SequenceClassifierOutput(loss=None, logits=tensor([[-0.4121,  0.3320, -0.3801],\n",
      "        [ 1.3408, -2.5625,  0.7939],\n",
      "        [ 0.0250, -0.6646,  0.5635],\n",
      "        ...,\n",
      "        [ 1.5391, -1.0215, -0.9766],\n",
      "        [-0.6353,  0.0184,  1.5596],\n",
      "        [ 0.8501,  0.6323, -2.2500]], device='cuda:0', dtype=torch.float16), hidden_states=None, attentions=None)\n"
     ]
    },
    {
     "name": "stderr",
     "output_type": "stream",
     "text": []
    },
    {
     "name": "stdout",
     "output_type": "stream",
     "text": [
      "output of the model SequenceClassifierOutput(loss=None, logits=tensor([[ 1.4912, -2.4102,  0.2593],\n",
      "        [-0.5635, -0.7988,  2.1914],\n",
      "        [-0.2739, -1.2773,  1.9268],\n",
      "        ...,\n",
      "        [ 0.2896, -2.5117,  2.1797],\n",
      "        [-1.2783,  2.3770, -0.5859],\n",
      "        [-1.5146,  2.8750, -1.2754]], device='cuda:0', dtype=torch.float16), hidden_states=None, attentions=None)\n"
     ]
    },
    {
     "name": "stderr",
     "output_type": "stream",
     "text": []
    },
    {
     "name": "stdout",
     "output_type": "stream",
     "text": [
      "output of the model SequenceClassifierOutput(loss=None, logits=tensor([[ 1.5010, -1.0752, -1.3115],\n",
      "        [ 1.8799, -1.4873, -1.5703],\n",
      "        [ 1.7822, -1.9990, -1.1855],\n",
      "        ...,\n",
      "        [-0.8301, -1.2451,  2.5703],\n",
      "        [-0.4905, -1.2666,  2.3379],\n",
      "        [ 1.3955, -0.6450, -1.3379]], device='cuda:0', dtype=torch.float16), hidden_states=None, attentions=None)\n"
     ]
    },
    {
     "name": "stderr",
     "output_type": "stream",
     "text": []
    },
    {
     "name": "stdout",
     "output_type": "stream",
     "text": [
      "output of the model SequenceClassifierOutput(loss=None, logits=tensor([[ 0.4062, -1.6113,  1.5703],\n",
      "        [ 0.1248, -1.9707,  2.0078],\n",
      "        [ 1.5146, -1.8398, -0.4775],\n",
      "        ...,\n",
      "        [ 1.3311, -1.4062, -1.1738],\n",
      "        [-0.2478, -0.5757,  1.0342],\n",
      "        [-1.5459,  0.4111,  2.0117]], device='cuda:0', dtype=torch.float16), hidden_states=None, attentions=None)\n"
     ]
    },
    {
     "name": "stderr",
     "output_type": "stream",
     "text": []
    },
    {
     "name": "stdout",
     "output_type": "stream",
     "text": [
      "output of the model SequenceClassifierOutput(loss=None, logits=tensor([[ 2.0039, -1.2578, -1.8145],\n",
      "        [-1.4248,  0.9512,  1.5410],\n",
      "        [ 1.8105, -1.0039, -1.8096],\n",
      "        ...,\n",
      "        [ 0.2419,  0.6509, -1.2188],\n",
      "        [ 1.9639, -2.4199, -0.8594],\n",
      "        [ 0.5923, -2.6602,  2.0293]], device='cuda:0', dtype=torch.float16), hidden_states=None, attentions=None)\n"
     ]
    },
    {
     "name": "stderr",
     "output_type": "stream",
     "text": []
    },
    {
     "name": "stdout",
     "output_type": "stream",
     "text": [
      "output of the model SequenceClassifierOutput(loss=None, logits=tensor([[ 2.0586, -1.4580, -1.8193],\n",
      "        [-0.1713, -1.8486,  2.4023],\n",
      "        [-0.6558, -1.2627,  2.2695],\n",
      "        ...,\n",
      "        [-0.5439, -1.2197,  2.3379],\n",
      "        [-0.5278, -1.6191,  2.4980],\n",
      "        [ 1.5547, -2.3262,  0.0616]], device='cuda:0', dtype=torch.float16), hidden_states=None, attentions=None)\n"
     ]
    },
    {
     "name": "stderr",
     "output_type": "stream",
     "text": []
    },
    {
     "name": "stdout",
     "output_type": "stream",
     "text": [
      "output of the model SequenceClassifierOutput(loss=None, logits=tensor([[ 1.7031, -1.2627, -1.5293],\n",
      "        [ 1.0586, -0.8877, -0.2913],\n",
      "        [-1.2109, -0.5449,  2.3535],\n",
      "        ...,\n",
      "        [ 0.1316, -0.0468,  0.0026],\n",
      "        [-1.0117, -0.7822,  2.4531],\n",
      "        [-0.9731,  0.0086,  1.8330]], device='cuda:0', dtype=torch.float16), hidden_states=None, attentions=None)\n"
     ]
    },
    {
     "name": "stderr",
     "output_type": "stream",
     "text": []
    },
    {
     "name": "stdout",
     "output_type": "stream",
     "text": [
      "output of the model SequenceClassifierOutput(loss=None, logits=tensor([[-1.1045, -0.8906,  2.5586],\n",
      "        [ 0.1938, -1.5762,  1.9072],\n",
      "        [ 0.2156, -2.2695,  2.2773],\n",
      "        ...,\n",
      "        [-0.5308, -1.4014,  2.4453],\n",
      "        [-0.4634, -1.5371,  2.3906],\n",
      "        [-1.3604,  2.1016, -0.3672]], device='cuda:0', dtype=torch.float16), hidden_states=None, attentions=None)\n"
     ]
    },
    {
     "name": "stderr",
     "output_type": "stream",
     "text": []
    },
    {
     "name": "stdout",
     "output_type": "stream",
     "text": [
      "output of the model SequenceClassifierOutput(loss=None, logits=tensor([[ 1.7500, -2.6562,  0.1372],\n",
      "        [ 1.4043, -2.4727,  0.2559],\n",
      "        [-0.7139, -1.2910,  2.4512],\n",
      "        ...,\n",
      "        [ 2.0586, -2.4258, -1.0469],\n",
      "        [ 0.9155, -1.6875,  0.2112],\n",
      "        [ 1.5752, -0.3970, -1.9785]], device='cuda:0', dtype=torch.float16), hidden_states=None, attentions=None)\n"
     ]
    },
    {
     "name": "stderr",
     "output_type": "stream",
     "text": []
    },
    {
     "name": "stdout",
     "output_type": "stream",
     "text": [
      "output of the model SequenceClassifierOutput(loss=None, logits=tensor([[-1.6836,  2.9277, -0.9038],\n",
      "        [ 2.0684, -1.7705, -1.6191],\n",
      "        [-1.6885,  2.9375, -0.9248],\n",
      "        ...,\n",
      "        [-0.1733,  1.3936, -1.7979],\n",
      "        [-1.6182,  2.7383, -0.8882],\n",
      "        [-1.5322,  0.3394,  2.0781]], device='cuda:0', dtype=torch.float16), hidden_states=None, attentions=None)\n"
     ]
    },
    {
     "name": "stderr",
     "output_type": "stream",
     "text": []
    },
    {
     "name": "stdout",
     "output_type": "stream",
     "text": [
      "output of the model SequenceClassifierOutput(loss=None, logits=tensor([[-0.3577, -1.6221,  2.3633],\n",
      "        [-1.3076,  0.5103,  1.7676],\n",
      "        [ 1.7529, -1.3447, -1.5947],\n",
      "        ...,\n",
      "        [-1.7383,  2.4453, -0.3064],\n",
      "        [ 1.5537, -0.6562, -1.8047],\n",
      "        [-1.6377,  1.7559,  0.3811]], device='cuda:0', dtype=torch.float16), hidden_states=None, attentions=None)\n"
     ]
    },
    {
     "name": "stderr",
     "output_type": "stream",
     "text": []
    },
    {
     "name": "stdout",
     "output_type": "stream",
     "text": [
      "output of the model SequenceClassifierOutput(loss=None, logits=tensor([[ 1.9170, -2.1113, -1.1084],\n",
      "        [-0.7949,  1.5225, -0.8398],\n",
      "        [-0.8525, -0.7588,  2.0898],\n",
      "        ...,\n",
      "        [ 1.8604, -2.0195, -1.0059],\n",
      "        [-1.4883,  2.7324, -0.9302],\n",
      "        [-0.5020,  2.0234, -1.8516]], device='cuda:0', dtype=torch.float16), hidden_states=None, attentions=None)\n"
     ]
    },
    {
     "name": "stderr",
     "output_type": "stream",
     "text": []
    },
    {
     "name": "stdout",
     "output_type": "stream",
     "text": [
      "output of the model SequenceClassifierOutput(loss=None, logits=tensor([[-0.7124,  0.6978,  0.2537],\n",
      "        [-1.5029,  2.3672, -0.2971],\n",
      "        [-1.9131,  3.0352, -0.7285],\n",
      "        ...,\n",
      "        [ 1.3330, -0.9668, -1.3848],\n",
      "        [-0.1204,  0.5889, -1.3154],\n",
      "        [-0.3174,  0.8218, -0.8574]], device='cuda:0', dtype=torch.float16), hidden_states=None, attentions=None)\n"
     ]
    },
    {
     "name": "stderr",
     "output_type": "stream",
     "text": []
    },
    {
     "name": "stdout",
     "output_type": "stream",
     "text": [
      "output of the model SequenceClassifierOutput(loss=None, logits=tensor([[-0.3064, -0.4980,  1.3330],\n",
      "        [-0.6948,  0.3735,  0.5840],\n",
      "        [-0.1252,  0.5684, -1.3066],\n",
      "        ...,\n",
      "        [-1.2520, -0.5542,  2.5645],\n",
      "        [-1.1768, -0.7695,  2.5996],\n",
      "        [-0.1661,  0.2747, -0.4512]], device='cuda:0', dtype=torch.float16), hidden_states=None, attentions=None)\n"
     ]
    },
    {
     "name": "stderr",
     "output_type": "stream",
     "text": []
    },
    {
     "name": "stdout",
     "output_type": "stream",
     "text": [
      "output of the model SequenceClassifierOutput(loss=None, logits=tensor([[-0.8198, -0.8564,  2.3809],\n",
      "        [-0.6523,  1.7266, -1.5156],\n",
      "        [-0.3284, -1.7881,  2.4902],\n",
      "        ...,\n",
      "        [ 0.7739, -2.1289,  1.4072],\n",
      "        [-0.2334, -1.8740,  2.2812],\n",
      "        [ 1.6484, -2.5215, -0.1730]], device='cuda:0', dtype=torch.float16), hidden_states=None, attentions=None)\n"
     ]
    },
    {
     "name": "stderr",
     "output_type": "stream",
     "text": []
    },
    {
     "name": "stdout",
     "output_type": "stream",
     "text": [
      "output of the model SequenceClassifierOutput(loss=None, logits=tensor([[ 1.6025, -1.8213, -0.9873],\n",
      "        [ 0.0675,  1.1348, -1.8232],\n",
      "        [ 0.2717,  0.2128, -1.1387],\n",
      "        ...,\n",
      "        [ 1.9053, -1.6064, -1.2598],\n",
      "        [-0.6860, -0.9209,  2.1855],\n",
      "        [ 1.4189, -2.2891,  0.3096]], device='cuda:0', dtype=torch.float16), hidden_states=None, attentions=None)\n"
     ]
    },
    {
     "name": "stderr",
     "output_type": "stream",
     "text": [
      "Processing batches (chunk 13): 100%|██████████| 98/98 [00:34<00:00,  2.81it/s]\n",
      "Processing chunks:  10%|▉         | 13/131 [07:37<1:09:02, 35.10s/it]"
     ]
    },
    {
     "name": "stdout",
     "output_type": "stream",
     "text": [
      "output of the model SequenceClassifierOutput(loss=None, logits=tensor([[ 1.4189, -2.2891,  0.3096],\n",
      "        [ 1.0801, -2.6016,  1.4639],\n",
      "        [ 0.1329, -1.9414,  1.7305],\n",
      "        ...,\n",
      "        [-0.1271, -1.2568,  1.5273],\n",
      "        [ 0.0034, -2.2812,  2.3379],\n",
      "        [ 1.9072, -2.7285,  0.2178]], device='cuda:0', dtype=torch.float16), hidden_states=None, attentions=None)\n"
     ]
    },
    {
     "name": "stderr",
     "output_type": "stream",
     "text": []
    },
    {
     "name": "stdout",
     "output_type": "stream",
     "text": [
      "output of the model SequenceClassifierOutput(loss=None, logits=tensor([[-0.0792, -1.6611,  2.0391],\n",
      "        [ 2.0234, -1.5283, -1.6816],\n",
      "        [ 1.4502, -2.3633,  0.1842],\n",
      "        ...,\n",
      "        [ 0.1154, -1.2822,  1.2666],\n",
      "        [ 1.9873, -1.6504, -1.5957],\n",
      "        [ 1.7598, -1.5283, -1.4443]], device='cuda:0', dtype=torch.float16), hidden_states=None, attentions=None)\n"
     ]
    },
    {
     "name": "stderr",
     "output_type": "stream",
     "text": []
    },
    {
     "name": "stdout",
     "output_type": "stream",
     "text": [
      "output of the model SequenceClassifierOutput(loss=None, logits=tensor([[-0.8301,  1.2188, -0.3091],\n",
      "        [-0.2257,  1.4629, -1.8535],\n",
      "        [ 2.0098, -1.6846, -1.5957],\n",
      "        ...,\n",
      "        [-0.5195,  2.0449, -1.5039],\n",
      "        [ 0.2520,  0.9883, -1.6982],\n",
      "        [ 1.4834, -0.9585, -1.4902]], device='cuda:0', dtype=torch.float16), hidden_states=None, attentions=None)\n"
     ]
    },
    {
     "name": "stderr",
     "output_type": "stream",
     "text": []
    },
    {
     "name": "stdout",
     "output_type": "stream",
     "text": [
      "output of the model SequenceClassifierOutput(loss=None, logits=tensor([[ 1.7783, -1.4023, -1.4600],\n",
      "        [-0.7231,  2.1777, -1.3379],\n",
      "        [-1.0928,  2.5293, -1.2725],\n",
      "        ...,\n",
      "        [-1.5957,  1.5889,  0.8569],\n",
      "        [ 1.8486, -0.8657, -1.9346],\n",
      "        [ 0.3005, -1.5723,  1.3232]], device='cuda:0', dtype=torch.float16), hidden_states=None, attentions=None)\n"
     ]
    },
    {
     "name": "stderr",
     "output_type": "stream",
     "text": []
    },
    {
     "name": "stdout",
     "output_type": "stream",
     "text": [
      "output of the model SequenceClassifierOutput(loss=None, logits=tensor([[-0.5615, -1.1465,  2.0312],\n",
      "        [-0.2263, -1.9053,  2.3066],\n",
      "        [-0.7295,  0.7988, -0.4087],\n",
      "        ...,\n",
      "        [ 1.3076, -0.9854, -0.6611],\n",
      "        [-0.3115, -1.4053,  2.2031],\n",
      "        [ 0.1909, -2.0039,  1.9346]], device='cuda:0', dtype=torch.float16), hidden_states=None, attentions=None)\n"
     ]
    },
    {
     "name": "stderr",
     "output_type": "stream",
     "text": []
    },
    {
     "name": "stdout",
     "output_type": "stream",
     "text": [
      "output of the model SequenceClassifierOutput(loss=None, logits=tensor([[ 1.4609, -1.3193, -0.5493],\n",
      "        [-0.1797, -2.0234,  2.3027],\n",
      "        [ 1.8594, -2.7969,  0.0624],\n",
      "        ...,\n",
      "        [ 0.0205, -0.1698, -0.3040],\n",
      "        [ 1.2969, -2.5371,  1.1084],\n",
      "        [-0.4922,  1.6416, -1.5703]], device='cuda:0', dtype=torch.float16), hidden_states=None, attentions=None)\n"
     ]
    },
    {
     "name": "stderr",
     "output_type": "stream",
     "text": []
    },
    {
     "name": "stdout",
     "output_type": "stream",
     "text": [
      "output of the model SequenceClassifierOutput(loss=None, logits=tensor([[-1.1025e+00,  1.8877e+00, -1.1587e-03],\n",
      "        [ 1.9238e+00, -1.6055e+00, -1.5469e+00],\n",
      "        [ 1.8408e+00, -2.0410e+00, -1.1543e+00],\n",
      "        ...,\n",
      "        [-1.2021e+00, -4.5630e-01,  2.2227e+00],\n",
      "        [-1.4658e+00,  2.2583e-01,  2.0918e+00],\n",
      "        [-1.5664e+00,  2.4492e+00, -6.2305e-01]], device='cuda:0',\n",
      "       dtype=torch.float16), hidden_states=None, attentions=None)\n"
     ]
    },
    {
     "name": "stderr",
     "output_type": "stream",
     "text": []
    },
    {
     "name": "stdout",
     "output_type": "stream",
     "text": [
      "output of the model SequenceClassifierOutput(loss=None, logits=tensor([[-1.6426,  1.5518,  1.0166],\n",
      "        [-1.7021,  2.0566,  0.7046],\n",
      "        [-0.5840,  0.0890,  0.7407],\n",
      "        ...,\n",
      "        [-1.1543,  0.4084,  1.4375],\n",
      "        [ 1.4150, -0.3169, -1.9141],\n",
      "        [-0.1904,  1.2012, -1.7207]], device='cuda:0', dtype=torch.float16), hidden_states=None, attentions=None)\n"
     ]
    },
    {
     "name": "stderr",
     "output_type": "stream",
     "text": []
    },
    {
     "name": "stdout",
     "output_type": "stream",
     "text": [
      "output of the model SequenceClassifierOutput(loss=None, logits=tensor([[ 1.7490, -2.6152, -0.0086],\n",
      "        [-0.5000,  0.3481,  0.2776],\n",
      "        [-1.5107,  0.2766,  2.1074],\n",
      "        ...,\n",
      "        [-1.2930, -0.6006,  2.6152],\n",
      "        [-0.9575, -1.0078,  2.4277],\n",
      "        [-0.9375,  0.6899,  0.4683]], device='cuda:0', dtype=torch.float16), hidden_states=None, attentions=None)\n"
     ]
    },
    {
     "name": "stderr",
     "output_type": "stream",
     "text": []
    },
    {
     "name": "stdout",
     "output_type": "stream",
     "text": [
      "output of the model SequenceClassifierOutput(loss=None, logits=tensor([[ 0.8335, -2.4473,  1.4639],\n",
      "        [ 1.2295, -2.6387,  1.0879],\n",
      "        [-1.7490,  3.0000, -0.9429],\n",
      "        ...,\n",
      "        [ 1.8184, -1.5381, -1.6748],\n",
      "        [ 0.0161,  0.0302, -0.7764],\n",
      "        [ 1.6025, -1.7051, -1.2285]], device='cuda:0', dtype=torch.float16), hidden_states=None, attentions=None)\n"
     ]
    },
    {
     "name": "stderr",
     "output_type": "stream",
     "text": []
    },
    {
     "name": "stdout",
     "output_type": "stream",
     "text": [
      "output of the model SequenceClassifierOutput(loss=None, logits=tensor([[-1.5127,  2.1895, -0.0447],\n",
      "        [-1.0449,  0.0684,  1.8438],\n",
      "        [-0.0753, -1.9395,  2.0664],\n",
      "        ...,\n",
      "        [ 1.1807, -1.6475,  0.1305],\n",
      "        [ 1.9912, -1.9932, -1.4131],\n",
      "        [-0.8467, -0.5430,  2.1777]], device='cuda:0', dtype=torch.float16), hidden_states=None, attentions=None)\n"
     ]
    },
    {
     "name": "stderr",
     "output_type": "stream",
     "text": []
    },
    {
     "name": "stdout",
     "output_type": "stream",
     "text": [
      "output of the model SequenceClassifierOutput(loss=None, logits=tensor([[-0.6724,  1.3994, -1.0078],\n",
      "        [-0.9409, -0.9634,  2.3711],\n",
      "        [ 1.7432, -2.1445, -0.9546],\n",
      "        ...,\n",
      "        [ 1.6699, -0.9912, -1.7832],\n",
      "        [ 0.6187, -2.5273,  1.9648],\n",
      "        [ 0.2465, -2.2988,  2.2383]], device='cuda:0', dtype=torch.float16), hidden_states=None, attentions=None)\n"
     ]
    },
    {
     "name": "stderr",
     "output_type": "stream",
     "text": []
    },
    {
     "name": "stdout",
     "output_type": "stream",
     "text": [
      "output of the model SequenceClassifierOutput(loss=None, logits=tensor([[ 0.9126, -2.4238,  1.2363],\n",
      "        [-0.0822, -1.9023,  2.2852],\n",
      "        [-1.2539,  2.1914, -0.7090],\n",
      "        ...,\n",
      "        [ 2.0371, -2.2305, -1.1260],\n",
      "        [ 1.4043, -2.2324,  0.0137],\n",
      "        [-1.5400,  2.4512, -0.6616]], device='cuda:0', dtype=torch.float16), hidden_states=None, attentions=None)\n"
     ]
    },
    {
     "name": "stderr",
     "output_type": "stream",
     "text": []
    },
    {
     "name": "stdout",
     "output_type": "stream",
     "text": [
      "output of the model SequenceClassifierOutput(loss=None, logits=tensor([[-0.9429, -1.0889,  2.5410],\n",
      "        [-0.7803, -0.8784,  2.3477],\n",
      "        [ 1.5332, -2.6367,  0.6025],\n",
      "        ...,\n",
      "        [-0.8506, -0.9790,  2.1719],\n",
      "        [-0.2313, -1.4668,  1.9326],\n",
      "        [-0.8931, -1.0010,  2.2598]], device='cuda:0', dtype=torch.float16), hidden_states=None, attentions=None)\n"
     ]
    },
    {
     "name": "stderr",
     "output_type": "stream",
     "text": []
    },
    {
     "name": "stdout",
     "output_type": "stream",
     "text": [
      "output of the model SequenceClassifierOutput(loss=None, logits=tensor([[-0.9360, -0.9175,  2.2441],\n",
      "        [-0.8481, -1.0000,  2.4961],\n",
      "        [-0.9565, -0.9331,  2.2754],\n",
      "        ...,\n",
      "        [-1.8174,  2.9551, -0.6978],\n",
      "        [-1.6719,  1.6553,  1.2158],\n",
      "        [ 0.0348, -1.9561,  2.0820]], device='cuda:0', dtype=torch.float16), hidden_states=None, attentions=None)\n"
     ]
    },
    {
     "name": "stderr",
     "output_type": "stream",
     "text": []
    },
    {
     "name": "stdout",
     "output_type": "stream",
     "text": [
      "output of the model SequenceClassifierOutput(loss=None, logits=tensor([[-1.4893,  0.3818,  1.9824],\n",
      "        [-1.1123, -0.8105,  2.4082],\n",
      "        [-1.7207,  2.5059, -0.2058],\n",
      "        ...,\n",
      "        [-1.6211,  0.9507,  1.8789],\n",
      "        [-1.1592, -0.0620,  1.8574],\n",
      "        [-0.8735, -1.0293,  2.5156]], device='cuda:0', dtype=torch.float16), hidden_states=None, attentions=None)\n"
     ]
    },
    {
     "name": "stderr",
     "output_type": "stream",
     "text": []
    },
    {
     "name": "stdout",
     "output_type": "stream",
     "text": [
      "output of the model SequenceClassifierOutput(loss=None, logits=tensor([[-1.4883,  1.8535,  0.4348],\n",
      "        [-0.8735, -1.0293,  2.5156],\n",
      "        [-0.8433, -1.0332,  2.3633],\n",
      "        ...,\n",
      "        [ 0.0613, -0.0927, -0.7646],\n",
      "        [-0.2415, -1.1553,  2.0020],\n",
      "        [-0.0723, -2.0762,  2.2812]], device='cuda:0', dtype=torch.float16), hidden_states=None, attentions=None)\n"
     ]
    },
    {
     "name": "stderr",
     "output_type": "stream",
     "text": []
    },
    {
     "name": "stdout",
     "output_type": "stream",
     "text": [
      "output of the model SequenceClassifierOutput(loss=None, logits=tensor([[-0.2607,  0.7812, -1.4541],\n",
      "        [-1.2783,  2.3770, -0.5859],\n",
      "        [-0.5850, -1.8096,  2.5410],\n",
      "        ...,\n",
      "        [-1.6660,  2.8711, -1.0146],\n",
      "        [-1.6260,  2.9648, -1.1318],\n",
      "        [-1.4590,  2.1172, -0.1937]], device='cuda:0', dtype=torch.float16), hidden_states=None, attentions=None)\n"
     ]
    },
    {
     "name": "stderr",
     "output_type": "stream",
     "text": []
    },
    {
     "name": "stdout",
     "output_type": "stream",
     "text": [
      "output of the model SequenceClassifierOutput(loss=None, logits=tensor([[ 0.5293, -1.9902,  1.7227],\n",
      "        [-0.6118, -0.0282,  0.9106],\n",
      "        [ 0.7080, -1.0479, -0.0099],\n",
      "        ...,\n",
      "        [ 0.4626, -2.4141,  1.8984],\n",
      "        [ 0.4084, -2.4277,  2.0039],\n",
      "        [ 1.9521, -1.6611, -1.5820]], device='cuda:0', dtype=torch.float16), hidden_states=None, attentions=None)\n"
     ]
    },
    {
     "name": "stderr",
     "output_type": "stream",
     "text": []
    },
    {
     "name": "stdout",
     "output_type": "stream",
     "text": [
      "output of the model SequenceClassifierOutput(loss=None, logits=tensor([[ 2.0137, -2.1855, -1.1973],\n",
      "        [ 0.6890, -2.6562,  1.9766],\n",
      "        [-0.1958, -2.1309,  2.4102],\n",
      "        ...,\n",
      "        [-0.9009, -0.6123,  2.1191],\n",
      "        [-1.0107, -0.8105,  2.5430],\n",
      "        [-1.0107, -0.8105,  2.5430]], device='cuda:0', dtype=torch.float16), hidden_states=None, attentions=None)\n"
     ]
    },
    {
     "name": "stderr",
     "output_type": "stream",
     "text": []
    },
    {
     "name": "stdout",
     "output_type": "stream",
     "text": [
      "output of the model SequenceClassifierOutput(loss=None, logits=tensor([[-0.7041, -1.1309,  2.3984],\n",
      "        [ 0.3757, -1.4580,  0.4414],\n",
      "        [-1.1328, -0.7285,  2.4883],\n",
      "        ...,\n",
      "        [-0.2009,  1.2539, -1.5176],\n",
      "        [-1.4111, -0.1620,  2.4277],\n",
      "        [ 1.1328, -2.2148,  0.6953]], device='cuda:0', dtype=torch.float16), hidden_states=None, attentions=None)\n"
     ]
    },
    {
     "name": "stderr",
     "output_type": "stream",
     "text": []
    },
    {
     "name": "stdout",
     "output_type": "stream",
     "text": [
      "output of the model SequenceClassifierOutput(loss=None, logits=tensor([[ 0.1642, -1.1592,  1.1045],\n",
      "        [-0.9658, -0.8047,  2.3535],\n",
      "        [-0.0039, -0.9385,  1.2070],\n",
      "        ...,\n",
      "        [ 0.5747, -2.1680,  1.7275],\n",
      "        [-0.1606, -1.6182,  2.1348],\n",
      "        [-0.5659, -1.1562,  2.0840]], device='cuda:0', dtype=torch.float16), hidden_states=None, attentions=None)\n"
     ]
    },
    {
     "name": "stderr",
     "output_type": "stream",
     "text": []
    },
    {
     "name": "stdout",
     "output_type": "stream",
     "text": [
      "output of the model SequenceClassifierOutput(loss=None, logits=tensor([[-1.6572,  1.5859,  1.2285],\n",
      "        [-0.3396, -1.8350,  2.3984],\n",
      "        [-0.2465, -1.9883,  2.4199],\n",
      "        ...,\n",
      "        [-1.6924,  1.3818,  1.3076],\n",
      "        [-1.3271,  2.1582, -0.4272],\n",
      "        [-0.1116,  0.3384, -0.8184]], device='cuda:0', dtype=torch.float16), hidden_states=None, attentions=None)\n"
     ]
    },
    {
     "name": "stderr",
     "output_type": "stream",
     "text": []
    },
    {
     "name": "stdout",
     "output_type": "stream",
     "text": [
      "output of the model SequenceClassifierOutput(loss=None, logits=tensor([[ 4.9609e-01, -2.5449e+00,  2.1699e+00],\n",
      "        [ 1.1108e-01, -2.1582e+00,  2.2559e+00],\n",
      "        [ 2.2559e-01, -3.4741e-01, -1.6455e-01],\n",
      "        ...,\n",
      "        [ 1.9600e+00, -1.6963e+00, -1.5605e+00],\n",
      "        [-1.2798e-03,  1.6693e-02, -5.6104e-01],\n",
      "        [-1.4238e+00,  1.1365e-01,  2.1289e+00]], device='cuda:0',\n",
      "       dtype=torch.float16), hidden_states=None, attentions=None)\n"
     ]
    },
    {
     "name": "stderr",
     "output_type": "stream",
     "text": []
    },
    {
     "name": "stdout",
     "output_type": "stream",
     "text": [
      "output of the model SequenceClassifierOutput(loss=None, logits=tensor([[ 1.7393, -2.6367,  0.2981],\n",
      "        [-0.6831, -0.2852,  1.7666],\n",
      "        [ 1.1992, -1.7783, -0.4509],\n",
      "        ...,\n",
      "        [ 0.2084, -0.6265, -0.2294],\n",
      "        [ 1.9639, -1.3340, -1.7617],\n",
      "        [-0.4104, -0.4558,  0.5005]], device='cuda:0', dtype=torch.float16), hidden_states=None, attentions=None)\n"
     ]
    },
    {
     "name": "stderr",
     "output_type": "stream",
     "text": []
    },
    {
     "name": "stdout",
     "output_type": "stream",
     "text": [
      "output of the model SequenceClassifierOutput(loss=None, logits=tensor([[ 0.8335, -1.3477, -0.0793],\n",
      "        [-1.7021,  2.9297, -0.9492],\n",
      "        [-1.7822,  2.9805, -0.8657],\n",
      "        ...,\n",
      "        [ 1.7139, -2.3867,  0.3389],\n",
      "        [-0.6582, -0.1178,  1.1270],\n",
      "        [ 0.1746, -2.2109,  2.2461]], device='cuda:0', dtype=torch.float16), hidden_states=None, attentions=None)\n"
     ]
    },
    {
     "name": "stderr",
     "output_type": "stream",
     "text": []
    },
    {
     "name": "stdout",
     "output_type": "stream",
     "text": [
      "output of the model SequenceClassifierOutput(loss=None, logits=tensor([[ 0.6885, -2.6270,  1.8887],\n",
      "        [-0.3154, -0.1754,  0.7305],\n",
      "        [ 0.5830, -1.9268,  1.7588],\n",
      "        ...,\n",
      "        [ 0.3157, -2.1465,  2.1133],\n",
      "        [-0.6226, -0.9961,  1.9893],\n",
      "        [-0.4148, -1.7910,  2.3555]], device='cuda:0', dtype=torch.float16), hidden_states=None, attentions=None)\n"
     ]
    },
    {
     "name": "stderr",
     "output_type": "stream",
     "text": []
    },
    {
     "name": "stdout",
     "output_type": "stream",
     "text": [
      "output of the model SequenceClassifierOutput(loss=None, logits=tensor([[-0.2544, -1.8164,  2.4785],\n",
      "        [-0.1201, -1.0303,  1.6660],\n",
      "        [ 1.7432, -1.8320, -0.2444],\n",
      "        ...,\n",
      "        [ 1.9434, -2.5039, -0.7158],\n",
      "        [-0.4771, -1.6328,  2.4238],\n",
      "        [-1.1416, -0.8047,  2.5684]], device='cuda:0', dtype=torch.float16), hidden_states=None, attentions=None)\n"
     ]
    },
    {
     "name": "stderr",
     "output_type": "stream",
     "text": []
    },
    {
     "name": "stdout",
     "output_type": "stream",
     "text": [
      "output of the model SequenceClassifierOutput(loss=None, logits=tensor([[ 1.2617, -1.7158, -0.1704],\n",
      "        [ 0.1255, -0.7046,  0.1290],\n",
      "        [ 1.3262, -2.0938,  0.1120],\n",
      "        ...,\n",
      "        [ 0.7139, -2.3594,  1.6523],\n",
      "        [-1.6953,  1.2070,  1.4268],\n",
      "        [-0.6074, -1.4111,  2.4121]], device='cuda:0', dtype=torch.float16), hidden_states=None, attentions=None)\n"
     ]
    },
    {
     "name": "stderr",
     "output_type": "stream",
     "text": []
    },
    {
     "name": "stdout",
     "output_type": "stream",
     "text": [
      "output of the model SequenceClassifierOutput(loss=None, logits=tensor([[-1.3115,  0.2803,  2.0391],\n",
      "        [ 0.0818, -1.7695,  1.9805],\n",
      "        [ 0.7134, -1.9336,  1.4150],\n",
      "        ...,\n",
      "        [-1.6279,  2.6230, -0.2053],\n",
      "        [-1.3721,  1.8447, -0.0141],\n",
      "        [-1.7070,  2.3340,  0.4417]], device='cuda:0', dtype=torch.float16), hidden_states=None, attentions=None)\n"
     ]
    },
    {
     "name": "stderr",
     "output_type": "stream",
     "text": []
    },
    {
     "name": "stdout",
     "output_type": "stream",
     "text": [
      "output of the model SequenceClassifierOutput(loss=None, logits=tensor([[-1.0176, -0.7632,  2.3828],\n",
      "        [-1.1816, -0.4268,  2.2051],\n",
      "        [-0.5830, -1.4482,  2.4121],\n",
      "        ...,\n",
      "        [-1.1123,  0.2529,  1.8662],\n",
      "        [ 0.0651,  0.8267, -1.6279],\n",
      "        [ 1.3066, -1.7402, -0.2446]], device='cuda:0', dtype=torch.float16), hidden_states=None, attentions=None)\n"
     ]
    },
    {
     "name": "stderr",
     "output_type": "stream",
     "text": []
    },
    {
     "name": "stdout",
     "output_type": "stream",
     "text": [
      "output of the model SequenceClassifierOutput(loss=None, logits=tensor([[-0.3923, -0.5078,  1.6035],\n",
      "        [-1.0391,  0.7153,  0.7002],\n",
      "        [-1.7471,  2.6113, -0.1159],\n",
      "        ...,\n",
      "        [-1.0371, -0.8770,  2.6602],\n",
      "        [-0.1036, -2.1055,  2.4121],\n",
      "        [ 1.0381, -0.8760, -1.3086]], device='cuda:0', dtype=torch.float16), hidden_states=None, attentions=None)\n"
     ]
    },
    {
     "name": "stderr",
     "output_type": "stream",
     "text": []
    },
    {
     "name": "stdout",
     "output_type": "stream",
     "text": [
      "output of the model SequenceClassifierOutput(loss=None, logits=tensor([[ 1.5986, -0.8057, -1.7041],\n",
      "        [ 1.8955, -2.3477, -0.9424],\n",
      "        [ 1.9287, -2.2617, -1.1270],\n",
      "        ...,\n",
      "        [ 0.8901, -1.3096, -0.2517],\n",
      "        [ 0.2607, -1.3848,  1.1416],\n",
      "        [ 1.3164, -2.2637,  0.3660]], device='cuda:0', dtype=torch.float16), hidden_states=None, attentions=None)\n"
     ]
    },
    {
     "name": "stderr",
     "output_type": "stream",
     "text": []
    },
    {
     "name": "stdout",
     "output_type": "stream",
     "text": [
      "output of the model SequenceClassifierOutput(loss=None, logits=tensor([[ 0.3843, -1.1367,  0.5161],\n",
      "        [ 0.8618, -2.4590,  1.6514],\n",
      "        [-1.7354,  2.4258,  0.2328],\n",
      "        ...,\n",
      "        [-1.8877,  3.0293, -0.8032],\n",
      "        [-1.9717,  2.9062, -0.4958],\n",
      "        [-0.5132, -1.1553,  2.3164]], device='cuda:0', dtype=torch.float16), hidden_states=None, attentions=None)\n"
     ]
    },
    {
     "name": "stderr",
     "output_type": "stream",
     "text": []
    },
    {
     "name": "stdout",
     "output_type": "stream",
     "text": [
      "output of the model SequenceClassifierOutput(loss=None, logits=tensor([[-0.0435, -1.9697,  2.1426],\n",
      "        [-0.8472,  0.2527,  0.5449],\n",
      "        [-1.4912,  2.2773, -0.0508],\n",
      "        ...,\n",
      "        [ 1.9033, -2.2500, -1.0156],\n",
      "        [ 0.3313, -2.2461,  1.9111],\n",
      "        [-0.8149, -0.5132,  2.0430]], device='cuda:0', dtype=torch.float16), hidden_states=None, attentions=None)\n"
     ]
    },
    {
     "name": "stderr",
     "output_type": "stream",
     "text": []
    },
    {
     "name": "stdout",
     "output_type": "stream",
     "text": [
      "output of the model SequenceClassifierOutput(loss=None, logits=tensor([[-0.1479, -1.9678,  2.3828],\n",
      "        [-0.8501, -1.4268,  2.5977],\n",
      "        [-0.6479, -0.5063,  1.9980],\n",
      "        ...,\n",
      "        [ 0.3440, -1.5947,  1.7109],\n",
      "        [ 1.9375, -1.7559, -1.3467],\n",
      "        [ 0.3440, -1.5947,  1.7109]], device='cuda:0', dtype=torch.float16), hidden_states=None, attentions=None)\n"
     ]
    },
    {
     "name": "stderr",
     "output_type": "stream",
     "text": []
    },
    {
     "name": "stdout",
     "output_type": "stream",
     "text": [
      "output of the model SequenceClassifierOutput(loss=None, logits=tensor([[ 1.9609, -2.0898, -0.9258],\n",
      "        [ 1.3857, -1.2598, -1.0410],\n",
      "        [ 1.8271, -2.4727, -0.2151],\n",
      "        ...,\n",
      "        [ 0.1144, -0.6699, -0.0530],\n",
      "        [ 0.0029, -0.7754,  0.9185],\n",
      "        [ 0.0783, -2.1660,  2.2773]], device='cuda:0', dtype=torch.float16), hidden_states=None, attentions=None)\n"
     ]
    },
    {
     "name": "stderr",
     "output_type": "stream",
     "text": []
    },
    {
     "name": "stdout",
     "output_type": "stream",
     "text": [
      "output of the model SequenceClassifierOutput(loss=None, logits=tensor([[-0.0121, -1.9023,  2.1621],\n",
      "        [ 1.8662, -1.4238, -1.5664],\n",
      "        [-1.2939, -0.6284,  2.5430],\n",
      "        ...,\n",
      "        [ 1.6387, -1.6494, -1.0986],\n",
      "        [-0.1427,  0.1509, -0.5557],\n",
      "        [-1.4463,  0.1226,  2.1758]], device='cuda:0', dtype=torch.float16), hidden_states=None, attentions=None)\n"
     ]
    },
    {
     "name": "stderr",
     "output_type": "stream",
     "text": []
    },
    {
     "name": "stdout",
     "output_type": "stream",
     "text": [
      "output of the model SequenceClassifierOutput(loss=None, logits=tensor([[-1.4482,  1.9814,  0.1046],\n",
      "        [-0.6753, -1.0645,  2.4434],\n",
      "        [-0.3640, -1.6348,  2.4961],\n",
      "        ...,\n",
      "        [-0.5400, -0.3462,  1.1543],\n",
      "        [-1.1621, -0.5674,  2.4688],\n",
      "        [-0.4619, -0.2698,  1.0654]], device='cuda:0', dtype=torch.float16), hidden_states=None, attentions=None)\n"
     ]
    },
    {
     "name": "stderr",
     "output_type": "stream",
     "text": []
    },
    {
     "name": "stdout",
     "output_type": "stream",
     "text": [
      "output of the model SequenceClassifierOutput(loss=None, logits=tensor([[-1.8135,  3.0078, -0.8799],\n",
      "        [-1.6611,  2.9316, -0.9834],\n",
      "        [-1.6309,  1.3506,  1.1934],\n",
      "        ...,\n",
      "        [-1.2080, -0.6587,  2.5117],\n",
      "        [-1.8213,  3.0293, -0.8711],\n",
      "        [-0.5771, -1.3799,  2.4277]], device='cuda:0', dtype=torch.float16), hidden_states=None, attentions=None)\n"
     ]
    },
    {
     "name": "stderr",
     "output_type": "stream",
     "text": []
    },
    {
     "name": "stdout",
     "output_type": "stream",
     "text": [
      "output of the model SequenceClassifierOutput(loss=None, logits=tensor([[-0.5825, -1.3789,  2.4473],\n",
      "        [ 0.0453, -0.3484,  0.1581],\n",
      "        [-0.9663, -1.0674,  2.4551],\n",
      "        ...,\n",
      "        [-1.2744,  0.2949,  1.9463],\n",
      "        [-0.1823, -1.1357,  1.3359],\n",
      "        [-1.5303,  0.4802,  1.9482]], device='cuda:0', dtype=torch.float16), hidden_states=None, attentions=None)\n"
     ]
    },
    {
     "name": "stderr",
     "output_type": "stream",
     "text": []
    },
    {
     "name": "stdout",
     "output_type": "stream",
     "text": [
      "output of the model SequenceClassifierOutput(loss=None, logits=tensor([[-0.9385, -0.5889,  2.2305],\n",
      "        [-1.3477,  0.7007,  1.6416],\n",
      "        [ 1.7549, -2.3828, -0.5571],\n",
      "        ...,\n",
      "        [-1.5303,  2.3906, -0.5117],\n",
      "        [-1.4590,  0.2085,  2.0957],\n",
      "        [ 0.8521, -2.2402,  1.2188]], device='cuda:0', dtype=torch.float16), hidden_states=None, attentions=None)\n"
     ]
    },
    {
     "name": "stderr",
     "output_type": "stream",
     "text": []
    },
    {
     "name": "stdout",
     "output_type": "stream",
     "text": [
      "output of the model SequenceClassifierOutput(loss=None, logits=tensor([[-1.6709,  2.7969, -0.7246],\n",
      "        [-1.6572,  0.9629,  1.7061],\n",
      "        [-1.2734,  0.0737,  2.1699],\n",
      "        ...,\n",
      "        [-0.6396,  2.2891, -1.8252],\n",
      "        [ 1.7500, -0.8257, -1.9258],\n",
      "        [-0.8452, -0.1565,  1.8877]], device='cuda:0', dtype=torch.float16), hidden_states=None, attentions=None)\n"
     ]
    },
    {
     "name": "stderr",
     "output_type": "stream",
     "text": []
    },
    {
     "name": "stdout",
     "output_type": "stream",
     "text": [
      "output of the model SequenceClassifierOutput(loss=None, logits=tensor([[-1.4121,  1.3125,  1.0303],\n",
      "        [-1.6035,  1.1006,  1.5879],\n",
      "        [-0.7617, -0.1417,  1.4229],\n",
      "        ...,\n",
      "        [ 0.0053, -1.5420,  1.5439],\n",
      "        [-1.8145,  2.9277, -0.7056],\n",
      "        [-1.0215,  0.1327,  1.8926]], device='cuda:0', dtype=torch.float16), hidden_states=None, attentions=None)\n"
     ]
    },
    {
     "name": "stderr",
     "output_type": "stream",
     "text": []
    },
    {
     "name": "stdout",
     "output_type": "stream",
     "text": [
      "output of the model SequenceClassifierOutput(loss=None, logits=tensor([[-0.9062,  0.3796,  0.4458],\n",
      "        [-0.0105, -1.9180,  2.1191],\n",
      "        [ 1.9492, -2.7168, -0.0616],\n",
      "        ...,\n",
      "        [ 1.2979, -0.8535, -0.5801],\n",
      "        [ 2.0254, -1.4062, -1.7920],\n",
      "        [-0.3591, -1.4668,  2.3027]], device='cuda:0', dtype=torch.float16), hidden_states=None, attentions=None)\n"
     ]
    },
    {
     "name": "stderr",
     "output_type": "stream",
     "text": []
    },
    {
     "name": "stdout",
     "output_type": "stream",
     "text": [
      "output of the model SequenceClassifierOutput(loss=None, logits=tensor([[-8.7830e-02, -1.7305e+00,  2.0957e+00],\n",
      "        [-5.8984e-01, -1.3418e+00,  2.3555e+00],\n",
      "        [-9.0186e-01, -5.3453e-04,  1.5537e+00],\n",
      "        ...,\n",
      "        [-1.0674e+00, -3.4448e-01,  2.3301e+00],\n",
      "        [-4.8901e-01,  1.6328e+00, -1.5576e+00],\n",
      "        [ 1.1494e+00, -2.5635e-01, -1.7227e+00]], device='cuda:0',\n",
      "       dtype=torch.float16), hidden_states=None, attentions=None)\n"
     ]
    },
    {
     "name": "stderr",
     "output_type": "stream",
     "text": []
    },
    {
     "name": "stdout",
     "output_type": "stream",
     "text": [
      "output of the model SequenceClassifierOutput(loss=None, logits=tensor([[-0.8691, -0.8662,  2.3691],\n",
      "        [-1.5713,  0.5405,  1.9365],\n",
      "        [-0.9741, -0.4209,  2.1426],\n",
      "        ...,\n",
      "        [-0.0762, -1.7129,  2.0762],\n",
      "        [-1.5459,  1.7646,  0.1659],\n",
      "        [-0.8467, -0.5430,  2.1777]], device='cuda:0', dtype=torch.float16), hidden_states=None, attentions=None)\n"
     ]
    },
    {
     "name": "stderr",
     "output_type": "stream",
     "text": []
    },
    {
     "name": "stdout",
     "output_type": "stream",
     "text": [
      "output of the model SequenceClassifierOutput(loss=None, logits=tensor([[ 0.3440, -1.5947,  1.7109],\n",
      "        [ 0.0161, -0.5591,  1.3428],\n",
      "        [-1.1738,  1.6152, -0.1230],\n",
      "        ...,\n",
      "        [ 1.0586, -0.8877, -0.2913],\n",
      "        [-0.5273, -0.0638,  0.7529],\n",
      "        [ 0.3486,  0.0348, -1.2188]], device='cuda:0', dtype=torch.float16), hidden_states=None, attentions=None)\n"
     ]
    },
    {
     "name": "stderr",
     "output_type": "stream",
     "text": []
    },
    {
     "name": "stdout",
     "output_type": "stream",
     "text": [
      "output of the model SequenceClassifierOutput(loss=None, logits=tensor([[-0.7729, -1.2100,  2.4805],\n",
      "        [-1.2607, -0.5635,  2.5586],\n",
      "        [-0.9155, -0.3523,  1.6875],\n",
      "        ...,\n",
      "        [ 1.1758, -1.9854,  0.2336],\n",
      "        [-1.6025,  2.2930,  0.1201],\n",
      "        [-0.2415, -1.1553,  2.0020]], device='cuda:0', dtype=torch.float16), hidden_states=None, attentions=None)\n"
     ]
    },
    {
     "name": "stderr",
     "output_type": "stream",
     "text": []
    },
    {
     "name": "stdout",
     "output_type": "stream",
     "text": [
      "output of the model SequenceClassifierOutput(loss=None, logits=tensor([[-0.5059, -1.4160,  2.5000],\n",
      "        [-0.3940, -1.6729,  2.4219],\n",
      "        [-0.6831, -0.2852,  1.7666],\n",
      "        ...,\n",
      "        [-0.7773, -0.2644,  1.5586],\n",
      "        [-1.7578,  2.9453, -0.7910],\n",
      "        [ 0.1708, -1.0654,  0.7798]], device='cuda:0', dtype=torch.float16), hidden_states=None, attentions=None)\n"
     ]
    },
    {
     "name": "stderr",
     "output_type": "stream",
     "text": []
    },
    {
     "name": "stdout",
     "output_type": "stream",
     "text": [
      "output of the model SequenceClassifierOutput(loss=None, logits=tensor([[-1.7910,  3.0215, -0.7944],\n",
      "        [ 0.4817, -0.0678, -1.2559],\n",
      "        [-1.4541,  0.2295,  2.0488],\n",
      "        ...,\n",
      "        [ 1.5449, -2.5645,  0.4568],\n",
      "        [ 1.6709, -2.7715,  0.6182],\n",
      "        [-0.0735, -0.3110,  0.0995]], device='cuda:0', dtype=torch.float16), hidden_states=None, attentions=None)\n"
     ]
    },
    {
     "name": "stderr",
     "output_type": "stream",
     "text": []
    },
    {
     "name": "stdout",
     "output_type": "stream",
     "text": [
      "output of the model SequenceClassifierOutput(loss=None, logits=tensor([[ 0.9326, -2.6367,  1.6855],\n",
      "        [ 1.4443, -2.0371, -0.3342],\n",
      "        [-1.2090,  0.0888,  2.0801],\n",
      "        ...,\n",
      "        [-1.5459,  0.3843,  2.0430],\n",
      "        [-1.5762,  2.8867, -1.0830],\n",
      "        [ 0.6050, -1.2041,  0.7051]], device='cuda:0', dtype=torch.float16), hidden_states=None, attentions=None)\n"
     ]
    },
    {
     "name": "stderr",
     "output_type": "stream",
     "text": []
    },
    {
     "name": "stdout",
     "output_type": "stream",
     "text": [
      "output of the model SequenceClassifierOutput(loss=None, logits=tensor([[ 1.0088, -2.3340,  0.7993],\n",
      "        [-0.7061, -1.2363,  2.4395],\n",
      "        [ 0.8779, -2.1543,  1.2021],\n",
      "        ...,\n",
      "        [ 1.3447, -1.9902, -0.3665],\n",
      "        [-0.8081,  0.3503,  0.1919],\n",
      "        [-0.3359, -1.7607,  2.2109]], device='cuda:0', dtype=torch.float16), hidden_states=None, attentions=None)\n"
     ]
    },
    {
     "name": "stderr",
     "output_type": "stream",
     "text": []
    },
    {
     "name": "stdout",
     "output_type": "stream",
     "text": [
      "output of the model SequenceClassifierOutput(loss=None, logits=tensor([[-1.5664,  1.1699,  0.9121],\n",
      "        [-1.6543,  1.5967,  0.9468],\n",
      "        [ 0.2026, -0.6279,  0.1265],\n",
      "        ...,\n",
      "        [-1.5938,  2.1211,  0.2450],\n",
      "        [-0.7104,  0.3977,  0.4150],\n",
      "        [-1.6123,  2.8594, -0.9604]], device='cuda:0', dtype=torch.float16), hidden_states=None, attentions=None)\n"
     ]
    },
    {
     "name": "stderr",
     "output_type": "stream",
     "text": []
    },
    {
     "name": "stdout",
     "output_type": "stream",
     "text": [
      "output of the model SequenceClassifierOutput(loss=None, logits=tensor([[ 0.1134,  0.5303, -1.3809],\n",
      "        [-0.0285, -1.2783,  1.9766],\n",
      "        [ 0.6357, -1.6240,  1.2617],\n",
      "        ...,\n",
      "        [ 0.8823, -1.8086,  0.5239],\n",
      "        [ 1.3838, -1.8936, -0.0309],\n",
      "        [ 1.3750, -1.9336,  0.0302]], device='cuda:0', dtype=torch.float16), hidden_states=None, attentions=None)\n"
     ]
    },
    {
     "name": "stderr",
     "output_type": "stream",
     "text": []
    },
    {
     "name": "stdout",
     "output_type": "stream",
     "text": [
      "output of the model SequenceClassifierOutput(loss=None, logits=tensor([[ 1.3818, -1.9600,  0.0361],\n",
      "        [-0.5371, -1.0049,  1.9883],\n",
      "        [ 1.3818, -2.0625,  0.1549],\n",
      "        ...,\n",
      "        [ 1.0586, -0.8877, -0.2913],\n",
      "        [ 1.5859, -2.5977,  0.3638],\n",
      "        [-1.1504, -0.6196,  2.3438]], device='cuda:0', dtype=torch.float16), hidden_states=None, attentions=None)\n"
     ]
    },
    {
     "name": "stderr",
     "output_type": "stream",
     "text": []
    },
    {
     "name": "stdout",
     "output_type": "stream",
     "text": [
      "output of the model SequenceClassifierOutput(loss=None, logits=tensor([[ 1.3057, -1.4404, -0.7383],\n",
      "        [ 0.1030, -1.9961,  2.3086],\n",
      "        [-0.9033, -0.6133,  2.3828],\n",
      "        ...,\n",
      "        [ 1.9512, -2.3867, -0.8042],\n",
      "        [ 1.0957, -2.6211,  1.2451],\n",
      "        [ 1.3672, -1.3760, -0.8042]], device='cuda:0', dtype=torch.float16), hidden_states=None, attentions=None)\n"
     ]
    },
    {
     "name": "stderr",
     "output_type": "stream",
     "text": []
    },
    {
     "name": "stdout",
     "output_type": "stream",
     "text": [
      "output of the model SequenceClassifierOutput(loss=None, logits=tensor([[ 1.3877, -1.5029, -1.1729],\n",
      "        [-0.2427, -1.6895,  2.3281],\n",
      "        [ 0.8633, -1.0732, -0.8267],\n",
      "        ...,\n",
      "        [ 0.2122, -2.1094,  1.8125],\n",
      "        [-0.4971, -1.6699,  2.3867],\n",
      "        [ 0.7349, -2.4785,  1.7529]], device='cuda:0', dtype=torch.float16), hidden_states=None, attentions=None)\n"
     ]
    },
    {
     "name": "stderr",
     "output_type": "stream",
     "text": []
    },
    {
     "name": "stdout",
     "output_type": "stream",
     "text": [
      "output of the model SequenceClassifierOutput(loss=None, logits=tensor([[-0.8306, -0.6289,  2.1836],\n",
      "        [-1.6709,  3.0293, -1.0508],\n",
      "        [-1.3701, -0.2169,  2.4336],\n",
      "        ...,\n",
      "        [-1.4814,  2.5352, -0.6836],\n",
      "        [-0.6938, -1.4424,  2.4258],\n",
      "        [-0.9097, -1.1455,  2.3926]], device='cuda:0', dtype=torch.float16), hidden_states=None, attentions=None)\n"
     ]
    },
    {
     "name": "stderr",
     "output_type": "stream",
     "text": []
    },
    {
     "name": "stdout",
     "output_type": "stream",
     "text": [
      "output of the model SequenceClassifierOutput(loss=None, logits=tensor([[-1.0908,  0.9390,  0.2345],\n",
      "        [-1.1113, -0.0896,  2.1641],\n",
      "        [ 0.2129, -2.2129,  2.0703],\n",
      "        ...,\n",
      "        [-0.2268, -1.3994,  1.4395],\n",
      "        [-0.1359, -2.0137,  2.2910],\n",
      "        [-0.2537, -1.8252,  2.2734]], device='cuda:0', dtype=torch.float16), hidden_states=None, attentions=None)\n"
     ]
    },
    {
     "name": "stderr",
     "output_type": "stream",
     "text": []
    },
    {
     "name": "stdout",
     "output_type": "stream",
     "text": [
      "output of the model SequenceClassifierOutput(loss=None, logits=tensor([[-1.2227,  2.1309, -0.6265],\n",
      "        [ 1.9844, -2.2891, -1.0312],\n",
      "        [-0.3843, -1.7861,  2.5078],\n",
      "        ...,\n",
      "        [-0.6982,  1.3984, -0.9844],\n",
      "        [ 0.0363, -2.1113,  2.3203],\n",
      "        [ 0.8809, -2.4219,  1.5938]], device='cuda:0', dtype=torch.float16), hidden_states=None, attentions=None)\n"
     ]
    },
    {
     "name": "stderr",
     "output_type": "stream",
     "text": []
    },
    {
     "name": "stdout",
     "output_type": "stream",
     "text": [
      "output of the model SequenceClassifierOutput(loss=None, logits=tensor([[-1.5176,  0.3557,  2.0312],\n",
      "        [ 1.5283, -1.6787, -0.8042],\n",
      "        [ 1.9209, -2.5859, -0.3545],\n",
      "        ...,\n",
      "        [ 2.0215, -1.7158, -1.5391],\n",
      "        [-1.3408,  2.9102, -1.4414],\n",
      "        [-1.3652, -0.2288,  2.4648]], device='cuda:0', dtype=torch.float16), hidden_states=None, attentions=None)\n"
     ]
    },
    {
     "name": "stderr",
     "output_type": "stream",
     "text": []
    },
    {
     "name": "stdout",
     "output_type": "stream",
     "text": [
      "output of the model SequenceClassifierOutput(loss=None, logits=tensor([[-1.6299,  1.5176,  1.0127],\n",
      "        [ 2.0391, -1.6768, -1.6387],\n",
      "        [ 1.9287, -1.7861, -1.4082],\n",
      "        ...,\n",
      "        [-0.0039, -0.9385,  1.2070],\n",
      "        [ 0.0548,  0.1572, -0.8242],\n",
      "        [-0.3074, -0.7969,  1.0439]], device='cuda:0', dtype=torch.float16), hidden_states=None, attentions=None)\n"
     ]
    },
    {
     "name": "stderr",
     "output_type": "stream",
     "text": []
    },
    {
     "name": "stdout",
     "output_type": "stream",
     "text": [
      "output of the model SequenceClassifierOutput(loss=None, logits=tensor([[-0.6206,  1.0449, -0.7026],\n",
      "        [ 0.8154, -1.0137, -1.0332],\n",
      "        [-1.4268, -0.1065,  2.4062],\n",
      "        ...,\n",
      "        [ 0.2476,  0.1511, -0.9648],\n",
      "        [-1.4121,  1.3125,  1.0303],\n",
      "        [ 1.5547, -2.1270, -0.3987]], device='cuda:0', dtype=torch.float16), hidden_states=None, attentions=None)\n"
     ]
    },
    {
     "name": "stderr",
     "output_type": "stream",
     "text": []
    },
    {
     "name": "stdout",
     "output_type": "stream",
     "text": [
      "output of the model SequenceClassifierOutput(loss=None, logits=tensor([[-0.5342,  1.5820, -1.4355],\n",
      "        [ 1.3555, -2.4414,  0.6416],\n",
      "        [ 1.3486, -2.3027,  0.2394],\n",
      "        ...,\n",
      "        [ 0.2439, -0.1294, -0.2322],\n",
      "        [ 0.2034,  0.0291, -0.3965],\n",
      "        [ 1.6914, -2.4766,  0.1920]], device='cuda:0', dtype=torch.float16), hidden_states=None, attentions=None)\n"
     ]
    },
    {
     "name": "stderr",
     "output_type": "stream",
     "text": []
    },
    {
     "name": "stdout",
     "output_type": "stream",
     "text": [
      "output of the model SequenceClassifierOutput(loss=None, logits=tensor([[ 1.6670, -1.5420, -0.7627],\n",
      "        [-1.4023,  1.1309,  1.3770],\n",
      "        [-0.5298, -1.3643,  2.4297],\n",
      "        ...,\n",
      "        [ 1.4834, -1.4258, -1.1562],\n",
      "        [-0.1069,  1.3828, -1.6680],\n",
      "        [ 1.8760, -1.2920, -1.7070]], device='cuda:0', dtype=torch.float16), hidden_states=None, attentions=None)\n"
     ]
    },
    {
     "name": "stderr",
     "output_type": "stream",
     "text": []
    },
    {
     "name": "stdout",
     "output_type": "stream",
     "text": [
      "output of the model SequenceClassifierOutput(loss=None, logits=tensor([[ 0.0897, -2.1094,  2.4277],\n",
      "        [ 0.0161, -0.5591,  1.3428],\n",
      "        [-1.5889,  1.8623,  0.5088],\n",
      "        ...,\n",
      "        [-1.6377,  1.7529,  0.8105],\n",
      "        [-0.8628,  1.1797, -0.1576],\n",
      "        [ 1.0986, -1.2041, -1.0518]], device='cuda:0', dtype=torch.float16), hidden_states=None, attentions=None)\n"
     ]
    },
    {
     "name": "stderr",
     "output_type": "stream",
     "text": []
    },
    {
     "name": "stdout",
     "output_type": "stream",
     "text": [
      "output of the model SequenceClassifierOutput(loss=None, logits=tensor([[ 1.0459, -0.6128, -1.3369],\n",
      "        [-1.6865,  1.5225,  1.0664],\n",
      "        [ 0.8213, -2.6367,  1.7998],\n",
      "        ...,\n",
      "        [ 1.9775, -2.7676, -0.0183],\n",
      "        [ 0.3818, -1.7939,  1.9668],\n",
      "        [-0.9985, -0.8120,  2.4590]], device='cuda:0', dtype=torch.float16), hidden_states=None, attentions=None)\n"
     ]
    },
    {
     "name": "stderr",
     "output_type": "stream",
     "text": []
    },
    {
     "name": "stdout",
     "output_type": "stream",
     "text": [
      "output of the model SequenceClassifierOutput(loss=None, logits=tensor([[-0.9985, -0.8120,  2.4590],\n",
      "        [-0.6333, -1.5166,  2.5977],\n",
      "        [-0.6333, -1.5166,  2.5977],\n",
      "        ...,\n",
      "        [-1.4873,  2.7402, -1.1807],\n",
      "        [-1.6426,  1.3350,  1.2324],\n",
      "        [ 1.2090,  0.4055, -2.2676]], device='cuda:0', dtype=torch.float16), hidden_states=None, attentions=None)\n"
     ]
    },
    {
     "name": "stderr",
     "output_type": "stream",
     "text": []
    },
    {
     "name": "stdout",
     "output_type": "stream",
     "text": [
      "output of the model SequenceClassifierOutput(loss=None, logits=tensor([[-1.1885,  2.5137, -1.1777],\n",
      "        [-1.1865,  0.3137,  1.8818],\n",
      "        [ 0.4910,  0.9175, -2.0527],\n",
      "        ...,\n",
      "        [-1.2178,  1.4697, -0.1331],\n",
      "        [-1.0146,  0.6646,  1.2822],\n",
      "        [ 0.1708, -2.1895,  2.1758]], device='cuda:0', dtype=torch.float16), hidden_states=None, attentions=None)\n"
     ]
    },
    {
     "name": "stderr",
     "output_type": "stream",
     "text": []
    },
    {
     "name": "stdout",
     "output_type": "stream",
     "text": [
      "output of the model SequenceClassifierOutput(loss=None, logits=tensor([[-0.9272, -1.1807,  2.5684],\n",
      "        [-0.9888,  2.0176, -1.0098],\n",
      "        [-0.3000, -1.3672,  1.9238],\n",
      "        ...,\n",
      "        [ 1.6836, -1.0264, -1.5547],\n",
      "        [ 1.8291, -1.4443, -1.4375],\n",
      "        [-1.7852,  3.0137, -0.9214]], device='cuda:0', dtype=torch.float16), hidden_states=None, attentions=None)\n"
     ]
    },
    {
     "name": "stderr",
     "output_type": "stream",
     "text": []
    },
    {
     "name": "stdout",
     "output_type": "stream",
     "text": [
      "output of the model SequenceClassifierOutput(loss=None, logits=tensor([[ 0.1086, -0.5859, -0.0426],\n",
      "        [ 2.0312, -1.8145, -1.5781],\n",
      "        [ 1.7988, -2.4727, -0.6016],\n",
      "        ...,\n",
      "        [ 0.2668, -1.4600,  1.3369],\n",
      "        [ 1.3018, -2.7520,  1.2744],\n",
      "        [-0.3745, -0.6650,  1.7041]], device='cuda:0', dtype=torch.float16), hidden_states=None, attentions=None)\n"
     ]
    },
    {
     "name": "stderr",
     "output_type": "stream",
     "text": []
    },
    {
     "name": "stdout",
     "output_type": "stream",
     "text": [
      "output of the model SequenceClassifierOutput(loss=None, logits=tensor([[ 0.1154, -1.2822,  1.2666],\n",
      "        [ 1.9834, -1.7178, -1.2168],\n",
      "        [-0.3867, -0.9990,  1.7246],\n",
      "        ...,\n",
      "        [-0.3279, -1.4775,  2.2363],\n",
      "        [-0.2080, -1.9443,  2.4141],\n",
      "        [ 0.6831, -1.0869, -0.4480]], device='cuda:0', dtype=torch.float16), hidden_states=None, attentions=None)\n"
     ]
    },
    {
     "name": "stderr",
     "output_type": "stream",
     "text": []
    },
    {
     "name": "stdout",
     "output_type": "stream",
     "text": [
      "output of the model SequenceClassifierOutput(loss=None, logits=tensor([[ 1.8887, -1.1055, -1.8408],\n",
      "        [-1.0127,  1.0830,  0.9868],\n",
      "        [-0.4617,  2.1895, -1.9941],\n",
      "        ...,\n",
      "        [-1.4521,  1.6221,  0.3894],\n",
      "        [-0.4949, -1.5381,  2.2500],\n",
      "        [-0.7446, -0.9600,  2.4238]], device='cuda:0', dtype=torch.float16), hidden_states=None, attentions=None)\n"
     ]
    },
    {
     "name": "stderr",
     "output_type": "stream",
     "text": []
    },
    {
     "name": "stdout",
     "output_type": "stream",
     "text": [
      "output of the model SequenceClassifierOutput(loss=None, logits=tensor([[-0.4456, -1.2881,  2.2070],\n",
      "        [-1.5469,  0.0232,  2.4238],\n",
      "        [ 1.6240, -1.1299, -1.4385],\n",
      "        ...,\n",
      "        [-1.7471,  2.9434, -0.8857],\n",
      "        [ 1.7803, -1.4229, -1.4297],\n",
      "        [ 1.1855, -0.5098, -1.5957]], device='cuda:0', dtype=torch.float16), hidden_states=None, attentions=None)\n"
     ]
    },
    {
     "name": "stderr",
     "output_type": "stream",
     "text": []
    },
    {
     "name": "stdout",
     "output_type": "stream",
     "text": [
      "output of the model SequenceClassifierOutput(loss=None, logits=tensor([[-0.4900,  2.0254, -1.5186],\n",
      "        [ 0.1528,  1.1475, -1.6895],\n",
      "        [ 1.5957, -1.0527, -1.4990],\n",
      "        ...,\n",
      "        [-0.1516, -0.0217,  0.2153],\n",
      "        [-0.7700, -0.9976,  2.4824],\n",
      "        [-0.3577, -1.6221,  2.3633]], device='cuda:0', dtype=torch.float16), hidden_states=None, attentions=None)\n"
     ]
    },
    {
     "name": "stderr",
     "output_type": "stream",
     "text": []
    },
    {
     "name": "stdout",
     "output_type": "stream",
     "text": [
      "output of the model SequenceClassifierOutput(loss=None, logits=tensor([[-0.7583, -0.2306,  0.9082],\n",
      "        [ 0.2874, -2.2812,  1.9922],\n",
      "        [ 0.2703, -0.6909, -0.6523],\n",
      "        ...,\n",
      "        [-0.6421,  2.0312, -1.5596],\n",
      "        [-0.0216, -1.0215,  1.0996],\n",
      "        [-0.5918,  0.8848, -0.6245]], device='cuda:0', dtype=torch.float16), hidden_states=None, attentions=None)\n"
     ]
    },
    {
     "name": "stderr",
     "output_type": "stream",
     "text": []
    },
    {
     "name": "stdout",
     "output_type": "stream",
     "text": [
      "output of the model SequenceClassifierOutput(loss=None, logits=tensor([[-1.3271,  2.3691, -0.6851],\n",
      "        [-0.5698, -1.5801,  2.3828],\n",
      "        [-0.7485, -1.3135,  2.4961],\n",
      "        ...,\n",
      "        [-1.1094, -0.9175,  2.6230],\n",
      "        [ 1.0713, -0.3652, -1.6543],\n",
      "        [-0.6846,  2.2051, -1.4229]], device='cuda:0', dtype=torch.float16), hidden_states=None, attentions=None)\n"
     ]
    },
    {
     "name": "stderr",
     "output_type": "stream",
     "text": []
    },
    {
     "name": "stdout",
     "output_type": "stream",
     "text": [
      "output of the model SequenceClassifierOutput(loss=None, logits=tensor([[-1.3174,  2.6328, -1.0674],\n",
      "        [-1.4102,  2.7148, -1.0322],\n",
      "        [ 0.9614, -0.1009, -1.6826],\n",
      "        ...,\n",
      "        [ 1.3789, -1.4639, -0.9844],\n",
      "        [-1.8965,  2.6445,  0.1180],\n",
      "        [-0.7856, -1.2471,  2.4434]], device='cuda:0', dtype=torch.float16), hidden_states=None, attentions=None)\n"
     ]
    },
    {
     "name": "stderr",
     "output_type": "stream",
     "text": []
    },
    {
     "name": "stdout",
     "output_type": "stream",
     "text": [
      "output of the model SequenceClassifierOutput(loss=None, logits=tensor([[-0.9580, -0.8618,  2.3340],\n",
      "        [-0.7930, -1.3291,  2.6016],\n",
      "        [-0.1882, -1.4775,  2.2676],\n",
      "        ...,\n",
      "        [-0.9546, -1.0195,  2.5449],\n",
      "        [ 0.2668, -1.8652,  1.9492],\n",
      "        [-0.3833, -1.8096,  2.3457]], device='cuda:0', dtype=torch.float16), hidden_states=None, attentions=None)\n"
     ]
    },
    {
     "name": "stderr",
     "output_type": "stream",
     "text": []
    },
    {
     "name": "stdout",
     "output_type": "stream",
     "text": [
      "output of the model SequenceClassifierOutput(loss=None, logits=tensor([[-1.3799,  1.9639,  0.1273],\n",
      "        [-0.3943, -1.7139,  2.3555],\n",
      "        [-0.5508, -1.4189,  2.2949],\n",
      "        ...,\n",
      "        [-1.1504, -0.5410,  2.3535],\n",
      "        [-0.2064, -1.9482,  2.2422],\n",
      "        [-1.0674,  0.0176,  1.9492]], device='cuda:0', dtype=torch.float16), hidden_states=None, attentions=None)\n"
     ]
    },
    {
     "name": "stderr",
     "output_type": "stream",
     "text": []
    },
    {
     "name": "stdout",
     "output_type": "stream",
     "text": [
      "output of the model SequenceClassifierOutput(loss=None, logits=tensor([[ 0.7471, -1.7256,  1.0684],\n",
      "        [-0.7754, -0.8169,  2.3066],\n",
      "        [-1.2148,  0.0311,  1.9766],\n",
      "        ...,\n",
      "        [ 0.6289, -1.0635, -0.1929],\n",
      "        [-0.7144,  2.0488, -1.3398],\n",
      "        [-0.3127,  1.8428, -1.6641]], device='cuda:0', dtype=torch.float16), hidden_states=None, attentions=None)\n"
     ]
    },
    {
     "name": "stderr",
     "output_type": "stream",
     "text": []
    },
    {
     "name": "stdout",
     "output_type": "stream",
     "text": [
      "output of the model SequenceClassifierOutput(loss=None, logits=tensor([[ 0.5698, -2.2852,  1.9033],\n",
      "        [ 1.6836, -1.0264, -1.5547],\n",
      "        [ 1.8291, -1.4443, -1.4375],\n",
      "        ...,\n",
      "        [-1.5127,  2.6016, -0.8833],\n",
      "        [-0.1660,  0.2751,  0.0861],\n",
      "        [-1.3672,  0.5063,  1.7881]], device='cuda:0', dtype=torch.float16), hidden_states=None, attentions=None)\n"
     ]
    },
    {
     "name": "stderr",
     "output_type": "stream",
     "text": []
    },
    {
     "name": "stdout",
     "output_type": "stream",
     "text": [
      "output of the model SequenceClassifierOutput(loss=None, logits=tensor([[ 1.9268, -2.3066, -0.8223],\n",
      "        [ 1.2041, -2.5703,  1.2939],\n",
      "        [-0.4514, -0.4558,  1.6133],\n",
      "        ...,\n",
      "        [-0.9062, -1.2207,  2.5137],\n",
      "        [-1.9336,  2.3086,  0.5347],\n",
      "        [ 1.4971, -1.2227, -1.3975]], device='cuda:0', dtype=torch.float16), hidden_states=None, attentions=None)\n"
     ]
    },
    {
     "name": "stderr",
     "output_type": "stream",
     "text": []
    },
    {
     "name": "stdout",
     "output_type": "stream",
     "text": [
      "output of the model SequenceClassifierOutput(loss=None, logits=tensor([[-0.3245, -1.8486,  2.5391],\n",
      "        [-1.4502,  0.1892,  2.1270],\n",
      "        [-1.4287,  0.1348,  2.1445],\n",
      "        ...,\n",
      "        [ 1.6406, -1.0898, -1.6172],\n",
      "        [-0.8442, -0.6172,  1.9873],\n",
      "        [-0.5288, -0.9702,  1.9746]], device='cuda:0', dtype=torch.float16), hidden_states=None, attentions=None)\n"
     ]
    },
    {
     "name": "stderr",
     "output_type": "stream",
     "text": []
    },
    {
     "name": "stdout",
     "output_type": "stream",
     "text": [
      "output of the model SequenceClassifierOutput(loss=None, logits=tensor([[ 2.0059, -1.5684, -1.6484],\n",
      "        [ 1.7959, -1.1074, -1.7344],\n",
      "        [-0.8965,  0.6108,  0.8599],\n",
      "        ...,\n",
      "        [ 1.2529,  0.2905, -2.1855],\n",
      "        [-1.4863,  2.9004, -1.3086],\n",
      "        [ 1.0176,  0.6040, -2.2734]], device='cuda:0', dtype=torch.float16), hidden_states=None, attentions=None)\n"
     ]
    },
    {
     "name": "stderr",
     "output_type": "stream",
     "text": []
    },
    {
     "name": "stdout",
     "output_type": "stream",
     "text": [
      "output of the model SequenceClassifierOutput(loss=None, logits=tensor([[-1.3262,  2.8398, -1.4551],\n",
      "        [-1.4033,  1.8291,  0.6108],\n",
      "        [-1.4795,  2.9180, -1.3672],\n",
      "        ...,\n",
      "        [ 0.6812, -2.4434,  1.8223],\n",
      "        [-0.3430, -1.5586,  1.9727],\n",
      "        [-0.1333, -1.4209,  2.0508]], device='cuda:0', dtype=torch.float16), hidden_states=None, attentions=None)\n"
     ]
    },
    {
     "name": "stderr",
     "output_type": "stream",
     "text": []
    },
    {
     "name": "stdout",
     "output_type": "stream",
     "text": [
      "output of the model SequenceClassifierOutput(loss=None, logits=tensor([[-1.9512,  2.4805,  0.6392],\n",
      "        [ 2.0879, -2.1602, -1.2969],\n",
      "        [ 0.3862, -2.4746,  2.1230],\n",
      "        ...,\n",
      "        [-1.2012,  1.9316,  0.1033],\n",
      "        [ 0.6836,  1.0566, -2.0859],\n",
      "        [-0.6997,  0.8037, -0.4084]], device='cuda:0', dtype=torch.float16), hidden_states=None, attentions=None)\n"
     ]
    },
    {
     "name": "stderr",
     "output_type": "stream",
     "text": []
    },
    {
     "name": "stdout",
     "output_type": "stream",
     "text": [
      "output of the model SequenceClassifierOutput(loss=None, logits=tensor([[ 0.4656, -2.2988,  2.0664],\n",
      "        [ 1.5186, -2.5547,  0.3347],\n",
      "        [ 1.3623, -2.2227, -0.2664],\n",
      "        ...,\n",
      "        [-0.6831, -1.4697,  2.4141],\n",
      "        [-0.8027, -1.2764,  2.4277],\n",
      "        [-0.4875, -1.7070,  2.3691]], device='cuda:0', dtype=torch.float16), hidden_states=None, attentions=None)\n"
     ]
    },
    {
     "name": "stderr",
     "output_type": "stream",
     "text": []
    },
    {
     "name": "stdout",
     "output_type": "stream",
     "text": [
      "output of the model SequenceClassifierOutput(loss=None, logits=tensor([[-0.6895, -1.4072,  2.4395],\n",
      "        [-0.5396, -1.6328,  2.4023],\n",
      "        [-0.6729, -1.4453,  2.4219],\n",
      "        ...,\n",
      "        [ 1.9922, -1.2842, -1.7168],\n",
      "        [ 0.4727, -2.1504,  1.9932],\n",
      "        [-1.0098, -0.2515,  1.7939]], device='cuda:0', dtype=torch.float16), hidden_states=None, attentions=None)\n"
     ]
    },
    {
     "name": "stderr",
     "output_type": "stream",
     "text": []
    },
    {
     "name": "stdout",
     "output_type": "stream",
     "text": [
      "output of the model SequenceClassifierOutput(loss=None, logits=tensor([[ 0.4480, -0.5254,  0.2042],\n",
      "        [ 1.0166, -2.6602,  1.6338],\n",
      "        [-0.4507,  0.8867,  0.1979],\n",
      "        ...,\n",
      "        [-1.8633,  2.8887, -0.5645],\n",
      "        [ 0.6250, -0.7993, -1.0195],\n",
      "        [-1.2598,  1.0850,  0.7051]], device='cuda:0', dtype=torch.float16), hidden_states=None, attentions=None)\n"
     ]
    },
    {
     "name": "stderr",
     "output_type": "stream",
     "text": []
    },
    {
     "name": "stdout",
     "output_type": "stream",
     "text": [
      "output of the model SequenceClassifierOutput(loss=None, logits=tensor([[ 0.7549, -2.3926,  1.5225],\n",
      "        [-1.4365, -0.2216,  2.3223],\n",
      "        [-1.5098,  0.1268,  2.3262],\n",
      "        ...,\n",
      "        [-1.3096,  1.3027,  0.9717],\n",
      "        [-1.3447,  1.8564,  0.0397],\n",
      "        [-1.9346,  2.8574, -0.3557]], device='cuda:0', dtype=torch.float16), hidden_states=None, attentions=None)\n"
     ]
    },
    {
     "name": "stderr",
     "output_type": "stream",
     "text": []
    },
    {
     "name": "stdout",
     "output_type": "stream",
     "text": [
      "output of the model SequenceClassifierOutput(loss=None, logits=tensor([[ 1.0439, -2.0566,  0.5020],\n",
      "        [ 0.9146, -2.5273,  1.3740],\n",
      "        [ 0.6113,  0.5332, -1.6758],\n",
      "        ...,\n",
      "        [ 1.9932, -1.3096, -1.7363],\n",
      "        [-0.1711, -0.3787,  0.7900],\n",
      "        [ 0.2422, -0.3984, -0.0590]], device='cuda:0', dtype=torch.float16), hidden_states=None, attentions=None)\n"
     ]
    },
    {
     "name": "stderr",
     "output_type": "stream",
     "text": []
    },
    {
     "name": "stdout",
     "output_type": "stream",
     "text": [
      "output of the model SequenceClassifierOutput(loss=None, logits=tensor([[-0.0913, -0.4614,  1.1016],\n",
      "        [-1.6982,  2.9512, -0.9004],\n",
      "        [-0.1616, -0.2079,  0.5142],\n",
      "        ...,\n",
      "        [ 0.6133, -1.1201,  0.2773],\n",
      "        [-1.1689,  2.1680, -0.9380],\n",
      "        [-0.6602, -1.3809,  2.4043]], device='cuda:0', dtype=torch.float16), hidden_states=None, attentions=None)\n"
     ]
    },
    {
     "name": "stderr",
     "output_type": "stream",
     "text": []
    },
    {
     "name": "stdout",
     "output_type": "stream",
     "text": [
      "output of the model SequenceClassifierOutput(loss=None, logits=tensor([[-0.4446, -1.3291,  2.2812],\n",
      "        [ 0.2856, -1.2705,  1.3320],\n",
      "        [ 0.6445, -1.2080, -0.2664],\n",
      "        ...,\n",
      "        [ 1.7188, -1.2188, -1.5166],\n",
      "        [-1.0391, -0.3521,  2.1426],\n",
      "        [-0.3999, -0.4456,  1.1465]], device='cuda:0', dtype=torch.float16), hidden_states=None, attentions=None)\n"
     ]
    },
    {
     "name": "stderr",
     "output_type": "stream",
     "text": []
    },
    {
     "name": "stdout",
     "output_type": "stream",
     "text": [
      "output of the model SequenceClassifierOutput(loss=None, logits=tensor([[ 1.4805, -0.9819, -1.4863],\n",
      "        [ 1.3369, -2.5176,  0.5332],\n",
      "        [-0.5298, -1.2715,  2.3379],\n",
      "        ...,\n",
      "        [-0.7129, -0.2556,  1.9600],\n",
      "        [-1.5400,  2.1699,  0.3799],\n",
      "        [-1.7773,  3.0625, -1.0156]], device='cuda:0', dtype=torch.float16), hidden_states=None, attentions=None)\n"
     ]
    },
    {
     "name": "stderr",
     "output_type": "stream",
     "text": []
    },
    {
     "name": "stdout",
     "output_type": "stream",
     "text": [
      "output of the model SequenceClassifierOutput(loss=None, logits=tensor([[-1.7891,  2.9863, -0.8491],\n",
      "        [-1.0410, -0.7217,  2.4531],\n",
      "        [ 2.0723, -1.7646, -1.5703],\n",
      "        ...,\n",
      "        [-1.4072, -0.0274,  2.3125],\n",
      "        [-0.1129, -0.8652,  1.4873],\n",
      "        [ 1.1260, -2.6289,  1.5449]], device='cuda:0', dtype=torch.float16), hidden_states=None, attentions=None)\n"
     ]
    },
    {
     "name": "stderr",
     "output_type": "stream",
     "text": []
    },
    {
     "name": "stdout",
     "output_type": "stream",
     "text": [
      "output of the model SequenceClassifierOutput(loss=None, logits=tensor([[-0.6948, -0.1285,  1.5898],\n",
      "        [-1.1055,  0.6328,  0.9927],\n",
      "        [-0.6455,  0.0583,  0.8960],\n",
      "        ...,\n",
      "        [-0.4539, -1.6660,  2.4414],\n",
      "        [ 0.7407, -1.1191, -0.1449],\n",
      "        [-1.3906, -0.0404,  2.3105]], device='cuda:0', dtype=torch.float16), hidden_states=None, attentions=None)\n"
     ]
    },
    {
     "name": "stderr",
     "output_type": "stream",
     "text": [
      "Processing batches (chunk 14): 100%|██████████| 98/98 [00:35<00:00,  2.75it/s]\n",
      "Processing chunks:  11%|█         | 14/131 [08:13<1:08:48, 35.29s/it]"
     ]
    },
    {
     "name": "stdout",
     "output_type": "stream",
     "text": [
      "output of the model SequenceClassifierOutput(loss=None, logits=tensor([[-1.6670,  1.4189,  1.1846],\n",
      "        [ 0.5312, -2.6699,  2.0840],\n",
      "        [ 2.1016, -1.6396, -1.6953],\n",
      "        ...,\n",
      "        [-0.7256,  0.4287,  0.3762],\n",
      "        [-0.3831,  0.3843,  0.0452],\n",
      "        [-0.0699, -0.1912,  0.0909]], device='cuda:0', dtype=torch.float16), hidden_states=None, attentions=None)\n"
     ]
    },
    {
     "name": "stderr",
     "output_type": "stream",
     "text": []
    },
    {
     "name": "stdout",
     "output_type": "stream",
     "text": [
      "output of the model SequenceClassifierOutput(loss=None, logits=tensor([[-0.8149,  0.2603,  0.6328],\n",
      "        [-0.1554, -1.8076,  2.1406],\n",
      "        [-0.0470, -1.4229,  1.5625],\n",
      "        ...,\n",
      "        [ 1.7705, -0.6826, -2.0449],\n",
      "        [-0.6870,  0.5474,  0.0887],\n",
      "        [-0.8740, -0.6729,  2.3691]], device='cuda:0', dtype=torch.float16), hidden_states=None, attentions=None)\n"
     ]
    },
    {
     "name": "stderr",
     "output_type": "stream",
     "text": []
    },
    {
     "name": "stdout",
     "output_type": "stream",
     "text": [
      "output of the model SequenceClassifierOutput(loss=None, logits=tensor([[-1.4932,  0.2966,  2.0625],\n",
      "        [ 1.6436, -1.8564, -0.8672],\n",
      "        [ 1.9111, -1.2656, -1.5498],\n",
      "        ...,\n",
      "        [ 1.8154, -0.9790, -1.6562],\n",
      "        [ 1.9160, -1.9580, -1.2451],\n",
      "        [ 0.1710, -0.3032, -0.2047]], device='cuda:0', dtype=torch.float16), hidden_states=None, attentions=None)\n"
     ]
    },
    {
     "name": "stderr",
     "output_type": "stream",
     "text": []
    },
    {
     "name": "stdout",
     "output_type": "stream",
     "text": [
      "output of the model SequenceClassifierOutput(loss=None, logits=tensor([[ 1.1279, -2.5469,  1.2988],\n",
      "        [ 0.8325, -0.7119, -0.2566],\n",
      "        [ 0.8247, -0.0217, -1.7451],\n",
      "        ...,\n",
      "        [-1.2783,  2.3770, -0.5859],\n",
      "        [-1.6074,  0.9268,  1.6650],\n",
      "        [-1.5596,  2.6914, -0.7700]], device='cuda:0', dtype=torch.float16), hidden_states=None, attentions=None)\n"
     ]
    },
    {
     "name": "stderr",
     "output_type": "stream",
     "text": []
    },
    {
     "name": "stdout",
     "output_type": "stream",
     "text": [
      "output of the model SequenceClassifierOutput(loss=None, logits=tensor([[-1.6123,  2.7012, -0.6641],\n",
      "        [-1.6074,  2.6855, -0.6455],\n",
      "        [ 1.5684, -2.6035,  0.5845],\n",
      "        ...,\n",
      "        [ 1.9541, -1.6943, -1.5508],\n",
      "        [ 1.6689, -1.4395, -1.3184],\n",
      "        [-0.1738, -1.9355,  2.2090]], device='cuda:0', dtype=torch.float16), hidden_states=None, attentions=None)\n"
     ]
    },
    {
     "name": "stderr",
     "output_type": "stream",
     "text": []
    },
    {
     "name": "stdout",
     "output_type": "stream",
     "text": [
      "output of the model SequenceClassifierOutput(loss=None, logits=tensor([[ 1.4570, -1.5713, -0.6948],\n",
      "        [-1.3779,  2.6953, -1.1865],\n",
      "        [-1.0166, -0.2219,  1.8750],\n",
      "        ...,\n",
      "        [ 1.9990, -1.3359, -1.6797],\n",
      "        [ 0.3682, -0.1361, -0.9150],\n",
      "        [ 0.1981, -2.0449,  1.9326]], device='cuda:0', dtype=torch.float16), hidden_states=None, attentions=None)\n"
     ]
    },
    {
     "name": "stderr",
     "output_type": "stream",
     "text": []
    },
    {
     "name": "stdout",
     "output_type": "stream",
     "text": [
      "output of the model SequenceClassifierOutput(loss=None, logits=tensor([[-0.9927, -0.5732,  2.4434],\n",
      "        [-1.6025,  2.7207, -0.8311],\n",
      "        [-1.5537,  0.5649,  1.8682],\n",
      "        ...,\n",
      "        [-0.0599, -2.1406,  2.2949],\n",
      "        [ 0.4409, -2.0391,  1.6455],\n",
      "        [-0.6177, -1.2324,  2.3867]], device='cuda:0', dtype=torch.float16), hidden_states=None, attentions=None)\n"
     ]
    },
    {
     "name": "stderr",
     "output_type": "stream",
     "text": []
    },
    {
     "name": "stdout",
     "output_type": "stream",
     "text": [
      "output of the model SequenceClassifierOutput(loss=None, logits=tensor([[-0.2166, -1.9629,  2.3906],\n",
      "        [-0.1957, -1.8506,  2.0273],\n",
      "        [-1.1670, -0.7310,  2.5898],\n",
      "        ...,\n",
      "        [-1.1191, -0.8359,  2.4902],\n",
      "        [-0.1985,  0.6289, -1.1094],\n",
      "        [-1.6436,  2.8906, -0.9531]], device='cuda:0', dtype=torch.float16), hidden_states=None, attentions=None)\n"
     ]
    },
    {
     "name": "stderr",
     "output_type": "stream",
     "text": []
    },
    {
     "name": "stdout",
     "output_type": "stream",
     "text": [
      "output of the model SequenceClassifierOutput(loss=None, logits=tensor([[-1.1445, -0.9580,  2.6445],\n",
      "        [-1.0527, -0.8770,  2.4336],\n",
      "        [-0.4033, -1.4248,  2.3164],\n",
      "        ...,\n",
      "        [ 0.0686, -1.5791,  1.7217],\n",
      "        [ 0.0264, -1.8701,  1.9746],\n",
      "        [ 0.2252, -1.5850,  1.6084]], device='cuda:0', dtype=torch.float16), hidden_states=None, attentions=None)\n"
     ]
    },
    {
     "name": "stderr",
     "output_type": "stream",
     "text": []
    },
    {
     "name": "stdout",
     "output_type": "stream",
     "text": [
      "output of the model SequenceClassifierOutput(loss=None, logits=tensor([[ 0.2969, -1.9453,  1.7676],\n",
      "        [ 0.0667, -1.7080,  1.8027],\n",
      "        [ 0.3711, -1.7891,  1.5234],\n",
      "        ...,\n",
      "        [ 0.0885, -1.7217,  1.7861],\n",
      "        [ 0.0850, -1.6201,  1.7461],\n",
      "        [ 0.2037, -1.6660,  1.6572]], device='cuda:0', dtype=torch.float16), hidden_states=None, attentions=None)\n"
     ]
    },
    {
     "name": "stderr",
     "output_type": "stream",
     "text": []
    },
    {
     "name": "stdout",
     "output_type": "stream",
     "text": [
      "output of the model SequenceClassifierOutput(loss=None, logits=tensor([[ 0.1024, -1.5479,  1.6211],\n",
      "        [ 0.1340, -1.5684,  1.6768],\n",
      "        [ 0.0325, -1.5518,  1.7725],\n",
      "        ...,\n",
      "        [ 0.3071, -1.7100,  1.5898],\n",
      "        [ 0.2412, -1.7754,  1.7031],\n",
      "        [ 0.2256, -1.5107,  1.5127]], device='cuda:0', dtype=torch.float16), hidden_states=None, attentions=None)\n"
     ]
    },
    {
     "name": "stderr",
     "output_type": "stream",
     "text": []
    },
    {
     "name": "stdout",
     "output_type": "stream",
     "text": [
      "output of the model SequenceClassifierOutput(loss=None, logits=tensor([[ 0.0344, -1.6318,  1.7559],\n",
      "        [ 0.1968, -1.6777,  1.6572],\n",
      "        [ 0.2563, -1.6465,  1.5273],\n",
      "        ...,\n",
      "        [ 0.2625, -1.6748,  1.5332],\n",
      "        [ 0.1355, -1.6797,  1.6914],\n",
      "        [ 0.1603, -1.5732,  1.6162]], device='cuda:0', dtype=torch.float16), hidden_states=None, attentions=None)\n"
     ]
    },
    {
     "name": "stderr",
     "output_type": "stream",
     "text": []
    },
    {
     "name": "stdout",
     "output_type": "stream",
     "text": [
      "output of the model SequenceClassifierOutput(loss=None, logits=tensor([[ 0.1901, -1.6885,  1.6055],\n",
      "        [ 0.5977, -1.8369,  1.3135],\n",
      "        [ 0.2117, -1.8154,  1.6689],\n",
      "        ...,\n",
      "        [ 0.1466, -1.7510,  1.6631],\n",
      "        [ 0.2056, -1.7002,  1.6641],\n",
      "        [ 0.0606, -1.5566,  1.7617]], device='cuda:0', dtype=torch.float16), hidden_states=None, attentions=None)\n"
     ]
    },
    {
     "name": "stderr",
     "output_type": "stream",
     "text": []
    },
    {
     "name": "stdout",
     "output_type": "stream",
     "text": [
      "output of the model SequenceClassifierOutput(loss=None, logits=tensor([[ 0.1166, -1.5693,  1.6562],\n",
      "        [ 0.1375, -1.6416,  1.6660],\n",
      "        [ 0.6172, -1.8506,  1.3340],\n",
      "        ...,\n",
      "        [-0.0198, -1.5674,  1.7383],\n",
      "        [-0.0513, -1.5508,  1.8672],\n",
      "        [-0.0718, -1.5215,  1.7949]], device='cuda:0', dtype=torch.float16), hidden_states=None, attentions=None)\n"
     ]
    },
    {
     "name": "stderr",
     "output_type": "stream",
     "text": []
    },
    {
     "name": "stdout",
     "output_type": "stream",
     "text": [
      "output of the model SequenceClassifierOutput(loss=None, logits=tensor([[ 0.1310, -1.7832,  1.7197],\n",
      "        [ 0.1572, -1.6494,  1.6768],\n",
      "        [ 0.2087, -1.8193,  1.7539],\n",
      "        ...,\n",
      "        [ 0.1676, -1.7148,  1.6348],\n",
      "        [-0.0123, -1.4814,  1.7480],\n",
      "        [ 0.1699, -1.6719,  1.6514]], device='cuda:0', dtype=torch.float16), hidden_states=None, attentions=None)\n"
     ]
    },
    {
     "name": "stderr",
     "output_type": "stream",
     "text": []
    },
    {
     "name": "stdout",
     "output_type": "stream",
     "text": [
      "output of the model SequenceClassifierOutput(loss=None, logits=tensor([[ 0.0156, -1.6533,  1.8389],\n",
      "        [ 0.1508, -1.8047,  1.9004],\n",
      "        [ 0.0392, -1.6328,  1.7842],\n",
      "        ...,\n",
      "        [ 0.1356, -1.7627,  1.7988],\n",
      "        [-0.0104, -1.5820,  1.8076],\n",
      "        [ 0.1936, -1.6738,  1.6484]], device='cuda:0', dtype=torch.float16), hidden_states=None, attentions=None)\n"
     ]
    },
    {
     "name": "stderr",
     "output_type": "stream",
     "text": []
    },
    {
     "name": "stdout",
     "output_type": "stream",
     "text": [
      "output of the model SequenceClassifierOutput(loss=None, logits=tensor([[-0.0337, -1.5586,  1.8359],\n",
      "        [ 0.0632, -1.5869,  1.6387],\n",
      "        [ 0.0974, -1.7646,  1.8164],\n",
      "        ...,\n",
      "        [ 0.1741, -1.7139,  1.6826],\n",
      "        [ 0.2185, -1.6689,  1.6299],\n",
      "        [ 0.0480, -1.6045,  1.6768]], device='cuda:0', dtype=torch.float16), hidden_states=None, attentions=None)\n"
     ]
    },
    {
     "name": "stderr",
     "output_type": "stream",
     "text": []
    },
    {
     "name": "stdout",
     "output_type": "stream",
     "text": [
      "output of the model SequenceClassifierOutput(loss=None, logits=tensor([[ 0.1366, -1.5371,  1.5674],\n",
      "        [ 0.1042, -1.6533,  1.6709],\n",
      "        [ 0.2759, -1.6680,  1.5498],\n",
      "        ...,\n",
      "        [ 0.1714, -1.6787,  1.6357],\n",
      "        [ 0.1768, -1.7070,  1.6758],\n",
      "        [ 0.1213, -1.6318,  1.6934]], device='cuda:0', dtype=torch.float16), hidden_states=None, attentions=None)\n"
     ]
    },
    {
     "name": "stderr",
     "output_type": "stream",
     "text": []
    },
    {
     "name": "stdout",
     "output_type": "stream",
     "text": [
      "output of the model SequenceClassifierOutput(loss=None, logits=tensor([[ 0.1121, -1.6504,  1.7725],\n",
      "        [ 0.2023, -1.7422,  1.6709],\n",
      "        [ 0.1896, -1.7939,  1.7617],\n",
      "        ...,\n",
      "        [-0.0542, -1.5039,  1.7666],\n",
      "        [ 0.1851, -1.8213,  1.6875],\n",
      "        [ 0.3042, -1.7666,  1.5039]], device='cuda:0', dtype=torch.float16), hidden_states=None, attentions=None)\n"
     ]
    },
    {
     "name": "stderr",
     "output_type": "stream",
     "text": []
    },
    {
     "name": "stdout",
     "output_type": "stream",
     "text": [
      "output of the model SequenceClassifierOutput(loss=None, logits=tensor([[ 0.0728, -1.5732,  1.7002],\n",
      "        [ 0.0344, -1.6152,  1.6592],\n",
      "        [ 0.0521, -1.5957,  1.7705],\n",
      "        ...,\n",
      "        [ 0.3369, -1.8154,  1.5645],\n",
      "        [ 0.4512, -1.6748,  1.3545],\n",
      "        [ 0.1538, -1.6445,  1.6953]], device='cuda:0', dtype=torch.float16), hidden_states=None, attentions=None)\n"
     ]
    },
    {
     "name": "stderr",
     "output_type": "stream",
     "text": []
    },
    {
     "name": "stdout",
     "output_type": "stream",
     "text": [
      "output of the model SequenceClassifierOutput(loss=None, logits=tensor([[ 0.0426, -1.6367,  1.7959],\n",
      "        [ 0.3337, -1.6670,  1.5029],\n",
      "        [ 0.0046, -1.4629,  1.6602],\n",
      "        ...,\n",
      "        [ 0.1587, -1.7002,  1.6904],\n",
      "        [ 0.1098, -1.6338,  1.6318],\n",
      "        [ 0.1951, -1.5830,  1.5605]], device='cuda:0', dtype=torch.float16), hidden_states=None, attentions=None)\n"
     ]
    },
    {
     "name": "stderr",
     "output_type": "stream",
     "text": []
    },
    {
     "name": "stdout",
     "output_type": "stream",
     "text": [
      "output of the model SequenceClassifierOutput(loss=None, logits=tensor([[ 0.0572, -1.8008,  1.8057],\n",
      "        [-0.0746, -1.5176,  1.8242],\n",
      "        [ 0.1313, -1.6963,  1.6670],\n",
      "        ...,\n",
      "        [ 0.1261, -1.7021,  1.6758],\n",
      "        [ 0.0245, -1.5371,  1.6973],\n",
      "        [-0.0038, -1.5547,  1.7666]], device='cuda:0', dtype=torch.float16), hidden_states=None, attentions=None)\n"
     ]
    },
    {
     "name": "stderr",
     "output_type": "stream",
     "text": []
    },
    {
     "name": "stdout",
     "output_type": "stream",
     "text": [
      "output of the model SequenceClassifierOutput(loss=None, logits=tensor([[ 0.3062, -1.7646,  1.5264],\n",
      "        [-0.0907, -1.4053,  1.7559],\n",
      "        [ 0.1193, -1.6865,  1.7129],\n",
      "        ...,\n",
      "        [ 0.0363, -1.5791,  1.7041],\n",
      "        [-0.0916, -1.4287,  1.7236],\n",
      "        [ 0.4661, -1.8066,  1.4824]], device='cuda:0', dtype=torch.float16), hidden_states=None, attentions=None)\n"
     ]
    },
    {
     "name": "stderr",
     "output_type": "stream",
     "text": []
    },
    {
     "name": "stdout",
     "output_type": "stream",
     "text": [
      "output of the model SequenceClassifierOutput(loss=None, logits=tensor([[ 0.1041, -1.5234,  1.6592],\n",
      "        [ 0.3237, -1.7295,  1.5078],\n",
      "        [ 0.1884, -1.8320,  1.7920],\n",
      "        ...,\n",
      "        [ 0.1794, -1.6279,  1.6172],\n",
      "        [ 0.1010, -1.7266,  1.7578],\n",
      "        [ 0.0991, -1.6494,  1.6650]], device='cuda:0', dtype=torch.float16), hidden_states=None, attentions=None)\n"
     ]
    },
    {
     "name": "stderr",
     "output_type": "stream",
     "text": []
    },
    {
     "name": "stdout",
     "output_type": "stream",
     "text": [
      "output of the model SequenceClassifierOutput(loss=None, logits=tensor([[ 0.2805, -1.6807,  1.5400],\n",
      "        [ 0.1466, -1.6729,  1.6572],\n",
      "        [ 0.1093, -1.6318,  1.7324],\n",
      "        ...,\n",
      "        [ 0.1493, -1.7441,  1.7598],\n",
      "        [ 0.1763, -1.7324,  1.6455],\n",
      "        [-0.0588, -1.5166,  1.7949]], device='cuda:0', dtype=torch.float16), hidden_states=None, attentions=None)\n"
     ]
    },
    {
     "name": "stderr",
     "output_type": "stream",
     "text": []
    },
    {
     "name": "stdout",
     "output_type": "stream",
     "text": [
      "output of the model SequenceClassifierOutput(loss=None, logits=tensor([[ 0.2715, -1.7295,  1.5791],\n",
      "        [-0.1372, -1.5146,  1.8770],\n",
      "        [ 0.2002, -1.6777,  1.6133],\n",
      "        ...,\n",
      "        [ 0.2051, -1.7129,  1.7373],\n",
      "        [ 0.0042, -1.6582,  1.8721],\n",
      "        [ 0.1577, -1.6162,  1.6484]], device='cuda:0', dtype=torch.float16), hidden_states=None, attentions=None)\n"
     ]
    },
    {
     "name": "stderr",
     "output_type": "stream",
     "text": []
    },
    {
     "name": "stdout",
     "output_type": "stream",
     "text": [
      "output of the model SequenceClassifierOutput(loss=None, logits=tensor([[ 0.1764, -1.6182,  1.6777],\n",
      "        [-0.0500, -1.5850,  1.8740],\n",
      "        [ 0.1499, -1.5342,  1.5762],\n",
      "        ...,\n",
      "        [ 0.1180, -1.6484,  1.6104],\n",
      "        [ 0.0839, -1.5635,  1.6602],\n",
      "        [ 0.1393, -1.6104,  1.5635]], device='cuda:0', dtype=torch.float16), hidden_states=None, attentions=None)\n"
     ]
    },
    {
     "name": "stderr",
     "output_type": "stream",
     "text": []
    },
    {
     "name": "stdout",
     "output_type": "stream",
     "text": [
      "output of the model SequenceClassifierOutput(loss=None, logits=tensor([[ 0.2549, -1.7061,  1.6289],\n",
      "        [ 0.1838, -1.6680,  1.6299],\n",
      "        [ 0.1818, -1.5693,  1.6221],\n",
      "        ...,\n",
      "        [ 0.3523, -1.8799,  1.7393],\n",
      "        [ 0.6182, -1.8750,  1.3838],\n",
      "        [-0.0221, -1.6592,  1.8672]], device='cuda:0', dtype=torch.float16), hidden_states=None, attentions=None)\n"
     ]
    },
    {
     "name": "stderr",
     "output_type": "stream",
     "text": []
    },
    {
     "name": "stdout",
     "output_type": "stream",
     "text": [
      "output of the model SequenceClassifierOutput(loss=None, logits=tensor([[ 0.1312, -1.6025,  1.6387],\n",
      "        [ 0.1238, -1.6885,  1.6719],\n",
      "        [ 0.1716, -1.6777,  1.6279],\n",
      "        ...,\n",
      "        [ 0.1138, -1.5791,  1.6816],\n",
      "        [ 0.0929, -1.7568,  1.7705],\n",
      "        [ 0.0326, -1.5742,  1.6953]], device='cuda:0', dtype=torch.float16), hidden_states=None, attentions=None)\n"
     ]
    },
    {
     "name": "stderr",
     "output_type": "stream",
     "text": []
    },
    {
     "name": "stdout",
     "output_type": "stream",
     "text": [
      "output of the model SequenceClassifierOutput(loss=None, logits=tensor([[ 0.0653, -1.6143,  1.7539],\n",
      "        [ 0.0820, -1.7041,  1.8086],\n",
      "        [-0.0154, -1.6201,  1.8184],\n",
      "        ...,\n",
      "        [ 0.1365, -1.7773,  1.7314],\n",
      "        [ 0.1931, -1.6494,  1.6475],\n",
      "        [-0.0188, -1.5732,  1.7939]], device='cuda:0', dtype=torch.float16), hidden_states=None, attentions=None)\n"
     ]
    },
    {
     "name": "stderr",
     "output_type": "stream",
     "text": []
    },
    {
     "name": "stdout",
     "output_type": "stream",
     "text": [
      "output of the model SequenceClassifierOutput(loss=None, logits=tensor([[-0.0160, -1.5684,  1.7402],\n",
      "        [ 0.0870, -1.6514,  1.7705],\n",
      "        [ 0.2368, -1.7559,  1.6914],\n",
      "        ...,\n",
      "        [ 0.1836, -1.6572,  1.6533],\n",
      "        [ 0.0134, -1.6152,  1.7998],\n",
      "        [ 0.2324, -1.7119,  1.7090]], device='cuda:0', dtype=torch.float16), hidden_states=None, attentions=None)\n"
     ]
    },
    {
     "name": "stderr",
     "output_type": "stream",
     "text": []
    },
    {
     "name": "stdout",
     "output_type": "stream",
     "text": [
      "output of the model SequenceClassifierOutput(loss=None, logits=tensor([[ 0.2681, -1.6416,  1.5537],\n",
      "        [ 0.4451, -1.7637,  1.4668],\n",
      "        [ 0.1247, -1.5693,  1.6816],\n",
      "        ...,\n",
      "        [ 0.1274, -1.6025,  1.6172],\n",
      "        [ 0.1409, -1.6719,  1.6689],\n",
      "        [ 0.0750, -1.5186,  1.6289]], device='cuda:0', dtype=torch.float16), hidden_states=None, attentions=None)\n"
     ]
    },
    {
     "name": "stderr",
     "output_type": "stream",
     "text": []
    },
    {
     "name": "stdout",
     "output_type": "stream",
     "text": [
      "output of the model SequenceClassifierOutput(loss=None, logits=tensor([[ 0.0062, -1.8525,  1.9668],\n",
      "        [ 0.0540, -1.6318,  1.7627],\n",
      "        [-0.0287, -1.7363,  1.8926],\n",
      "        ...,\n",
      "        [ 0.1831, -1.8203,  1.7559],\n",
      "        [ 0.2076, -1.7100,  1.6953],\n",
      "        [ 0.1519, -1.6016,  1.6543]], device='cuda:0', dtype=torch.float16), hidden_states=None, attentions=None)\n"
     ]
    },
    {
     "name": "stderr",
     "output_type": "stream",
     "text": []
    },
    {
     "name": "stdout",
     "output_type": "stream",
     "text": [
      "output of the model SequenceClassifierOutput(loss=None, logits=tensor([[ 0.0646, -1.7178,  1.8535],\n",
      "        [ 0.0630, -1.6006,  1.7021],\n",
      "        [ 0.1490, -1.7979,  1.8115],\n",
      "        ...,\n",
      "        [ 0.0662, -1.8291,  1.9707],\n",
      "        [ 0.1499, -1.5996,  1.6748],\n",
      "        [ 0.3108, -1.8369,  1.5801]], device='cuda:0', dtype=torch.float16), hidden_states=None, attentions=None)\n"
     ]
    },
    {
     "name": "stderr",
     "output_type": "stream",
     "text": []
    },
    {
     "name": "stdout",
     "output_type": "stream",
     "text": [
      "output of the model SequenceClassifierOutput(loss=None, logits=tensor([[ 0.2203, -1.7949,  1.7549],\n",
      "        [-0.1758, -1.4414,  1.8789],\n",
      "        [ 0.1733, -1.7129,  1.6387],\n",
      "        ...,\n",
      "        [ 0.0715, -1.6064,  1.7666],\n",
      "        [ 0.0140, -1.7285,  1.8262],\n",
      "        [ 0.0457, -1.6934,  1.8223]], device='cuda:0', dtype=torch.float16), hidden_states=None, attentions=None)\n"
     ]
    },
    {
     "name": "stderr",
     "output_type": "stream",
     "text": []
    },
    {
     "name": "stdout",
     "output_type": "stream",
     "text": [
      "output of the model SequenceClassifierOutput(loss=None, logits=tensor([[-0.0816, -1.5830,  1.8506],\n",
      "        [-0.2197, -1.2959,  1.8496],\n",
      "        [-0.1343, -1.4463,  1.8115],\n",
      "        ...,\n",
      "        [ 0.1954, -1.6807,  1.7178],\n",
      "        [ 0.1671, -1.7764,  1.7861],\n",
      "        [ 0.3826, -1.8223,  1.4434]], device='cuda:0', dtype=torch.float16), hidden_states=None, attentions=None)\n"
     ]
    },
    {
     "name": "stderr",
     "output_type": "stream",
     "text": []
    },
    {
     "name": "stdout",
     "output_type": "stream",
     "text": [
      "output of the model SequenceClassifierOutput(loss=None, logits=tensor([[ 0.2808, -1.8730,  1.6270],\n",
      "        [-0.0578, -1.5225,  1.8320],\n",
      "        [ 0.0192, -1.6182,  1.8555],\n",
      "        ...,\n",
      "        [ 0.1366, -1.6709,  1.6523],\n",
      "        [ 0.0600, -1.5889,  1.7012],\n",
      "        [ 0.0853, -1.6807,  1.7461]], device='cuda:0', dtype=torch.float16), hidden_states=None, attentions=None)\n"
     ]
    },
    {
     "name": "stderr",
     "output_type": "stream",
     "text": []
    },
    {
     "name": "stdout",
     "output_type": "stream",
     "text": [
      "output of the model SequenceClassifierOutput(loss=None, logits=tensor([[ 0.0836, -1.7715,  1.8125],\n",
      "        [ 0.0191, -1.5625,  1.7998],\n",
      "        [-0.1221, -1.5244,  1.9482],\n",
      "        ...,\n",
      "        [ 0.1448, -1.7305,  1.7510],\n",
      "        [ 0.1071, -1.6221,  1.7031],\n",
      "        [ 0.1702, -1.6807,  1.6250]], device='cuda:0', dtype=torch.float16), hidden_states=None, attentions=None)\n"
     ]
    },
    {
     "name": "stderr",
     "output_type": "stream",
     "text": []
    },
    {
     "name": "stdout",
     "output_type": "stream",
     "text": [
      "output of the model SequenceClassifierOutput(loss=None, logits=tensor([[ 0.1403, -1.6045,  1.7432],\n",
      "        [ 0.0654, -1.5527,  1.6611],\n",
      "        [ 0.0712, -1.6494,  1.7607],\n",
      "        ...,\n",
      "        [ 0.1770, -1.7998,  1.7686],\n",
      "        [ 0.1148, -1.6309,  1.6836],\n",
      "        [ 0.1332, -1.6729,  1.7363]], device='cuda:0', dtype=torch.float16), hidden_states=None, attentions=None)\n"
     ]
    },
    {
     "name": "stderr",
     "output_type": "stream",
     "text": []
    },
    {
     "name": "stdout",
     "output_type": "stream",
     "text": [
      "output of the model SequenceClassifierOutput(loss=None, logits=tensor([[ 0.0548, -1.6123,  1.7754],\n",
      "        [ 0.1724, -1.5732,  1.5957],\n",
      "        [ 0.4709, -1.7803,  1.4160],\n",
      "        ...,\n",
      "        [ 0.0100, -1.8223,  1.9336],\n",
      "        [ 0.1077, -1.6445,  1.6943],\n",
      "        [-0.1429, -1.3730,  1.7842]], device='cuda:0', dtype=torch.float16), hidden_states=None, attentions=None)\n"
     ]
    },
    {
     "name": "stderr",
     "output_type": "stream",
     "text": []
    },
    {
     "name": "stdout",
     "output_type": "stream",
     "text": [
      "output of the model SequenceClassifierOutput(loss=None, logits=tensor([[ 0.0997, -1.7139,  1.6670],\n",
      "        [ 0.2319, -1.8027,  1.7500],\n",
      "        [ 0.1432, -1.5596,  1.6201],\n",
      "        ...,\n",
      "        [ 0.1300, -1.6250,  1.7480],\n",
      "        [ 0.1558, -1.6494,  1.6553],\n",
      "        [ 0.1211, -1.5713,  1.6230]], device='cuda:0', dtype=torch.float16), hidden_states=None, attentions=None)\n"
     ]
    },
    {
     "name": "stderr",
     "output_type": "stream",
     "text": []
    },
    {
     "name": "stdout",
     "output_type": "stream",
     "text": [
      "output of the model SequenceClassifierOutput(loss=None, logits=tensor([[ 0.0310, -1.9287,  2.0273],\n",
      "        [ 0.0337, -1.6045,  1.8203],\n",
      "        [ 0.1136, -1.6270,  1.6621],\n",
      "        ...,\n",
      "        [ 0.3411, -1.7803,  1.5518],\n",
      "        [ 0.3850, -1.7188,  1.4287],\n",
      "        [ 0.0527, -1.6211,  1.7100]], device='cuda:0', dtype=torch.float16), hidden_states=None, attentions=None)\n"
     ]
    },
    {
     "name": "stderr",
     "output_type": "stream",
     "text": []
    },
    {
     "name": "stdout",
     "output_type": "stream",
     "text": [
      "output of the model SequenceClassifierOutput(loss=None, logits=tensor([[ 0.1337, -1.5459,  1.6660],\n",
      "        [ 0.4070, -2.0898,  1.6758],\n",
      "        [ 0.1377, -1.8174,  1.9004],\n",
      "        ...,\n",
      "        [ 0.0985, -1.6318,  1.7520],\n",
      "        [ 0.1989, -1.8311,  1.8037],\n",
      "        [ 0.1351, -1.7568,  1.7959]], device='cuda:0', dtype=torch.float16), hidden_states=None, attentions=None)\n"
     ]
    },
    {
     "name": "stderr",
     "output_type": "stream",
     "text": []
    },
    {
     "name": "stdout",
     "output_type": "stream",
     "text": [
      "output of the model SequenceClassifierOutput(loss=None, logits=tensor([[ 0.1018, -1.6016,  1.6699],\n",
      "        [ 0.0891, -1.6221,  1.6924],\n",
      "        [ 0.1433, -1.6084,  1.6748],\n",
      "        ...,\n",
      "        [-0.1726, -1.7520,  2.0586],\n",
      "        [ 0.1604, -1.6416,  1.6816],\n",
      "        [ 0.2205, -1.6367,  1.5596]], device='cuda:0', dtype=torch.float16), hidden_states=None, attentions=None)\n"
     ]
    },
    {
     "name": "stderr",
     "output_type": "stream",
     "text": []
    },
    {
     "name": "stdout",
     "output_type": "stream",
     "text": [
      "output of the model SequenceClassifierOutput(loss=None, logits=tensor([[ 0.1331, -1.8135,  1.8926],\n",
      "        [ 0.1580, -1.6475,  1.6680],\n",
      "        [-0.0676, -1.7939,  2.0254],\n",
      "        ...,\n",
      "        [ 0.2349, -1.7959,  1.7148],\n",
      "        [ 0.2776, -1.7529,  1.6602],\n",
      "        [ 0.3176, -1.8018,  1.6641]], device='cuda:0', dtype=torch.float16), hidden_states=None, attentions=None)\n"
     ]
    },
    {
     "name": "stderr",
     "output_type": "stream",
     "text": []
    },
    {
     "name": "stdout",
     "output_type": "stream",
     "text": [
      "output of the model SequenceClassifierOutput(loss=None, logits=tensor([[ 0.1589, -1.6504,  1.6055],\n",
      "        [-0.0499, -1.5020,  1.7686],\n",
      "        [ 0.0448, -1.5186,  1.7441],\n",
      "        ...,\n",
      "        [ 0.0895, -1.5117,  1.7695],\n",
      "        [ 0.1909, -1.6680,  1.5938],\n",
      "        [ 0.1205, -1.7002,  1.7646]], device='cuda:0', dtype=torch.float16), hidden_states=None, attentions=None)\n"
     ]
    },
    {
     "name": "stderr",
     "output_type": "stream",
     "text": []
    },
    {
     "name": "stdout",
     "output_type": "stream",
     "text": [
      "output of the model SequenceClassifierOutput(loss=None, logits=tensor([[ 0.0579, -1.6689,  1.8086],\n",
      "        [ 0.1476, -1.6328,  1.7334],\n",
      "        [ 0.0861, -1.6182,  1.6475],\n",
      "        ...,\n",
      "        [ 0.0699, -1.6396,  1.7852],\n",
      "        [ 0.6938, -1.7988,  1.2324],\n",
      "        [ 0.2720, -1.7578,  1.6523]], device='cuda:0', dtype=torch.float16), hidden_states=None, attentions=None)\n"
     ]
    },
    {
     "name": "stderr",
     "output_type": "stream",
     "text": []
    },
    {
     "name": "stdout",
     "output_type": "stream",
     "text": [
      "output of the model SequenceClassifierOutput(loss=None, logits=tensor([[ 0.4216, -1.7871,  1.5420],\n",
      "        [ 0.1918, -1.6318,  1.5195],\n",
      "        [ 0.2871, -1.7627,  1.6514],\n",
      "        ...,\n",
      "        [ 0.3757, -1.7998,  1.5225],\n",
      "        [ 0.2886, -1.7646,  1.6006],\n",
      "        [ 0.1294, -1.7354,  1.7812]], device='cuda:0', dtype=torch.float16), hidden_states=None, attentions=None)\n"
     ]
    },
    {
     "name": "stderr",
     "output_type": "stream",
     "text": []
    },
    {
     "name": "stdout",
     "output_type": "stream",
     "text": [
      "output of the model SequenceClassifierOutput(loss=None, logits=tensor([[ 0.4146, -1.8857,  1.5723],\n",
      "        [-0.0212, -1.6621,  1.8857],\n",
      "        [ 0.0460, -1.5342,  1.7080],\n",
      "        ...,\n",
      "        [ 0.1519, -1.6514,  1.6533],\n",
      "        [-0.1256, -1.4648,  1.8096],\n",
      "        [ 0.0919, -1.6260,  1.7188]], device='cuda:0', dtype=torch.float16), hidden_states=None, attentions=None)\n"
     ]
    },
    {
     "name": "stderr",
     "output_type": "stream",
     "text": []
    },
    {
     "name": "stdout",
     "output_type": "stream",
     "text": [
      "output of the model SequenceClassifierOutput(loss=None, logits=tensor([[ 0.2871, -1.7617,  1.6133],\n",
      "        [ 0.1771, -1.7148,  1.6992],\n",
      "        [ 0.2079, -1.7266,  1.6602],\n",
      "        ...,\n",
      "        [ 0.3936, -1.8486,  1.6240],\n",
      "        [ 0.3113, -1.7744,  1.5889],\n",
      "        [ 0.0471, -1.6055,  1.7373]], device='cuda:0', dtype=torch.float16), hidden_states=None, attentions=None)\n"
     ]
    },
    {
     "name": "stderr",
     "output_type": "stream",
     "text": []
    },
    {
     "name": "stdout",
     "output_type": "stream",
     "text": [
      "output of the model SequenceClassifierOutput(loss=None, logits=tensor([[ 0.1737, -1.5830,  1.5293],\n",
      "        [ 0.0778, -1.6562,  1.6973],\n",
      "        [-0.0771, -1.6162,  1.9688],\n",
      "        ...,\n",
      "        [-0.0350, -1.6504,  1.8809],\n",
      "        [-0.0060, -1.6367,  1.8682],\n",
      "        [ 0.1372, -1.6895,  1.7695]], device='cuda:0', dtype=torch.float16), hidden_states=None, attentions=None)\n"
     ]
    },
    {
     "name": "stderr",
     "output_type": "stream",
     "text": []
    },
    {
     "name": "stdout",
     "output_type": "stream",
     "text": [
      "output of the model SequenceClassifierOutput(loss=None, logits=tensor([[ 0.1923, -1.7559,  1.6602],\n",
      "        [ 0.1472, -1.6895,  1.8154],\n",
      "        [ 0.3369, -1.7412,  1.6416],\n",
      "        ...,\n",
      "        [ 0.0925, -1.6338,  1.7441],\n",
      "        [ 0.0573, -1.7461,  1.9180],\n",
      "        [ 0.0903, -1.5742,  1.6846]], device='cuda:0', dtype=torch.float16), hidden_states=None, attentions=None)\n"
     ]
    },
    {
     "name": "stderr",
     "output_type": "stream",
     "text": []
    },
    {
     "name": "stdout",
     "output_type": "stream",
     "text": [
      "output of the model SequenceClassifierOutput(loss=None, logits=tensor([[ 0.5332, -1.7852,  1.3555],\n",
      "        [ 0.3633, -1.7246,  1.4404],\n",
      "        [ 0.0928, -1.6787,  1.8447],\n",
      "        ...,\n",
      "        [ 0.1669, -1.6641,  1.6152],\n",
      "        [ 0.1729, -1.6143,  1.6729],\n",
      "        [ 0.2847, -1.7266,  1.5332]], device='cuda:0', dtype=torch.float16), hidden_states=None, attentions=None)\n"
     ]
    },
    {
     "name": "stderr",
     "output_type": "stream",
     "text": []
    },
    {
     "name": "stdout",
     "output_type": "stream",
     "text": [
      "output of the model SequenceClassifierOutput(loss=None, logits=tensor([[ 0.1093, -1.6455,  1.6670],\n",
      "        [ 0.2457, -1.7100,  1.6494],\n",
      "        [ 0.1636, -1.6914,  1.6797],\n",
      "        ...,\n",
      "        [ 0.1003, -1.7158,  1.7207],\n",
      "        [ 0.3804, -1.8252,  1.5381],\n",
      "        [ 0.1190, -1.6094,  1.7148]], device='cuda:0', dtype=torch.float16), hidden_states=None, attentions=None)\n"
     ]
    },
    {
     "name": "stderr",
     "output_type": "stream",
     "text": []
    },
    {
     "name": "stdout",
     "output_type": "stream",
     "text": [
      "output of the model SequenceClassifierOutput(loss=None, logits=tensor([[ 0.2661, -1.6523,  1.4980],\n",
      "        [ 0.0997, -1.6230,  1.6924],\n",
      "        [ 0.0268, -1.5664,  1.7510],\n",
      "        ...,\n",
      "        [ 0.1290, -1.7627,  1.7559],\n",
      "        [ 0.0314, -1.5361,  1.7314],\n",
      "        [ 0.1821, -1.7998,  1.7041]], device='cuda:0', dtype=torch.float16), hidden_states=None, attentions=None)\n"
     ]
    },
    {
     "name": "stderr",
     "output_type": "stream",
     "text": []
    },
    {
     "name": "stdout",
     "output_type": "stream",
     "text": [
      "output of the model SequenceClassifierOutput(loss=None, logits=tensor([[ 0.1611, -1.7080,  1.7637],\n",
      "        [ 0.1953, -1.7764,  1.7305],\n",
      "        [ 0.0920, -1.6016,  1.6680],\n",
      "        ...,\n",
      "        [ 0.0809, -1.7090,  1.8193],\n",
      "        [ 0.1255, -1.6436,  1.6426],\n",
      "        [ 0.3000, -1.7900,  1.6123]], device='cuda:0', dtype=torch.float16), hidden_states=None, attentions=None)\n"
     ]
    },
    {
     "name": "stderr",
     "output_type": "stream",
     "text": []
    },
    {
     "name": "stdout",
     "output_type": "stream",
     "text": [
      "output of the model SequenceClassifierOutput(loss=None, logits=tensor([[-0.0079, -1.6787,  1.8701],\n",
      "        [-0.0520, -1.5410,  1.7871],\n",
      "        [ 0.0446, -1.5439,  1.7051],\n",
      "        ...,\n",
      "        [ 0.0718, -1.5146,  1.6621],\n",
      "        [ 0.0922, -1.6133,  1.6895],\n",
      "        [ 0.2003, -1.7412,  1.7168]], device='cuda:0', dtype=torch.float16), hidden_states=None, attentions=None)\n"
     ]
    },
    {
     "name": "stderr",
     "output_type": "stream",
     "text": []
    },
    {
     "name": "stdout",
     "output_type": "stream",
     "text": [
      "output of the model SequenceClassifierOutput(loss=None, logits=tensor([[ 0.3960, -1.7100,  1.4316],\n",
      "        [ 0.1151, -1.7363,  1.7959],\n",
      "        [ 0.3125, -1.7598,  1.5703],\n",
      "        ...,\n",
      "        [-0.3379, -1.6016,  2.0801],\n",
      "        [ 0.4062, -1.6777,  1.3369],\n",
      "        [ 0.0940, -1.5596,  1.7324]], device='cuda:0', dtype=torch.float16), hidden_states=None, attentions=None)\n"
     ]
    },
    {
     "name": "stderr",
     "output_type": "stream",
     "text": []
    },
    {
     "name": "stdout",
     "output_type": "stream",
     "text": [
      "output of the model SequenceClassifierOutput(loss=None, logits=tensor([[ 0.0039, -1.6172,  1.8418],\n",
      "        [ 0.1804, -1.7764,  1.7109],\n",
      "        [ 0.1179, -1.5215,  1.5762],\n",
      "        ...,\n",
      "        [ 0.0468, -1.5469,  1.7451],\n",
      "        [ 0.2113, -1.6670,  1.5996],\n",
      "        [ 0.2360, -1.7197,  1.6758]], device='cuda:0', dtype=torch.float16), hidden_states=None, attentions=None)\n"
     ]
    },
    {
     "name": "stderr",
     "output_type": "stream",
     "text": []
    },
    {
     "name": "stdout",
     "output_type": "stream",
     "text": [
      "output of the model SequenceClassifierOutput(loss=None, logits=tensor([[ 0.2120, -1.6680,  1.6133],\n",
      "        [ 0.0988, -1.6416,  1.7090],\n",
      "        [ 0.1115, -1.5986,  1.6641],\n",
      "        ...,\n",
      "        [ 0.0978, -1.5986,  1.7100],\n",
      "        [ 0.1406, -1.6416,  1.6699],\n",
      "        [ 0.0331, -1.5498,  1.7314]], device='cuda:0', dtype=torch.float16), hidden_states=None, attentions=None)\n"
     ]
    },
    {
     "name": "stderr",
     "output_type": "stream",
     "text": []
    },
    {
     "name": "stdout",
     "output_type": "stream",
     "text": [
      "output of the model SequenceClassifierOutput(loss=None, logits=tensor([[ 0.2307, -1.7354,  1.6250],\n",
      "        [ 0.2583, -1.5674,  1.4834],\n",
      "        [ 0.0559, -1.8076,  1.9463],\n",
      "        ...,\n",
      "        [ 0.0197, -1.7646,  1.9805],\n",
      "        [ 0.4934, -1.8184,  1.4814],\n",
      "        [ 0.1680, -1.7422,  1.6367]], device='cuda:0', dtype=torch.float16), hidden_states=None, attentions=None)\n"
     ]
    },
    {
     "name": "stderr",
     "output_type": "stream",
     "text": []
    },
    {
     "name": "stdout",
     "output_type": "stream",
     "text": [
      "output of the model SequenceClassifierOutput(loss=None, logits=tensor([[-0.0035, -1.5469,  1.7666],\n",
      "        [ 0.1071, -1.6270,  1.6875],\n",
      "        [ 0.2583, -1.7646,  1.6084],\n",
      "        ...,\n",
      "        [ 0.4951, -1.7793,  1.4062],\n",
      "        [ 0.0223, -1.6650,  1.7988],\n",
      "        [ 0.1665, -1.6807,  1.7021]], device='cuda:0', dtype=torch.float16), hidden_states=None, attentions=None)\n"
     ]
    },
    {
     "name": "stderr",
     "output_type": "stream",
     "text": []
    },
    {
     "name": "stdout",
     "output_type": "stream",
     "text": [
      "output of the model SequenceClassifierOutput(loss=None, logits=tensor([[ 0.1532, -1.7324,  1.7754],\n",
      "        [ 0.0254, -1.5381,  1.7070],\n",
      "        [ 0.0835, -1.5391,  1.6523],\n",
      "        ...,\n",
      "        [ 0.0407, -1.5996,  1.7500],\n",
      "        [ 0.3503, -1.8154,  1.5498],\n",
      "        [-0.0847, -1.3711,  1.7520]], device='cuda:0', dtype=torch.float16), hidden_states=None, attentions=None)\n"
     ]
    },
    {
     "name": "stderr",
     "output_type": "stream",
     "text": []
    },
    {
     "name": "stdout",
     "output_type": "stream",
     "text": [
      "output of the model SequenceClassifierOutput(loss=None, logits=tensor([[ 0.0693, -1.7119,  1.7734],\n",
      "        [ 0.2815, -1.7080,  1.6045],\n",
      "        [ 0.3220, -1.8115,  1.5732],\n",
      "        ...,\n",
      "        [ 0.4363, -1.8984,  1.5361],\n",
      "        [ 0.4167, -1.8428,  1.5918],\n",
      "        [ 0.3157, -1.7490,  1.5527]], device='cuda:0', dtype=torch.float16), hidden_states=None, attentions=None)\n"
     ]
    },
    {
     "name": "stderr",
     "output_type": "stream",
     "text": []
    },
    {
     "name": "stdout",
     "output_type": "stream",
     "text": [
      "output of the model SequenceClassifierOutput(loss=None, logits=tensor([[ 0.2629, -1.7754,  1.6816],\n",
      "        [-0.0298, -1.5791,  1.7900],\n",
      "        [ 0.2422, -1.6396,  1.5674],\n",
      "        ...,\n",
      "        [ 0.5610, -1.8008,  1.3770],\n",
      "        [ 0.1097, -1.5811,  1.6895],\n",
      "        [ 0.0704, -1.5811,  1.6133]], device='cuda:0', dtype=torch.float16), hidden_states=None, attentions=None)\n"
     ]
    },
    {
     "name": "stderr",
     "output_type": "stream",
     "text": []
    },
    {
     "name": "stdout",
     "output_type": "stream",
     "text": [
      "output of the model SequenceClassifierOutput(loss=None, logits=tensor([[ 0.1166, -1.5898,  1.6914],\n",
      "        [ 0.2856, -1.7285,  1.6074],\n",
      "        [ 0.0109, -1.5225,  1.7529],\n",
      "        ...,\n",
      "        [ 0.2793, -1.7227,  1.6182],\n",
      "        [ 0.0805, -1.6719,  1.7617],\n",
      "        [ 0.2257, -1.7471,  1.6611]], device='cuda:0', dtype=torch.float16), hidden_states=None, attentions=None)\n"
     ]
    },
    {
     "name": "stderr",
     "output_type": "stream",
     "text": []
    },
    {
     "name": "stdout",
     "output_type": "stream",
     "text": [
      "output of the model SequenceClassifierOutput(loss=None, logits=tensor([[ 0.0480, -1.6436,  1.7529],\n",
      "        [ 0.1229, -1.6162,  1.7764],\n",
      "        [ 0.2145, -1.7021,  1.7236],\n",
      "        ...,\n",
      "        [ 0.2542, -1.7324,  1.6973],\n",
      "        [ 0.0497, -1.6045,  1.7744],\n",
      "        [-0.0077, -1.4404,  1.7041]], device='cuda:0', dtype=torch.float16), hidden_states=None, attentions=None)\n"
     ]
    },
    {
     "name": "stderr",
     "output_type": "stream",
     "text": []
    },
    {
     "name": "stdout",
     "output_type": "stream",
     "text": [
      "output of the model SequenceClassifierOutput(loss=None, logits=tensor([[ 0.0108, -1.3975,  1.6992],\n",
      "        [ 0.1918, -1.5908,  1.5879],\n",
      "        [ 0.0858, -1.5732,  1.7109],\n",
      "        ...,\n",
      "        [ 0.2686, -1.7334,  1.6299],\n",
      "        [ 0.0530, -1.8213,  1.9492],\n",
      "        [ 0.1289, -1.6641,  1.6904]], device='cuda:0', dtype=torch.float16), hidden_states=None, attentions=None)\n"
     ]
    },
    {
     "name": "stderr",
     "output_type": "stream",
     "text": []
    },
    {
     "name": "stdout",
     "output_type": "stream",
     "text": [
      "output of the model SequenceClassifierOutput(loss=None, logits=tensor([[ 0.2637, -1.8223,  1.7227],\n",
      "        [ 0.0543, -1.7959,  1.8965],\n",
      "        [ 0.1548, -1.6455,  1.6914],\n",
      "        ...,\n",
      "        [ 0.3105, -1.8232,  1.6670],\n",
      "        [ 0.2964, -1.6836,  1.5361],\n",
      "        [ 0.1550, -1.5850,  1.6387]], device='cuda:0', dtype=torch.float16), hidden_states=None, attentions=None)\n"
     ]
    },
    {
     "name": "stderr",
     "output_type": "stream",
     "text": []
    },
    {
     "name": "stdout",
     "output_type": "stream",
     "text": [
      "output of the model SequenceClassifierOutput(loss=None, logits=tensor([[ 0.1715, -1.6895,  1.6699],\n",
      "        [ 0.0859, -1.6094,  1.7979],\n",
      "        [ 0.1426, -1.7090,  1.7393],\n",
      "        ...,\n",
      "        [ 0.0839, -1.6455,  1.8320],\n",
      "        [ 0.2595, -1.7158,  1.6387],\n",
      "        [ 0.1121, -1.5283,  1.6240]], device='cuda:0', dtype=torch.float16), hidden_states=None, attentions=None)\n"
     ]
    },
    {
     "name": "stderr",
     "output_type": "stream",
     "text": []
    },
    {
     "name": "stdout",
     "output_type": "stream",
     "text": [
      "output of the model SequenceClassifierOutput(loss=None, logits=tensor([[ 0.1642, -1.6514,  1.6641],\n",
      "        [ 0.0185, -1.5312,  1.7412],\n",
      "        [ 0.1475, -1.7354,  1.7002],\n",
      "        ...,\n",
      "        [-0.0918, -1.5879,  1.9219],\n",
      "        [ 0.2383, -1.8604,  1.7822],\n",
      "        [-0.0029, -1.6240,  1.8906]], device='cuda:0', dtype=torch.float16), hidden_states=None, attentions=None)\n"
     ]
    },
    {
     "name": "stderr",
     "output_type": "stream",
     "text": [
      "Processing batches (chunk 15):  71%|███████▏  | 70/98 [02:38<01:03,  2.26s/it]\n",
      "Processing chunks:  11%|█         | 14/131 [10:51<1:30:42, 46.52s/it]\n"
     ]
    },
    {
     "ename": "KeyboardInterrupt",
     "evalue": "",
     "output_type": "error",
     "traceback": [
      "\u001b[31m---------------------------------------------------------------------------\u001b[39m",
      "\u001b[31mKeyboardInterrupt\u001b[39m                         Traceback (most recent call last)",
      "\u001b[36mCell\u001b[39m\u001b[36m \u001b[39m\u001b[32mIn[2]\u001b[39m\u001b[32m, line 94\u001b[39m\n\u001b[32m     91\u001b[39m     \u001b[38;5;28;01mreturn\u001b[39;00m scores, sentiments\n\u001b[32m     93\u001b[39m \u001b[38;5;66;03m# Apply batched sentiment analysis\u001b[39;00m\n\u001b[32m---> \u001b[39m\u001b[32m94\u001b[39m scores, sentiments = \u001b[43mbatch_sentiment_scores\u001b[49m\u001b[43m(\u001b[49m\u001b[43mdf1\u001b[49m\u001b[43m[\u001b[49m\u001b[33;43m'\u001b[39;49m\u001b[33;43mtext\u001b[39;49m\u001b[33;43m'\u001b[39;49m\u001b[43m]\u001b[49m\u001b[43m,\u001b[49m\u001b[43m \u001b[49m\u001b[43mtokenizer\u001b[49m\u001b[43m,\u001b[49m\u001b[43m \u001b[49m\u001b[43mbatch_size\u001b[49m\u001b[43m=\u001b[49m\u001b[32;43m1024\u001b[39;49m\u001b[43m,\u001b[49m\u001b[43m \u001b[49m\u001b[43mchunk_size\u001b[49m\u001b[43m=\u001b[49m\u001b[32;43m100000\u001b[39;49m\u001b[43m)\u001b[49m\n\u001b[32m     96\u001b[39m \u001b[38;5;66;03m# Assign results with efficient dtypes\u001b[39;00m\n\u001b[32m     97\u001b[39m df1[\u001b[33m'\u001b[39m\u001b[33msentiment_score\u001b[39m\u001b[33m'\u001b[39m] = pd.Series(scores, dtype=\u001b[33m\"\u001b[39m\u001b[33mfloat32\u001b[39m\u001b[33m\"\u001b[39m)\n",
      "\u001b[36mCell\u001b[39m\u001b[36m \u001b[39m\u001b[32mIn[2]\u001b[39m\u001b[32m, line 65\u001b[39m, in \u001b[36mbatch_sentiment_scores\u001b[39m\u001b[34m(series, tokenizer, batch_size, chunk_size)\u001b[39m\n\u001b[32m     63\u001b[39m \u001b[38;5;28;01melse\u001b[39;00m:\n\u001b[32m     64\u001b[39m     outputs = model(input_ids=input_ids, attention_mask=attention_mask)\n\u001b[32m---> \u001b[39m\u001b[32m65\u001b[39m \u001b[38;5;28mprint\u001b[39m(\u001b[33mf\u001b[39m\u001b[33m\"\u001b[39m\u001b[33moutput of the model \u001b[39m\u001b[38;5;132;43;01m{\u001b[39;49;00m\u001b[43moutputs\u001b[49m\u001b[38;5;132;43;01m}\u001b[39;49;00m\u001b[33m\"\u001b[39m)\n\u001b[32m     66\u001b[39m probs = torch.nn.functional.softmax(outputs.logits, dim=-\u001b[32m1\u001b[39m)\n\u001b[32m     67\u001b[39m probs = probs.cpu().numpy()\n",
      "\u001b[36mFile \u001b[39m\u001b[32m~/anaconda3/envs/llm/lib/python3.12/dataclasses.py:262\u001b[39m, in \u001b[36m_recursive_repr.<locals>.wrapper\u001b[39m\u001b[34m(self)\u001b[39m\n\u001b[32m    260\u001b[39m repr_running.add(key)\n\u001b[32m    261\u001b[39m \u001b[38;5;28;01mtry\u001b[39;00m:\n\u001b[32m--> \u001b[39m\u001b[32m262\u001b[39m     result = \u001b[43muser_function\u001b[49m\u001b[43m(\u001b[49m\u001b[38;5;28;43mself\u001b[39;49m\u001b[43m)\u001b[49m\n\u001b[32m    263\u001b[39m \u001b[38;5;28;01mfinally\u001b[39;00m:\n\u001b[32m    264\u001b[39m     repr_running.discard(key)\n",
      "\u001b[36mFile \u001b[39m\u001b[32m<string>:3\u001b[39m, in \u001b[36m__repr__\u001b[39m\u001b[34m(self)\u001b[39m\n",
      "\u001b[36mFile \u001b[39m\u001b[32m~/anaconda3/envs/llm/lib/python3.12/site-packages/torch/_tensor.py:590\u001b[39m, in \u001b[36mTensor.__repr__\u001b[39m\u001b[34m(self, tensor_contents)\u001b[39m\n\u001b[32m    586\u001b[39m     \u001b[38;5;28;01mreturn\u001b[39;00m handle_torch_function(\n\u001b[32m    587\u001b[39m         Tensor.\u001b[34m__repr__\u001b[39m, (\u001b[38;5;28mself\u001b[39m,), \u001b[38;5;28mself\u001b[39m, tensor_contents=tensor_contents\n\u001b[32m    588\u001b[39m     )\n\u001b[32m    589\u001b[39m \u001b[38;5;66;03m# All strings are unicode in Python 3.\u001b[39;00m\n\u001b[32m--> \u001b[39m\u001b[32m590\u001b[39m \u001b[38;5;28;01mreturn\u001b[39;00m \u001b[43mtorch\u001b[49m\u001b[43m.\u001b[49m\u001b[43m_tensor_str\u001b[49m\u001b[43m.\u001b[49m\u001b[43m_str\u001b[49m\u001b[43m(\u001b[49m\u001b[38;5;28;43mself\u001b[39;49m\u001b[43m,\u001b[49m\u001b[43m \u001b[49m\u001b[43mtensor_contents\u001b[49m\u001b[43m=\u001b[49m\u001b[43mtensor_contents\u001b[49m\u001b[43m)\u001b[49m\n",
      "\u001b[36mFile \u001b[39m\u001b[32m~/anaconda3/envs/llm/lib/python3.12/site-packages/torch/_tensor_str.py:710\u001b[39m, in \u001b[36m_str\u001b[39m\u001b[34m(self, tensor_contents)\u001b[39m\n\u001b[32m    708\u001b[39m \u001b[38;5;28;01mwith\u001b[39;00m torch.no_grad(), torch.utils._python_dispatch._disable_current_modes():\n\u001b[32m    709\u001b[39m     guard = torch._C._DisableFuncTorch()  \u001b[38;5;66;03m# noqa: F841\u001b[39;00m\n\u001b[32m--> \u001b[39m\u001b[32m710\u001b[39m     \u001b[38;5;28;01mreturn\u001b[39;00m \u001b[43m_str_intern\u001b[49m\u001b[43m(\u001b[49m\u001b[38;5;28;43mself\u001b[39;49m\u001b[43m,\u001b[49m\u001b[43m \u001b[49m\u001b[43mtensor_contents\u001b[49m\u001b[43m=\u001b[49m\u001b[43mtensor_contents\u001b[49m\u001b[43m)\u001b[49m\n",
      "\u001b[36mFile \u001b[39m\u001b[32m~/anaconda3/envs/llm/lib/python3.12/site-packages/torch/_tensor_str.py:631\u001b[39m, in \u001b[36m_str_intern\u001b[39m\u001b[34m(inp, tensor_contents)\u001b[39m\n\u001b[32m    629\u001b[39m                     tensor_str = _tensor_str(\u001b[38;5;28mself\u001b[39m.to_dense(), indent)\n\u001b[32m    630\u001b[39m                 \u001b[38;5;28;01melse\u001b[39;00m:\n\u001b[32m--> \u001b[39m\u001b[32m631\u001b[39m                     tensor_str = \u001b[43m_tensor_str\u001b[49m\u001b[43m(\u001b[49m\u001b[38;5;28;43mself\u001b[39;49m\u001b[43m,\u001b[49m\u001b[43m \u001b[49m\u001b[43mindent\u001b[49m\u001b[43m)\u001b[49m\n\u001b[32m    633\u001b[39m \u001b[38;5;28;01mif\u001b[39;00m \u001b[38;5;28mself\u001b[39m.layout != torch.strided:\n\u001b[32m    634\u001b[39m     suffixes.append(\u001b[33m\"\u001b[39m\u001b[33mlayout=\u001b[39m\u001b[33m\"\u001b[39m + \u001b[38;5;28mstr\u001b[39m(\u001b[38;5;28mself\u001b[39m.layout))\n",
      "\u001b[36mFile \u001b[39m\u001b[32m~/anaconda3/envs/llm/lib/python3.12/site-packages/torch/_tensor_str.py:363\u001b[39m, in \u001b[36m_tensor_str\u001b[39m\u001b[34m(self, indent)\u001b[39m\n\u001b[32m    359\u001b[39m     \u001b[38;5;28;01mreturn\u001b[39;00m _tensor_str_with_formatter(\n\u001b[32m    360\u001b[39m         \u001b[38;5;28mself\u001b[39m, indent, summarize, real_formatter, imag_formatter\n\u001b[32m    361\u001b[39m     )\n\u001b[32m    362\u001b[39m \u001b[38;5;28;01melse\u001b[39;00m:\n\u001b[32m--> \u001b[39m\u001b[32m363\u001b[39m     formatter = \u001b[43m_Formatter\u001b[49m\u001b[43m(\u001b[49m\u001b[43mget_summarized_data\u001b[49m\u001b[43m(\u001b[49m\u001b[38;5;28;43mself\u001b[39;49m\u001b[43m)\u001b[49m\u001b[43m \u001b[49m\u001b[38;5;28;43;01mif\u001b[39;49;00m\u001b[43m \u001b[49m\u001b[43msummarize\u001b[49m\u001b[43m \u001b[49m\u001b[38;5;28;43;01melse\u001b[39;49;00m\u001b[43m \u001b[49m\u001b[38;5;28;43mself\u001b[39;49m\u001b[43m)\u001b[49m\n\u001b[32m    364\u001b[39m     \u001b[38;5;28;01mreturn\u001b[39;00m _tensor_str_with_formatter(\u001b[38;5;28mself\u001b[39m, indent, summarize, formatter)\n",
      "\u001b[36mFile \u001b[39m\u001b[32m~/anaconda3/envs/llm/lib/python3.12/site-packages/torch/_tensor_str.py:145\u001b[39m, in \u001b[36m_Formatter.__init__\u001b[39m\u001b[34m(self, tensor)\u001b[39m\n\u001b[32m    142\u001b[39m         \u001b[38;5;28mself\u001b[39m.max_width = \u001b[38;5;28mmax\u001b[39m(\u001b[38;5;28mself\u001b[39m.max_width, \u001b[38;5;28mlen\u001b[39m(value_str))\n\u001b[32m    144\u001b[39m \u001b[38;5;28;01melse\u001b[39;00m:\n\u001b[32m--> \u001b[39m\u001b[32m145\u001b[39m     nonzero_finite_vals = \u001b[43mtorch\u001b[49m\u001b[43m.\u001b[49m\u001b[43mmasked_select\u001b[49m\u001b[43m(\u001b[49m\n\u001b[32m    146\u001b[39m \u001b[43m        \u001b[49m\u001b[43mtensor_view\u001b[49m\u001b[43m,\u001b[49m\u001b[43m \u001b[49m\u001b[43mtorch\u001b[49m\u001b[43m.\u001b[49m\u001b[43misfinite\u001b[49m\u001b[43m(\u001b[49m\u001b[43mtensor_view\u001b[49m\u001b[43m)\u001b[49m\u001b[43m \u001b[49m\u001b[43m&\u001b[49m\u001b[43m \u001b[49m\u001b[43mtensor_view\u001b[49m\u001b[43m.\u001b[49m\u001b[43mne\u001b[49m\u001b[43m(\u001b[49m\u001b[32;43m0\u001b[39;49m\u001b[43m)\u001b[49m\n\u001b[32m    147\u001b[39m \u001b[43m    \u001b[49m\u001b[43m)\u001b[49m\n\u001b[32m    149\u001b[39m     \u001b[38;5;28;01mif\u001b[39;00m nonzero_finite_vals.numel() == \u001b[32m0\u001b[39m:\n\u001b[32m    150\u001b[39m         \u001b[38;5;66;03m# no valid number, do nothing\u001b[39;00m\n\u001b[32m    151\u001b[39m         \u001b[38;5;28;01mreturn\u001b[39;00m\n",
      "\u001b[31mKeyboardInterrupt\u001b[39m: "
     ]
    }
   ],
   "source": [
    "# Load FinBERT model and tokenizer\n",
    "tokenizer = AutoTokenizer.from_pretrained(\"ProsusAI/finbert\")\n",
    "model = AutoModelForSequenceClassification.from_pretrained(\"ProsusAI/finbert\")\n",
    "\n",
    "# Move model to GPU\n",
    "model = model.to(device)\n",
    "model.eval()\n",
    "\n",
    "# Custom Dataset for lazy tokenization\n",
    "class TextDataset(Dataset):\n",
    "    def __init__(self, series, max_length=512):\n",
    "        self.series = series  # Store Pandas Series directly\n",
    "        self.max_length = max_length\n",
    "\n",
    "    def __len__(self):\n",
    "        return len(self.series)\n",
    "\n",
    "    def __getitem__(self, idx):\n",
    "        text = self.series.iloc[idx]\n",
    "        text = \"\" if pd.isna(text) or str(text).strip() == \"\" else str(text)\n",
    "        return {'text': text, 'is_empty': text.strip() == \"\"}\n",
    "\n",
    "# Batch inference function with mixed precision and chunking\n",
    "def batch_sentiment_scores(series, tokenizer, batch_size=32, chunk_size=100000):\n",
    "    scores = []\n",
    "    sentiments = []\n",
    "    labels = ['positive', 'negative', 'neutral']\n",
    "    is_cuda = torch.cuda.is_available()\n",
    "\n",
    "    # Process in chunks\n",
    "    for start in tqdm(range(0, len(series), chunk_size), desc=\"Processing chunks\"):\n",
    "        end = min(start + chunk_size, len(series))\n",
    "        chunk_series = series[start:end]\n",
    "\n",
    "        # Create dataset and dataloader for chunk\n",
    "        dataset = TextDataset(chunk_series, max_length=512)\n",
    "        dataloader = DataLoader(dataset, batch_size=batch_size, shuffle=False)\n",
    "\n",
    "        chunk_scores = []\n",
    "        chunk_sentiments = []\n",
    "\n",
    "        with torch.no_grad():\n",
    "            for batch in tqdm(dataloader, desc=f\"Processing batches (chunk {start//chunk_size + 1})\", total=len(dataloader)):\n",
    "                texts = batch['text']\n",
    "                is_empty = batch['is_empty']\n",
    "\n",
    "                # Tokenize the batch with padding and truncation\n",
    "                inputs = tokenizer(\n",
    "                    texts,\n",
    "                    return_tensors=\"pt\",\n",
    "                    max_length=512,\n",
    "                    truncation=True,\n",
    "                    padding='longest'  # Pad to the longest sequence in the batch\n",
    "                )\n",
    "\n",
    "                input_ids = inputs['input_ids'].to(device)\n",
    "                attention_mask = inputs['attention_mask'].to(device)\n",
    "\n",
    "                # Use mixed precision if CUDA is available\n",
    "                if is_cuda:\n",
    "                    with torch.amp.autocast(device_type='cuda'):\n",
    "                        outputs = model(input_ids=input_ids, attention_mask=attention_mask)\n",
    "                else:\n",
    "                    outputs = model(input_ids=input_ids, attention_mask=attention_mask)\n",
    "                print(f\"output of the model {outputs}\")\n",
    "                probs = torch.nn.functional.softmax(outputs.logits, dim=-1)\n",
    "                probs = probs.cpu().numpy()\n",
    "                batch_scores = np.max(probs, axis=1)\n",
    "                batch_sentiments = [labels[np.argmax(p)] for p in probs]\n",
    "\n",
    "                # Handle empty texts in batch\n",
    "                for i, empty in enumerate(is_empty):\n",
    "                    if empty:\n",
    "                        batch_scores[i] = np.nan\n",
    "                        batch_sentiments[i] = \"neutral\"\n",
    "\n",
    "                chunk_scores.extend(batch_scores)\n",
    "                chunk_sentiments.extend(batch_sentiments)\n",
    "\n",
    "                # Clean up\n",
    "                if is_cuda:\n",
    "                    torch.cuda.empty_cache()\n",
    "\n",
    "        scores.extend(chunk_scores)\n",
    "        sentiments.extend(chunk_sentiments)\n",
    "\n",
    "        # Clear chunk memory\n",
    "        del chunk_series, dataset, dataloader\n",
    "        gc.collect()\n",
    "\n",
    "    return scores, sentiments\n",
    "\n",
    "# Apply batched sentiment analysis\n",
    "scores, sentiments = batch_sentiment_scores(df1['text'], tokenizer, batch_size=1024, chunk_size=100000)\n",
    "\n",
    "# Assign results with efficient dtypes\n",
    "df1['sentiment_score'] = pd.Series(scores, dtype=\"float32\")\n",
    "df1['sentiment'] = pd.Series(sentiments, dtype=\"category\")\n",
    "\n",
    "# Verify final row count\n",
    "print(f\"Final row count: {len(df1)}\")\n",
    "if len(df1) != initial_rows:\n",
    "    print(f\"Error: Rows were dropped during processing. Initial rows: {initial_rows}, Final rows: {len(df1)}\")\n",
    "\n",
    "# Display results\n",
    "print(\"\\nDataFrame with sentiment scores:\")\n",
    "print(df1.head())\n",
    "print(\"\\nNumber of missing sentiment scores:\", df1['sentiment_score'].isna().sum())\n",
    "\n",
    "# Save the DataFrame\n",
    "output_file = os.path.join(\".\", \"FINANCIAL NEWS\", \"finance_data_with_sentiment.csv\")\n",
    "df1.to_csv(output_file, index=False, compression=None)\n",
    "print(f\"DataFrame saved to: {output_file}\")\n",
    "\n",
    "# Clear df1 to free memory\n",
    "del df1\n",
    "gc.collect()\n",
    "df2 = pd.read_csv(\"./FINANCIAL NEWS/finance_data_with_sentiment.csv\")\n",
    "df3 = df2.drop(\"text\", axis=1).copy()\n",
    "# Convert sentiment to numeric values\n",
    "sentiment_mapping = {'positive': 1, 'neutral': 0, 'negative': -1}\n",
    "df3['sentiment_numeric'] = df3['sentiment'].map(sentiment_mapping)\n",
    "\n",
    "# Calculate adjusted sentiment score (sentiment_numeric * sentiment_score)\n",
    "df3['adjusted_sentiment_score'] = df3['sentiment_numeric'] * df3['sentiment_score']\n",
    "\n",
    "# Convert date column to date-only (removing time)\n",
    "df3['date_only'] = pd.to_datetime(df3['Date']).dt.date\n",
    "\n",
    "df3 = df3[[\"date_only\",\"Stock_symbol\",\"adjusted_sentiment_score\"]]\n",
    "df3 = df3.groupby(['Stock_symbol', 'date_only']).agg({\n",
    "    'adjusted_sentiment_score': 'mean',\n",
    "    # Add other columns here with appropriate aggregations, e.g., 'other_column': 'first'\n",
    "}).reset_index()\n",
    "distinct_values = df3['Stock_symbol'].unique()\n",
    "len(distinct_values)\n",
    "df3.to_csv('output.csv', index=False)\n",
    "df3 = pd.read_csv('output.csv')\n",
    "sp500_tickers = kagglehub.dataset_load(\n",
    "    KaggleDatasetAdapter.PANDAS,\n",
    "    \"andrewmvd/sp-500-stocks\",\n",
    "    \"sp500_companies.csv\",\n",
    ")\n",
    "# Assuming df3 and sp500_tickers are your DataFrames\n",
    "merged_df = pd.merge(df3, sp500_tickers, how='inner', left_on='Stock_symbol', right_on='Symbol')\n",
    "merged_df = merged_df.drop(columns=['Symbol'], errors='ignore')\n",
    "merged_df = merged_df.drop(columns=['Symbol'], errors='ignore')\n",
    "\n",
    "print(\"Merged DataFrame:\")\n",
    "print(merged_df)"
   ]
  }
 ],
 "metadata": {
  "kernelspec": {
   "display_name": "llm",
   "language": "python",
   "name": "python3"
  },
  "language_info": {
   "codemirror_mode": {
    "name": "ipython",
    "version": 3
   },
   "file_extension": ".py",
   "mimetype": "text/x-python",
   "name": "python",
   "nbconvert_exporter": "python",
   "pygments_lexer": "ipython3",
   "version": "3.12.11"
  }
 },
 "nbformat": 4,
 "nbformat_minor": 5
}
